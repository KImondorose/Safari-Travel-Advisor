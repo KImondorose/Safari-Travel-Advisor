{
 "cells": [
  {
   "cell_type": "markdown",
   "metadata": {},
   "source": [
    "# Capstone Group 10 Project\n",
    "## Data Collection"
   ]
  },
  {
   "cell_type": "markdown",
   "metadata": {},
   "source": [
    "# Project Overview\n",
    "\n",
    "The COVID-19 pandemic severely affected the travel industry. International travel has been impacted, and in turn travel companies and travel websites have lost much of their engagement. Post- pandemic a huge economic downturn has also throroughly scraped travel budgets, with [recession fears](https://skift.com/2024/08/05/whats-going-on-with-the-economy-and-how-it-will-impact-the-travel-sector/#:~:text=What%E2%80%99s%20Going%20on%20With%20the%20Economy%3F%20And%20How%20Will%20it%20Impact%20the%20Travel%20Sector%3F) impacting the travel sector\n",
    "\n",
    "However, there is hope on the horizon for international travel and a time where life is somewhat back to normal. In order to increase engagement in the travel industry and increase excitement about travel opportunities, this Travel WordFinder will be created. With the proliferation of information on the internet and the rising cases of fake SEO ranking of pages on Google and other search engines, it has also become difficult to get quick answers surrounding destinations of travel. This calls for the development of products that can ease travel in the future. \n",
    "\n",
    "The Travel WordFinder is a data product that will allow future travelers to get a prediction for their perfect destination with the input of just a few words.\n",
    "\n",
    "Who will use it? Travel agencies can incorporate such as product into their website whereby they can help clients\n",
    "\n",
    " \n",
    "### Methodology & Data Used\n",
    "\n",
    "This project will utilize data from 21 countries recommended by Lonely Planet as 'Best Travel Destinations for 2025', which can be found via [this link](https://www.lonelyplanet.com/best-in-travel). The dataset has been compliled by scraping the titles from Lonely Planet's attractions for each of the 21 countries, including the descriptions for each of the attractions. The final dataset includes 2,600 unique text values.\n",
    "\n",
    "### Steps taken for scraping \n",
    "- For each country in the [Best Travel Destinations for 2025](https://www.lonelyplanet.com/best-in-travel), \n",
    "- Click on the Learn more about the country link e.g for Cameroon - [Learn More about Cameroon](https://www.lonelyplanet.com/cameroon)\n",
    "- This will direct you to another page with `Must See Attractions` where you should click on [View More Attractions](https://www.lonelyplanet.com/cameroon/attractions)\n",
    "- You will see a list of attractions for each country and from here, you can scrape for the titles and descriptions for each. \n",
    "- NOTE: Some countries have more than one page result for the attractions while other have only one. You will see in the code below that there are different functions for each (one page result and more than one page result)\n",
    "\n",
    "The aim will be to model using the attraction name and decsription as the features and the country as the target variable, possibly creating a recommendation system. "
   ]
  },
  {
   "cell_type": "code",
   "execution_count": 726,
   "metadata": {
    "ExecuteTime": {
     "end_time": "2021-01-26T13:09:07.692510Z",
     "start_time": "2021-01-26T13:09:07.030327Z"
    }
   },
   "outputs": [],
   "source": [
    "# Import Statements\n",
    "\n",
    "import requests\n",
    "from bs4 import BeautifulSoup\n",
    "\n",
    "import pandas as pd"
   ]
  },
  {
   "cell_type": "markdown",
   "metadata": {},
   "source": [
    "### Grab the attraction titles for one city"
   ]
  },
  {
   "cell_type": "code",
   "execution_count": 727,
   "metadata": {},
   "outputs": [],
   "source": [
    "# Use link for Cameroon from Lonely Planet\n",
    "\n",
    "url = 'https://www.lonelyplanet.com/cameroon/attractions'\n",
    "\n",
    "html_cameroon = requests.get(url)\n",
    "\n",
    "cameroon_content = html_cameroon.content\n",
    "soup = BeautifulSoup(cameroon_content, 'html.parser')"
   ]
  },
  {
   "cell_type": "code",
   "execution_count": 728,
   "metadata": {},
   "outputs": [
    {
     "name": "stdout",
     "output_type": "stream",
     "text": [
      "<!DOCTYPE html>\n",
      "<html>\n",
      " <head>\n",
      "  <meta charset=\"utf-8\"/>\n",
      "  <meta content=\"width=device-width, initial-scale=1\" name=\"viewport\"/>\n",
      "  <meta content=\"111537044496\" property=\"fb:app_id\"/>\n",
      "  <meta content=\"Lonely Planet\" property=\"og:site_name\"/>\n",
      "  <meta content=\"website\" property=\"og:type\"/>\n",
      "  <meta content=\"summary_large_image\" name=\"twitter:card\"/>\n",
      "  <meta content=\"@lonelyplanet\" name=\"twitter:site\"/>\n",
      "  <meta content=\"15066760\" name=\"twitter:site:id\"/>\n",
      "  <title>\n",
      "   Must-see attractions Cameroon, West Africa - Lonely Planet\n",
      "  </title>\n",
      "  <link href=\"https://www.lonelyplanet.com/cameroon/attractions\" rel=\"canonical\"/>\n",
      "  <meta content=\"https://www.lonelyplanet.com/cameroon/attractions\" property=\"og:url\"/>\n",
      "  <meta content=\"Must-see attractions Cameroon, West Africa - Lonely Planet\" name=\"title\"/>\n",
      "  <meta content=\"Must-see attractions Cameroon, West Africa - Lonely Planet\" property=\"og:title\"/>\n",
      "  <meta content=\"Must-see attractions Cameroon, West Africa - Lonely Planet\" name=\"twitter:title\"/>\n",
      "  <meta content=\"Discover the best attractions in Cameroon including Palais Royal, Chefferie, and Fon's Palace.\" name=\"description\"/>\n",
      "  <meta content=\"Discover the best attractions in Cameroon including Palais Royal, Chefferie, and Fon's Palace.\" property=\"og:description\"/>\n",
      "  <meta content=\"Discover the best attractions in Cameroon including Palais Royal, Chefferie, and Fon's Palace.\" name=\"twitter:description\"/>\n",
      "  <meta content=\"Lonely Planet\" name=\"author\"/>\n",
      "  <meta content=\"18\" name=\"next-head-count\"/>\n",
      "  <link href=\"https://data.lonelyplanet.com\" rel=\"dns-prefetch\"/>\n",
      "  <link href=\"https://assets.lonelyplanet.com\" rel=\"dns-prefetch\"/>\n",
      "  <link href=\"https://lp-cms-production.imgix.net\" rel=\"dns-prefetch\"/>\n",
      "  <meta content=\"#156ff5\" name=\"theme-color\"/>\n",
      "  <link crossorigin=\"anonymous\" href=\"https://cdn.cookielaw.org/scripttemplates/otSDKStub.js\" rel=\"preconnect\"/>\n",
      "  <link href=\"https://cohesion.lonelyplanet.com/\" rel=\"preconnect\"/>\n",
      "  <link href=\"https://ingest.make.rvapps.io/\" rel=\"preconnect\"/>\n",
      "  <link as=\"script\" href=\"https://cohesion.lonelyplanet.com/cohesion/cohesion-latest.min.js\" rel=\"preload\"/>\n",
      "  <script data-nscript=\"beforeInteractive\" id=\"cohesion-script\" type=\"text/javascript\">\n",
      "   !function(co,h,e,s,i,o,n){var d=\"documentElement\";var a=\"className\";h[d][a]+=\" preampjs fusejs\"; n.k=e;co._Cohesion=n;co._Preamp={k:s,start:new Date};co._Fuse={k:i};co._Tagular={k:o}; [e,s,i,o].map(function(x){co[x]=co[x]||function(){(co[x].q=co[x].q||[]).push([].slice.call(arguments))}}); h.addEventListener(\"DOMContentLoaded\",function(){co.setTimeout(function(){ var u=h[d][a];h[d][a]=u.replace(/ ?preampjs| ?fusejs/g,\"\")},3e3); co._Preamp.docReady=co._Fuse.docReady=!0});}(window,document,\"cohesion\",\"preamp\",\"fuse\",\"tagular\",{tagular:{ writeKey: \"wk_1lg1SLc1gApxa9x71IwXDttlgDh\", sourceKey: \"src_1lg1SLNP84Uk7Ocf2fMZGpo1k10\", authCookie: \"lp_asc\", taggy: {enabled: true}, cookieDomain: \"lonelyplanet.com\", domainWhitelist: [\"lonelyplanet.com\"], iframeAllowList: ['https://request.elsewhere.io'], useBeacon: true, apiHost: \"https://beam.lonelyplanet.com/v2/t\" }, preamp:{ enabled: false }, monarch: {token: '9c67fe1d-f538-400a-908b-4dce6371a4f7', sourceId: 'cbb6e396-b461-452c-bf13-7c6b19b13f8d', endpoint: 'https://monarch.lonelyplanet.com'}, consent: { onetrust: { enabled: true, optIn: true, timeout: 2500, },}})\n",
      "  </script>\n",
      "  <link as=\"style\" href=\"/_next/static/css/9daa19b1bea4631e.css\" rel=\"preload\"/>\n",
      "  <link data-n-g=\"\" href=\"/_next/static/css/9daa19b1bea4631e.css\" rel=\"stylesheet\"/>\n",
      "  <link as=\"style\" href=\"/_next/static/css/08cb55e212ee796d.css\" rel=\"preload\"/>\n",
      "  <link data-n-p=\"\" href=\"/_next/static/css/08cb55e212ee796d.css\" rel=\"stylesheet\"/>\n",
      "  <noscript data-n-css=\"\">\n",
      "  </noscript>\n",
      "  <script defer=\"\" nomodule=\"\" src=\"/_next/static/chunks/polyfills-c67a75d1b6f99dc8.js\">\n",
      "  </script>\n",
      "  <script defer=\"\" src=\"/_next/static/chunks/webpack-7d69bef5d210ab1e.js\">\n",
      "  </script>\n",
      "  <script defer=\"\" src=\"/_next/static/chunks/framework-31facb1accd933ea.js\">\n",
      "  </script>\n",
      "  <script defer=\"\" src=\"/_next/static/chunks/main-38fec9a214dd352c.js\">\n",
      "  </script>\n",
      "  <script defer=\"\" src=\"/_next/static/chunks/pages/_app-9e2a734d94ae6458.js\">\n",
      "  </script>\n",
      "  <script defer=\"\" src=\"/_next/static/chunks/2c796e83-6b38718bd20cd765.js\">\n",
      "  </script>\n",
      "  <script defer=\"\" src=\"/_next/static/chunks/943-44681ea06e3ba245.js\">\n",
      "  </script>\n",
      "  <script defer=\"\" src=\"/_next/static/chunks/1450-5a5df7ea79391c6a.js\">\n",
      "  </script>\n",
      "  <script defer=\"\" src=\"/_next/static/chunks/9119-5313b593b57f6323.js\">\n",
      "  </script>\n",
      "  <script defer=\"\" src=\"/_next/static/chunks/7771-84acff7faf61b7ae.js\">\n",
      "  </script>\n",
      "  <script defer=\"\" src=\"/_next/static/chunks/5143-e4f090a0a3943547.js\">\n",
      "  </script>\n",
      "  <script defer=\"\" src=\"/_next/static/chunks/6888-642dcef888753ffa.js\">\n",
      "  </script>\n",
      "  <script defer=\"\" src=\"/_next/static/chunks/pages/pois/list-581eee7bde56dac5.js\">\n",
      "  </script>\n",
      "  <script defer=\"\" src=\"/_next/static/b66ed3eac1fa2fbfec4ae3df505d0111e84e5c23/_buildManifest.js\">\n",
      "  </script>\n",
      "  <script defer=\"\" src=\"/_next/static/b66ed3eac1fa2fbfec4ae3df505d0111e84e5c23/_ssgManifest.js\">\n",
      "  </script>\n",
      "  <style id=\"__jsx-899198629\">\n",
      "   .carousel.jsx-899198629{-webkit-scroll-snap-type:x mandatory;-ms-scroll-snap-type:x mandatory;scroll-snap-type:x mandatory;scroll-behavior:smooth;-webkit-overflow-scrolling:touch;-ms-overflow-style:none;scrollbar-width:none;scroll-padding-right:0}.carousel.jsx-899198629::-webkit-scrollbar{display:none}.carousel-item.jsx-899198629{scroll-snap-align:start}\n",
      "  </style>\n",
      "  <style id=\"__jsx-21109142f51e79b3\">\n",
      "   .lp_consent .show-cookie-settings.jsx-21109142f51e79b3{display:block}.grid-layout.jsx-21109142f51e79b3{grid-template-areas:\"l c tr\"\"l c br\"}.fn-0.jsx-21109142f51e79b3{grid-area:l}.fn-1.jsx-21109142f51e79b3{grid-area:c}.fn-2.jsx-21109142f51e79b3{grid-area:tr}.fn-3.jsx-21109142f51e79b3{grid-area:br}\n",
      "  </style>\n",
      " </head>\n",
      " <body>\n",
      "  <div id=\"__next\">\n",
      "   <div class=\"relative\">\n",
      "    <header class=\"bg-white z-50 relative\">\n",
      "     <nav aria-label=\"Global Nav\" class=\"md:@container container flex items-center justify-between gap-x-6 lg:gap-x-12\">\n",
      "      <div class=\"flex gap-x-6 lg:gap-x-12\">\n",
      "       <a aria-label=\"Lonely Planet homepage\" class=\"-m-1.5 p-1.5\" href=\"/\">\n",
      "        <span class=\"sr-only\">\n",
      "         Lonely Planet\n",
      "        </span>\n",
      "        <svg aria-hidden=\"true\" class=\"text-5xl text-blue\" fill=\"currentColor\" height=\"1em\" viewbox=\"0 0 711.06 98.68\" width=\"2em\" xmlns=\"http://www.w3.org/2000/svg\">\n",
      "         <path d=\"M219.05 75.21c-10.54 0-16.72-6.28-16.72-16.93V0h15.76v57.32c0 3 1.28 4.48 4.16 4.48h3.83v13.41ZM500.31 75.21c-10.54 0-16.72-6.28-16.72-16.93V0h15.76v57.32c0 3 1.28 4.48 4.16 4.48h3.83v13.41Z\">\n",
      "         </path>\n",
      "         <path d=\"M278.13 21.77h-15.76v29c0 7.45-3.83 10.65-8.94 10.65s-9-3.2-9-10.65v-29h-15.71v29.94c0 14.69 11 23.53 23.08 23.53 3.86 0 9.54-2 10.7-5.71v2.74c0 8.52-6 12.67-12.68 12.67a16.23 16.23 0 0 1-13.95-7.13L225.33 87c6.39 9.37 16.61 11.71 24.07 11.71 17.36 0 28.75-10.22 28.75-27.37V21.77ZM27 47.52c0-17.14 12.25-29.07 28.86-29.07s29 11.93 29 29.07-12.28 29.08-29 29.08S27 64.67 27 47.52Zm41.75 0c0-9.79-5.54-15.12-12.89-15.12s-12.67 5.33-12.67 15.12 5.43 15.23 12.67 15.23 12.89-5.43 12.89-15.23ZM197.26 51.46h-37.6c1.18 8.42 6 11.82 12.89 11.82 5.43 0 9.58-1.81 12.57-6.28L196 65.84c-5.35 7.24-14 10.76-23.45 10.76-17.15 0-28.86-11.61-28.86-29.08 0-17.14 11.18-29.07 27.26-29.07 15.66 0 26.41 11.82 26.41 29.07 0 1.17 0 2.77-.1 3.94ZM160 41h21.6c-1.38-7.14-5.22-10.12-10.65-10.12-6 0-9.69 3.19-11 10.12ZM678.21 51.46h-37.59c1.17 8.42 6 11.82 12.89 11.82 5.43 0 9.58-1.81 12.56-6.28l10.86 8.84C671.61 73.08 663 76.6 653.51 76.6c-17.15 0-28.86-11.61-28.86-29.08 0-17.14 11.18-29.07 27.26-29.07 15.65 0 26.41 11.82 26.41 29.07 0 1.17 0 2.77-.11 3.94ZM640.94 41h21.62c-1.39-7.14-5.22-10.12-10.65-10.12-5.97.03-9.69 3.22-10.97 10.12ZM508.35 47.56c0 16.45 10.93 29.16 25.13 29.16 7.8 0 12.46-3.53 15.77-8.55v7H565V47.56c0-23-17.31-29.16-28-29.16-18.27 0-28.65 12.71-28.65 29.16Zm16.12.1c0-9.82 5.13-15.27 12.5-15.27s12.5 5.45 12.5 15.27-5.13 15.17-12.47 15.17-12.5-5.34-12.5-15.17ZM711.06 34H699v20.13q0 7.66 6.06 7.67h6v13.41h-8c-12.46 0-19.81-7.66-19.81-20.44V3l15.75.17v18.6h12ZM16.72 75.25C6.18 75.25 0 69 0 58.31V0h15.76v57.36c0 3 1.28 4.47 4.15 4.47h3.84v13.42ZM449.57 18.43c-10.69 0-28 6.2-28 29.16v45.82h15.7v-25.2c3.31 5 8 8.54 15.78 8.54 14.2 0 25.13-12.71 25.13-29.16s-10.4-29.16-28.61-29.16Zm0 44.44c-7.37 0-12.5-5.34-12.5-15.17s5.13-15.27 12.5-15.27S462 37.87 462 47.7s-5.12 15.17-12.49 15.17ZM139.11 42v33.21h-15.76V42.94c0-7.45-3.84-10.64-8.95-10.64s-8.94 3.19-8.94 10.64v32.27H89.69V42c0-14.7 10.65-23.54 24.71-23.54s24.71 8.83 24.71 23.54ZM620.56 42v33.21H604.8V42.94c0-7.45-3.84-10.64-8.95-10.64s-8.94 3.19-8.94 10.64v32.27h-15.76V42c0-14.7 10.64-23.54 24.7-23.54s24.71 8.83 24.71 23.54ZM350.12 1.05a45.71 45.71 0 1 0 17.48 3.48 45.66 45.66 0 0 0-17.48-3.48Zm1.95 87.45a42.38 42.38 0 0 1-9.67-.69.32.32 0 0 1-.2-.12.42.42 0 0 1-.08-.21.35.35 0 0 1 .08-.22.32.32 0 0 1 .2-.12c2.69-.54 7.94-1.91 12-4.91 3.86-2.86 6.85-7.51 4.62-13.18C353.81 55.8 338.28 59 336 59.6h-.11a.2.2 0 0 1-.09-.05.24.24 0 0 1-.06-.08.36.36 0 0 1 0-.1l.57-9.63c1-9-.88-12.18-.88-12.18-4.6-9.15-14.77-7.19-14.77-7.19a11.72 11.72 0 0 0-4.75 2 16.94 16.94 0 0 0-6.54 9.63.35.35 0 0 1-.14.2.34.34 0 0 1-.24.06.35.35 0 0 1-.29-.35 28.2 28.2 0 0 1 1.36-7 41.94 41.94 0 0 1 48.82-29.23.42.42 0 0 1 .24.14.46.46 0 0 1 .11.27.41.41 0 0 1-.09.26.41.41 0 0 1-.23.16 15 15 0 0 0-6.57 3.61s-3.86 3-4.31 10.49a23.17 23.17 0 0 0 .44 5.93l3.83 19.31a11 11 0 0 0 4.33 6.83 8.52 8.52 0 0 0 6.27 1.61s8.47-.39 7.1-8.8l-1-5a.54.54 0 0 1 0-.18.69.69 0 0 1 .07-.15.46.46 0 0 1 .12-.12.52.52 0 0 1 .16-.06c2.39-.38 13.63-2.94 14.24-17.37a.45.45 0 0 1 .09-.25.48.48 0 0 1 .22-.15.46.46 0 0 1 .26 0 .51.51 0 0 1 .21.15 41.88 41.88 0 0 1-32.3 66.14Z\">\n",
      "         </path>\n",
      "        </svg>\n",
      "       </a>\n",
      "      </div>\n",
      "      <div class=\"hidden lg:flex lg:self-stretch lg:gap-x-12\">\n",
      "       <div class=\"relative\" data-headlessui-state=\"\">\n",
      "        <button aria-expanded=\"false\" class=\"relative flex items-center gap-x-1 h-full font-semibold text-black hover:text-blue focus:outline-none focus:text-blue\" data-headlessui-state=\"\">\n",
      "         Destinations\n",
      "         <svg class=\"absolute left-0 right-0 -bottom-1 mx-auto translate-y-full text-white hidden\" fill=\"none\" height=\"16\" viewbox=\"0 0 18 16\" width=\"18\" xmlns=\"http://www.w3.org/2000/svg\">\n",
      "          <path d=\"M8.49348 0L17.9794 15.5138H0.0615234L8.49348 0Z\" fill=\"currentColor\">\n",
      "          </path>\n",
      "         </svg>\n",
      "        </button>\n",
      "       </div>\n",
      "       <div class=\"relative\" data-headlessui-state=\"\">\n",
      "        <button aria-expanded=\"false\" class=\"relative flex items-center gap-x-1 h-full font-semibold text-black hover:text-blue focus:outline-none focus:text-blue\" data-headlessui-state=\"\">\n",
      "         Planning\n",
      "         <svg class=\"absolute left-0 right-0 -bottom-1 mx-auto translate-y-full text-white hidden\" fill=\"none\" height=\"16\" viewbox=\"0 0 18 16\" width=\"18\" xmlns=\"http://www.w3.org/2000/svg\">\n",
      "          <path d=\"M8.49348 0L17.9794 15.5138H0.0615234L8.49348 0Z\" fill=\"currentColor\">\n",
      "          </path>\n",
      "         </svg>\n",
      "        </button>\n",
      "       </div>\n",
      "       <div class=\"relative\" data-headlessui-state=\"\">\n",
      "        <button aria-expanded=\"false\" class=\"relative flex items-center gap-x-1 h-full font-semibold text-black hover:text-blue focus:outline-none focus:text-blue\" data-headlessui-state=\"\">\n",
      "         Inspiration\n",
      "         <svg class=\"absolute left-0 right-0 -bottom-1 mx-auto translate-y-full text-white hidden\" fill=\"none\" height=\"16\" viewbox=\"0 0 18 16\" width=\"18\" xmlns=\"http://www.w3.org/2000/svg\">\n",
      "          <path d=\"M8.49348 0L17.9794 15.5138H0.0615234L8.49348 0Z\" fill=\"currentColor\">\n",
      "          </path>\n",
      "         </svg>\n",
      "        </button>\n",
      "       </div>\n",
      "       <div class=\"relative\" data-headlessui-state=\"\">\n",
      "        <button aria-expanded=\"false\" class=\"relative flex items-center gap-x-1 h-full font-semibold text-black hover:text-blue focus:outline-none focus:text-blue\" data-headlessui-state=\"\">\n",
      "         Shop\n",
      "         <svg class=\"absolute left-0 right-0 -bottom-1 mx-auto translate-y-full text-white hidden\" fill=\"none\" height=\"16\" viewbox=\"0 0 18 16\" width=\"18\" xmlns=\"http://www.w3.org/2000/svg\">\n",
      "          <path d=\"M8.49348 0L17.9794 15.5138H0.0615234L8.49348 0Z\" fill=\"currentColor\">\n",
      "          </path>\n",
      "         </svg>\n",
      "        </button>\n",
      "       </div>\n",
      "      </div>\n",
      "      <div hidden=\"\" style=\"position:fixed;top:1px;left:1px;width:1px;height:0;padding:0;margin:-1px;overflow:hidden;clip:rect(0, 0, 0, 0);white-space:nowrap;border-width:0;display:none\">\n",
      "      </div>\n",
      "      <div class=\"flex justify-end flex-1 md:self-stretch\">\n",
      "       <div class=\"relative\" data-headlessui-state=\"\">\n",
      "        <button aria-expanded=\"false\" class=\"relative mr-4 lg:mr-8 flex items-center gap-x-1 h-full font-semibold text-black hover:text-blue focus:outline-none focus:text-blue\" data-headlessui-state=\"\" type=\"button\">\n",
      "         <svg aria-hidden=\"true\" class=\"inline-flex\" fill=\"currentColor\" height=\"20\" viewbox=\"0 0 16 16\" width=\"20\" xmlns=\"http://www.w3.org/2000/svg\">\n",
      "          <path d=\"M15.3542 14.646L11.9312 11.224C13.028 9.94433 13.5865 8.28959 13.4896 6.60701C13.3926 4.92443 12.6476 3.34483 11.411 2.19971C10.1744 1.05458 8.54232 0.432967 6.85726 0.465313C5.1722 0.49766 3.56517 1.18145 2.37343 2.37319C1.1817 3.56493 0.497904 5.17196 0.465557 6.85702C0.433211 8.54208 1.05483 10.1742 2.19995 11.4108C3.34507 12.6474 4.92467 13.3923 6.60725 13.4893C8.28983 13.5863 9.94457 13.0278 11.2242 11.931L14.6462 15.354C14.7401 15.4478 14.8674 15.5006 15.0002 15.5006C15.133 15.5006 15.2603 15.4478 15.3542 15.354C15.4481 15.2601 15.5008 15.1327 15.5008 15C15.5008 14.8672 15.4481 14.7398 15.3542 14.646ZM1.5002 6.99996C1.5002 5.91216 1.82277 4.84879 2.42712 3.94432C3.03147 3.03985 3.89045 2.3349 4.89544 1.91862C5.90044 1.50234 7.0063 1.39342 8.0732 1.60564C9.14009 1.81786 10.1201 2.34168 10.8893 3.11087C11.6585 3.88006 12.1823 4.86007 12.3945 5.92696C12.6067 6.99386 12.4978 8.09972 12.0815 9.10472C11.6653 10.1097 10.9603 10.9687 10.0558 11.573C9.15137 12.1774 8.088 12.5 7.0002 12.5C5.542 12.4984 4.14398 11.9184 3.11287 10.8873C2.08176 9.85618 1.50179 8.45816 1.5002 6.99996Z\">\n",
      "          </path>\n",
      "         </svg>\n",
      "         <span class=\"hidden md:inline ml-2\">\n",
      "          Search\n",
      "         </span>\n",
      "        </button>\n",
      "       </div>\n",
      "       <div hidden=\"\" style=\"position:fixed;top:1px;left:1px;width:1px;height:0;padding:0;margin:-1px;overflow:hidden;clip:rect(0, 0, 0, 0);white-space:nowrap;border-width:0;display:none\">\n",
      "       </div>\n",
      "       <a class=\"flex items-center mr-4 font-semibold text-black transition-colors hover:bg-white hover:text-blue focus:outline-none focus:text-blue\" data-title=\"saves\" data-url=\"/profile/saves\" href=\"/profile/saves\">\n",
      "        <svg aria-hidden=\"true\" class=\"inline-flex\" fill=\"currentColor\" height=\"20\" viewbox=\"0 0 14 20\" width=\"20\" xmlns=\"http://www.w3.org/2000/svg\">\n",
      "         <path d=\"M12 0.625H2C1.50272 0.625 1.02581 0.822544 0.674175 1.17417C0.322544 1.52581 0.125 2.00272 0.125 2.5V18.75C0.125941 18.8607 0.15514 18.9693 0.20983 19.0656C0.264519 19.1618 0.342886 19.2425 0.4375 19.3C0.535537 19.3525 0.645032 19.38 0.75625 19.38C0.867468 19.38 0.976963 19.3525 1.075 19.3L7 15.725L12.925 19.2875C13.0228 19.3471 13.1355 19.3774 13.25 19.375C13.3585 19.3741 13.4654 19.3485 13.5625 19.3C13.6571 19.2425 13.7355 19.1618 13.7902 19.0656C13.8449 18.9693 13.8741 18.8607 13.875 18.75V2.5C13.875 2.00272 13.6775 1.52581 13.3258 1.17417C12.9742 0.822544 12.4973 0.625 12 0.625ZM12.625 17.65L7.325 14.4625C7.22619 14.4054 7.1141 14.3754 7 14.3754C6.8859 14.3754 6.77381 14.4054 6.675 14.4625L1.375 17.65V2.5C1.375 2.33424 1.44085 2.17527 1.55806 2.05806C1.67527 1.94085 1.83424 1.875 2 1.875H12C12.1658 1.875 12.3247 1.94085 12.4419 2.05806C12.5592 2.17527 12.625 2.33424 12.625 2.5V17.65Z\">\n",
      "         </path>\n",
      "        </svg>\n",
      "        <span class=\"hidden ml-2 md:inline\">\n",
      "         Saves\n",
      "        </span>\n",
      "       </a>\n",
      "       <div class=\"relative\" data-headlessui-state=\"\">\n",
      "       </div>\n",
      "       <div hidden=\"\" style=\"position:fixed;top:1px;left:1px;width:1px;height:0;padding:0;margin:-1px;overflow:hidden;clip:rect(0, 0, 0, 0);white-space:nowrap;border-width:0;display:none\">\n",
      "       </div>\n",
      "       <button class=\"lg:hidden items-center justify-between py-2.5 pl-2.5 text-black\" type=\"button\">\n",
      "        <span class=\"sr-only\">\n",
      "         Open main menu\n",
      "        </span>\n",
      "        <svg aria-hidden=\"true\" class=\"inline-flex\" fill=\"currentColor\" height=\"20\" viewbox=\"0 0 14 12\" width=\"20\" xmlns=\"http://www.w3.org/2000/svg\">\n",
      "         <path d=\"M1 11.25H13C13.1989 11.25 13.3897 11.171 13.5303 11.0303C13.671 10.8897 13.75 10.6989 13.75 10.5C13.75 10.3011 13.671 10.1103 13.5303 9.96967C13.3897 9.82902 13.1989 9.75 13 9.75H1C0.801088 9.75 0.610323 9.82902 0.46967 9.96967C0.329018 10.1103 0.25 10.3011 0.25 10.5C0.25 10.6989 0.329018 10.8897 0.46967 11.0303C0.610323 11.171 0.801088 11.25 1 11.25Z\">\n",
      "         </path>\n",
      "         <path d=\"M1 6.75H11C11.1989 6.75 11.3897 6.67098 11.5303 6.53033C11.671 6.38968 11.75 6.19891 11.75 6C11.75 5.80109 11.671 5.61032 11.5303 5.46967C11.3897 5.32902 11.1989 5.25 11 5.25H1C0.801088 5.25 0.610323 5.32902 0.46967 5.46967C0.329018 5.61032 0.25 5.80109 0.25 6C0.25 6.19891 0.329018 6.38968 0.46967 6.53033C0.610323 6.67098 0.801088 6.75 1 6.75Z\">\n",
      "         </path>\n",
      "         <path d=\"M13 0.75H1C0.801088 0.75 0.610323 0.829018 0.46967 0.96967C0.329018 1.11032 0.25 1.30109 0.25 1.5C0.25 1.69891 0.329018 1.88968 0.46967 2.03033C0.610323 2.17098 0.801088 2.25 1 2.25H13C13.1989 2.25 13.3897 2.17098 13.5303 2.03033C13.671 1.88968 13.75 1.69891 13.75 1.5C13.75 1.30109 13.671 1.11032 13.5303 0.96967C13.3897 0.829018 13.1989 0.75 13 0.75Z\">\n",
      "         </path>\n",
      "        </svg>\n",
      "       </button>\n",
      "      </div>\n",
      "     </nav>\n",
      "    </header>\n",
      "    <main>\n",
      "     <div class=\"container\">\n",
      "      <header>\n",
      "       <nav aria-label=\"Breadcrumbs\" class=\"mb-4 w-full\">\n",
      "        <ol itemscope=\"\" itemtype=\"http://schema.org/BreadcrumbList\">\n",
      "         <li class=\"font-semibold inline\" data-testid=\"breadcrumb\" itemprop=\"itemListElement\" itemscope=\"\" itemtype=\"http://schema.org/ListItem\">\n",
      "          <a class=\"transition-colors ease-out cursor-pointer inline-block text-black hover:text-blue link-underline\" href=\"/africa\" id=\"africa\" itemprop=\"item\">\n",
      "           <span itemprop=\"name\">\n",
      "            Africa\n",
      "           </span>\n",
      "          </a>\n",
      "          <meta content=\"1\" itemprop=\"position\"/>\n",
      "         </li>\n",
      "        </ol>\n",
      "       </nav>\n",
      "       <h1 class=\"text-4xl md:text-5xl font-display leading-tight font-semibold my-8\" data-testid=\"page-heading\">\n",
      "        Must-see attractions in Cameroon\n",
      "       </h1>\n",
      "      </header>\n",
      "      <section>\n",
      "       <nav class=\"flex justify-between\">\n",
      "        <ul class=\"flex flex-wrap gap-2.5 lg:gap-3.5\">\n",
      "         <li>\n",
      "          <a class=\"btn btn-dark inline-flex items-center\" data-testid=\"a\" href=\"/cameroon/attractions\">\n",
      "           <svg aria-hidden=\"true\" class=\"mr-1.5 lg:mr-2.5/ size-4\" fill=\"currentColor\" height=\"1em\" viewbox=\"0 0 40 40\" width=\"1em\" xmlns=\"http://www.w3.org/2000/svg\">\n",
      "            <path d=\"M20.716 7.34598C20.5338 7.18675 20.3 7.099 20.058 7.099C19.816 7.099 19.5822 7.18675 19.4 7.34598L16.367 9.99499C16.2596 10.0888 16.1735 10.2046 16.1145 10.3345C16.0555 10.4644 16.025 10.6053 16.025 10.748C16.025 10.8906 16.0555 11.0316 16.1145 11.1615C16.1735 11.2914 16.2596 11.4071 16.367 11.501L19.4 14.151C19.5822 14.3102 19.816 14.398 20.058 14.398C20.3 14.398 20.5338 14.3102 20.716 14.151L23.749 11.501C23.8564 11.4071 23.9425 11.2914 24.0015 11.1615C24.0605 11.0316 24.091 10.8906 24.091 10.748C24.091 10.6053 24.0605 10.4644 24.0015 10.3345C23.9425 10.2046 23.8564 10.0888 23.749 9.99499L20.716 7.34598Z\" fill=\"currentColor\">\n",
      "            </path>\n",
      "            <path d=\"M35.071 18.338L37.5 13.759C37.5807 13.6066 37.6206 13.4359 37.6159 13.2635C37.6111 13.0911 37.5619 12.9229 37.4729 12.7751C37.384 12.6274 37.2583 12.5052 37.1082 12.4203C36.958 12.3355 36.7885 12.2909 36.616 12.291H34.023L20.693 1.31798C20.514 1.17064 20.2893 1.09008 20.0575 1.09008C19.8257 1.09008 19.601 1.17064 19.422 1.31798L6.093 12.291H3.477C3.30454 12.2909 3.135 12.3355 2.98485 12.4203C2.83469 12.5052 2.70903 12.6274 2.62006 12.7751C2.5311 12.9229 2.48185 13.0911 2.47711 13.2635C2.47237 13.4359 2.51229 13.6066 2.593 13.759L5.018 18.338C5.09427 18.4783 5.20338 18.598 5.336 18.687V30.459H3.478C3.21279 30.459 2.95843 30.5643 2.7709 30.7519C2.58336 30.9394 2.478 31.1938 2.478 31.459V36.722C2.478 36.9872 2.58336 37.2416 2.7709 37.4291C2.95843 37.6166 3.21279 37.722 3.478 37.722H36.612C36.8772 37.722 37.1316 37.6166 37.3191 37.4291C37.5066 37.2416 37.612 36.9872 37.612 36.722V31.459C37.612 31.1938 37.5066 30.9394 37.3191 30.7519C37.1316 30.5643 36.8772 30.459 36.612 30.459H34.664V18.744C34.8365 18.6514 34.978 18.5102 35.071 18.338ZM5.138 14.291H12.3C12.5652 14.291 12.8196 14.1856 13.0071 13.9981C13.1946 13.8106 13.3 13.5562 13.3 13.291C13.3 13.0258 13.1946 12.7714 13.0071 12.5839C12.8196 12.3963 12.5652 12.291 12.3 12.291H9.24L20.058 3.38398L30.875 12.289H27.723C27.4578 12.289 27.2034 12.3943 27.0159 12.5819C26.8284 12.7694 26.723 13.0238 26.723 13.289C26.723 13.5542 26.8284 13.8086 27.0159 13.9961C27.2034 14.1836 27.4578 14.289 27.723 14.289H34.951L33.585 16.868H6.5L5.138 14.291ZM28.4 30.459H23.132V18.87H28.4V30.459ZM11.6 18.87H16.867V30.459H11.6V18.87ZM18.867 18.87H21.131V30.459H18.868L18.867 18.87ZM7.335 18.87H9.6V30.459H7.336L7.335 18.87ZM35.612 32.459V35.722H4.478V32.459H35.612ZM30.399 30.459V18.87H32.664V30.459H30.399Z\" fill=\"currentColor\">\n",
      "            </path>\n",
      "           </svg>\n",
      "           Sights\n",
      "          </a>\n",
      "         </li>\n",
      "         <li>\n",
      "          <a class=\"btn inline-flex items-center\" data-testid=\"a\" href=\"/cameroon/restaurants\">\n",
      "           <svg aria-hidden=\"true\" class=\"mr-1.5 lg:mr-2.5/ size-4\" fill=\"none\" height=\"1em\" viewbox=\"0 0 96 96\" width=\"1em\" xmlns=\"http://www.w3.org/2000/svg\">\n",
      "            <path d=\"M65.0408 92.4241H64.3478C61.9129 92.4241 59.9275 90.4387 59.9275 88.0038V36.0279C59.9275 35.0539 59.1408 34.2673 58.1669 34.2673C55.732 34.2673 53.7466 32.2819 53.7466 29.847V3.90582C53.7466 3.17535 54.3459 2.57599 55.0764 2.57599C55.8069 2.57599 56.4063 3.17535 56.4063 3.90582V29.847C56.4063 30.8209 57.1929 31.6076 58.1669 31.6076C60.6018 31.6076 62.5872 33.593 62.5872 36.0279V88.0038C62.5872 88.9778 63.3738 89.7644 64.3478 89.7644H65.0408C66.0148 89.7644 66.8014 88.9778 66.8014 88.0038V36.0279C66.8014 33.593 68.7868 31.6076 71.2217 31.6076C72.1957 31.6076 72.9824 30.8209 72.9824 29.847V3.90582C72.9824 3.17535 73.5817 2.57599 74.3122 2.57599C75.0427 2.57599 75.642 3.17535 75.642 3.90582V29.847C75.642 32.2819 73.6566 34.2673 71.2217 34.2673C70.2478 34.2673 69.4611 35.0539 69.4611 36.0279V88.0038C69.4611 90.4387 67.4757 92.4241 65.0408 92.4241Z\" fill=\"currentColor\">\n",
      "            </path>\n",
      "            <path clip-rule=\"evenodd\" d=\"M55.0764 3.1519C54.6641 3.1519 54.3226 3.4934 54.3226 3.90578V29.8469C54.3226 31.9637 56.0501 33.6913 58.1669 33.6913C59.459 33.6913 60.5035 34.7358 60.5035 36.0278V88.0038C60.5035 90.1206 62.231 91.8481 64.3478 91.8481H65.0408C67.1577 91.8481 68.8852 90.1206 68.8852 88.0038V36.0278C68.8852 34.7358 69.9297 33.6913 71.2218 33.6913C73.3386 33.6913 75.0661 31.9637 75.0661 29.8469V3.90578C75.0661 3.4934 74.7246 3.1519 74.3122 3.1519C73.8998 3.1519 73.5583 3.4934 73.5583 3.90578V29.8469C73.5583 31.139 72.5138 32.1835 71.2218 32.1835C69.1049 32.1835 67.3774 33.911 67.3774 36.0278V88.0038C67.3774 89.2958 66.3329 90.3403 65.0408 90.3403H64.3478C63.0558 90.3403 62.0112 89.2958 62.0112 88.0038V36.0278C62.0112 33.911 60.2837 32.1835 58.1669 32.1835C56.8748 32.1835 55.8303 31.139 55.8303 29.8469V3.90578C55.8303 3.4934 55.4888 3.1519 55.0764 3.1519ZM53.1707 3.90578C53.1707 2.85722 54.0279 2 55.0764 2C56.125 2 56.9822 2.85722 56.9822 3.90578V29.8469C56.9822 30.5028 57.511 31.0316 58.1669 31.0316C60.9199 31.0316 63.1631 33.2748 63.1631 36.0278V88.0038C63.1631 88.6596 63.6919 89.1884 64.3478 89.1884H65.0408C65.6967 89.1884 66.2255 88.6596 66.2255 88.0038V36.0278C66.2255 33.2748 68.4688 31.0316 71.2218 31.0316C71.8776 31.0316 72.4064 30.5028 72.4064 29.8469V3.90578C72.4064 2.85722 73.2637 2 74.3122 2C75.3608 2 76.218 2.85722 76.218 3.90578V29.8469C76.218 32.5999 73.9748 34.8432 71.2218 34.8432C70.5659 34.8432 70.0371 35.372 70.0371 36.0278V88.0038C70.0371 90.7568 67.7938 93 65.0408 93H64.3478C61.5948 93 59.3516 90.7568 59.3516 88.0038V36.0278C59.3516 35.372 58.8228 34.8432 58.1669 34.8432C55.4139 34.8432 53.1707 32.5999 53.1707 29.8469V3.90578Z\" fill=\"currentColor\" fill-rule=\"evenodd\">\n",
      "            </path>\n",
      "            <path d=\"M61.3511 24.2467C60.6206 24.2467 60.0212 23.6473 60.0212 22.9168V3.90582C60.0212 3.17535 60.6206 2.57599 61.3511 2.57599C62.0815 2.57599 62.6809 3.17535 62.6809 3.90582V22.9168C62.6809 23.6473 62.0815 24.2467 61.3511 24.2467Z\" fill=\"currentColor\">\n",
      "            </path>\n",
      "            <path clip-rule=\"evenodd\" d=\"M61.3511 3.1519C60.9387 3.1519 60.5972 3.4934 60.5972 3.90578V22.9168C60.5972 23.3292 60.9387 23.6707 61.3511 23.6707C61.7635 23.6707 62.105 23.3292 62.105 22.9168V3.90578C62.105 3.4934 61.7635 3.1519 61.3511 3.1519ZM59.4453 3.90578C59.4453 2.85722 60.3025 2 61.3511 2C62.3997 2 63.2569 2.85722 63.2569 3.90578V22.9168C63.2569 23.9653 62.3997 24.8226 61.3511 24.8226C60.3025 24.8226 59.4453 23.9654 59.4453 22.9168V3.90578Z\" fill=\"currentColor\" fill-rule=\"evenodd\">\n",
      "            </path>\n",
      "            <path d=\"M68.0566 24.2467C67.3262 24.2467 66.7268 23.6473 66.7268 22.9168V3.90582C66.7268 3.17535 67.3262 2.57599 68.0566 2.57599C68.7871 2.57599 69.3865 3.17535 69.3865 3.90582V22.9168C69.3865 23.6473 68.7871 24.2467 68.0566 24.2467Z\" fill=\"currentColor\">\n",
      "            </path>\n",
      "            <path clip-rule=\"evenodd\" d=\"M68.0567 3.1519C67.6443 3.1519 67.3028 3.4934 67.3028 3.90578V22.9168C67.3028 23.3292 67.6443 23.6707 68.0567 23.6707C68.469 23.6707 68.8105 23.3292 68.8105 22.9168V3.90578C68.8105 3.4934 68.469 3.1519 68.0567 3.1519ZM66.1509 3.90578C66.1509 2.85722 67.0081 2 68.0567 2C69.1052 2 69.9624 2.85722 69.9624 3.90578V22.9168C69.9624 23.9653 69.1052 24.8226 68.0567 24.8226C67.0081 24.8226 66.1509 23.9654 66.1509 22.9168V3.90578Z\" fill=\"currentColor\" fill-rule=\"evenodd\">\n",
      "            </path>\n",
      "            <path d=\"M34.0428 91.8247C31.5517 91.8247 29.5476 89.8019 29.5476 87.3295V37.7136C29.5476 36.6834 28.9857 35.7282 28.0305 35.1288C23.4416 32.1882 20.5759 26.307 20.5759 19.7515C20.5759 10.274 26.6257 2.57599 34.0428 2.57599C41.4599 2.57599 47.5098 10.274 47.5098 19.7515C47.5098 26.307 44.6441 32.1882 40.0365 35.1101C39.1 35.7095 38.5193 36.6834 38.5193 37.6949V87.3108C38.5193 89.8019 36.4965 91.806 34.0241 91.806L34.0428 91.8247ZM34.0428 5.23566C28.0867 5.23566 23.2356 11.735 23.2356 19.7515C23.2356 25.3143 25.6892 30.465 29.454 32.8625C31.1771 33.9488 32.2073 35.7657 32.2073 37.6949V87.3108C32.2073 88.3222 33.0314 89.1463 34.0428 89.1463C35.0543 89.1463 35.8784 88.3222 35.8784 87.3108V37.6949C35.8784 35.7469 36.9085 33.9488 38.6317 32.8625C42.4152 30.465 44.8501 25.3143 44.8501 19.7515C44.8501 11.7537 39.999 5.23566 34.0428 5.23566Z\" fill=\"currentColor\">\n",
      "            </path>\n",
      "            <path clip-rule=\"evenodd\" d=\"M34.0429 3.1519C27.0661 3.1519 21.1519 10.4542 21.1519 19.7514C21.1519 26.1539 23.9509 31.8291 28.3391 34.6425C29.4411 35.335 30.1236 36.464 30.1236 37.7135V87.3295C30.1236 89.356 31.6681 91.0358 33.6571 91.23H34.0241C36.18 91.23 37.9434 89.4822 37.9434 87.3108V37.6948C37.9434 36.4599 38.6483 35.3147 39.726 34.625L39.728 34.6237C44.1339 31.8297 46.9338 26.1553 46.9338 19.7514C46.9338 10.4542 41.0196 3.1519 34.0429 3.1519ZM35.2619 92.2294L35.4331 92.4006H34.0429C31.2321 92.4006 28.9717 90.1184 28.9717 87.3295V37.7135C28.9717 36.9037 28.5314 36.123 27.7244 35.6167L27.7198 35.6137C22.9315 32.5453 20 26.4589 20 19.7514C20 10.0939 26.1854 2 34.0429 2C41.9003 2 48.0857 10.0939 48.0857 19.7514C48.0857 26.4582 45.1546 32.546 40.3457 35.596C39.5512 36.105 39.0953 36.9073 39.0953 37.6948V87.3108C39.0953 89.6916 37.4578 91.6776 35.2619 92.2294ZM25.9438 9.14322C27.982 6.40784 30.8408 4.65967 34.0429 4.65967C37.2455 4.65967 40.1043 6.41311 42.142 9.15044C44.18 11.8881 45.4261 15.6404 45.4261 19.7514C45.4261 25.4557 42.9324 30.8191 38.94 33.349L38.9389 33.3497C37.3722 34.3374 36.4544 35.9571 36.4544 37.6948V87.3108C36.4544 88.6403 35.3724 89.7222 34.0429 89.7222C32.7134 89.7222 31.6314 88.6403 31.6314 87.3108V37.6948C31.6314 35.9748 30.7126 34.3368 29.1468 33.3497L29.1446 33.3483C25.1729 30.819 22.6597 25.4571 22.6597 19.7514C22.6597 15.6312 23.9056 11.8788 25.9438 9.14322ZM26.8675 9.83146C24.9912 12.3497 23.8116 15.8551 23.8116 19.7514C23.8116 25.1708 26.2051 30.11 29.7623 32.3759C31.6422 33.5616 32.7833 35.5568 32.7833 37.6948V87.3108C32.7833 88.0041 33.3495 88.5703 34.0429 88.5703C34.7362 88.5703 35.3025 88.0041 35.3025 87.3108V37.6948C35.3025 35.5369 36.4447 33.5606 38.324 32.3756C41.8982 30.1104 44.2742 25.1726 44.2742 19.7514C44.2742 15.8647 43.0946 12.3591 41.2181 9.83829C39.3412 7.31716 36.7964 5.81157 34.0429 5.81157C31.2888 5.81157 28.744 7.31306 26.8675 9.83146Z\" fill=\"currentColor\" fill-rule=\"evenodd\">\n",
      "            </path>\n",
      "           </svg>\n",
      "           Restaurants\n",
      "          </a>\n",
      "         </li>\n",
      "         <li>\n",
      "          <a class=\"btn inline-flex items-center\" data-testid=\"a\" href=\"/cameroon/entertainment\">\n",
      "           <svg aria-hidden=\"true\" class=\"mr-1.5 lg:mr-2.5/ size-4\" fill=\"currentColor\" height=\"1em\" viewbox=\"0 0 94 51\" width=\"1em\" xmlns=\"http://www.w3.org/2000/svg\">\n",
      "            <path d=\"M77.2712 50.5661H2.77687C1.24917 50.5661 0 49.3254 0 47.7892V11.7659C0 10.2382 1.24073 8.98901 2.77687 8.98901H77.2797C78.8074 8.98901 80.0566 10.2297 80.0566 11.7659V23.7765C80.0566 24.5952 79.3982 25.2535 78.5795 25.2535C76.0896 25.2535 74.0639 27.2877 74.0639 29.7776C74.0639 32.2675 76.0896 34.3016 78.5795 34.3016C79.3982 34.3016 80.0566 34.9599 80.0566 35.7786V47.7892C80.0566 49.3169 78.8158 50.5661 77.2797 50.5661H77.2712ZM2.95412 47.612H77.094V37.1122C73.6757 36.4201 71.1014 33.3985 71.1014 29.7776C71.1014 26.1567 73.6841 23.135 77.094 22.4429V11.9431H2.95412V47.612Z\">\n",
      "            </path>\n",
      "            <path d=\"M91.2232 41.5686H78.5711C77.7524 41.5686 77.094 40.9103 77.094 40.0916C77.094 39.2729 77.7524 38.6145 78.5711 38.6145H91.0459V28.1147C87.636 27.4226 85.0533 24.401 85.0533 20.7801C85.0533 17.1592 87.636 14.1376 91.0459 13.4455V2.95412H16.906V10.466C16.906 11.2847 16.2477 11.9431 15.429 11.9431C14.6103 11.9431 13.9519 11.2847 13.9519 10.466V2.77687C13.9519 1.24917 15.1926 0 16.7203 0H91.2232C92.7509 0 94 1.24073 94 2.77687V14.7875C94 15.6062 93.3417 16.2645 92.523 16.2645C90.0331 16.2645 88.0074 18.2902 88.0074 20.7885C88.0074 23.2869 90.0331 25.3126 92.523 25.3126C93.3417 25.3126 94 25.9709 94 26.7896V38.8002C94 40.3279 92.7593 41.5771 91.2232 41.5771V41.5686Z\">\n",
      "            </path>\n",
      "            <path d=\"M62.7455 14.6018C61.9268 14.6018 61.2684 13.9435 61.2684 13.1248V10.4661C61.2684 9.64736 61.9268 8.98901 62.7455 8.98901C63.5642 8.98901 64.2225 9.64736 64.2225 10.4661V13.1248C64.2225 13.9435 63.5642 14.6018 62.7455 14.6018Z\">\n",
      "            </path>\n",
      "            <path d=\"M62.7455 23.5907C61.9268 23.5907 61.2684 22.9324 61.2684 22.1137V19.455C61.2684 18.6363 61.9268 17.9779 62.7455 17.9779C63.5642 17.9779 64.2225 18.6363 64.2225 19.455V22.1137C64.2225 22.9324 63.5642 23.5907 62.7455 23.5907Z\">\n",
      "            </path>\n",
      "            <path d=\"M62.7455 32.5797C61.9268 32.5797 61.2684 31.9214 61.2684 31.1027V28.444C61.2684 27.6253 61.9268 26.9669 62.7455 26.9669C63.5642 26.9669 64.2225 27.6253 64.2225 28.444V31.1027C64.2225 31.9214 63.5642 32.5797 62.7455 32.5797Z\">\n",
      "            </path>\n",
      "            <path d=\"M62.7455 41.5771C61.9268 41.5771 61.2684 40.9187 61.2684 40.1V37.4413C61.2684 36.6226 61.9268 35.9642 62.7455 35.9642C63.5642 35.9642 64.2225 36.6226 64.2225 37.4413V40.1C64.2225 40.9187 63.5642 41.5771 62.7455 41.5771Z\">\n",
      "            </path>\n",
      "            <path d=\"M62.7455 50.5661C61.9268 50.5661 61.2684 49.9077 61.2684 49.089V46.4303C61.2684 45.6116 61.9268 44.9532 62.7455 44.9532C63.5642 44.9532 64.2225 45.6116 64.2225 46.4303V49.089C64.2225 49.9077 63.5642 50.5661 62.7455 50.5661Z\">\n",
      "            </path>\n",
      "            <path d=\"M36.4031 38.4879C36.0655 38.4879 35.7279 38.4035 35.4156 38.2432L32.1154 36.5045L28.8153 38.2432C28.0894 38.623 27.2369 38.5639 26.5786 38.0828C25.9202 37.6017 25.5911 36.8083 25.7345 36.0065L26.3676 32.3265L23.7004 29.7184C23.118 29.1529 22.907 28.3173 23.1602 27.5408C23.4134 26.7643 24.0718 26.2072 24.8736 26.0975L28.5621 25.5573L30.2164 22.215C30.5793 21.4891 31.3052 21.0333 32.1239 21.0333C32.9426 21.0333 33.6685 21.4891 34.0314 22.215L35.6773 25.5573L39.3657 26.0975C40.1759 26.2157 40.8259 26.7643 41.0791 27.5408C41.3323 28.3173 41.1213 29.1529 40.5389 29.7184L37.8633 32.3181L38.4963 35.998C38.6314 36.7999 38.3106 37.5933 37.6523 38.0744C37.2809 38.3444 36.842 38.4795 36.4031 38.4795V38.4879ZM26.9499 28.7731L28.7309 30.5118C29.2288 31.0014 29.4567 31.7019 29.347 32.3856L28.925 34.8417L31.1279 33.6854C31.7441 33.3562 32.4868 33.3562 33.103 33.6854L35.3059 34.8417L34.8839 32.394C34.7657 31.7103 34.9936 31.0014 35.4916 30.5118L37.2725 28.7731L34.8079 28.4186C34.1158 28.3173 33.5165 27.8869 33.2042 27.2623L32.107 25.034L31.0097 27.2623C30.6975 27.8953 30.0982 28.3258 29.4061 28.4271L26.9499 28.7815V28.7731Z\">\n",
      "            </path>\n",
      "            <path d=\"M52.1107 44.5734H12.1204C11.3016 44.5734 10.6433 43.915 10.6433 43.0963C10.6433 41.3492 9.21688 39.9228 7.46973 39.9228C6.65102 39.9228 5.99268 39.2644 5.99268 38.4457V21.1008C5.99268 20.2821 6.65102 19.6238 7.46973 19.6238C9.21688 19.6238 10.6433 18.2058 10.6433 16.4586C10.6433 15.6399 11.3016 14.9816 12.1204 14.9816H52.1107C52.9294 14.9816 53.5877 15.6399 53.5877 16.4586C53.5877 18.2058 55.0141 19.6238 56.7613 19.6238C57.58 19.6238 58.2383 20.2821 58.2383 21.1008V38.4457C58.2383 39.2644 57.58 39.9228 56.7613 39.9228C55.0141 39.9228 53.5877 41.3492 53.5877 43.0963C53.5877 43.915 52.9294 44.5734 52.1107 44.5734ZM13.4202 41.6193H50.8193C51.3679 39.4248 53.0982 37.6945 55.2927 37.1459V22.3922C53.0982 21.852 51.3679 20.1217 50.8277 17.9272H13.4117C12.8631 20.1217 11.1328 21.8436 8.94679 22.3922V37.1459C11.1413 37.6945 12.8715 39.4248 13.4202 41.6193Z\">\n",
      "            </path>\n",
      "           </svg>\n",
      "           Entertainment\n",
      "          </a>\n",
      "         </li>\n",
      "         <li>\n",
      "          <a class=\"btn inline-flex items-center\" data-testid=\"a\" href=\"/cameroon/nightlife\">\n",
      "           <svg aria-hidden=\"true\" class=\"mr-1.5 lg:mr-2.5/ size-4\" fill=\"currentColor\" height=\"1em\" viewbox=\"0 0 64 94\" width=\"1em\" xmlns=\"http://www.w3.org/2000/svg\">\n",
      "            <path d=\"M62.2384 17.4272H54.3668V1.75887C54.3668 1.186 54.095 0.653342 53.632 0.331734C53.1689 7.53449e-05 52.575 -0.0803267 52.0415 0.100578L1.18779 17.5177C1.18779 17.5177 1.14753 17.5378 1.1274 17.5478C1.07707 17.5679 1.0368 17.588 0.99654 17.6081C0.936143 17.6383 0.885813 17.6684 0.835483 17.6986C0.795219 17.7187 0.76502 17.7488 0.724756 17.779C0.674426 17.8192 0.624096 17.8594 0.573765 17.8996C0.543567 17.9297 0.513369 17.9599 0.483171 17.99C0.442907 18.0403 0.402642 18.0905 0.362378 18.1408C0.33218 18.1709 0.312048 18.2111 0.28185 18.2513C0.251651 18.3016 0.221453 18.3619 0.191255 18.4222C0.171123 18.4624 0.150991 18.5026 0.130859 18.5428C0.100661 18.6131 0.0805285 18.6935 0.0603964 18.7639C0.0603964 18.794 0.0402642 18.8242 0.0301982 18.8543C0.0100661 18.9649 0 19.0755 0 19.186C0 19.186 0 19.186 0 19.1961V92.2513C0 93.2262 0.785153 94.0101 1.76156 94.0101H62.2384C63.2149 94.0101 64 93.2262 64 92.2513V19.186C64 18.2111 63.2149 17.4272 62.2384 17.4272ZM50.8437 4.22118V17.4272H12.3209L50.8437 4.22118ZM60.4769 90.4825H3.52312V20.9448H60.4769V90.4825Z\">\n",
      "            </path>\n",
      "            <path d=\"M30.2385 50.3015V63.7789H25.9201C24.9437 63.7789 24.1586 64.5628 24.1586 65.5377C24.1586 66.5125 24.9437 67.2965 25.9201 67.2965H38.0799C39.0564 67.2965 39.8415 66.5125 39.8415 65.5377C39.8415 64.5628 39.0564 63.7789 38.0799 63.7789H33.7616V50.3015L45.8308 37.6784C46.314 37.1658 46.4549 36.4221 46.1731 35.7688C45.8912 35.1256 45.257 34.7035 44.5524 34.7035H19.4275C18.7229 34.7035 18.0888 35.1256 17.8069 35.7688C17.5251 36.412 17.666 37.1658 18.1491 37.6784L30.2184 50.3015H30.2385ZM40.4455 38.2211L32 47.0553L23.5546 38.2211H40.4455Z\">\n",
      "            </path>\n",
      "            <path d=\"M47.9648 72.4121H16.0352C15.0588 72.4121 14.2737 73.196 14.2737 74.1709V82.0101C14.2737 82.985 15.0588 83.7689 16.0352 83.7689H47.9547C48.9311 83.7689 49.7163 82.985 49.7163 82.0101V74.1709C49.7163 73.196 48.9311 72.4121 47.9547 72.4121H47.9648ZM46.2032 80.2513H17.8069V75.9297H46.2032V80.2513Z\">\n",
      "            </path>\n",
      "           </svg>\n",
      "           Nightlife\n",
      "          </a>\n",
      "         </li>\n",
      "         <li>\n",
      "          <a class=\"btn inline-flex items-center\" data-testid=\"a\" href=\"/cameroon/shopping\">\n",
      "           <svg aria-hidden=\"true\" class=\"mr-1.5 lg:mr-2.5/ size-4\" fill=\"currentColor\" height=\"1em\" viewbox=\"0 0 40 40\" width=\"1em\" xmlns=\"http://www.w3.org/2000/svg\">\n",
      "            <path d=\"M25.553 15.6848L21.278 18.2498C21.2078 18.292 21.1496 18.3517 21.1093 18.423C21.069 18.4943 21.0479 18.5749 21.048 18.6568V27.6818C21.048 27.8078 21.098 27.9286 21.1871 28.0177C21.2762 28.1068 21.397 28.1568 21.523 28.1568H30.073C30.199 28.1568 30.3198 28.1068 30.4089 28.0177C30.498 27.9286 30.548 27.8078 30.548 27.6818V18.6568C30.5479 18.5748 30.5266 18.4942 30.4861 18.4229C30.4456 18.3516 30.3874 18.2919 30.317 18.2498L26.042 15.6848C25.9683 15.6402 25.8837 15.6165 25.7975 15.6165C25.7113 15.6165 25.6267 15.6402 25.553 15.6848Z\" fill=\"currentColor\">\n",
      "            </path>\n",
      "            <path d=\"M22.881 1.8168C21.8993 1.81974 20.9253 1.98879 20 2.3168C18.6815 1.85185 17.2707 1.71027 15.8861 1.90398C14.5016 2.09768 13.1838 2.621 12.0435 3.42994C10.9033 4.23887 9.97391 5.30977 9.33361 6.55257C8.69332 7.79538 8.36079 9.17376 8.364 10.5718V10.6058H4.548C4.28279 10.6058 4.02843 10.7112 3.8409 10.8987C3.65336 11.0862 3.548 11.3406 3.548 11.6058V34.8168C3.54959 36.1424 4.07689 37.4132 5.01422 38.3506C5.95156 39.2879 7.22241 39.8152 8.548 39.8168H31.568C32.8936 39.8152 34.1644 39.2879 35.1018 38.3506C36.0391 37.4132 36.5664 36.1424 36.568 34.8168V11.6058C36.568 11.3406 36.4627 11.0862 36.2751 10.8987C36.0876 10.7112 35.8332 10.6058 35.568 10.6058H31.636V10.5718C31.6334 8.25065 30.7101 6.02531 29.0688 4.38401C27.4275 2.7427 25.2022 1.81945 22.881 1.8168ZM23.874 10.5718V10.6058H16.125V10.5718C16.1271 9.29235 16.4924 8.03978 17.1784 6.95976C17.8643 5.87973 18.8428 5.01662 20 4.4708C21.157 5.01677 22.1353 5.87994 22.8211 6.95995C23.5068 8.03996 23.872 9.29246 23.874 10.5718ZM10.364 10.5718C10.3661 8.78092 11.0785 7.06398 12.3448 5.79764C13.6112 4.53129 15.3281 3.81892 17.119 3.8168C17.182 3.8168 17.243 3.8248 17.306 3.8258C16.3111 4.64606 15.5099 5.67625 14.96 6.84254C14.41 8.00884 14.1249 9.28235 14.125 10.5718V10.6058H10.364V10.5718ZM8.548 37.8168C7.75235 37.8168 6.98929 37.5007 6.42668 36.9381C5.86407 36.3755 5.548 35.6125 5.548 34.8168V12.6058H10.853V34.8168C10.8568 35.9021 11.217 36.9561 11.878 37.8168H8.548ZM34.568 12.6058V34.8168C34.568 35.6125 34.2519 36.3755 33.6893 36.9381C33.1267 37.5007 32.3637 37.8168 31.568 37.8168H15.853C15.0574 37.8168 14.2943 37.5007 13.7317 36.9381C13.1691 36.3755 12.853 35.6125 12.853 34.8168V12.6058H34.568ZM25.874 10.6058V10.5718C25.8743 9.28247 25.5892 8.00906 25.0392 6.84291C24.4892 5.67676 23.688 4.64676 22.693 3.8268C22.756 3.8268 22.818 3.8168 22.881 3.8168C24.6719 3.81892 26.3888 4.53129 27.6552 5.79764C28.9215 7.06398 29.6339 8.78092 29.636 10.5718V10.6058H25.874Z\" fill=\"currentColor\">\n",
      "            </path>\n",
      "           </svg>\n",
      "           Shopping\n",
      "          </a>\n",
      "         </li>\n",
      "         <li>\n",
      "          <a class=\"btn inline-flex items-center\" data-testid=\"a\" href=\"/cameroon/hotels\">\n",
      "           <svg aria-hidden=\"true\" class=\"mr-1.5 lg:mr-2.5/ size-4\" fill=\"currentColor\" height=\"1em\" viewbox=\"0 0 96 96\" width=\"1em\" xmlns=\"http://www.w3.org/2000/svg\">\n",
      "            <path d=\"M89.7778 65.1135C89.7778 66.9661 88.0923 68.4645 85.9924 68.4645H9.64844C7.57613 68.4645 5.86302 66.9661 5.86302 65.1135V52.9354C5.86302 51.0828 7.5485 49.5843 9.64844 49.5843H85.9647C88.037 49.5843 89.7501 51.0828 89.7501 52.9354V65.1135H89.7778ZM85.495 74.8124H82.1517C82.1517 74.8124 81.9859 74.7307 81.9859 74.649V73.3685H85.6608V74.649C85.6608 74.649 85.5779 74.8124 85.495 74.8124ZM14.0141 74.649C14.0141 74.649 13.9312 74.8124 13.8483 74.8124H10.505C10.505 74.8124 10.3392 74.7307 10.3392 74.649V73.3685H14.0141V74.649ZM22.6626 21.0597H73.3374C79.7478 21.0597 83.4227 25.4188 83.4227 31.7394L83.3398 41.9287C80.7978 39.0136 78.7807 37.6242 74.8848 37.27V35.5809C74.8848 32.1481 72.0664 29.3692 68.5849 29.3692H57.0076C53.5538 29.3692 50.7078 32.1481 50.7078 35.5809V37.2155H45.2369C45.2369 37.2155 45.2369 37.161 45.2369 37.1338V35.5809C45.2369 32.1481 42.4186 29.3692 38.9371 29.3692H27.3598C23.8783 29.3692 21.06 32.1481 21.06 35.5809V37.2155C21.06 37.2155 21.06 37.27 21.06 37.2972C17.1088 37.6514 14.7325 39.0136 12.1905 41.956L12.2457 31.3035C12.2457 24.9829 16.1693 21.087 22.5797 21.087M70.5467 37.2427H55.0182V35.8533C55.0182 34.4638 56.234 33.3196 57.6984 33.3196H67.8666C69.3586 33.3196 70.5467 34.4638 70.5467 35.8533V37.2427ZM23.7402 41.2749H72.2875C75.7966 41.2749 79.1399 42.7188 81.2399 45.1163H14.843C16.943 42.7188 20.231 41.2749 23.7954 41.2749M41.1476 37.2427H25.1493V35.8533C25.1493 34.4638 26.3927 33.3196 27.9124 33.3196H38.3845C39.9042 33.3196 41.1476 34.4638 41.1476 35.8533V37.161C41.1476 37.161 41.1476 37.2155 41.1476 37.2427ZM88.1752 45.1436V31.6577C88.1752 23.5662 81.5162 17.0003 73.3098 17.0003H22.6626C14.4562 16.9458 7.79718 23.5117 7.79718 31.6032V45.0891C4.01176 45.2798 1 48.3856 1 52.1453V66.285C1 69.8268 3.65256 72.7691 7.10641 73.2868V74.649C7.10641 76.5016 8.6261 78 10.505 78H13.8483C15.7272 78 17.2469 76.5016 17.2469 74.649V73.3685H78.7531V74.649C78.7531 76.5016 80.2728 78 82.1517 78H85.495C87.3739 78 88.8936 76.5016 88.8936 74.649V73.2868C92.3474 72.7691 95 69.8268 95 66.285V52.1453C95 48.3584 91.9882 45.2798 88.2028 45.0891\">\n",
      "            </path>\n",
      "           </svg>\n",
      "           Hotels\n",
      "          </a>\n",
      "         </li>\n",
      "        </ul>\n",
      "        <div class=\"items-center justify-between hidden lg:flex\">\n",
      "         <span class=\"flex flex-col flex-grow\">\n",
      "          <span class=\"pr-2\">\n",
      "           Show/Hide Map\n",
      "          </span>\n",
      "         </span>\n",
      "         <button aria-checked=\"false\" aria-labelledby=\"Show/Hide Map\" class=\"bg-black-200 relative inline-flex h-6 w-11 flex-shrink-0 cursor-pointer rounded border-2 border-transparent transition-colors duration-200 ease-in-out focus:outline-none focus:ring-2 focus:ring-blue focus:ring-offset-2\" role=\"switch\" type=\"button\">\n",
      "          <span aria-hidden=\"true\" class=\"translate-x-0 pointer-events-none inline-block h-5 w-5 transform rounded bg-white shadow ring-0 transition duration-200 ease-in-out\">\n",
      "          </span>\n",
      "         </button>\n",
      "        </div>\n",
      "       </nav>\n",
      "       <div class=\"mt-6 mb-8 lg:mb-16\">\n",
      "        <ul class=\"md:grid space-y-14 md:space-y-0 gap-x-6 gap-y-14 md:grid-cols-12 mb-12\">\n",
      "         <li class=\"col-span-1 md:col-span-3 lg:col-span-3\">\n",
      "          <div class=\"relative\">\n",
      "           <article class=\"relative rounded\">\n",
      "            <div class=\"relative flex max-w-full items-center justify-center overflow-hidden rounded relative aspect-square\">\n",
      "             <img alt=\"\" class=\"max-w-full w-full h-full object-cover rounded relative aspect-square\" data-nimg=\"1\" decoding=\"async\" height=\"400\" loading=\"lazy\" src=\"https://lonelyplanetstatic.imgix.net/marketing/placeholders/placeholder-attractions.jpg?fit=crop&amp;ar=1%3A1&amp;w=1200&amp;auto=format&amp;q=75\" srcset=\"https://lonelyplanetstatic.imgix.net/marketing/placeholders/placeholder-attractions.jpg?fit=crop&amp;ar=1%3A1&amp;w=640&amp;auto=format&amp;q=75 1x, https://lonelyplanetstatic.imgix.net/marketing/placeholders/placeholder-attractions.jpg?fit=crop&amp;ar=1%3A1&amp;w=1200&amp;auto=format&amp;q=75 2x\" style=\"color:transparent\" width=\"600\"/>\n",
      "             <svg aria-hidden=\"true\" class=\"absolute top-[50%] left-0 right-0 w-24 max-w-[30%] h-auto mx-auto text-white aspect-square transform translate-y-[-50%]\" fill=\"currentColor\" height=\"1em\" viewbox=\"0 0 40 40\" width=\"1em\" xmlns=\"http://www.w3.org/2000/svg\">\n",
      "              <path d=\"M20.716 7.34598C20.5338 7.18675 20.3 7.099 20.058 7.099C19.816 7.099 19.5822 7.18675 19.4 7.34598L16.367 9.99499C16.2596 10.0888 16.1735 10.2046 16.1145 10.3345C16.0555 10.4644 16.025 10.6053 16.025 10.748C16.025 10.8906 16.0555 11.0316 16.1145 11.1615C16.1735 11.2914 16.2596 11.4071 16.367 11.501L19.4 14.151C19.5822 14.3102 19.816 14.398 20.058 14.398C20.3 14.398 20.5338 14.3102 20.716 14.151L23.749 11.501C23.8564 11.4071 23.9425 11.2914 24.0015 11.1615C24.0605 11.0316 24.091 10.8906 24.091 10.748C24.091 10.6053 24.0605 10.4644 24.0015 10.3345C23.9425 10.2046 23.8564 10.0888 23.749 9.99499L20.716 7.34598Z\" fill=\"currentColor\">\n",
      "              </path>\n",
      "              <path d=\"M35.071 18.338L37.5 13.759C37.5807 13.6066 37.6206 13.4359 37.6159 13.2635C37.6111 13.0911 37.5619 12.9229 37.4729 12.7751C37.384 12.6274 37.2583 12.5052 37.1082 12.4203C36.958 12.3355 36.7885 12.2909 36.616 12.291H34.023L20.693 1.31798C20.514 1.17064 20.2893 1.09008 20.0575 1.09008C19.8257 1.09008 19.601 1.17064 19.422 1.31798L6.093 12.291H3.477C3.30454 12.2909 3.135 12.3355 2.98485 12.4203C2.83469 12.5052 2.70903 12.6274 2.62006 12.7751C2.5311 12.9229 2.48185 13.0911 2.47711 13.2635C2.47237 13.4359 2.51229 13.6066 2.593 13.759L5.018 18.338C5.09427 18.4783 5.20338 18.598 5.336 18.687V30.459H3.478C3.21279 30.459 2.95843 30.5643 2.7709 30.7519C2.58336 30.9394 2.478 31.1938 2.478 31.459V36.722C2.478 36.9872 2.58336 37.2416 2.7709 37.4291C2.95843 37.6166 3.21279 37.722 3.478 37.722H36.612C36.8772 37.722 37.1316 37.6166 37.3191 37.4291C37.5066 37.2416 37.612 36.9872 37.612 36.722V31.459C37.612 31.1938 37.5066 30.9394 37.3191 30.7519C37.1316 30.5643 36.8772 30.459 36.612 30.459H34.664V18.744C34.8365 18.6514 34.978 18.5102 35.071 18.338ZM5.138 14.291H12.3C12.5652 14.291 12.8196 14.1856 13.0071 13.9981C13.1946 13.8106 13.3 13.5562 13.3 13.291C13.3 13.0258 13.1946 12.7714 13.0071 12.5839C12.8196 12.3963 12.5652 12.291 12.3 12.291H9.24L20.058 3.38398L30.875 12.289H27.723C27.4578 12.289 27.2034 12.3943 27.0159 12.5819C26.8284 12.7694 26.723 13.0238 26.723 13.289C26.723 13.5542 26.8284 13.8086 27.0159 13.9961C27.2034 14.1836 27.4578 14.289 27.723 14.289H34.951L33.585 16.868H6.5L5.138 14.291ZM28.4 30.459H23.132V18.87H28.4V30.459ZM11.6 18.87H16.867V30.459H11.6V18.87ZM18.867 18.87H21.131V30.459H18.868L18.867 18.87ZM7.335 18.87H9.6V30.459H7.336L7.335 18.87ZM35.612 32.459V35.722H4.478V32.459H35.612ZM30.399 30.459V18.87H32.664V30.459H30.399Z\" fill=\"currentColor\">\n",
      "              </path>\n",
      "             </svg>\n",
      "            </div>\n",
      "            <svg aria-hidden=\"true\" class=\"absolute top-4 left-4 z-10\" fill=\"currentColor\" height=\"40px\" viewbox=\"0 0 40 40\" width=\"40px\" xmlns=\"http://www.w3.org/2000/svg\">\n",
      "             <rect fill=\"white\" height=\"28\" rx=\"4\" transform=\"rotate(-45 0.57959 19.5)\" width=\"28\" x=\"0.57959\" y=\"19.5\">\n",
      "             </rect>\n",
      "             <path d=\"M23.5629 27.5891H21.1999L20.4719 25.3461C20.431 25.254 20.3642 25.1758 20.2797 25.1209C20.1952 25.0661 20.0967 25.0369 19.9959 25.0369C19.8952 25.0369 19.7966 25.0661 19.7121 25.1209C19.6276 25.1758 19.5609 25.254 19.5199 25.3461L18.7999 27.5891H16.4369C16.3325 27.5903 16.2311 27.6242 16.1469 27.686C16.0627 27.7479 16 27.8345 15.9676 27.9338C15.9352 28.033 15.9346 28.14 15.9661 28.2396C15.9975 28.3392 16.0594 28.4264 16.1429 28.4891L18.0509 29.8761L17.3219 32.1191C17.2891 32.2196 17.2891 32.3279 17.3217 32.4284C17.3543 32.529 17.418 32.6166 17.5035 32.6787C17.5891 32.7408 17.6921 32.7742 17.7978 32.7741C17.9035 32.774 18.0065 32.7404 18.0919 32.6781L19.9999 31.3001L21.9079 32.6861C21.9933 32.7484 22.0963 32.782 22.202 32.7821C22.3077 32.7822 22.4108 32.7488 22.4963 32.6867C22.5819 32.6246 22.6455 32.537 22.6781 32.4364C22.7108 32.3359 22.7107 32.2276 22.6779 32.1271L21.9489 29.8841L23.8569 28.4971C23.9405 28.4344 24.0023 28.3472 24.0338 28.2476C24.0652 28.148 24.0647 28.041 24.0322 27.9418C23.9998 27.8425 23.9371 27.7559 23.8529 27.694C23.7688 27.6322 23.6673 27.5983 23.5629 27.5971V27.5891Z\" fill=\"#0057d9\">\n",
      "             </path>\n",
      "             <path d=\"M37.851 16.465L23.535 2.14899C22.5974 1.21164 21.3258 0.685059 20 0.685059C18.6742 0.685059 17.4026 1.21164 16.465 2.14899L2.14899 16.465C1.21164 17.4026 0.685059 18.6742 0.685059 20C0.685059 21.3258 1.21164 22.5974 2.14899 23.535L16.465 37.851C17.4026 38.7883 18.6742 39.3149 20 39.3149C21.3258 39.3149 22.5974 38.7883 23.535 37.851L37.851 23.535C38.7883 22.5974 39.3149 21.3258 39.3149 20C39.3149 18.6742 38.7883 17.4026 37.851 16.465ZM36.437 22.121L22.121 36.437C21.5493 36.9819 20.7898 37.2859 20 37.2859C19.2102 37.2859 18.4507 36.9819 17.879 36.437L3.56299 22.121C3.00058 21.5584 2.68463 20.7955 2.68463 20C2.68463 19.2045 3.00058 18.4416 3.56299 17.879L17.879 3.56299C18.4416 3.00058 19.2045 2.68463 20 2.68463C20.7955 2.68463 21.5584 3.00058 22.121 3.56299L36.437 17.879C36.9994 18.4416 37.3154 19.2045 37.3154 20C37.3154 20.7955 36.9994 21.5584 36.437 22.121Z\" fill=\"white\">\n",
      "             </path>\n",
      "             <path d=\"M15.6749 14.7H16.7609V10.788H18.2229V9.82703H14.2129V10.788H15.6749V14.7Z\">\n",
      "             </path>\n",
      "             <path d=\"M19.5541 14.791C19.8059 14.8004 20.0569 14.7577 20.2914 14.6655C20.5258 14.5733 20.7387 14.4335 20.9166 14.2551C21.0944 14.0767 21.2335 13.8634 21.325 13.6286C21.4164 13.3939 21.4584 13.1427 21.4481 12.891C21.4481 12.3897 21.249 11.909 20.8946 11.5545C20.5401 11.2001 20.0594 11.001 19.5581 11.001C19.0569 11.001 18.5761 11.2001 18.2217 11.5545C17.8673 11.909 17.6681 12.3897 17.6681 12.891C17.6575 13.1421 17.6989 13.3928 17.7897 13.6272C17.8806 13.8616 18.0189 14.0747 18.196 14.2531C18.3731 14.4315 18.5851 14.5714 18.8189 14.6639C19.0526 14.7565 19.3029 14.7997 19.5541 14.791ZM19.5541 11.902C20.0351 11.902 20.3961 12.25 20.3961 12.89C20.3961 13.53 20.0351 13.885 19.5541 13.885C19.0731 13.885 18.7261 13.531 18.7261 12.89C18.7261 12.249 19.0811 11.9 19.5541 11.9V11.902Z\">\n",
      "             </path>\n",
      "             <path d=\"M22.9878 14.233C23.1011 14.411 23.2591 14.5562 23.4459 14.6541C23.6328 14.752 23.842 14.7992 24.0528 14.791C24.2839 14.7748 24.5094 14.7123 24.7159 14.6073C24.9224 14.5023 25.1057 14.3569 25.2549 14.1796C25.4042 14.0024 25.5163 13.7971 25.5846 13.5757C25.653 13.3544 25.6762 13.1215 25.6528 12.891C25.6763 12.6605 25.6532 12.4276 25.5849 12.2062C25.5166 11.9848 25.4045 11.7794 25.2553 11.6022C25.106 11.4249 24.9227 11.2795 24.7161 11.1745C24.5095 11.0695 24.284 11.0071 24.0528 10.991C23.8429 10.9828 23.6345 11.0292 23.4478 11.1256C23.2611 11.222 23.1027 11.3651 22.9878 11.541V11.088H21.9648V16.177H22.9878V14.233ZM23.7878 11.902C24.2678 11.902 24.6028 12.257 24.6028 12.902C24.6028 13.547 24.2678 13.89 23.7878 13.89C23.3078 13.89 22.9738 13.542 22.9738 12.902C22.9738 12.262 23.3078 11.9 23.7878 11.9V11.902Z\">\n",
      "             </path>\n",
      "             <path d=\"M11.5998 18.5C11.8437 18.5006 12.0818 18.5747 12.283 18.7126C12.4842 18.8505 12.6392 19.0458 12.7278 19.273L13.6458 18.709C13.459 18.3312 13.1658 18.0163 12.8023 17.803C12.4387 17.5898 12.0207 17.4876 11.5998 17.509C11.2677 17.4979 10.9369 17.5564 10.6287 17.6806C10.3205 17.8048 10.0416 17.9921 9.80999 18.2304C9.57837 18.4687 9.39911 18.7528 9.2837 19.0644C9.16829 19.376 9.11928 19.7083 9.13981 20.04C9.11986 20.3714 9.1693 20.7032 9.28497 21.0144C9.40064 21.3255 9.57999 21.6091 9.81155 21.847C10.0431 22.0848 10.3218 22.2717 10.6297 22.3957C10.9376 22.5197 11.268 22.5781 11.5998 22.567C12.0207 22.5884 12.4387 22.4862 12.8023 22.273C13.1658 22.0598 13.459 21.7448 13.6458 21.367L12.7278 20.803C12.6392 21.0303 12.4842 21.2256 12.283 21.3634C12.0818 21.5013 11.8437 21.5754 11.5998 21.576C11.408 21.5734 11.219 21.5301 11.0453 21.4489C10.8715 21.3677 10.717 21.2505 10.592 21.1051C10.467 20.9597 10.3744 20.7893 10.3202 20.6053C10.266 20.4214 10.2516 20.228 10.2778 20.038C10.2516 19.848 10.266 19.6547 10.3202 19.4707C10.3744 19.2867 10.467 19.1164 10.592 18.9709C10.717 18.8255 10.8715 18.7083 11.0453 18.6271C11.219 18.5459 11.408 18.5026 11.5998 18.5Z\">\n",
      "             </path>\n",
      "             <path d=\"M16.012 18.766C15.8204 18.7554 15.6297 18.7995 15.4622 18.8932C15.2947 18.9868 15.1573 19.1262 15.066 19.295V17.256H14.043V22.476H15.066V20.36C15.0551 20.2706 15.0637 20.1798 15.0912 20.0941C15.1187 20.0083 15.1644 19.9294 15.2251 19.8629C15.2859 19.7965 15.3604 19.7439 15.4434 19.7089C15.5263 19.6738 15.6159 19.6572 15.706 19.66C16.006 19.66 16.242 19.883 16.242 20.301V22.479H17.266V20.117C17.28 19.9442 17.2579 19.7704 17.2011 19.6066C17.1444 19.4428 17.0541 19.2926 16.9362 19.1656C16.8183 19.0385 16.6752 18.9374 16.5161 18.8686C16.357 18.7998 16.1853 18.7649 16.012 18.766Z\">\n",
      "             </path>\n",
      "             <path d=\"M19.634 18.7661C19.258 18.7649 18.8901 18.8753 18.5768 19.0833C18.2636 19.2914 18.0191 19.5877 17.8744 19.9348C17.7297 20.2819 17.6912 20.6641 17.7638 21.033C17.8364 21.402 18.0169 21.7411 18.2824 22.0074C18.5479 22.2737 18.8864 22.4553 19.2551 22.5291C19.6239 22.6029 20.0062 22.5656 20.3537 22.422C20.7013 22.2784 20.9984 22.0348 21.2074 21.7223C21.4164 21.4097 21.528 21.0421 21.528 20.6661C21.5387 20.4142 21.4971 20.1629 21.4058 19.9279C21.3145 19.6929 21.1754 19.4795 20.9975 19.3009C20.8195 19.1224 20.6065 18.9827 20.3718 18.8906C20.1371 18.7986 19.8859 18.7562 19.634 18.7661ZM19.634 21.6661C19.161 21.6661 18.806 21.3111 18.806 20.6711C18.806 20.0311 19.161 19.6821 19.634 19.6821C20.107 19.6821 20.476 20.0301 20.476 20.6711C20.476 21.3121 20.115 21.6621 19.634 21.6621V21.6661Z\">\n",
      "             </path>\n",
      "             <path d=\"M22.5659 17.2419C22.4833 17.2354 22.4002 17.2462 22.3219 17.2734C22.2436 17.3006 22.1718 17.3438 22.111 17.4002C22.0502 17.4565 22.0017 17.5249 21.9687 17.6009C21.9356 17.677 21.9187 17.759 21.9189 17.8419C21.9344 18.002 22.0089 18.1506 22.128 18.2587C22.2471 18.3668 22.4021 18.4267 22.5629 18.4267C22.7238 18.4267 22.8788 18.3668 22.9979 18.2587C23.1169 18.1506 23.1915 18.002 23.2069 17.8419C23.2082 17.7593 23.1921 17.6773 23.1598 17.6012C23.1275 17.5251 23.0796 17.4566 23.0193 17.4001C22.9589 17.3436 22.8874 17.3003 22.8093 17.2731C22.7313 17.2458 22.6484 17.2352 22.5659 17.2419Z\">\n",
      "             </path>\n",
      "             <path d=\"M23.0669 18.864H22.0439V22.477H23.0669V18.864Z\">\n",
      "             </path>\n",
      "             <path d=\"M25.4698 19.671C25.6391 19.6601 25.8073 19.7043 25.9493 19.7972C26.0912 19.8901 26.1991 20.0265 26.2568 20.186L27.1128 19.692C26.9634 19.3907 26.7268 19.1413 26.4338 18.9762C26.1408 18.8111 25.805 18.7378 25.4698 18.766C24.9659 18.766 24.4826 18.9662 24.1263 19.3225C23.77 19.6789 23.5698 20.1621 23.5698 20.666C23.5698 21.17 23.77 21.6532 24.1263 22.0095C24.4826 22.3659 24.9659 22.566 25.4698 22.566C25.8049 22.5941 26.1408 22.5208 26.4337 22.3557C26.7267 22.1906 26.9633 21.9413 27.1128 21.64L26.2568 21.146C26.1993 21.3056 26.0914 21.4422 25.9494 21.5351C25.8074 21.628 25.6391 21.6722 25.4698 21.661C25.0518 21.661 24.6418 21.347 24.6418 20.666C24.6418 19.985 25.0518 19.671 25.4698 19.671Z\">\n",
      "             </path>\n",
      "             <path d=\"M29.134 18.766C28.8889 18.7627 28.6458 18.8104 28.4202 18.9063C28.1946 19.0022 27.9915 19.144 27.8238 19.3228C27.6561 19.5016 27.5275 19.7134 27.4463 19.9447C27.3651 20.176 27.333 20.4217 27.352 20.666C27.3367 20.9183 27.3749 21.171 27.4641 21.4075C27.5533 21.644 27.6914 21.859 27.8695 22.0384C28.0476 22.2178 28.2615 22.3575 28.4974 22.4485C28.7332 22.5394 28.9856 22.5795 29.238 22.566C29.5305 22.5793 29.8218 22.5227 30.0881 22.4009C30.3543 22.2792 30.5877 22.0959 30.769 21.866L30.06 21.288C29.9718 21.4233 29.8492 21.5326 29.7047 21.6046C29.5602 21.6767 29.3991 21.709 29.238 21.698C29.1312 21.7063 29.0239 21.6925 28.9227 21.6575C28.8214 21.6225 28.7285 21.5671 28.6495 21.4947C28.5706 21.4224 28.5073 21.3345 28.4637 21.2367C28.4201 21.1389 28.3971 21.0331 28.396 20.926H30.853C30.86 20.849 30.86 20.745 30.86 20.669C30.8839 20.4281 30.8571 20.1849 30.7812 19.955C30.7053 19.7252 30.582 19.5138 30.4194 19.3344C30.2568 19.1551 30.0584 19.0119 29.837 18.914C29.6156 18.8161 29.3761 18.7657 29.134 18.766ZM28.417 20.242C28.4202 20.1514 28.4414 20.0623 28.4792 19.9799C28.5171 19.8975 28.5709 19.8234 28.6376 19.7619C28.7043 19.7005 28.7825 19.6528 28.8677 19.6218C28.9529 19.5907 29.0434 19.5769 29.134 19.581C29.489 19.581 29.739 19.781 29.834 20.242H28.417Z\">\n",
      "             </path>\n",
      "            </svg>\n",
      "            <div class=\"space-y-4 mt-4\">\n",
      "             <p>\n",
      "              <a class=\"card-link line-clamp-2 w-[80%] md:w-90\" href=\"/cameroon/western-cameroon/foumban/attractions/palais-royal/a/poi-sig/1300238/355114\">\n",
      "               <span class=\"heading-05 font-semibold\">\n",
      "                Palais Royal\n",
      "               </span>\n",
      "              </a>\n",
      "             </p>\n",
      "             <p class=\"text-sm font-semibold uppercase !mt-2\">\n",
      "              Cameroon\n",
      "             </p>\n",
      "             <p class=\"relative flex flex-wrap justify-start items-start gap-x-4 gap-y-2 max-w-full label-sm uppercase hidden\">\n",
      "             </p>\n",
      "             <p class=\"relative line-clamp-3\">\n",
      "              The must-see attraction is the sultan's palace, home to the 19th sultan of the Bamoun dynasty. It has a fascinating, well-organised museum providing great…\n",
      "             </p>\n",
      "            </div>\n",
      "           </article>\n",
      "          </div>\n",
      "         </li>\n",
      "         <li class=\"col-span-1 md:col-span-3 lg:col-span-3\">\n",
      "          <div class=\"relative\">\n",
      "           <article class=\"relative rounded\">\n",
      "            <div class=\"relative flex max-w-full items-center justify-center overflow-hidden rounded relative aspect-square\">\n",
      "             <img alt=\"\" class=\"max-w-full w-full h-full object-cover rounded relative aspect-square\" data-nimg=\"1\" decoding=\"async\" height=\"400\" loading=\"lazy\" src=\"https://lonelyplanetstatic.imgix.net/marketing/placeholders/placeholder-attractions.jpg?fit=crop&amp;ar=1%3A1&amp;w=1200&amp;auto=format&amp;q=75\" srcset=\"https://lonelyplanetstatic.imgix.net/marketing/placeholders/placeholder-attractions.jpg?fit=crop&amp;ar=1%3A1&amp;w=640&amp;auto=format&amp;q=75 1x, https://lonelyplanetstatic.imgix.net/marketing/placeholders/placeholder-attractions.jpg?fit=crop&amp;ar=1%3A1&amp;w=1200&amp;auto=format&amp;q=75 2x\" style=\"color:transparent\" width=\"600\"/>\n",
      "             <svg aria-hidden=\"true\" class=\"absolute top-[50%] left-0 right-0 w-24 max-w-[30%] h-auto mx-auto text-white aspect-square transform translate-y-[-50%]\" fill=\"currentColor\" height=\"1em\" viewbox=\"0 0 40 40\" width=\"1em\" xmlns=\"http://www.w3.org/2000/svg\">\n",
      "              <path d=\"M20.716 7.34598C20.5338 7.18675 20.3 7.099 20.058 7.099C19.816 7.099 19.5822 7.18675 19.4 7.34598L16.367 9.99499C16.2596 10.0888 16.1735 10.2046 16.1145 10.3345C16.0555 10.4644 16.025 10.6053 16.025 10.748C16.025 10.8906 16.0555 11.0316 16.1145 11.1615C16.1735 11.2914 16.2596 11.4071 16.367 11.501L19.4 14.151C19.5822 14.3102 19.816 14.398 20.058 14.398C20.3 14.398 20.5338 14.3102 20.716 14.151L23.749 11.501C23.8564 11.4071 23.9425 11.2914 24.0015 11.1615C24.0605 11.0316 24.091 10.8906 24.091 10.748C24.091 10.6053 24.0605 10.4644 24.0015 10.3345C23.9425 10.2046 23.8564 10.0888 23.749 9.99499L20.716 7.34598Z\" fill=\"currentColor\">\n",
      "              </path>\n",
      "              <path d=\"M35.071 18.338L37.5 13.759C37.5807 13.6066 37.6206 13.4359 37.6159 13.2635C37.6111 13.0911 37.5619 12.9229 37.4729 12.7751C37.384 12.6274 37.2583 12.5052 37.1082 12.4203C36.958 12.3355 36.7885 12.2909 36.616 12.291H34.023L20.693 1.31798C20.514 1.17064 20.2893 1.09008 20.0575 1.09008C19.8257 1.09008 19.601 1.17064 19.422 1.31798L6.093 12.291H3.477C3.30454 12.2909 3.135 12.3355 2.98485 12.4203C2.83469 12.5052 2.70903 12.6274 2.62006 12.7751C2.5311 12.9229 2.48185 13.0911 2.47711 13.2635C2.47237 13.4359 2.51229 13.6066 2.593 13.759L5.018 18.338C5.09427 18.4783 5.20338 18.598 5.336 18.687V30.459H3.478C3.21279 30.459 2.95843 30.5643 2.7709 30.7519C2.58336 30.9394 2.478 31.1938 2.478 31.459V36.722C2.478 36.9872 2.58336 37.2416 2.7709 37.4291C2.95843 37.6166 3.21279 37.722 3.478 37.722H36.612C36.8772 37.722 37.1316 37.6166 37.3191 37.4291C37.5066 37.2416 37.612 36.9872 37.612 36.722V31.459C37.612 31.1938 37.5066 30.9394 37.3191 30.7519C37.1316 30.5643 36.8772 30.459 36.612 30.459H34.664V18.744C34.8365 18.6514 34.978 18.5102 35.071 18.338ZM5.138 14.291H12.3C12.5652 14.291 12.8196 14.1856 13.0071 13.9981C13.1946 13.8106 13.3 13.5562 13.3 13.291C13.3 13.0258 13.1946 12.7714 13.0071 12.5839C12.8196 12.3963 12.5652 12.291 12.3 12.291H9.24L20.058 3.38398L30.875 12.289H27.723C27.4578 12.289 27.2034 12.3943 27.0159 12.5819C26.8284 12.7694 26.723 13.0238 26.723 13.289C26.723 13.5542 26.8284 13.8086 27.0159 13.9961C27.2034 14.1836 27.4578 14.289 27.723 14.289H34.951L33.585 16.868H6.5L5.138 14.291ZM28.4 30.459H23.132V18.87H28.4V30.459ZM11.6 18.87H16.867V30.459H11.6V18.87ZM18.867 18.87H21.131V30.459H18.868L18.867 18.87ZM7.335 18.87H9.6V30.459H7.336L7.335 18.87ZM35.612 32.459V35.722H4.478V32.459H35.612ZM30.399 30.459V18.87H32.664V30.459H30.399Z\" fill=\"currentColor\">\n",
      "              </path>\n",
      "             </svg>\n",
      "            </div>\n",
      "            <svg aria-hidden=\"true\" class=\"absolute top-4 left-4 z-10\" fill=\"currentColor\" height=\"40px\" viewbox=\"0 0 40 40\" width=\"40px\" xmlns=\"http://www.w3.org/2000/svg\">\n",
      "             <rect fill=\"white\" height=\"28\" rx=\"4\" transform=\"rotate(-45 0.57959 19.5)\" width=\"28\" x=\"0.57959\" y=\"19.5\">\n",
      "             </rect>\n",
      "             <path d=\"M23.5629 27.5891H21.1999L20.4719 25.3461C20.431 25.254 20.3642 25.1758 20.2797 25.1209C20.1952 25.0661 20.0967 25.0369 19.9959 25.0369C19.8952 25.0369 19.7966 25.0661 19.7121 25.1209C19.6276 25.1758 19.5609 25.254 19.5199 25.3461L18.7999 27.5891H16.4369C16.3325 27.5903 16.2311 27.6242 16.1469 27.686C16.0627 27.7479 16 27.8345 15.9676 27.9338C15.9352 28.033 15.9346 28.14 15.9661 28.2396C15.9975 28.3392 16.0594 28.4264 16.1429 28.4891L18.0509 29.8761L17.3219 32.1191C17.2891 32.2196 17.2891 32.3279 17.3217 32.4284C17.3543 32.529 17.418 32.6166 17.5035 32.6787C17.5891 32.7408 17.6921 32.7742 17.7978 32.7741C17.9035 32.774 18.0065 32.7404 18.0919 32.6781L19.9999 31.3001L21.9079 32.6861C21.9933 32.7484 22.0963 32.782 22.202 32.7821C22.3077 32.7822 22.4108 32.7488 22.4963 32.6867C22.5819 32.6246 22.6455 32.537 22.6781 32.4364C22.7108 32.3359 22.7107 32.2276 22.6779 32.1271L21.9489 29.8841L23.8569 28.4971C23.9405 28.4344 24.0023 28.3472 24.0338 28.2476C24.0652 28.148 24.0647 28.041 24.0322 27.9418C23.9998 27.8425 23.9371 27.7559 23.8529 27.694C23.7688 27.6322 23.6673 27.5983 23.5629 27.5971V27.5891Z\" fill=\"#0057d9\">\n",
      "             </path>\n",
      "             <path d=\"M37.851 16.465L23.535 2.14899C22.5974 1.21164 21.3258 0.685059 20 0.685059C18.6742 0.685059 17.4026 1.21164 16.465 2.14899L2.14899 16.465C1.21164 17.4026 0.685059 18.6742 0.685059 20C0.685059 21.3258 1.21164 22.5974 2.14899 23.535L16.465 37.851C17.4026 38.7883 18.6742 39.3149 20 39.3149C21.3258 39.3149 22.5974 38.7883 23.535 37.851L37.851 23.535C38.7883 22.5974 39.3149 21.3258 39.3149 20C39.3149 18.6742 38.7883 17.4026 37.851 16.465ZM36.437 22.121L22.121 36.437C21.5493 36.9819 20.7898 37.2859 20 37.2859C19.2102 37.2859 18.4507 36.9819 17.879 36.437L3.56299 22.121C3.00058 21.5584 2.68463 20.7955 2.68463 20C2.68463 19.2045 3.00058 18.4416 3.56299 17.879L17.879 3.56299C18.4416 3.00058 19.2045 2.68463 20 2.68463C20.7955 2.68463 21.5584 3.00058 22.121 3.56299L36.437 17.879C36.9994 18.4416 37.3154 19.2045 37.3154 20C37.3154 20.7955 36.9994 21.5584 36.437 22.121Z\" fill=\"white\">\n",
      "             </path>\n",
      "             <path d=\"M15.6749 14.7H16.7609V10.788H18.2229V9.82703H14.2129V10.788H15.6749V14.7Z\">\n",
      "             </path>\n",
      "             <path d=\"M19.5541 14.791C19.8059 14.8004 20.0569 14.7577 20.2914 14.6655C20.5258 14.5733 20.7387 14.4335 20.9166 14.2551C21.0944 14.0767 21.2335 13.8634 21.325 13.6286C21.4164 13.3939 21.4584 13.1427 21.4481 12.891C21.4481 12.3897 21.249 11.909 20.8946 11.5545C20.5401 11.2001 20.0594 11.001 19.5581 11.001C19.0569 11.001 18.5761 11.2001 18.2217 11.5545C17.8673 11.909 17.6681 12.3897 17.6681 12.891C17.6575 13.1421 17.6989 13.3928 17.7897 13.6272C17.8806 13.8616 18.0189 14.0747 18.196 14.2531C18.3731 14.4315 18.5851 14.5714 18.8189 14.6639C19.0526 14.7565 19.3029 14.7997 19.5541 14.791ZM19.5541 11.902C20.0351 11.902 20.3961 12.25 20.3961 12.89C20.3961 13.53 20.0351 13.885 19.5541 13.885C19.0731 13.885 18.7261 13.531 18.7261 12.89C18.7261 12.249 19.0811 11.9 19.5541 11.9V11.902Z\">\n",
      "             </path>\n",
      "             <path d=\"M22.9878 14.233C23.1011 14.411 23.2591 14.5562 23.4459 14.6541C23.6328 14.752 23.842 14.7992 24.0528 14.791C24.2839 14.7748 24.5094 14.7123 24.7159 14.6073C24.9224 14.5023 25.1057 14.3569 25.2549 14.1796C25.4042 14.0024 25.5163 13.7971 25.5846 13.5757C25.653 13.3544 25.6762 13.1215 25.6528 12.891C25.6763 12.6605 25.6532 12.4276 25.5849 12.2062C25.5166 11.9848 25.4045 11.7794 25.2553 11.6022C25.106 11.4249 24.9227 11.2795 24.7161 11.1745C24.5095 11.0695 24.284 11.0071 24.0528 10.991C23.8429 10.9828 23.6345 11.0292 23.4478 11.1256C23.2611 11.222 23.1027 11.3651 22.9878 11.541V11.088H21.9648V16.177H22.9878V14.233ZM23.7878 11.902C24.2678 11.902 24.6028 12.257 24.6028 12.902C24.6028 13.547 24.2678 13.89 23.7878 13.89C23.3078 13.89 22.9738 13.542 22.9738 12.902C22.9738 12.262 23.3078 11.9 23.7878 11.9V11.902Z\">\n",
      "             </path>\n",
      "             <path d=\"M11.5998 18.5C11.8437 18.5006 12.0818 18.5747 12.283 18.7126C12.4842 18.8505 12.6392 19.0458 12.7278 19.273L13.6458 18.709C13.459 18.3312 13.1658 18.0163 12.8023 17.803C12.4387 17.5898 12.0207 17.4876 11.5998 17.509C11.2677 17.4979 10.9369 17.5564 10.6287 17.6806C10.3205 17.8048 10.0416 17.9921 9.80999 18.2304C9.57837 18.4687 9.39911 18.7528 9.2837 19.0644C9.16829 19.376 9.11928 19.7083 9.13981 20.04C9.11986 20.3714 9.1693 20.7032 9.28497 21.0144C9.40064 21.3255 9.57999 21.6091 9.81155 21.847C10.0431 22.0848 10.3218 22.2717 10.6297 22.3957C10.9376 22.5197 11.268 22.5781 11.5998 22.567C12.0207 22.5884 12.4387 22.4862 12.8023 22.273C13.1658 22.0598 13.459 21.7448 13.6458 21.367L12.7278 20.803C12.6392 21.0303 12.4842 21.2256 12.283 21.3634C12.0818 21.5013 11.8437 21.5754 11.5998 21.576C11.408 21.5734 11.219 21.5301 11.0453 21.4489C10.8715 21.3677 10.717 21.2505 10.592 21.1051C10.467 20.9597 10.3744 20.7893 10.3202 20.6053C10.266 20.4214 10.2516 20.228 10.2778 20.038C10.2516 19.848 10.266 19.6547 10.3202 19.4707C10.3744 19.2867 10.467 19.1164 10.592 18.9709C10.717 18.8255 10.8715 18.7083 11.0453 18.6271C11.219 18.5459 11.408 18.5026 11.5998 18.5Z\">\n",
      "             </path>\n",
      "             <path d=\"M16.012 18.766C15.8204 18.7554 15.6297 18.7995 15.4622 18.8932C15.2947 18.9868 15.1573 19.1262 15.066 19.295V17.256H14.043V22.476H15.066V20.36C15.0551 20.2706 15.0637 20.1798 15.0912 20.0941C15.1187 20.0083 15.1644 19.9294 15.2251 19.8629C15.2859 19.7965 15.3604 19.7439 15.4434 19.7089C15.5263 19.6738 15.6159 19.6572 15.706 19.66C16.006 19.66 16.242 19.883 16.242 20.301V22.479H17.266V20.117C17.28 19.9442 17.2579 19.7704 17.2011 19.6066C17.1444 19.4428 17.0541 19.2926 16.9362 19.1656C16.8183 19.0385 16.6752 18.9374 16.5161 18.8686C16.357 18.7998 16.1853 18.7649 16.012 18.766Z\">\n",
      "             </path>\n",
      "             <path d=\"M19.634 18.7661C19.258 18.7649 18.8901 18.8753 18.5768 19.0833C18.2636 19.2914 18.0191 19.5877 17.8744 19.9348C17.7297 20.2819 17.6912 20.6641 17.7638 21.033C17.8364 21.402 18.0169 21.7411 18.2824 22.0074C18.5479 22.2737 18.8864 22.4553 19.2551 22.5291C19.6239 22.6029 20.0062 22.5656 20.3537 22.422C20.7013 22.2784 20.9984 22.0348 21.2074 21.7223C21.4164 21.4097 21.528 21.0421 21.528 20.6661C21.5387 20.4142 21.4971 20.1629 21.4058 19.9279C21.3145 19.6929 21.1754 19.4795 20.9975 19.3009C20.8195 19.1224 20.6065 18.9827 20.3718 18.8906C20.1371 18.7986 19.8859 18.7562 19.634 18.7661ZM19.634 21.6661C19.161 21.6661 18.806 21.3111 18.806 20.6711C18.806 20.0311 19.161 19.6821 19.634 19.6821C20.107 19.6821 20.476 20.0301 20.476 20.6711C20.476 21.3121 20.115 21.6621 19.634 21.6621V21.6661Z\">\n",
      "             </path>\n",
      "             <path d=\"M22.5659 17.2419C22.4833 17.2354 22.4002 17.2462 22.3219 17.2734C22.2436 17.3006 22.1718 17.3438 22.111 17.4002C22.0502 17.4565 22.0017 17.5249 21.9687 17.6009C21.9356 17.677 21.9187 17.759 21.9189 17.8419C21.9344 18.002 22.0089 18.1506 22.128 18.2587C22.2471 18.3668 22.4021 18.4267 22.5629 18.4267C22.7238 18.4267 22.8788 18.3668 22.9979 18.2587C23.1169 18.1506 23.1915 18.002 23.2069 17.8419C23.2082 17.7593 23.1921 17.6773 23.1598 17.6012C23.1275 17.5251 23.0796 17.4566 23.0193 17.4001C22.9589 17.3436 22.8874 17.3003 22.8093 17.2731C22.7313 17.2458 22.6484 17.2352 22.5659 17.2419Z\">\n",
      "             </path>\n",
      "             <path d=\"M23.0669 18.864H22.0439V22.477H23.0669V18.864Z\">\n",
      "             </path>\n",
      "             <path d=\"M25.4698 19.671C25.6391 19.6601 25.8073 19.7043 25.9493 19.7972C26.0912 19.8901 26.1991 20.0265 26.2568 20.186L27.1128 19.692C26.9634 19.3907 26.7268 19.1413 26.4338 18.9762C26.1408 18.8111 25.805 18.7378 25.4698 18.766C24.9659 18.766 24.4826 18.9662 24.1263 19.3225C23.77 19.6789 23.5698 20.1621 23.5698 20.666C23.5698 21.17 23.77 21.6532 24.1263 22.0095C24.4826 22.3659 24.9659 22.566 25.4698 22.566C25.8049 22.5941 26.1408 22.5208 26.4337 22.3557C26.7267 22.1906 26.9633 21.9413 27.1128 21.64L26.2568 21.146C26.1993 21.3056 26.0914 21.4422 25.9494 21.5351C25.8074 21.628 25.6391 21.6722 25.4698 21.661C25.0518 21.661 24.6418 21.347 24.6418 20.666C24.6418 19.985 25.0518 19.671 25.4698 19.671Z\">\n",
      "             </path>\n",
      "             <path d=\"M29.134 18.766C28.8889 18.7627 28.6458 18.8104 28.4202 18.9063C28.1946 19.0022 27.9915 19.144 27.8238 19.3228C27.6561 19.5016 27.5275 19.7134 27.4463 19.9447C27.3651 20.176 27.333 20.4217 27.352 20.666C27.3367 20.9183 27.3749 21.171 27.4641 21.4075C27.5533 21.644 27.6914 21.859 27.8695 22.0384C28.0476 22.2178 28.2615 22.3575 28.4974 22.4485C28.7332 22.5394 28.9856 22.5795 29.238 22.566C29.5305 22.5793 29.8218 22.5227 30.0881 22.4009C30.3543 22.2792 30.5877 22.0959 30.769 21.866L30.06 21.288C29.9718 21.4233 29.8492 21.5326 29.7047 21.6046C29.5602 21.6767 29.3991 21.709 29.238 21.698C29.1312 21.7063 29.0239 21.6925 28.9227 21.6575C28.8214 21.6225 28.7285 21.5671 28.6495 21.4947C28.5706 21.4224 28.5073 21.3345 28.4637 21.2367C28.4201 21.1389 28.3971 21.0331 28.396 20.926H30.853C30.86 20.849 30.86 20.745 30.86 20.669C30.8839 20.4281 30.8571 20.1849 30.7812 19.955C30.7053 19.7252 30.582 19.5138 30.4194 19.3344C30.2568 19.1551 30.0584 19.0119 29.837 18.914C29.6156 18.8161 29.3761 18.7657 29.134 18.766ZM28.417 20.242C28.4202 20.1514 28.4414 20.0623 28.4792 19.9799C28.5171 19.8975 28.5709 19.8234 28.6376 19.7619C28.7043 19.7005 28.7825 19.6528 28.8677 19.6218C28.9529 19.5907 29.0434 19.5769 29.134 19.581C29.489 19.581 29.739 19.781 29.834 20.242H28.417Z\">\n",
      "             </path>\n",
      "            </svg>\n",
      "            <div class=\"space-y-4 mt-4\">\n",
      "             <p>\n",
      "              <a class=\"card-link line-clamp-2 w-[80%] md:w-90\" href=\"/cameroon/bandjoun/attractions/chefferie/a/poi-sig/1300217/1341707\">\n",
      "               <span class=\"heading-05 font-semibold\">\n",
      "                Chefferie\n",
      "               </span>\n",
      "              </a>\n",
      "             </p>\n",
      "             <p class=\"text-sm font-semibold uppercase !mt-2\">\n",
      "              Cameroon\n",
      "             </p>\n",
      "             <p class=\"relative flex flex-wrap justify-start items-start gap-x-4 gap-y-2 max-w-full label-sm uppercase hidden\">\n",
      "             </p>\n",
      "             <p class=\"relative line-clamp-3\">\n",
      "              Approached via a ceremonial gate, the compound is centred on a hugely impressive bamboo building, its conical thatched roof supported by wooden pillars…\n",
      "             </p>\n",
      "            </div>\n",
      "           </article>\n",
      "          </div>\n",
      "         </li>\n",
      "         <li class=\"col-span-1 md:col-span-3 lg:col-span-3\">\n",
      "          <div class=\"relative\">\n",
      "           <article class=\"relative rounded\">\n",
      "            <img alt=\"The Royal Palace Museum of the Fon dynasty kings of the Dahomey Empire. The Museum is a UNESCO World Heritage Site. Abomey, Benin. West Africa. (Photo by: Education Images/UIG via Getty Images)\" class=\"max-w-full object-cover rounded relative aspect-square\" data-nimg=\"1\" decoding=\"async\" height=\"400\" loading=\"lazy\" src=\"https://lp-cms-production.imgix.net/2019-06/481660505_master.jpg?fit=crop&amp;ar=1%3A1&amp;w=1200&amp;auto=format&amp;q=75\" srcset=\"https://lp-cms-production.imgix.net/2019-06/481660505_master.jpg?fit=crop&amp;ar=1%3A1&amp;w=640&amp;auto=format&amp;q=75 1x, https://lp-cms-production.imgix.net/2019-06/481660505_master.jpg?fit=crop&amp;ar=1%3A1&amp;w=1200&amp;auto=format&amp;q=75 2x\" style=\"color:transparent\" width=\"600\"/>\n",
      "            <div class=\"space-y-4 mt-4\">\n",
      "             <p>\n",
      "              <a class=\"card-link line-clamp-2 w-[80%] md:w-90\" href=\"/cameroon/the-ring-road/attractions/fon-s-palace/a/poi-sig/1014679/1327472\">\n",
      "               <span class=\"heading-05 font-semibold\">\n",
      "                Fon's Palace\n",
      "               </span>\n",
      "              </a>\n",
      "             </p>\n",
      "             <p class=\"text-sm font-semibold uppercase !mt-2\">\n",
      "              Cameroon\n",
      "             </p>\n",
      "             <p class=\"relative flex flex-wrap justify-start items-start gap-x-4 gap-y-2 max-w-full label-sm uppercase hidden\">\n",
      "             </p>\n",
      "             <p class=\"relative line-clamp-3\">\n",
      "              Just north of Bamenda is the large Tikar community of Bafut, traditionally the most powerful of the Grassfields kingdoms. The fon's (local chief's) palace…\n",
      "             </p>\n",
      "            </div>\n",
      "           </article>\n",
      "          </div>\n",
      "         </li>\n",
      "         <li class=\"col-span-1 md:col-span-3 lg:col-span-3\">\n",
      "          <div class=\"relative\">\n",
      "           <article class=\"relative rounded\">\n",
      "            <img alt=\"Mandrill -Mandrillus sphinx-, female, animal portrait, captive, South-West Region, Cameroon\" class=\"max-w-full object-cover rounded relative aspect-square\" data-nimg=\"1\" decoding=\"async\" height=\"400\" loading=\"lazy\" src=\"https://lp-cms-production.imgix.net/2019-06/508490591_super.jpg?fit=crop&amp;ar=1%3A1&amp;w=1200&amp;auto=format&amp;q=75\" srcset=\"https://lp-cms-production.imgix.net/2019-06/508490591_super.jpg?fit=crop&amp;ar=1%3A1&amp;w=640&amp;auto=format&amp;q=75 1x, https://lp-cms-production.imgix.net/2019-06/508490591_super.jpg?fit=crop&amp;ar=1%3A1&amp;w=1200&amp;auto=format&amp;q=75 2x\" style=\"color:transparent\" width=\"600\"/>\n",
      "            <div class=\"space-y-4 mt-4\">\n",
      "             <p>\n",
      "              <a class=\"card-link line-clamp-2 w-[80%] md:w-90\" href=\"/cameroon/western-cameroon/limbe/attractions/limbe-wildlife-centre/a/poi-sig/1299814/355115\">\n",
      "               <span class=\"heading-05 font-semibold\">\n",
      "                Limbe Wildlife Centre\n",
      "               </span>\n",
      "              </a>\n",
      "             </p>\n",
      "             <p class=\"text-sm font-semibold uppercase !mt-2\">\n",
      "              Cameroon\n",
      "             </p>\n",
      "             <p class=\"relative flex flex-wrap justify-start items-start gap-x-4 gap-y-2 max-w-full label-sm uppercase hidden\">\n",
      "             </p>\n",
      "             <p class=\"relative line-clamp-3\">\n",
      "              Many zoos in Africa are depressing places, but the Limbe Wildlife Centre is a shining exception. It houses rescued chimpanzees, gorillas, drills and other…\n",
      "             </p>\n",
      "            </div>\n",
      "           </article>\n",
      "          </div>\n",
      "         </li>\n",
      "         <li class=\"col-span-1 md:col-span-3 lg:col-span-3\">\n",
      "          <div class=\"relative\">\n",
      "           <article class=\"relative rounded\">\n",
      "            <div class=\"relative flex max-w-full items-center justify-center overflow-hidden rounded relative aspect-square\">\n",
      "             <img alt=\"\" class=\"max-w-full w-full h-full object-cover rounded relative aspect-square\" data-nimg=\"1\" decoding=\"async\" height=\"400\" loading=\"lazy\" src=\"https://lonelyplanetstatic.imgix.net/marketing/placeholders/placeholder-attractions.jpg?fit=crop&amp;ar=1%3A1&amp;w=1200&amp;auto=format&amp;q=75\" srcset=\"https://lonelyplanetstatic.imgix.net/marketing/placeholders/placeholder-attractions.jpg?fit=crop&amp;ar=1%3A1&amp;w=640&amp;auto=format&amp;q=75 1x, https://lonelyplanetstatic.imgix.net/marketing/placeholders/placeholder-attractions.jpg?fit=crop&amp;ar=1%3A1&amp;w=1200&amp;auto=format&amp;q=75 2x\" style=\"color:transparent\" width=\"600\"/>\n",
      "             <svg aria-hidden=\"true\" class=\"absolute top-[50%] left-0 right-0 w-24 max-w-[30%] h-auto mx-auto text-white aspect-square transform translate-y-[-50%]\" fill=\"currentColor\" height=\"1em\" viewbox=\"0 0 40 40\" width=\"1em\" xmlns=\"http://www.w3.org/2000/svg\">\n",
      "              <path d=\"M20.716 7.34598C20.5338 7.18675 20.3 7.099 20.058 7.099C19.816 7.099 19.5822 7.18675 19.4 7.34598L16.367 9.99499C16.2596 10.0888 16.1735 10.2046 16.1145 10.3345C16.0555 10.4644 16.025 10.6053 16.025 10.748C16.025 10.8906 16.0555 11.0316 16.1145 11.1615C16.1735 11.2914 16.2596 11.4071 16.367 11.501L19.4 14.151C19.5822 14.3102 19.816 14.398 20.058 14.398C20.3 14.398 20.5338 14.3102 20.716 14.151L23.749 11.501C23.8564 11.4071 23.9425 11.2914 24.0015 11.1615C24.0605 11.0316 24.091 10.8906 24.091 10.748C24.091 10.6053 24.0605 10.4644 24.0015 10.3345C23.9425 10.2046 23.8564 10.0888 23.749 9.99499L20.716 7.34598Z\" fill=\"currentColor\">\n",
      "              </path>\n",
      "              <path d=\"M35.071 18.338L37.5 13.759C37.5807 13.6066 37.6206 13.4359 37.6159 13.2635C37.6111 13.0911 37.5619 12.9229 37.4729 12.7751C37.384 12.6274 37.2583 12.5052 37.1082 12.4203C36.958 12.3355 36.7885 12.2909 36.616 12.291H34.023L20.693 1.31798C20.514 1.17064 20.2893 1.09008 20.0575 1.09008C19.8257 1.09008 19.601 1.17064 19.422 1.31798L6.093 12.291H3.477C3.30454 12.2909 3.135 12.3355 2.98485 12.4203C2.83469 12.5052 2.70903 12.6274 2.62006 12.7751C2.5311 12.9229 2.48185 13.0911 2.47711 13.2635C2.47237 13.4359 2.51229 13.6066 2.593 13.759L5.018 18.338C5.09427 18.4783 5.20338 18.598 5.336 18.687V30.459H3.478C3.21279 30.459 2.95843 30.5643 2.7709 30.7519C2.58336 30.9394 2.478 31.1938 2.478 31.459V36.722C2.478 36.9872 2.58336 37.2416 2.7709 37.4291C2.95843 37.6166 3.21279 37.722 3.478 37.722H36.612C36.8772 37.722 37.1316 37.6166 37.3191 37.4291C37.5066 37.2416 37.612 36.9872 37.612 36.722V31.459C37.612 31.1938 37.5066 30.9394 37.3191 30.7519C37.1316 30.5643 36.8772 30.459 36.612 30.459H34.664V18.744C34.8365 18.6514 34.978 18.5102 35.071 18.338ZM5.138 14.291H12.3C12.5652 14.291 12.8196 14.1856 13.0071 13.9981C13.1946 13.8106 13.3 13.5562 13.3 13.291C13.3 13.0258 13.1946 12.7714 13.0071 12.5839C12.8196 12.3963 12.5652 12.291 12.3 12.291H9.24L20.058 3.38398L30.875 12.289H27.723C27.4578 12.289 27.2034 12.3943 27.0159 12.5819C26.8284 12.7694 26.723 13.0238 26.723 13.289C26.723 13.5542 26.8284 13.8086 27.0159 13.9961C27.2034 14.1836 27.4578 14.289 27.723 14.289H34.951L33.585 16.868H6.5L5.138 14.291ZM28.4 30.459H23.132V18.87H28.4V30.459ZM11.6 18.87H16.867V30.459H11.6V18.87ZM18.867 18.87H21.131V30.459H18.868L18.867 18.87ZM7.335 18.87H9.6V30.459H7.336L7.335 18.87ZM35.612 32.459V35.722H4.478V32.459H35.612ZM30.399 30.459V18.87H32.664V30.459H30.399Z\" fill=\"currentColor\">\n",
      "              </path>\n",
      "             </svg>\n",
      "            </div>\n",
      "            <div class=\"space-y-4 mt-4\">\n",
      "             <p>\n",
      "              <a class=\"card-link line-clamp-2 w-[80%] md:w-90\" href=\"/cameroon/western-cameroon/limbe/attractions/botanical-gardens/a/poi-sig/1299817/355115\">\n",
      "               <span class=\"heading-05 font-semibold\">\n",
      "                Botanical Gardens\n",
      "               </span>\n",
      "              </a>\n",
      "             </p>\n",
      "             <p class=\"text-sm font-semibold uppercase !mt-2\">\n",
      "              Cameroon\n",
      "             </p>\n",
      "             <p class=\"relative flex flex-wrap justify-start items-start gap-x-4 gap-y-2 max-w-full label-sm uppercase hidden\">\n",
      "             </p>\n",
      "             <p class=\"relative line-clamp-3\">\n",
      "              Limbe's Botanical Gardens, the second oldest in Africa, are the home of, among others, cinnamon, nutmeg, mango, ancient cycads and an unnamed tree that…\n",
      "             </p>\n",
      "            </div>\n",
      "           </article>\n",
      "          </div>\n",
      "         </li>\n",
      "         <li class=\"col-span-1 md:col-span-3 lg:col-span-3\">\n",
      "          <div class=\"relative\">\n",
      "           <article class=\"relative rounded\">\n",
      "            <div class=\"relative flex max-w-full items-center justify-center overflow-hidden rounded relative aspect-square\">\n",
      "             <img alt=\"\" class=\"max-w-full w-full h-full object-cover rounded relative aspect-square\" data-nimg=\"1\" decoding=\"async\" height=\"400\" loading=\"lazy\" src=\"https://lonelyplanetstatic.imgix.net/marketing/placeholders/placeholder-attractions.jpg?fit=crop&amp;ar=1%3A1&amp;w=1200&amp;auto=format&amp;q=75\" srcset=\"https://lonelyplanetstatic.imgix.net/marketing/placeholders/placeholder-attractions.jpg?fit=crop&amp;ar=1%3A1&amp;w=640&amp;auto=format&amp;q=75 1x, https://lonelyplanetstatic.imgix.net/marketing/placeholders/placeholder-attractions.jpg?fit=crop&amp;ar=1%3A1&amp;w=1200&amp;auto=format&amp;q=75 2x\" style=\"color:transparent\" width=\"600\"/>\n",
      "             <svg aria-hidden=\"true\" class=\"absolute top-[50%] left-0 right-0 w-24 max-w-[30%] h-auto mx-auto text-white aspect-square transform translate-y-[-50%]\" fill=\"currentColor\" height=\"1em\" viewbox=\"0 0 40 40\" width=\"1em\" xmlns=\"http://www.w3.org/2000/svg\">\n",
      "              <path d=\"M20.716 7.34598C20.5338 7.18675 20.3 7.099 20.058 7.099C19.816 7.099 19.5822 7.18675 19.4 7.34598L16.367 9.99499C16.2596 10.0888 16.1735 10.2046 16.1145 10.3345C16.0555 10.4644 16.025 10.6053 16.025 10.748C16.025 10.8906 16.0555 11.0316 16.1145 11.1615C16.1735 11.2914 16.2596 11.4071 16.367 11.501L19.4 14.151C19.5822 14.3102 19.816 14.398 20.058 14.398C20.3 14.398 20.5338 14.3102 20.716 14.151L23.749 11.501C23.8564 11.4071 23.9425 11.2914 24.0015 11.1615C24.0605 11.0316 24.091 10.8906 24.091 10.748C24.091 10.6053 24.0605 10.4644 24.0015 10.3345C23.9425 10.2046 23.8564 10.0888 23.749 9.99499L20.716 7.34598Z\" fill=\"currentColor\">\n",
      "              </path>\n",
      "              <path d=\"M35.071 18.338L37.5 13.759C37.5807 13.6066 37.6206 13.4359 37.6159 13.2635C37.6111 13.0911 37.5619 12.9229 37.4729 12.7751C37.384 12.6274 37.2583 12.5052 37.1082 12.4203C36.958 12.3355 36.7885 12.2909 36.616 12.291H34.023L20.693 1.31798C20.514 1.17064 20.2893 1.09008 20.0575 1.09008C19.8257 1.09008 19.601 1.17064 19.422 1.31798L6.093 12.291H3.477C3.30454 12.2909 3.135 12.3355 2.98485 12.4203C2.83469 12.5052 2.70903 12.6274 2.62006 12.7751C2.5311 12.9229 2.48185 13.0911 2.47711 13.2635C2.47237 13.4359 2.51229 13.6066 2.593 13.759L5.018 18.338C5.09427 18.4783 5.20338 18.598 5.336 18.687V30.459H3.478C3.21279 30.459 2.95843 30.5643 2.7709 30.7519C2.58336 30.9394 2.478 31.1938 2.478 31.459V36.722C2.478 36.9872 2.58336 37.2416 2.7709 37.4291C2.95843 37.6166 3.21279 37.722 3.478 37.722H36.612C36.8772 37.722 37.1316 37.6166 37.3191 37.4291C37.5066 37.2416 37.612 36.9872 37.612 36.722V31.459C37.612 31.1938 37.5066 30.9394 37.3191 30.7519C37.1316 30.5643 36.8772 30.459 36.612 30.459H34.664V18.744C34.8365 18.6514 34.978 18.5102 35.071 18.338ZM5.138 14.291H12.3C12.5652 14.291 12.8196 14.1856 13.0071 13.9981C13.1946 13.8106 13.3 13.5562 13.3 13.291C13.3 13.0258 13.1946 12.7714 13.0071 12.5839C12.8196 12.3963 12.5652 12.291 12.3 12.291H9.24L20.058 3.38398L30.875 12.289H27.723C27.4578 12.289 27.2034 12.3943 27.0159 12.5819C26.8284 12.7694 26.723 13.0238 26.723 13.289C26.723 13.5542 26.8284 13.8086 27.0159 13.9961C27.2034 14.1836 27.4578 14.289 27.723 14.289H34.951L33.585 16.868H6.5L5.138 14.291ZM28.4 30.459H23.132V18.87H28.4V30.459ZM11.6 18.87H16.867V30.459H11.6V18.87ZM18.867 18.87H21.131V30.459H18.868L18.867 18.87ZM7.335 18.87H9.6V30.459H7.336L7.335 18.87ZM35.612 32.459V35.722H4.478V32.459H35.612ZM30.399 30.459V18.87H32.664V30.459H30.399Z\" fill=\"currentColor\">\n",
      "              </path>\n",
      "             </svg>\n",
      "            </div>\n",
      "            <div class=\"space-y-4 mt-4\">\n",
      "             <p>\n",
      "              <a class=\"card-link line-clamp-2 w-[80%] md:w-90\" href=\"/cameroon/campo/attractions/parc-national-de-campo-ma-an/a/poi-sig/1556902/1327503\">\n",
      "               <span class=\"heading-05 font-semibold\">\n",
      "                Parc National de Campo-Ma'an\n",
      "               </span>\n",
      "              </a>\n",
      "             </p>\n",
      "             <p class=\"text-sm font-semibold uppercase !mt-2\">\n",
      "              Cameroon\n",
      "             </p>\n",
      "             <p class=\"relative flex flex-wrap justify-start items-start gap-x-4 gap-y-2 max-w-full label-sm uppercase hidden\">\n",
      "             </p>\n",
      "             <p class=\"relative line-clamp-3\">\n",
      "              Campo-Ma'an comprises 7700 sq km of protected biodiverse rainforest, sheltering many wonderful plants and animals, including buffaloes, forest elephants,…\n",
      "             </p>\n",
      "            </div>\n",
      "           </article>\n",
      "          </div>\n",
      "         </li>\n",
      "         <li class=\"col-span-1 md:col-span-3 lg:col-span-3\">\n",
      "          <div class=\"relative\">\n",
      "           <article class=\"relative rounded\">\n",
      "            <div class=\"relative flex max-w-full items-center justify-center overflow-hidden rounded relative aspect-square\">\n",
      "             <img alt=\"\" class=\"max-w-full w-full h-full object-cover rounded relative aspect-square\" data-nimg=\"1\" decoding=\"async\" height=\"400\" loading=\"lazy\" src=\"https://lonelyplanetstatic.imgix.net/marketing/placeholders/placeholder-attractions.jpg?fit=crop&amp;ar=1%3A1&amp;w=1200&amp;auto=format&amp;q=75\" srcset=\"https://lonelyplanetstatic.imgix.net/marketing/placeholders/placeholder-attractions.jpg?fit=crop&amp;ar=1%3A1&amp;w=640&amp;auto=format&amp;q=75 1x, https://lonelyplanetstatic.imgix.net/marketing/placeholders/placeholder-attractions.jpg?fit=crop&amp;ar=1%3A1&amp;w=1200&amp;auto=format&amp;q=75 2x\" style=\"color:transparent\" width=\"600\"/>\n",
      "             <svg aria-hidden=\"true\" class=\"absolute top-[50%] left-0 right-0 w-24 max-w-[30%] h-auto mx-auto text-white aspect-square transform translate-y-[-50%]\" fill=\"currentColor\" height=\"1em\" viewbox=\"0 0 40 40\" width=\"1em\" xmlns=\"http://www.w3.org/2000/svg\">\n",
      "              <path d=\"M20.716 7.34598C20.5338 7.18675 20.3 7.099 20.058 7.099C19.816 7.099 19.5822 7.18675 19.4 7.34598L16.367 9.99499C16.2596 10.0888 16.1735 10.2046 16.1145 10.3345C16.0555 10.4644 16.025 10.6053 16.025 10.748C16.025 10.8906 16.0555 11.0316 16.1145 11.1615C16.1735 11.2914 16.2596 11.4071 16.367 11.501L19.4 14.151C19.5822 14.3102 19.816 14.398 20.058 14.398C20.3 14.398 20.5338 14.3102 20.716 14.151L23.749 11.501C23.8564 11.4071 23.9425 11.2914 24.0015 11.1615C24.0605 11.0316 24.091 10.8906 24.091 10.748C24.091 10.6053 24.0605 10.4644 24.0015 10.3345C23.9425 10.2046 23.8564 10.0888 23.749 9.99499L20.716 7.34598Z\" fill=\"currentColor\">\n",
      "              </path>\n",
      "              <path d=\"M35.071 18.338L37.5 13.759C37.5807 13.6066 37.6206 13.4359 37.6159 13.2635C37.6111 13.0911 37.5619 12.9229 37.4729 12.7751C37.384 12.6274 37.2583 12.5052 37.1082 12.4203C36.958 12.3355 36.7885 12.2909 36.616 12.291H34.023L20.693 1.31798C20.514 1.17064 20.2893 1.09008 20.0575 1.09008C19.8257 1.09008 19.601 1.17064 19.422 1.31798L6.093 12.291H3.477C3.30454 12.2909 3.135 12.3355 2.98485 12.4203C2.83469 12.5052 2.70903 12.6274 2.62006 12.7751C2.5311 12.9229 2.48185 13.0911 2.47711 13.2635C2.47237 13.4359 2.51229 13.6066 2.593 13.759L5.018 18.338C5.09427 18.4783 5.20338 18.598 5.336 18.687V30.459H3.478C3.21279 30.459 2.95843 30.5643 2.7709 30.7519C2.58336 30.9394 2.478 31.1938 2.478 31.459V36.722C2.478 36.9872 2.58336 37.2416 2.7709 37.4291C2.95843 37.6166 3.21279 37.722 3.478 37.722H36.612C36.8772 37.722 37.1316 37.6166 37.3191 37.4291C37.5066 37.2416 37.612 36.9872 37.612 36.722V31.459C37.612 31.1938 37.5066 30.9394 37.3191 30.7519C37.1316 30.5643 36.8772 30.459 36.612 30.459H34.664V18.744C34.8365 18.6514 34.978 18.5102 35.071 18.338ZM5.138 14.291H12.3C12.5652 14.291 12.8196 14.1856 13.0071 13.9981C13.1946 13.8106 13.3 13.5562 13.3 13.291C13.3 13.0258 13.1946 12.7714 13.0071 12.5839C12.8196 12.3963 12.5652 12.291 12.3 12.291H9.24L20.058 3.38398L30.875 12.289H27.723C27.4578 12.289 27.2034 12.3943 27.0159 12.5819C26.8284 12.7694 26.723 13.0238 26.723 13.289C26.723 13.5542 26.8284 13.8086 27.0159 13.9961C27.2034 14.1836 27.4578 14.289 27.723 14.289H34.951L33.585 16.868H6.5L5.138 14.291ZM28.4 30.459H23.132V18.87H28.4V30.459ZM11.6 18.87H16.867V30.459H11.6V18.87ZM18.867 18.87H21.131V30.459H18.868L18.867 18.87ZM7.335 18.87H9.6V30.459H7.336L7.335 18.87ZM35.612 32.459V35.722H4.478V32.459H35.612ZM30.399 30.459V18.87H32.664V30.459H30.399Z\" fill=\"currentColor\">\n",
      "              </path>\n",
      "             </svg>\n",
      "            </div>\n",
      "            <div class=\"space-y-4 mt-4\">\n",
      "             <p>\n",
      "              <a class=\"card-link line-clamp-2 w-[80%] md:w-90\" href=\"/cameroon/southern-cameroon/kribi/attractions/chutes-de-la-lobe/a/poi-sig/1556887/355110\">\n",
      "               <span class=\"heading-05 font-semibold\">\n",
      "                Chutes de la Lobé\n",
      "               </span>\n",
      "              </a>\n",
      "             </p>\n",
      "             <p class=\"text-sm font-semibold uppercase !mt-2\">\n",
      "              Cameroon\n",
      "             </p>\n",
      "             <p class=\"relative flex flex-wrap justify-start items-start gap-x-4 gap-y-2 max-w-full label-sm uppercase hidden\">\n",
      "             </p>\n",
      "             <p class=\"relative line-clamp-3\">\n",
      "              The Chutes de la Lobé are an impressive set of waterfalls that empty directly into the sea – it's a beautiful sight. Take a moto-taxi (CFA500), or make a…\n",
      "             </p>\n",
      "            </div>\n",
      "           </article>\n",
      "          </div>\n",
      "         </li>\n",
      "         <li class=\"col-span-1 md:col-span-3 lg:col-span-3\">\n",
      "          <div class=\"relative\">\n",
      "           <article class=\"relative rounded\">\n",
      "            <div class=\"relative flex max-w-full items-center justify-center overflow-hidden rounded relative aspect-square\">\n",
      "             <img alt=\"\" class=\"max-w-full w-full h-full object-cover rounded relative aspect-square\" data-nimg=\"1\" decoding=\"async\" height=\"400\" loading=\"lazy\" src=\"https://lonelyplanetstatic.imgix.net/marketing/placeholders/placeholder-attractions.jpg?fit=crop&amp;ar=1%3A1&amp;w=1200&amp;auto=format&amp;q=75\" srcset=\"https://lonelyplanetstatic.imgix.net/marketing/placeholders/placeholder-attractions.jpg?fit=crop&amp;ar=1%3A1&amp;w=640&amp;auto=format&amp;q=75 1x, https://lonelyplanetstatic.imgix.net/marketing/placeholders/placeholder-attractions.jpg?fit=crop&amp;ar=1%3A1&amp;w=1200&amp;auto=format&amp;q=75 2x\" style=\"color:transparent\" width=\"600\"/>\n",
      "             <svg aria-hidden=\"true\" class=\"absolute top-[50%] left-0 right-0 w-24 max-w-[30%] h-auto mx-auto text-white aspect-square transform translate-y-[-50%]\" fill=\"currentColor\" height=\"1em\" viewbox=\"0 0 40 40\" width=\"1em\" xmlns=\"http://www.w3.org/2000/svg\">\n",
      "              <path d=\"M20.716 7.34598C20.5338 7.18675 20.3 7.099 20.058 7.099C19.816 7.099 19.5822 7.18675 19.4 7.34598L16.367 9.99499C16.2596 10.0888 16.1735 10.2046 16.1145 10.3345C16.0555 10.4644 16.025 10.6053 16.025 10.748C16.025 10.8906 16.0555 11.0316 16.1145 11.1615C16.1735 11.2914 16.2596 11.4071 16.367 11.501L19.4 14.151C19.5822 14.3102 19.816 14.398 20.058 14.398C20.3 14.398 20.5338 14.3102 20.716 14.151L23.749 11.501C23.8564 11.4071 23.9425 11.2914 24.0015 11.1615C24.0605 11.0316 24.091 10.8906 24.091 10.748C24.091 10.6053 24.0605 10.4644 24.0015 10.3345C23.9425 10.2046 23.8564 10.0888 23.749 9.99499L20.716 7.34598Z\" fill=\"currentColor\">\n",
      "              </path>\n",
      "              <path d=\"M35.071 18.338L37.5 13.759C37.5807 13.6066 37.6206 13.4359 37.6159 13.2635C37.6111 13.0911 37.5619 12.9229 37.4729 12.7751C37.384 12.6274 37.2583 12.5052 37.1082 12.4203C36.958 12.3355 36.7885 12.2909 36.616 12.291H34.023L20.693 1.31798C20.514 1.17064 20.2893 1.09008 20.0575 1.09008C19.8257 1.09008 19.601 1.17064 19.422 1.31798L6.093 12.291H3.477C3.30454 12.2909 3.135 12.3355 2.98485 12.4203C2.83469 12.5052 2.70903 12.6274 2.62006 12.7751C2.5311 12.9229 2.48185 13.0911 2.47711 13.2635C2.47237 13.4359 2.51229 13.6066 2.593 13.759L5.018 18.338C5.09427 18.4783 5.20338 18.598 5.336 18.687V30.459H3.478C3.21279 30.459 2.95843 30.5643 2.7709 30.7519C2.58336 30.9394 2.478 31.1938 2.478 31.459V36.722C2.478 36.9872 2.58336 37.2416 2.7709 37.4291C2.95843 37.6166 3.21279 37.722 3.478 37.722H36.612C36.8772 37.722 37.1316 37.6166 37.3191 37.4291C37.5066 37.2416 37.612 36.9872 37.612 36.722V31.459C37.612 31.1938 37.5066 30.9394 37.3191 30.7519C37.1316 30.5643 36.8772 30.459 36.612 30.459H34.664V18.744C34.8365 18.6514 34.978 18.5102 35.071 18.338ZM5.138 14.291H12.3C12.5652 14.291 12.8196 14.1856 13.0071 13.9981C13.1946 13.8106 13.3 13.5562 13.3 13.291C13.3 13.0258 13.1946 12.7714 13.0071 12.5839C12.8196 12.3963 12.5652 12.291 12.3 12.291H9.24L20.058 3.38398L30.875 12.289H27.723C27.4578 12.289 27.2034 12.3943 27.0159 12.5819C26.8284 12.7694 26.723 13.0238 26.723 13.289C26.723 13.5542 26.8284 13.8086 27.0159 13.9961C27.2034 14.1836 27.4578 14.289 27.723 14.289H34.951L33.585 16.868H6.5L5.138 14.291ZM28.4 30.459H23.132V18.87H28.4V30.459ZM11.6 18.87H16.867V30.459H11.6V18.87ZM18.867 18.87H21.131V30.459H18.868L18.867 18.87ZM7.335 18.87H9.6V30.459H7.336L7.335 18.87ZM35.612 32.459V35.722H4.478V32.459H35.612ZM30.399 30.459V18.87H32.664V30.459H30.399Z\" fill=\"currentColor\">\n",
      "              </path>\n",
      "             </svg>\n",
      "            </div>\n",
      "            <div class=\"space-y-4 mt-4\">\n",
      "             <p>\n",
      "              <a class=\"card-link line-clamp-2 w-[80%] md:w-90\" href=\"/cameroon/western-cameroon/douala/attractions/espace-doual-art/a/poi-sig/1341839/355113\">\n",
      "               <span class=\"heading-05 font-semibold\">\n",
      "                Espace Doual'art\n",
      "               </span>\n",
      "              </a>\n",
      "             </p>\n",
      "             <p class=\"text-sm font-semibold uppercase !mt-2\">\n",
      "              Cameroon\n",
      "             </p>\n",
      "             <p class=\"relative flex flex-wrap justify-start items-start gap-x-4 gap-y-2 max-w-full label-sm uppercase hidden\">\n",
      "             </p>\n",
      "             <p class=\"relative line-clamp-3\">\n",
      "              Well worth dropping into if you're nearby in Douala, this contemporary art space hosts changing displays of work from all over Cameroon and the rest of…\n",
      "             </p>\n",
      "            </div>\n",
      "           </article>\n",
      "          </div>\n",
      "         </li>\n",
      "         <li class=\"col-span-1 md:col-span-3 lg:col-span-3\">\n",
      "          <div class=\"relative\">\n",
      "           <article class=\"relative rounded\">\n",
      "            <div class=\"relative flex max-w-full items-center justify-center overflow-hidden rounded relative aspect-square\">\n",
      "             <img alt=\"\" class=\"max-w-full w-full h-full object-cover rounded relative aspect-square\" data-nimg=\"1\" decoding=\"async\" height=\"400\" loading=\"lazy\" src=\"https://lonelyplanetstatic.imgix.net/marketing/placeholders/placeholder-attractions.jpg?fit=crop&amp;ar=1%3A1&amp;w=1200&amp;auto=format&amp;q=75\" srcset=\"https://lonelyplanetstatic.imgix.net/marketing/placeholders/placeholder-attractions.jpg?fit=crop&amp;ar=1%3A1&amp;w=640&amp;auto=format&amp;q=75 1x, https://lonelyplanetstatic.imgix.net/marketing/placeholders/placeholder-attractions.jpg?fit=crop&amp;ar=1%3A1&amp;w=1200&amp;auto=format&amp;q=75 2x\" style=\"color:transparent\" width=\"600\"/>\n",
      "             <svg aria-hidden=\"true\" class=\"absolute top-[50%] left-0 right-0 w-24 max-w-[30%] h-auto mx-auto text-white aspect-square transform translate-y-[-50%]\" fill=\"currentColor\" height=\"1em\" viewbox=\"0 0 40 40\" width=\"1em\" xmlns=\"http://www.w3.org/2000/svg\">\n",
      "              <path d=\"M20.716 7.34598C20.5338 7.18675 20.3 7.099 20.058 7.099C19.816 7.099 19.5822 7.18675 19.4 7.34598L16.367 9.99499C16.2596 10.0888 16.1735 10.2046 16.1145 10.3345C16.0555 10.4644 16.025 10.6053 16.025 10.748C16.025 10.8906 16.0555 11.0316 16.1145 11.1615C16.1735 11.2914 16.2596 11.4071 16.367 11.501L19.4 14.151C19.5822 14.3102 19.816 14.398 20.058 14.398C20.3 14.398 20.5338 14.3102 20.716 14.151L23.749 11.501C23.8564 11.4071 23.9425 11.2914 24.0015 11.1615C24.0605 11.0316 24.091 10.8906 24.091 10.748C24.091 10.6053 24.0605 10.4644 24.0015 10.3345C23.9425 10.2046 23.8564 10.0888 23.749 9.99499L20.716 7.34598Z\" fill=\"currentColor\">\n",
      "              </path>\n",
      "              <path d=\"M35.071 18.338L37.5 13.759C37.5807 13.6066 37.6206 13.4359 37.6159 13.2635C37.6111 13.0911 37.5619 12.9229 37.4729 12.7751C37.384 12.6274 37.2583 12.5052 37.1082 12.4203C36.958 12.3355 36.7885 12.2909 36.616 12.291H34.023L20.693 1.31798C20.514 1.17064 20.2893 1.09008 20.0575 1.09008C19.8257 1.09008 19.601 1.17064 19.422 1.31798L6.093 12.291H3.477C3.30454 12.2909 3.135 12.3355 2.98485 12.4203C2.83469 12.5052 2.70903 12.6274 2.62006 12.7751C2.5311 12.9229 2.48185 13.0911 2.47711 13.2635C2.47237 13.4359 2.51229 13.6066 2.593 13.759L5.018 18.338C5.09427 18.4783 5.20338 18.598 5.336 18.687V30.459H3.478C3.21279 30.459 2.95843 30.5643 2.7709 30.7519C2.58336 30.9394 2.478 31.1938 2.478 31.459V36.722C2.478 36.9872 2.58336 37.2416 2.7709 37.4291C2.95843 37.6166 3.21279 37.722 3.478 37.722H36.612C36.8772 37.722 37.1316 37.6166 37.3191 37.4291C37.5066 37.2416 37.612 36.9872 37.612 36.722V31.459C37.612 31.1938 37.5066 30.9394 37.3191 30.7519C37.1316 30.5643 36.8772 30.459 36.612 30.459H34.664V18.744C34.8365 18.6514 34.978 18.5102 35.071 18.338ZM5.138 14.291H12.3C12.5652 14.291 12.8196 14.1856 13.0071 13.9981C13.1946 13.8106 13.3 13.5562 13.3 13.291C13.3 13.0258 13.1946 12.7714 13.0071 12.5839C12.8196 12.3963 12.5652 12.291 12.3 12.291H9.24L20.058 3.38398L30.875 12.289H27.723C27.4578 12.289 27.2034 12.3943 27.0159 12.5819C26.8284 12.7694 26.723 13.0238 26.723 13.289C26.723 13.5542 26.8284 13.8086 27.0159 13.9961C27.2034 14.1836 27.4578 14.289 27.723 14.289H34.951L33.585 16.868H6.5L5.138 14.291ZM28.4 30.459H23.132V18.87H28.4V30.459ZM11.6 18.87H16.867V30.459H11.6V18.87ZM18.867 18.87H21.131V30.459H18.868L18.867 18.87ZM7.335 18.87H9.6V30.459H7.336L7.335 18.87ZM35.612 32.459V35.722H4.478V32.459H35.612ZM30.399 30.459V18.87H32.664V30.459H30.399Z\" fill=\"currentColor\">\n",
      "              </path>\n",
      "             </svg>\n",
      "            </div>\n",
      "            <div class=\"space-y-4 mt-4\">\n",
      "             <p>\n",
      "              <a class=\"card-link line-clamp-2 w-[80%] md:w-90\" href=\"/cameroon/western-cameroon/foumban/attractions/musee-des-arts-et-traditions-bamoun/a/poi-sig/1300241/355114\">\n",
      "               <span class=\"heading-05 font-semibold\">\n",
      "                Musée des Arts et Traditions Bamoun\n",
      "               </span>\n",
      "              </a>\n",
      "             </p>\n",
      "             <p class=\"text-sm font-semibold uppercase !mt-2\">\n",
      "              Cameroon\n",
      "             </p>\n",
      "             <p class=\"relative flex flex-wrap justify-start items-start gap-x-4 gap-y-2 max-w-full label-sm uppercase hidden\">\n",
      "             </p>\n",
      "             <p class=\"relative line-clamp-3\">\n",
      "              Located in the Village des Artisans, this small museum houses a private collection of art and historical artefacts.\n",
      "             </p>\n",
      "            </div>\n",
      "           </article>\n",
      "          </div>\n",
      "         </li>\n",
      "         <li class=\"col-span-1 md:col-span-3 lg:col-span-3\">\n",
      "          <div class=\"relative\">\n",
      "           <article class=\"relative rounded\">\n",
      "            <div class=\"relative flex max-w-full items-center justify-center overflow-hidden rounded relative aspect-square\">\n",
      "             <img alt=\"\" class=\"max-w-full w-full h-full object-cover rounded relative aspect-square\" data-nimg=\"1\" decoding=\"async\" height=\"400\" loading=\"lazy\" src=\"https://lonelyplanetstatic.imgix.net/marketing/placeholders/placeholder-attractions.jpg?fit=crop&amp;ar=1%3A1&amp;w=1200&amp;auto=format&amp;q=75\" srcset=\"https://lonelyplanetstatic.imgix.net/marketing/placeholders/placeholder-attractions.jpg?fit=crop&amp;ar=1%3A1&amp;w=640&amp;auto=format&amp;q=75 1x, https://lonelyplanetstatic.imgix.net/marketing/placeholders/placeholder-attractions.jpg?fit=crop&amp;ar=1%3A1&amp;w=1200&amp;auto=format&amp;q=75 2x\" style=\"color:transparent\" width=\"600\"/>\n",
      "             <svg aria-hidden=\"true\" class=\"absolute top-[50%] left-0 right-0 w-24 max-w-[30%] h-auto mx-auto text-white aspect-square transform translate-y-[-50%]\" fill=\"currentColor\" height=\"1em\" viewbox=\"0 0 40 40\" width=\"1em\" xmlns=\"http://www.w3.org/2000/svg\">\n",
      "              <path d=\"M20.716 7.34598C20.5338 7.18675 20.3 7.099 20.058 7.099C19.816 7.099 19.5822 7.18675 19.4 7.34598L16.367 9.99499C16.2596 10.0888 16.1735 10.2046 16.1145 10.3345C16.0555 10.4644 16.025 10.6053 16.025 10.748C16.025 10.8906 16.0555 11.0316 16.1145 11.1615C16.1735 11.2914 16.2596 11.4071 16.367 11.501L19.4 14.151C19.5822 14.3102 19.816 14.398 20.058 14.398C20.3 14.398 20.5338 14.3102 20.716 14.151L23.749 11.501C23.8564 11.4071 23.9425 11.2914 24.0015 11.1615C24.0605 11.0316 24.091 10.8906 24.091 10.748C24.091 10.6053 24.0605 10.4644 24.0015 10.3345C23.9425 10.2046 23.8564 10.0888 23.749 9.99499L20.716 7.34598Z\" fill=\"currentColor\">\n",
      "              </path>\n",
      "              <path d=\"M35.071 18.338L37.5 13.759C37.5807 13.6066 37.6206 13.4359 37.6159 13.2635C37.6111 13.0911 37.5619 12.9229 37.4729 12.7751C37.384 12.6274 37.2583 12.5052 37.1082 12.4203C36.958 12.3355 36.7885 12.2909 36.616 12.291H34.023L20.693 1.31798C20.514 1.17064 20.2893 1.09008 20.0575 1.09008C19.8257 1.09008 19.601 1.17064 19.422 1.31798L6.093 12.291H3.477C3.30454 12.2909 3.135 12.3355 2.98485 12.4203C2.83469 12.5052 2.70903 12.6274 2.62006 12.7751C2.5311 12.9229 2.48185 13.0911 2.47711 13.2635C2.47237 13.4359 2.51229 13.6066 2.593 13.759L5.018 18.338C5.09427 18.4783 5.20338 18.598 5.336 18.687V30.459H3.478C3.21279 30.459 2.95843 30.5643 2.7709 30.7519C2.58336 30.9394 2.478 31.1938 2.478 31.459V36.722C2.478 36.9872 2.58336 37.2416 2.7709 37.4291C2.95843 37.6166 3.21279 37.722 3.478 37.722H36.612C36.8772 37.722 37.1316 37.6166 37.3191 37.4291C37.5066 37.2416 37.612 36.9872 37.612 36.722V31.459C37.612 31.1938 37.5066 30.9394 37.3191 30.7519C37.1316 30.5643 36.8772 30.459 36.612 30.459H34.664V18.744C34.8365 18.6514 34.978 18.5102 35.071 18.338ZM5.138 14.291H12.3C12.5652 14.291 12.8196 14.1856 13.0071 13.9981C13.1946 13.8106 13.3 13.5562 13.3 13.291C13.3 13.0258 13.1946 12.7714 13.0071 12.5839C12.8196 12.3963 12.5652 12.291 12.3 12.291H9.24L20.058 3.38398L30.875 12.289H27.723C27.4578 12.289 27.2034 12.3943 27.0159 12.5819C26.8284 12.7694 26.723 13.0238 26.723 13.289C26.723 13.5542 26.8284 13.8086 27.0159 13.9961C27.2034 14.1836 27.4578 14.289 27.723 14.289H34.951L33.585 16.868H6.5L5.138 14.291ZM28.4 30.459H23.132V18.87H28.4V30.459ZM11.6 18.87H16.867V30.459H11.6V18.87ZM18.867 18.87H21.131V30.459H18.868L18.867 18.87ZM7.335 18.87H9.6V30.459H7.336L7.335 18.87ZM35.612 32.459V35.722H4.478V32.459H35.612ZM30.399 30.459V18.87H32.664V30.459H30.399Z\" fill=\"currentColor\">\n",
      "              </path>\n",
      "             </svg>\n",
      "            </div>\n",
      "            <div class=\"space-y-4 mt-4\">\n",
      "             <p>\n",
      "              <a class=\"card-link line-clamp-2 w-[80%] md:w-90\" href=\"/cameroon/bandjoun/attractions/bandjoun-station/a/poi-sig/1556899/1341707\">\n",
      "               <span class=\"heading-05 font-semibold\">\n",
      "                Bandjoun Station\n",
      "               </span>\n",
      "              </a>\n",
      "             </p>\n",
      "             <p class=\"text-sm font-semibold uppercase !mt-2\">\n",
      "              Cameroon\n",
      "             </p>\n",
      "             <p class=\"relative flex flex-wrap justify-start items-start gap-x-4 gap-y-2 max-w-full label-sm uppercase hidden\">\n",
      "             </p>\n",
      "             <p class=\"relative line-clamp-3\">\n",
      "              Dramatically decorated with mosaics, this arts centre and workshop boldly announces itself. The centre supports the work of local contemporary artists.\n",
      "             </p>\n",
      "            </div>\n",
      "           </article>\n",
      "          </div>\n",
      "         </li>\n",
      "         <li class=\"col-span-1 md:col-span-3 lg:col-span-3\">\n",
      "          <div class=\"relative\">\n",
      "           <article class=\"relative rounded\">\n",
      "            <div class=\"relative flex max-w-full items-center justify-center overflow-hidden rounded relative aspect-square\">\n",
      "             <img alt=\"\" class=\"max-w-full w-full h-full object-cover rounded relative aspect-square\" data-nimg=\"1\" decoding=\"async\" height=\"400\" loading=\"lazy\" src=\"https://lonelyplanetstatic.imgix.net/marketing/placeholders/placeholder-attractions.jpg?fit=crop&amp;ar=1%3A1&amp;w=1200&amp;auto=format&amp;q=75\" srcset=\"https://lonelyplanetstatic.imgix.net/marketing/placeholders/placeholder-attractions.jpg?fit=crop&amp;ar=1%3A1&amp;w=640&amp;auto=format&amp;q=75 1x, https://lonelyplanetstatic.imgix.net/marketing/placeholders/placeholder-attractions.jpg?fit=crop&amp;ar=1%3A1&amp;w=1200&amp;auto=format&amp;q=75 2x\" style=\"color:transparent\" width=\"600\"/>\n",
      "             <svg aria-hidden=\"true\" class=\"absolute top-[50%] left-0 right-0 w-24 max-w-[30%] h-auto mx-auto text-white aspect-square transform translate-y-[-50%]\" fill=\"currentColor\" height=\"1em\" viewbox=\"0 0 40 40\" width=\"1em\" xmlns=\"http://www.w3.org/2000/svg\">\n",
      "              <path d=\"M20.716 7.34598C20.5338 7.18675 20.3 7.099 20.058 7.099C19.816 7.099 19.5822 7.18675 19.4 7.34598L16.367 9.99499C16.2596 10.0888 16.1735 10.2046 16.1145 10.3345C16.0555 10.4644 16.025 10.6053 16.025 10.748C16.025 10.8906 16.0555 11.0316 16.1145 11.1615C16.1735 11.2914 16.2596 11.4071 16.367 11.501L19.4 14.151C19.5822 14.3102 19.816 14.398 20.058 14.398C20.3 14.398 20.5338 14.3102 20.716 14.151L23.749 11.501C23.8564 11.4071 23.9425 11.2914 24.0015 11.1615C24.0605 11.0316 24.091 10.8906 24.091 10.748C24.091 10.6053 24.0605 10.4644 24.0015 10.3345C23.9425 10.2046 23.8564 10.0888 23.749 9.99499L20.716 7.34598Z\" fill=\"currentColor\">\n",
      "              </path>\n",
      "              <path d=\"M35.071 18.338L37.5 13.759C37.5807 13.6066 37.6206 13.4359 37.6159 13.2635C37.6111 13.0911 37.5619 12.9229 37.4729 12.7751C37.384 12.6274 37.2583 12.5052 37.1082 12.4203C36.958 12.3355 36.7885 12.2909 36.616 12.291H34.023L20.693 1.31798C20.514 1.17064 20.2893 1.09008 20.0575 1.09008C19.8257 1.09008 19.601 1.17064 19.422 1.31798L6.093 12.291H3.477C3.30454 12.2909 3.135 12.3355 2.98485 12.4203C2.83469 12.5052 2.70903 12.6274 2.62006 12.7751C2.5311 12.9229 2.48185 13.0911 2.47711 13.2635C2.47237 13.4359 2.51229 13.6066 2.593 13.759L5.018 18.338C5.09427 18.4783 5.20338 18.598 5.336 18.687V30.459H3.478C3.21279 30.459 2.95843 30.5643 2.7709 30.7519C2.58336 30.9394 2.478 31.1938 2.478 31.459V36.722C2.478 36.9872 2.58336 37.2416 2.7709 37.4291C2.95843 37.6166 3.21279 37.722 3.478 37.722H36.612C36.8772 37.722 37.1316 37.6166 37.3191 37.4291C37.5066 37.2416 37.612 36.9872 37.612 36.722V31.459C37.612 31.1938 37.5066 30.9394 37.3191 30.7519C37.1316 30.5643 36.8772 30.459 36.612 30.459H34.664V18.744C34.8365 18.6514 34.978 18.5102 35.071 18.338ZM5.138 14.291H12.3C12.5652 14.291 12.8196 14.1856 13.0071 13.9981C13.1946 13.8106 13.3 13.5562 13.3 13.291C13.3 13.0258 13.1946 12.7714 13.0071 12.5839C12.8196 12.3963 12.5652 12.291 12.3 12.291H9.24L20.058 3.38398L30.875 12.289H27.723C27.4578 12.289 27.2034 12.3943 27.0159 12.5819C26.8284 12.7694 26.723 13.0238 26.723 13.289C26.723 13.5542 26.8284 13.8086 27.0159 13.9961C27.2034 14.1836 27.4578 14.289 27.723 14.289H34.951L33.585 16.868H6.5L5.138 14.291ZM28.4 30.459H23.132V18.87H28.4V30.459ZM11.6 18.87H16.867V30.459H11.6V18.87ZM18.867 18.87H21.131V30.459H18.868L18.867 18.87ZM7.335 18.87H9.6V30.459H7.336L7.335 18.87ZM35.612 32.459V35.722H4.478V32.459H35.612ZM30.399 30.459V18.87H32.664V30.459H30.399Z\" fill=\"currentColor\">\n",
      "              </path>\n",
      "             </svg>\n",
      "            </div>\n",
      "            <div class=\"space-y-4 mt-4\">\n",
      "             <p>\n",
      "              <a class=\"card-link line-clamp-2 w-[80%] md:w-90\" href=\"/cameroon/western-cameroon/foumban/attractions/grande-mosquee/a/poi-sig/1560104/355114\">\n",
      "               <span class=\"heading-05 font-semibold\">\n",
      "                Grande Mosquée\n",
      "               </span>\n",
      "              </a>\n",
      "             </p>\n",
      "             <p class=\"text-sm font-semibold uppercase !mt-2\">\n",
      "              Cameroon\n",
      "             </p>\n",
      "             <p class=\"relative flex flex-wrap justify-start items-start gap-x-4 gap-y-2 max-w-full label-sm uppercase hidden\">\n",
      "             </p>\n",
      "             <p class=\"relative line-clamp-3\">\n",
      "              The octagonal tower and green domes of the mosque are a landmark at the centre of Foumban.\n",
      "             </p>\n",
      "            </div>\n",
      "           </article>\n",
      "          </div>\n",
      "         </li>\n",
      "         <li class=\"col-span-1 md:col-span-3 lg:col-span-3\">\n",
      "          <div class=\"relative\">\n",
      "           <article class=\"relative rounded\">\n",
      "            <div class=\"relative flex max-w-full items-center justify-center overflow-hidden rounded relative aspect-square\">\n",
      "             <img alt=\"\" class=\"max-w-full w-full h-full object-cover rounded relative aspect-square\" data-nimg=\"1\" decoding=\"async\" height=\"400\" loading=\"lazy\" src=\"https://lonelyplanetstatic.imgix.net/marketing/placeholders/placeholder-attractions.jpg?fit=crop&amp;ar=1%3A1&amp;w=1200&amp;auto=format&amp;q=75\" srcset=\"https://lonelyplanetstatic.imgix.net/marketing/placeholders/placeholder-attractions.jpg?fit=crop&amp;ar=1%3A1&amp;w=640&amp;auto=format&amp;q=75 1x, https://lonelyplanetstatic.imgix.net/marketing/placeholders/placeholder-attractions.jpg?fit=crop&amp;ar=1%3A1&amp;w=1200&amp;auto=format&amp;q=75 2x\" style=\"color:transparent\" width=\"600\"/>\n",
      "             <svg aria-hidden=\"true\" class=\"absolute top-[50%] left-0 right-0 w-24 max-w-[30%] h-auto mx-auto text-white aspect-square transform translate-y-[-50%]\" fill=\"currentColor\" height=\"1em\" viewbox=\"0 0 40 40\" width=\"1em\" xmlns=\"http://www.w3.org/2000/svg\">\n",
      "              <path d=\"M20.716 7.34598C20.5338 7.18675 20.3 7.099 20.058 7.099C19.816 7.099 19.5822 7.18675 19.4 7.34598L16.367 9.99499C16.2596 10.0888 16.1735 10.2046 16.1145 10.3345C16.0555 10.4644 16.025 10.6053 16.025 10.748C16.025 10.8906 16.0555 11.0316 16.1145 11.1615C16.1735 11.2914 16.2596 11.4071 16.367 11.501L19.4 14.151C19.5822 14.3102 19.816 14.398 20.058 14.398C20.3 14.398 20.5338 14.3102 20.716 14.151L23.749 11.501C23.8564 11.4071 23.9425 11.2914 24.0015 11.1615C24.0605 11.0316 24.091 10.8906 24.091 10.748C24.091 10.6053 24.0605 10.4644 24.0015 10.3345C23.9425 10.2046 23.8564 10.0888 23.749 9.99499L20.716 7.34598Z\" fill=\"currentColor\">\n",
      "              </path>\n",
      "              <path d=\"M35.071 18.338L37.5 13.759C37.5807 13.6066 37.6206 13.4359 37.6159 13.2635C37.6111 13.0911 37.5619 12.9229 37.4729 12.7751C37.384 12.6274 37.2583 12.5052 37.1082 12.4203C36.958 12.3355 36.7885 12.2909 36.616 12.291H34.023L20.693 1.31798C20.514 1.17064 20.2893 1.09008 20.0575 1.09008C19.8257 1.09008 19.601 1.17064 19.422 1.31798L6.093 12.291H3.477C3.30454 12.2909 3.135 12.3355 2.98485 12.4203C2.83469 12.5052 2.70903 12.6274 2.62006 12.7751C2.5311 12.9229 2.48185 13.0911 2.47711 13.2635C2.47237 13.4359 2.51229 13.6066 2.593 13.759L5.018 18.338C5.09427 18.4783 5.20338 18.598 5.336 18.687V30.459H3.478C3.21279 30.459 2.95843 30.5643 2.7709 30.7519C2.58336 30.9394 2.478 31.1938 2.478 31.459V36.722C2.478 36.9872 2.58336 37.2416 2.7709 37.4291C2.95843 37.6166 3.21279 37.722 3.478 37.722H36.612C36.8772 37.722 37.1316 37.6166 37.3191 37.4291C37.5066 37.2416 37.612 36.9872 37.612 36.722V31.459C37.612 31.1938 37.5066 30.9394 37.3191 30.7519C37.1316 30.5643 36.8772 30.459 36.612 30.459H34.664V18.744C34.8365 18.6514 34.978 18.5102 35.071 18.338ZM5.138 14.291H12.3C12.5652 14.291 12.8196 14.1856 13.0071 13.9981C13.1946 13.8106 13.3 13.5562 13.3 13.291C13.3 13.0258 13.1946 12.7714 13.0071 12.5839C12.8196 12.3963 12.5652 12.291 12.3 12.291H9.24L20.058 3.38398L30.875 12.289H27.723C27.4578 12.289 27.2034 12.3943 27.0159 12.5819C26.8284 12.7694 26.723 13.0238 26.723 13.289C26.723 13.5542 26.8284 13.8086 27.0159 13.9961C27.2034 14.1836 27.4578 14.289 27.723 14.289H34.951L33.585 16.868H6.5L5.138 14.291ZM28.4 30.459H23.132V18.87H28.4V30.459ZM11.6 18.87H16.867V30.459H11.6V18.87ZM18.867 18.87H21.131V30.459H18.868L18.867 18.87ZM7.335 18.87H9.6V30.459H7.336L7.335 18.87ZM35.612 32.459V35.722H4.478V32.459H35.612ZM30.399 30.459V18.87H32.664V30.459H30.399Z\" fill=\"currentColor\">\n",
      "              </path>\n",
      "             </svg>\n",
      "            </div>\n",
      "            <div class=\"space-y-4 mt-4\">\n",
      "             <p>\n",
      "              <a class=\"card-link line-clamp-2 w-[80%] md:w-90\" href=\"/cameroon/western-cameroon/douala/attractions/cathedral/a/poi-sig/1322777/355113\">\n",
      "               <span class=\"heading-05 font-semibold\">\n",
      "                Cathedral\n",
      "               </span>\n",
      "              </a>\n",
      "             </p>\n",
      "             <p class=\"text-sm font-semibold uppercase !mt-2\">\n",
      "              Cameroon\n",
      "             </p>\n",
      "             <p class=\"relative flex flex-wrap justify-start items-start gap-x-4 gap-y-2 max-w-full label-sm uppercase hidden\">\n",
      "             </p>\n",
      "             <p class=\"relative line-clamp-3\">\n",
      "              Built in 1936, Douala's cathedral is impressively large, though plain inside and out.\n",
      "             </p>\n",
      "            </div>\n",
      "           </article>\n",
      "          </div>\n",
      "         </li>\n",
      "         <li class=\"col-span-1 md:col-span-3 lg:col-span-3\">\n",
      "          <div class=\"relative\">\n",
      "           <article class=\"relative rounded\">\n",
      "            <div class=\"relative flex max-w-full items-center justify-center overflow-hidden rounded relative aspect-square\">\n",
      "             <img alt=\"\" class=\"max-w-full w-full h-full object-cover rounded relative aspect-square\" data-nimg=\"1\" decoding=\"async\" height=\"400\" loading=\"lazy\" src=\"https://lonelyplanetstatic.imgix.net/marketing/placeholders/placeholder-attractions.jpg?fit=crop&amp;ar=1%3A1&amp;w=1200&amp;auto=format&amp;q=75\" srcset=\"https://lonelyplanetstatic.imgix.net/marketing/placeholders/placeholder-attractions.jpg?fit=crop&amp;ar=1%3A1&amp;w=640&amp;auto=format&amp;q=75 1x, https://lonelyplanetstatic.imgix.net/marketing/placeholders/placeholder-attractions.jpg?fit=crop&amp;ar=1%3A1&amp;w=1200&amp;auto=format&amp;q=75 2x\" style=\"color:transparent\" width=\"600\"/>\n",
      "             <svg aria-hidden=\"true\" class=\"absolute top-[50%] left-0 right-0 w-24 max-w-[30%] h-auto mx-auto text-white aspect-square transform translate-y-[-50%]\" fill=\"currentColor\" height=\"1em\" viewbox=\"0 0 40 40\" width=\"1em\" xmlns=\"http://www.w3.org/2000/svg\">\n",
      "              <path d=\"M20.716 7.34598C20.5338 7.18675 20.3 7.099 20.058 7.099C19.816 7.099 19.5822 7.18675 19.4 7.34598L16.367 9.99499C16.2596 10.0888 16.1735 10.2046 16.1145 10.3345C16.0555 10.4644 16.025 10.6053 16.025 10.748C16.025 10.8906 16.0555 11.0316 16.1145 11.1615C16.1735 11.2914 16.2596 11.4071 16.367 11.501L19.4 14.151C19.5822 14.3102 19.816 14.398 20.058 14.398C20.3 14.398 20.5338 14.3102 20.716 14.151L23.749 11.501C23.8564 11.4071 23.9425 11.2914 24.0015 11.1615C24.0605 11.0316 24.091 10.8906 24.091 10.748C24.091 10.6053 24.0605 10.4644 24.0015 10.3345C23.9425 10.2046 23.8564 10.0888 23.749 9.99499L20.716 7.34598Z\" fill=\"currentColor\">\n",
      "              </path>\n",
      "              <path d=\"M35.071 18.338L37.5 13.759C37.5807 13.6066 37.6206 13.4359 37.6159 13.2635C37.6111 13.0911 37.5619 12.9229 37.4729 12.7751C37.384 12.6274 37.2583 12.5052 37.1082 12.4203C36.958 12.3355 36.7885 12.2909 36.616 12.291H34.023L20.693 1.31798C20.514 1.17064 20.2893 1.09008 20.0575 1.09008C19.8257 1.09008 19.601 1.17064 19.422 1.31798L6.093 12.291H3.477C3.30454 12.2909 3.135 12.3355 2.98485 12.4203C2.83469 12.5052 2.70903 12.6274 2.62006 12.7751C2.5311 12.9229 2.48185 13.0911 2.47711 13.2635C2.47237 13.4359 2.51229 13.6066 2.593 13.759L5.018 18.338C5.09427 18.4783 5.20338 18.598 5.336 18.687V30.459H3.478C3.21279 30.459 2.95843 30.5643 2.7709 30.7519C2.58336 30.9394 2.478 31.1938 2.478 31.459V36.722C2.478 36.9872 2.58336 37.2416 2.7709 37.4291C2.95843 37.6166 3.21279 37.722 3.478 37.722H36.612C36.8772 37.722 37.1316 37.6166 37.3191 37.4291C37.5066 37.2416 37.612 36.9872 37.612 36.722V31.459C37.612 31.1938 37.5066 30.9394 37.3191 30.7519C37.1316 30.5643 36.8772 30.459 36.612 30.459H34.664V18.744C34.8365 18.6514 34.978 18.5102 35.071 18.338ZM5.138 14.291H12.3C12.5652 14.291 12.8196 14.1856 13.0071 13.9981C13.1946 13.8106 13.3 13.5562 13.3 13.291C13.3 13.0258 13.1946 12.7714 13.0071 12.5839C12.8196 12.3963 12.5652 12.291 12.3 12.291H9.24L20.058 3.38398L30.875 12.289H27.723C27.4578 12.289 27.2034 12.3943 27.0159 12.5819C26.8284 12.7694 26.723 13.0238 26.723 13.289C26.723 13.5542 26.8284 13.8086 27.0159 13.9961C27.2034 14.1836 27.4578 14.289 27.723 14.289H34.951L33.585 16.868H6.5L5.138 14.291ZM28.4 30.459H23.132V18.87H28.4V30.459ZM11.6 18.87H16.867V30.459H11.6V18.87ZM18.867 18.87H21.131V30.459H18.868L18.867 18.87ZM7.335 18.87H9.6V30.459H7.336L7.335 18.87ZM35.612 32.459V35.722H4.478V32.459H35.612ZM30.399 30.459V18.87H32.664V30.459H30.399Z\" fill=\"currentColor\">\n",
      "              </path>\n",
      "             </svg>\n",
      "            </div>\n",
      "            <div class=\"space-y-4 mt-4\">\n",
      "             <p>\n",
      "              <a class=\"card-link line-clamp-2 w-[80%] md:w-90\" href=\"/cameroon/western-cameroon/limbe/attractions/old-church/a/poi-sig/1322870/355115\">\n",
      "               <span class=\"heading-05 font-semibold\">\n",
      "                Old Church\n",
      "               </span>\n",
      "              </a>\n",
      "             </p>\n",
      "             <p class=\"text-sm font-semibold uppercase !mt-2\">\n",
      "              Cameroon\n",
      "             </p>\n",
      "             <p class=\"relative flex flex-wrap justify-start items-start gap-x-4 gap-y-2 max-w-full label-sm uppercase hidden\">\n",
      "             </p>\n",
      "             <p class=\"relative line-clamp-3\">\n",
      "              Historic church facing Down Beach.\n",
      "             </p>\n",
      "            </div>\n",
      "           </article>\n",
      "          </div>\n",
      "         </li>\n",
      "         <li class=\"col-span-1 md:col-span-3 lg:col-span-3\">\n",
      "          <div class=\"relative\">\n",
      "           <article class=\"relative rounded\">\n",
      "            <div class=\"relative flex max-w-full items-center justify-center overflow-hidden rounded relative aspect-square\">\n",
      "             <img alt=\"\" class=\"max-w-full w-full h-full object-cover rounded relative aspect-square\" data-nimg=\"1\" decoding=\"async\" height=\"400\" loading=\"lazy\" src=\"https://lonelyplanetstatic.imgix.net/marketing/placeholders/placeholder-attractions.jpg?fit=crop&amp;ar=1%3A1&amp;w=1200&amp;auto=format&amp;q=75\" srcset=\"https://lonelyplanetstatic.imgix.net/marketing/placeholders/placeholder-attractions.jpg?fit=crop&amp;ar=1%3A1&amp;w=640&amp;auto=format&amp;q=75 1x, https://lonelyplanetstatic.imgix.net/marketing/placeholders/placeholder-attractions.jpg?fit=crop&amp;ar=1%3A1&amp;w=1200&amp;auto=format&amp;q=75 2x\" style=\"color:transparent\" width=\"600\"/>\n",
      "             <svg aria-hidden=\"true\" class=\"absolute top-[50%] left-0 right-0 w-24 max-w-[30%] h-auto mx-auto text-white aspect-square transform translate-y-[-50%]\" fill=\"currentColor\" height=\"1em\" viewbox=\"0 0 40 40\" width=\"1em\" xmlns=\"http://www.w3.org/2000/svg\">\n",
      "              <path d=\"M20.716 7.34598C20.5338 7.18675 20.3 7.099 20.058 7.099C19.816 7.099 19.5822 7.18675 19.4 7.34598L16.367 9.99499C16.2596 10.0888 16.1735 10.2046 16.1145 10.3345C16.0555 10.4644 16.025 10.6053 16.025 10.748C16.025 10.8906 16.0555 11.0316 16.1145 11.1615C16.1735 11.2914 16.2596 11.4071 16.367 11.501L19.4 14.151C19.5822 14.3102 19.816 14.398 20.058 14.398C20.3 14.398 20.5338 14.3102 20.716 14.151L23.749 11.501C23.8564 11.4071 23.9425 11.2914 24.0015 11.1615C24.0605 11.0316 24.091 10.8906 24.091 10.748C24.091 10.6053 24.0605 10.4644 24.0015 10.3345C23.9425 10.2046 23.8564 10.0888 23.749 9.99499L20.716 7.34598Z\" fill=\"currentColor\">\n",
      "              </path>\n",
      "              <path d=\"M35.071 18.338L37.5 13.759C37.5807 13.6066 37.6206 13.4359 37.6159 13.2635C37.6111 13.0911 37.5619 12.9229 37.4729 12.7751C37.384 12.6274 37.2583 12.5052 37.1082 12.4203C36.958 12.3355 36.7885 12.2909 36.616 12.291H34.023L20.693 1.31798C20.514 1.17064 20.2893 1.09008 20.0575 1.09008C19.8257 1.09008 19.601 1.17064 19.422 1.31798L6.093 12.291H3.477C3.30454 12.2909 3.135 12.3355 2.98485 12.4203C2.83469 12.5052 2.70903 12.6274 2.62006 12.7751C2.5311 12.9229 2.48185 13.0911 2.47711 13.2635C2.47237 13.4359 2.51229 13.6066 2.593 13.759L5.018 18.338C5.09427 18.4783 5.20338 18.598 5.336 18.687V30.459H3.478C3.21279 30.459 2.95843 30.5643 2.7709 30.7519C2.58336 30.9394 2.478 31.1938 2.478 31.459V36.722C2.478 36.9872 2.58336 37.2416 2.7709 37.4291C2.95843 37.6166 3.21279 37.722 3.478 37.722H36.612C36.8772 37.722 37.1316 37.6166 37.3191 37.4291C37.5066 37.2416 37.612 36.9872 37.612 36.722V31.459C37.612 31.1938 37.5066 30.9394 37.3191 30.7519C37.1316 30.5643 36.8772 30.459 36.612 30.459H34.664V18.744C34.8365 18.6514 34.978 18.5102 35.071 18.338ZM5.138 14.291H12.3C12.5652 14.291 12.8196 14.1856 13.0071 13.9981C13.1946 13.8106 13.3 13.5562 13.3 13.291C13.3 13.0258 13.1946 12.7714 13.0071 12.5839C12.8196 12.3963 12.5652 12.291 12.3 12.291H9.24L20.058 3.38398L30.875 12.289H27.723C27.4578 12.289 27.2034 12.3943 27.0159 12.5819C26.8284 12.7694 26.723 13.0238 26.723 13.289C26.723 13.5542 26.8284 13.8086 27.0159 13.9961C27.2034 14.1836 27.4578 14.289 27.723 14.289H34.951L33.585 16.868H6.5L5.138 14.291ZM28.4 30.459H23.132V18.87H28.4V30.459ZM11.6 18.87H16.867V30.459H11.6V18.87ZM18.867 18.87H21.131V30.459H18.868L18.867 18.87ZM7.335 18.87H9.6V30.459H7.336L7.335 18.87ZM35.612 32.459V35.722H4.478V32.459H35.612ZM30.399 30.459V18.87H32.664V30.459H30.399Z\" fill=\"currentColor\">\n",
      "              </path>\n",
      "             </svg>\n",
      "            </div>\n",
      "            <div class=\"space-y-4 mt-4\">\n",
      "             <p>\n",
      "              <a class=\"card-link line-clamp-2 w-[80%] md:w-90\" href=\"/cameroon/northern-cameroon/ngaoundere/attractions/palais-du-lamido/a/poi-sig/1300468/355108\">\n",
      "               <span class=\"heading-05 font-semibold\">\n",
      "                Palais du Lamido\n",
      "               </span>\n",
      "              </a>\n",
      "             </p>\n",
      "             <p class=\"text-sm font-semibold uppercase !mt-2\">\n",
      "              Cameroon\n",
      "             </p>\n",
      "             <p class=\"relative flex flex-wrap justify-start items-start gap-x-4 gap-y-2 max-w-full label-sm uppercase hidden\">\n",
      "             </p>\n",
      "             <p class=\"relative line-clamp-3\">\n",
      "              To enter the Palais du Lamido, the palace of the local Muslim ruler, you pass between three pillars stuffed with the remains of individuals who were…\n",
      "             </p>\n",
      "            </div>\n",
      "           </article>\n",
      "          </div>\n",
      "         </li>\n",
      "         <li class=\"col-span-1 md:col-span-3 lg:col-span-3\">\n",
      "          <div class=\"relative\">\n",
      "           <article class=\"relative rounded\">\n",
      "            <div class=\"relative flex max-w-full items-center justify-center overflow-hidden rounded relative aspect-square\">\n",
      "             <img alt=\"\" class=\"max-w-full w-full h-full object-cover rounded relative aspect-square\" data-nimg=\"1\" decoding=\"async\" height=\"400\" loading=\"lazy\" src=\"https://lonelyplanetstatic.imgix.net/marketing/placeholders/placeholder-attractions.jpg?fit=crop&amp;ar=1%3A1&amp;w=1200&amp;auto=format&amp;q=75\" srcset=\"https://lonelyplanetstatic.imgix.net/marketing/placeholders/placeholder-attractions.jpg?fit=crop&amp;ar=1%3A1&amp;w=640&amp;auto=format&amp;q=75 1x, https://lonelyplanetstatic.imgix.net/marketing/placeholders/placeholder-attractions.jpg?fit=crop&amp;ar=1%3A1&amp;w=1200&amp;auto=format&amp;q=75 2x\" style=\"color:transparent\" width=\"600\"/>\n",
      "             <svg aria-hidden=\"true\" class=\"absolute top-[50%] left-0 right-0 w-24 max-w-[30%] h-auto mx-auto text-white aspect-square transform translate-y-[-50%]\" fill=\"currentColor\" height=\"1em\" viewbox=\"0 0 40 40\" width=\"1em\" xmlns=\"http://www.w3.org/2000/svg\">\n",
      "              <path d=\"M20.716 7.34598C20.5338 7.18675 20.3 7.099 20.058 7.099C19.816 7.099 19.5822 7.18675 19.4 7.34598L16.367 9.99499C16.2596 10.0888 16.1735 10.2046 16.1145 10.3345C16.0555 10.4644 16.025 10.6053 16.025 10.748C16.025 10.8906 16.0555 11.0316 16.1145 11.1615C16.1735 11.2914 16.2596 11.4071 16.367 11.501L19.4 14.151C19.5822 14.3102 19.816 14.398 20.058 14.398C20.3 14.398 20.5338 14.3102 20.716 14.151L23.749 11.501C23.8564 11.4071 23.9425 11.2914 24.0015 11.1615C24.0605 11.0316 24.091 10.8906 24.091 10.748C24.091 10.6053 24.0605 10.4644 24.0015 10.3345C23.9425 10.2046 23.8564 10.0888 23.749 9.99499L20.716 7.34598Z\" fill=\"currentColor\">\n",
      "              </path>\n",
      "              <path d=\"M35.071 18.338L37.5 13.759C37.5807 13.6066 37.6206 13.4359 37.6159 13.2635C37.6111 13.0911 37.5619 12.9229 37.4729 12.7751C37.384 12.6274 37.2583 12.5052 37.1082 12.4203C36.958 12.3355 36.7885 12.2909 36.616 12.291H34.023L20.693 1.31798C20.514 1.17064 20.2893 1.09008 20.0575 1.09008C19.8257 1.09008 19.601 1.17064 19.422 1.31798L6.093 12.291H3.477C3.30454 12.2909 3.135 12.3355 2.98485 12.4203C2.83469 12.5052 2.70903 12.6274 2.62006 12.7751C2.5311 12.9229 2.48185 13.0911 2.47711 13.2635C2.47237 13.4359 2.51229 13.6066 2.593 13.759L5.018 18.338C5.09427 18.4783 5.20338 18.598 5.336 18.687V30.459H3.478C3.21279 30.459 2.95843 30.5643 2.7709 30.7519C2.58336 30.9394 2.478 31.1938 2.478 31.459V36.722C2.478 36.9872 2.58336 37.2416 2.7709 37.4291C2.95843 37.6166 3.21279 37.722 3.478 37.722H36.612C36.8772 37.722 37.1316 37.6166 37.3191 37.4291C37.5066 37.2416 37.612 36.9872 37.612 36.722V31.459C37.612 31.1938 37.5066 30.9394 37.3191 30.7519C37.1316 30.5643 36.8772 30.459 36.612 30.459H34.664V18.744C34.8365 18.6514 34.978 18.5102 35.071 18.338ZM5.138 14.291H12.3C12.5652 14.291 12.8196 14.1856 13.0071 13.9981C13.1946 13.8106 13.3 13.5562 13.3 13.291C13.3 13.0258 13.1946 12.7714 13.0071 12.5839C12.8196 12.3963 12.5652 12.291 12.3 12.291H9.24L20.058 3.38398L30.875 12.289H27.723C27.4578 12.289 27.2034 12.3943 27.0159 12.5819C26.8284 12.7694 26.723 13.0238 26.723 13.289C26.723 13.5542 26.8284 13.8086 27.0159 13.9961C27.2034 14.1836 27.4578 14.289 27.723 14.289H34.951L33.585 16.868H6.5L5.138 14.291ZM28.4 30.459H23.132V18.87H28.4V30.459ZM11.6 18.87H16.867V30.459H11.6V18.87ZM18.867 18.87H21.131V30.459H18.868L18.867 18.87ZM7.335 18.87H9.6V30.459H7.336L7.335 18.87ZM35.612 32.459V35.722H4.478V32.459H35.612ZM30.399 30.459V18.87H32.664V30.459H30.399Z\" fill=\"currentColor\">\n",
      "              </path>\n",
      "             </svg>\n",
      "            </div>\n",
      "            <div class=\"space-y-4 mt-4\">\n",
      "             <p>\n",
      "              <a class=\"card-link line-clamp-2 w-[80%] md:w-90\" href=\"/cameroon/northern-cameroon/attractions/parc-national-du-waza/a/poi-sig/1300504/1327480\">\n",
      "               <span class=\"heading-05 font-semibold\">\n",
      "                Parc National du Waza\n",
      "               </span>\n",
      "              </a>\n",
      "             </p>\n",
      "             <p class=\"text-sm font-semibold uppercase !mt-2\">\n",
      "              Cameroon\n",
      "             </p>\n",
      "             <p class=\"relative flex flex-wrap justify-start items-start gap-x-4 gap-y-2 max-w-full label-sm uppercase hidden\">\n",
      "             </p>\n",
      "             <p class=\"relative line-clamp-3\">\n",
      "              Waza National Park is Cameroon's most accessible and rewarding wildlife-viewing experience. Visitors can reasonably expect to see large numbers of…\n",
      "             </p>\n",
      "            </div>\n",
      "           </article>\n",
      "          </div>\n",
      "         </li>\n",
      "         <li class=\"col-start-1 col-span-12 row-start-auto\">\n",
      "          <div class=\"hidden styles_gpt-ad__BVAfH bg-white pb-3\">\n",
      "          </div>\n",
      "         </li>\n",
      "        </ul>\n",
      "        <div class=\"col-span-full\">\n",
      "         <section class=\"mt-8 lg:mt-16 py-8 bg-sand rounded\">\n",
      "          <div class=\"container text-center mt-6 mb-14\">\n",
      "           <h2 class=\"text-2xl md:text-5xl md:leading-relaxed\">\n",
      "            More destinations you need to see\n",
      "           </h2>\n",
      "          </div>\n",
      "          <div class=\"jsx-899198629 max-w-full overflow-x-hidden px-4 lg:container\">\n",
      "           <ul class=\"jsx-899198629 carousel flex overflow-x-scroll md:overflow-x-auto overflow-y-hidden -mx-4\">\n",
      "            <li class=\"jsx-899198629 carousel-item flex-shrink-0 px-4 pb-2 w-90 md:w-1/5\">\n",
      "             <article class=\"relative flex-shrink-0 lg:flex-shrink mx-4 first:ml-0 last:mr-0 w-full aspect-square\">\n",
      "              <img alt=\"The Independence Square of Accra, Ghana, inscribed with the words &quot;Freedom and Justice, AD 1957&quot;, commemorates the independence of Ghana, a first for Sub Saharan Africa. It contains monuments to Ghana's independence struggle, including the Independence Arch, Black Star Square, and the Liberation Day Monument.\n",
      "453437701\n",
      "1957, Accra, Africa, African Descent, Arch, Architecture, Black, Black Star, British Colony, Day, Dusk, East, Famous Place, Flag, Freedom, Ghana, Horizontal, Independence, Justice, Monument, Night, People, Side View, Square, Star, Star Shape, Stone, Struggle, Sunset, Town Square, Travel, colonialism, indepedence\" class=\"max-w-full object-cover rounded w-full h-full max-h-96\" data-nimg=\"1\" decoding=\"async\" height=\"360\" loading=\"lazy\" src=\"https://lp-cms-production.imgix.net/2022-12/iStock-453437701.jpg?fit=crop&amp;w=360&amp;ar=1%3A1&amp;auto=format&amp;q=75\" srcset=\"https://lp-cms-production.imgix.net/2022-12/iStock-453437701.jpg?fit=crop&amp;w=360&amp;ar=1%3A1&amp;auto=format&amp;q=75 1x, https://lp-cms-production.imgix.net/2022-12/iStock-453437701.jpg?fit=crop&amp;w=360&amp;ar=1%3A1&amp;auto=format&amp;q=75 2x\" style=\"color:transparent\" width=\"360\"/>\n",
      "              <div class=\"\">\n",
      "               <a class=\"text-lg font-bold card-link lg:text-xl\" href=\"/ghana\">\n",
      "                <div class=\"text-sm uppercase font-semibold tracking-wide z-10 mt-4 text-black-400 block\">\n",
      "                </div>\n",
      "                Ghana\n",
      "               </a>\n",
      "              </div>\n",
      "             </article>\n",
      "            </li>\n",
      "            <li class=\"jsx-899198629 carousel-item flex-shrink-0 px-4 pb-2 w-90 md:w-1/5\">\n",
      "             <article class=\"relative flex-shrink-0 lg:flex-shrink mx-4 first:ml-0 last:mr-0 w-full aspect-square\">\n",
      "              <img alt=\"Cape Verde, Fogo Island, Pico Volcano (9 281,50 ft)\n",
      "Cape Verde, Fogo Island, Pico Volcano (9 281,50 ft)\" class=\"max-w-full object-cover rounded w-full h-full max-h-96\" data-nimg=\"1\" decoding=\"async\" height=\"360\" loading=\"lazy\" src=\"https://lp-cms-production.imgix.net/2023-02/d4a3cab8229a2a51f5c5ea69d583e76c-caboned.jpeg?fit=crop&amp;w=360&amp;ar=1%3A1&amp;auto=format&amp;q=75\" srcset=\"https://lp-cms-production.imgix.net/2023-02/d4a3cab8229a2a51f5c5ea69d583e76c-caboned.jpeg?fit=crop&amp;w=360&amp;ar=1%3A1&amp;auto=format&amp;q=75 1x, https://lp-cms-production.imgix.net/2023-02/d4a3cab8229a2a51f5c5ea69d583e76c-caboned.jpeg?fit=crop&amp;w=360&amp;ar=1%3A1&amp;auto=format&amp;q=75 2x\" style=\"color:transparent\" width=\"360\"/>\n",
      "              <div class=\"\">\n",
      "               <a class=\"text-lg font-bold card-link lg:text-xl\" href=\"/cape-verde\">\n",
      "                <div class=\"text-sm uppercase font-semibold tracking-wide z-10 mt-4 text-black-400 block\">\n",
      "                </div>\n",
      "                Cabo Verde\n",
      "               </a>\n",
      "              </div>\n",
      "             </article>\n",
      "            </li>\n",
      "            <li class=\"jsx-899198629 carousel-item flex-shrink-0 px-4 pb-2 w-90 md:w-1/5\">\n",
      "             <article class=\"relative flex-shrink-0 lg:flex-shrink mx-4 first:ml-0 last:mr-0 w-full aspect-square\">\n",
      "              <img alt=\"Ile de Goree Island, Senegal\n",
      "\" class=\"max-w-full object-cover rounded w-full h-full max-h-96\" data-nimg=\"1\" decoding=\"async\" height=\"360\" loading=\"lazy\" src=\"https://lp-cms-production.imgix.net/2023-03/GettyImages-694213668.jpg?fit=crop&amp;w=360&amp;ar=1%3A1&amp;auto=format&amp;q=75\" srcset=\"https://lp-cms-production.imgix.net/2023-03/GettyImages-694213668.jpg?fit=crop&amp;w=360&amp;ar=1%3A1&amp;auto=format&amp;q=75 1x, https://lp-cms-production.imgix.net/2023-03/GettyImages-694213668.jpg?fit=crop&amp;w=360&amp;ar=1%3A1&amp;auto=format&amp;q=75 2x\" style=\"color:transparent\" width=\"360\"/>\n",
      "              <div class=\"\">\n",
      "               <a class=\"text-lg font-bold card-link lg:text-xl\" href=\"/senegal\">\n",
      "                <div class=\"text-sm uppercase font-semibold tracking-wide z-10 mt-4 text-black-400 block\">\n",
      "                </div>\n",
      "                Senegal\n",
      "               </a>\n",
      "              </div>\n",
      "             </article>\n",
      "            </li>\n",
      "            <li class=\"jsx-899198629 carousel-item flex-shrink-0 px-4 pb-2 w-90 md:w-1/5\">\n",
      "             <article class=\"relative flex-shrink-0 lg:flex-shrink mx-4 first:ml-0 last:mr-0 w-full aspect-square\">\n",
      "              <img alt=\"Beach In Sierra Leone\" class=\"max-w-full object-cover rounded w-full h-full max-h-96\" data-nimg=\"1\" decoding=\"async\" height=\"360\" loading=\"lazy\" src=\"https://lp-cms-production.imgix.net/2023-03/GettyImages-1062540772.jpg?fit=crop&amp;w=360&amp;ar=1%3A1&amp;auto=format&amp;q=75\" srcset=\"https://lp-cms-production.imgix.net/2023-03/GettyImages-1062540772.jpg?fit=crop&amp;w=360&amp;ar=1%3A1&amp;auto=format&amp;q=75 1x, https://lp-cms-production.imgix.net/2023-03/GettyImages-1062540772.jpg?fit=crop&amp;w=360&amp;ar=1%3A1&amp;auto=format&amp;q=75 2x\" style=\"color:transparent\" width=\"360\"/>\n",
      "              <div class=\"\">\n",
      "               <a class=\"text-lg font-bold card-link lg:text-xl\" href=\"/sierra-leone\">\n",
      "                <div class=\"text-sm uppercase font-semibold tracking-wide z-10 mt-4 text-black-400 block\">\n",
      "                </div>\n",
      "                Sierra Leone\n",
      "               </a>\n",
      "              </div>\n",
      "             </article>\n",
      "            </li>\n",
      "            <li class=\"jsx-899198629 carousel-item flex-shrink-0 px-4 pb-2 w-90 md:w-1/5\">\n",
      "             <article class=\"relative flex-shrink-0 lg:flex-shrink mx-4 first:ml-0 last:mr-0 w-full aspect-square\">\n",
      "              <img alt=\"Africa, West Africa, Benin, Lake Nokoue, Ganvié. Pirogues in the water streets of the lakeside town of Ganvié.\n",
      "1246920424\" class=\"max-w-full object-cover rounded w-full h-full max-h-96\" data-nimg=\"1\" decoding=\"async\" height=\"360\" loading=\"lazy\" src=\"https://lp-cms-production.imgix.net/2023-08/BENIN-GettyImages-1246920424-RFE.jpg?fit=crop&amp;w=360&amp;ar=1%3A1&amp;auto=format&amp;q=75\" srcset=\"https://lp-cms-production.imgix.net/2023-08/BENIN-GettyImages-1246920424-RFE.jpg?fit=crop&amp;w=360&amp;ar=1%3A1&amp;auto=format&amp;q=75 1x, https://lp-cms-production.imgix.net/2023-08/BENIN-GettyImages-1246920424-RFE.jpg?fit=crop&amp;w=360&amp;ar=1%3A1&amp;auto=format&amp;q=75 2x\" style=\"color:transparent\" width=\"360\"/>\n",
      "              <div class=\"\">\n",
      "               <a class=\"text-lg font-bold card-link lg:text-xl\" href=\"/benin\">\n",
      "                <div class=\"text-sm uppercase font-semibold tracking-wide z-10 mt-4 text-black-400 block\">\n",
      "                </div>\n",
      "                Benin\n",
      "               </a>\n",
      "              </div>\n",
      "             </article>\n",
      "            </li>\n",
      "           </ul>\n",
      "          </div>\n",
      "         </section>\n",
      "        </div>\n",
      "       </div>\n",
      "      </section>\n",
      "     </div>\n",
      "    </main>\n",
      "   </div>\n",
      "   <footer>\n",
      "    <section>\n",
      "     <div class=\"container pt-12 border-t border-black-200 md:pb-4 lg:py-12\">\n",
      "      <div class=\"justify-between md:flex\">\n",
      "       <div class=\"text-center md:w-1/4 flex-0 md:text-left\">\n",
      "        <a class=\"no-underline\" href=\"/\">\n",
      "         <svg aria-label=\"Lonely Planet Home\" class=\"mx-auto text-3xl cursor-pointer text-blue w-36 md:text-4xl md:w-56 md:mx-0\" fill=\"currentColor\" height=\"1em\" role=\"img\" viewbox=\"0 0 605.88 98.66\" width=\"2em\" xmlns=\"http://www.w3.org/2000/svg\">\n",
      "          <path d=\"M219.05 75.21c-10.54 0-16.72-6.28-16.72-16.93V0h15.76v57.32c0 3 1.28 4.47 4.15 4.47h3.83v13.42ZM395.14 75.21c-10.54 0-16.72-6.28-16.72-16.93V0h15.76v57.32c0 3 1.28 4.47 4.15 4.47h3.83v13.42Z\">\n",
      "          </path>\n",
      "          <path d=\"M278.13 21.76h-15.76v29c0 7.45-3.83 10.65-9 10.65s-8.95-3.19-8.95-10.65v-29h-15.71V51.7c0 14.7 11 23.54 23.08 23.54 3.86 0 9.54-2 10.7-5.72v2.74c0 8.52-6 12.67-12.67 12.67a16.2 16.2 0 0 1-13.95-7.14L225.33 87c6.39 9.37 16.61 11.71 24.07 11.71 17.36 0 28.75-10.22 28.75-27.37V21.76ZM27 47.52c0-17.14 12.25-29.07 28.86-29.07s29 11.93 29 29.07-12.25 29.07-29 29.07S27 64.66 27 47.52Zm41.75 0c0-9.8-5.54-15.12-12.89-15.12s-12.67 5.32-12.67 15.12 5.43 15.23 12.67 15.23 12.89-5.43 12.89-15.23ZM197.26 51.46h-37.59c1.17 8.41 6 11.82 12.89 11.82 5.43 0 9.58-1.81 12.57-6.28L196 65.84c-5.32 7.24-14 10.76-23.43 10.76-17.16 0-28.87-11.6-28.87-29.07 0-17.14 11.18-29.07 27.26-29.07 15.65 0 26.41 11.82 26.41 29.07-.01 1.16-.01 2.76-.11 3.93ZM160 41h21.62c-1.39-7.12-5.23-10.1-10.62-10.1-6 .01-9.74 3.2-11 10.1ZM573 51.46h-37.55c1.17 8.41 6 11.82 12.89 11.82 5.43 0 9.58-1.81 12.57-6.28l10.86 8.84c-5.32 7.24-13.95 10.76-23.43 10.76-17.15 0-28.86-11.61-28.86-29.07 0-17.14 11.18-29.07 27.26-29.07 15.65 0 26.41 11.82 26.41 29.07-.01 1.16-.01 2.76-.15 3.93ZM535.76 41h21.62c-1.38-7.12-5.22-10.1-10.65-10.1-5.96.01-9.73 3.2-10.97 10.1ZM403.17 47.55c0 16.45 10.93 29.16 25.13 29.16 7.8 0 12.46-3.52 15.77-8.54v7h15.7V47.55c0-23-17.32-29.16-28-29.16-18.21.01-28.6 12.72-28.6 29.16Zm16.13.11c0-9.83 5.13-15.27 12.5-15.27s12.5 5.45 12.5 15.27-5.13 15.17-12.5 15.17-12.5-5.34-12.5-15.17ZM605.88 34h-12v20.12q0 7.66 6.07 7.67h6v13.42h-8c-12.46 0-19.81-7.67-19.81-20.45V3l15.76.13v18.63h12V34ZM16.72 75.24C6.18 75.24 0 69 0 58.31V0h15.76v57.36c0 3 1.28 4.47 4.15 4.47h3.83v13.41ZM344.39 18.43c-10.69 0-28 6.2-28 29.16v45.82h15.7v-25.2c3.31 5 8 8.54 15.77 8.54C362.06 76.75 373 64 373 47.59s-10.39-29.16-28.61-29.16Zm0 44.43c-7.37 0-12.5-5.34-12.5-15.17s5.13-15.27 12.5-15.27 12.5 5.45 12.5 15.27-5.15 15.17-12.52 15.17ZM139.11 42v33.21h-15.76V42.94c0-7.45-3.83-10.65-8.95-10.65s-9 3.19-9 10.65v32.27H89.69V42c0-14.7 10.65-23.54 24.71-23.54s24.71 8.83 24.71 23.54ZM515.38 42v33.21h-15.76V42.94c0-7.45-3.83-10.65-8.95-10.65s-8.95 3.19-8.95 10.65v32.27H466V42c0-14.7 10.65-23.54 24.71-23.54s24.67 8.83 24.67 23.54Z\">\n",
      "          </path>\n",
      "         </svg>\n",
      "        </a>\n",
      "        <p class=\"mt-1 mb-10 md:mt-2\">\n",
      "         For Explorers Everywhere\n",
      "        </p>\n",
      "        <h3 class=\"mb-4 text-sm font-semibold uppercase\">\n",
      "         Follow us\n",
      "        </h3>\n",
      "        <nav class=\"flex justify-center mx-auto lg:flex-none lg:justify-normal\">\n",
      "         <ul class=\"flex space-x-4 lg:space-x-2\">\n",
      "          <li data-testid=\"Facebook\">\n",
      "           <a class=\"no-underline\" href=\"https://www.facebook.com/lonelyplanet\" rel=\"noopener noreferrer\" target=\"_blank\">\n",
      "            <svg aria-label=\"Lonely Planet on Facebook\" class=\"text-2xl\" fill=\"currentColor\" height=\"1em\" role=\"img\" viewbox=\"0 0 32 32\" width=\"1em\" xmlns=\"http://www.w3.org/2000/svg\">\n",
      "             <path d=\"M0 16C0 24.8366 7.16344 32 16 32C24.8366 32 32 24.8366 32 16C32 7.16344 24.8366 0 16 0C7.16344 0 0 7.16344 0 16Z\" fill=\"#1877F2\">\n",
      "             </path>\n",
      "             <path d=\"M24 16C24 11.6 20.4 8 16 8C11.6 8 8 11.6 8 16C8 20 10.9 23.3 14.7 23.9V18.3H12.7V16H14.7V14.2C14.7 12.2 15.9 11.1 17.7 11.1C18.6 11.1 19.5 11.3 19.5 11.3V13.3H18.5C17.5 13.3 17.2 13.9 17.2 14.5V16H19.4L19 18.3H17.1V24C21.1 23.4 24 20 24 16Z\" fill=\"white\">\n",
      "             </path>\n",
      "            </svg>\n",
      "           </a>\n",
      "          </li>\n",
      "          <li data-testid=\"Instagram\">\n",
      "           <a class=\"no-underline\" href=\"https://www.instagram.com/lonelyplanet\" rel=\"noopener noreferrer\" target=\"_blank\">\n",
      "            <svg aria-label=\"Lonely Planet on Instagram\" class=\"text-2xl\" fill=\"currentColor\" height=\"1em\" role=\"img\" viewbox=\"0 0 32 32\" width=\"1em\" xmlns=\"http://www.w3.org/2000/svg\">\n",
      "             <path d=\"M0 16C0 24.8366 7.16344 32 16 32C24.8366 32 32 24.8366 32 16C32 7.16344 24.8366 0 16 0C7.16344 0 0 7.16344 0 16Z\" fill=\"#F00073\">\n",
      "             </path>\n",
      "             <path d=\"M16 9.19995C18.2 9.19995 18.5 9.19995 19.4 9.19995C20.2 9.19995 20.6 9.39995 20.9 9.49995C21.3 9.69995 21.6 9.79995 21.9 10.1C22.2 10.4 22.4 10.7 22.5 11.1C22.6 11.4 22.7 11.8 22.8 12.6C22.8 13.5 22.8 13.7 22.8 16C22.8 18.3 22.8 18.5 22.8 19.4C22.8 20.2 22.6 20.6 22.5 20.9C22.3 21.3 22.2 21.6 21.9 21.9C21.6 22.2 21.3 22.4 20.9 22.5C20.6 22.6 20.2 22.7 19.4 22.8C18.5 22.8 18.3 22.8 16 22.8C13.7 22.8 13.5 22.8 12.6 22.8C11.8 22.8 11.4 22.6 11.1 22.5C10.7 22.3 10.4 22.2 10.1 21.9C9.79995 21.6 9.59995 21.3 9.49995 20.9C9.39995 20.6 9.29995 20.2 9.19995 19.4C9.19995 18.5 9.19995 18.3 9.19995 16C9.19995 13.7 9.19995 13.5 9.19995 12.6C9.19995 11.8 9.39995 11.4 9.49995 11.1C9.69995 10.7 9.79995 10.4 10.1 10.1C10.4 9.79995 10.7 9.59995 11.1 9.49995C11.4 9.39995 11.8 9.29995 12.6 9.19995C13.5 9.19995 13.8 9.19995 16 9.19995ZM16 7.69995C13.7 7.69995 13.5 7.69995 12.6 7.69995C11.7 7.69995 11.1 7.89995 10.6 8.09995C10.1 8.29995 9.59995 8.59995 9.09995 9.09995C8.59995 9.59995 8.39995 9.99995 8.09995 10.6C7.89995 11.1 7.79995 11.7 7.69995 12.6C7.69995 13.5 7.69995 13.8 7.69995 16C7.69995 18.3 7.69995 18.5 7.69995 19.4C7.69995 20.3 7.89995 20.9 8.09995 21.4C8.29995 21.9 8.59995 22.4 9.09995 22.9C9.59995 23.4 9.99995 23.6 10.6 23.9C11.1 24.1 11.7 24.1999 12.6 24.2999C13.5 24.2999 13.8 24.2999 16 24.2999C18.2 24.2999 18.5 24.2999 19.4 24.2999C20.3 24.2999 20.9 24.1 21.4 23.9C21.9 23.7 22.4 23.4 22.9 22.9C23.4 22.4 23.6 22 23.9 21.4C24.1 20.9 24.1999 20.3 24.2999 19.4C24.2999 18.5 24.2999 18.2 24.2999 16C24.2999 13.8 24.2999 13.5 24.2999 12.6C24.2999 11.7 24.1 11.1 23.9 10.6C23.7 10.1 23.4 9.59995 22.9 9.09995C22.4 8.59995 22 8.39995 21.4 8.09995C20.9 7.89995 20.3 7.79995 19.4 7.69995C18.5 7.69995 18.3 7.69995 16 7.69995Z\" fill=\"white\">\n",
      "             </path>\n",
      "             <path d=\"M16 11.7C13.6 11.7 11.7 13.6 11.7 16C11.7 18.4 13.6 20.3 16 20.3C18.4 20.3 20.3 18.4 20.3 16C20.3 13.6 18.4 11.7 16 11.7ZM16 18.8C14.5 18.8 13.2 17.6 13.2 16C13.2 14.5 14.4 13.2 16 13.2C17.5 13.2 18.8 14.4 18.8 16C18.8 17.5 17.5 18.8 16 18.8Z\" fill=\"white\">\n",
      "             </path>\n",
      "             <path d=\"M20.4 12.6C20.9522 12.6 21.4 12.1522 21.4 11.6C21.4 11.0477 20.9522 10.6 20.4 10.6C19.8477 10.6 19.4 11.0477 19.4 11.6C19.4 12.1522 19.8477 12.6 20.4 12.6Z\" fill=\"white\">\n",
      "             </path>\n",
      "            </svg>\n",
      "           </a>\n",
      "          </li>\n",
      "          <li data-testid=\"Twitter\">\n",
      "           <a class=\"no-underline\" href=\"https://www.twitter.com/lonelyplanet\" rel=\"noopener noreferrer\" target=\"_blank\">\n",
      "            <svg aria-label=\"Lonely Planet on Twitter\" class=\"text-2xl\" fill=\"currentColor\" height=\"1em\" role=\"img\" viewbox=\"0 0 300 300\" width=\"1em\" xmlns=\"http://www.w3.org/2000/svg\">\n",
      "             <path d=\"M150 300C232.85 300 300 232.85 300 150C300 67.15 232.85 0 150 0C67.15 0 0 67.15 0 150C0 232.85 67.15 300 150 300Z\" fill=\"#000\">\n",
      "             </path>\n",
      "             <path d=\"M57.74 63.04L129.65 158.71L57.36 236.71H73.57L136.72 168.24L187.61 236.71H243.22L167.34 135.54L234.34 63.04H218.13L159.98 125.75L113.03 63.04H57.74ZM81.73 75.03H106.93L218.86 224.68H193.66L81.73 75.03Z\" fill=\"white\">\n",
      "             </path>\n",
      "            </svg>\n",
      "           </a>\n",
      "          </li>\n",
      "          <li data-testid=\"YouTube\">\n",
      "           <a class=\"no-underline\" href=\"https://www.youtube.com/lonelyplanet\" rel=\"noopener noreferrer\" target=\"_blank\">\n",
      "            <svg aria-label=\"Lonely Planet on YouTube\" class=\"text-2xl\" fill=\"currentColor\" height=\"1em\" role=\"img\" viewbox=\"0 0 32 32\" width=\"1em\" xmlns=\"http://www.w3.org/2000/svg\">\n",
      "             <path d=\"M0 16C0 24.8366 7.16344 32 16 32C24.8366 32 32 24.8366 32 16C32 7.16344 24.8366 0 16 0C7.16344 0 0 7.16344 0 16Z\" fill=\"#FF0000\">\n",
      "             </path>\n",
      "             <path d=\"M23.6 12.1C23.4 11.4 22.9 10.9 22.2 10.7C21 10.4 15.9 10.4 15.9 10.4C15.9 10.4 10.9 10.4 9.60001 10.7C8.90001 10.9 8.4 11.4 8.2 12.1C8 13.4 8 16 8 16C8 16 8 18.6 8.3 19.9C8.5 20.6 9 21.1 9.7 21.3C10.9 21.6 16 21.6 16 21.6C16 21.6 21 21.6 22.3 21.3C23 21.1 23.5 20.6 23.7 19.9C24 18.6 24 16 24 16C24 16 24 13.4 23.6 12.1ZM14.4 18.4V13.6L18.6 16L14.4 18.4Z\" fill=\"white\">\n",
      "             </path>\n",
      "            </svg>\n",
      "           </a>\n",
      "          </li>\n",
      "          <li data-testid=\"Pinterest\">\n",
      "           <a class=\"no-underline\" href=\"https://www.pinterest.com/lonelyplanet\" rel=\"noopener noreferrer\" target=\"_blank\">\n",
      "            <svg aria-label=\"Lonely Planet on Pinterest\" class=\"text-2xl\" fill=\"currentColor\" height=\"1em\" role=\"img\" viewbox=\"0 0 32 32\" width=\"1em\" xmlns=\"http://www.w3.org/2000/svg\">\n",
      "             <path d=\"M0 16C0 24.8366 7.16344 32 16 32C24.8366 32 32 24.8366 32 16C32 7.16344 24.8366 0 16 0C7.16344 0 0 7.16344 0 16Z\" fill=\"#E60023\">\n",
      "             </path>\n",
      "             <path d=\"M16 8C11.6 8 8 11.6 8 16C8 19.3 10 22.1 12.8 23.3C12.8 22.7 12.8 22.1 12.9 21.5C13.1 20.8 13.9 17.1 13.9 17.1C13.9 17.1 13.6 16.6 13.6 15.8C13.6 14.6 14.3 13.7 15.1 13.7C15.8 13.7 16.2 14.2 16.2 14.9C16.2 15.6 15.7 16.7 15.5 17.7C15.3 18.5 15.9 19.2 16.8 19.2C18.3 19.2 19.3 17.3 19.3 14.9C19.3 13.1 18.1 11.8 16 11.8C13.6 11.8 12.1 13.6 12.1 15.6C12.1 16.3 12.3 16.8 12.6 17.2C12.7 17.4 12.8 17.4 12.7 17.6C12.7 17.7 12.6 18.1 12.5 18.2C12.4 18.4 12.3 18.5 12.1 18.4C11 17.9 10.5 16.7 10.5 15.3C10.5 13 12.4 10.3 16.2 10.3C19.3 10.3 21.3 12.5 21.3 14.9C21.3 18 19.6 20.4 17 20.4C16.1 20.4 15.3 19.9 15 19.4C15 19.4 14.5 21.2 14.4 21.6C14.2 22.2 13.9 22.8 13.6 23.3C14.3 23.5 15.1 23.6 15.9 23.6C20.3 23.6 23.9 20 23.9 15.6C24 11.6 20.4 8 16 8Z\" fill=\"white\">\n",
      "             </path>\n",
      "            </svg>\n",
      "           </a>\n",
      "          </li>\n",
      "         </ul>\n",
      "        </nav>\n",
      "        <h3 class=\"mt-10 mb-4 text-sm font-semibold\">\n",
      "         SUBSCRIBE\n",
      "        </h3>\n",
      "        <div class=\"\">\n",
      "         <h3 class=\"text-lg font-semibold text-blue\">\n",
      "          Get 20% off your first order.\n",
      "         </h3>\n",
      "         <form>\n",
      "          <input class=\"rounded-pill border border-black-200 focus:border-black-300 px-8 py-3 font-light my-4 placeholder-black max-w-full h-10 w-full\" id=\"\" name=\"\" placeholder=\"Email address\" required=\"\" type=\"email\" value=\"\"/>\n",
      "          <button class=\"btn btn btn-primary mb-4 w-full\" data-testid=\"btn\" type=\"submit\">\n",
      "           Subscribe now\n",
      "          </button>\n",
      "          <p class=\"text-xs text-black-400\">\n",
      "           Subscribe to Lonely Planet newsletters and promotions.\n",
      "           <!-- -->\n",
      "           <span class=\"whitespace-nowrap\">\n",
      "            Read our\n",
      "            <!-- -->\n",
      "            <a class=\"underline text-blue\" href=\"/legal\">\n",
      "             Privacy Policy.\n",
      "            </a>\n",
      "           </span>\n",
      "          </p>\n",
      "         </form>\n",
      "        </div>\n",
      "       </div>\n",
      "       <div class=\"mt-10 md:w-3/5 flex-0 md:mt-0\">\n",
      "        <div class=\"jsx-21109142f51e79b3 md:grid md:gap-4 grid-cols-3 grid-layout grid-rows-[150px_auto]\">\n",
      "         <nav class=\"jsx-21109142f51e79b3 fn-0 border-t md:border-t-0 border-black-200\">\n",
      "          <button class=\"jsx-21109142f51e79b3 w-full flex justify-between items-center pt-5 md:pt-0 md:cursor-default md:pointer-events-none pb-5 md:pb-0\" name=\"Open Top destinations menu\" type=\"button\">\n",
      "           <h3 class=\"jsx-21109142f51e79b3 text-sm font-semibold leading-none uppercase md:text-left\">\n",
      "            Top destinations\n",
      "           </h3>\n",
      "           <svg aria-hidden=\"true\" class=\"md:hidden text-2xl text-black-300 transform transition-transform\" fill=\"currentColor\" height=\"1em\" viewbox=\"0 0 32 32\" width=\"1em\" xmlns=\"http://www.w3.org/2000/svg\">\n",
      "            <path d=\"M16 31C18.9667 31 21.8668 30.1203 24.3336 28.4721C26.8003 26.8238 28.7229 24.4812 29.8582 21.7403C30.9935 18.9994 31.2906 15.9834 30.7118 13.0737C30.133 10.1639 28.7044 7.49119 26.6066 5.3934C24.5088 3.29562 21.8361 1.86701 18.9264 1.28823C16.0166 0.709449 13.0006 1.0065 10.2597 2.14181C7.51886 3.27713 5.17618 5.19972 3.52796 7.66645C1.87973 10.1332 1 13.0333 1 16C1 19.9783 2.58035 23.7936 5.3934 26.6066C8.20644 29.4197 12.0218 31 16 31ZM16 3.00001C18.5712 3.00001 21.0846 3.76244 23.2224 5.1909C25.3603 6.61936 27.0265 8.64968 28.0104 11.0251C28.9944 13.4006 29.2518 16.0144 28.7502 18.5362C28.2486 21.0579 27.0105 23.3743 25.1924 25.1924C23.3743 27.0105 21.0579 28.2486 18.5362 28.7502C16.0144 29.2518 13.4006 28.9944 11.0251 28.0104C8.64968 27.0265 6.61935 25.3603 5.1909 23.2224C3.76244 21.0846 3 18.5712 3 16C3.00529 12.5538 4.37663 9.25029 6.81345 6.81346C9.25028 4.37663 12.5538 3.0053 16 3.00001Z\">\n",
      "            </path>\n",
      "            <path d=\"M15.2804 20.1201C15.4716 20.3106 15.7305 20.4176 16.0004 20.4176C16.2703 20.4176 16.5292 20.3106 16.7204 20.1201L21.8404 14.7001C21.9341 14.6071 22.0085 14.4965 22.0593 14.3746C22.1101 14.2528 22.1362 14.1221 22.1362 13.9901C22.1362 13.858 22.1101 13.7273 22.0593 13.6055C22.0085 13.4836 21.9341 13.373 21.8404 13.2801C21.7492 13.1869 21.6403 13.1129 21.5201 13.0624C21.3999 13.0119 21.2708 12.9859 21.1404 12.9859C21.01 12.9859 20.881 13.0119 20.7608 13.0624C20.6406 13.1129 20.5317 13.1869 20.4404 13.2801L16.0004 18.0001L11.6004 13.3201C11.5129 13.2139 11.4043 13.127 11.2817 13.0648C11.159 13.0025 11.0248 12.9662 10.8875 12.9582C10.7501 12.9502 10.6126 12.9706 10.4835 13.0181C10.3544 13.0657 10.2365 13.1393 10.1372 13.2345C10.0379 13.3297 9.95926 13.4444 9.90626 13.5713C9.85327 13.6983 9.82705 13.8348 9.82923 13.9724C9.83141 14.1099 9.86194 14.2455 9.91893 14.3707C9.97592 14.496 10.0581 14.6081 10.1604 14.7001L15.2804 20.1201Z\">\n",
      "            </path>\n",
      "           </svg>\n",
      "          </button>\n",
      "          <ul class=\"jsx-21109142f51e79b3 overflow-hidden md:max-h-full transition-all duration-300 max-h-0 max-h-0 pb-0\">\n",
      "           <li class=\"jsx-21109142f51e79b3\">\n",
      "            <a class=\"jsx-21109142f51e79b3 block mt-6 text-sm text-black-400 md:mt-2\" href=\"/usa/new-york-city\">\n",
      "             New York City\n",
      "            </a>\n",
      "           </li>\n",
      "           <li class=\"jsx-21109142f51e79b3\">\n",
      "            <a class=\"jsx-21109142f51e79b3 block mt-6 text-sm text-black-400 md:mt-2\" href=\"/france/paris\">\n",
      "             Paris\n",
      "            </a>\n",
      "           </li>\n",
      "           <li class=\"jsx-21109142f51e79b3\">\n",
      "            <a class=\"jsx-21109142f51e79b3 block mt-6 text-sm text-black-400 md:mt-2\" href=\"/italy\">\n",
      "             Italy\n",
      "            </a>\n",
      "           </li>\n",
      "           <li class=\"jsx-21109142f51e79b3\">\n",
      "            <a class=\"jsx-21109142f51e79b3 block mt-6 text-sm text-black-400 md:mt-2\" href=\"/costa-rica\">\n",
      "             Costa Rica\n",
      "            </a>\n",
      "           </li>\n",
      "           <li class=\"jsx-21109142f51e79b3\">\n",
      "            <a class=\"jsx-21109142f51e79b3 block mt-6 text-sm text-black-400 md:mt-2\" href=\"/japan\">\n",
      "             Japan\n",
      "            </a>\n",
      "           </li>\n",
      "           <li class=\"jsx-21109142f51e79b3\">\n",
      "            <a class=\"jsx-21109142f51e79b3 block mt-6 text-sm text-black-400 md:mt-2\" href=\"/usa\">\n",
      "             USA\n",
      "            </a>\n",
      "           </li>\n",
      "           <li class=\"jsx-21109142f51e79b3\">\n",
      "            <a class=\"jsx-21109142f51e79b3 block mt-6 text-sm text-black-400 md:mt-2\" href=\"/the-netherlands/amsterdam\">\n",
      "             Amsterdam\n",
      "            </a>\n",
      "           </li>\n",
      "           <li class=\"jsx-21109142f51e79b3\">\n",
      "            <a class=\"jsx-21109142f51e79b3 block mt-6 text-sm text-black-400 md:mt-2\" href=\"/portugal\">\n",
      "             Portugal\n",
      "            </a>\n",
      "           </li>\n",
      "           <li class=\"jsx-21109142f51e79b3\">\n",
      "            <a class=\"jsx-21109142f51e79b3 block mt-6 text-sm text-black-400 md:mt-2\" href=\"/mexico/cancun\">\n",
      "             Cancún\n",
      "            </a>\n",
      "           </li>\n",
      "           <li class=\"jsx-21109142f51e79b3\">\n",
      "            <a class=\"jsx-21109142f51e79b3 block mt-6 text-sm text-black-400 md:mt-2\" href=\"/usa/chicago\">\n",
      "             Chicago\n",
      "            </a>\n",
      "           </li>\n",
      "           <li class=\"jsx-21109142f51e79b3\">\n",
      "            <a class=\"jsx-21109142f51e79b3 block mt-6 text-sm text-black-400 md:mt-2\" href=\"/england\">\n",
      "             England\n",
      "            </a>\n",
      "           </li>\n",
      "           <li class=\"jsx-21109142f51e79b3\">\n",
      "            <a class=\"jsx-21109142f51e79b3 block mt-6 text-sm text-black-400 md:mt-2\" href=\"/japan/tokyo\">\n",
      "             Tokyo\n",
      "            </a>\n",
      "           </li>\n",
      "           <li class=\"jsx-21109142f51e79b3\">\n",
      "            <a class=\"jsx-21109142f51e79b3 block mt-6 text-sm text-black-400 md:mt-2\" href=\"/france\">\n",
      "             France\n",
      "            </a>\n",
      "           </li>\n",
      "           <li class=\"jsx-21109142f51e79b3\">\n",
      "            <a class=\"jsx-21109142f51e79b3 block mt-6 text-sm text-black-400 md:mt-2\" href=\"/thailand\">\n",
      "             Thailand\n",
      "            </a>\n",
      "           </li>\n",
      "           <li class=\"jsx-21109142f51e79b3\">\n",
      "            <a class=\"jsx-21109142f51e79b3 block mt-6 text-sm text-black-400 md:mt-2\" href=\"/ireland\">\n",
      "             Ireland\n",
      "            </a>\n",
      "           </li>\n",
      "           <li class=\"jsx-21109142f51e79b3\">\n",
      "            <a class=\"jsx-21109142f51e79b3 block mt-6 text-sm text-black-400 md:mt-2\" href=\"/italy/rome\">\n",
      "             Rome\n",
      "            </a>\n",
      "           </li>\n",
      "           <li class=\"jsx-21109142f51e79b3\">\n",
      "            <a class=\"jsx-21109142f51e79b3 block mt-6 text-sm text-black-400 md:mt-2\" href=\"/england/london\">\n",
      "             London\n",
      "            </a>\n",
      "           </li>\n",
      "           <li class=\"jsx-21109142f51e79b3\">\n",
      "            <a class=\"jsx-21109142f51e79b3 block mt-6 text-sm text-black-400 md:mt-2\" href=\"/usa/los-angeles\">\n",
      "             Los Angeles\n",
      "            </a>\n",
      "           </li>\n",
      "           <li class=\"jsx-21109142f51e79b3\">\n",
      "            <a class=\"jsx-21109142f51e79b3 block mt-6 text-sm text-black-400 md:mt-2\" href=\"/mexico\">\n",
      "             Mexico\n",
      "            </a>\n",
      "           </li>\n",
      "           <li class=\"jsx-21109142f51e79b3\">\n",
      "            <a class=\"jsx-21109142f51e79b3 block mt-6 text-sm text-black-400 md:mt-2\" href=\"/usa/san-francisco\">\n",
      "             San Francisco\n",
      "            </a>\n",
      "           </li>\n",
      "           <li class=\"jsx-21109142f51e79b3\">\n",
      "            <a class=\"jsx-21109142f51e79b3 block mt-6 text-sm text-black-400 md:mt-2\" href=\"/places\">\n",
      "             Explore More Destinations\n",
      "            </a>\n",
      "           </li>\n",
      "          </ul>\n",
      "         </nav>\n",
      "         <nav class=\"jsx-21109142f51e79b3 fn-1 border-t md:border-t-0 border-black-200\">\n",
      "          <button class=\"jsx-21109142f51e79b3 w-full flex justify-between items-center pt-5 md:pt-0 md:cursor-default md:pointer-events-none pb-5 md:pb-0\" name=\"Open Travel Interests menu\" type=\"button\">\n",
      "           <h3 class=\"jsx-21109142f51e79b3 text-sm font-semibold leading-none uppercase md:text-left\">\n",
      "            Travel Interests\n",
      "           </h3>\n",
      "           <svg aria-hidden=\"true\" class=\"md:hidden text-2xl text-black-300 transform transition-transform\" fill=\"currentColor\" height=\"1em\" viewbox=\"0 0 32 32\" width=\"1em\" xmlns=\"http://www.w3.org/2000/svg\">\n",
      "            <path d=\"M16 31C18.9667 31 21.8668 30.1203 24.3336 28.4721C26.8003 26.8238 28.7229 24.4812 29.8582 21.7403C30.9935 18.9994 31.2906 15.9834 30.7118 13.0737C30.133 10.1639 28.7044 7.49119 26.6066 5.3934C24.5088 3.29562 21.8361 1.86701 18.9264 1.28823C16.0166 0.709449 13.0006 1.0065 10.2597 2.14181C7.51886 3.27713 5.17618 5.19972 3.52796 7.66645C1.87973 10.1332 1 13.0333 1 16C1 19.9783 2.58035 23.7936 5.3934 26.6066C8.20644 29.4197 12.0218 31 16 31ZM16 3.00001C18.5712 3.00001 21.0846 3.76244 23.2224 5.1909C25.3603 6.61936 27.0265 8.64968 28.0104 11.0251C28.9944 13.4006 29.2518 16.0144 28.7502 18.5362C28.2486 21.0579 27.0105 23.3743 25.1924 25.1924C23.3743 27.0105 21.0579 28.2486 18.5362 28.7502C16.0144 29.2518 13.4006 28.9944 11.0251 28.0104C8.64968 27.0265 6.61935 25.3603 5.1909 23.2224C3.76244 21.0846 3 18.5712 3 16C3.00529 12.5538 4.37663 9.25029 6.81345 6.81346C9.25028 4.37663 12.5538 3.0053 16 3.00001Z\">\n",
      "            </path>\n",
      "            <path d=\"M15.2804 20.1201C15.4716 20.3106 15.7305 20.4176 16.0004 20.4176C16.2703 20.4176 16.5292 20.3106 16.7204 20.1201L21.8404 14.7001C21.9341 14.6071 22.0085 14.4965 22.0593 14.3746C22.1101 14.2528 22.1362 14.1221 22.1362 13.9901C22.1362 13.858 22.1101 13.7273 22.0593 13.6055C22.0085 13.4836 21.9341 13.373 21.8404 13.2801C21.7492 13.1869 21.6403 13.1129 21.5201 13.0624C21.3999 13.0119 21.2708 12.9859 21.1404 12.9859C21.01 12.9859 20.881 13.0119 20.7608 13.0624C20.6406 13.1129 20.5317 13.1869 20.4404 13.2801L16.0004 18.0001L11.6004 13.3201C11.5129 13.2139 11.4043 13.127 11.2817 13.0648C11.159 13.0025 11.0248 12.9662 10.8875 12.9582C10.7501 12.9502 10.6126 12.9706 10.4835 13.0181C10.3544 13.0657 10.2365 13.1393 10.1372 13.2345C10.0379 13.3297 9.95926 13.4444 9.90626 13.5713C9.85327 13.6983 9.82705 13.8348 9.82923 13.9724C9.83141 14.1099 9.86194 14.2455 9.91893 14.3707C9.97592 14.496 10.0581 14.6081 10.1604 14.7001L15.2804 20.1201Z\">\n",
      "            </path>\n",
      "           </svg>\n",
      "          </button>\n",
      "          <ul class=\"jsx-21109142f51e79b3 overflow-hidden md:max-h-full transition-all duration-300 max-h-0 max-h-0 pb-0\">\n",
      "           <li class=\"jsx-21109142f51e79b3\">\n",
      "            <a class=\"jsx-21109142f51e79b3 block mt-6 text-sm text-black-400 md:mt-2\" href=\"/articles/category/adventure-travel\">\n",
      "             Adventure Travel\n",
      "            </a>\n",
      "           </li>\n",
      "           <li class=\"jsx-21109142f51e79b3\">\n",
      "            <a class=\"jsx-21109142f51e79b3 block mt-6 text-sm text-black-400 md:mt-2\" href=\"/articles/category/art-and-culture\">\n",
      "             Art and Culture\n",
      "            </a>\n",
      "           </li>\n",
      "           <li class=\"jsx-21109142f51e79b3\">\n",
      "            <a class=\"jsx-21109142f51e79b3 block mt-6 text-sm text-black-400 md:mt-2\" href=\"/articles/category/beaches\">\n",
      "             Beaches, Coasts and Islands\n",
      "            </a>\n",
      "           </li>\n",
      "           <li class=\"jsx-21109142f51e79b3\">\n",
      "            <a class=\"jsx-21109142f51e79b3 block mt-6 text-sm text-black-400 md:mt-2\" href=\"/articles/category/family-travel\">\n",
      "             Family Holidays\n",
      "            </a>\n",
      "           </li>\n",
      "           <li class=\"jsx-21109142f51e79b3\">\n",
      "            <a class=\"jsx-21109142f51e79b3 block mt-6 text-sm text-black-400 md:mt-2\" href=\"/articles/category/festivals-and-events\">\n",
      "             Festivals\n",
      "            </a>\n",
      "           </li>\n",
      "           <li class=\"jsx-21109142f51e79b3\">\n",
      "            <a class=\"jsx-21109142f51e79b3 block mt-6 text-sm text-black-400 md:mt-2\" href=\"/articles/category/food-and-drink\">\n",
      "             Food and Drink\n",
      "            </a>\n",
      "           </li>\n",
      "           <li class=\"jsx-21109142f51e79b3\">\n",
      "            <a class=\"jsx-21109142f51e79b3 block mt-6 text-sm text-black-400 md:mt-2\" href=\"/articles/category/romance\">\n",
      "             Honeymoon and Romance\n",
      "            </a>\n",
      "           </li>\n",
      "           <li class=\"jsx-21109142f51e79b3\">\n",
      "            <a class=\"jsx-21109142f51e79b3 block mt-6 text-sm text-black-400 md:mt-2\" href=\"/articles/category/road-trips\">\n",
      "             Road Trips\n",
      "            </a>\n",
      "           </li>\n",
      "           <li class=\"jsx-21109142f51e79b3\">\n",
      "            <a class=\"jsx-21109142f51e79b3 block mt-6 text-sm text-black-400 md:mt-2\" href=\"/articles/category/sustainable-travel\">\n",
      "             Sustainable Travel\n",
      "            </a>\n",
      "           </li>\n",
      "           <li class=\"jsx-21109142f51e79b3\">\n",
      "            <a class=\"jsx-21109142f51e79b3 block mt-6 text-sm text-black-400 md:mt-2\" href=\"/articles/category/budget-travel\">\n",
      "             Travel on a Budget\n",
      "            </a>\n",
      "           </li>\n",
      "           <li class=\"jsx-21109142f51e79b3\">\n",
      "            <a class=\"jsx-21109142f51e79b3 block mt-6 text-sm text-black-400 md:mt-2\" href=\"/articles/category/wildlife-and-nature\">\n",
      "             Wildlife and Nature\n",
      "            </a>\n",
      "           </li>\n",
      "          </ul>\n",
      "         </nav>\n",
      "         <nav class=\"jsx-21109142f51e79b3 fn-2 border-t md:border-t-0 border-black-200\">\n",
      "          <button class=\"jsx-21109142f51e79b3 w-full flex justify-between items-center pt-5 md:pt-0 md:cursor-default md:pointer-events-none pb-5 md:pb-0\" name=\"Open Shop menu\" type=\"button\">\n",
      "           <h3 class=\"jsx-21109142f51e79b3 text-sm font-semibold leading-none uppercase md:text-left\">\n",
      "            Shop\n",
      "           </h3>\n",
      "           <svg aria-hidden=\"true\" class=\"md:hidden text-2xl text-black-300 transform transition-transform\" fill=\"currentColor\" height=\"1em\" viewbox=\"0 0 32 32\" width=\"1em\" xmlns=\"http://www.w3.org/2000/svg\">\n",
      "            <path d=\"M16 31C18.9667 31 21.8668 30.1203 24.3336 28.4721C26.8003 26.8238 28.7229 24.4812 29.8582 21.7403C30.9935 18.9994 31.2906 15.9834 30.7118 13.0737C30.133 10.1639 28.7044 7.49119 26.6066 5.3934C24.5088 3.29562 21.8361 1.86701 18.9264 1.28823C16.0166 0.709449 13.0006 1.0065 10.2597 2.14181C7.51886 3.27713 5.17618 5.19972 3.52796 7.66645C1.87973 10.1332 1 13.0333 1 16C1 19.9783 2.58035 23.7936 5.3934 26.6066C8.20644 29.4197 12.0218 31 16 31ZM16 3.00001C18.5712 3.00001 21.0846 3.76244 23.2224 5.1909C25.3603 6.61936 27.0265 8.64968 28.0104 11.0251C28.9944 13.4006 29.2518 16.0144 28.7502 18.5362C28.2486 21.0579 27.0105 23.3743 25.1924 25.1924C23.3743 27.0105 21.0579 28.2486 18.5362 28.7502C16.0144 29.2518 13.4006 28.9944 11.0251 28.0104C8.64968 27.0265 6.61935 25.3603 5.1909 23.2224C3.76244 21.0846 3 18.5712 3 16C3.00529 12.5538 4.37663 9.25029 6.81345 6.81346C9.25028 4.37663 12.5538 3.0053 16 3.00001Z\">\n",
      "            </path>\n",
      "            <path d=\"M15.2804 20.1201C15.4716 20.3106 15.7305 20.4176 16.0004 20.4176C16.2703 20.4176 16.5292 20.3106 16.7204 20.1201L21.8404 14.7001C21.9341 14.6071 22.0085 14.4965 22.0593 14.3746C22.1101 14.2528 22.1362 14.1221 22.1362 13.9901C22.1362 13.858 22.1101 13.7273 22.0593 13.6055C22.0085 13.4836 21.9341 13.373 21.8404 13.2801C21.7492 13.1869 21.6403 13.1129 21.5201 13.0624C21.3999 13.0119 21.2708 12.9859 21.1404 12.9859C21.01 12.9859 20.881 13.0119 20.7608 13.0624C20.6406 13.1129 20.5317 13.1869 20.4404 13.2801L16.0004 18.0001L11.6004 13.3201C11.5129 13.2139 11.4043 13.127 11.2817 13.0648C11.159 13.0025 11.0248 12.9662 10.8875 12.9582C10.7501 12.9502 10.6126 12.9706 10.4835 13.0181C10.3544 13.0657 10.2365 13.1393 10.1372 13.2345C10.0379 13.3297 9.95926 13.4444 9.90626 13.5713C9.85327 13.6983 9.82705 13.8348 9.82923 13.9724C9.83141 14.1099 9.86194 14.2455 9.91893 14.3707C9.97592 14.496 10.0581 14.6081 10.1604 14.7001L15.2804 20.1201Z\">\n",
      "            </path>\n",
      "           </svg>\n",
      "          </button>\n",
      "          <ul class=\"jsx-21109142f51e79b3 overflow-hidden md:max-h-full transition-all duration-300 max-h-0 max-h-0 pb-0\">\n",
      "           <li class=\"jsx-21109142f51e79b3\">\n",
      "            <a class=\"jsx-21109142f51e79b3 block mt-6 text-sm text-black-400 md:mt-2\" href=\"https://shop.lonelyplanet.com/collections/guidebook?utm_source=lonelyplanet&amp;utm_campaign=footer&amp;utm_content=destinationguides\">\n",
      "             Destination Guides\n",
      "            </a>\n",
      "           </li>\n",
      "           <li class=\"jsx-21109142f51e79b3\">\n",
      "            <a class=\"jsx-21109142f51e79b3 block mt-6 text-sm text-black-400 md:mt-2\" href=\"https://shop.lonelyplanet.com/pages/lonely-planet-kids?utm_source=lonelyplanet&amp;utm_campaign=footer&amp;utm_content=lpkids\">\n",
      "             Lonely Planet Kids\n",
      "            </a>\n",
      "           </li>\n",
      "           <li class=\"jsx-21109142f51e79b3\">\n",
      "            <a class=\"jsx-21109142f51e79b3 block mt-6 text-sm text-black-400 md:mt-2\" href=\"https://shop.lonelyplanet.com?utm_source=lonelyplanet&amp;utm_campaign=footer&amp;utm_content=lpshop\">\n",
      "             Lonely Planet Shop\n",
      "            </a>\n",
      "           </li>\n",
      "           <li class=\"jsx-21109142f51e79b3\">\n",
      "            <a class=\"jsx-21109142f51e79b3 block mt-6 text-sm text-black-400 md:mt-2\" href=\"https://support.lonelyplanet.com/hc/en-us/articles/218157937-General-guidebook-information-?utm_source=lonelyplanet&amp;utm_campaign=footer&amp;utm_content=nonenglishguides#product3\">\n",
      "             Non-English Guides\n",
      "            </a>\n",
      "           </li>\n",
      "          </ul>\n",
      "         </nav>\n",
      "         <nav class=\"jsx-21109142f51e79b3 fn-3 border-t md:border-t-0 border-black-200\">\n",
      "          <button class=\"jsx-21109142f51e79b3 w-full flex justify-between items-center pt-5 md:pt-0 md:cursor-default md:pointer-events-none pb-5 md:pb-0\" name=\"Open About Us menu\" type=\"button\">\n",
      "           <h3 class=\"jsx-21109142f51e79b3 text-sm font-semibold leading-none uppercase md:text-left\">\n",
      "            About Us\n",
      "           </h3>\n",
      "           <svg aria-hidden=\"true\" class=\"md:hidden text-2xl text-black-300 transform transition-transform\" fill=\"currentColor\" height=\"1em\" viewbox=\"0 0 32 32\" width=\"1em\" xmlns=\"http://www.w3.org/2000/svg\">\n",
      "            <path d=\"M16 31C18.9667 31 21.8668 30.1203 24.3336 28.4721C26.8003 26.8238 28.7229 24.4812 29.8582 21.7403C30.9935 18.9994 31.2906 15.9834 30.7118 13.0737C30.133 10.1639 28.7044 7.49119 26.6066 5.3934C24.5088 3.29562 21.8361 1.86701 18.9264 1.28823C16.0166 0.709449 13.0006 1.0065 10.2597 2.14181C7.51886 3.27713 5.17618 5.19972 3.52796 7.66645C1.87973 10.1332 1 13.0333 1 16C1 19.9783 2.58035 23.7936 5.3934 26.6066C8.20644 29.4197 12.0218 31 16 31ZM16 3.00001C18.5712 3.00001 21.0846 3.76244 23.2224 5.1909C25.3603 6.61936 27.0265 8.64968 28.0104 11.0251C28.9944 13.4006 29.2518 16.0144 28.7502 18.5362C28.2486 21.0579 27.0105 23.3743 25.1924 25.1924C23.3743 27.0105 21.0579 28.2486 18.5362 28.7502C16.0144 29.2518 13.4006 28.9944 11.0251 28.0104C8.64968 27.0265 6.61935 25.3603 5.1909 23.2224C3.76244 21.0846 3 18.5712 3 16C3.00529 12.5538 4.37663 9.25029 6.81345 6.81346C9.25028 4.37663 12.5538 3.0053 16 3.00001Z\">\n",
      "            </path>\n",
      "            <path d=\"M15.2804 20.1201C15.4716 20.3106 15.7305 20.4176 16.0004 20.4176C16.2703 20.4176 16.5292 20.3106 16.7204 20.1201L21.8404 14.7001C21.9341 14.6071 22.0085 14.4965 22.0593 14.3746C22.1101 14.2528 22.1362 14.1221 22.1362 13.9901C22.1362 13.858 22.1101 13.7273 22.0593 13.6055C22.0085 13.4836 21.9341 13.373 21.8404 13.2801C21.7492 13.1869 21.6403 13.1129 21.5201 13.0624C21.3999 13.0119 21.2708 12.9859 21.1404 12.9859C21.01 12.9859 20.881 13.0119 20.7608 13.0624C20.6406 13.1129 20.5317 13.1869 20.4404 13.2801L16.0004 18.0001L11.6004 13.3201C11.5129 13.2139 11.4043 13.127 11.2817 13.0648C11.159 13.0025 11.0248 12.9662 10.8875 12.9582C10.7501 12.9502 10.6126 12.9706 10.4835 13.0181C10.3544 13.0657 10.2365 13.1393 10.1372 13.2345C10.0379 13.3297 9.95926 13.4444 9.90626 13.5713C9.85327 13.6983 9.82705 13.8348 9.82923 13.9724C9.83141 14.1099 9.86194 14.2455 9.91893 14.3707C9.97592 14.496 10.0581 14.6081 10.1604 14.7001L15.2804 20.1201Z\">\n",
      "            </path>\n",
      "           </svg>\n",
      "          </button>\n",
      "          <ul class=\"jsx-21109142f51e79b3 overflow-hidden md:max-h-full transition-all duration-300 max-h-0 max-h-0 pb-0\">\n",
      "           <li class=\"jsx-21109142f51e79b3\">\n",
      "            <a class=\"jsx-21109142f51e79b3 block mt-6 text-sm text-black-400 md:mt-2\" href=\"/about\">\n",
      "             About Lonely Planet\n",
      "            </a>\n",
      "           </li>\n",
      "           <li class=\"jsx-21109142f51e79b3\">\n",
      "            <a class=\"jsx-21109142f51e79b3 block mt-6 text-sm text-black-400 md:mt-2\" href=\"https://support.lonelyplanet.com/hc/en-us\">\n",
      "             Contact Us\n",
      "            </a>\n",
      "           </li>\n",
      "           <li class=\"jsx-21109142f51e79b3\">\n",
      "            <a class=\"jsx-21109142f51e79b3 block mt-6 text-sm text-black-400 md:mt-2\" href=\"/press-trade-advertising\">\n",
      "             Trade and Advertising\n",
      "            </a>\n",
      "           </li>\n",
      "           <li class=\"jsx-21109142f51e79b3\">\n",
      "            <a class=\"jsx-21109142f51e79b3 block mt-6 text-sm text-black-400 md:mt-2\" href=\"/legal/privacy-policy\">\n",
      "             Privacy Policy\n",
      "            </a>\n",
      "           </li>\n",
      "           <li class=\"jsx-21109142f51e79b3\">\n",
      "            <a class=\"jsx-21109142f51e79b3 block mt-6 text-sm text-black-400 md:mt-2\" href=\"/legal/website-terms\">\n",
      "             Terms and Conditions\n",
      "            </a>\n",
      "           </li>\n",
      "           <li class=\"jsx-21109142f51e79b3\">\n",
      "            <a class=\"jsx-21109142f51e79b3 block mt-6 text-sm text-black-400 md:mt-2\" href=\"https://www.redventures.com/careers/brands/lonely-planet\">\n",
      "             Work For Us\n",
      "            </a>\n",
      "           </li>\n",
      "           <li class=\"jsx-21109142f51e79b3\">\n",
      "            <a class=\"jsx-21109142f51e79b3 block mt-6 text-sm text-black-400 md:mt-2\" href=\"/about/contribute\">\n",
      "             Write For Us\n",
      "            </a>\n",
      "           </li>\n",
      "           <li class=\"jsx-21109142f51e79b3\">\n",
      "            <a class=\"jsx-21109142f51e79b3 block mt-6 text-sm text-black-400 md:mt-2\" href=\"/sitemaps\">\n",
      "             Sitemap\n",
      "            </a>\n",
      "           </li>\n",
      "           <li class=\"jsx-21109142f51e79b3\">\n",
      "            <a class=\"jsx-21109142f51e79b3 block mt-6 text-sm text-black-400 md:mt-2\" href=\"/consumer-health-data-privacy-policy\">\n",
      "             Consumer Health Data Privacy Policy\n",
      "            </a>\n",
      "           </li>\n",
      "           <li class=\"jsx-21109142f51e79b3\">\n",
      "            <button class=\"jsx-21109142f51e79b3 hidden mt-6 font-sans text-sm font-light text-left show-cookie-settings text-black-400 md:mt-2\" type=\"button\">\n",
      "             Cookie Settings\n",
      "            </button>\n",
      "           </li>\n",
      "           <li class=\"jsx-21109142f51e79b3\">\n",
      "            <a class=\"jsx-21109142f51e79b3 block mt-6 text-sm text-black-400 md:mt-2\" href=\"/do-not-sell-or-share-my-personal-information\" rel=\"noopener noreferrer\" target=\"_blank\">\n",
      "             Do Not Sell or Share My Personal Information\n",
      "            </a>\n",
      "           </li>\n",
      "          </ul>\n",
      "         </nav>\n",
      "        </div>\n",
      "       </div>\n",
      "      </div>\n",
      "     </div>\n",
      "    </section>\n",
      "    <section class=\"py-8 bg-black\">\n",
      "     <div class=\"container flex flex-col-reverse items-center justify-between md:flex-row\">\n",
      "      <p class=\"text-sm text-white\">\n",
      "       ©\n",
      "       <!-- -->\n",
      "       2024\n",
      "       <!-- -->\n",
      "       Lonely Planet, a Red Ventures company. All rights reserved. No part of this site may be reproduced without our written permission.\n",
      "      </p>\n",
      "      <div class=\"inline-flex items-center w-full mb-6 md:w-96 md:mb-0\">\n",
      "       <label class=\"mr-6 font-semibold text-white uppercase\" for=\"language-dropdown\">\n",
      "        Language\n",
      "       </label>\n",
      "       <div class=\"relative h-auto flex-auto\" id=\"language-dropdown\">\n",
      "        <div class=\"relative\">\n",
      "         <button class=\"relative flex justify-between items-center w-full rounded-lg px-4 py-2 md:px-5 md:py-4 text-left font-semibold focus:outline-none border z-10 border-white border-black-200\" type=\"button\">\n",
      "          <p class=\"leading-none text-white\">\n",
      "           English\n",
      "          </p>\n",
      "          <svg aria-hidden=\"true\" class=\"text-xs ml-4 text-white\" fill=\"currentColor\" height=\"1em\" viewbox=\"0 0 11 6\" width=\"1em\" xmlns=\"http://www.w3.org/2000/svg\">\n",
      "           <path d=\"M5.60504 5.5L0 0H11.2101L5.60504 5.5Z\">\n",
      "           </path>\n",
      "          </svg>\n",
      "         </button>\n",
      "         <ul class=\"absolute bottom-full w-full bg-white border border-b-0 border-black-100 rounded-tr-lg rounded-tl-lg py-2 shadow-lg-inverted hidden\">\n",
      "          <li class=\"mx-1 md:mx-3\">\n",
      "           <button class=\"w-full p-3 my-2 text-left rounded hover:bg-black-100 hover:font-semibold\" type=\"button\">\n",
      "            Deutsch\n",
      "           </button>\n",
      "          </li>\n",
      "          <li class=\"mx-1 md:mx-3\">\n",
      "           <button class=\"w-full p-3 my-2 text-left rounded hover:bg-black-100 hover:font-semibold\" type=\"button\">\n",
      "            Français\n",
      "           </button>\n",
      "          </li>\n",
      "          <li class=\"mx-1 md:mx-3\">\n",
      "           <button class=\"w-full p-3 my-2 text-left rounded hover:bg-black-100 hover:font-semibold\" type=\"button\">\n",
      "            Español\n",
      "           </button>\n",
      "          </li>\n",
      "          <li class=\"mx-1 md:mx-3\">\n",
      "           <button class=\"w-full p-3 my-2 text-left rounded hover:bg-black-100 hover:font-semibold\" type=\"button\">\n",
      "            Italiano\n",
      "           </button>\n",
      "          </li>\n",
      "          <li class=\"mx-1 md:mx-3\">\n",
      "           <button class=\"w-full p-3 my-2 text-left rounded hover:bg-black-100 hover:font-semibold\" type=\"button\">\n",
      "            Česky\n",
      "           </button>\n",
      "          </li>\n",
      "         </ul>\n",
      "        </div>\n",
      "       </div>\n",
      "      </div>\n",
      "     </div>\n",
      "    </section>\n",
      "   </footer>\n",
      "  </div>\n",
      "  <script id=\"__NEXT_DATA__\" type=\"application/json\">\n",
      "   {\"props\":{\"pageProps\":{\"meta\":{\"url\":\"https://www.lonelyplanet.com/cameroon/attractions\",\"title\":\"Must-see attractions Cameroon, West Africa - Lonely Planet\",\"description\":\"Discover the best attractions in Cameroon including Palais Royal, Chefferie, and Fon's Palace.\"},\"place\":{\"__typename\":\"PlaceExtended\",\"breadcrumb\":[{\"__typename\":\"TitleSlugAndType\",\"slug\":\"africa\",\"title\":\"Africa\"}],\"meta\":{\"__typename\":\"PlaceMetadata\",\"descendants\":[{\"__typename\":\"PlaceDogtag\",\"slug\":\"cameroon/yaounde\",\"title\":\"Yaoundé\",\"type\":\"City\"},{\"__typename\":\"PlaceDogtag\",\"slug\":\"cameroon/eastern-cameroon\",\"title\":\"Eastern Cameroon\",\"type\":\"Region\"}],\"parentPlace\":{\"__typename\":\"PlaceDogtag\",\"slug\":\"west-africa\",\"title\":\"West Africa\",\"type\":\"Region\"},\"type\":\"Country\"},\"slug\":\"cameroon\",\"title\":\"Cameroon\"},\"pois\":{\"category\":\"attractions\",\"pages\":1,\"page\":1,\"items\":[{\"__typename\":\"Poi\",\"coordinates\":{\"lat\":\"5.731033\",\"lon\":\"10.898309\"},\"esid\":\"87e76564-d15a-4b4e-988d-65af6ff2eee3\",\"excerpt\":\"The must-see attraction is the sultan's palace, home to the 19th sultan of the Bamoun dynasty. It has a fascinating, well-organised museum providing great…\",\"images\":[],\"meta\":{\"__typename\":\"PoiMetadata\",\"isTopChoice\":true,\"type\":{\"__typename\":\"PoiType\",\"displayName\":\"Attractions\",\"slug\":\"attractions\",\"title\":\"See\"}},\"places\":[{\"__typename\":\"Place\",\"title\":\"Cameroon\"}],\"slug\":\"cameroon/western-cameroon/foumban/attractions/palais-royal/a/poi-sig/1300238/355114\",\"title\":\"Palais Royal\"},{\"__typename\":\"Poi\",\"coordinates\":{\"lat\":\"5.35647\",\"lon\":\"10.412636\"},\"esid\":\"7cf569dc-04f9-4e2a-8f9c-0feba2c42d5f\",\"excerpt\":\"Approached via a ceremonial gate, the compound is centred on a hugely impressive bamboo building, its conical thatched roof supported by wooden pillars…\",\"images\":[],\"meta\":{\"__typename\":\"PoiMetadata\",\"isTopChoice\":true,\"type\":{\"__typename\":\"PoiType\",\"displayName\":\"Attractions\",\"slug\":\"attractions\",\"title\":\"See\"}},\"places\":[{\"__typename\":\"Place\",\"title\":\"Cameroon\"}],\"slug\":\"cameroon/bandjoun/attractions/chefferie/a/poi-sig/1300217/1341707\",\"title\":\"Chefferie\"},{\"__typename\":\"Poi\",\"coordinates\":{\"lat\":\"6.090374\",\"lon\":\"10.119438\"},\"esid\":\"2a6de7c8-fc50-42a9-82eb-214eee8ab26b\",\"excerpt\":\"Just north of Bamenda is the large Tikar community of Bafut, traditionally the most powerful of the Grassfields kingdoms. The fon's (local chief's) palace…\",\"images\":[{\"__typename\":\"Image\",\"alt\":\"The Royal Palace Museum of the Fon dynasty kings of the Dahomey Empire. The Museum is a UNESCO World Heritage Site. Abomey, Benin. West Africa. (Photo by: Education Images/UIG via Getty Images)\",\"url\":\"https://lp-cms-production.imgix.net/2019-06/481660505_master.jpg\"}],\"meta\":{\"__typename\":\"PoiMetadata\",\"isTopChoice\":false,\"type\":{\"__typename\":\"PoiType\",\"displayName\":\"Attractions\",\"slug\":\"attractions\",\"title\":\"See\"}},\"places\":[{\"__typename\":\"Place\",\"title\":\"Cameroon\"}],\"slug\":\"cameroon/the-ring-road/attractions/fon-s-palace/a/poi-sig/1014679/1327472\",\"title\":\"Fon's Palace\"},{\"__typename\":\"Poi\",\"coordinates\":{\"lat\":\"4.015859\",\"lon\":\"9.197702\"},\"esid\":\"554eaab9-5cfc-4f3c-8102-840bbd160a72\",\"excerpt\":\"Many zoos in Africa are depressing places, but the Limbe Wildlife Centre is a shining exception. It houses rescued chimpanzees, gorillas, drills and other…\",\"images\":[{\"__typename\":\"Image\",\"alt\":\"Mandrill -Mandrillus sphinx-, female, animal portrait, captive, South-West Region, Cameroon\",\"url\":\"https://lp-cms-production.imgix.net/2019-06/508490591_super.jpg\"}],\"meta\":{\"__typename\":\"PoiMetadata\",\"isTopChoice\":false,\"type\":{\"__typename\":\"PoiType\",\"displayName\":\"Attractions\",\"slug\":\"attractions\",\"title\":\"See\"}},\"places\":[{\"__typename\":\"Place\",\"title\":\"Cameroon\"}],\"slug\":\"cameroon/western-cameroon/limbe/attractions/limbe-wildlife-centre/a/poi-sig/1299814/355115\",\"title\":\"Limbe Wildlife Centre\"},{\"__typename\":\"Poi\",\"coordinates\":{\"lat\":\"4.01177\",\"lon\":\"9.204183\"},\"esid\":\"83e8d684-0024-46e5-956d-a47df024b736\",\"excerpt\":\"Limbe's Botanical Gardens, the second oldest in Africa, are the home of, among others, cinnamon, nutmeg, mango, ancient cycads and an unnamed tree that…\",\"images\":[],\"meta\":{\"__typename\":\"PoiMetadata\",\"isTopChoice\":false,\"type\":{\"__typename\":\"PoiType\",\"displayName\":\"Attractions\",\"slug\":\"attractions\",\"title\":\"See\"}},\"places\":[{\"__typename\":\"Place\",\"title\":\"Cameroon\"}],\"slug\":\"cameroon/western-cameroon/limbe/attractions/botanical-gardens/a/poi-sig/1299817/355115\",\"title\":\"Botanical Gardens\"},{\"__typename\":\"Poi\",\"coordinates\":{\"lat\":\"2.370997\",\"lon\":\"10.625496\"},\"esid\":\"58c0c3d6-978a-49b7-84fa-caaa453fe114\",\"excerpt\":\"Campo-Ma'an comprises 7700 sq km of protected biodiverse rainforest, sheltering many wonderful plants and animals, including buffaloes, forest elephants,…\",\"images\":[],\"meta\":{\"__typename\":\"PoiMetadata\",\"isTopChoice\":false,\"type\":{\"__typename\":\"PoiType\",\"displayName\":\"Attractions\",\"slug\":\"attractions\",\"title\":\"See\"}},\"places\":[{\"__typename\":\"Place\",\"title\":\"Cameroon\"}],\"slug\":\"cameroon/campo/attractions/parc-national-de-campo-ma-an/a/poi-sig/1556902/1327503\",\"title\":\"Parc National de Campo-Ma'an\"},{\"__typename\":\"Poi\",\"coordinates\":{\"lat\":\"2.881494\",\"lon\":\"9.897137\"},\"esid\":\"96103f81-ff6c-40d7-814c-225d2ee344df\",\"excerpt\":\"The Chutes de la Lobé are an impressive set of waterfalls that empty directly into the sea – it's a beautiful sight. Take a moto-taxi (CFA500), or make a…\",\"images\":[],\"meta\":{\"__typename\":\"PoiMetadata\",\"isTopChoice\":false,\"type\":{\"__typename\":\"PoiType\",\"displayName\":\"Attractions\",\"slug\":\"attractions\",\"title\":\"See\"}},\"places\":[{\"__typename\":\"Place\",\"title\":\"Cameroon\"}],\"slug\":\"cameroon/southern-cameroon/kribi/attractions/chutes-de-la-lobe/a/poi-sig/1556887/355110\",\"title\":\"Chutes de la Lobé\"},{\"__typename\":\"Poi\",\"coordinates\":{\"lat\":\"4.043342\",\"lon\":\"9.687248\"},\"esid\":\"46f5e193-eea5-418c-985a-3a04aebc5c02\",\"excerpt\":\"Well worth dropping into if you're nearby in Douala, this contemporary art space hosts changing displays of work from all over Cameroon and the rest of…\",\"images\":[],\"meta\":{\"__typename\":\"PoiMetadata\",\"isTopChoice\":false,\"type\":{\"__typename\":\"PoiType\",\"displayName\":\"Attractions\",\"slug\":\"attractions\",\"title\":\"See\"}},\"places\":[{\"__typename\":\"Place\",\"title\":\"Cameroon\"}],\"slug\":\"cameroon/western-cameroon/douala/attractions/espace-doual-art/a/poi-sig/1341839/355113\",\"title\":\"Espace Doual'art\"},{\"__typename\":\"Poi\",\"coordinates\":{\"lat\":\"5.721084\",\"lon\":\"10.903244\"},\"esid\":\"c639ad4e-7dbe-4741-92ed-bc0f1440652e\",\"excerpt\":\"Located in the Village des Artisans, this small museum houses a private collection of art and historical artefacts.\",\"images\":[],\"meta\":{\"__typename\":\"PoiMetadata\",\"isTopChoice\":false,\"type\":{\"__typename\":\"PoiType\",\"displayName\":\"Attractions\",\"slug\":\"attractions\",\"title\":\"See\"}},\"places\":[{\"__typename\":\"Place\",\"title\":\"Cameroon\"}],\"slug\":\"cameroon/western-cameroon/foumban/attractions/musee-des-arts-et-traditions-bamoun/a/poi-sig/1300241/355114\",\"title\":\"Musée des Arts et Traditions Bamoun\"},{\"__typename\":\"Poi\",\"coordinates\":{\"lat\":\"5.440339\",\"lon\":\"10.423622\"},\"esid\":\"a2c06ef2-b121-4a6b-a597-ad87fb38d9d5\",\"excerpt\":\"Dramatically decorated with mosaics, this arts centre and workshop boldly announces itself. The centre supports the work of local contemporary artists.\",\"images\":[],\"meta\":{\"__typename\":\"PoiMetadata\",\"isTopChoice\":false,\"type\":{\"__typename\":\"PoiType\",\"displayName\":\"Attractions\",\"slug\":\"attractions\",\"title\":\"See\"}},\"places\":[{\"__typename\":\"Place\",\"title\":\"Cameroon\"}],\"slug\":\"cameroon/bandjoun/attractions/bandjoun-station/a/poi-sig/1556899/1341707\",\"title\":\"Bandjoun Station\"},{\"__typename\":\"Poi\",\"coordinates\":{\"lat\":\"5.733168\",\"lon\":\"10.901356\"},\"esid\":\"089e54ac-6646-4d88-9673-cb831b9f1c14\",\"excerpt\":\"The octagonal tower and green domes of the mosque are a landmark at the centre of Foumban.\",\"images\":[],\"meta\":{\"__typename\":\"PoiMetadata\",\"isTopChoice\":false,\"type\":{\"__typename\":\"PoiType\",\"displayName\":\"Attractions\",\"slug\":\"attractions\",\"title\":\"See\"}},\"places\":[{\"__typename\":\"Place\",\"title\":\"Cameroon\"}],\"slug\":\"cameroon/western-cameroon/foumban/attractions/grande-mosquee/a/poi-sig/1560104/355114\",\"title\":\"Grande Mosquée\"},{\"__typename\":\"Poi\",\"coordinates\":{\"lat\":\"4.0442580046795\",\"lon\":\"9.6927775722974\"},\"esid\":\"93d25173-aef5-4b0f-a13d-4ed74b511312\",\"excerpt\":\"Built in 1936, Douala's cathedral is impressively large, though plain inside and out.\",\"images\":[],\"meta\":{\"__typename\":\"PoiMetadata\",\"isTopChoice\":false,\"type\":{\"__typename\":\"PoiType\",\"displayName\":\"Attractions\",\"slug\":\"attractions\",\"title\":\"See\"}},\"places\":[{\"__typename\":\"Place\",\"title\":\"Cameroon\"}],\"slug\":\"cameroon/western-cameroon/douala/attractions/cathedral/a/poi-sig/1322777/355113\",\"title\":\"Cathedral\"},{\"__typename\":\"Poi\",\"coordinates\":{\"lat\":\"4.0085071386146\",\"lon\":\"9.2071224373467\"},\"esid\":\"1f0514c5-a961-43ea-a70d-4583e9dc8926\",\"excerpt\":\"Historic church facing Down Beach.\",\"images\":[],\"meta\":{\"__typename\":\"PoiMetadata\",\"isTopChoice\":false,\"type\":{\"__typename\":\"PoiType\",\"displayName\":\"Attractions\",\"slug\":\"attractions\",\"title\":\"See\"}},\"places\":[{\"__typename\":\"Place\",\"title\":\"Cameroon\"}],\"slug\":\"cameroon/western-cameroon/limbe/attractions/old-church/a/poi-sig/1322870/355115\",\"title\":\"Old Church\"},{\"__typename\":\"Poi\",\"coordinates\":{\"lat\":\"7.3215314867313\",\"lon\":\"13.588724693041\"},\"esid\":\"e78b16f4-a403-4128-b9c2-62e25043fc38\",\"excerpt\":\"To enter the Palais du Lamido, the palace of the local Muslim ruler, you pass between three pillars stuffed with the remains of individuals who were…\",\"images\":[],\"meta\":{\"__typename\":\"PoiMetadata\",\"isTopChoice\":false,\"type\":{\"__typename\":\"PoiType\",\"displayName\":\"Attractions\",\"slug\":\"attractions\",\"title\":\"See\"}},\"places\":[{\"__typename\":\"Place\",\"title\":\"Cameroon\"}],\"slug\":\"cameroon/northern-cameroon/ngaoundere/attractions/palais-du-lamido/a/poi-sig/1300468/355108\",\"title\":\"Palais du Lamido\"},{\"__typename\":\"Poi\",\"coordinates\":null,\"esid\":\"4109dffd-de37-471b-be4b-7c798ed6072a\",\"excerpt\":\"Waza National Park is Cameroon's most accessible and rewarding wildlife-viewing experience. Visitors can reasonably expect to see large numbers of…\",\"images\":[],\"meta\":{\"__typename\":\"PoiMetadata\",\"isTopChoice\":false,\"type\":{\"__typename\":\"PoiType\",\"displayName\":\"Attractions\",\"slug\":\"attractions\",\"title\":\"See\"}},\"places\":[{\"__typename\":\"Place\",\"title\":\"Cameroon\"}],\"slug\":\"cameroon/northern-cameroon/attractions/parc-national-du-waza/a/poi-sig/1300504/1327480\",\"title\":\"Parc National du Waza\"}],\"mappoints\":[{\"coordinates\":{\"lat\":5.731033,\"lon\":10.898309},\"heading\":\"Palais Royal\",\"title\":\"Palais Royal\",\"type\":\"See\",\"link\":{\"href\":\"cameroon/western-cameroon/foumban/attractions/palais-royal/a/poi-sig/1300238/355114\"},\"image\":{\"url\":null}},{\"coordinates\":{\"lat\":5.35647,\"lon\":10.412636},\"heading\":\"Chefferie\",\"title\":\"Chefferie\",\"type\":\"See\",\"link\":{\"href\":\"cameroon/bandjoun/attractions/chefferie/a/poi-sig/1300217/1341707\"},\"image\":{\"url\":null}},{\"coordinates\":{\"lat\":6.090374,\"lon\":10.119438},\"heading\":\"Fon's Palace\",\"title\":\"Fon's Palace\",\"type\":\"See\",\"link\":{\"href\":\"cameroon/the-ring-road/attractions/fon-s-palace/a/poi-sig/1014679/1327472\"},\"image\":{\"url\":\"https://lp-cms-production.imgix.net/2019-06/481660505_master.jpg\"}},{\"coordinates\":{\"lat\":4.015859,\"lon\":9.197702},\"heading\":\"Limbe Wildlife Centre\",\"title\":\"Limbe Wildlife Centre\",\"type\":\"See\",\"link\":{\"href\":\"cameroon/western-cameroon/limbe/attractions/limbe-wildlife-centre/a/poi-sig/1299814/355115\"},\"image\":{\"url\":\"https://lp-cms-production.imgix.net/2019-06/508490591_super.jpg\"}},{\"coordinates\":{\"lat\":4.01177,\"lon\":9.204183},\"heading\":\"Botanical Gardens\",\"title\":\"Botanical Gardens\",\"type\":\"See\",\"link\":{\"href\":\"cameroon/western-cameroon/limbe/attractions/botanical-gardens/a/poi-sig/1299817/355115\"},\"image\":{\"url\":null}},{\"coordinates\":{\"lat\":2.370997,\"lon\":10.625496},\"heading\":\"Parc National de Campo-Ma'an\",\"title\":\"Parc National de Campo-Ma'an\",\"type\":\"See\",\"link\":{\"href\":\"cameroon/campo/attractions/parc-national-de-campo-ma-an/a/poi-sig/1556902/1327503\"},\"image\":{\"url\":null}},{\"coordinates\":{\"lat\":2.881494,\"lon\":9.897137},\"heading\":\"Chutes de la Lobé\",\"title\":\"Chutes de la Lobé\",\"type\":\"See\",\"link\":{\"href\":\"cameroon/southern-cameroon/kribi/attractions/chutes-de-la-lobe/a/poi-sig/1556887/355110\"},\"image\":{\"url\":null}},{\"coordinates\":{\"lat\":4.043342,\"lon\":9.687248},\"heading\":\"Espace Doual'art\",\"title\":\"Espace Doual'art\",\"type\":\"See\",\"link\":{\"href\":\"cameroon/western-cameroon/douala/attractions/espace-doual-art/a/poi-sig/1341839/355113\"},\"image\":{\"url\":null}},{\"coordinates\":{\"lat\":5.721084,\"lon\":10.903244},\"heading\":\"Musée des Arts et Traditions Bamoun\",\"title\":\"Musée des Arts et Traditions Bamoun\",\"type\":\"See\",\"link\":{\"href\":\"cameroon/western-cameroon/foumban/attractions/musee-des-arts-et-traditions-bamoun/a/poi-sig/1300241/355114\"},\"image\":{\"url\":null}},{\"coordinates\":{\"lat\":5.440339,\"lon\":10.423622},\"heading\":\"Bandjoun Station\",\"title\":\"Bandjoun Station\",\"type\":\"See\",\"link\":{\"href\":\"cameroon/bandjoun/attractions/bandjoun-station/a/poi-sig/1556899/1341707\"},\"image\":{\"url\":null}},{\"coordinates\":{\"lat\":5.733168,\"lon\":10.901356},\"heading\":\"Grande Mosquée\",\"title\":\"Grande Mosquée\",\"type\":\"See\",\"link\":{\"href\":\"cameroon/western-cameroon/foumban/attractions/grande-mosquee/a/poi-sig/1560104/355114\"},\"image\":{\"url\":null}},{\"coordinates\":{\"lat\":4.0442580046795,\"lon\":9.6927775722974},\"heading\":\"Cathedral\",\"title\":\"Cathedral\",\"type\":\"See\",\"link\":{\"href\":\"cameroon/western-cameroon/douala/attractions/cathedral/a/poi-sig/1322777/355113\"},\"image\":{\"url\":null}},{\"coordinates\":{\"lat\":4.0085071386146,\"lon\":9.2071224373467},\"heading\":\"Old Church\",\"title\":\"Old Church\",\"type\":\"See\",\"link\":{\"href\":\"cameroon/western-cameroon/limbe/attractions/old-church/a/poi-sig/1322870/355115\"},\"image\":{\"url\":null}},{\"coordinates\":{\"lat\":7.3215314867313,\"lon\":13.588724693041},\"heading\":\"Palais du Lamido\",\"title\":\"Palais du Lamido\",\"type\":\"See\",\"link\":{\"href\":\"cameroon/northern-cameroon/ngaoundere/attractions/palais-du-lamido/a/poi-sig/1300468/355108\"},\"image\":{\"url\":null}},{\"coordinates\":{\"lat\":0,\"lon\":0},\"heading\":\"Parc National du Waza\",\"title\":\"Parc National du Waza\",\"type\":\"See\",\"link\":{\"href\":\"cameroon/northern-cameroon/attractions/parc-national-du-waza/a/poi-sig/1300504/1327480\"},\"image\":{\"url\":null}}]},\"relatedPlaces\":[{\"__typename\":\"PlaceExtended\",\"esid\":\"994e528f-f32c-43b2-ad85-dc8dce7361b7\",\"featuredImage\":{\"__typename\":\"Image\",\"alt\":\"The Independence Square of Accra, Ghana, inscribed with the words \\\"Freedom and Justice, AD 1957\\\", commemorates the independence of Ghana, a first for Sub Saharan Africa. It contains monuments to Ghana's independence struggle, including the Independence Arch, Black Star Square, and the Liberation Day Monument.\\r\\n453437701\\r\\n1957, Accra, Africa, African Descent, Arch, Architecture, Black, Black Star, British Colony, Day, Dusk, East, Famous Place, Flag, Freedom, Ghana, Horizontal, Independence, Justice, Monument, Night, People, Side View, Square, Star, Star Shape, Stone, Struggle, Sunset, Town Square, Travel, colonialism, indepedence\",\"caption\":\"The Independence Square of Accra, Ghana, inscribed with the words \\\"Freedom and Justice, AD 1957\\\", commemorates the independence of Ghana, a first for Sub Saharan Africa. It contains monuments to Ghana's independence struggle, including the Independence Arch, Black Star Square, and the Liberation Day Monument.\\r\\n453437701\\r\\n1957, Accra, Africa, African Descent, Arch, Architecture, Black, Black Star, British Colony, Day, Dusk, East, Famous Place, Flag, Freedom, Ghana, Horizontal, Independence, Justice, Monument, Night, People, Side View, Square, Star, Star Shape, Stone, Struggle, Sunset, Town Square, Travel, colonialism, indepedence\",\"credit\":\"\",\"height\":2848,\"name\":\"iStock-453437701.jpg\",\"title\":\"iStock-453437701.jpg\",\"url\":\"https://lp-cms-production.imgix.net/2022-12/iStock-453437701.jpg\",\"width\":4288},\"slug\":\"ghana\",\"title\":\"Ghana\"},{\"__typename\":\"PlaceExtended\",\"esid\":\"67c074d3-f2c0-4be8-b1e0-a8edb47f5a01\",\"featuredImage\":{\"__typename\":\"Image\",\"alt\":\"Cape Verde, Fogo Island, Pico Volcano (9 281,50 ft)\\nCape Verde, Fogo Island, Pico Volcano (9 281,50 ft)\",\"caption\":\"Cape Verde, Fogo Island, Pico Volcano (9 281,50 ft)\\nCape Verde, Fogo Island, Pico Volcano (9 281,50 ft)\",\"credit\":\"Image by Franck Guiziou / Getty Images\",\"height\":3479,\"name\":\"d4a3cab8229a2a51f5c5ea69d583e76c-caboned.jpeg\",\"title\":\"d4a3cab8229a2a51f5c5ea69d583e76c-caboned.jpeg\",\"url\":\"https://lp-cms-production.imgix.net/2023-02/d4a3cab8229a2a51f5c5ea69d583e76c-caboned.jpeg\",\"width\":5239},\"slug\":\"cape-verde\",\"title\":\"Cabo Verde\"},{\"__typename\":\"PlaceExtended\",\"esid\":\"b496e007-42b8-4c00-8f42-431bfd3515c9\",\"featuredImage\":{\"__typename\":\"Image\",\"alt\":\"Ile de Goree Island, Senegal\\r\\n\",\"caption\":\"Ile de Goree Island, Senegal\\r\\n\",\"credit\":\"©Travel_Nerd/Getty Images/iStockphoto\",\"height\":3648,\"name\":\"GettyImages-694213668.jpg\",\"title\":\"GettyImages-694213668.jpg\",\"url\":\"https://lp-cms-production.imgix.net/2023-03/GettyImages-694213668.jpg\",\"width\":5472},\"slug\":\"senegal\",\"title\":\"Senegal\"},{\"__typename\":\"PlaceExtended\",\"esid\":\"6ccd699b-5d99-44b9-b832-0602cc7c4f94\",\"featuredImage\":{\"__typename\":\"Image\",\"alt\":\"Beach In Sierra Leone\",\"caption\":\"Beach In Sierra Leone\",\"credit\":\"©Fabian Plock/EyeEm/Getty Images\",\"height\":3264,\"name\":\"GettyImages-1062540772.jpg\",\"title\":\"GettyImages-1062540772.jpg\",\"url\":\"https://lp-cms-production.imgix.net/2023-03/GettyImages-1062540772.jpg\",\"width\":4928},\"slug\":\"sierra-leone\",\"title\":\"Sierra Leone\"},{\"__typename\":\"PlaceExtended\",\"esid\":\"99ceecf1-14f0-4526-a06f-5f384bfdc1bf\",\"featuredImage\":{\"__typename\":\"Image\",\"alt\":\"Africa, West Africa, Benin, Lake Nokoue, Ganvié. Pirogues in the water streets of the lakeside town of Ganvié.\\n1246920424\",\"caption\":\"Africa, West Africa, Benin, Lake Nokoue, Ganvié. Pirogues in the water streets of the lakeside town of Ganvié.\\n1246920424\",\"credit\":\"Getty Images\",\"height\":5504,\"name\":\"BENIN-GettyImages-1246920424-RFE.jpg\",\"title\":\"BENIN-GettyImages-1246920424-RFE.jpg\",\"url\":\"https://lp-cms-production.imgix.net/2023-08/BENIN-GettyImages-1246920424-RFE.jpg\",\"width\":8256},\"slug\":\"benin\",\"title\":\"Benin\"}]},\"__N_SSP\":true},\"page\":\"/pois/list\",\"query\":{\"place\":[\"cameroon\"],\"poiType\":\"attractions\"},\"buildId\":\"b66ed3eac1fa2fbfec4ae3df505d0111e84e5c23\",\"isFallback\":false,\"isExperimentalCompile\":false,\"gssp\":true,\"scriptLoader\":[]}\n",
      "  </script>\n",
      " </body>\n",
      "</html>\n"
     ]
    }
   ],
   "source": [
    "# Print the html code nicely\n",
    "print(soup.prettify())"
   ]
  },
  {
   "cell_type": "code",
   "execution_count": 729,
   "metadata": {},
   "outputs": [
    {
     "data": {
      "text/plain": [
       "[<a aria-label=\"Lonely Planet homepage\" class=\"-m-1.5 p-1.5\" href=\"/\"><span class=\"sr-only\">Lonely Planet</span><svg aria-hidden=\"true\" class=\"text-5xl text-blue\" fill=\"currentColor\" height=\"1em\" viewbox=\"0 0 711.06 98.68\" width=\"2em\" xmlns=\"http://www.w3.org/2000/svg\"><path d=\"M219.05 75.21c-10.54 0-16.72-6.28-16.72-16.93V0h15.76v57.32c0 3 1.28 4.48 4.16 4.48h3.83v13.41ZM500.31 75.21c-10.54 0-16.72-6.28-16.72-16.93V0h15.76v57.32c0 3 1.28 4.48 4.16 4.48h3.83v13.41Z\"></path><path d=\"M278.13 21.77h-15.76v29c0 7.45-3.83 10.65-8.94 10.65s-9-3.2-9-10.65v-29h-15.71v29.94c0 14.69 11 23.53 23.08 23.53 3.86 0 9.54-2 10.7-5.71v2.74c0 8.52-6 12.67-12.68 12.67a16.23 16.23 0 0 1-13.95-7.13L225.33 87c6.39 9.37 16.61 11.71 24.07 11.71 17.36 0 28.75-10.22 28.75-27.37V21.77ZM27 47.52c0-17.14 12.25-29.07 28.86-29.07s29 11.93 29 29.07-12.28 29.08-29 29.08S27 64.67 27 47.52Zm41.75 0c0-9.79-5.54-15.12-12.89-15.12s-12.67 5.33-12.67 15.12 5.43 15.23 12.67 15.23 12.89-5.43 12.89-15.23ZM197.26 51.46h-37.6c1.18 8.42 6 11.82 12.89 11.82 5.43 0 9.58-1.81 12.57-6.28L196 65.84c-5.35 7.24-14 10.76-23.45 10.76-17.15 0-28.86-11.61-28.86-29.08 0-17.14 11.18-29.07 27.26-29.07 15.66 0 26.41 11.82 26.41 29.07 0 1.17 0 2.77-.1 3.94ZM160 41h21.6c-1.38-7.14-5.22-10.12-10.65-10.12-6 0-9.69 3.19-11 10.12ZM678.21 51.46h-37.59c1.17 8.42 6 11.82 12.89 11.82 5.43 0 9.58-1.81 12.56-6.28l10.86 8.84C671.61 73.08 663 76.6 653.51 76.6c-17.15 0-28.86-11.61-28.86-29.08 0-17.14 11.18-29.07 27.26-29.07 15.65 0 26.41 11.82 26.41 29.07 0 1.17 0 2.77-.11 3.94ZM640.94 41h21.62c-1.39-7.14-5.22-10.12-10.65-10.12-5.97.03-9.69 3.22-10.97 10.12ZM508.35 47.56c0 16.45 10.93 29.16 25.13 29.16 7.8 0 12.46-3.53 15.77-8.55v7H565V47.56c0-23-17.31-29.16-28-29.16-18.27 0-28.65 12.71-28.65 29.16Zm16.12.1c0-9.82 5.13-15.27 12.5-15.27s12.5 5.45 12.5 15.27-5.13 15.17-12.47 15.17-12.5-5.34-12.5-15.17ZM711.06 34H699v20.13q0 7.66 6.06 7.67h6v13.41h-8c-12.46 0-19.81-7.66-19.81-20.44V3l15.75.17v18.6h12ZM16.72 75.25C6.18 75.25 0 69 0 58.31V0h15.76v57.36c0 3 1.28 4.47 4.15 4.47h3.84v13.42ZM449.57 18.43c-10.69 0-28 6.2-28 29.16v45.82h15.7v-25.2c3.31 5 8 8.54 15.78 8.54 14.2 0 25.13-12.71 25.13-29.16s-10.4-29.16-28.61-29.16Zm0 44.44c-7.37 0-12.5-5.34-12.5-15.17s5.13-15.27 12.5-15.27S462 37.87 462 47.7s-5.12 15.17-12.49 15.17ZM139.11 42v33.21h-15.76V42.94c0-7.45-3.84-10.64-8.95-10.64s-8.94 3.19-8.94 10.64v32.27H89.69V42c0-14.7 10.65-23.54 24.71-23.54s24.71 8.83 24.71 23.54ZM620.56 42v33.21H604.8V42.94c0-7.45-3.84-10.64-8.95-10.64s-8.94 3.19-8.94 10.64v32.27h-15.76V42c0-14.7 10.64-23.54 24.7-23.54s24.71 8.83 24.71 23.54ZM350.12 1.05a45.71 45.71 0 1 0 17.48 3.48 45.66 45.66 0 0 0-17.48-3.48Zm1.95 87.45a42.38 42.38 0 0 1-9.67-.69.32.32 0 0 1-.2-.12.42.42 0 0 1-.08-.21.35.35 0 0 1 .08-.22.32.32 0 0 1 .2-.12c2.69-.54 7.94-1.91 12-4.91 3.86-2.86 6.85-7.51 4.62-13.18C353.81 55.8 338.28 59 336 59.6h-.11a.2.2 0 0 1-.09-.05.24.24 0 0 1-.06-.08.36.36 0 0 1 0-.1l.57-9.63c1-9-.88-12.18-.88-12.18-4.6-9.15-14.77-7.19-14.77-7.19a11.72 11.72 0 0 0-4.75 2 16.94 16.94 0 0 0-6.54 9.63.35.35 0 0 1-.14.2.34.34 0 0 1-.24.06.35.35 0 0 1-.29-.35 28.2 28.2 0 0 1 1.36-7 41.94 41.94 0 0 1 48.82-29.23.42.42 0 0 1 .24.14.46.46 0 0 1 .11.27.41.41 0 0 1-.09.26.41.41 0 0 1-.23.16 15 15 0 0 0-6.57 3.61s-3.86 3-4.31 10.49a23.17 23.17 0 0 0 .44 5.93l3.83 19.31a11 11 0 0 0 4.33 6.83 8.52 8.52 0 0 0 6.27 1.61s8.47-.39 7.1-8.8l-1-5a.54.54 0 0 1 0-.18.69.69 0 0 1 .07-.15.46.46 0 0 1 .12-.12.52.52 0 0 1 .16-.06c2.39-.38 13.63-2.94 14.24-17.37a.45.45 0 0 1 .09-.25.48.48 0 0 1 .22-.15.46.46 0 0 1 .26 0 .51.51 0 0 1 .21.15 41.88 41.88 0 0 1-32.3 66.14Z\"></path></svg></a>,\n",
       " <a class=\"flex items-center mr-4 font-semibold text-black transition-colors hover:bg-white hover:text-blue focus:outline-none focus:text-blue\" data-title=\"saves\" data-url=\"/profile/saves\" href=\"/profile/saves\"><svg aria-hidden=\"true\" class=\"inline-flex\" fill=\"currentColor\" height=\"20\" viewbox=\"0 0 14 20\" width=\"20\" xmlns=\"http://www.w3.org/2000/svg\"><path d=\"M12 0.625H2C1.50272 0.625 1.02581 0.822544 0.674175 1.17417C0.322544 1.52581 0.125 2.00272 0.125 2.5V18.75C0.125941 18.8607 0.15514 18.9693 0.20983 19.0656C0.264519 19.1618 0.342886 19.2425 0.4375 19.3C0.535537 19.3525 0.645032 19.38 0.75625 19.38C0.867468 19.38 0.976963 19.3525 1.075 19.3L7 15.725L12.925 19.2875C13.0228 19.3471 13.1355 19.3774 13.25 19.375C13.3585 19.3741 13.4654 19.3485 13.5625 19.3C13.6571 19.2425 13.7355 19.1618 13.7902 19.0656C13.8449 18.9693 13.8741 18.8607 13.875 18.75V2.5C13.875 2.00272 13.6775 1.52581 13.3258 1.17417C12.9742 0.822544 12.4973 0.625 12 0.625ZM12.625 17.65L7.325 14.4625C7.22619 14.4054 7.1141 14.3754 7 14.3754C6.8859 14.3754 6.77381 14.4054 6.675 14.4625L1.375 17.65V2.5C1.375 2.33424 1.44085 2.17527 1.55806 2.05806C1.67527 1.94085 1.83424 1.875 2 1.875H12C12.1658 1.875 12.3247 1.94085 12.4419 2.05806C12.5592 2.17527 12.625 2.33424 12.625 2.5V17.65Z\"></path></svg> <span class=\"hidden ml-2 md:inline\">Saves</span></a>,\n",
       " <a class=\"transition-colors ease-out cursor-pointer inline-block text-black hover:text-blue link-underline\" href=\"/africa\" id=\"africa\" itemprop=\"item\"><span itemprop=\"name\">Africa</span></a>,\n",
       " <a class=\"btn btn-dark inline-flex items-center\" data-testid=\"a\" href=\"/cameroon/attractions\"><svg aria-hidden=\"true\" class=\"mr-1.5 lg:mr-2.5/ size-4\" fill=\"currentColor\" height=\"1em\" viewbox=\"0 0 40 40\" width=\"1em\" xmlns=\"http://www.w3.org/2000/svg\"><path d=\"M20.716 7.34598C20.5338 7.18675 20.3 7.099 20.058 7.099C19.816 7.099 19.5822 7.18675 19.4 7.34598L16.367 9.99499C16.2596 10.0888 16.1735 10.2046 16.1145 10.3345C16.0555 10.4644 16.025 10.6053 16.025 10.748C16.025 10.8906 16.0555 11.0316 16.1145 11.1615C16.1735 11.2914 16.2596 11.4071 16.367 11.501L19.4 14.151C19.5822 14.3102 19.816 14.398 20.058 14.398C20.3 14.398 20.5338 14.3102 20.716 14.151L23.749 11.501C23.8564 11.4071 23.9425 11.2914 24.0015 11.1615C24.0605 11.0316 24.091 10.8906 24.091 10.748C24.091 10.6053 24.0605 10.4644 24.0015 10.3345C23.9425 10.2046 23.8564 10.0888 23.749 9.99499L20.716 7.34598Z\" fill=\"currentColor\"></path><path d=\"M35.071 18.338L37.5 13.759C37.5807 13.6066 37.6206 13.4359 37.6159 13.2635C37.6111 13.0911 37.5619 12.9229 37.4729 12.7751C37.384 12.6274 37.2583 12.5052 37.1082 12.4203C36.958 12.3355 36.7885 12.2909 36.616 12.291H34.023L20.693 1.31798C20.514 1.17064 20.2893 1.09008 20.0575 1.09008C19.8257 1.09008 19.601 1.17064 19.422 1.31798L6.093 12.291H3.477C3.30454 12.2909 3.135 12.3355 2.98485 12.4203C2.83469 12.5052 2.70903 12.6274 2.62006 12.7751C2.5311 12.9229 2.48185 13.0911 2.47711 13.2635C2.47237 13.4359 2.51229 13.6066 2.593 13.759L5.018 18.338C5.09427 18.4783 5.20338 18.598 5.336 18.687V30.459H3.478C3.21279 30.459 2.95843 30.5643 2.7709 30.7519C2.58336 30.9394 2.478 31.1938 2.478 31.459V36.722C2.478 36.9872 2.58336 37.2416 2.7709 37.4291C2.95843 37.6166 3.21279 37.722 3.478 37.722H36.612C36.8772 37.722 37.1316 37.6166 37.3191 37.4291C37.5066 37.2416 37.612 36.9872 37.612 36.722V31.459C37.612 31.1938 37.5066 30.9394 37.3191 30.7519C37.1316 30.5643 36.8772 30.459 36.612 30.459H34.664V18.744C34.8365 18.6514 34.978 18.5102 35.071 18.338ZM5.138 14.291H12.3C12.5652 14.291 12.8196 14.1856 13.0071 13.9981C13.1946 13.8106 13.3 13.5562 13.3 13.291C13.3 13.0258 13.1946 12.7714 13.0071 12.5839C12.8196 12.3963 12.5652 12.291 12.3 12.291H9.24L20.058 3.38398L30.875 12.289H27.723C27.4578 12.289 27.2034 12.3943 27.0159 12.5819C26.8284 12.7694 26.723 13.0238 26.723 13.289C26.723 13.5542 26.8284 13.8086 27.0159 13.9961C27.2034 14.1836 27.4578 14.289 27.723 14.289H34.951L33.585 16.868H6.5L5.138 14.291ZM28.4 30.459H23.132V18.87H28.4V30.459ZM11.6 18.87H16.867V30.459H11.6V18.87ZM18.867 18.87H21.131V30.459H18.868L18.867 18.87ZM7.335 18.87H9.6V30.459H7.336L7.335 18.87ZM35.612 32.459V35.722H4.478V32.459H35.612ZM30.399 30.459V18.87H32.664V30.459H30.399Z\" fill=\"currentColor\"></path></svg>Sights</a>,\n",
       " <a class=\"btn inline-flex items-center\" data-testid=\"a\" href=\"/cameroon/restaurants\"><svg aria-hidden=\"true\" class=\"mr-1.5 lg:mr-2.5/ size-4\" fill=\"none\" height=\"1em\" viewbox=\"0 0 96 96\" width=\"1em\" xmlns=\"http://www.w3.org/2000/svg\"><path d=\"M65.0408 92.4241H64.3478C61.9129 92.4241 59.9275 90.4387 59.9275 88.0038V36.0279C59.9275 35.0539 59.1408 34.2673 58.1669 34.2673C55.732 34.2673 53.7466 32.2819 53.7466 29.847V3.90582C53.7466 3.17535 54.3459 2.57599 55.0764 2.57599C55.8069 2.57599 56.4063 3.17535 56.4063 3.90582V29.847C56.4063 30.8209 57.1929 31.6076 58.1669 31.6076C60.6018 31.6076 62.5872 33.593 62.5872 36.0279V88.0038C62.5872 88.9778 63.3738 89.7644 64.3478 89.7644H65.0408C66.0148 89.7644 66.8014 88.9778 66.8014 88.0038V36.0279C66.8014 33.593 68.7868 31.6076 71.2217 31.6076C72.1957 31.6076 72.9824 30.8209 72.9824 29.847V3.90582C72.9824 3.17535 73.5817 2.57599 74.3122 2.57599C75.0427 2.57599 75.642 3.17535 75.642 3.90582V29.847C75.642 32.2819 73.6566 34.2673 71.2217 34.2673C70.2478 34.2673 69.4611 35.0539 69.4611 36.0279V88.0038C69.4611 90.4387 67.4757 92.4241 65.0408 92.4241Z\" fill=\"currentColor\"></path><path clip-rule=\"evenodd\" d=\"M55.0764 3.1519C54.6641 3.1519 54.3226 3.4934 54.3226 3.90578V29.8469C54.3226 31.9637 56.0501 33.6913 58.1669 33.6913C59.459 33.6913 60.5035 34.7358 60.5035 36.0278V88.0038C60.5035 90.1206 62.231 91.8481 64.3478 91.8481H65.0408C67.1577 91.8481 68.8852 90.1206 68.8852 88.0038V36.0278C68.8852 34.7358 69.9297 33.6913 71.2218 33.6913C73.3386 33.6913 75.0661 31.9637 75.0661 29.8469V3.90578C75.0661 3.4934 74.7246 3.1519 74.3122 3.1519C73.8998 3.1519 73.5583 3.4934 73.5583 3.90578V29.8469C73.5583 31.139 72.5138 32.1835 71.2218 32.1835C69.1049 32.1835 67.3774 33.911 67.3774 36.0278V88.0038C67.3774 89.2958 66.3329 90.3403 65.0408 90.3403H64.3478C63.0558 90.3403 62.0112 89.2958 62.0112 88.0038V36.0278C62.0112 33.911 60.2837 32.1835 58.1669 32.1835C56.8748 32.1835 55.8303 31.139 55.8303 29.8469V3.90578C55.8303 3.4934 55.4888 3.1519 55.0764 3.1519ZM53.1707 3.90578C53.1707 2.85722 54.0279 2 55.0764 2C56.125 2 56.9822 2.85722 56.9822 3.90578V29.8469C56.9822 30.5028 57.511 31.0316 58.1669 31.0316C60.9199 31.0316 63.1631 33.2748 63.1631 36.0278V88.0038C63.1631 88.6596 63.6919 89.1884 64.3478 89.1884H65.0408C65.6967 89.1884 66.2255 88.6596 66.2255 88.0038V36.0278C66.2255 33.2748 68.4688 31.0316 71.2218 31.0316C71.8776 31.0316 72.4064 30.5028 72.4064 29.8469V3.90578C72.4064 2.85722 73.2637 2 74.3122 2C75.3608 2 76.218 2.85722 76.218 3.90578V29.8469C76.218 32.5999 73.9748 34.8432 71.2218 34.8432C70.5659 34.8432 70.0371 35.372 70.0371 36.0278V88.0038C70.0371 90.7568 67.7938 93 65.0408 93H64.3478C61.5948 93 59.3516 90.7568 59.3516 88.0038V36.0278C59.3516 35.372 58.8228 34.8432 58.1669 34.8432C55.4139 34.8432 53.1707 32.5999 53.1707 29.8469V3.90578Z\" fill=\"currentColor\" fill-rule=\"evenodd\"></path><path d=\"M61.3511 24.2467C60.6206 24.2467 60.0212 23.6473 60.0212 22.9168V3.90582C60.0212 3.17535 60.6206 2.57599 61.3511 2.57599C62.0815 2.57599 62.6809 3.17535 62.6809 3.90582V22.9168C62.6809 23.6473 62.0815 24.2467 61.3511 24.2467Z\" fill=\"currentColor\"></path><path clip-rule=\"evenodd\" d=\"M61.3511 3.1519C60.9387 3.1519 60.5972 3.4934 60.5972 3.90578V22.9168C60.5972 23.3292 60.9387 23.6707 61.3511 23.6707C61.7635 23.6707 62.105 23.3292 62.105 22.9168V3.90578C62.105 3.4934 61.7635 3.1519 61.3511 3.1519ZM59.4453 3.90578C59.4453 2.85722 60.3025 2 61.3511 2C62.3997 2 63.2569 2.85722 63.2569 3.90578V22.9168C63.2569 23.9653 62.3997 24.8226 61.3511 24.8226C60.3025 24.8226 59.4453 23.9654 59.4453 22.9168V3.90578Z\" fill=\"currentColor\" fill-rule=\"evenodd\"></path><path d=\"M68.0566 24.2467C67.3262 24.2467 66.7268 23.6473 66.7268 22.9168V3.90582C66.7268 3.17535 67.3262 2.57599 68.0566 2.57599C68.7871 2.57599 69.3865 3.17535 69.3865 3.90582V22.9168C69.3865 23.6473 68.7871 24.2467 68.0566 24.2467Z\" fill=\"currentColor\"></path><path clip-rule=\"evenodd\" d=\"M68.0567 3.1519C67.6443 3.1519 67.3028 3.4934 67.3028 3.90578V22.9168C67.3028 23.3292 67.6443 23.6707 68.0567 23.6707C68.469 23.6707 68.8105 23.3292 68.8105 22.9168V3.90578C68.8105 3.4934 68.469 3.1519 68.0567 3.1519ZM66.1509 3.90578C66.1509 2.85722 67.0081 2 68.0567 2C69.1052 2 69.9624 2.85722 69.9624 3.90578V22.9168C69.9624 23.9653 69.1052 24.8226 68.0567 24.8226C67.0081 24.8226 66.1509 23.9654 66.1509 22.9168V3.90578Z\" fill=\"currentColor\" fill-rule=\"evenodd\"></path><path d=\"M34.0428 91.8247C31.5517 91.8247 29.5476 89.8019 29.5476 87.3295V37.7136C29.5476 36.6834 28.9857 35.7282 28.0305 35.1288C23.4416 32.1882 20.5759 26.307 20.5759 19.7515C20.5759 10.274 26.6257 2.57599 34.0428 2.57599C41.4599 2.57599 47.5098 10.274 47.5098 19.7515C47.5098 26.307 44.6441 32.1882 40.0365 35.1101C39.1 35.7095 38.5193 36.6834 38.5193 37.6949V87.3108C38.5193 89.8019 36.4965 91.806 34.0241 91.806L34.0428 91.8247ZM34.0428 5.23566C28.0867 5.23566 23.2356 11.735 23.2356 19.7515C23.2356 25.3143 25.6892 30.465 29.454 32.8625C31.1771 33.9488 32.2073 35.7657 32.2073 37.6949V87.3108C32.2073 88.3222 33.0314 89.1463 34.0428 89.1463C35.0543 89.1463 35.8784 88.3222 35.8784 87.3108V37.6949C35.8784 35.7469 36.9085 33.9488 38.6317 32.8625C42.4152 30.465 44.8501 25.3143 44.8501 19.7515C44.8501 11.7537 39.999 5.23566 34.0428 5.23566Z\" fill=\"currentColor\"></path><path clip-rule=\"evenodd\" d=\"M34.0429 3.1519C27.0661 3.1519 21.1519 10.4542 21.1519 19.7514C21.1519 26.1539 23.9509 31.8291 28.3391 34.6425C29.4411 35.335 30.1236 36.464 30.1236 37.7135V87.3295C30.1236 89.356 31.6681 91.0358 33.6571 91.23H34.0241C36.18 91.23 37.9434 89.4822 37.9434 87.3108V37.6948C37.9434 36.4599 38.6483 35.3147 39.726 34.625L39.728 34.6237C44.1339 31.8297 46.9338 26.1553 46.9338 19.7514C46.9338 10.4542 41.0196 3.1519 34.0429 3.1519ZM35.2619 92.2294L35.4331 92.4006H34.0429C31.2321 92.4006 28.9717 90.1184 28.9717 87.3295V37.7135C28.9717 36.9037 28.5314 36.123 27.7244 35.6167L27.7198 35.6137C22.9315 32.5453 20 26.4589 20 19.7514C20 10.0939 26.1854 2 34.0429 2C41.9003 2 48.0857 10.0939 48.0857 19.7514C48.0857 26.4582 45.1546 32.546 40.3457 35.596C39.5512 36.105 39.0953 36.9073 39.0953 37.6948V87.3108C39.0953 89.6916 37.4578 91.6776 35.2619 92.2294ZM25.9438 9.14322C27.982 6.40784 30.8408 4.65967 34.0429 4.65967C37.2455 4.65967 40.1043 6.41311 42.142 9.15044C44.18 11.8881 45.4261 15.6404 45.4261 19.7514C45.4261 25.4557 42.9324 30.8191 38.94 33.349L38.9389 33.3497C37.3722 34.3374 36.4544 35.9571 36.4544 37.6948V87.3108C36.4544 88.6403 35.3724 89.7222 34.0429 89.7222C32.7134 89.7222 31.6314 88.6403 31.6314 87.3108V37.6948C31.6314 35.9748 30.7126 34.3368 29.1468 33.3497L29.1446 33.3483C25.1729 30.819 22.6597 25.4571 22.6597 19.7514C22.6597 15.6312 23.9056 11.8788 25.9438 9.14322ZM26.8675 9.83146C24.9912 12.3497 23.8116 15.8551 23.8116 19.7514C23.8116 25.1708 26.2051 30.11 29.7623 32.3759C31.6422 33.5616 32.7833 35.5568 32.7833 37.6948V87.3108C32.7833 88.0041 33.3495 88.5703 34.0429 88.5703C34.7362 88.5703 35.3025 88.0041 35.3025 87.3108V37.6948C35.3025 35.5369 36.4447 33.5606 38.324 32.3756C41.8982 30.1104 44.2742 25.1726 44.2742 19.7514C44.2742 15.8647 43.0946 12.3591 41.2181 9.83829C39.3412 7.31716 36.7964 5.81157 34.0429 5.81157C31.2888 5.81157 28.744 7.31306 26.8675 9.83146Z\" fill=\"currentColor\" fill-rule=\"evenodd\"></path></svg>Restaurants</a>,\n",
       " <a class=\"btn inline-flex items-center\" data-testid=\"a\" href=\"/cameroon/entertainment\"><svg aria-hidden=\"true\" class=\"mr-1.5 lg:mr-2.5/ size-4\" fill=\"currentColor\" height=\"1em\" viewbox=\"0 0 94 51\" width=\"1em\" xmlns=\"http://www.w3.org/2000/svg\"><path d=\"M77.2712 50.5661H2.77687C1.24917 50.5661 0 49.3254 0 47.7892V11.7659C0 10.2382 1.24073 8.98901 2.77687 8.98901H77.2797C78.8074 8.98901 80.0566 10.2297 80.0566 11.7659V23.7765C80.0566 24.5952 79.3982 25.2535 78.5795 25.2535C76.0896 25.2535 74.0639 27.2877 74.0639 29.7776C74.0639 32.2675 76.0896 34.3016 78.5795 34.3016C79.3982 34.3016 80.0566 34.9599 80.0566 35.7786V47.7892C80.0566 49.3169 78.8158 50.5661 77.2797 50.5661H77.2712ZM2.95412 47.612H77.094V37.1122C73.6757 36.4201 71.1014 33.3985 71.1014 29.7776C71.1014 26.1567 73.6841 23.135 77.094 22.4429V11.9431H2.95412V47.612Z\"></path><path d=\"M91.2232 41.5686H78.5711C77.7524 41.5686 77.094 40.9103 77.094 40.0916C77.094 39.2729 77.7524 38.6145 78.5711 38.6145H91.0459V28.1147C87.636 27.4226 85.0533 24.401 85.0533 20.7801C85.0533 17.1592 87.636 14.1376 91.0459 13.4455V2.95412H16.906V10.466C16.906 11.2847 16.2477 11.9431 15.429 11.9431C14.6103 11.9431 13.9519 11.2847 13.9519 10.466V2.77687C13.9519 1.24917 15.1926 0 16.7203 0H91.2232C92.7509 0 94 1.24073 94 2.77687V14.7875C94 15.6062 93.3417 16.2645 92.523 16.2645C90.0331 16.2645 88.0074 18.2902 88.0074 20.7885C88.0074 23.2869 90.0331 25.3126 92.523 25.3126C93.3417 25.3126 94 25.9709 94 26.7896V38.8002C94 40.3279 92.7593 41.5771 91.2232 41.5771V41.5686Z\"></path><path d=\"M62.7455 14.6018C61.9268 14.6018 61.2684 13.9435 61.2684 13.1248V10.4661C61.2684 9.64736 61.9268 8.98901 62.7455 8.98901C63.5642 8.98901 64.2225 9.64736 64.2225 10.4661V13.1248C64.2225 13.9435 63.5642 14.6018 62.7455 14.6018Z\"></path><path d=\"M62.7455 23.5907C61.9268 23.5907 61.2684 22.9324 61.2684 22.1137V19.455C61.2684 18.6363 61.9268 17.9779 62.7455 17.9779C63.5642 17.9779 64.2225 18.6363 64.2225 19.455V22.1137C64.2225 22.9324 63.5642 23.5907 62.7455 23.5907Z\"></path><path d=\"M62.7455 32.5797C61.9268 32.5797 61.2684 31.9214 61.2684 31.1027V28.444C61.2684 27.6253 61.9268 26.9669 62.7455 26.9669C63.5642 26.9669 64.2225 27.6253 64.2225 28.444V31.1027C64.2225 31.9214 63.5642 32.5797 62.7455 32.5797Z\"></path><path d=\"M62.7455 41.5771C61.9268 41.5771 61.2684 40.9187 61.2684 40.1V37.4413C61.2684 36.6226 61.9268 35.9642 62.7455 35.9642C63.5642 35.9642 64.2225 36.6226 64.2225 37.4413V40.1C64.2225 40.9187 63.5642 41.5771 62.7455 41.5771Z\"></path><path d=\"M62.7455 50.5661C61.9268 50.5661 61.2684 49.9077 61.2684 49.089V46.4303C61.2684 45.6116 61.9268 44.9532 62.7455 44.9532C63.5642 44.9532 64.2225 45.6116 64.2225 46.4303V49.089C64.2225 49.9077 63.5642 50.5661 62.7455 50.5661Z\"></path><path d=\"M36.4031 38.4879C36.0655 38.4879 35.7279 38.4035 35.4156 38.2432L32.1154 36.5045L28.8153 38.2432C28.0894 38.623 27.2369 38.5639 26.5786 38.0828C25.9202 37.6017 25.5911 36.8083 25.7345 36.0065L26.3676 32.3265L23.7004 29.7184C23.118 29.1529 22.907 28.3173 23.1602 27.5408C23.4134 26.7643 24.0718 26.2072 24.8736 26.0975L28.5621 25.5573L30.2164 22.215C30.5793 21.4891 31.3052 21.0333 32.1239 21.0333C32.9426 21.0333 33.6685 21.4891 34.0314 22.215L35.6773 25.5573L39.3657 26.0975C40.1759 26.2157 40.8259 26.7643 41.0791 27.5408C41.3323 28.3173 41.1213 29.1529 40.5389 29.7184L37.8633 32.3181L38.4963 35.998C38.6314 36.7999 38.3106 37.5933 37.6523 38.0744C37.2809 38.3444 36.842 38.4795 36.4031 38.4795V38.4879ZM26.9499 28.7731L28.7309 30.5118C29.2288 31.0014 29.4567 31.7019 29.347 32.3856L28.925 34.8417L31.1279 33.6854C31.7441 33.3562 32.4868 33.3562 33.103 33.6854L35.3059 34.8417L34.8839 32.394C34.7657 31.7103 34.9936 31.0014 35.4916 30.5118L37.2725 28.7731L34.8079 28.4186C34.1158 28.3173 33.5165 27.8869 33.2042 27.2623L32.107 25.034L31.0097 27.2623C30.6975 27.8953 30.0982 28.3258 29.4061 28.4271L26.9499 28.7815V28.7731Z\"></path><path d=\"M52.1107 44.5734H12.1204C11.3016 44.5734 10.6433 43.915 10.6433 43.0963C10.6433 41.3492 9.21688 39.9228 7.46973 39.9228C6.65102 39.9228 5.99268 39.2644 5.99268 38.4457V21.1008C5.99268 20.2821 6.65102 19.6238 7.46973 19.6238C9.21688 19.6238 10.6433 18.2058 10.6433 16.4586C10.6433 15.6399 11.3016 14.9816 12.1204 14.9816H52.1107C52.9294 14.9816 53.5877 15.6399 53.5877 16.4586C53.5877 18.2058 55.0141 19.6238 56.7613 19.6238C57.58 19.6238 58.2383 20.2821 58.2383 21.1008V38.4457C58.2383 39.2644 57.58 39.9228 56.7613 39.9228C55.0141 39.9228 53.5877 41.3492 53.5877 43.0963C53.5877 43.915 52.9294 44.5734 52.1107 44.5734ZM13.4202 41.6193H50.8193C51.3679 39.4248 53.0982 37.6945 55.2927 37.1459V22.3922C53.0982 21.852 51.3679 20.1217 50.8277 17.9272H13.4117C12.8631 20.1217 11.1328 21.8436 8.94679 22.3922V37.1459C11.1413 37.6945 12.8715 39.4248 13.4202 41.6193Z\"></path></svg>Entertainment</a>,\n",
       " <a class=\"btn inline-flex items-center\" data-testid=\"a\" href=\"/cameroon/nightlife\"><svg aria-hidden=\"true\" class=\"mr-1.5 lg:mr-2.5/ size-4\" fill=\"currentColor\" height=\"1em\" viewbox=\"0 0 64 94\" width=\"1em\" xmlns=\"http://www.w3.org/2000/svg\"><path d=\"M62.2384 17.4272H54.3668V1.75887C54.3668 1.186 54.095 0.653342 53.632 0.331734C53.1689 7.53449e-05 52.575 -0.0803267 52.0415 0.100578L1.18779 17.5177C1.18779 17.5177 1.14753 17.5378 1.1274 17.5478C1.07707 17.5679 1.0368 17.588 0.99654 17.6081C0.936143 17.6383 0.885813 17.6684 0.835483 17.6986C0.795219 17.7187 0.76502 17.7488 0.724756 17.779C0.674426 17.8192 0.624096 17.8594 0.573765 17.8996C0.543567 17.9297 0.513369 17.9599 0.483171 17.99C0.442907 18.0403 0.402642 18.0905 0.362378 18.1408C0.33218 18.1709 0.312048 18.2111 0.28185 18.2513C0.251651 18.3016 0.221453 18.3619 0.191255 18.4222C0.171123 18.4624 0.150991 18.5026 0.130859 18.5428C0.100661 18.6131 0.0805285 18.6935 0.0603964 18.7639C0.0603964 18.794 0.0402642 18.8242 0.0301982 18.8543C0.0100661 18.9649 0 19.0755 0 19.186C0 19.186 0 19.186 0 19.1961V92.2513C0 93.2262 0.785153 94.0101 1.76156 94.0101H62.2384C63.2149 94.0101 64 93.2262 64 92.2513V19.186C64 18.2111 63.2149 17.4272 62.2384 17.4272ZM50.8437 4.22118V17.4272H12.3209L50.8437 4.22118ZM60.4769 90.4825H3.52312V20.9448H60.4769V90.4825Z\"></path><path d=\"M30.2385 50.3015V63.7789H25.9201C24.9437 63.7789 24.1586 64.5628 24.1586 65.5377C24.1586 66.5125 24.9437 67.2965 25.9201 67.2965H38.0799C39.0564 67.2965 39.8415 66.5125 39.8415 65.5377C39.8415 64.5628 39.0564 63.7789 38.0799 63.7789H33.7616V50.3015L45.8308 37.6784C46.314 37.1658 46.4549 36.4221 46.1731 35.7688C45.8912 35.1256 45.257 34.7035 44.5524 34.7035H19.4275C18.7229 34.7035 18.0888 35.1256 17.8069 35.7688C17.5251 36.412 17.666 37.1658 18.1491 37.6784L30.2184 50.3015H30.2385ZM40.4455 38.2211L32 47.0553L23.5546 38.2211H40.4455Z\"></path><path d=\"M47.9648 72.4121H16.0352C15.0588 72.4121 14.2737 73.196 14.2737 74.1709V82.0101C14.2737 82.985 15.0588 83.7689 16.0352 83.7689H47.9547C48.9311 83.7689 49.7163 82.985 49.7163 82.0101V74.1709C49.7163 73.196 48.9311 72.4121 47.9547 72.4121H47.9648ZM46.2032 80.2513H17.8069V75.9297H46.2032V80.2513Z\"></path></svg>Nightlife</a>,\n",
       " <a class=\"btn inline-flex items-center\" data-testid=\"a\" href=\"/cameroon/shopping\"><svg aria-hidden=\"true\" class=\"mr-1.5 lg:mr-2.5/ size-4\" fill=\"currentColor\" height=\"1em\" viewbox=\"0 0 40 40\" width=\"1em\" xmlns=\"http://www.w3.org/2000/svg\"><path d=\"M25.553 15.6848L21.278 18.2498C21.2078 18.292 21.1496 18.3517 21.1093 18.423C21.069 18.4943 21.0479 18.5749 21.048 18.6568V27.6818C21.048 27.8078 21.098 27.9286 21.1871 28.0177C21.2762 28.1068 21.397 28.1568 21.523 28.1568H30.073C30.199 28.1568 30.3198 28.1068 30.4089 28.0177C30.498 27.9286 30.548 27.8078 30.548 27.6818V18.6568C30.5479 18.5748 30.5266 18.4942 30.4861 18.4229C30.4456 18.3516 30.3874 18.2919 30.317 18.2498L26.042 15.6848C25.9683 15.6402 25.8837 15.6165 25.7975 15.6165C25.7113 15.6165 25.6267 15.6402 25.553 15.6848Z\" fill=\"currentColor\"></path><path d=\"M22.881 1.8168C21.8993 1.81974 20.9253 1.98879 20 2.3168C18.6815 1.85185 17.2707 1.71027 15.8861 1.90398C14.5016 2.09768 13.1838 2.621 12.0435 3.42994C10.9033 4.23887 9.97391 5.30977 9.33361 6.55257C8.69332 7.79538 8.36079 9.17376 8.364 10.5718V10.6058H4.548C4.28279 10.6058 4.02843 10.7112 3.8409 10.8987C3.65336 11.0862 3.548 11.3406 3.548 11.6058V34.8168C3.54959 36.1424 4.07689 37.4132 5.01422 38.3506C5.95156 39.2879 7.22241 39.8152 8.548 39.8168H31.568C32.8936 39.8152 34.1644 39.2879 35.1018 38.3506C36.0391 37.4132 36.5664 36.1424 36.568 34.8168V11.6058C36.568 11.3406 36.4627 11.0862 36.2751 10.8987C36.0876 10.7112 35.8332 10.6058 35.568 10.6058H31.636V10.5718C31.6334 8.25065 30.7101 6.02531 29.0688 4.38401C27.4275 2.7427 25.2022 1.81945 22.881 1.8168ZM23.874 10.5718V10.6058H16.125V10.5718C16.1271 9.29235 16.4924 8.03978 17.1784 6.95976C17.8643 5.87973 18.8428 5.01662 20 4.4708C21.157 5.01677 22.1353 5.87994 22.8211 6.95995C23.5068 8.03996 23.872 9.29246 23.874 10.5718ZM10.364 10.5718C10.3661 8.78092 11.0785 7.06398 12.3448 5.79764C13.6112 4.53129 15.3281 3.81892 17.119 3.8168C17.182 3.8168 17.243 3.8248 17.306 3.8258C16.3111 4.64606 15.5099 5.67625 14.96 6.84254C14.41 8.00884 14.1249 9.28235 14.125 10.5718V10.6058H10.364V10.5718ZM8.548 37.8168C7.75235 37.8168 6.98929 37.5007 6.42668 36.9381C5.86407 36.3755 5.548 35.6125 5.548 34.8168V12.6058H10.853V34.8168C10.8568 35.9021 11.217 36.9561 11.878 37.8168H8.548ZM34.568 12.6058V34.8168C34.568 35.6125 34.2519 36.3755 33.6893 36.9381C33.1267 37.5007 32.3637 37.8168 31.568 37.8168H15.853C15.0574 37.8168 14.2943 37.5007 13.7317 36.9381C13.1691 36.3755 12.853 35.6125 12.853 34.8168V12.6058H34.568ZM25.874 10.6058V10.5718C25.8743 9.28247 25.5892 8.00906 25.0392 6.84291C24.4892 5.67676 23.688 4.64676 22.693 3.8268C22.756 3.8268 22.818 3.8168 22.881 3.8168C24.6719 3.81892 26.3888 4.53129 27.6552 5.79764C28.9215 7.06398 29.6339 8.78092 29.636 10.5718V10.6058H25.874Z\" fill=\"currentColor\"></path></svg>Shopping</a>,\n",
       " <a class=\"btn inline-flex items-center\" data-testid=\"a\" href=\"/cameroon/hotels\"><svg aria-hidden=\"true\" class=\"mr-1.5 lg:mr-2.5/ size-4\" fill=\"currentColor\" height=\"1em\" viewbox=\"0 0 96 96\" width=\"1em\" xmlns=\"http://www.w3.org/2000/svg\"><path d=\"M89.7778 65.1135C89.7778 66.9661 88.0923 68.4645 85.9924 68.4645H9.64844C7.57613 68.4645 5.86302 66.9661 5.86302 65.1135V52.9354C5.86302 51.0828 7.5485 49.5843 9.64844 49.5843H85.9647C88.037 49.5843 89.7501 51.0828 89.7501 52.9354V65.1135H89.7778ZM85.495 74.8124H82.1517C82.1517 74.8124 81.9859 74.7307 81.9859 74.649V73.3685H85.6608V74.649C85.6608 74.649 85.5779 74.8124 85.495 74.8124ZM14.0141 74.649C14.0141 74.649 13.9312 74.8124 13.8483 74.8124H10.505C10.505 74.8124 10.3392 74.7307 10.3392 74.649V73.3685H14.0141V74.649ZM22.6626 21.0597H73.3374C79.7478 21.0597 83.4227 25.4188 83.4227 31.7394L83.3398 41.9287C80.7978 39.0136 78.7807 37.6242 74.8848 37.27V35.5809C74.8848 32.1481 72.0664 29.3692 68.5849 29.3692H57.0076C53.5538 29.3692 50.7078 32.1481 50.7078 35.5809V37.2155H45.2369C45.2369 37.2155 45.2369 37.161 45.2369 37.1338V35.5809C45.2369 32.1481 42.4186 29.3692 38.9371 29.3692H27.3598C23.8783 29.3692 21.06 32.1481 21.06 35.5809V37.2155C21.06 37.2155 21.06 37.27 21.06 37.2972C17.1088 37.6514 14.7325 39.0136 12.1905 41.956L12.2457 31.3035C12.2457 24.9829 16.1693 21.087 22.5797 21.087M70.5467 37.2427H55.0182V35.8533C55.0182 34.4638 56.234 33.3196 57.6984 33.3196H67.8666C69.3586 33.3196 70.5467 34.4638 70.5467 35.8533V37.2427ZM23.7402 41.2749H72.2875C75.7966 41.2749 79.1399 42.7188 81.2399 45.1163H14.843C16.943 42.7188 20.231 41.2749 23.7954 41.2749M41.1476 37.2427H25.1493V35.8533C25.1493 34.4638 26.3927 33.3196 27.9124 33.3196H38.3845C39.9042 33.3196 41.1476 34.4638 41.1476 35.8533V37.161C41.1476 37.161 41.1476 37.2155 41.1476 37.2427ZM88.1752 45.1436V31.6577C88.1752 23.5662 81.5162 17.0003 73.3098 17.0003H22.6626C14.4562 16.9458 7.79718 23.5117 7.79718 31.6032V45.0891C4.01176 45.2798 1 48.3856 1 52.1453V66.285C1 69.8268 3.65256 72.7691 7.10641 73.2868V74.649C7.10641 76.5016 8.6261 78 10.505 78H13.8483C15.7272 78 17.2469 76.5016 17.2469 74.649V73.3685H78.7531V74.649C78.7531 76.5016 80.2728 78 82.1517 78H85.495C87.3739 78 88.8936 76.5016 88.8936 74.649V73.2868C92.3474 72.7691 95 69.8268 95 66.285V52.1453C95 48.3584 91.9882 45.2798 88.2028 45.0891\"></path></svg>Hotels</a>,\n",
       " <a class=\"card-link line-clamp-2 w-[80%] md:w-90\" href=\"/cameroon/western-cameroon/foumban/attractions/palais-royal/a/poi-sig/1300238/355114\"><span class=\"heading-05 font-semibold\">Palais Royal</span></a>,\n",
       " <a class=\"card-link line-clamp-2 w-[80%] md:w-90\" href=\"/cameroon/bandjoun/attractions/chefferie/a/poi-sig/1300217/1341707\"><span class=\"heading-05 font-semibold\">Chefferie</span></a>,\n",
       " <a class=\"card-link line-clamp-2 w-[80%] md:w-90\" href=\"/cameroon/the-ring-road/attractions/fon-s-palace/a/poi-sig/1014679/1327472\"><span class=\"heading-05 font-semibold\">Fon's Palace</span></a>,\n",
       " <a class=\"card-link line-clamp-2 w-[80%] md:w-90\" href=\"/cameroon/western-cameroon/limbe/attractions/limbe-wildlife-centre/a/poi-sig/1299814/355115\"><span class=\"heading-05 font-semibold\">Limbe Wildlife Centre</span></a>,\n",
       " <a class=\"card-link line-clamp-2 w-[80%] md:w-90\" href=\"/cameroon/western-cameroon/limbe/attractions/botanical-gardens/a/poi-sig/1299817/355115\"><span class=\"heading-05 font-semibold\">Botanical Gardens</span></a>,\n",
       " <a class=\"card-link line-clamp-2 w-[80%] md:w-90\" href=\"/cameroon/campo/attractions/parc-national-de-campo-ma-an/a/poi-sig/1556902/1327503\"><span class=\"heading-05 font-semibold\">Parc National de Campo-Ma'an</span></a>,\n",
       " <a class=\"card-link line-clamp-2 w-[80%] md:w-90\" href=\"/cameroon/southern-cameroon/kribi/attractions/chutes-de-la-lobe/a/poi-sig/1556887/355110\"><span class=\"heading-05 font-semibold\">Chutes de la Lobé</span></a>,\n",
       " <a class=\"card-link line-clamp-2 w-[80%] md:w-90\" href=\"/cameroon/western-cameroon/douala/attractions/espace-doual-art/a/poi-sig/1341839/355113\"><span class=\"heading-05 font-semibold\">Espace Doual'art</span></a>,\n",
       " <a class=\"card-link line-clamp-2 w-[80%] md:w-90\" href=\"/cameroon/western-cameroon/foumban/attractions/musee-des-arts-et-traditions-bamoun/a/poi-sig/1300241/355114\"><span class=\"heading-05 font-semibold\">Musée des Arts et Traditions Bamoun</span></a>,\n",
       " <a class=\"card-link line-clamp-2 w-[80%] md:w-90\" href=\"/cameroon/bandjoun/attractions/bandjoun-station/a/poi-sig/1556899/1341707\"><span class=\"heading-05 font-semibold\">Bandjoun Station</span></a>,\n",
       " <a class=\"card-link line-clamp-2 w-[80%] md:w-90\" href=\"/cameroon/western-cameroon/foumban/attractions/grande-mosquee/a/poi-sig/1560104/355114\"><span class=\"heading-05 font-semibold\">Grande Mosquée</span></a>,\n",
       " <a class=\"card-link line-clamp-2 w-[80%] md:w-90\" href=\"/cameroon/western-cameroon/douala/attractions/cathedral/a/poi-sig/1322777/355113\"><span class=\"heading-05 font-semibold\">Cathedral</span></a>,\n",
       " <a class=\"card-link line-clamp-2 w-[80%] md:w-90\" href=\"/cameroon/western-cameroon/limbe/attractions/old-church/a/poi-sig/1322870/355115\"><span class=\"heading-05 font-semibold\">Old Church</span></a>,\n",
       " <a class=\"card-link line-clamp-2 w-[80%] md:w-90\" href=\"/cameroon/northern-cameroon/ngaoundere/attractions/palais-du-lamido/a/poi-sig/1300468/355108\"><span class=\"heading-05 font-semibold\">Palais du Lamido</span></a>,\n",
       " <a class=\"card-link line-clamp-2 w-[80%] md:w-90\" href=\"/cameroon/northern-cameroon/attractions/parc-national-du-waza/a/poi-sig/1300504/1327480\"><span class=\"heading-05 font-semibold\">Parc National du Waza</span></a>,\n",
       " <a class=\"text-lg font-bold card-link lg:text-xl\" href=\"/ghana\"><div class=\"text-sm uppercase font-semibold tracking-wide z-10 mt-4 text-black-400 block\"></div>Ghana</a>,\n",
       " <a class=\"text-lg font-bold card-link lg:text-xl\" href=\"/cape-verde\"><div class=\"text-sm uppercase font-semibold tracking-wide z-10 mt-4 text-black-400 block\"></div>Cabo Verde</a>,\n",
       " <a class=\"text-lg font-bold card-link lg:text-xl\" href=\"/senegal\"><div class=\"text-sm uppercase font-semibold tracking-wide z-10 mt-4 text-black-400 block\"></div>Senegal</a>,\n",
       " <a class=\"text-lg font-bold card-link lg:text-xl\" href=\"/sierra-leone\"><div class=\"text-sm uppercase font-semibold tracking-wide z-10 mt-4 text-black-400 block\"></div>Sierra Leone</a>,\n",
       " <a class=\"text-lg font-bold card-link lg:text-xl\" href=\"/benin\"><div class=\"text-sm uppercase font-semibold tracking-wide z-10 mt-4 text-black-400 block\"></div>Benin</a>,\n",
       " <a class=\"no-underline\" href=\"/\"><svg aria-label=\"Lonely Planet Home\" class=\"mx-auto text-3xl cursor-pointer text-blue w-36 md:text-4xl md:w-56 md:mx-0\" fill=\"currentColor\" height=\"1em\" role=\"img\" viewbox=\"0 0 605.88 98.66\" width=\"2em\" xmlns=\"http://www.w3.org/2000/svg\"><path d=\"M219.05 75.21c-10.54 0-16.72-6.28-16.72-16.93V0h15.76v57.32c0 3 1.28 4.47 4.15 4.47h3.83v13.42ZM395.14 75.21c-10.54 0-16.72-6.28-16.72-16.93V0h15.76v57.32c0 3 1.28 4.47 4.15 4.47h3.83v13.42Z\"></path><path d=\"M278.13 21.76h-15.76v29c0 7.45-3.83 10.65-9 10.65s-8.95-3.19-8.95-10.65v-29h-15.71V51.7c0 14.7 11 23.54 23.08 23.54 3.86 0 9.54-2 10.7-5.72v2.74c0 8.52-6 12.67-12.67 12.67a16.2 16.2 0 0 1-13.95-7.14L225.33 87c6.39 9.37 16.61 11.71 24.07 11.71 17.36 0 28.75-10.22 28.75-27.37V21.76ZM27 47.52c0-17.14 12.25-29.07 28.86-29.07s29 11.93 29 29.07-12.25 29.07-29 29.07S27 64.66 27 47.52Zm41.75 0c0-9.8-5.54-15.12-12.89-15.12s-12.67 5.32-12.67 15.12 5.43 15.23 12.67 15.23 12.89-5.43 12.89-15.23ZM197.26 51.46h-37.59c1.17 8.41 6 11.82 12.89 11.82 5.43 0 9.58-1.81 12.57-6.28L196 65.84c-5.32 7.24-14 10.76-23.43 10.76-17.16 0-28.87-11.6-28.87-29.07 0-17.14 11.18-29.07 27.26-29.07 15.65 0 26.41 11.82 26.41 29.07-.01 1.16-.01 2.76-.11 3.93ZM160 41h21.62c-1.39-7.12-5.23-10.1-10.62-10.1-6 .01-9.74 3.2-11 10.1ZM573 51.46h-37.55c1.17 8.41 6 11.82 12.89 11.82 5.43 0 9.58-1.81 12.57-6.28l10.86 8.84c-5.32 7.24-13.95 10.76-23.43 10.76-17.15 0-28.86-11.61-28.86-29.07 0-17.14 11.18-29.07 27.26-29.07 15.65 0 26.41 11.82 26.41 29.07-.01 1.16-.01 2.76-.15 3.93ZM535.76 41h21.62c-1.38-7.12-5.22-10.1-10.65-10.1-5.96.01-9.73 3.2-10.97 10.1ZM403.17 47.55c0 16.45 10.93 29.16 25.13 29.16 7.8 0 12.46-3.52 15.77-8.54v7h15.7V47.55c0-23-17.32-29.16-28-29.16-18.21.01-28.6 12.72-28.6 29.16Zm16.13.11c0-9.83 5.13-15.27 12.5-15.27s12.5 5.45 12.5 15.27-5.13 15.17-12.5 15.17-12.5-5.34-12.5-15.17ZM605.88 34h-12v20.12q0 7.66 6.07 7.67h6v13.42h-8c-12.46 0-19.81-7.67-19.81-20.45V3l15.76.13v18.63h12V34ZM16.72 75.24C6.18 75.24 0 69 0 58.31V0h15.76v57.36c0 3 1.28 4.47 4.15 4.47h3.83v13.41ZM344.39 18.43c-10.69 0-28 6.2-28 29.16v45.82h15.7v-25.2c3.31 5 8 8.54 15.77 8.54C362.06 76.75 373 64 373 47.59s-10.39-29.16-28.61-29.16Zm0 44.43c-7.37 0-12.5-5.34-12.5-15.17s5.13-15.27 12.5-15.27 12.5 5.45 12.5 15.27-5.15 15.17-12.52 15.17ZM139.11 42v33.21h-15.76V42.94c0-7.45-3.83-10.65-8.95-10.65s-9 3.19-9 10.65v32.27H89.69V42c0-14.7 10.65-23.54 24.71-23.54s24.71 8.83 24.71 23.54ZM515.38 42v33.21h-15.76V42.94c0-7.45-3.83-10.65-8.95-10.65s-8.95 3.19-8.95 10.65v32.27H466V42c0-14.7 10.65-23.54 24.71-23.54s24.67 8.83 24.67 23.54Z\"></path></svg></a>,\n",
       " <a class=\"no-underline\" href=\"https://www.facebook.com/lonelyplanet\" rel=\"noopener noreferrer\" target=\"_blank\"><svg aria-label=\"Lonely Planet on Facebook\" class=\"text-2xl\" fill=\"currentColor\" height=\"1em\" role=\"img\" viewbox=\"0 0 32 32\" width=\"1em\" xmlns=\"http://www.w3.org/2000/svg\"><path d=\"M0 16C0 24.8366 7.16344 32 16 32C24.8366 32 32 24.8366 32 16C32 7.16344 24.8366 0 16 0C7.16344 0 0 7.16344 0 16Z\" fill=\"#1877F2\"></path><path d=\"M24 16C24 11.6 20.4 8 16 8C11.6 8 8 11.6 8 16C8 20 10.9 23.3 14.7 23.9V18.3H12.7V16H14.7V14.2C14.7 12.2 15.9 11.1 17.7 11.1C18.6 11.1 19.5 11.3 19.5 11.3V13.3H18.5C17.5 13.3 17.2 13.9 17.2 14.5V16H19.4L19 18.3H17.1V24C21.1 23.4 24 20 24 16Z\" fill=\"white\"></path></svg></a>,\n",
       " <a class=\"no-underline\" href=\"https://www.instagram.com/lonelyplanet\" rel=\"noopener noreferrer\" target=\"_blank\"><svg aria-label=\"Lonely Planet on Instagram\" class=\"text-2xl\" fill=\"currentColor\" height=\"1em\" role=\"img\" viewbox=\"0 0 32 32\" width=\"1em\" xmlns=\"http://www.w3.org/2000/svg\"><path d=\"M0 16C0 24.8366 7.16344 32 16 32C24.8366 32 32 24.8366 32 16C32 7.16344 24.8366 0 16 0C7.16344 0 0 7.16344 0 16Z\" fill=\"#F00073\"></path><path d=\"M16 9.19995C18.2 9.19995 18.5 9.19995 19.4 9.19995C20.2 9.19995 20.6 9.39995 20.9 9.49995C21.3 9.69995 21.6 9.79995 21.9 10.1C22.2 10.4 22.4 10.7 22.5 11.1C22.6 11.4 22.7 11.8 22.8 12.6C22.8 13.5 22.8 13.7 22.8 16C22.8 18.3 22.8 18.5 22.8 19.4C22.8 20.2 22.6 20.6 22.5 20.9C22.3 21.3 22.2 21.6 21.9 21.9C21.6 22.2 21.3 22.4 20.9 22.5C20.6 22.6 20.2 22.7 19.4 22.8C18.5 22.8 18.3 22.8 16 22.8C13.7 22.8 13.5 22.8 12.6 22.8C11.8 22.8 11.4 22.6 11.1 22.5C10.7 22.3 10.4 22.2 10.1 21.9C9.79995 21.6 9.59995 21.3 9.49995 20.9C9.39995 20.6 9.29995 20.2 9.19995 19.4C9.19995 18.5 9.19995 18.3 9.19995 16C9.19995 13.7 9.19995 13.5 9.19995 12.6C9.19995 11.8 9.39995 11.4 9.49995 11.1C9.69995 10.7 9.79995 10.4 10.1 10.1C10.4 9.79995 10.7 9.59995 11.1 9.49995C11.4 9.39995 11.8 9.29995 12.6 9.19995C13.5 9.19995 13.8 9.19995 16 9.19995ZM16 7.69995C13.7 7.69995 13.5 7.69995 12.6 7.69995C11.7 7.69995 11.1 7.89995 10.6 8.09995C10.1 8.29995 9.59995 8.59995 9.09995 9.09995C8.59995 9.59995 8.39995 9.99995 8.09995 10.6C7.89995 11.1 7.79995 11.7 7.69995 12.6C7.69995 13.5 7.69995 13.8 7.69995 16C7.69995 18.3 7.69995 18.5 7.69995 19.4C7.69995 20.3 7.89995 20.9 8.09995 21.4C8.29995 21.9 8.59995 22.4 9.09995 22.9C9.59995 23.4 9.99995 23.6 10.6 23.9C11.1 24.1 11.7 24.1999 12.6 24.2999C13.5 24.2999 13.8 24.2999 16 24.2999C18.2 24.2999 18.5 24.2999 19.4 24.2999C20.3 24.2999 20.9 24.1 21.4 23.9C21.9 23.7 22.4 23.4 22.9 22.9C23.4 22.4 23.6 22 23.9 21.4C24.1 20.9 24.1999 20.3 24.2999 19.4C24.2999 18.5 24.2999 18.2 24.2999 16C24.2999 13.8 24.2999 13.5 24.2999 12.6C24.2999 11.7 24.1 11.1 23.9 10.6C23.7 10.1 23.4 9.59995 22.9 9.09995C22.4 8.59995 22 8.39995 21.4 8.09995C20.9 7.89995 20.3 7.79995 19.4 7.69995C18.5 7.69995 18.3 7.69995 16 7.69995Z\" fill=\"white\"></path><path d=\"M16 11.7C13.6 11.7 11.7 13.6 11.7 16C11.7 18.4 13.6 20.3 16 20.3C18.4 20.3 20.3 18.4 20.3 16C20.3 13.6 18.4 11.7 16 11.7ZM16 18.8C14.5 18.8 13.2 17.6 13.2 16C13.2 14.5 14.4 13.2 16 13.2C17.5 13.2 18.8 14.4 18.8 16C18.8 17.5 17.5 18.8 16 18.8Z\" fill=\"white\"></path><path d=\"M20.4 12.6C20.9522 12.6 21.4 12.1522 21.4 11.6C21.4 11.0477 20.9522 10.6 20.4 10.6C19.8477 10.6 19.4 11.0477 19.4 11.6C19.4 12.1522 19.8477 12.6 20.4 12.6Z\" fill=\"white\"></path></svg></a>,\n",
       " <a class=\"no-underline\" href=\"https://www.twitter.com/lonelyplanet\" rel=\"noopener noreferrer\" target=\"_blank\"><svg aria-label=\"Lonely Planet on Twitter\" class=\"text-2xl\" fill=\"currentColor\" height=\"1em\" role=\"img\" viewbox=\"0 0 300 300\" width=\"1em\" xmlns=\"http://www.w3.org/2000/svg\"><path d=\"M150 300C232.85 300 300 232.85 300 150C300 67.15 232.85 0 150 0C67.15 0 0 67.15 0 150C0 232.85 67.15 300 150 300Z\" fill=\"#000\"></path><path d=\"M57.74 63.04L129.65 158.71L57.36 236.71H73.57L136.72 168.24L187.61 236.71H243.22L167.34 135.54L234.34 63.04H218.13L159.98 125.75L113.03 63.04H57.74ZM81.73 75.03H106.93L218.86 224.68H193.66L81.73 75.03Z\" fill=\"white\"></path></svg></a>,\n",
       " <a class=\"no-underline\" href=\"https://www.youtube.com/lonelyplanet\" rel=\"noopener noreferrer\" target=\"_blank\"><svg aria-label=\"Lonely Planet on YouTube\" class=\"text-2xl\" fill=\"currentColor\" height=\"1em\" role=\"img\" viewbox=\"0 0 32 32\" width=\"1em\" xmlns=\"http://www.w3.org/2000/svg\"><path d=\"M0 16C0 24.8366 7.16344 32 16 32C24.8366 32 32 24.8366 32 16C32 7.16344 24.8366 0 16 0C7.16344 0 0 7.16344 0 16Z\" fill=\"#FF0000\"></path><path d=\"M23.6 12.1C23.4 11.4 22.9 10.9 22.2 10.7C21 10.4 15.9 10.4 15.9 10.4C15.9 10.4 10.9 10.4 9.60001 10.7C8.90001 10.9 8.4 11.4 8.2 12.1C8 13.4 8 16 8 16C8 16 8 18.6 8.3 19.9C8.5 20.6 9 21.1 9.7 21.3C10.9 21.6 16 21.6 16 21.6C16 21.6 21 21.6 22.3 21.3C23 21.1 23.5 20.6 23.7 19.9C24 18.6 24 16 24 16C24 16 24 13.4 23.6 12.1ZM14.4 18.4V13.6L18.6 16L14.4 18.4Z\" fill=\"white\"></path></svg></a>,\n",
       " <a class=\"no-underline\" href=\"https://www.pinterest.com/lonelyplanet\" rel=\"noopener noreferrer\" target=\"_blank\"><svg aria-label=\"Lonely Planet on Pinterest\" class=\"text-2xl\" fill=\"currentColor\" height=\"1em\" role=\"img\" viewbox=\"0 0 32 32\" width=\"1em\" xmlns=\"http://www.w3.org/2000/svg\"><path d=\"M0 16C0 24.8366 7.16344 32 16 32C24.8366 32 32 24.8366 32 16C32 7.16344 24.8366 0 16 0C7.16344 0 0 7.16344 0 16Z\" fill=\"#E60023\"></path><path d=\"M16 8C11.6 8 8 11.6 8 16C8 19.3 10 22.1 12.8 23.3C12.8 22.7 12.8 22.1 12.9 21.5C13.1 20.8 13.9 17.1 13.9 17.1C13.9 17.1 13.6 16.6 13.6 15.8C13.6 14.6 14.3 13.7 15.1 13.7C15.8 13.7 16.2 14.2 16.2 14.9C16.2 15.6 15.7 16.7 15.5 17.7C15.3 18.5 15.9 19.2 16.8 19.2C18.3 19.2 19.3 17.3 19.3 14.9C19.3 13.1 18.1 11.8 16 11.8C13.6 11.8 12.1 13.6 12.1 15.6C12.1 16.3 12.3 16.8 12.6 17.2C12.7 17.4 12.8 17.4 12.7 17.6C12.7 17.7 12.6 18.1 12.5 18.2C12.4 18.4 12.3 18.5 12.1 18.4C11 17.9 10.5 16.7 10.5 15.3C10.5 13 12.4 10.3 16.2 10.3C19.3 10.3 21.3 12.5 21.3 14.9C21.3 18 19.6 20.4 17 20.4C16.1 20.4 15.3 19.9 15 19.4C15 19.4 14.5 21.2 14.4 21.6C14.2 22.2 13.9 22.8 13.6 23.3C14.3 23.5 15.1 23.6 15.9 23.6C20.3 23.6 23.9 20 23.9 15.6C24 11.6 20.4 8 16 8Z\" fill=\"white\"></path></svg></a>,\n",
       " <a class=\"underline text-blue\" href=\"/legal\">Privacy Policy.</a>,\n",
       " <a class=\"jsx-21109142f51e79b3 block mt-6 text-sm text-black-400 md:mt-2\" href=\"/usa/new-york-city\">New York City</a>,\n",
       " <a class=\"jsx-21109142f51e79b3 block mt-6 text-sm text-black-400 md:mt-2\" href=\"/france/paris\">Paris</a>,\n",
       " <a class=\"jsx-21109142f51e79b3 block mt-6 text-sm text-black-400 md:mt-2\" href=\"/italy\">Italy</a>,\n",
       " <a class=\"jsx-21109142f51e79b3 block mt-6 text-sm text-black-400 md:mt-2\" href=\"/costa-rica\">Costa Rica</a>,\n",
       " <a class=\"jsx-21109142f51e79b3 block mt-6 text-sm text-black-400 md:mt-2\" href=\"/japan\">Japan</a>,\n",
       " <a class=\"jsx-21109142f51e79b3 block mt-6 text-sm text-black-400 md:mt-2\" href=\"/usa\">USA</a>,\n",
       " <a class=\"jsx-21109142f51e79b3 block mt-6 text-sm text-black-400 md:mt-2\" href=\"/the-netherlands/amsterdam\">Amsterdam</a>,\n",
       " <a class=\"jsx-21109142f51e79b3 block mt-6 text-sm text-black-400 md:mt-2\" href=\"/portugal\">Portugal</a>,\n",
       " <a class=\"jsx-21109142f51e79b3 block mt-6 text-sm text-black-400 md:mt-2\" href=\"/mexico/cancun\">Cancún</a>,\n",
       " <a class=\"jsx-21109142f51e79b3 block mt-6 text-sm text-black-400 md:mt-2\" href=\"/usa/chicago\">Chicago</a>,\n",
       " <a class=\"jsx-21109142f51e79b3 block mt-6 text-sm text-black-400 md:mt-2\" href=\"/england\">England</a>,\n",
       " <a class=\"jsx-21109142f51e79b3 block mt-6 text-sm text-black-400 md:mt-2\" href=\"/japan/tokyo\">Tokyo</a>,\n",
       " <a class=\"jsx-21109142f51e79b3 block mt-6 text-sm text-black-400 md:mt-2\" href=\"/france\">France</a>,\n",
       " <a class=\"jsx-21109142f51e79b3 block mt-6 text-sm text-black-400 md:mt-2\" href=\"/thailand\">Thailand</a>,\n",
       " <a class=\"jsx-21109142f51e79b3 block mt-6 text-sm text-black-400 md:mt-2\" href=\"/ireland\">Ireland</a>,\n",
       " <a class=\"jsx-21109142f51e79b3 block mt-6 text-sm text-black-400 md:mt-2\" href=\"/italy/rome\">Rome</a>,\n",
       " <a class=\"jsx-21109142f51e79b3 block mt-6 text-sm text-black-400 md:mt-2\" href=\"/england/london\">London</a>,\n",
       " <a class=\"jsx-21109142f51e79b3 block mt-6 text-sm text-black-400 md:mt-2\" href=\"/usa/los-angeles\">Los Angeles</a>,\n",
       " <a class=\"jsx-21109142f51e79b3 block mt-6 text-sm text-black-400 md:mt-2\" href=\"/mexico\">Mexico</a>,\n",
       " <a class=\"jsx-21109142f51e79b3 block mt-6 text-sm text-black-400 md:mt-2\" href=\"/usa/san-francisco\">San Francisco</a>,\n",
       " <a class=\"jsx-21109142f51e79b3 block mt-6 text-sm text-black-400 md:mt-2\" href=\"/places\">Explore More Destinations</a>,\n",
       " <a class=\"jsx-21109142f51e79b3 block mt-6 text-sm text-black-400 md:mt-2\" href=\"/articles/category/adventure-travel\">Adventure Travel</a>,\n",
       " <a class=\"jsx-21109142f51e79b3 block mt-6 text-sm text-black-400 md:mt-2\" href=\"/articles/category/art-and-culture\">Art and Culture</a>,\n",
       " <a class=\"jsx-21109142f51e79b3 block mt-6 text-sm text-black-400 md:mt-2\" href=\"/articles/category/beaches\">Beaches, Coasts and Islands</a>,\n",
       " <a class=\"jsx-21109142f51e79b3 block mt-6 text-sm text-black-400 md:mt-2\" href=\"/articles/category/family-travel\">Family Holidays</a>,\n",
       " <a class=\"jsx-21109142f51e79b3 block mt-6 text-sm text-black-400 md:mt-2\" href=\"/articles/category/festivals-and-events\">Festivals</a>,\n",
       " <a class=\"jsx-21109142f51e79b3 block mt-6 text-sm text-black-400 md:mt-2\" href=\"/articles/category/food-and-drink\">Food and Drink</a>,\n",
       " <a class=\"jsx-21109142f51e79b3 block mt-6 text-sm text-black-400 md:mt-2\" href=\"/articles/category/romance\">Honeymoon and Romance</a>,\n",
       " <a class=\"jsx-21109142f51e79b3 block mt-6 text-sm text-black-400 md:mt-2\" href=\"/articles/category/road-trips\">Road Trips</a>,\n",
       " <a class=\"jsx-21109142f51e79b3 block mt-6 text-sm text-black-400 md:mt-2\" href=\"/articles/category/sustainable-travel\">Sustainable Travel</a>,\n",
       " <a class=\"jsx-21109142f51e79b3 block mt-6 text-sm text-black-400 md:mt-2\" href=\"/articles/category/budget-travel\">Travel on a Budget</a>,\n",
       " <a class=\"jsx-21109142f51e79b3 block mt-6 text-sm text-black-400 md:mt-2\" href=\"/articles/category/wildlife-and-nature\">Wildlife and Nature</a>,\n",
       " <a class=\"jsx-21109142f51e79b3 block mt-6 text-sm text-black-400 md:mt-2\" href=\"https://shop.lonelyplanet.com/collections/guidebook?utm_source=lonelyplanet&amp;utm_campaign=footer&amp;utm_content=destinationguides\">Destination Guides</a>,\n",
       " <a class=\"jsx-21109142f51e79b3 block mt-6 text-sm text-black-400 md:mt-2\" href=\"https://shop.lonelyplanet.com/pages/lonely-planet-kids?utm_source=lonelyplanet&amp;utm_campaign=footer&amp;utm_content=lpkids\">Lonely Planet Kids</a>,\n",
       " <a class=\"jsx-21109142f51e79b3 block mt-6 text-sm text-black-400 md:mt-2\" href=\"https://shop.lonelyplanet.com?utm_source=lonelyplanet&amp;utm_campaign=footer&amp;utm_content=lpshop\">Lonely Planet Shop</a>,\n",
       " <a class=\"jsx-21109142f51e79b3 block mt-6 text-sm text-black-400 md:mt-2\" href=\"https://support.lonelyplanet.com/hc/en-us/articles/218157937-General-guidebook-information-?utm_source=lonelyplanet&amp;utm_campaign=footer&amp;utm_content=nonenglishguides#product3\">Non-English Guides</a>,\n",
       " <a class=\"jsx-21109142f51e79b3 block mt-6 text-sm text-black-400 md:mt-2\" href=\"/about\">About Lonely Planet</a>,\n",
       " <a class=\"jsx-21109142f51e79b3 block mt-6 text-sm text-black-400 md:mt-2\" href=\"https://support.lonelyplanet.com/hc/en-us\">Contact Us</a>,\n",
       " <a class=\"jsx-21109142f51e79b3 block mt-6 text-sm text-black-400 md:mt-2\" href=\"/press-trade-advertising\">Trade and Advertising</a>,\n",
       " <a class=\"jsx-21109142f51e79b3 block mt-6 text-sm text-black-400 md:mt-2\" href=\"/legal/privacy-policy\">Privacy Policy</a>,\n",
       " <a class=\"jsx-21109142f51e79b3 block mt-6 text-sm text-black-400 md:mt-2\" href=\"/legal/website-terms\">Terms and Conditions</a>,\n",
       " <a class=\"jsx-21109142f51e79b3 block mt-6 text-sm text-black-400 md:mt-2\" href=\"https://www.redventures.com/careers/brands/lonely-planet\">Work For Us</a>,\n",
       " <a class=\"jsx-21109142f51e79b3 block mt-6 text-sm text-black-400 md:mt-2\" href=\"/about/contribute\">Write For Us</a>,\n",
       " <a class=\"jsx-21109142f51e79b3 block mt-6 text-sm text-black-400 md:mt-2\" href=\"/sitemaps\">Sitemap</a>,\n",
       " <a class=\"jsx-21109142f51e79b3 block mt-6 text-sm text-black-400 md:mt-2\" href=\"/consumer-health-data-privacy-policy\">Consumer Health Data Privacy Policy</a>,\n",
       " <a class=\"jsx-21109142f51e79b3 block mt-6 text-sm text-black-400 md:mt-2\" href=\"/do-not-sell-or-share-my-personal-information\" rel=\"noopener noreferrer\" target=\"_blank\">Do Not Sell or Share My Personal Information</a>]"
      ]
     },
     "execution_count": 729,
     "metadata": {},
     "output_type": "execute_result"
    }
   ],
   "source": [
    "soup.find_all(\"a\")"
   ]
  },
  {
   "cell_type": "code",
   "execution_count": 730,
   "metadata": {},
   "outputs": [
    {
     "name": "stdout",
     "output_type": "stream",
     "text": [
      "<ul class=\"md:grid space-y-14 md:space-y-0 gap-x-6 gap-y-14 md:grid-cols-12 mb-12\"><li class=\"col-span-1 md:col-span-3 lg:col-span-3\"><div class=\"relative\"><article class=\"relative rounded\"><div class=\"relative flex max-w-full items-center justify-center overflow-hidden rounded relative aspect-square\"><img alt=\"\" class=\"max-w-full w-full h-full object-cover rounded relative aspect-square\" data-nimg=\"1\" decoding=\"async\" height=\"400\" loading=\"lazy\" src=\"https://lonelyplanetstatic.imgix.net/marketing/placeholders/placeholder-attractions.jpg?fit=crop&amp;ar=1%3A1&amp;w=1200&amp;auto=format&amp;q=75\" srcset=\"https://lonelyplanetstatic.imgix.net/marketing/placeholders/placeholder-attractions.jpg?fit=crop&amp;ar=1%3A1&amp;w=640&amp;auto=format&amp;q=75 1x, https://lonelyplanetstatic.imgix.net/marketing/placeholders/placeholder-attractions.jpg?fit=crop&amp;ar=1%3A1&amp;w=1200&amp;auto=format&amp;q=75 2x\" style=\"color:transparent\" width=\"600\"/><svg aria-hidden=\"true\" class=\"absolute top-[50%] left-0 right-0 w-24 max-w-[30%] h-auto mx-auto text-white aspect-square transform translate-y-[-50%]\" fill=\"currentColor\" height=\"1em\" viewbox=\"0 0 40 40\" width=\"1em\" xmlns=\"http://www.w3.org/2000/svg\"><path d=\"M20.716 7.34598C20.5338 7.18675 20.3 7.099 20.058 7.099C19.816 7.099 19.5822 7.18675 19.4 7.34598L16.367 9.99499C16.2596 10.0888 16.1735 10.2046 16.1145 10.3345C16.0555 10.4644 16.025 10.6053 16.025 10.748C16.025 10.8906 16.0555 11.0316 16.1145 11.1615C16.1735 11.2914 16.2596 11.4071 16.367 11.501L19.4 14.151C19.5822 14.3102 19.816 14.398 20.058 14.398C20.3 14.398 20.5338 14.3102 20.716 14.151L23.749 11.501C23.8564 11.4071 23.9425 11.2914 24.0015 11.1615C24.0605 11.0316 24.091 10.8906 24.091 10.748C24.091 10.6053 24.0605 10.4644 24.0015 10.3345C23.9425 10.2046 23.8564 10.0888 23.749 9.99499L20.716 7.34598Z\" fill=\"currentColor\"></path><path d=\"M35.071 18.338L37.5 13.759C37.5807 13.6066 37.6206 13.4359 37.6159 13.2635C37.6111 13.0911 37.5619 12.9229 37.4729 12.7751C37.384 12.6274 37.2583 12.5052 37.1082 12.4203C36.958 12.3355 36.7885 12.2909 36.616 12.291H34.023L20.693 1.31798C20.514 1.17064 20.2893 1.09008 20.0575 1.09008C19.8257 1.09008 19.601 1.17064 19.422 1.31798L6.093 12.291H3.477C3.30454 12.2909 3.135 12.3355 2.98485 12.4203C2.83469 12.5052 2.70903 12.6274 2.62006 12.7751C2.5311 12.9229 2.48185 13.0911 2.47711 13.2635C2.47237 13.4359 2.51229 13.6066 2.593 13.759L5.018 18.338C5.09427 18.4783 5.20338 18.598 5.336 18.687V30.459H3.478C3.21279 30.459 2.95843 30.5643 2.7709 30.7519C2.58336 30.9394 2.478 31.1938 2.478 31.459V36.722C2.478 36.9872 2.58336 37.2416 2.7709 37.4291C2.95843 37.6166 3.21279 37.722 3.478 37.722H36.612C36.8772 37.722 37.1316 37.6166 37.3191 37.4291C37.5066 37.2416 37.612 36.9872 37.612 36.722V31.459C37.612 31.1938 37.5066 30.9394 37.3191 30.7519C37.1316 30.5643 36.8772 30.459 36.612 30.459H34.664V18.744C34.8365 18.6514 34.978 18.5102 35.071 18.338ZM5.138 14.291H12.3C12.5652 14.291 12.8196 14.1856 13.0071 13.9981C13.1946 13.8106 13.3 13.5562 13.3 13.291C13.3 13.0258 13.1946 12.7714 13.0071 12.5839C12.8196 12.3963 12.5652 12.291 12.3 12.291H9.24L20.058 3.38398L30.875 12.289H27.723C27.4578 12.289 27.2034 12.3943 27.0159 12.5819C26.8284 12.7694 26.723 13.0238 26.723 13.289C26.723 13.5542 26.8284 13.8086 27.0159 13.9961C27.2034 14.1836 27.4578 14.289 27.723 14.289H34.951L33.585 16.868H6.5L5.138 14.291ZM28.4 30.459H23.132V18.87H28.4V30.459ZM11.6 18.87H16.867V30.459H11.6V18.87ZM18.867 18.87H21.131V30.459H18.868L18.867 18.87ZM7.335 18.87H9.6V30.459H7.336L7.335 18.87ZM35.612 32.459V35.722H4.478V32.459H35.612ZM30.399 30.459V18.87H32.664V30.459H30.399Z\" fill=\"currentColor\"></path></svg></div><svg aria-hidden=\"true\" class=\"absolute top-4 left-4 z-10\" fill=\"currentColor\" height=\"40px\" viewbox=\"0 0 40 40\" width=\"40px\" xmlns=\"http://www.w3.org/2000/svg\"><rect fill=\"white\" height=\"28\" rx=\"4\" transform=\"rotate(-45 0.57959 19.5)\" width=\"28\" x=\"0.57959\" y=\"19.5\"></rect><path d=\"M23.5629 27.5891H21.1999L20.4719 25.3461C20.431 25.254 20.3642 25.1758 20.2797 25.1209C20.1952 25.0661 20.0967 25.0369 19.9959 25.0369C19.8952 25.0369 19.7966 25.0661 19.7121 25.1209C19.6276 25.1758 19.5609 25.254 19.5199 25.3461L18.7999 27.5891H16.4369C16.3325 27.5903 16.2311 27.6242 16.1469 27.686C16.0627 27.7479 16 27.8345 15.9676 27.9338C15.9352 28.033 15.9346 28.14 15.9661 28.2396C15.9975 28.3392 16.0594 28.4264 16.1429 28.4891L18.0509 29.8761L17.3219 32.1191C17.2891 32.2196 17.2891 32.3279 17.3217 32.4284C17.3543 32.529 17.418 32.6166 17.5035 32.6787C17.5891 32.7408 17.6921 32.7742 17.7978 32.7741C17.9035 32.774 18.0065 32.7404 18.0919 32.6781L19.9999 31.3001L21.9079 32.6861C21.9933 32.7484 22.0963 32.782 22.202 32.7821C22.3077 32.7822 22.4108 32.7488 22.4963 32.6867C22.5819 32.6246 22.6455 32.537 22.6781 32.4364C22.7108 32.3359 22.7107 32.2276 22.6779 32.1271L21.9489 29.8841L23.8569 28.4971C23.9405 28.4344 24.0023 28.3472 24.0338 28.2476C24.0652 28.148 24.0647 28.041 24.0322 27.9418C23.9998 27.8425 23.9371 27.7559 23.8529 27.694C23.7688 27.6322 23.6673 27.5983 23.5629 27.5971V27.5891Z\" fill=\"#0057d9\"></path><path d=\"M37.851 16.465L23.535 2.14899C22.5974 1.21164 21.3258 0.685059 20 0.685059C18.6742 0.685059 17.4026 1.21164 16.465 2.14899L2.14899 16.465C1.21164 17.4026 0.685059 18.6742 0.685059 20C0.685059 21.3258 1.21164 22.5974 2.14899 23.535L16.465 37.851C17.4026 38.7883 18.6742 39.3149 20 39.3149C21.3258 39.3149 22.5974 38.7883 23.535 37.851L37.851 23.535C38.7883 22.5974 39.3149 21.3258 39.3149 20C39.3149 18.6742 38.7883 17.4026 37.851 16.465ZM36.437 22.121L22.121 36.437C21.5493 36.9819 20.7898 37.2859 20 37.2859C19.2102 37.2859 18.4507 36.9819 17.879 36.437L3.56299 22.121C3.00058 21.5584 2.68463 20.7955 2.68463 20C2.68463 19.2045 3.00058 18.4416 3.56299 17.879L17.879 3.56299C18.4416 3.00058 19.2045 2.68463 20 2.68463C20.7955 2.68463 21.5584 3.00058 22.121 3.56299L36.437 17.879C36.9994 18.4416 37.3154 19.2045 37.3154 20C37.3154 20.7955 36.9994 21.5584 36.437 22.121Z\" fill=\"white\"></path><path d=\"M15.6749 14.7H16.7609V10.788H18.2229V9.82703H14.2129V10.788H15.6749V14.7Z\"></path><path d=\"M19.5541 14.791C19.8059 14.8004 20.0569 14.7577 20.2914 14.6655C20.5258 14.5733 20.7387 14.4335 20.9166 14.2551C21.0944 14.0767 21.2335 13.8634 21.325 13.6286C21.4164 13.3939 21.4584 13.1427 21.4481 12.891C21.4481 12.3897 21.249 11.909 20.8946 11.5545C20.5401 11.2001 20.0594 11.001 19.5581 11.001C19.0569 11.001 18.5761 11.2001 18.2217 11.5545C17.8673 11.909 17.6681 12.3897 17.6681 12.891C17.6575 13.1421 17.6989 13.3928 17.7897 13.6272C17.8806 13.8616 18.0189 14.0747 18.196 14.2531C18.3731 14.4315 18.5851 14.5714 18.8189 14.6639C19.0526 14.7565 19.3029 14.7997 19.5541 14.791ZM19.5541 11.902C20.0351 11.902 20.3961 12.25 20.3961 12.89C20.3961 13.53 20.0351 13.885 19.5541 13.885C19.0731 13.885 18.7261 13.531 18.7261 12.89C18.7261 12.249 19.0811 11.9 19.5541 11.9V11.902Z\"></path><path d=\"M22.9878 14.233C23.1011 14.411 23.2591 14.5562 23.4459 14.6541C23.6328 14.752 23.842 14.7992 24.0528 14.791C24.2839 14.7748 24.5094 14.7123 24.7159 14.6073C24.9224 14.5023 25.1057 14.3569 25.2549 14.1796C25.4042 14.0024 25.5163 13.7971 25.5846 13.5757C25.653 13.3544 25.6762 13.1215 25.6528 12.891C25.6763 12.6605 25.6532 12.4276 25.5849 12.2062C25.5166 11.9848 25.4045 11.7794 25.2553 11.6022C25.106 11.4249 24.9227 11.2795 24.7161 11.1745C24.5095 11.0695 24.284 11.0071 24.0528 10.991C23.8429 10.9828 23.6345 11.0292 23.4478 11.1256C23.2611 11.222 23.1027 11.3651 22.9878 11.541V11.088H21.9648V16.177H22.9878V14.233ZM23.7878 11.902C24.2678 11.902 24.6028 12.257 24.6028 12.902C24.6028 13.547 24.2678 13.89 23.7878 13.89C23.3078 13.89 22.9738 13.542 22.9738 12.902C22.9738 12.262 23.3078 11.9 23.7878 11.9V11.902Z\"></path><path d=\"M11.5998 18.5C11.8437 18.5006 12.0818 18.5747 12.283 18.7126C12.4842 18.8505 12.6392 19.0458 12.7278 19.273L13.6458 18.709C13.459 18.3312 13.1658 18.0163 12.8023 17.803C12.4387 17.5898 12.0207 17.4876 11.5998 17.509C11.2677 17.4979 10.9369 17.5564 10.6287 17.6806C10.3205 17.8048 10.0416 17.9921 9.80999 18.2304C9.57837 18.4687 9.39911 18.7528 9.2837 19.0644C9.16829 19.376 9.11928 19.7083 9.13981 20.04C9.11986 20.3714 9.1693 20.7032 9.28497 21.0144C9.40064 21.3255 9.57999 21.6091 9.81155 21.847C10.0431 22.0848 10.3218 22.2717 10.6297 22.3957C10.9376 22.5197 11.268 22.5781 11.5998 22.567C12.0207 22.5884 12.4387 22.4862 12.8023 22.273C13.1658 22.0598 13.459 21.7448 13.6458 21.367L12.7278 20.803C12.6392 21.0303 12.4842 21.2256 12.283 21.3634C12.0818 21.5013 11.8437 21.5754 11.5998 21.576C11.408 21.5734 11.219 21.5301 11.0453 21.4489C10.8715 21.3677 10.717 21.2505 10.592 21.1051C10.467 20.9597 10.3744 20.7893 10.3202 20.6053C10.266 20.4214 10.2516 20.228 10.2778 20.038C10.2516 19.848 10.266 19.6547 10.3202 19.4707C10.3744 19.2867 10.467 19.1164 10.592 18.9709C10.717 18.8255 10.8715 18.7083 11.0453 18.6271C11.219 18.5459 11.408 18.5026 11.5998 18.5Z\"></path><path d=\"M16.012 18.766C15.8204 18.7554 15.6297 18.7995 15.4622 18.8932C15.2947 18.9868 15.1573 19.1262 15.066 19.295V17.256H14.043V22.476H15.066V20.36C15.0551 20.2706 15.0637 20.1798 15.0912 20.0941C15.1187 20.0083 15.1644 19.9294 15.2251 19.8629C15.2859 19.7965 15.3604 19.7439 15.4434 19.7089C15.5263 19.6738 15.6159 19.6572 15.706 19.66C16.006 19.66 16.242 19.883 16.242 20.301V22.479H17.266V20.117C17.28 19.9442 17.2579 19.7704 17.2011 19.6066C17.1444 19.4428 17.0541 19.2926 16.9362 19.1656C16.8183 19.0385 16.6752 18.9374 16.5161 18.8686C16.357 18.7998 16.1853 18.7649 16.012 18.766Z\"></path><path d=\"M19.634 18.7661C19.258 18.7649 18.8901 18.8753 18.5768 19.0833C18.2636 19.2914 18.0191 19.5877 17.8744 19.9348C17.7297 20.2819 17.6912 20.6641 17.7638 21.033C17.8364 21.402 18.0169 21.7411 18.2824 22.0074C18.5479 22.2737 18.8864 22.4553 19.2551 22.5291C19.6239 22.6029 20.0062 22.5656 20.3537 22.422C20.7013 22.2784 20.9984 22.0348 21.2074 21.7223C21.4164 21.4097 21.528 21.0421 21.528 20.6661C21.5387 20.4142 21.4971 20.1629 21.4058 19.9279C21.3145 19.6929 21.1754 19.4795 20.9975 19.3009C20.8195 19.1224 20.6065 18.9827 20.3718 18.8906C20.1371 18.7986 19.8859 18.7562 19.634 18.7661ZM19.634 21.6661C19.161 21.6661 18.806 21.3111 18.806 20.6711C18.806 20.0311 19.161 19.6821 19.634 19.6821C20.107 19.6821 20.476 20.0301 20.476 20.6711C20.476 21.3121 20.115 21.6621 19.634 21.6621V21.6661Z\"></path><path d=\"M22.5659 17.2419C22.4833 17.2354 22.4002 17.2462 22.3219 17.2734C22.2436 17.3006 22.1718 17.3438 22.111 17.4002C22.0502 17.4565 22.0017 17.5249 21.9687 17.6009C21.9356 17.677 21.9187 17.759 21.9189 17.8419C21.9344 18.002 22.0089 18.1506 22.128 18.2587C22.2471 18.3668 22.4021 18.4267 22.5629 18.4267C22.7238 18.4267 22.8788 18.3668 22.9979 18.2587C23.1169 18.1506 23.1915 18.002 23.2069 17.8419C23.2082 17.7593 23.1921 17.6773 23.1598 17.6012C23.1275 17.5251 23.0796 17.4566 23.0193 17.4001C22.9589 17.3436 22.8874 17.3003 22.8093 17.2731C22.7313 17.2458 22.6484 17.2352 22.5659 17.2419Z\"></path><path d=\"M23.0669 18.864H22.0439V22.477H23.0669V18.864Z\"></path><path d=\"M25.4698 19.671C25.6391 19.6601 25.8073 19.7043 25.9493 19.7972C26.0912 19.8901 26.1991 20.0265 26.2568 20.186L27.1128 19.692C26.9634 19.3907 26.7268 19.1413 26.4338 18.9762C26.1408 18.8111 25.805 18.7378 25.4698 18.766C24.9659 18.766 24.4826 18.9662 24.1263 19.3225C23.77 19.6789 23.5698 20.1621 23.5698 20.666C23.5698 21.17 23.77 21.6532 24.1263 22.0095C24.4826 22.3659 24.9659 22.566 25.4698 22.566C25.8049 22.5941 26.1408 22.5208 26.4337 22.3557C26.7267 22.1906 26.9633 21.9413 27.1128 21.64L26.2568 21.146C26.1993 21.3056 26.0914 21.4422 25.9494 21.5351C25.8074 21.628 25.6391 21.6722 25.4698 21.661C25.0518 21.661 24.6418 21.347 24.6418 20.666C24.6418 19.985 25.0518 19.671 25.4698 19.671Z\"></path><path d=\"M29.134 18.766C28.8889 18.7627 28.6458 18.8104 28.4202 18.9063C28.1946 19.0022 27.9915 19.144 27.8238 19.3228C27.6561 19.5016 27.5275 19.7134 27.4463 19.9447C27.3651 20.176 27.333 20.4217 27.352 20.666C27.3367 20.9183 27.3749 21.171 27.4641 21.4075C27.5533 21.644 27.6914 21.859 27.8695 22.0384C28.0476 22.2178 28.2615 22.3575 28.4974 22.4485C28.7332 22.5394 28.9856 22.5795 29.238 22.566C29.5305 22.5793 29.8218 22.5227 30.0881 22.4009C30.3543 22.2792 30.5877 22.0959 30.769 21.866L30.06 21.288C29.9718 21.4233 29.8492 21.5326 29.7047 21.6046C29.5602 21.6767 29.3991 21.709 29.238 21.698C29.1312 21.7063 29.0239 21.6925 28.9227 21.6575C28.8214 21.6225 28.7285 21.5671 28.6495 21.4947C28.5706 21.4224 28.5073 21.3345 28.4637 21.2367C28.4201 21.1389 28.3971 21.0331 28.396 20.926H30.853C30.86 20.849 30.86 20.745 30.86 20.669C30.8839 20.4281 30.8571 20.1849 30.7812 19.955C30.7053 19.7252 30.582 19.5138 30.4194 19.3344C30.2568 19.1551 30.0584 19.0119 29.837 18.914C29.6156 18.8161 29.3761 18.7657 29.134 18.766ZM28.417 20.242C28.4202 20.1514 28.4414 20.0623 28.4792 19.9799C28.5171 19.8975 28.5709 19.8234 28.6376 19.7619C28.7043 19.7005 28.7825 19.6528 28.8677 19.6218C28.9529 19.5907 29.0434 19.5769 29.134 19.581C29.489 19.581 29.739 19.781 29.834 20.242H28.417Z\"></path></svg><div class=\"space-y-4 mt-4\"><p><a class=\"card-link line-clamp-2 w-[80%] md:w-90\" href=\"/cameroon/western-cameroon/foumban/attractions/palais-royal/a/poi-sig/1300238/355114\"><span class=\"heading-05 font-semibold\">Palais Royal</span></a></p><p class=\"text-sm font-semibold uppercase !mt-2\">Cameroon</p><p class=\"relative flex flex-wrap justify-start items-start gap-x-4 gap-y-2 max-w-full label-sm uppercase hidden\"></p><p class=\"relative line-clamp-3\">The must-see attraction is the sultan's palace, home to the 19th sultan of the Bamoun dynasty. It has a fascinating, well-organised museum providing great…</p></div></article></div></li><li class=\"col-span-1 md:col-span-3 lg:col-span-3\"><div class=\"relative\"><article class=\"relative rounded\"><div class=\"relative flex max-w-full items-center justify-center overflow-hidden rounded relative aspect-square\"><img alt=\"\" class=\"max-w-full w-full h-full object-cover rounded relative aspect-square\" data-nimg=\"1\" decoding=\"async\" height=\"400\" loading=\"lazy\" src=\"https://lonelyplanetstatic.imgix.net/marketing/placeholders/placeholder-attractions.jpg?fit=crop&amp;ar=1%3A1&amp;w=1200&amp;auto=format&amp;q=75\" srcset=\"https://lonelyplanetstatic.imgix.net/marketing/placeholders/placeholder-attractions.jpg?fit=crop&amp;ar=1%3A1&amp;w=640&amp;auto=format&amp;q=75 1x, https://lonelyplanetstatic.imgix.net/marketing/placeholders/placeholder-attractions.jpg?fit=crop&amp;ar=1%3A1&amp;w=1200&amp;auto=format&amp;q=75 2x\" style=\"color:transparent\" width=\"600\"/><svg aria-hidden=\"true\" class=\"absolute top-[50%] left-0 right-0 w-24 max-w-[30%] h-auto mx-auto text-white aspect-square transform translate-y-[-50%]\" fill=\"currentColor\" height=\"1em\" viewbox=\"0 0 40 40\" width=\"1em\" xmlns=\"http://www.w3.org/2000/svg\"><path d=\"M20.716 7.34598C20.5338 7.18675 20.3 7.099 20.058 7.099C19.816 7.099 19.5822 7.18675 19.4 7.34598L16.367 9.99499C16.2596 10.0888 16.1735 10.2046 16.1145 10.3345C16.0555 10.4644 16.025 10.6053 16.025 10.748C16.025 10.8906 16.0555 11.0316 16.1145 11.1615C16.1735 11.2914 16.2596 11.4071 16.367 11.501L19.4 14.151C19.5822 14.3102 19.816 14.398 20.058 14.398C20.3 14.398 20.5338 14.3102 20.716 14.151L23.749 11.501C23.8564 11.4071 23.9425 11.2914 24.0015 11.1615C24.0605 11.0316 24.091 10.8906 24.091 10.748C24.091 10.6053 24.0605 10.4644 24.0015 10.3345C23.9425 10.2046 23.8564 10.0888 23.749 9.99499L20.716 7.34598Z\" fill=\"currentColor\"></path><path d=\"M35.071 18.338L37.5 13.759C37.5807 13.6066 37.6206 13.4359 37.6159 13.2635C37.6111 13.0911 37.5619 12.9229 37.4729 12.7751C37.384 12.6274 37.2583 12.5052 37.1082 12.4203C36.958 12.3355 36.7885 12.2909 36.616 12.291H34.023L20.693 1.31798C20.514 1.17064 20.2893 1.09008 20.0575 1.09008C19.8257 1.09008 19.601 1.17064 19.422 1.31798L6.093 12.291H3.477C3.30454 12.2909 3.135 12.3355 2.98485 12.4203C2.83469 12.5052 2.70903 12.6274 2.62006 12.7751C2.5311 12.9229 2.48185 13.0911 2.47711 13.2635C2.47237 13.4359 2.51229 13.6066 2.593 13.759L5.018 18.338C5.09427 18.4783 5.20338 18.598 5.336 18.687V30.459H3.478C3.21279 30.459 2.95843 30.5643 2.7709 30.7519C2.58336 30.9394 2.478 31.1938 2.478 31.459V36.722C2.478 36.9872 2.58336 37.2416 2.7709 37.4291C2.95843 37.6166 3.21279 37.722 3.478 37.722H36.612C36.8772 37.722 37.1316 37.6166 37.3191 37.4291C37.5066 37.2416 37.612 36.9872 37.612 36.722V31.459C37.612 31.1938 37.5066 30.9394 37.3191 30.7519C37.1316 30.5643 36.8772 30.459 36.612 30.459H34.664V18.744C34.8365 18.6514 34.978 18.5102 35.071 18.338ZM5.138 14.291H12.3C12.5652 14.291 12.8196 14.1856 13.0071 13.9981C13.1946 13.8106 13.3 13.5562 13.3 13.291C13.3 13.0258 13.1946 12.7714 13.0071 12.5839C12.8196 12.3963 12.5652 12.291 12.3 12.291H9.24L20.058 3.38398L30.875 12.289H27.723C27.4578 12.289 27.2034 12.3943 27.0159 12.5819C26.8284 12.7694 26.723 13.0238 26.723 13.289C26.723 13.5542 26.8284 13.8086 27.0159 13.9961C27.2034 14.1836 27.4578 14.289 27.723 14.289H34.951L33.585 16.868H6.5L5.138 14.291ZM28.4 30.459H23.132V18.87H28.4V30.459ZM11.6 18.87H16.867V30.459H11.6V18.87ZM18.867 18.87H21.131V30.459H18.868L18.867 18.87ZM7.335 18.87H9.6V30.459H7.336L7.335 18.87ZM35.612 32.459V35.722H4.478V32.459H35.612ZM30.399 30.459V18.87H32.664V30.459H30.399Z\" fill=\"currentColor\"></path></svg></div><svg aria-hidden=\"true\" class=\"absolute top-4 left-4 z-10\" fill=\"currentColor\" height=\"40px\" viewbox=\"0 0 40 40\" width=\"40px\" xmlns=\"http://www.w3.org/2000/svg\"><rect fill=\"white\" height=\"28\" rx=\"4\" transform=\"rotate(-45 0.57959 19.5)\" width=\"28\" x=\"0.57959\" y=\"19.5\"></rect><path d=\"M23.5629 27.5891H21.1999L20.4719 25.3461C20.431 25.254 20.3642 25.1758 20.2797 25.1209C20.1952 25.0661 20.0967 25.0369 19.9959 25.0369C19.8952 25.0369 19.7966 25.0661 19.7121 25.1209C19.6276 25.1758 19.5609 25.254 19.5199 25.3461L18.7999 27.5891H16.4369C16.3325 27.5903 16.2311 27.6242 16.1469 27.686C16.0627 27.7479 16 27.8345 15.9676 27.9338C15.9352 28.033 15.9346 28.14 15.9661 28.2396C15.9975 28.3392 16.0594 28.4264 16.1429 28.4891L18.0509 29.8761L17.3219 32.1191C17.2891 32.2196 17.2891 32.3279 17.3217 32.4284C17.3543 32.529 17.418 32.6166 17.5035 32.6787C17.5891 32.7408 17.6921 32.7742 17.7978 32.7741C17.9035 32.774 18.0065 32.7404 18.0919 32.6781L19.9999 31.3001L21.9079 32.6861C21.9933 32.7484 22.0963 32.782 22.202 32.7821C22.3077 32.7822 22.4108 32.7488 22.4963 32.6867C22.5819 32.6246 22.6455 32.537 22.6781 32.4364C22.7108 32.3359 22.7107 32.2276 22.6779 32.1271L21.9489 29.8841L23.8569 28.4971C23.9405 28.4344 24.0023 28.3472 24.0338 28.2476C24.0652 28.148 24.0647 28.041 24.0322 27.9418C23.9998 27.8425 23.9371 27.7559 23.8529 27.694C23.7688 27.6322 23.6673 27.5983 23.5629 27.5971V27.5891Z\" fill=\"#0057d9\"></path><path d=\"M37.851 16.465L23.535 2.14899C22.5974 1.21164 21.3258 0.685059 20 0.685059C18.6742 0.685059 17.4026 1.21164 16.465 2.14899L2.14899 16.465C1.21164 17.4026 0.685059 18.6742 0.685059 20C0.685059 21.3258 1.21164 22.5974 2.14899 23.535L16.465 37.851C17.4026 38.7883 18.6742 39.3149 20 39.3149C21.3258 39.3149 22.5974 38.7883 23.535 37.851L37.851 23.535C38.7883 22.5974 39.3149 21.3258 39.3149 20C39.3149 18.6742 38.7883 17.4026 37.851 16.465ZM36.437 22.121L22.121 36.437C21.5493 36.9819 20.7898 37.2859 20 37.2859C19.2102 37.2859 18.4507 36.9819 17.879 36.437L3.56299 22.121C3.00058 21.5584 2.68463 20.7955 2.68463 20C2.68463 19.2045 3.00058 18.4416 3.56299 17.879L17.879 3.56299C18.4416 3.00058 19.2045 2.68463 20 2.68463C20.7955 2.68463 21.5584 3.00058 22.121 3.56299L36.437 17.879C36.9994 18.4416 37.3154 19.2045 37.3154 20C37.3154 20.7955 36.9994 21.5584 36.437 22.121Z\" fill=\"white\"></path><path d=\"M15.6749 14.7H16.7609V10.788H18.2229V9.82703H14.2129V10.788H15.6749V14.7Z\"></path><path d=\"M19.5541 14.791C19.8059 14.8004 20.0569 14.7577 20.2914 14.6655C20.5258 14.5733 20.7387 14.4335 20.9166 14.2551C21.0944 14.0767 21.2335 13.8634 21.325 13.6286C21.4164 13.3939 21.4584 13.1427 21.4481 12.891C21.4481 12.3897 21.249 11.909 20.8946 11.5545C20.5401 11.2001 20.0594 11.001 19.5581 11.001C19.0569 11.001 18.5761 11.2001 18.2217 11.5545C17.8673 11.909 17.6681 12.3897 17.6681 12.891C17.6575 13.1421 17.6989 13.3928 17.7897 13.6272C17.8806 13.8616 18.0189 14.0747 18.196 14.2531C18.3731 14.4315 18.5851 14.5714 18.8189 14.6639C19.0526 14.7565 19.3029 14.7997 19.5541 14.791ZM19.5541 11.902C20.0351 11.902 20.3961 12.25 20.3961 12.89C20.3961 13.53 20.0351 13.885 19.5541 13.885C19.0731 13.885 18.7261 13.531 18.7261 12.89C18.7261 12.249 19.0811 11.9 19.5541 11.9V11.902Z\"></path><path d=\"M22.9878 14.233C23.1011 14.411 23.2591 14.5562 23.4459 14.6541C23.6328 14.752 23.842 14.7992 24.0528 14.791C24.2839 14.7748 24.5094 14.7123 24.7159 14.6073C24.9224 14.5023 25.1057 14.3569 25.2549 14.1796C25.4042 14.0024 25.5163 13.7971 25.5846 13.5757C25.653 13.3544 25.6762 13.1215 25.6528 12.891C25.6763 12.6605 25.6532 12.4276 25.5849 12.2062C25.5166 11.9848 25.4045 11.7794 25.2553 11.6022C25.106 11.4249 24.9227 11.2795 24.7161 11.1745C24.5095 11.0695 24.284 11.0071 24.0528 10.991C23.8429 10.9828 23.6345 11.0292 23.4478 11.1256C23.2611 11.222 23.1027 11.3651 22.9878 11.541V11.088H21.9648V16.177H22.9878V14.233ZM23.7878 11.902C24.2678 11.902 24.6028 12.257 24.6028 12.902C24.6028 13.547 24.2678 13.89 23.7878 13.89C23.3078 13.89 22.9738 13.542 22.9738 12.902C22.9738 12.262 23.3078 11.9 23.7878 11.9V11.902Z\"></path><path d=\"M11.5998 18.5C11.8437 18.5006 12.0818 18.5747 12.283 18.7126C12.4842 18.8505 12.6392 19.0458 12.7278 19.273L13.6458 18.709C13.459 18.3312 13.1658 18.0163 12.8023 17.803C12.4387 17.5898 12.0207 17.4876 11.5998 17.509C11.2677 17.4979 10.9369 17.5564 10.6287 17.6806C10.3205 17.8048 10.0416 17.9921 9.80999 18.2304C9.57837 18.4687 9.39911 18.7528 9.2837 19.0644C9.16829 19.376 9.11928 19.7083 9.13981 20.04C9.11986 20.3714 9.1693 20.7032 9.28497 21.0144C9.40064 21.3255 9.57999 21.6091 9.81155 21.847C10.0431 22.0848 10.3218 22.2717 10.6297 22.3957C10.9376 22.5197 11.268 22.5781 11.5998 22.567C12.0207 22.5884 12.4387 22.4862 12.8023 22.273C13.1658 22.0598 13.459 21.7448 13.6458 21.367L12.7278 20.803C12.6392 21.0303 12.4842 21.2256 12.283 21.3634C12.0818 21.5013 11.8437 21.5754 11.5998 21.576C11.408 21.5734 11.219 21.5301 11.0453 21.4489C10.8715 21.3677 10.717 21.2505 10.592 21.1051C10.467 20.9597 10.3744 20.7893 10.3202 20.6053C10.266 20.4214 10.2516 20.228 10.2778 20.038C10.2516 19.848 10.266 19.6547 10.3202 19.4707C10.3744 19.2867 10.467 19.1164 10.592 18.9709C10.717 18.8255 10.8715 18.7083 11.0453 18.6271C11.219 18.5459 11.408 18.5026 11.5998 18.5Z\"></path><path d=\"M16.012 18.766C15.8204 18.7554 15.6297 18.7995 15.4622 18.8932C15.2947 18.9868 15.1573 19.1262 15.066 19.295V17.256H14.043V22.476H15.066V20.36C15.0551 20.2706 15.0637 20.1798 15.0912 20.0941C15.1187 20.0083 15.1644 19.9294 15.2251 19.8629C15.2859 19.7965 15.3604 19.7439 15.4434 19.7089C15.5263 19.6738 15.6159 19.6572 15.706 19.66C16.006 19.66 16.242 19.883 16.242 20.301V22.479H17.266V20.117C17.28 19.9442 17.2579 19.7704 17.2011 19.6066C17.1444 19.4428 17.0541 19.2926 16.9362 19.1656C16.8183 19.0385 16.6752 18.9374 16.5161 18.8686C16.357 18.7998 16.1853 18.7649 16.012 18.766Z\"></path><path d=\"M19.634 18.7661C19.258 18.7649 18.8901 18.8753 18.5768 19.0833C18.2636 19.2914 18.0191 19.5877 17.8744 19.9348C17.7297 20.2819 17.6912 20.6641 17.7638 21.033C17.8364 21.402 18.0169 21.7411 18.2824 22.0074C18.5479 22.2737 18.8864 22.4553 19.2551 22.5291C19.6239 22.6029 20.0062 22.5656 20.3537 22.422C20.7013 22.2784 20.9984 22.0348 21.2074 21.7223C21.4164 21.4097 21.528 21.0421 21.528 20.6661C21.5387 20.4142 21.4971 20.1629 21.4058 19.9279C21.3145 19.6929 21.1754 19.4795 20.9975 19.3009C20.8195 19.1224 20.6065 18.9827 20.3718 18.8906C20.1371 18.7986 19.8859 18.7562 19.634 18.7661ZM19.634 21.6661C19.161 21.6661 18.806 21.3111 18.806 20.6711C18.806 20.0311 19.161 19.6821 19.634 19.6821C20.107 19.6821 20.476 20.0301 20.476 20.6711C20.476 21.3121 20.115 21.6621 19.634 21.6621V21.6661Z\"></path><path d=\"M22.5659 17.2419C22.4833 17.2354 22.4002 17.2462 22.3219 17.2734C22.2436 17.3006 22.1718 17.3438 22.111 17.4002C22.0502 17.4565 22.0017 17.5249 21.9687 17.6009C21.9356 17.677 21.9187 17.759 21.9189 17.8419C21.9344 18.002 22.0089 18.1506 22.128 18.2587C22.2471 18.3668 22.4021 18.4267 22.5629 18.4267C22.7238 18.4267 22.8788 18.3668 22.9979 18.2587C23.1169 18.1506 23.1915 18.002 23.2069 17.8419C23.2082 17.7593 23.1921 17.6773 23.1598 17.6012C23.1275 17.5251 23.0796 17.4566 23.0193 17.4001C22.9589 17.3436 22.8874 17.3003 22.8093 17.2731C22.7313 17.2458 22.6484 17.2352 22.5659 17.2419Z\"></path><path d=\"M23.0669 18.864H22.0439V22.477H23.0669V18.864Z\"></path><path d=\"M25.4698 19.671C25.6391 19.6601 25.8073 19.7043 25.9493 19.7972C26.0912 19.8901 26.1991 20.0265 26.2568 20.186L27.1128 19.692C26.9634 19.3907 26.7268 19.1413 26.4338 18.9762C26.1408 18.8111 25.805 18.7378 25.4698 18.766C24.9659 18.766 24.4826 18.9662 24.1263 19.3225C23.77 19.6789 23.5698 20.1621 23.5698 20.666C23.5698 21.17 23.77 21.6532 24.1263 22.0095C24.4826 22.3659 24.9659 22.566 25.4698 22.566C25.8049 22.5941 26.1408 22.5208 26.4337 22.3557C26.7267 22.1906 26.9633 21.9413 27.1128 21.64L26.2568 21.146C26.1993 21.3056 26.0914 21.4422 25.9494 21.5351C25.8074 21.628 25.6391 21.6722 25.4698 21.661C25.0518 21.661 24.6418 21.347 24.6418 20.666C24.6418 19.985 25.0518 19.671 25.4698 19.671Z\"></path><path d=\"M29.134 18.766C28.8889 18.7627 28.6458 18.8104 28.4202 18.9063C28.1946 19.0022 27.9915 19.144 27.8238 19.3228C27.6561 19.5016 27.5275 19.7134 27.4463 19.9447C27.3651 20.176 27.333 20.4217 27.352 20.666C27.3367 20.9183 27.3749 21.171 27.4641 21.4075C27.5533 21.644 27.6914 21.859 27.8695 22.0384C28.0476 22.2178 28.2615 22.3575 28.4974 22.4485C28.7332 22.5394 28.9856 22.5795 29.238 22.566C29.5305 22.5793 29.8218 22.5227 30.0881 22.4009C30.3543 22.2792 30.5877 22.0959 30.769 21.866L30.06 21.288C29.9718 21.4233 29.8492 21.5326 29.7047 21.6046C29.5602 21.6767 29.3991 21.709 29.238 21.698C29.1312 21.7063 29.0239 21.6925 28.9227 21.6575C28.8214 21.6225 28.7285 21.5671 28.6495 21.4947C28.5706 21.4224 28.5073 21.3345 28.4637 21.2367C28.4201 21.1389 28.3971 21.0331 28.396 20.926H30.853C30.86 20.849 30.86 20.745 30.86 20.669C30.8839 20.4281 30.8571 20.1849 30.7812 19.955C30.7053 19.7252 30.582 19.5138 30.4194 19.3344C30.2568 19.1551 30.0584 19.0119 29.837 18.914C29.6156 18.8161 29.3761 18.7657 29.134 18.766ZM28.417 20.242C28.4202 20.1514 28.4414 20.0623 28.4792 19.9799C28.5171 19.8975 28.5709 19.8234 28.6376 19.7619C28.7043 19.7005 28.7825 19.6528 28.8677 19.6218C28.9529 19.5907 29.0434 19.5769 29.134 19.581C29.489 19.581 29.739 19.781 29.834 20.242H28.417Z\"></path></svg><div class=\"space-y-4 mt-4\"><p><a class=\"card-link line-clamp-2 w-[80%] md:w-90\" href=\"/cameroon/bandjoun/attractions/chefferie/a/poi-sig/1300217/1341707\"><span class=\"heading-05 font-semibold\">Chefferie</span></a></p><p class=\"text-sm font-semibold uppercase !mt-2\">Cameroon</p><p class=\"relative flex flex-wrap justify-start items-start gap-x-4 gap-y-2 max-w-full label-sm uppercase hidden\"></p><p class=\"relative line-clamp-3\">Approached via a ceremonial gate, the compound is centred on a hugely impressive bamboo building, its conical thatched roof supported by wooden pillars…</p></div></article></div></li><li class=\"col-span-1 md:col-span-3 lg:col-span-3\"><div class=\"relative\"><article class=\"relative rounded\"><img alt=\"The Royal Palace Museum of the Fon dynasty kings of the Dahomey Empire. The Museum is a UNESCO World Heritage Site. Abomey, Benin. West Africa. (Photo by: Education Images/UIG via Getty Images)\" class=\"max-w-full object-cover rounded relative aspect-square\" data-nimg=\"1\" decoding=\"async\" height=\"400\" loading=\"lazy\" src=\"https://lp-cms-production.imgix.net/2019-06/481660505_master.jpg?fit=crop&amp;ar=1%3A1&amp;w=1200&amp;auto=format&amp;q=75\" srcset=\"https://lp-cms-production.imgix.net/2019-06/481660505_master.jpg?fit=crop&amp;ar=1%3A1&amp;w=640&amp;auto=format&amp;q=75 1x, https://lp-cms-production.imgix.net/2019-06/481660505_master.jpg?fit=crop&amp;ar=1%3A1&amp;w=1200&amp;auto=format&amp;q=75 2x\" style=\"color:transparent\" width=\"600\"/><div class=\"space-y-4 mt-4\"><p><a class=\"card-link line-clamp-2 w-[80%] md:w-90\" href=\"/cameroon/the-ring-road/attractions/fon-s-palace/a/poi-sig/1014679/1327472\"><span class=\"heading-05 font-semibold\">Fon's Palace</span></a></p><p class=\"text-sm font-semibold uppercase !mt-2\">Cameroon</p><p class=\"relative flex flex-wrap justify-start items-start gap-x-4 gap-y-2 max-w-full label-sm uppercase hidden\"></p><p class=\"relative line-clamp-3\">Just north of Bamenda is the large Tikar community of Bafut, traditionally the most powerful of the Grassfields kingdoms. The fon's (local chief's) palace…</p></div></article></div></li><li class=\"col-span-1 md:col-span-3 lg:col-span-3\"><div class=\"relative\"><article class=\"relative rounded\"><img alt=\"Mandrill -Mandrillus sphinx-, female, animal portrait, captive, South-West Region, Cameroon\" class=\"max-w-full object-cover rounded relative aspect-square\" data-nimg=\"1\" decoding=\"async\" height=\"400\" loading=\"lazy\" src=\"https://lp-cms-production.imgix.net/2019-06/508490591_super.jpg?fit=crop&amp;ar=1%3A1&amp;w=1200&amp;auto=format&amp;q=75\" srcset=\"https://lp-cms-production.imgix.net/2019-06/508490591_super.jpg?fit=crop&amp;ar=1%3A1&amp;w=640&amp;auto=format&amp;q=75 1x, https://lp-cms-production.imgix.net/2019-06/508490591_super.jpg?fit=crop&amp;ar=1%3A1&amp;w=1200&amp;auto=format&amp;q=75 2x\" style=\"color:transparent\" width=\"600\"/><div class=\"space-y-4 mt-4\"><p><a class=\"card-link line-clamp-2 w-[80%] md:w-90\" href=\"/cameroon/western-cameroon/limbe/attractions/limbe-wildlife-centre/a/poi-sig/1299814/355115\"><span class=\"heading-05 font-semibold\">Limbe Wildlife Centre</span></a></p><p class=\"text-sm font-semibold uppercase !mt-2\">Cameroon</p><p class=\"relative flex flex-wrap justify-start items-start gap-x-4 gap-y-2 max-w-full label-sm uppercase hidden\"></p><p class=\"relative line-clamp-3\">Many zoos in Africa are depressing places, but the Limbe Wildlife Centre is a shining exception. It houses rescued chimpanzees, gorillas, drills and other…</p></div></article></div></li><li class=\"col-span-1 md:col-span-3 lg:col-span-3\"><div class=\"relative\"><article class=\"relative rounded\"><div class=\"relative flex max-w-full items-center justify-center overflow-hidden rounded relative aspect-square\"><img alt=\"\" class=\"max-w-full w-full h-full object-cover rounded relative aspect-square\" data-nimg=\"1\" decoding=\"async\" height=\"400\" loading=\"lazy\" src=\"https://lonelyplanetstatic.imgix.net/marketing/placeholders/placeholder-attractions.jpg?fit=crop&amp;ar=1%3A1&amp;w=1200&amp;auto=format&amp;q=75\" srcset=\"https://lonelyplanetstatic.imgix.net/marketing/placeholders/placeholder-attractions.jpg?fit=crop&amp;ar=1%3A1&amp;w=640&amp;auto=format&amp;q=75 1x, https://lonelyplanetstatic.imgix.net/marketing/placeholders/placeholder-attractions.jpg?fit=crop&amp;ar=1%3A1&amp;w=1200&amp;auto=format&amp;q=75 2x\" style=\"color:transparent\" width=\"600\"/><svg aria-hidden=\"true\" class=\"absolute top-[50%] left-0 right-0 w-24 max-w-[30%] h-auto mx-auto text-white aspect-square transform translate-y-[-50%]\" fill=\"currentColor\" height=\"1em\" viewbox=\"0 0 40 40\" width=\"1em\" xmlns=\"http://www.w3.org/2000/svg\"><path d=\"M20.716 7.34598C20.5338 7.18675 20.3 7.099 20.058 7.099C19.816 7.099 19.5822 7.18675 19.4 7.34598L16.367 9.99499C16.2596 10.0888 16.1735 10.2046 16.1145 10.3345C16.0555 10.4644 16.025 10.6053 16.025 10.748C16.025 10.8906 16.0555 11.0316 16.1145 11.1615C16.1735 11.2914 16.2596 11.4071 16.367 11.501L19.4 14.151C19.5822 14.3102 19.816 14.398 20.058 14.398C20.3 14.398 20.5338 14.3102 20.716 14.151L23.749 11.501C23.8564 11.4071 23.9425 11.2914 24.0015 11.1615C24.0605 11.0316 24.091 10.8906 24.091 10.748C24.091 10.6053 24.0605 10.4644 24.0015 10.3345C23.9425 10.2046 23.8564 10.0888 23.749 9.99499L20.716 7.34598Z\" fill=\"currentColor\"></path><path d=\"M35.071 18.338L37.5 13.759C37.5807 13.6066 37.6206 13.4359 37.6159 13.2635C37.6111 13.0911 37.5619 12.9229 37.4729 12.7751C37.384 12.6274 37.2583 12.5052 37.1082 12.4203C36.958 12.3355 36.7885 12.2909 36.616 12.291H34.023L20.693 1.31798C20.514 1.17064 20.2893 1.09008 20.0575 1.09008C19.8257 1.09008 19.601 1.17064 19.422 1.31798L6.093 12.291H3.477C3.30454 12.2909 3.135 12.3355 2.98485 12.4203C2.83469 12.5052 2.70903 12.6274 2.62006 12.7751C2.5311 12.9229 2.48185 13.0911 2.47711 13.2635C2.47237 13.4359 2.51229 13.6066 2.593 13.759L5.018 18.338C5.09427 18.4783 5.20338 18.598 5.336 18.687V30.459H3.478C3.21279 30.459 2.95843 30.5643 2.7709 30.7519C2.58336 30.9394 2.478 31.1938 2.478 31.459V36.722C2.478 36.9872 2.58336 37.2416 2.7709 37.4291C2.95843 37.6166 3.21279 37.722 3.478 37.722H36.612C36.8772 37.722 37.1316 37.6166 37.3191 37.4291C37.5066 37.2416 37.612 36.9872 37.612 36.722V31.459C37.612 31.1938 37.5066 30.9394 37.3191 30.7519C37.1316 30.5643 36.8772 30.459 36.612 30.459H34.664V18.744C34.8365 18.6514 34.978 18.5102 35.071 18.338ZM5.138 14.291H12.3C12.5652 14.291 12.8196 14.1856 13.0071 13.9981C13.1946 13.8106 13.3 13.5562 13.3 13.291C13.3 13.0258 13.1946 12.7714 13.0071 12.5839C12.8196 12.3963 12.5652 12.291 12.3 12.291H9.24L20.058 3.38398L30.875 12.289H27.723C27.4578 12.289 27.2034 12.3943 27.0159 12.5819C26.8284 12.7694 26.723 13.0238 26.723 13.289C26.723 13.5542 26.8284 13.8086 27.0159 13.9961C27.2034 14.1836 27.4578 14.289 27.723 14.289H34.951L33.585 16.868H6.5L5.138 14.291ZM28.4 30.459H23.132V18.87H28.4V30.459ZM11.6 18.87H16.867V30.459H11.6V18.87ZM18.867 18.87H21.131V30.459H18.868L18.867 18.87ZM7.335 18.87H9.6V30.459H7.336L7.335 18.87ZM35.612 32.459V35.722H4.478V32.459H35.612ZM30.399 30.459V18.87H32.664V30.459H30.399Z\" fill=\"currentColor\"></path></svg></div><div class=\"space-y-4 mt-4\"><p><a class=\"card-link line-clamp-2 w-[80%] md:w-90\" href=\"/cameroon/western-cameroon/limbe/attractions/botanical-gardens/a/poi-sig/1299817/355115\"><span class=\"heading-05 font-semibold\">Botanical Gardens</span></a></p><p class=\"text-sm font-semibold uppercase !mt-2\">Cameroon</p><p class=\"relative flex flex-wrap justify-start items-start gap-x-4 gap-y-2 max-w-full label-sm uppercase hidden\"></p><p class=\"relative line-clamp-3\">Limbe's Botanical Gardens, the second oldest in Africa, are the home of, among others, cinnamon, nutmeg, mango, ancient cycads and an unnamed tree that…</p></div></article></div></li><li class=\"col-span-1 md:col-span-3 lg:col-span-3\"><div class=\"relative\"><article class=\"relative rounded\"><div class=\"relative flex max-w-full items-center justify-center overflow-hidden rounded relative aspect-square\"><img alt=\"\" class=\"max-w-full w-full h-full object-cover rounded relative aspect-square\" data-nimg=\"1\" decoding=\"async\" height=\"400\" loading=\"lazy\" src=\"https://lonelyplanetstatic.imgix.net/marketing/placeholders/placeholder-attractions.jpg?fit=crop&amp;ar=1%3A1&amp;w=1200&amp;auto=format&amp;q=75\" srcset=\"https://lonelyplanetstatic.imgix.net/marketing/placeholders/placeholder-attractions.jpg?fit=crop&amp;ar=1%3A1&amp;w=640&amp;auto=format&amp;q=75 1x, https://lonelyplanetstatic.imgix.net/marketing/placeholders/placeholder-attractions.jpg?fit=crop&amp;ar=1%3A1&amp;w=1200&amp;auto=format&amp;q=75 2x\" style=\"color:transparent\" width=\"600\"/><svg aria-hidden=\"true\" class=\"absolute top-[50%] left-0 right-0 w-24 max-w-[30%] h-auto mx-auto text-white aspect-square transform translate-y-[-50%]\" fill=\"currentColor\" height=\"1em\" viewbox=\"0 0 40 40\" width=\"1em\" xmlns=\"http://www.w3.org/2000/svg\"><path d=\"M20.716 7.34598C20.5338 7.18675 20.3 7.099 20.058 7.099C19.816 7.099 19.5822 7.18675 19.4 7.34598L16.367 9.99499C16.2596 10.0888 16.1735 10.2046 16.1145 10.3345C16.0555 10.4644 16.025 10.6053 16.025 10.748C16.025 10.8906 16.0555 11.0316 16.1145 11.1615C16.1735 11.2914 16.2596 11.4071 16.367 11.501L19.4 14.151C19.5822 14.3102 19.816 14.398 20.058 14.398C20.3 14.398 20.5338 14.3102 20.716 14.151L23.749 11.501C23.8564 11.4071 23.9425 11.2914 24.0015 11.1615C24.0605 11.0316 24.091 10.8906 24.091 10.748C24.091 10.6053 24.0605 10.4644 24.0015 10.3345C23.9425 10.2046 23.8564 10.0888 23.749 9.99499L20.716 7.34598Z\" fill=\"currentColor\"></path><path d=\"M35.071 18.338L37.5 13.759C37.5807 13.6066 37.6206 13.4359 37.6159 13.2635C37.6111 13.0911 37.5619 12.9229 37.4729 12.7751C37.384 12.6274 37.2583 12.5052 37.1082 12.4203C36.958 12.3355 36.7885 12.2909 36.616 12.291H34.023L20.693 1.31798C20.514 1.17064 20.2893 1.09008 20.0575 1.09008C19.8257 1.09008 19.601 1.17064 19.422 1.31798L6.093 12.291H3.477C3.30454 12.2909 3.135 12.3355 2.98485 12.4203C2.83469 12.5052 2.70903 12.6274 2.62006 12.7751C2.5311 12.9229 2.48185 13.0911 2.47711 13.2635C2.47237 13.4359 2.51229 13.6066 2.593 13.759L5.018 18.338C5.09427 18.4783 5.20338 18.598 5.336 18.687V30.459H3.478C3.21279 30.459 2.95843 30.5643 2.7709 30.7519C2.58336 30.9394 2.478 31.1938 2.478 31.459V36.722C2.478 36.9872 2.58336 37.2416 2.7709 37.4291C2.95843 37.6166 3.21279 37.722 3.478 37.722H36.612C36.8772 37.722 37.1316 37.6166 37.3191 37.4291C37.5066 37.2416 37.612 36.9872 37.612 36.722V31.459C37.612 31.1938 37.5066 30.9394 37.3191 30.7519C37.1316 30.5643 36.8772 30.459 36.612 30.459H34.664V18.744C34.8365 18.6514 34.978 18.5102 35.071 18.338ZM5.138 14.291H12.3C12.5652 14.291 12.8196 14.1856 13.0071 13.9981C13.1946 13.8106 13.3 13.5562 13.3 13.291C13.3 13.0258 13.1946 12.7714 13.0071 12.5839C12.8196 12.3963 12.5652 12.291 12.3 12.291H9.24L20.058 3.38398L30.875 12.289H27.723C27.4578 12.289 27.2034 12.3943 27.0159 12.5819C26.8284 12.7694 26.723 13.0238 26.723 13.289C26.723 13.5542 26.8284 13.8086 27.0159 13.9961C27.2034 14.1836 27.4578 14.289 27.723 14.289H34.951L33.585 16.868H6.5L5.138 14.291ZM28.4 30.459H23.132V18.87H28.4V30.459ZM11.6 18.87H16.867V30.459H11.6V18.87ZM18.867 18.87H21.131V30.459H18.868L18.867 18.87ZM7.335 18.87H9.6V30.459H7.336L7.335 18.87ZM35.612 32.459V35.722H4.478V32.459H35.612ZM30.399 30.459V18.87H32.664V30.459H30.399Z\" fill=\"currentColor\"></path></svg></div><div class=\"space-y-4 mt-4\"><p><a class=\"card-link line-clamp-2 w-[80%] md:w-90\" href=\"/cameroon/campo/attractions/parc-national-de-campo-ma-an/a/poi-sig/1556902/1327503\"><span class=\"heading-05 font-semibold\">Parc National de Campo-Ma'an</span></a></p><p class=\"text-sm font-semibold uppercase !mt-2\">Cameroon</p><p class=\"relative flex flex-wrap justify-start items-start gap-x-4 gap-y-2 max-w-full label-sm uppercase hidden\"></p><p class=\"relative line-clamp-3\">Campo-Ma'an comprises 7700 sq km of protected biodiverse rainforest, sheltering many wonderful plants and animals, including buffaloes, forest elephants,…</p></div></article></div></li><li class=\"col-span-1 md:col-span-3 lg:col-span-3\"><div class=\"relative\"><article class=\"relative rounded\"><div class=\"relative flex max-w-full items-center justify-center overflow-hidden rounded relative aspect-square\"><img alt=\"\" class=\"max-w-full w-full h-full object-cover rounded relative aspect-square\" data-nimg=\"1\" decoding=\"async\" height=\"400\" loading=\"lazy\" src=\"https://lonelyplanetstatic.imgix.net/marketing/placeholders/placeholder-attractions.jpg?fit=crop&amp;ar=1%3A1&amp;w=1200&amp;auto=format&amp;q=75\" srcset=\"https://lonelyplanetstatic.imgix.net/marketing/placeholders/placeholder-attractions.jpg?fit=crop&amp;ar=1%3A1&amp;w=640&amp;auto=format&amp;q=75 1x, https://lonelyplanetstatic.imgix.net/marketing/placeholders/placeholder-attractions.jpg?fit=crop&amp;ar=1%3A1&amp;w=1200&amp;auto=format&amp;q=75 2x\" style=\"color:transparent\" width=\"600\"/><svg aria-hidden=\"true\" class=\"absolute top-[50%] left-0 right-0 w-24 max-w-[30%] h-auto mx-auto text-white aspect-square transform translate-y-[-50%]\" fill=\"currentColor\" height=\"1em\" viewbox=\"0 0 40 40\" width=\"1em\" xmlns=\"http://www.w3.org/2000/svg\"><path d=\"M20.716 7.34598C20.5338 7.18675 20.3 7.099 20.058 7.099C19.816 7.099 19.5822 7.18675 19.4 7.34598L16.367 9.99499C16.2596 10.0888 16.1735 10.2046 16.1145 10.3345C16.0555 10.4644 16.025 10.6053 16.025 10.748C16.025 10.8906 16.0555 11.0316 16.1145 11.1615C16.1735 11.2914 16.2596 11.4071 16.367 11.501L19.4 14.151C19.5822 14.3102 19.816 14.398 20.058 14.398C20.3 14.398 20.5338 14.3102 20.716 14.151L23.749 11.501C23.8564 11.4071 23.9425 11.2914 24.0015 11.1615C24.0605 11.0316 24.091 10.8906 24.091 10.748C24.091 10.6053 24.0605 10.4644 24.0015 10.3345C23.9425 10.2046 23.8564 10.0888 23.749 9.99499L20.716 7.34598Z\" fill=\"currentColor\"></path><path d=\"M35.071 18.338L37.5 13.759C37.5807 13.6066 37.6206 13.4359 37.6159 13.2635C37.6111 13.0911 37.5619 12.9229 37.4729 12.7751C37.384 12.6274 37.2583 12.5052 37.1082 12.4203C36.958 12.3355 36.7885 12.2909 36.616 12.291H34.023L20.693 1.31798C20.514 1.17064 20.2893 1.09008 20.0575 1.09008C19.8257 1.09008 19.601 1.17064 19.422 1.31798L6.093 12.291H3.477C3.30454 12.2909 3.135 12.3355 2.98485 12.4203C2.83469 12.5052 2.70903 12.6274 2.62006 12.7751C2.5311 12.9229 2.48185 13.0911 2.47711 13.2635C2.47237 13.4359 2.51229 13.6066 2.593 13.759L5.018 18.338C5.09427 18.4783 5.20338 18.598 5.336 18.687V30.459H3.478C3.21279 30.459 2.95843 30.5643 2.7709 30.7519C2.58336 30.9394 2.478 31.1938 2.478 31.459V36.722C2.478 36.9872 2.58336 37.2416 2.7709 37.4291C2.95843 37.6166 3.21279 37.722 3.478 37.722H36.612C36.8772 37.722 37.1316 37.6166 37.3191 37.4291C37.5066 37.2416 37.612 36.9872 37.612 36.722V31.459C37.612 31.1938 37.5066 30.9394 37.3191 30.7519C37.1316 30.5643 36.8772 30.459 36.612 30.459H34.664V18.744C34.8365 18.6514 34.978 18.5102 35.071 18.338ZM5.138 14.291H12.3C12.5652 14.291 12.8196 14.1856 13.0071 13.9981C13.1946 13.8106 13.3 13.5562 13.3 13.291C13.3 13.0258 13.1946 12.7714 13.0071 12.5839C12.8196 12.3963 12.5652 12.291 12.3 12.291H9.24L20.058 3.38398L30.875 12.289H27.723C27.4578 12.289 27.2034 12.3943 27.0159 12.5819C26.8284 12.7694 26.723 13.0238 26.723 13.289C26.723 13.5542 26.8284 13.8086 27.0159 13.9961C27.2034 14.1836 27.4578 14.289 27.723 14.289H34.951L33.585 16.868H6.5L5.138 14.291ZM28.4 30.459H23.132V18.87H28.4V30.459ZM11.6 18.87H16.867V30.459H11.6V18.87ZM18.867 18.87H21.131V30.459H18.868L18.867 18.87ZM7.335 18.87H9.6V30.459H7.336L7.335 18.87ZM35.612 32.459V35.722H4.478V32.459H35.612ZM30.399 30.459V18.87H32.664V30.459H30.399Z\" fill=\"currentColor\"></path></svg></div><div class=\"space-y-4 mt-4\"><p><a class=\"card-link line-clamp-2 w-[80%] md:w-90\" href=\"/cameroon/southern-cameroon/kribi/attractions/chutes-de-la-lobe/a/poi-sig/1556887/355110\"><span class=\"heading-05 font-semibold\">Chutes de la Lobé</span></a></p><p class=\"text-sm font-semibold uppercase !mt-2\">Cameroon</p><p class=\"relative flex flex-wrap justify-start items-start gap-x-4 gap-y-2 max-w-full label-sm uppercase hidden\"></p><p class=\"relative line-clamp-3\">The Chutes de la Lobé are an impressive set of waterfalls that empty directly into the sea – it's a beautiful sight. Take a moto-taxi (CFA500), or make a…</p></div></article></div></li><li class=\"col-span-1 md:col-span-3 lg:col-span-3\"><div class=\"relative\"><article class=\"relative rounded\"><div class=\"relative flex max-w-full items-center justify-center overflow-hidden rounded relative aspect-square\"><img alt=\"\" class=\"max-w-full w-full h-full object-cover rounded relative aspect-square\" data-nimg=\"1\" decoding=\"async\" height=\"400\" loading=\"lazy\" src=\"https://lonelyplanetstatic.imgix.net/marketing/placeholders/placeholder-attractions.jpg?fit=crop&amp;ar=1%3A1&amp;w=1200&amp;auto=format&amp;q=75\" srcset=\"https://lonelyplanetstatic.imgix.net/marketing/placeholders/placeholder-attractions.jpg?fit=crop&amp;ar=1%3A1&amp;w=640&amp;auto=format&amp;q=75 1x, https://lonelyplanetstatic.imgix.net/marketing/placeholders/placeholder-attractions.jpg?fit=crop&amp;ar=1%3A1&amp;w=1200&amp;auto=format&amp;q=75 2x\" style=\"color:transparent\" width=\"600\"/><svg aria-hidden=\"true\" class=\"absolute top-[50%] left-0 right-0 w-24 max-w-[30%] h-auto mx-auto text-white aspect-square transform translate-y-[-50%]\" fill=\"currentColor\" height=\"1em\" viewbox=\"0 0 40 40\" width=\"1em\" xmlns=\"http://www.w3.org/2000/svg\"><path d=\"M20.716 7.34598C20.5338 7.18675 20.3 7.099 20.058 7.099C19.816 7.099 19.5822 7.18675 19.4 7.34598L16.367 9.99499C16.2596 10.0888 16.1735 10.2046 16.1145 10.3345C16.0555 10.4644 16.025 10.6053 16.025 10.748C16.025 10.8906 16.0555 11.0316 16.1145 11.1615C16.1735 11.2914 16.2596 11.4071 16.367 11.501L19.4 14.151C19.5822 14.3102 19.816 14.398 20.058 14.398C20.3 14.398 20.5338 14.3102 20.716 14.151L23.749 11.501C23.8564 11.4071 23.9425 11.2914 24.0015 11.1615C24.0605 11.0316 24.091 10.8906 24.091 10.748C24.091 10.6053 24.0605 10.4644 24.0015 10.3345C23.9425 10.2046 23.8564 10.0888 23.749 9.99499L20.716 7.34598Z\" fill=\"currentColor\"></path><path d=\"M35.071 18.338L37.5 13.759C37.5807 13.6066 37.6206 13.4359 37.6159 13.2635C37.6111 13.0911 37.5619 12.9229 37.4729 12.7751C37.384 12.6274 37.2583 12.5052 37.1082 12.4203C36.958 12.3355 36.7885 12.2909 36.616 12.291H34.023L20.693 1.31798C20.514 1.17064 20.2893 1.09008 20.0575 1.09008C19.8257 1.09008 19.601 1.17064 19.422 1.31798L6.093 12.291H3.477C3.30454 12.2909 3.135 12.3355 2.98485 12.4203C2.83469 12.5052 2.70903 12.6274 2.62006 12.7751C2.5311 12.9229 2.48185 13.0911 2.47711 13.2635C2.47237 13.4359 2.51229 13.6066 2.593 13.759L5.018 18.338C5.09427 18.4783 5.20338 18.598 5.336 18.687V30.459H3.478C3.21279 30.459 2.95843 30.5643 2.7709 30.7519C2.58336 30.9394 2.478 31.1938 2.478 31.459V36.722C2.478 36.9872 2.58336 37.2416 2.7709 37.4291C2.95843 37.6166 3.21279 37.722 3.478 37.722H36.612C36.8772 37.722 37.1316 37.6166 37.3191 37.4291C37.5066 37.2416 37.612 36.9872 37.612 36.722V31.459C37.612 31.1938 37.5066 30.9394 37.3191 30.7519C37.1316 30.5643 36.8772 30.459 36.612 30.459H34.664V18.744C34.8365 18.6514 34.978 18.5102 35.071 18.338ZM5.138 14.291H12.3C12.5652 14.291 12.8196 14.1856 13.0071 13.9981C13.1946 13.8106 13.3 13.5562 13.3 13.291C13.3 13.0258 13.1946 12.7714 13.0071 12.5839C12.8196 12.3963 12.5652 12.291 12.3 12.291H9.24L20.058 3.38398L30.875 12.289H27.723C27.4578 12.289 27.2034 12.3943 27.0159 12.5819C26.8284 12.7694 26.723 13.0238 26.723 13.289C26.723 13.5542 26.8284 13.8086 27.0159 13.9961C27.2034 14.1836 27.4578 14.289 27.723 14.289H34.951L33.585 16.868H6.5L5.138 14.291ZM28.4 30.459H23.132V18.87H28.4V30.459ZM11.6 18.87H16.867V30.459H11.6V18.87ZM18.867 18.87H21.131V30.459H18.868L18.867 18.87ZM7.335 18.87H9.6V30.459H7.336L7.335 18.87ZM35.612 32.459V35.722H4.478V32.459H35.612ZM30.399 30.459V18.87H32.664V30.459H30.399Z\" fill=\"currentColor\"></path></svg></div><div class=\"space-y-4 mt-4\"><p><a class=\"card-link line-clamp-2 w-[80%] md:w-90\" href=\"/cameroon/western-cameroon/douala/attractions/espace-doual-art/a/poi-sig/1341839/355113\"><span class=\"heading-05 font-semibold\">Espace Doual'art</span></a></p><p class=\"text-sm font-semibold uppercase !mt-2\">Cameroon</p><p class=\"relative flex flex-wrap justify-start items-start gap-x-4 gap-y-2 max-w-full label-sm uppercase hidden\"></p><p class=\"relative line-clamp-3\">Well worth dropping into if you're nearby in Douala, this contemporary art space hosts changing displays of work from all over Cameroon and the rest of…</p></div></article></div></li><li class=\"col-span-1 md:col-span-3 lg:col-span-3\"><div class=\"relative\"><article class=\"relative rounded\"><div class=\"relative flex max-w-full items-center justify-center overflow-hidden rounded relative aspect-square\"><img alt=\"\" class=\"max-w-full w-full h-full object-cover rounded relative aspect-square\" data-nimg=\"1\" decoding=\"async\" height=\"400\" loading=\"lazy\" src=\"https://lonelyplanetstatic.imgix.net/marketing/placeholders/placeholder-attractions.jpg?fit=crop&amp;ar=1%3A1&amp;w=1200&amp;auto=format&amp;q=75\" srcset=\"https://lonelyplanetstatic.imgix.net/marketing/placeholders/placeholder-attractions.jpg?fit=crop&amp;ar=1%3A1&amp;w=640&amp;auto=format&amp;q=75 1x, https://lonelyplanetstatic.imgix.net/marketing/placeholders/placeholder-attractions.jpg?fit=crop&amp;ar=1%3A1&amp;w=1200&amp;auto=format&amp;q=75 2x\" style=\"color:transparent\" width=\"600\"/><svg aria-hidden=\"true\" class=\"absolute top-[50%] left-0 right-0 w-24 max-w-[30%] h-auto mx-auto text-white aspect-square transform translate-y-[-50%]\" fill=\"currentColor\" height=\"1em\" viewbox=\"0 0 40 40\" width=\"1em\" xmlns=\"http://www.w3.org/2000/svg\"><path d=\"M20.716 7.34598C20.5338 7.18675 20.3 7.099 20.058 7.099C19.816 7.099 19.5822 7.18675 19.4 7.34598L16.367 9.99499C16.2596 10.0888 16.1735 10.2046 16.1145 10.3345C16.0555 10.4644 16.025 10.6053 16.025 10.748C16.025 10.8906 16.0555 11.0316 16.1145 11.1615C16.1735 11.2914 16.2596 11.4071 16.367 11.501L19.4 14.151C19.5822 14.3102 19.816 14.398 20.058 14.398C20.3 14.398 20.5338 14.3102 20.716 14.151L23.749 11.501C23.8564 11.4071 23.9425 11.2914 24.0015 11.1615C24.0605 11.0316 24.091 10.8906 24.091 10.748C24.091 10.6053 24.0605 10.4644 24.0015 10.3345C23.9425 10.2046 23.8564 10.0888 23.749 9.99499L20.716 7.34598Z\" fill=\"currentColor\"></path><path d=\"M35.071 18.338L37.5 13.759C37.5807 13.6066 37.6206 13.4359 37.6159 13.2635C37.6111 13.0911 37.5619 12.9229 37.4729 12.7751C37.384 12.6274 37.2583 12.5052 37.1082 12.4203C36.958 12.3355 36.7885 12.2909 36.616 12.291H34.023L20.693 1.31798C20.514 1.17064 20.2893 1.09008 20.0575 1.09008C19.8257 1.09008 19.601 1.17064 19.422 1.31798L6.093 12.291H3.477C3.30454 12.2909 3.135 12.3355 2.98485 12.4203C2.83469 12.5052 2.70903 12.6274 2.62006 12.7751C2.5311 12.9229 2.48185 13.0911 2.47711 13.2635C2.47237 13.4359 2.51229 13.6066 2.593 13.759L5.018 18.338C5.09427 18.4783 5.20338 18.598 5.336 18.687V30.459H3.478C3.21279 30.459 2.95843 30.5643 2.7709 30.7519C2.58336 30.9394 2.478 31.1938 2.478 31.459V36.722C2.478 36.9872 2.58336 37.2416 2.7709 37.4291C2.95843 37.6166 3.21279 37.722 3.478 37.722H36.612C36.8772 37.722 37.1316 37.6166 37.3191 37.4291C37.5066 37.2416 37.612 36.9872 37.612 36.722V31.459C37.612 31.1938 37.5066 30.9394 37.3191 30.7519C37.1316 30.5643 36.8772 30.459 36.612 30.459H34.664V18.744C34.8365 18.6514 34.978 18.5102 35.071 18.338ZM5.138 14.291H12.3C12.5652 14.291 12.8196 14.1856 13.0071 13.9981C13.1946 13.8106 13.3 13.5562 13.3 13.291C13.3 13.0258 13.1946 12.7714 13.0071 12.5839C12.8196 12.3963 12.5652 12.291 12.3 12.291H9.24L20.058 3.38398L30.875 12.289H27.723C27.4578 12.289 27.2034 12.3943 27.0159 12.5819C26.8284 12.7694 26.723 13.0238 26.723 13.289C26.723 13.5542 26.8284 13.8086 27.0159 13.9961C27.2034 14.1836 27.4578 14.289 27.723 14.289H34.951L33.585 16.868H6.5L5.138 14.291ZM28.4 30.459H23.132V18.87H28.4V30.459ZM11.6 18.87H16.867V30.459H11.6V18.87ZM18.867 18.87H21.131V30.459H18.868L18.867 18.87ZM7.335 18.87H9.6V30.459H7.336L7.335 18.87ZM35.612 32.459V35.722H4.478V32.459H35.612ZM30.399 30.459V18.87H32.664V30.459H30.399Z\" fill=\"currentColor\"></path></svg></div><div class=\"space-y-4 mt-4\"><p><a class=\"card-link line-clamp-2 w-[80%] md:w-90\" href=\"/cameroon/western-cameroon/foumban/attractions/musee-des-arts-et-traditions-bamoun/a/poi-sig/1300241/355114\"><span class=\"heading-05 font-semibold\">Musée des Arts et Traditions Bamoun</span></a></p><p class=\"text-sm font-semibold uppercase !mt-2\">Cameroon</p><p class=\"relative flex flex-wrap justify-start items-start gap-x-4 gap-y-2 max-w-full label-sm uppercase hidden\"></p><p class=\"relative line-clamp-3\">Located in the Village des Artisans, this small museum houses a private collection of art and historical artefacts.</p></div></article></div></li><li class=\"col-span-1 md:col-span-3 lg:col-span-3\"><div class=\"relative\"><article class=\"relative rounded\"><div class=\"relative flex max-w-full items-center justify-center overflow-hidden rounded relative aspect-square\"><img alt=\"\" class=\"max-w-full w-full h-full object-cover rounded relative aspect-square\" data-nimg=\"1\" decoding=\"async\" height=\"400\" loading=\"lazy\" src=\"https://lonelyplanetstatic.imgix.net/marketing/placeholders/placeholder-attractions.jpg?fit=crop&amp;ar=1%3A1&amp;w=1200&amp;auto=format&amp;q=75\" srcset=\"https://lonelyplanetstatic.imgix.net/marketing/placeholders/placeholder-attractions.jpg?fit=crop&amp;ar=1%3A1&amp;w=640&amp;auto=format&amp;q=75 1x, https://lonelyplanetstatic.imgix.net/marketing/placeholders/placeholder-attractions.jpg?fit=crop&amp;ar=1%3A1&amp;w=1200&amp;auto=format&amp;q=75 2x\" style=\"color:transparent\" width=\"600\"/><svg aria-hidden=\"true\" class=\"absolute top-[50%] left-0 right-0 w-24 max-w-[30%] h-auto mx-auto text-white aspect-square transform translate-y-[-50%]\" fill=\"currentColor\" height=\"1em\" viewbox=\"0 0 40 40\" width=\"1em\" xmlns=\"http://www.w3.org/2000/svg\"><path d=\"M20.716 7.34598C20.5338 7.18675 20.3 7.099 20.058 7.099C19.816 7.099 19.5822 7.18675 19.4 7.34598L16.367 9.99499C16.2596 10.0888 16.1735 10.2046 16.1145 10.3345C16.0555 10.4644 16.025 10.6053 16.025 10.748C16.025 10.8906 16.0555 11.0316 16.1145 11.1615C16.1735 11.2914 16.2596 11.4071 16.367 11.501L19.4 14.151C19.5822 14.3102 19.816 14.398 20.058 14.398C20.3 14.398 20.5338 14.3102 20.716 14.151L23.749 11.501C23.8564 11.4071 23.9425 11.2914 24.0015 11.1615C24.0605 11.0316 24.091 10.8906 24.091 10.748C24.091 10.6053 24.0605 10.4644 24.0015 10.3345C23.9425 10.2046 23.8564 10.0888 23.749 9.99499L20.716 7.34598Z\" fill=\"currentColor\"></path><path d=\"M35.071 18.338L37.5 13.759C37.5807 13.6066 37.6206 13.4359 37.6159 13.2635C37.6111 13.0911 37.5619 12.9229 37.4729 12.7751C37.384 12.6274 37.2583 12.5052 37.1082 12.4203C36.958 12.3355 36.7885 12.2909 36.616 12.291H34.023L20.693 1.31798C20.514 1.17064 20.2893 1.09008 20.0575 1.09008C19.8257 1.09008 19.601 1.17064 19.422 1.31798L6.093 12.291H3.477C3.30454 12.2909 3.135 12.3355 2.98485 12.4203C2.83469 12.5052 2.70903 12.6274 2.62006 12.7751C2.5311 12.9229 2.48185 13.0911 2.47711 13.2635C2.47237 13.4359 2.51229 13.6066 2.593 13.759L5.018 18.338C5.09427 18.4783 5.20338 18.598 5.336 18.687V30.459H3.478C3.21279 30.459 2.95843 30.5643 2.7709 30.7519C2.58336 30.9394 2.478 31.1938 2.478 31.459V36.722C2.478 36.9872 2.58336 37.2416 2.7709 37.4291C2.95843 37.6166 3.21279 37.722 3.478 37.722H36.612C36.8772 37.722 37.1316 37.6166 37.3191 37.4291C37.5066 37.2416 37.612 36.9872 37.612 36.722V31.459C37.612 31.1938 37.5066 30.9394 37.3191 30.7519C37.1316 30.5643 36.8772 30.459 36.612 30.459H34.664V18.744C34.8365 18.6514 34.978 18.5102 35.071 18.338ZM5.138 14.291H12.3C12.5652 14.291 12.8196 14.1856 13.0071 13.9981C13.1946 13.8106 13.3 13.5562 13.3 13.291C13.3 13.0258 13.1946 12.7714 13.0071 12.5839C12.8196 12.3963 12.5652 12.291 12.3 12.291H9.24L20.058 3.38398L30.875 12.289H27.723C27.4578 12.289 27.2034 12.3943 27.0159 12.5819C26.8284 12.7694 26.723 13.0238 26.723 13.289C26.723 13.5542 26.8284 13.8086 27.0159 13.9961C27.2034 14.1836 27.4578 14.289 27.723 14.289H34.951L33.585 16.868H6.5L5.138 14.291ZM28.4 30.459H23.132V18.87H28.4V30.459ZM11.6 18.87H16.867V30.459H11.6V18.87ZM18.867 18.87H21.131V30.459H18.868L18.867 18.87ZM7.335 18.87H9.6V30.459H7.336L7.335 18.87ZM35.612 32.459V35.722H4.478V32.459H35.612ZM30.399 30.459V18.87H32.664V30.459H30.399Z\" fill=\"currentColor\"></path></svg></div><div class=\"space-y-4 mt-4\"><p><a class=\"card-link line-clamp-2 w-[80%] md:w-90\" href=\"/cameroon/bandjoun/attractions/bandjoun-station/a/poi-sig/1556899/1341707\"><span class=\"heading-05 font-semibold\">Bandjoun Station</span></a></p><p class=\"text-sm font-semibold uppercase !mt-2\">Cameroon</p><p class=\"relative flex flex-wrap justify-start items-start gap-x-4 gap-y-2 max-w-full label-sm uppercase hidden\"></p><p class=\"relative line-clamp-3\">Dramatically decorated with mosaics, this arts centre and workshop boldly announces itself. The centre supports the work of local contemporary artists.</p></div></article></div></li><li class=\"col-span-1 md:col-span-3 lg:col-span-3\"><div class=\"relative\"><article class=\"relative rounded\"><div class=\"relative flex max-w-full items-center justify-center overflow-hidden rounded relative aspect-square\"><img alt=\"\" class=\"max-w-full w-full h-full object-cover rounded relative aspect-square\" data-nimg=\"1\" decoding=\"async\" height=\"400\" loading=\"lazy\" src=\"https://lonelyplanetstatic.imgix.net/marketing/placeholders/placeholder-attractions.jpg?fit=crop&amp;ar=1%3A1&amp;w=1200&amp;auto=format&amp;q=75\" srcset=\"https://lonelyplanetstatic.imgix.net/marketing/placeholders/placeholder-attractions.jpg?fit=crop&amp;ar=1%3A1&amp;w=640&amp;auto=format&amp;q=75 1x, https://lonelyplanetstatic.imgix.net/marketing/placeholders/placeholder-attractions.jpg?fit=crop&amp;ar=1%3A1&amp;w=1200&amp;auto=format&amp;q=75 2x\" style=\"color:transparent\" width=\"600\"/><svg aria-hidden=\"true\" class=\"absolute top-[50%] left-0 right-0 w-24 max-w-[30%] h-auto mx-auto text-white aspect-square transform translate-y-[-50%]\" fill=\"currentColor\" height=\"1em\" viewbox=\"0 0 40 40\" width=\"1em\" xmlns=\"http://www.w3.org/2000/svg\"><path d=\"M20.716 7.34598C20.5338 7.18675 20.3 7.099 20.058 7.099C19.816 7.099 19.5822 7.18675 19.4 7.34598L16.367 9.99499C16.2596 10.0888 16.1735 10.2046 16.1145 10.3345C16.0555 10.4644 16.025 10.6053 16.025 10.748C16.025 10.8906 16.0555 11.0316 16.1145 11.1615C16.1735 11.2914 16.2596 11.4071 16.367 11.501L19.4 14.151C19.5822 14.3102 19.816 14.398 20.058 14.398C20.3 14.398 20.5338 14.3102 20.716 14.151L23.749 11.501C23.8564 11.4071 23.9425 11.2914 24.0015 11.1615C24.0605 11.0316 24.091 10.8906 24.091 10.748C24.091 10.6053 24.0605 10.4644 24.0015 10.3345C23.9425 10.2046 23.8564 10.0888 23.749 9.99499L20.716 7.34598Z\" fill=\"currentColor\"></path><path d=\"M35.071 18.338L37.5 13.759C37.5807 13.6066 37.6206 13.4359 37.6159 13.2635C37.6111 13.0911 37.5619 12.9229 37.4729 12.7751C37.384 12.6274 37.2583 12.5052 37.1082 12.4203C36.958 12.3355 36.7885 12.2909 36.616 12.291H34.023L20.693 1.31798C20.514 1.17064 20.2893 1.09008 20.0575 1.09008C19.8257 1.09008 19.601 1.17064 19.422 1.31798L6.093 12.291H3.477C3.30454 12.2909 3.135 12.3355 2.98485 12.4203C2.83469 12.5052 2.70903 12.6274 2.62006 12.7751C2.5311 12.9229 2.48185 13.0911 2.47711 13.2635C2.47237 13.4359 2.51229 13.6066 2.593 13.759L5.018 18.338C5.09427 18.4783 5.20338 18.598 5.336 18.687V30.459H3.478C3.21279 30.459 2.95843 30.5643 2.7709 30.7519C2.58336 30.9394 2.478 31.1938 2.478 31.459V36.722C2.478 36.9872 2.58336 37.2416 2.7709 37.4291C2.95843 37.6166 3.21279 37.722 3.478 37.722H36.612C36.8772 37.722 37.1316 37.6166 37.3191 37.4291C37.5066 37.2416 37.612 36.9872 37.612 36.722V31.459C37.612 31.1938 37.5066 30.9394 37.3191 30.7519C37.1316 30.5643 36.8772 30.459 36.612 30.459H34.664V18.744C34.8365 18.6514 34.978 18.5102 35.071 18.338ZM5.138 14.291H12.3C12.5652 14.291 12.8196 14.1856 13.0071 13.9981C13.1946 13.8106 13.3 13.5562 13.3 13.291C13.3 13.0258 13.1946 12.7714 13.0071 12.5839C12.8196 12.3963 12.5652 12.291 12.3 12.291H9.24L20.058 3.38398L30.875 12.289H27.723C27.4578 12.289 27.2034 12.3943 27.0159 12.5819C26.8284 12.7694 26.723 13.0238 26.723 13.289C26.723 13.5542 26.8284 13.8086 27.0159 13.9961C27.2034 14.1836 27.4578 14.289 27.723 14.289H34.951L33.585 16.868H6.5L5.138 14.291ZM28.4 30.459H23.132V18.87H28.4V30.459ZM11.6 18.87H16.867V30.459H11.6V18.87ZM18.867 18.87H21.131V30.459H18.868L18.867 18.87ZM7.335 18.87H9.6V30.459H7.336L7.335 18.87ZM35.612 32.459V35.722H4.478V32.459H35.612ZM30.399 30.459V18.87H32.664V30.459H30.399Z\" fill=\"currentColor\"></path></svg></div><div class=\"space-y-4 mt-4\"><p><a class=\"card-link line-clamp-2 w-[80%] md:w-90\" href=\"/cameroon/western-cameroon/foumban/attractions/grande-mosquee/a/poi-sig/1560104/355114\"><span class=\"heading-05 font-semibold\">Grande Mosquée</span></a></p><p class=\"text-sm font-semibold uppercase !mt-2\">Cameroon</p><p class=\"relative flex flex-wrap justify-start items-start gap-x-4 gap-y-2 max-w-full label-sm uppercase hidden\"></p><p class=\"relative line-clamp-3\">The octagonal tower and green domes of the mosque are a landmark at the centre of Foumban.</p></div></article></div></li><li class=\"col-span-1 md:col-span-3 lg:col-span-3\"><div class=\"relative\"><article class=\"relative rounded\"><div class=\"relative flex max-w-full items-center justify-center overflow-hidden rounded relative aspect-square\"><img alt=\"\" class=\"max-w-full w-full h-full object-cover rounded relative aspect-square\" data-nimg=\"1\" decoding=\"async\" height=\"400\" loading=\"lazy\" src=\"https://lonelyplanetstatic.imgix.net/marketing/placeholders/placeholder-attractions.jpg?fit=crop&amp;ar=1%3A1&amp;w=1200&amp;auto=format&amp;q=75\" srcset=\"https://lonelyplanetstatic.imgix.net/marketing/placeholders/placeholder-attractions.jpg?fit=crop&amp;ar=1%3A1&amp;w=640&amp;auto=format&amp;q=75 1x, https://lonelyplanetstatic.imgix.net/marketing/placeholders/placeholder-attractions.jpg?fit=crop&amp;ar=1%3A1&amp;w=1200&amp;auto=format&amp;q=75 2x\" style=\"color:transparent\" width=\"600\"/><svg aria-hidden=\"true\" class=\"absolute top-[50%] left-0 right-0 w-24 max-w-[30%] h-auto mx-auto text-white aspect-square transform translate-y-[-50%]\" fill=\"currentColor\" height=\"1em\" viewbox=\"0 0 40 40\" width=\"1em\" xmlns=\"http://www.w3.org/2000/svg\"><path d=\"M20.716 7.34598C20.5338 7.18675 20.3 7.099 20.058 7.099C19.816 7.099 19.5822 7.18675 19.4 7.34598L16.367 9.99499C16.2596 10.0888 16.1735 10.2046 16.1145 10.3345C16.0555 10.4644 16.025 10.6053 16.025 10.748C16.025 10.8906 16.0555 11.0316 16.1145 11.1615C16.1735 11.2914 16.2596 11.4071 16.367 11.501L19.4 14.151C19.5822 14.3102 19.816 14.398 20.058 14.398C20.3 14.398 20.5338 14.3102 20.716 14.151L23.749 11.501C23.8564 11.4071 23.9425 11.2914 24.0015 11.1615C24.0605 11.0316 24.091 10.8906 24.091 10.748C24.091 10.6053 24.0605 10.4644 24.0015 10.3345C23.9425 10.2046 23.8564 10.0888 23.749 9.99499L20.716 7.34598Z\" fill=\"currentColor\"></path><path d=\"M35.071 18.338L37.5 13.759C37.5807 13.6066 37.6206 13.4359 37.6159 13.2635C37.6111 13.0911 37.5619 12.9229 37.4729 12.7751C37.384 12.6274 37.2583 12.5052 37.1082 12.4203C36.958 12.3355 36.7885 12.2909 36.616 12.291H34.023L20.693 1.31798C20.514 1.17064 20.2893 1.09008 20.0575 1.09008C19.8257 1.09008 19.601 1.17064 19.422 1.31798L6.093 12.291H3.477C3.30454 12.2909 3.135 12.3355 2.98485 12.4203C2.83469 12.5052 2.70903 12.6274 2.62006 12.7751C2.5311 12.9229 2.48185 13.0911 2.47711 13.2635C2.47237 13.4359 2.51229 13.6066 2.593 13.759L5.018 18.338C5.09427 18.4783 5.20338 18.598 5.336 18.687V30.459H3.478C3.21279 30.459 2.95843 30.5643 2.7709 30.7519C2.58336 30.9394 2.478 31.1938 2.478 31.459V36.722C2.478 36.9872 2.58336 37.2416 2.7709 37.4291C2.95843 37.6166 3.21279 37.722 3.478 37.722H36.612C36.8772 37.722 37.1316 37.6166 37.3191 37.4291C37.5066 37.2416 37.612 36.9872 37.612 36.722V31.459C37.612 31.1938 37.5066 30.9394 37.3191 30.7519C37.1316 30.5643 36.8772 30.459 36.612 30.459H34.664V18.744C34.8365 18.6514 34.978 18.5102 35.071 18.338ZM5.138 14.291H12.3C12.5652 14.291 12.8196 14.1856 13.0071 13.9981C13.1946 13.8106 13.3 13.5562 13.3 13.291C13.3 13.0258 13.1946 12.7714 13.0071 12.5839C12.8196 12.3963 12.5652 12.291 12.3 12.291H9.24L20.058 3.38398L30.875 12.289H27.723C27.4578 12.289 27.2034 12.3943 27.0159 12.5819C26.8284 12.7694 26.723 13.0238 26.723 13.289C26.723 13.5542 26.8284 13.8086 27.0159 13.9961C27.2034 14.1836 27.4578 14.289 27.723 14.289H34.951L33.585 16.868H6.5L5.138 14.291ZM28.4 30.459H23.132V18.87H28.4V30.459ZM11.6 18.87H16.867V30.459H11.6V18.87ZM18.867 18.87H21.131V30.459H18.868L18.867 18.87ZM7.335 18.87H9.6V30.459H7.336L7.335 18.87ZM35.612 32.459V35.722H4.478V32.459H35.612ZM30.399 30.459V18.87H32.664V30.459H30.399Z\" fill=\"currentColor\"></path></svg></div><div class=\"space-y-4 mt-4\"><p><a class=\"card-link line-clamp-2 w-[80%] md:w-90\" href=\"/cameroon/western-cameroon/douala/attractions/cathedral/a/poi-sig/1322777/355113\"><span class=\"heading-05 font-semibold\">Cathedral</span></a></p><p class=\"text-sm font-semibold uppercase !mt-2\">Cameroon</p><p class=\"relative flex flex-wrap justify-start items-start gap-x-4 gap-y-2 max-w-full label-sm uppercase hidden\"></p><p class=\"relative line-clamp-3\">Built in 1936, Douala's cathedral is impressively large, though plain inside and out.</p></div></article></div></li><li class=\"col-span-1 md:col-span-3 lg:col-span-3\"><div class=\"relative\"><article class=\"relative rounded\"><div class=\"relative flex max-w-full items-center justify-center overflow-hidden rounded relative aspect-square\"><img alt=\"\" class=\"max-w-full w-full h-full object-cover rounded relative aspect-square\" data-nimg=\"1\" decoding=\"async\" height=\"400\" loading=\"lazy\" src=\"https://lonelyplanetstatic.imgix.net/marketing/placeholders/placeholder-attractions.jpg?fit=crop&amp;ar=1%3A1&amp;w=1200&amp;auto=format&amp;q=75\" srcset=\"https://lonelyplanetstatic.imgix.net/marketing/placeholders/placeholder-attractions.jpg?fit=crop&amp;ar=1%3A1&amp;w=640&amp;auto=format&amp;q=75 1x, https://lonelyplanetstatic.imgix.net/marketing/placeholders/placeholder-attractions.jpg?fit=crop&amp;ar=1%3A1&amp;w=1200&amp;auto=format&amp;q=75 2x\" style=\"color:transparent\" width=\"600\"/><svg aria-hidden=\"true\" class=\"absolute top-[50%] left-0 right-0 w-24 max-w-[30%] h-auto mx-auto text-white aspect-square transform translate-y-[-50%]\" fill=\"currentColor\" height=\"1em\" viewbox=\"0 0 40 40\" width=\"1em\" xmlns=\"http://www.w3.org/2000/svg\"><path d=\"M20.716 7.34598C20.5338 7.18675 20.3 7.099 20.058 7.099C19.816 7.099 19.5822 7.18675 19.4 7.34598L16.367 9.99499C16.2596 10.0888 16.1735 10.2046 16.1145 10.3345C16.0555 10.4644 16.025 10.6053 16.025 10.748C16.025 10.8906 16.0555 11.0316 16.1145 11.1615C16.1735 11.2914 16.2596 11.4071 16.367 11.501L19.4 14.151C19.5822 14.3102 19.816 14.398 20.058 14.398C20.3 14.398 20.5338 14.3102 20.716 14.151L23.749 11.501C23.8564 11.4071 23.9425 11.2914 24.0015 11.1615C24.0605 11.0316 24.091 10.8906 24.091 10.748C24.091 10.6053 24.0605 10.4644 24.0015 10.3345C23.9425 10.2046 23.8564 10.0888 23.749 9.99499L20.716 7.34598Z\" fill=\"currentColor\"></path><path d=\"M35.071 18.338L37.5 13.759C37.5807 13.6066 37.6206 13.4359 37.6159 13.2635C37.6111 13.0911 37.5619 12.9229 37.4729 12.7751C37.384 12.6274 37.2583 12.5052 37.1082 12.4203C36.958 12.3355 36.7885 12.2909 36.616 12.291H34.023L20.693 1.31798C20.514 1.17064 20.2893 1.09008 20.0575 1.09008C19.8257 1.09008 19.601 1.17064 19.422 1.31798L6.093 12.291H3.477C3.30454 12.2909 3.135 12.3355 2.98485 12.4203C2.83469 12.5052 2.70903 12.6274 2.62006 12.7751C2.5311 12.9229 2.48185 13.0911 2.47711 13.2635C2.47237 13.4359 2.51229 13.6066 2.593 13.759L5.018 18.338C5.09427 18.4783 5.20338 18.598 5.336 18.687V30.459H3.478C3.21279 30.459 2.95843 30.5643 2.7709 30.7519C2.58336 30.9394 2.478 31.1938 2.478 31.459V36.722C2.478 36.9872 2.58336 37.2416 2.7709 37.4291C2.95843 37.6166 3.21279 37.722 3.478 37.722H36.612C36.8772 37.722 37.1316 37.6166 37.3191 37.4291C37.5066 37.2416 37.612 36.9872 37.612 36.722V31.459C37.612 31.1938 37.5066 30.9394 37.3191 30.7519C37.1316 30.5643 36.8772 30.459 36.612 30.459H34.664V18.744C34.8365 18.6514 34.978 18.5102 35.071 18.338ZM5.138 14.291H12.3C12.5652 14.291 12.8196 14.1856 13.0071 13.9981C13.1946 13.8106 13.3 13.5562 13.3 13.291C13.3 13.0258 13.1946 12.7714 13.0071 12.5839C12.8196 12.3963 12.5652 12.291 12.3 12.291H9.24L20.058 3.38398L30.875 12.289H27.723C27.4578 12.289 27.2034 12.3943 27.0159 12.5819C26.8284 12.7694 26.723 13.0238 26.723 13.289C26.723 13.5542 26.8284 13.8086 27.0159 13.9961C27.2034 14.1836 27.4578 14.289 27.723 14.289H34.951L33.585 16.868H6.5L5.138 14.291ZM28.4 30.459H23.132V18.87H28.4V30.459ZM11.6 18.87H16.867V30.459H11.6V18.87ZM18.867 18.87H21.131V30.459H18.868L18.867 18.87ZM7.335 18.87H9.6V30.459H7.336L7.335 18.87ZM35.612 32.459V35.722H4.478V32.459H35.612ZM30.399 30.459V18.87H32.664V30.459H30.399Z\" fill=\"currentColor\"></path></svg></div><div class=\"space-y-4 mt-4\"><p><a class=\"card-link line-clamp-2 w-[80%] md:w-90\" href=\"/cameroon/western-cameroon/limbe/attractions/old-church/a/poi-sig/1322870/355115\"><span class=\"heading-05 font-semibold\">Old Church</span></a></p><p class=\"text-sm font-semibold uppercase !mt-2\">Cameroon</p><p class=\"relative flex flex-wrap justify-start items-start gap-x-4 gap-y-2 max-w-full label-sm uppercase hidden\"></p><p class=\"relative line-clamp-3\">Historic church facing Down Beach.</p></div></article></div></li><li class=\"col-span-1 md:col-span-3 lg:col-span-3\"><div class=\"relative\"><article class=\"relative rounded\"><div class=\"relative flex max-w-full items-center justify-center overflow-hidden rounded relative aspect-square\"><img alt=\"\" class=\"max-w-full w-full h-full object-cover rounded relative aspect-square\" data-nimg=\"1\" decoding=\"async\" height=\"400\" loading=\"lazy\" src=\"https://lonelyplanetstatic.imgix.net/marketing/placeholders/placeholder-attractions.jpg?fit=crop&amp;ar=1%3A1&amp;w=1200&amp;auto=format&amp;q=75\" srcset=\"https://lonelyplanetstatic.imgix.net/marketing/placeholders/placeholder-attractions.jpg?fit=crop&amp;ar=1%3A1&amp;w=640&amp;auto=format&amp;q=75 1x, https://lonelyplanetstatic.imgix.net/marketing/placeholders/placeholder-attractions.jpg?fit=crop&amp;ar=1%3A1&amp;w=1200&amp;auto=format&amp;q=75 2x\" style=\"color:transparent\" width=\"600\"/><svg aria-hidden=\"true\" class=\"absolute top-[50%] left-0 right-0 w-24 max-w-[30%] h-auto mx-auto text-white aspect-square transform translate-y-[-50%]\" fill=\"currentColor\" height=\"1em\" viewbox=\"0 0 40 40\" width=\"1em\" xmlns=\"http://www.w3.org/2000/svg\"><path d=\"M20.716 7.34598C20.5338 7.18675 20.3 7.099 20.058 7.099C19.816 7.099 19.5822 7.18675 19.4 7.34598L16.367 9.99499C16.2596 10.0888 16.1735 10.2046 16.1145 10.3345C16.0555 10.4644 16.025 10.6053 16.025 10.748C16.025 10.8906 16.0555 11.0316 16.1145 11.1615C16.1735 11.2914 16.2596 11.4071 16.367 11.501L19.4 14.151C19.5822 14.3102 19.816 14.398 20.058 14.398C20.3 14.398 20.5338 14.3102 20.716 14.151L23.749 11.501C23.8564 11.4071 23.9425 11.2914 24.0015 11.1615C24.0605 11.0316 24.091 10.8906 24.091 10.748C24.091 10.6053 24.0605 10.4644 24.0015 10.3345C23.9425 10.2046 23.8564 10.0888 23.749 9.99499L20.716 7.34598Z\" fill=\"currentColor\"></path><path d=\"M35.071 18.338L37.5 13.759C37.5807 13.6066 37.6206 13.4359 37.6159 13.2635C37.6111 13.0911 37.5619 12.9229 37.4729 12.7751C37.384 12.6274 37.2583 12.5052 37.1082 12.4203C36.958 12.3355 36.7885 12.2909 36.616 12.291H34.023L20.693 1.31798C20.514 1.17064 20.2893 1.09008 20.0575 1.09008C19.8257 1.09008 19.601 1.17064 19.422 1.31798L6.093 12.291H3.477C3.30454 12.2909 3.135 12.3355 2.98485 12.4203C2.83469 12.5052 2.70903 12.6274 2.62006 12.7751C2.5311 12.9229 2.48185 13.0911 2.47711 13.2635C2.47237 13.4359 2.51229 13.6066 2.593 13.759L5.018 18.338C5.09427 18.4783 5.20338 18.598 5.336 18.687V30.459H3.478C3.21279 30.459 2.95843 30.5643 2.7709 30.7519C2.58336 30.9394 2.478 31.1938 2.478 31.459V36.722C2.478 36.9872 2.58336 37.2416 2.7709 37.4291C2.95843 37.6166 3.21279 37.722 3.478 37.722H36.612C36.8772 37.722 37.1316 37.6166 37.3191 37.4291C37.5066 37.2416 37.612 36.9872 37.612 36.722V31.459C37.612 31.1938 37.5066 30.9394 37.3191 30.7519C37.1316 30.5643 36.8772 30.459 36.612 30.459H34.664V18.744C34.8365 18.6514 34.978 18.5102 35.071 18.338ZM5.138 14.291H12.3C12.5652 14.291 12.8196 14.1856 13.0071 13.9981C13.1946 13.8106 13.3 13.5562 13.3 13.291C13.3 13.0258 13.1946 12.7714 13.0071 12.5839C12.8196 12.3963 12.5652 12.291 12.3 12.291H9.24L20.058 3.38398L30.875 12.289H27.723C27.4578 12.289 27.2034 12.3943 27.0159 12.5819C26.8284 12.7694 26.723 13.0238 26.723 13.289C26.723 13.5542 26.8284 13.8086 27.0159 13.9961C27.2034 14.1836 27.4578 14.289 27.723 14.289H34.951L33.585 16.868H6.5L5.138 14.291ZM28.4 30.459H23.132V18.87H28.4V30.459ZM11.6 18.87H16.867V30.459H11.6V18.87ZM18.867 18.87H21.131V30.459H18.868L18.867 18.87ZM7.335 18.87H9.6V30.459H7.336L7.335 18.87ZM35.612 32.459V35.722H4.478V32.459H35.612ZM30.399 30.459V18.87H32.664V30.459H30.399Z\" fill=\"currentColor\"></path></svg></div><div class=\"space-y-4 mt-4\"><p><a class=\"card-link line-clamp-2 w-[80%] md:w-90\" href=\"/cameroon/northern-cameroon/ngaoundere/attractions/palais-du-lamido/a/poi-sig/1300468/355108\"><span class=\"heading-05 font-semibold\">Palais du Lamido</span></a></p><p class=\"text-sm font-semibold uppercase !mt-2\">Cameroon</p><p class=\"relative flex flex-wrap justify-start items-start gap-x-4 gap-y-2 max-w-full label-sm uppercase hidden\"></p><p class=\"relative line-clamp-3\">To enter the Palais du Lamido, the palace of the local Muslim ruler, you pass between three pillars stuffed with the remains of individuals who were…</p></div></article></div></li><li class=\"col-span-1 md:col-span-3 lg:col-span-3\"><div class=\"relative\"><article class=\"relative rounded\"><div class=\"relative flex max-w-full items-center justify-center overflow-hidden rounded relative aspect-square\"><img alt=\"\" class=\"max-w-full w-full h-full object-cover rounded relative aspect-square\" data-nimg=\"1\" decoding=\"async\" height=\"400\" loading=\"lazy\" src=\"https://lonelyplanetstatic.imgix.net/marketing/placeholders/placeholder-attractions.jpg?fit=crop&amp;ar=1%3A1&amp;w=1200&amp;auto=format&amp;q=75\" srcset=\"https://lonelyplanetstatic.imgix.net/marketing/placeholders/placeholder-attractions.jpg?fit=crop&amp;ar=1%3A1&amp;w=640&amp;auto=format&amp;q=75 1x, https://lonelyplanetstatic.imgix.net/marketing/placeholders/placeholder-attractions.jpg?fit=crop&amp;ar=1%3A1&amp;w=1200&amp;auto=format&amp;q=75 2x\" style=\"color:transparent\" width=\"600\"/><svg aria-hidden=\"true\" class=\"absolute top-[50%] left-0 right-0 w-24 max-w-[30%] h-auto mx-auto text-white aspect-square transform translate-y-[-50%]\" fill=\"currentColor\" height=\"1em\" viewbox=\"0 0 40 40\" width=\"1em\" xmlns=\"http://www.w3.org/2000/svg\"><path d=\"M20.716 7.34598C20.5338 7.18675 20.3 7.099 20.058 7.099C19.816 7.099 19.5822 7.18675 19.4 7.34598L16.367 9.99499C16.2596 10.0888 16.1735 10.2046 16.1145 10.3345C16.0555 10.4644 16.025 10.6053 16.025 10.748C16.025 10.8906 16.0555 11.0316 16.1145 11.1615C16.1735 11.2914 16.2596 11.4071 16.367 11.501L19.4 14.151C19.5822 14.3102 19.816 14.398 20.058 14.398C20.3 14.398 20.5338 14.3102 20.716 14.151L23.749 11.501C23.8564 11.4071 23.9425 11.2914 24.0015 11.1615C24.0605 11.0316 24.091 10.8906 24.091 10.748C24.091 10.6053 24.0605 10.4644 24.0015 10.3345C23.9425 10.2046 23.8564 10.0888 23.749 9.99499L20.716 7.34598Z\" fill=\"currentColor\"></path><path d=\"M35.071 18.338L37.5 13.759C37.5807 13.6066 37.6206 13.4359 37.6159 13.2635C37.6111 13.0911 37.5619 12.9229 37.4729 12.7751C37.384 12.6274 37.2583 12.5052 37.1082 12.4203C36.958 12.3355 36.7885 12.2909 36.616 12.291H34.023L20.693 1.31798C20.514 1.17064 20.2893 1.09008 20.0575 1.09008C19.8257 1.09008 19.601 1.17064 19.422 1.31798L6.093 12.291H3.477C3.30454 12.2909 3.135 12.3355 2.98485 12.4203C2.83469 12.5052 2.70903 12.6274 2.62006 12.7751C2.5311 12.9229 2.48185 13.0911 2.47711 13.2635C2.47237 13.4359 2.51229 13.6066 2.593 13.759L5.018 18.338C5.09427 18.4783 5.20338 18.598 5.336 18.687V30.459H3.478C3.21279 30.459 2.95843 30.5643 2.7709 30.7519C2.58336 30.9394 2.478 31.1938 2.478 31.459V36.722C2.478 36.9872 2.58336 37.2416 2.7709 37.4291C2.95843 37.6166 3.21279 37.722 3.478 37.722H36.612C36.8772 37.722 37.1316 37.6166 37.3191 37.4291C37.5066 37.2416 37.612 36.9872 37.612 36.722V31.459C37.612 31.1938 37.5066 30.9394 37.3191 30.7519C37.1316 30.5643 36.8772 30.459 36.612 30.459H34.664V18.744C34.8365 18.6514 34.978 18.5102 35.071 18.338ZM5.138 14.291H12.3C12.5652 14.291 12.8196 14.1856 13.0071 13.9981C13.1946 13.8106 13.3 13.5562 13.3 13.291C13.3 13.0258 13.1946 12.7714 13.0071 12.5839C12.8196 12.3963 12.5652 12.291 12.3 12.291H9.24L20.058 3.38398L30.875 12.289H27.723C27.4578 12.289 27.2034 12.3943 27.0159 12.5819C26.8284 12.7694 26.723 13.0238 26.723 13.289C26.723 13.5542 26.8284 13.8086 27.0159 13.9961C27.2034 14.1836 27.4578 14.289 27.723 14.289H34.951L33.585 16.868H6.5L5.138 14.291ZM28.4 30.459H23.132V18.87H28.4V30.459ZM11.6 18.87H16.867V30.459H11.6V18.87ZM18.867 18.87H21.131V30.459H18.868L18.867 18.87ZM7.335 18.87H9.6V30.459H7.336L7.335 18.87ZM35.612 32.459V35.722H4.478V32.459H35.612ZM30.399 30.459V18.87H32.664V30.459H30.399Z\" fill=\"currentColor\"></path></svg></div><div class=\"space-y-4 mt-4\"><p><a class=\"card-link line-clamp-2 w-[80%] md:w-90\" href=\"/cameroon/northern-cameroon/attractions/parc-national-du-waza/a/poi-sig/1300504/1327480\"><span class=\"heading-05 font-semibold\">Parc National du Waza</span></a></p><p class=\"text-sm font-semibold uppercase !mt-2\">Cameroon</p><p class=\"relative flex flex-wrap justify-start items-start gap-x-4 gap-y-2 max-w-full label-sm uppercase hidden\"></p><p class=\"relative line-clamp-3\">Waza National Park is Cameroon's most accessible and rewarding wildlife-viewing experience. Visitors can reasonably expect to see large numbers of…</p></div></article></div></li><li class=\"col-start-1 col-span-12 row-start-auto\"><div class=\"hidden styles_gpt-ad__BVAfH bg-white pb-3\"></div></li></ul>\n"
     ]
    }
   ],
   "source": [
    "# Grab the container with the attraction name inside\n",
    "container = soup.find('ul', class_=\"md:grid space-y-14 md:space-y-0 gap-x-6 gap-y-14 md:grid-cols-12 mb-12\")\n",
    "print(container)"
   ]
  },
  {
   "cell_type": "code",
   "execution_count": 731,
   "metadata": {},
   "outputs": [
    {
     "data": {
      "text/plain": [
       "[<li class=\"col-span-1 md:col-span-3 lg:col-span-3\"><div class=\"relative\"><article class=\"relative rounded\"><div class=\"relative flex max-w-full items-center justify-center overflow-hidden rounded relative aspect-square\"><img alt=\"\" class=\"max-w-full w-full h-full object-cover rounded relative aspect-square\" data-nimg=\"1\" decoding=\"async\" height=\"400\" loading=\"lazy\" src=\"https://lonelyplanetstatic.imgix.net/marketing/placeholders/placeholder-attractions.jpg?fit=crop&amp;ar=1%3A1&amp;w=1200&amp;auto=format&amp;q=75\" srcset=\"https://lonelyplanetstatic.imgix.net/marketing/placeholders/placeholder-attractions.jpg?fit=crop&amp;ar=1%3A1&amp;w=640&amp;auto=format&amp;q=75 1x, https://lonelyplanetstatic.imgix.net/marketing/placeholders/placeholder-attractions.jpg?fit=crop&amp;ar=1%3A1&amp;w=1200&amp;auto=format&amp;q=75 2x\" style=\"color:transparent\" width=\"600\"/><svg aria-hidden=\"true\" class=\"absolute top-[50%] left-0 right-0 w-24 max-w-[30%] h-auto mx-auto text-white aspect-square transform translate-y-[-50%]\" fill=\"currentColor\" height=\"1em\" viewbox=\"0 0 40 40\" width=\"1em\" xmlns=\"http://www.w3.org/2000/svg\"><path d=\"M20.716 7.34598C20.5338 7.18675 20.3 7.099 20.058 7.099C19.816 7.099 19.5822 7.18675 19.4 7.34598L16.367 9.99499C16.2596 10.0888 16.1735 10.2046 16.1145 10.3345C16.0555 10.4644 16.025 10.6053 16.025 10.748C16.025 10.8906 16.0555 11.0316 16.1145 11.1615C16.1735 11.2914 16.2596 11.4071 16.367 11.501L19.4 14.151C19.5822 14.3102 19.816 14.398 20.058 14.398C20.3 14.398 20.5338 14.3102 20.716 14.151L23.749 11.501C23.8564 11.4071 23.9425 11.2914 24.0015 11.1615C24.0605 11.0316 24.091 10.8906 24.091 10.748C24.091 10.6053 24.0605 10.4644 24.0015 10.3345C23.9425 10.2046 23.8564 10.0888 23.749 9.99499L20.716 7.34598Z\" fill=\"currentColor\"></path><path d=\"M35.071 18.338L37.5 13.759C37.5807 13.6066 37.6206 13.4359 37.6159 13.2635C37.6111 13.0911 37.5619 12.9229 37.4729 12.7751C37.384 12.6274 37.2583 12.5052 37.1082 12.4203C36.958 12.3355 36.7885 12.2909 36.616 12.291H34.023L20.693 1.31798C20.514 1.17064 20.2893 1.09008 20.0575 1.09008C19.8257 1.09008 19.601 1.17064 19.422 1.31798L6.093 12.291H3.477C3.30454 12.2909 3.135 12.3355 2.98485 12.4203C2.83469 12.5052 2.70903 12.6274 2.62006 12.7751C2.5311 12.9229 2.48185 13.0911 2.47711 13.2635C2.47237 13.4359 2.51229 13.6066 2.593 13.759L5.018 18.338C5.09427 18.4783 5.20338 18.598 5.336 18.687V30.459H3.478C3.21279 30.459 2.95843 30.5643 2.7709 30.7519C2.58336 30.9394 2.478 31.1938 2.478 31.459V36.722C2.478 36.9872 2.58336 37.2416 2.7709 37.4291C2.95843 37.6166 3.21279 37.722 3.478 37.722H36.612C36.8772 37.722 37.1316 37.6166 37.3191 37.4291C37.5066 37.2416 37.612 36.9872 37.612 36.722V31.459C37.612 31.1938 37.5066 30.9394 37.3191 30.7519C37.1316 30.5643 36.8772 30.459 36.612 30.459H34.664V18.744C34.8365 18.6514 34.978 18.5102 35.071 18.338ZM5.138 14.291H12.3C12.5652 14.291 12.8196 14.1856 13.0071 13.9981C13.1946 13.8106 13.3 13.5562 13.3 13.291C13.3 13.0258 13.1946 12.7714 13.0071 12.5839C12.8196 12.3963 12.5652 12.291 12.3 12.291H9.24L20.058 3.38398L30.875 12.289H27.723C27.4578 12.289 27.2034 12.3943 27.0159 12.5819C26.8284 12.7694 26.723 13.0238 26.723 13.289C26.723 13.5542 26.8284 13.8086 27.0159 13.9961C27.2034 14.1836 27.4578 14.289 27.723 14.289H34.951L33.585 16.868H6.5L5.138 14.291ZM28.4 30.459H23.132V18.87H28.4V30.459ZM11.6 18.87H16.867V30.459H11.6V18.87ZM18.867 18.87H21.131V30.459H18.868L18.867 18.87ZM7.335 18.87H9.6V30.459H7.336L7.335 18.87ZM35.612 32.459V35.722H4.478V32.459H35.612ZM30.399 30.459V18.87H32.664V30.459H30.399Z\" fill=\"currentColor\"></path></svg></div><svg aria-hidden=\"true\" class=\"absolute top-4 left-4 z-10\" fill=\"currentColor\" height=\"40px\" viewbox=\"0 0 40 40\" width=\"40px\" xmlns=\"http://www.w3.org/2000/svg\"><rect fill=\"white\" height=\"28\" rx=\"4\" transform=\"rotate(-45 0.57959 19.5)\" width=\"28\" x=\"0.57959\" y=\"19.5\"></rect><path d=\"M23.5629 27.5891H21.1999L20.4719 25.3461C20.431 25.254 20.3642 25.1758 20.2797 25.1209C20.1952 25.0661 20.0967 25.0369 19.9959 25.0369C19.8952 25.0369 19.7966 25.0661 19.7121 25.1209C19.6276 25.1758 19.5609 25.254 19.5199 25.3461L18.7999 27.5891H16.4369C16.3325 27.5903 16.2311 27.6242 16.1469 27.686C16.0627 27.7479 16 27.8345 15.9676 27.9338C15.9352 28.033 15.9346 28.14 15.9661 28.2396C15.9975 28.3392 16.0594 28.4264 16.1429 28.4891L18.0509 29.8761L17.3219 32.1191C17.2891 32.2196 17.2891 32.3279 17.3217 32.4284C17.3543 32.529 17.418 32.6166 17.5035 32.6787C17.5891 32.7408 17.6921 32.7742 17.7978 32.7741C17.9035 32.774 18.0065 32.7404 18.0919 32.6781L19.9999 31.3001L21.9079 32.6861C21.9933 32.7484 22.0963 32.782 22.202 32.7821C22.3077 32.7822 22.4108 32.7488 22.4963 32.6867C22.5819 32.6246 22.6455 32.537 22.6781 32.4364C22.7108 32.3359 22.7107 32.2276 22.6779 32.1271L21.9489 29.8841L23.8569 28.4971C23.9405 28.4344 24.0023 28.3472 24.0338 28.2476C24.0652 28.148 24.0647 28.041 24.0322 27.9418C23.9998 27.8425 23.9371 27.7559 23.8529 27.694C23.7688 27.6322 23.6673 27.5983 23.5629 27.5971V27.5891Z\" fill=\"#0057d9\"></path><path d=\"M37.851 16.465L23.535 2.14899C22.5974 1.21164 21.3258 0.685059 20 0.685059C18.6742 0.685059 17.4026 1.21164 16.465 2.14899L2.14899 16.465C1.21164 17.4026 0.685059 18.6742 0.685059 20C0.685059 21.3258 1.21164 22.5974 2.14899 23.535L16.465 37.851C17.4026 38.7883 18.6742 39.3149 20 39.3149C21.3258 39.3149 22.5974 38.7883 23.535 37.851L37.851 23.535C38.7883 22.5974 39.3149 21.3258 39.3149 20C39.3149 18.6742 38.7883 17.4026 37.851 16.465ZM36.437 22.121L22.121 36.437C21.5493 36.9819 20.7898 37.2859 20 37.2859C19.2102 37.2859 18.4507 36.9819 17.879 36.437L3.56299 22.121C3.00058 21.5584 2.68463 20.7955 2.68463 20C2.68463 19.2045 3.00058 18.4416 3.56299 17.879L17.879 3.56299C18.4416 3.00058 19.2045 2.68463 20 2.68463C20.7955 2.68463 21.5584 3.00058 22.121 3.56299L36.437 17.879C36.9994 18.4416 37.3154 19.2045 37.3154 20C37.3154 20.7955 36.9994 21.5584 36.437 22.121Z\" fill=\"white\"></path><path d=\"M15.6749 14.7H16.7609V10.788H18.2229V9.82703H14.2129V10.788H15.6749V14.7Z\"></path><path d=\"M19.5541 14.791C19.8059 14.8004 20.0569 14.7577 20.2914 14.6655C20.5258 14.5733 20.7387 14.4335 20.9166 14.2551C21.0944 14.0767 21.2335 13.8634 21.325 13.6286C21.4164 13.3939 21.4584 13.1427 21.4481 12.891C21.4481 12.3897 21.249 11.909 20.8946 11.5545C20.5401 11.2001 20.0594 11.001 19.5581 11.001C19.0569 11.001 18.5761 11.2001 18.2217 11.5545C17.8673 11.909 17.6681 12.3897 17.6681 12.891C17.6575 13.1421 17.6989 13.3928 17.7897 13.6272C17.8806 13.8616 18.0189 14.0747 18.196 14.2531C18.3731 14.4315 18.5851 14.5714 18.8189 14.6639C19.0526 14.7565 19.3029 14.7997 19.5541 14.791ZM19.5541 11.902C20.0351 11.902 20.3961 12.25 20.3961 12.89C20.3961 13.53 20.0351 13.885 19.5541 13.885C19.0731 13.885 18.7261 13.531 18.7261 12.89C18.7261 12.249 19.0811 11.9 19.5541 11.9V11.902Z\"></path><path d=\"M22.9878 14.233C23.1011 14.411 23.2591 14.5562 23.4459 14.6541C23.6328 14.752 23.842 14.7992 24.0528 14.791C24.2839 14.7748 24.5094 14.7123 24.7159 14.6073C24.9224 14.5023 25.1057 14.3569 25.2549 14.1796C25.4042 14.0024 25.5163 13.7971 25.5846 13.5757C25.653 13.3544 25.6762 13.1215 25.6528 12.891C25.6763 12.6605 25.6532 12.4276 25.5849 12.2062C25.5166 11.9848 25.4045 11.7794 25.2553 11.6022C25.106 11.4249 24.9227 11.2795 24.7161 11.1745C24.5095 11.0695 24.284 11.0071 24.0528 10.991C23.8429 10.9828 23.6345 11.0292 23.4478 11.1256C23.2611 11.222 23.1027 11.3651 22.9878 11.541V11.088H21.9648V16.177H22.9878V14.233ZM23.7878 11.902C24.2678 11.902 24.6028 12.257 24.6028 12.902C24.6028 13.547 24.2678 13.89 23.7878 13.89C23.3078 13.89 22.9738 13.542 22.9738 12.902C22.9738 12.262 23.3078 11.9 23.7878 11.9V11.902Z\"></path><path d=\"M11.5998 18.5C11.8437 18.5006 12.0818 18.5747 12.283 18.7126C12.4842 18.8505 12.6392 19.0458 12.7278 19.273L13.6458 18.709C13.459 18.3312 13.1658 18.0163 12.8023 17.803C12.4387 17.5898 12.0207 17.4876 11.5998 17.509C11.2677 17.4979 10.9369 17.5564 10.6287 17.6806C10.3205 17.8048 10.0416 17.9921 9.80999 18.2304C9.57837 18.4687 9.39911 18.7528 9.2837 19.0644C9.16829 19.376 9.11928 19.7083 9.13981 20.04C9.11986 20.3714 9.1693 20.7032 9.28497 21.0144C9.40064 21.3255 9.57999 21.6091 9.81155 21.847C10.0431 22.0848 10.3218 22.2717 10.6297 22.3957C10.9376 22.5197 11.268 22.5781 11.5998 22.567C12.0207 22.5884 12.4387 22.4862 12.8023 22.273C13.1658 22.0598 13.459 21.7448 13.6458 21.367L12.7278 20.803C12.6392 21.0303 12.4842 21.2256 12.283 21.3634C12.0818 21.5013 11.8437 21.5754 11.5998 21.576C11.408 21.5734 11.219 21.5301 11.0453 21.4489C10.8715 21.3677 10.717 21.2505 10.592 21.1051C10.467 20.9597 10.3744 20.7893 10.3202 20.6053C10.266 20.4214 10.2516 20.228 10.2778 20.038C10.2516 19.848 10.266 19.6547 10.3202 19.4707C10.3744 19.2867 10.467 19.1164 10.592 18.9709C10.717 18.8255 10.8715 18.7083 11.0453 18.6271C11.219 18.5459 11.408 18.5026 11.5998 18.5Z\"></path><path d=\"M16.012 18.766C15.8204 18.7554 15.6297 18.7995 15.4622 18.8932C15.2947 18.9868 15.1573 19.1262 15.066 19.295V17.256H14.043V22.476H15.066V20.36C15.0551 20.2706 15.0637 20.1798 15.0912 20.0941C15.1187 20.0083 15.1644 19.9294 15.2251 19.8629C15.2859 19.7965 15.3604 19.7439 15.4434 19.7089C15.5263 19.6738 15.6159 19.6572 15.706 19.66C16.006 19.66 16.242 19.883 16.242 20.301V22.479H17.266V20.117C17.28 19.9442 17.2579 19.7704 17.2011 19.6066C17.1444 19.4428 17.0541 19.2926 16.9362 19.1656C16.8183 19.0385 16.6752 18.9374 16.5161 18.8686C16.357 18.7998 16.1853 18.7649 16.012 18.766Z\"></path><path d=\"M19.634 18.7661C19.258 18.7649 18.8901 18.8753 18.5768 19.0833C18.2636 19.2914 18.0191 19.5877 17.8744 19.9348C17.7297 20.2819 17.6912 20.6641 17.7638 21.033C17.8364 21.402 18.0169 21.7411 18.2824 22.0074C18.5479 22.2737 18.8864 22.4553 19.2551 22.5291C19.6239 22.6029 20.0062 22.5656 20.3537 22.422C20.7013 22.2784 20.9984 22.0348 21.2074 21.7223C21.4164 21.4097 21.528 21.0421 21.528 20.6661C21.5387 20.4142 21.4971 20.1629 21.4058 19.9279C21.3145 19.6929 21.1754 19.4795 20.9975 19.3009C20.8195 19.1224 20.6065 18.9827 20.3718 18.8906C20.1371 18.7986 19.8859 18.7562 19.634 18.7661ZM19.634 21.6661C19.161 21.6661 18.806 21.3111 18.806 20.6711C18.806 20.0311 19.161 19.6821 19.634 19.6821C20.107 19.6821 20.476 20.0301 20.476 20.6711C20.476 21.3121 20.115 21.6621 19.634 21.6621V21.6661Z\"></path><path d=\"M22.5659 17.2419C22.4833 17.2354 22.4002 17.2462 22.3219 17.2734C22.2436 17.3006 22.1718 17.3438 22.111 17.4002C22.0502 17.4565 22.0017 17.5249 21.9687 17.6009C21.9356 17.677 21.9187 17.759 21.9189 17.8419C21.9344 18.002 22.0089 18.1506 22.128 18.2587C22.2471 18.3668 22.4021 18.4267 22.5629 18.4267C22.7238 18.4267 22.8788 18.3668 22.9979 18.2587C23.1169 18.1506 23.1915 18.002 23.2069 17.8419C23.2082 17.7593 23.1921 17.6773 23.1598 17.6012C23.1275 17.5251 23.0796 17.4566 23.0193 17.4001C22.9589 17.3436 22.8874 17.3003 22.8093 17.2731C22.7313 17.2458 22.6484 17.2352 22.5659 17.2419Z\"></path><path d=\"M23.0669 18.864H22.0439V22.477H23.0669V18.864Z\"></path><path d=\"M25.4698 19.671C25.6391 19.6601 25.8073 19.7043 25.9493 19.7972C26.0912 19.8901 26.1991 20.0265 26.2568 20.186L27.1128 19.692C26.9634 19.3907 26.7268 19.1413 26.4338 18.9762C26.1408 18.8111 25.805 18.7378 25.4698 18.766C24.9659 18.766 24.4826 18.9662 24.1263 19.3225C23.77 19.6789 23.5698 20.1621 23.5698 20.666C23.5698 21.17 23.77 21.6532 24.1263 22.0095C24.4826 22.3659 24.9659 22.566 25.4698 22.566C25.8049 22.5941 26.1408 22.5208 26.4337 22.3557C26.7267 22.1906 26.9633 21.9413 27.1128 21.64L26.2568 21.146C26.1993 21.3056 26.0914 21.4422 25.9494 21.5351C25.8074 21.628 25.6391 21.6722 25.4698 21.661C25.0518 21.661 24.6418 21.347 24.6418 20.666C24.6418 19.985 25.0518 19.671 25.4698 19.671Z\"></path><path d=\"M29.134 18.766C28.8889 18.7627 28.6458 18.8104 28.4202 18.9063C28.1946 19.0022 27.9915 19.144 27.8238 19.3228C27.6561 19.5016 27.5275 19.7134 27.4463 19.9447C27.3651 20.176 27.333 20.4217 27.352 20.666C27.3367 20.9183 27.3749 21.171 27.4641 21.4075C27.5533 21.644 27.6914 21.859 27.8695 22.0384C28.0476 22.2178 28.2615 22.3575 28.4974 22.4485C28.7332 22.5394 28.9856 22.5795 29.238 22.566C29.5305 22.5793 29.8218 22.5227 30.0881 22.4009C30.3543 22.2792 30.5877 22.0959 30.769 21.866L30.06 21.288C29.9718 21.4233 29.8492 21.5326 29.7047 21.6046C29.5602 21.6767 29.3991 21.709 29.238 21.698C29.1312 21.7063 29.0239 21.6925 28.9227 21.6575C28.8214 21.6225 28.7285 21.5671 28.6495 21.4947C28.5706 21.4224 28.5073 21.3345 28.4637 21.2367C28.4201 21.1389 28.3971 21.0331 28.396 20.926H30.853C30.86 20.849 30.86 20.745 30.86 20.669C30.8839 20.4281 30.8571 20.1849 30.7812 19.955C30.7053 19.7252 30.582 19.5138 30.4194 19.3344C30.2568 19.1551 30.0584 19.0119 29.837 18.914C29.6156 18.8161 29.3761 18.7657 29.134 18.766ZM28.417 20.242C28.4202 20.1514 28.4414 20.0623 28.4792 19.9799C28.5171 19.8975 28.5709 19.8234 28.6376 19.7619C28.7043 19.7005 28.7825 19.6528 28.8677 19.6218C28.9529 19.5907 29.0434 19.5769 29.134 19.581C29.489 19.581 29.739 19.781 29.834 20.242H28.417Z\"></path></svg><div class=\"space-y-4 mt-4\"><p><a class=\"card-link line-clamp-2 w-[80%] md:w-90\" href=\"/cameroon/western-cameroon/foumban/attractions/palais-royal/a/poi-sig/1300238/355114\"><span class=\"heading-05 font-semibold\">Palais Royal</span></a></p><p class=\"text-sm font-semibold uppercase !mt-2\">Cameroon</p><p class=\"relative flex flex-wrap justify-start items-start gap-x-4 gap-y-2 max-w-full label-sm uppercase hidden\"></p><p class=\"relative line-clamp-3\">The must-see attraction is the sultan's palace, home to the 19th sultan of the Bamoun dynasty. It has a fascinating, well-organised museum providing great…</p></div></article></div></li>,\n",
       " <li class=\"col-span-1 md:col-span-3 lg:col-span-3\"><div class=\"relative\"><article class=\"relative rounded\"><div class=\"relative flex max-w-full items-center justify-center overflow-hidden rounded relative aspect-square\"><img alt=\"\" class=\"max-w-full w-full h-full object-cover rounded relative aspect-square\" data-nimg=\"1\" decoding=\"async\" height=\"400\" loading=\"lazy\" src=\"https://lonelyplanetstatic.imgix.net/marketing/placeholders/placeholder-attractions.jpg?fit=crop&amp;ar=1%3A1&amp;w=1200&amp;auto=format&amp;q=75\" srcset=\"https://lonelyplanetstatic.imgix.net/marketing/placeholders/placeholder-attractions.jpg?fit=crop&amp;ar=1%3A1&amp;w=640&amp;auto=format&amp;q=75 1x, https://lonelyplanetstatic.imgix.net/marketing/placeholders/placeholder-attractions.jpg?fit=crop&amp;ar=1%3A1&amp;w=1200&amp;auto=format&amp;q=75 2x\" style=\"color:transparent\" width=\"600\"/><svg aria-hidden=\"true\" class=\"absolute top-[50%] left-0 right-0 w-24 max-w-[30%] h-auto mx-auto text-white aspect-square transform translate-y-[-50%]\" fill=\"currentColor\" height=\"1em\" viewbox=\"0 0 40 40\" width=\"1em\" xmlns=\"http://www.w3.org/2000/svg\"><path d=\"M20.716 7.34598C20.5338 7.18675 20.3 7.099 20.058 7.099C19.816 7.099 19.5822 7.18675 19.4 7.34598L16.367 9.99499C16.2596 10.0888 16.1735 10.2046 16.1145 10.3345C16.0555 10.4644 16.025 10.6053 16.025 10.748C16.025 10.8906 16.0555 11.0316 16.1145 11.1615C16.1735 11.2914 16.2596 11.4071 16.367 11.501L19.4 14.151C19.5822 14.3102 19.816 14.398 20.058 14.398C20.3 14.398 20.5338 14.3102 20.716 14.151L23.749 11.501C23.8564 11.4071 23.9425 11.2914 24.0015 11.1615C24.0605 11.0316 24.091 10.8906 24.091 10.748C24.091 10.6053 24.0605 10.4644 24.0015 10.3345C23.9425 10.2046 23.8564 10.0888 23.749 9.99499L20.716 7.34598Z\" fill=\"currentColor\"></path><path d=\"M35.071 18.338L37.5 13.759C37.5807 13.6066 37.6206 13.4359 37.6159 13.2635C37.6111 13.0911 37.5619 12.9229 37.4729 12.7751C37.384 12.6274 37.2583 12.5052 37.1082 12.4203C36.958 12.3355 36.7885 12.2909 36.616 12.291H34.023L20.693 1.31798C20.514 1.17064 20.2893 1.09008 20.0575 1.09008C19.8257 1.09008 19.601 1.17064 19.422 1.31798L6.093 12.291H3.477C3.30454 12.2909 3.135 12.3355 2.98485 12.4203C2.83469 12.5052 2.70903 12.6274 2.62006 12.7751C2.5311 12.9229 2.48185 13.0911 2.47711 13.2635C2.47237 13.4359 2.51229 13.6066 2.593 13.759L5.018 18.338C5.09427 18.4783 5.20338 18.598 5.336 18.687V30.459H3.478C3.21279 30.459 2.95843 30.5643 2.7709 30.7519C2.58336 30.9394 2.478 31.1938 2.478 31.459V36.722C2.478 36.9872 2.58336 37.2416 2.7709 37.4291C2.95843 37.6166 3.21279 37.722 3.478 37.722H36.612C36.8772 37.722 37.1316 37.6166 37.3191 37.4291C37.5066 37.2416 37.612 36.9872 37.612 36.722V31.459C37.612 31.1938 37.5066 30.9394 37.3191 30.7519C37.1316 30.5643 36.8772 30.459 36.612 30.459H34.664V18.744C34.8365 18.6514 34.978 18.5102 35.071 18.338ZM5.138 14.291H12.3C12.5652 14.291 12.8196 14.1856 13.0071 13.9981C13.1946 13.8106 13.3 13.5562 13.3 13.291C13.3 13.0258 13.1946 12.7714 13.0071 12.5839C12.8196 12.3963 12.5652 12.291 12.3 12.291H9.24L20.058 3.38398L30.875 12.289H27.723C27.4578 12.289 27.2034 12.3943 27.0159 12.5819C26.8284 12.7694 26.723 13.0238 26.723 13.289C26.723 13.5542 26.8284 13.8086 27.0159 13.9961C27.2034 14.1836 27.4578 14.289 27.723 14.289H34.951L33.585 16.868H6.5L5.138 14.291ZM28.4 30.459H23.132V18.87H28.4V30.459ZM11.6 18.87H16.867V30.459H11.6V18.87ZM18.867 18.87H21.131V30.459H18.868L18.867 18.87ZM7.335 18.87H9.6V30.459H7.336L7.335 18.87ZM35.612 32.459V35.722H4.478V32.459H35.612ZM30.399 30.459V18.87H32.664V30.459H30.399Z\" fill=\"currentColor\"></path></svg></div><svg aria-hidden=\"true\" class=\"absolute top-4 left-4 z-10\" fill=\"currentColor\" height=\"40px\" viewbox=\"0 0 40 40\" width=\"40px\" xmlns=\"http://www.w3.org/2000/svg\"><rect fill=\"white\" height=\"28\" rx=\"4\" transform=\"rotate(-45 0.57959 19.5)\" width=\"28\" x=\"0.57959\" y=\"19.5\"></rect><path d=\"M23.5629 27.5891H21.1999L20.4719 25.3461C20.431 25.254 20.3642 25.1758 20.2797 25.1209C20.1952 25.0661 20.0967 25.0369 19.9959 25.0369C19.8952 25.0369 19.7966 25.0661 19.7121 25.1209C19.6276 25.1758 19.5609 25.254 19.5199 25.3461L18.7999 27.5891H16.4369C16.3325 27.5903 16.2311 27.6242 16.1469 27.686C16.0627 27.7479 16 27.8345 15.9676 27.9338C15.9352 28.033 15.9346 28.14 15.9661 28.2396C15.9975 28.3392 16.0594 28.4264 16.1429 28.4891L18.0509 29.8761L17.3219 32.1191C17.2891 32.2196 17.2891 32.3279 17.3217 32.4284C17.3543 32.529 17.418 32.6166 17.5035 32.6787C17.5891 32.7408 17.6921 32.7742 17.7978 32.7741C17.9035 32.774 18.0065 32.7404 18.0919 32.6781L19.9999 31.3001L21.9079 32.6861C21.9933 32.7484 22.0963 32.782 22.202 32.7821C22.3077 32.7822 22.4108 32.7488 22.4963 32.6867C22.5819 32.6246 22.6455 32.537 22.6781 32.4364C22.7108 32.3359 22.7107 32.2276 22.6779 32.1271L21.9489 29.8841L23.8569 28.4971C23.9405 28.4344 24.0023 28.3472 24.0338 28.2476C24.0652 28.148 24.0647 28.041 24.0322 27.9418C23.9998 27.8425 23.9371 27.7559 23.8529 27.694C23.7688 27.6322 23.6673 27.5983 23.5629 27.5971V27.5891Z\" fill=\"#0057d9\"></path><path d=\"M37.851 16.465L23.535 2.14899C22.5974 1.21164 21.3258 0.685059 20 0.685059C18.6742 0.685059 17.4026 1.21164 16.465 2.14899L2.14899 16.465C1.21164 17.4026 0.685059 18.6742 0.685059 20C0.685059 21.3258 1.21164 22.5974 2.14899 23.535L16.465 37.851C17.4026 38.7883 18.6742 39.3149 20 39.3149C21.3258 39.3149 22.5974 38.7883 23.535 37.851L37.851 23.535C38.7883 22.5974 39.3149 21.3258 39.3149 20C39.3149 18.6742 38.7883 17.4026 37.851 16.465ZM36.437 22.121L22.121 36.437C21.5493 36.9819 20.7898 37.2859 20 37.2859C19.2102 37.2859 18.4507 36.9819 17.879 36.437L3.56299 22.121C3.00058 21.5584 2.68463 20.7955 2.68463 20C2.68463 19.2045 3.00058 18.4416 3.56299 17.879L17.879 3.56299C18.4416 3.00058 19.2045 2.68463 20 2.68463C20.7955 2.68463 21.5584 3.00058 22.121 3.56299L36.437 17.879C36.9994 18.4416 37.3154 19.2045 37.3154 20C37.3154 20.7955 36.9994 21.5584 36.437 22.121Z\" fill=\"white\"></path><path d=\"M15.6749 14.7H16.7609V10.788H18.2229V9.82703H14.2129V10.788H15.6749V14.7Z\"></path><path d=\"M19.5541 14.791C19.8059 14.8004 20.0569 14.7577 20.2914 14.6655C20.5258 14.5733 20.7387 14.4335 20.9166 14.2551C21.0944 14.0767 21.2335 13.8634 21.325 13.6286C21.4164 13.3939 21.4584 13.1427 21.4481 12.891C21.4481 12.3897 21.249 11.909 20.8946 11.5545C20.5401 11.2001 20.0594 11.001 19.5581 11.001C19.0569 11.001 18.5761 11.2001 18.2217 11.5545C17.8673 11.909 17.6681 12.3897 17.6681 12.891C17.6575 13.1421 17.6989 13.3928 17.7897 13.6272C17.8806 13.8616 18.0189 14.0747 18.196 14.2531C18.3731 14.4315 18.5851 14.5714 18.8189 14.6639C19.0526 14.7565 19.3029 14.7997 19.5541 14.791ZM19.5541 11.902C20.0351 11.902 20.3961 12.25 20.3961 12.89C20.3961 13.53 20.0351 13.885 19.5541 13.885C19.0731 13.885 18.7261 13.531 18.7261 12.89C18.7261 12.249 19.0811 11.9 19.5541 11.9V11.902Z\"></path><path d=\"M22.9878 14.233C23.1011 14.411 23.2591 14.5562 23.4459 14.6541C23.6328 14.752 23.842 14.7992 24.0528 14.791C24.2839 14.7748 24.5094 14.7123 24.7159 14.6073C24.9224 14.5023 25.1057 14.3569 25.2549 14.1796C25.4042 14.0024 25.5163 13.7971 25.5846 13.5757C25.653 13.3544 25.6762 13.1215 25.6528 12.891C25.6763 12.6605 25.6532 12.4276 25.5849 12.2062C25.5166 11.9848 25.4045 11.7794 25.2553 11.6022C25.106 11.4249 24.9227 11.2795 24.7161 11.1745C24.5095 11.0695 24.284 11.0071 24.0528 10.991C23.8429 10.9828 23.6345 11.0292 23.4478 11.1256C23.2611 11.222 23.1027 11.3651 22.9878 11.541V11.088H21.9648V16.177H22.9878V14.233ZM23.7878 11.902C24.2678 11.902 24.6028 12.257 24.6028 12.902C24.6028 13.547 24.2678 13.89 23.7878 13.89C23.3078 13.89 22.9738 13.542 22.9738 12.902C22.9738 12.262 23.3078 11.9 23.7878 11.9V11.902Z\"></path><path d=\"M11.5998 18.5C11.8437 18.5006 12.0818 18.5747 12.283 18.7126C12.4842 18.8505 12.6392 19.0458 12.7278 19.273L13.6458 18.709C13.459 18.3312 13.1658 18.0163 12.8023 17.803C12.4387 17.5898 12.0207 17.4876 11.5998 17.509C11.2677 17.4979 10.9369 17.5564 10.6287 17.6806C10.3205 17.8048 10.0416 17.9921 9.80999 18.2304C9.57837 18.4687 9.39911 18.7528 9.2837 19.0644C9.16829 19.376 9.11928 19.7083 9.13981 20.04C9.11986 20.3714 9.1693 20.7032 9.28497 21.0144C9.40064 21.3255 9.57999 21.6091 9.81155 21.847C10.0431 22.0848 10.3218 22.2717 10.6297 22.3957C10.9376 22.5197 11.268 22.5781 11.5998 22.567C12.0207 22.5884 12.4387 22.4862 12.8023 22.273C13.1658 22.0598 13.459 21.7448 13.6458 21.367L12.7278 20.803C12.6392 21.0303 12.4842 21.2256 12.283 21.3634C12.0818 21.5013 11.8437 21.5754 11.5998 21.576C11.408 21.5734 11.219 21.5301 11.0453 21.4489C10.8715 21.3677 10.717 21.2505 10.592 21.1051C10.467 20.9597 10.3744 20.7893 10.3202 20.6053C10.266 20.4214 10.2516 20.228 10.2778 20.038C10.2516 19.848 10.266 19.6547 10.3202 19.4707C10.3744 19.2867 10.467 19.1164 10.592 18.9709C10.717 18.8255 10.8715 18.7083 11.0453 18.6271C11.219 18.5459 11.408 18.5026 11.5998 18.5Z\"></path><path d=\"M16.012 18.766C15.8204 18.7554 15.6297 18.7995 15.4622 18.8932C15.2947 18.9868 15.1573 19.1262 15.066 19.295V17.256H14.043V22.476H15.066V20.36C15.0551 20.2706 15.0637 20.1798 15.0912 20.0941C15.1187 20.0083 15.1644 19.9294 15.2251 19.8629C15.2859 19.7965 15.3604 19.7439 15.4434 19.7089C15.5263 19.6738 15.6159 19.6572 15.706 19.66C16.006 19.66 16.242 19.883 16.242 20.301V22.479H17.266V20.117C17.28 19.9442 17.2579 19.7704 17.2011 19.6066C17.1444 19.4428 17.0541 19.2926 16.9362 19.1656C16.8183 19.0385 16.6752 18.9374 16.5161 18.8686C16.357 18.7998 16.1853 18.7649 16.012 18.766Z\"></path><path d=\"M19.634 18.7661C19.258 18.7649 18.8901 18.8753 18.5768 19.0833C18.2636 19.2914 18.0191 19.5877 17.8744 19.9348C17.7297 20.2819 17.6912 20.6641 17.7638 21.033C17.8364 21.402 18.0169 21.7411 18.2824 22.0074C18.5479 22.2737 18.8864 22.4553 19.2551 22.5291C19.6239 22.6029 20.0062 22.5656 20.3537 22.422C20.7013 22.2784 20.9984 22.0348 21.2074 21.7223C21.4164 21.4097 21.528 21.0421 21.528 20.6661C21.5387 20.4142 21.4971 20.1629 21.4058 19.9279C21.3145 19.6929 21.1754 19.4795 20.9975 19.3009C20.8195 19.1224 20.6065 18.9827 20.3718 18.8906C20.1371 18.7986 19.8859 18.7562 19.634 18.7661ZM19.634 21.6661C19.161 21.6661 18.806 21.3111 18.806 20.6711C18.806 20.0311 19.161 19.6821 19.634 19.6821C20.107 19.6821 20.476 20.0301 20.476 20.6711C20.476 21.3121 20.115 21.6621 19.634 21.6621V21.6661Z\"></path><path d=\"M22.5659 17.2419C22.4833 17.2354 22.4002 17.2462 22.3219 17.2734C22.2436 17.3006 22.1718 17.3438 22.111 17.4002C22.0502 17.4565 22.0017 17.5249 21.9687 17.6009C21.9356 17.677 21.9187 17.759 21.9189 17.8419C21.9344 18.002 22.0089 18.1506 22.128 18.2587C22.2471 18.3668 22.4021 18.4267 22.5629 18.4267C22.7238 18.4267 22.8788 18.3668 22.9979 18.2587C23.1169 18.1506 23.1915 18.002 23.2069 17.8419C23.2082 17.7593 23.1921 17.6773 23.1598 17.6012C23.1275 17.5251 23.0796 17.4566 23.0193 17.4001C22.9589 17.3436 22.8874 17.3003 22.8093 17.2731C22.7313 17.2458 22.6484 17.2352 22.5659 17.2419Z\"></path><path d=\"M23.0669 18.864H22.0439V22.477H23.0669V18.864Z\"></path><path d=\"M25.4698 19.671C25.6391 19.6601 25.8073 19.7043 25.9493 19.7972C26.0912 19.8901 26.1991 20.0265 26.2568 20.186L27.1128 19.692C26.9634 19.3907 26.7268 19.1413 26.4338 18.9762C26.1408 18.8111 25.805 18.7378 25.4698 18.766C24.9659 18.766 24.4826 18.9662 24.1263 19.3225C23.77 19.6789 23.5698 20.1621 23.5698 20.666C23.5698 21.17 23.77 21.6532 24.1263 22.0095C24.4826 22.3659 24.9659 22.566 25.4698 22.566C25.8049 22.5941 26.1408 22.5208 26.4337 22.3557C26.7267 22.1906 26.9633 21.9413 27.1128 21.64L26.2568 21.146C26.1993 21.3056 26.0914 21.4422 25.9494 21.5351C25.8074 21.628 25.6391 21.6722 25.4698 21.661C25.0518 21.661 24.6418 21.347 24.6418 20.666C24.6418 19.985 25.0518 19.671 25.4698 19.671Z\"></path><path d=\"M29.134 18.766C28.8889 18.7627 28.6458 18.8104 28.4202 18.9063C28.1946 19.0022 27.9915 19.144 27.8238 19.3228C27.6561 19.5016 27.5275 19.7134 27.4463 19.9447C27.3651 20.176 27.333 20.4217 27.352 20.666C27.3367 20.9183 27.3749 21.171 27.4641 21.4075C27.5533 21.644 27.6914 21.859 27.8695 22.0384C28.0476 22.2178 28.2615 22.3575 28.4974 22.4485C28.7332 22.5394 28.9856 22.5795 29.238 22.566C29.5305 22.5793 29.8218 22.5227 30.0881 22.4009C30.3543 22.2792 30.5877 22.0959 30.769 21.866L30.06 21.288C29.9718 21.4233 29.8492 21.5326 29.7047 21.6046C29.5602 21.6767 29.3991 21.709 29.238 21.698C29.1312 21.7063 29.0239 21.6925 28.9227 21.6575C28.8214 21.6225 28.7285 21.5671 28.6495 21.4947C28.5706 21.4224 28.5073 21.3345 28.4637 21.2367C28.4201 21.1389 28.3971 21.0331 28.396 20.926H30.853C30.86 20.849 30.86 20.745 30.86 20.669C30.8839 20.4281 30.8571 20.1849 30.7812 19.955C30.7053 19.7252 30.582 19.5138 30.4194 19.3344C30.2568 19.1551 30.0584 19.0119 29.837 18.914C29.6156 18.8161 29.3761 18.7657 29.134 18.766ZM28.417 20.242C28.4202 20.1514 28.4414 20.0623 28.4792 19.9799C28.5171 19.8975 28.5709 19.8234 28.6376 19.7619C28.7043 19.7005 28.7825 19.6528 28.8677 19.6218C28.9529 19.5907 29.0434 19.5769 29.134 19.581C29.489 19.581 29.739 19.781 29.834 20.242H28.417Z\"></path></svg><div class=\"space-y-4 mt-4\"><p><a class=\"card-link line-clamp-2 w-[80%] md:w-90\" href=\"/cameroon/bandjoun/attractions/chefferie/a/poi-sig/1300217/1341707\"><span class=\"heading-05 font-semibold\">Chefferie</span></a></p><p class=\"text-sm font-semibold uppercase !mt-2\">Cameroon</p><p class=\"relative flex flex-wrap justify-start items-start gap-x-4 gap-y-2 max-w-full label-sm uppercase hidden\"></p><p class=\"relative line-clamp-3\">Approached via a ceremonial gate, the compound is centred on a hugely impressive bamboo building, its conical thatched roof supported by wooden pillars…</p></div></article></div></li>,\n",
       " <li class=\"col-span-1 md:col-span-3 lg:col-span-3\"><div class=\"relative\"><article class=\"relative rounded\"><img alt=\"The Royal Palace Museum of the Fon dynasty kings of the Dahomey Empire. The Museum is a UNESCO World Heritage Site. Abomey, Benin. West Africa. (Photo by: Education Images/UIG via Getty Images)\" class=\"max-w-full object-cover rounded relative aspect-square\" data-nimg=\"1\" decoding=\"async\" height=\"400\" loading=\"lazy\" src=\"https://lp-cms-production.imgix.net/2019-06/481660505_master.jpg?fit=crop&amp;ar=1%3A1&amp;w=1200&amp;auto=format&amp;q=75\" srcset=\"https://lp-cms-production.imgix.net/2019-06/481660505_master.jpg?fit=crop&amp;ar=1%3A1&amp;w=640&amp;auto=format&amp;q=75 1x, https://lp-cms-production.imgix.net/2019-06/481660505_master.jpg?fit=crop&amp;ar=1%3A1&amp;w=1200&amp;auto=format&amp;q=75 2x\" style=\"color:transparent\" width=\"600\"/><div class=\"space-y-4 mt-4\"><p><a class=\"card-link line-clamp-2 w-[80%] md:w-90\" href=\"/cameroon/the-ring-road/attractions/fon-s-palace/a/poi-sig/1014679/1327472\"><span class=\"heading-05 font-semibold\">Fon's Palace</span></a></p><p class=\"text-sm font-semibold uppercase !mt-2\">Cameroon</p><p class=\"relative flex flex-wrap justify-start items-start gap-x-4 gap-y-2 max-w-full label-sm uppercase hidden\"></p><p class=\"relative line-clamp-3\">Just north of Bamenda is the large Tikar community of Bafut, traditionally the most powerful of the Grassfields kingdoms. The fon's (local chief's) palace…</p></div></article></div></li>,\n",
       " <li class=\"col-span-1 md:col-span-3 lg:col-span-3\"><div class=\"relative\"><article class=\"relative rounded\"><img alt=\"Mandrill -Mandrillus sphinx-, female, animal portrait, captive, South-West Region, Cameroon\" class=\"max-w-full object-cover rounded relative aspect-square\" data-nimg=\"1\" decoding=\"async\" height=\"400\" loading=\"lazy\" src=\"https://lp-cms-production.imgix.net/2019-06/508490591_super.jpg?fit=crop&amp;ar=1%3A1&amp;w=1200&amp;auto=format&amp;q=75\" srcset=\"https://lp-cms-production.imgix.net/2019-06/508490591_super.jpg?fit=crop&amp;ar=1%3A1&amp;w=640&amp;auto=format&amp;q=75 1x, https://lp-cms-production.imgix.net/2019-06/508490591_super.jpg?fit=crop&amp;ar=1%3A1&amp;w=1200&amp;auto=format&amp;q=75 2x\" style=\"color:transparent\" width=\"600\"/><div class=\"space-y-4 mt-4\"><p><a class=\"card-link line-clamp-2 w-[80%] md:w-90\" href=\"/cameroon/western-cameroon/limbe/attractions/limbe-wildlife-centre/a/poi-sig/1299814/355115\"><span class=\"heading-05 font-semibold\">Limbe Wildlife Centre</span></a></p><p class=\"text-sm font-semibold uppercase !mt-2\">Cameroon</p><p class=\"relative flex flex-wrap justify-start items-start gap-x-4 gap-y-2 max-w-full label-sm uppercase hidden\"></p><p class=\"relative line-clamp-3\">Many zoos in Africa are depressing places, but the Limbe Wildlife Centre is a shining exception. It houses rescued chimpanzees, gorillas, drills and other…</p></div></article></div></li>,\n",
       " <li class=\"col-span-1 md:col-span-3 lg:col-span-3\"><div class=\"relative\"><article class=\"relative rounded\"><div class=\"relative flex max-w-full items-center justify-center overflow-hidden rounded relative aspect-square\"><img alt=\"\" class=\"max-w-full w-full h-full object-cover rounded relative aspect-square\" data-nimg=\"1\" decoding=\"async\" height=\"400\" loading=\"lazy\" src=\"https://lonelyplanetstatic.imgix.net/marketing/placeholders/placeholder-attractions.jpg?fit=crop&amp;ar=1%3A1&amp;w=1200&amp;auto=format&amp;q=75\" srcset=\"https://lonelyplanetstatic.imgix.net/marketing/placeholders/placeholder-attractions.jpg?fit=crop&amp;ar=1%3A1&amp;w=640&amp;auto=format&amp;q=75 1x, https://lonelyplanetstatic.imgix.net/marketing/placeholders/placeholder-attractions.jpg?fit=crop&amp;ar=1%3A1&amp;w=1200&amp;auto=format&amp;q=75 2x\" style=\"color:transparent\" width=\"600\"/><svg aria-hidden=\"true\" class=\"absolute top-[50%] left-0 right-0 w-24 max-w-[30%] h-auto mx-auto text-white aspect-square transform translate-y-[-50%]\" fill=\"currentColor\" height=\"1em\" viewbox=\"0 0 40 40\" width=\"1em\" xmlns=\"http://www.w3.org/2000/svg\"><path d=\"M20.716 7.34598C20.5338 7.18675 20.3 7.099 20.058 7.099C19.816 7.099 19.5822 7.18675 19.4 7.34598L16.367 9.99499C16.2596 10.0888 16.1735 10.2046 16.1145 10.3345C16.0555 10.4644 16.025 10.6053 16.025 10.748C16.025 10.8906 16.0555 11.0316 16.1145 11.1615C16.1735 11.2914 16.2596 11.4071 16.367 11.501L19.4 14.151C19.5822 14.3102 19.816 14.398 20.058 14.398C20.3 14.398 20.5338 14.3102 20.716 14.151L23.749 11.501C23.8564 11.4071 23.9425 11.2914 24.0015 11.1615C24.0605 11.0316 24.091 10.8906 24.091 10.748C24.091 10.6053 24.0605 10.4644 24.0015 10.3345C23.9425 10.2046 23.8564 10.0888 23.749 9.99499L20.716 7.34598Z\" fill=\"currentColor\"></path><path d=\"M35.071 18.338L37.5 13.759C37.5807 13.6066 37.6206 13.4359 37.6159 13.2635C37.6111 13.0911 37.5619 12.9229 37.4729 12.7751C37.384 12.6274 37.2583 12.5052 37.1082 12.4203C36.958 12.3355 36.7885 12.2909 36.616 12.291H34.023L20.693 1.31798C20.514 1.17064 20.2893 1.09008 20.0575 1.09008C19.8257 1.09008 19.601 1.17064 19.422 1.31798L6.093 12.291H3.477C3.30454 12.2909 3.135 12.3355 2.98485 12.4203C2.83469 12.5052 2.70903 12.6274 2.62006 12.7751C2.5311 12.9229 2.48185 13.0911 2.47711 13.2635C2.47237 13.4359 2.51229 13.6066 2.593 13.759L5.018 18.338C5.09427 18.4783 5.20338 18.598 5.336 18.687V30.459H3.478C3.21279 30.459 2.95843 30.5643 2.7709 30.7519C2.58336 30.9394 2.478 31.1938 2.478 31.459V36.722C2.478 36.9872 2.58336 37.2416 2.7709 37.4291C2.95843 37.6166 3.21279 37.722 3.478 37.722H36.612C36.8772 37.722 37.1316 37.6166 37.3191 37.4291C37.5066 37.2416 37.612 36.9872 37.612 36.722V31.459C37.612 31.1938 37.5066 30.9394 37.3191 30.7519C37.1316 30.5643 36.8772 30.459 36.612 30.459H34.664V18.744C34.8365 18.6514 34.978 18.5102 35.071 18.338ZM5.138 14.291H12.3C12.5652 14.291 12.8196 14.1856 13.0071 13.9981C13.1946 13.8106 13.3 13.5562 13.3 13.291C13.3 13.0258 13.1946 12.7714 13.0071 12.5839C12.8196 12.3963 12.5652 12.291 12.3 12.291H9.24L20.058 3.38398L30.875 12.289H27.723C27.4578 12.289 27.2034 12.3943 27.0159 12.5819C26.8284 12.7694 26.723 13.0238 26.723 13.289C26.723 13.5542 26.8284 13.8086 27.0159 13.9961C27.2034 14.1836 27.4578 14.289 27.723 14.289H34.951L33.585 16.868H6.5L5.138 14.291ZM28.4 30.459H23.132V18.87H28.4V30.459ZM11.6 18.87H16.867V30.459H11.6V18.87ZM18.867 18.87H21.131V30.459H18.868L18.867 18.87ZM7.335 18.87H9.6V30.459H7.336L7.335 18.87ZM35.612 32.459V35.722H4.478V32.459H35.612ZM30.399 30.459V18.87H32.664V30.459H30.399Z\" fill=\"currentColor\"></path></svg></div><div class=\"space-y-4 mt-4\"><p><a class=\"card-link line-clamp-2 w-[80%] md:w-90\" href=\"/cameroon/western-cameroon/limbe/attractions/botanical-gardens/a/poi-sig/1299817/355115\"><span class=\"heading-05 font-semibold\">Botanical Gardens</span></a></p><p class=\"text-sm font-semibold uppercase !mt-2\">Cameroon</p><p class=\"relative flex flex-wrap justify-start items-start gap-x-4 gap-y-2 max-w-full label-sm uppercase hidden\"></p><p class=\"relative line-clamp-3\">Limbe's Botanical Gardens, the second oldest in Africa, are the home of, among others, cinnamon, nutmeg, mango, ancient cycads and an unnamed tree that…</p></div></article></div></li>,\n",
       " <li class=\"col-span-1 md:col-span-3 lg:col-span-3\"><div class=\"relative\"><article class=\"relative rounded\"><div class=\"relative flex max-w-full items-center justify-center overflow-hidden rounded relative aspect-square\"><img alt=\"\" class=\"max-w-full w-full h-full object-cover rounded relative aspect-square\" data-nimg=\"1\" decoding=\"async\" height=\"400\" loading=\"lazy\" src=\"https://lonelyplanetstatic.imgix.net/marketing/placeholders/placeholder-attractions.jpg?fit=crop&amp;ar=1%3A1&amp;w=1200&amp;auto=format&amp;q=75\" srcset=\"https://lonelyplanetstatic.imgix.net/marketing/placeholders/placeholder-attractions.jpg?fit=crop&amp;ar=1%3A1&amp;w=640&amp;auto=format&amp;q=75 1x, https://lonelyplanetstatic.imgix.net/marketing/placeholders/placeholder-attractions.jpg?fit=crop&amp;ar=1%3A1&amp;w=1200&amp;auto=format&amp;q=75 2x\" style=\"color:transparent\" width=\"600\"/><svg aria-hidden=\"true\" class=\"absolute top-[50%] left-0 right-0 w-24 max-w-[30%] h-auto mx-auto text-white aspect-square transform translate-y-[-50%]\" fill=\"currentColor\" height=\"1em\" viewbox=\"0 0 40 40\" width=\"1em\" xmlns=\"http://www.w3.org/2000/svg\"><path d=\"M20.716 7.34598C20.5338 7.18675 20.3 7.099 20.058 7.099C19.816 7.099 19.5822 7.18675 19.4 7.34598L16.367 9.99499C16.2596 10.0888 16.1735 10.2046 16.1145 10.3345C16.0555 10.4644 16.025 10.6053 16.025 10.748C16.025 10.8906 16.0555 11.0316 16.1145 11.1615C16.1735 11.2914 16.2596 11.4071 16.367 11.501L19.4 14.151C19.5822 14.3102 19.816 14.398 20.058 14.398C20.3 14.398 20.5338 14.3102 20.716 14.151L23.749 11.501C23.8564 11.4071 23.9425 11.2914 24.0015 11.1615C24.0605 11.0316 24.091 10.8906 24.091 10.748C24.091 10.6053 24.0605 10.4644 24.0015 10.3345C23.9425 10.2046 23.8564 10.0888 23.749 9.99499L20.716 7.34598Z\" fill=\"currentColor\"></path><path d=\"M35.071 18.338L37.5 13.759C37.5807 13.6066 37.6206 13.4359 37.6159 13.2635C37.6111 13.0911 37.5619 12.9229 37.4729 12.7751C37.384 12.6274 37.2583 12.5052 37.1082 12.4203C36.958 12.3355 36.7885 12.2909 36.616 12.291H34.023L20.693 1.31798C20.514 1.17064 20.2893 1.09008 20.0575 1.09008C19.8257 1.09008 19.601 1.17064 19.422 1.31798L6.093 12.291H3.477C3.30454 12.2909 3.135 12.3355 2.98485 12.4203C2.83469 12.5052 2.70903 12.6274 2.62006 12.7751C2.5311 12.9229 2.48185 13.0911 2.47711 13.2635C2.47237 13.4359 2.51229 13.6066 2.593 13.759L5.018 18.338C5.09427 18.4783 5.20338 18.598 5.336 18.687V30.459H3.478C3.21279 30.459 2.95843 30.5643 2.7709 30.7519C2.58336 30.9394 2.478 31.1938 2.478 31.459V36.722C2.478 36.9872 2.58336 37.2416 2.7709 37.4291C2.95843 37.6166 3.21279 37.722 3.478 37.722H36.612C36.8772 37.722 37.1316 37.6166 37.3191 37.4291C37.5066 37.2416 37.612 36.9872 37.612 36.722V31.459C37.612 31.1938 37.5066 30.9394 37.3191 30.7519C37.1316 30.5643 36.8772 30.459 36.612 30.459H34.664V18.744C34.8365 18.6514 34.978 18.5102 35.071 18.338ZM5.138 14.291H12.3C12.5652 14.291 12.8196 14.1856 13.0071 13.9981C13.1946 13.8106 13.3 13.5562 13.3 13.291C13.3 13.0258 13.1946 12.7714 13.0071 12.5839C12.8196 12.3963 12.5652 12.291 12.3 12.291H9.24L20.058 3.38398L30.875 12.289H27.723C27.4578 12.289 27.2034 12.3943 27.0159 12.5819C26.8284 12.7694 26.723 13.0238 26.723 13.289C26.723 13.5542 26.8284 13.8086 27.0159 13.9961C27.2034 14.1836 27.4578 14.289 27.723 14.289H34.951L33.585 16.868H6.5L5.138 14.291ZM28.4 30.459H23.132V18.87H28.4V30.459ZM11.6 18.87H16.867V30.459H11.6V18.87ZM18.867 18.87H21.131V30.459H18.868L18.867 18.87ZM7.335 18.87H9.6V30.459H7.336L7.335 18.87ZM35.612 32.459V35.722H4.478V32.459H35.612ZM30.399 30.459V18.87H32.664V30.459H30.399Z\" fill=\"currentColor\"></path></svg></div><div class=\"space-y-4 mt-4\"><p><a class=\"card-link line-clamp-2 w-[80%] md:w-90\" href=\"/cameroon/campo/attractions/parc-national-de-campo-ma-an/a/poi-sig/1556902/1327503\"><span class=\"heading-05 font-semibold\">Parc National de Campo-Ma'an</span></a></p><p class=\"text-sm font-semibold uppercase !mt-2\">Cameroon</p><p class=\"relative flex flex-wrap justify-start items-start gap-x-4 gap-y-2 max-w-full label-sm uppercase hidden\"></p><p class=\"relative line-clamp-3\">Campo-Ma'an comprises 7700 sq km of protected biodiverse rainforest, sheltering many wonderful plants and animals, including buffaloes, forest elephants,…</p></div></article></div></li>,\n",
       " <li class=\"col-span-1 md:col-span-3 lg:col-span-3\"><div class=\"relative\"><article class=\"relative rounded\"><div class=\"relative flex max-w-full items-center justify-center overflow-hidden rounded relative aspect-square\"><img alt=\"\" class=\"max-w-full w-full h-full object-cover rounded relative aspect-square\" data-nimg=\"1\" decoding=\"async\" height=\"400\" loading=\"lazy\" src=\"https://lonelyplanetstatic.imgix.net/marketing/placeholders/placeholder-attractions.jpg?fit=crop&amp;ar=1%3A1&amp;w=1200&amp;auto=format&amp;q=75\" srcset=\"https://lonelyplanetstatic.imgix.net/marketing/placeholders/placeholder-attractions.jpg?fit=crop&amp;ar=1%3A1&amp;w=640&amp;auto=format&amp;q=75 1x, https://lonelyplanetstatic.imgix.net/marketing/placeholders/placeholder-attractions.jpg?fit=crop&amp;ar=1%3A1&amp;w=1200&amp;auto=format&amp;q=75 2x\" style=\"color:transparent\" width=\"600\"/><svg aria-hidden=\"true\" class=\"absolute top-[50%] left-0 right-0 w-24 max-w-[30%] h-auto mx-auto text-white aspect-square transform translate-y-[-50%]\" fill=\"currentColor\" height=\"1em\" viewbox=\"0 0 40 40\" width=\"1em\" xmlns=\"http://www.w3.org/2000/svg\"><path d=\"M20.716 7.34598C20.5338 7.18675 20.3 7.099 20.058 7.099C19.816 7.099 19.5822 7.18675 19.4 7.34598L16.367 9.99499C16.2596 10.0888 16.1735 10.2046 16.1145 10.3345C16.0555 10.4644 16.025 10.6053 16.025 10.748C16.025 10.8906 16.0555 11.0316 16.1145 11.1615C16.1735 11.2914 16.2596 11.4071 16.367 11.501L19.4 14.151C19.5822 14.3102 19.816 14.398 20.058 14.398C20.3 14.398 20.5338 14.3102 20.716 14.151L23.749 11.501C23.8564 11.4071 23.9425 11.2914 24.0015 11.1615C24.0605 11.0316 24.091 10.8906 24.091 10.748C24.091 10.6053 24.0605 10.4644 24.0015 10.3345C23.9425 10.2046 23.8564 10.0888 23.749 9.99499L20.716 7.34598Z\" fill=\"currentColor\"></path><path d=\"M35.071 18.338L37.5 13.759C37.5807 13.6066 37.6206 13.4359 37.6159 13.2635C37.6111 13.0911 37.5619 12.9229 37.4729 12.7751C37.384 12.6274 37.2583 12.5052 37.1082 12.4203C36.958 12.3355 36.7885 12.2909 36.616 12.291H34.023L20.693 1.31798C20.514 1.17064 20.2893 1.09008 20.0575 1.09008C19.8257 1.09008 19.601 1.17064 19.422 1.31798L6.093 12.291H3.477C3.30454 12.2909 3.135 12.3355 2.98485 12.4203C2.83469 12.5052 2.70903 12.6274 2.62006 12.7751C2.5311 12.9229 2.48185 13.0911 2.47711 13.2635C2.47237 13.4359 2.51229 13.6066 2.593 13.759L5.018 18.338C5.09427 18.4783 5.20338 18.598 5.336 18.687V30.459H3.478C3.21279 30.459 2.95843 30.5643 2.7709 30.7519C2.58336 30.9394 2.478 31.1938 2.478 31.459V36.722C2.478 36.9872 2.58336 37.2416 2.7709 37.4291C2.95843 37.6166 3.21279 37.722 3.478 37.722H36.612C36.8772 37.722 37.1316 37.6166 37.3191 37.4291C37.5066 37.2416 37.612 36.9872 37.612 36.722V31.459C37.612 31.1938 37.5066 30.9394 37.3191 30.7519C37.1316 30.5643 36.8772 30.459 36.612 30.459H34.664V18.744C34.8365 18.6514 34.978 18.5102 35.071 18.338ZM5.138 14.291H12.3C12.5652 14.291 12.8196 14.1856 13.0071 13.9981C13.1946 13.8106 13.3 13.5562 13.3 13.291C13.3 13.0258 13.1946 12.7714 13.0071 12.5839C12.8196 12.3963 12.5652 12.291 12.3 12.291H9.24L20.058 3.38398L30.875 12.289H27.723C27.4578 12.289 27.2034 12.3943 27.0159 12.5819C26.8284 12.7694 26.723 13.0238 26.723 13.289C26.723 13.5542 26.8284 13.8086 27.0159 13.9961C27.2034 14.1836 27.4578 14.289 27.723 14.289H34.951L33.585 16.868H6.5L5.138 14.291ZM28.4 30.459H23.132V18.87H28.4V30.459ZM11.6 18.87H16.867V30.459H11.6V18.87ZM18.867 18.87H21.131V30.459H18.868L18.867 18.87ZM7.335 18.87H9.6V30.459H7.336L7.335 18.87ZM35.612 32.459V35.722H4.478V32.459H35.612ZM30.399 30.459V18.87H32.664V30.459H30.399Z\" fill=\"currentColor\"></path></svg></div><div class=\"space-y-4 mt-4\"><p><a class=\"card-link line-clamp-2 w-[80%] md:w-90\" href=\"/cameroon/southern-cameroon/kribi/attractions/chutes-de-la-lobe/a/poi-sig/1556887/355110\"><span class=\"heading-05 font-semibold\">Chutes de la Lobé</span></a></p><p class=\"text-sm font-semibold uppercase !mt-2\">Cameroon</p><p class=\"relative flex flex-wrap justify-start items-start gap-x-4 gap-y-2 max-w-full label-sm uppercase hidden\"></p><p class=\"relative line-clamp-3\">The Chutes de la Lobé are an impressive set of waterfalls that empty directly into the sea – it's a beautiful sight. Take a moto-taxi (CFA500), or make a…</p></div></article></div></li>,\n",
       " <li class=\"col-span-1 md:col-span-3 lg:col-span-3\"><div class=\"relative\"><article class=\"relative rounded\"><div class=\"relative flex max-w-full items-center justify-center overflow-hidden rounded relative aspect-square\"><img alt=\"\" class=\"max-w-full w-full h-full object-cover rounded relative aspect-square\" data-nimg=\"1\" decoding=\"async\" height=\"400\" loading=\"lazy\" src=\"https://lonelyplanetstatic.imgix.net/marketing/placeholders/placeholder-attractions.jpg?fit=crop&amp;ar=1%3A1&amp;w=1200&amp;auto=format&amp;q=75\" srcset=\"https://lonelyplanetstatic.imgix.net/marketing/placeholders/placeholder-attractions.jpg?fit=crop&amp;ar=1%3A1&amp;w=640&amp;auto=format&amp;q=75 1x, https://lonelyplanetstatic.imgix.net/marketing/placeholders/placeholder-attractions.jpg?fit=crop&amp;ar=1%3A1&amp;w=1200&amp;auto=format&amp;q=75 2x\" style=\"color:transparent\" width=\"600\"/><svg aria-hidden=\"true\" class=\"absolute top-[50%] left-0 right-0 w-24 max-w-[30%] h-auto mx-auto text-white aspect-square transform translate-y-[-50%]\" fill=\"currentColor\" height=\"1em\" viewbox=\"0 0 40 40\" width=\"1em\" xmlns=\"http://www.w3.org/2000/svg\"><path d=\"M20.716 7.34598C20.5338 7.18675 20.3 7.099 20.058 7.099C19.816 7.099 19.5822 7.18675 19.4 7.34598L16.367 9.99499C16.2596 10.0888 16.1735 10.2046 16.1145 10.3345C16.0555 10.4644 16.025 10.6053 16.025 10.748C16.025 10.8906 16.0555 11.0316 16.1145 11.1615C16.1735 11.2914 16.2596 11.4071 16.367 11.501L19.4 14.151C19.5822 14.3102 19.816 14.398 20.058 14.398C20.3 14.398 20.5338 14.3102 20.716 14.151L23.749 11.501C23.8564 11.4071 23.9425 11.2914 24.0015 11.1615C24.0605 11.0316 24.091 10.8906 24.091 10.748C24.091 10.6053 24.0605 10.4644 24.0015 10.3345C23.9425 10.2046 23.8564 10.0888 23.749 9.99499L20.716 7.34598Z\" fill=\"currentColor\"></path><path d=\"M35.071 18.338L37.5 13.759C37.5807 13.6066 37.6206 13.4359 37.6159 13.2635C37.6111 13.0911 37.5619 12.9229 37.4729 12.7751C37.384 12.6274 37.2583 12.5052 37.1082 12.4203C36.958 12.3355 36.7885 12.2909 36.616 12.291H34.023L20.693 1.31798C20.514 1.17064 20.2893 1.09008 20.0575 1.09008C19.8257 1.09008 19.601 1.17064 19.422 1.31798L6.093 12.291H3.477C3.30454 12.2909 3.135 12.3355 2.98485 12.4203C2.83469 12.5052 2.70903 12.6274 2.62006 12.7751C2.5311 12.9229 2.48185 13.0911 2.47711 13.2635C2.47237 13.4359 2.51229 13.6066 2.593 13.759L5.018 18.338C5.09427 18.4783 5.20338 18.598 5.336 18.687V30.459H3.478C3.21279 30.459 2.95843 30.5643 2.7709 30.7519C2.58336 30.9394 2.478 31.1938 2.478 31.459V36.722C2.478 36.9872 2.58336 37.2416 2.7709 37.4291C2.95843 37.6166 3.21279 37.722 3.478 37.722H36.612C36.8772 37.722 37.1316 37.6166 37.3191 37.4291C37.5066 37.2416 37.612 36.9872 37.612 36.722V31.459C37.612 31.1938 37.5066 30.9394 37.3191 30.7519C37.1316 30.5643 36.8772 30.459 36.612 30.459H34.664V18.744C34.8365 18.6514 34.978 18.5102 35.071 18.338ZM5.138 14.291H12.3C12.5652 14.291 12.8196 14.1856 13.0071 13.9981C13.1946 13.8106 13.3 13.5562 13.3 13.291C13.3 13.0258 13.1946 12.7714 13.0071 12.5839C12.8196 12.3963 12.5652 12.291 12.3 12.291H9.24L20.058 3.38398L30.875 12.289H27.723C27.4578 12.289 27.2034 12.3943 27.0159 12.5819C26.8284 12.7694 26.723 13.0238 26.723 13.289C26.723 13.5542 26.8284 13.8086 27.0159 13.9961C27.2034 14.1836 27.4578 14.289 27.723 14.289H34.951L33.585 16.868H6.5L5.138 14.291ZM28.4 30.459H23.132V18.87H28.4V30.459ZM11.6 18.87H16.867V30.459H11.6V18.87ZM18.867 18.87H21.131V30.459H18.868L18.867 18.87ZM7.335 18.87H9.6V30.459H7.336L7.335 18.87ZM35.612 32.459V35.722H4.478V32.459H35.612ZM30.399 30.459V18.87H32.664V30.459H30.399Z\" fill=\"currentColor\"></path></svg></div><div class=\"space-y-4 mt-4\"><p><a class=\"card-link line-clamp-2 w-[80%] md:w-90\" href=\"/cameroon/western-cameroon/douala/attractions/espace-doual-art/a/poi-sig/1341839/355113\"><span class=\"heading-05 font-semibold\">Espace Doual'art</span></a></p><p class=\"text-sm font-semibold uppercase !mt-2\">Cameroon</p><p class=\"relative flex flex-wrap justify-start items-start gap-x-4 gap-y-2 max-w-full label-sm uppercase hidden\"></p><p class=\"relative line-clamp-3\">Well worth dropping into if you're nearby in Douala, this contemporary art space hosts changing displays of work from all over Cameroon and the rest of…</p></div></article></div></li>,\n",
       " <li class=\"col-span-1 md:col-span-3 lg:col-span-3\"><div class=\"relative\"><article class=\"relative rounded\"><div class=\"relative flex max-w-full items-center justify-center overflow-hidden rounded relative aspect-square\"><img alt=\"\" class=\"max-w-full w-full h-full object-cover rounded relative aspect-square\" data-nimg=\"1\" decoding=\"async\" height=\"400\" loading=\"lazy\" src=\"https://lonelyplanetstatic.imgix.net/marketing/placeholders/placeholder-attractions.jpg?fit=crop&amp;ar=1%3A1&amp;w=1200&amp;auto=format&amp;q=75\" srcset=\"https://lonelyplanetstatic.imgix.net/marketing/placeholders/placeholder-attractions.jpg?fit=crop&amp;ar=1%3A1&amp;w=640&amp;auto=format&amp;q=75 1x, https://lonelyplanetstatic.imgix.net/marketing/placeholders/placeholder-attractions.jpg?fit=crop&amp;ar=1%3A1&amp;w=1200&amp;auto=format&amp;q=75 2x\" style=\"color:transparent\" width=\"600\"/><svg aria-hidden=\"true\" class=\"absolute top-[50%] left-0 right-0 w-24 max-w-[30%] h-auto mx-auto text-white aspect-square transform translate-y-[-50%]\" fill=\"currentColor\" height=\"1em\" viewbox=\"0 0 40 40\" width=\"1em\" xmlns=\"http://www.w3.org/2000/svg\"><path d=\"M20.716 7.34598C20.5338 7.18675 20.3 7.099 20.058 7.099C19.816 7.099 19.5822 7.18675 19.4 7.34598L16.367 9.99499C16.2596 10.0888 16.1735 10.2046 16.1145 10.3345C16.0555 10.4644 16.025 10.6053 16.025 10.748C16.025 10.8906 16.0555 11.0316 16.1145 11.1615C16.1735 11.2914 16.2596 11.4071 16.367 11.501L19.4 14.151C19.5822 14.3102 19.816 14.398 20.058 14.398C20.3 14.398 20.5338 14.3102 20.716 14.151L23.749 11.501C23.8564 11.4071 23.9425 11.2914 24.0015 11.1615C24.0605 11.0316 24.091 10.8906 24.091 10.748C24.091 10.6053 24.0605 10.4644 24.0015 10.3345C23.9425 10.2046 23.8564 10.0888 23.749 9.99499L20.716 7.34598Z\" fill=\"currentColor\"></path><path d=\"M35.071 18.338L37.5 13.759C37.5807 13.6066 37.6206 13.4359 37.6159 13.2635C37.6111 13.0911 37.5619 12.9229 37.4729 12.7751C37.384 12.6274 37.2583 12.5052 37.1082 12.4203C36.958 12.3355 36.7885 12.2909 36.616 12.291H34.023L20.693 1.31798C20.514 1.17064 20.2893 1.09008 20.0575 1.09008C19.8257 1.09008 19.601 1.17064 19.422 1.31798L6.093 12.291H3.477C3.30454 12.2909 3.135 12.3355 2.98485 12.4203C2.83469 12.5052 2.70903 12.6274 2.62006 12.7751C2.5311 12.9229 2.48185 13.0911 2.47711 13.2635C2.47237 13.4359 2.51229 13.6066 2.593 13.759L5.018 18.338C5.09427 18.4783 5.20338 18.598 5.336 18.687V30.459H3.478C3.21279 30.459 2.95843 30.5643 2.7709 30.7519C2.58336 30.9394 2.478 31.1938 2.478 31.459V36.722C2.478 36.9872 2.58336 37.2416 2.7709 37.4291C2.95843 37.6166 3.21279 37.722 3.478 37.722H36.612C36.8772 37.722 37.1316 37.6166 37.3191 37.4291C37.5066 37.2416 37.612 36.9872 37.612 36.722V31.459C37.612 31.1938 37.5066 30.9394 37.3191 30.7519C37.1316 30.5643 36.8772 30.459 36.612 30.459H34.664V18.744C34.8365 18.6514 34.978 18.5102 35.071 18.338ZM5.138 14.291H12.3C12.5652 14.291 12.8196 14.1856 13.0071 13.9981C13.1946 13.8106 13.3 13.5562 13.3 13.291C13.3 13.0258 13.1946 12.7714 13.0071 12.5839C12.8196 12.3963 12.5652 12.291 12.3 12.291H9.24L20.058 3.38398L30.875 12.289H27.723C27.4578 12.289 27.2034 12.3943 27.0159 12.5819C26.8284 12.7694 26.723 13.0238 26.723 13.289C26.723 13.5542 26.8284 13.8086 27.0159 13.9961C27.2034 14.1836 27.4578 14.289 27.723 14.289H34.951L33.585 16.868H6.5L5.138 14.291ZM28.4 30.459H23.132V18.87H28.4V30.459ZM11.6 18.87H16.867V30.459H11.6V18.87ZM18.867 18.87H21.131V30.459H18.868L18.867 18.87ZM7.335 18.87H9.6V30.459H7.336L7.335 18.87ZM35.612 32.459V35.722H4.478V32.459H35.612ZM30.399 30.459V18.87H32.664V30.459H30.399Z\" fill=\"currentColor\"></path></svg></div><div class=\"space-y-4 mt-4\"><p><a class=\"card-link line-clamp-2 w-[80%] md:w-90\" href=\"/cameroon/western-cameroon/foumban/attractions/musee-des-arts-et-traditions-bamoun/a/poi-sig/1300241/355114\"><span class=\"heading-05 font-semibold\">Musée des Arts et Traditions Bamoun</span></a></p><p class=\"text-sm font-semibold uppercase !mt-2\">Cameroon</p><p class=\"relative flex flex-wrap justify-start items-start gap-x-4 gap-y-2 max-w-full label-sm uppercase hidden\"></p><p class=\"relative line-clamp-3\">Located in the Village des Artisans, this small museum houses a private collection of art and historical artefacts.</p></div></article></div></li>,\n",
       " <li class=\"col-span-1 md:col-span-3 lg:col-span-3\"><div class=\"relative\"><article class=\"relative rounded\"><div class=\"relative flex max-w-full items-center justify-center overflow-hidden rounded relative aspect-square\"><img alt=\"\" class=\"max-w-full w-full h-full object-cover rounded relative aspect-square\" data-nimg=\"1\" decoding=\"async\" height=\"400\" loading=\"lazy\" src=\"https://lonelyplanetstatic.imgix.net/marketing/placeholders/placeholder-attractions.jpg?fit=crop&amp;ar=1%3A1&amp;w=1200&amp;auto=format&amp;q=75\" srcset=\"https://lonelyplanetstatic.imgix.net/marketing/placeholders/placeholder-attractions.jpg?fit=crop&amp;ar=1%3A1&amp;w=640&amp;auto=format&amp;q=75 1x, https://lonelyplanetstatic.imgix.net/marketing/placeholders/placeholder-attractions.jpg?fit=crop&amp;ar=1%3A1&amp;w=1200&amp;auto=format&amp;q=75 2x\" style=\"color:transparent\" width=\"600\"/><svg aria-hidden=\"true\" class=\"absolute top-[50%] left-0 right-0 w-24 max-w-[30%] h-auto mx-auto text-white aspect-square transform translate-y-[-50%]\" fill=\"currentColor\" height=\"1em\" viewbox=\"0 0 40 40\" width=\"1em\" xmlns=\"http://www.w3.org/2000/svg\"><path d=\"M20.716 7.34598C20.5338 7.18675 20.3 7.099 20.058 7.099C19.816 7.099 19.5822 7.18675 19.4 7.34598L16.367 9.99499C16.2596 10.0888 16.1735 10.2046 16.1145 10.3345C16.0555 10.4644 16.025 10.6053 16.025 10.748C16.025 10.8906 16.0555 11.0316 16.1145 11.1615C16.1735 11.2914 16.2596 11.4071 16.367 11.501L19.4 14.151C19.5822 14.3102 19.816 14.398 20.058 14.398C20.3 14.398 20.5338 14.3102 20.716 14.151L23.749 11.501C23.8564 11.4071 23.9425 11.2914 24.0015 11.1615C24.0605 11.0316 24.091 10.8906 24.091 10.748C24.091 10.6053 24.0605 10.4644 24.0015 10.3345C23.9425 10.2046 23.8564 10.0888 23.749 9.99499L20.716 7.34598Z\" fill=\"currentColor\"></path><path d=\"M35.071 18.338L37.5 13.759C37.5807 13.6066 37.6206 13.4359 37.6159 13.2635C37.6111 13.0911 37.5619 12.9229 37.4729 12.7751C37.384 12.6274 37.2583 12.5052 37.1082 12.4203C36.958 12.3355 36.7885 12.2909 36.616 12.291H34.023L20.693 1.31798C20.514 1.17064 20.2893 1.09008 20.0575 1.09008C19.8257 1.09008 19.601 1.17064 19.422 1.31798L6.093 12.291H3.477C3.30454 12.2909 3.135 12.3355 2.98485 12.4203C2.83469 12.5052 2.70903 12.6274 2.62006 12.7751C2.5311 12.9229 2.48185 13.0911 2.47711 13.2635C2.47237 13.4359 2.51229 13.6066 2.593 13.759L5.018 18.338C5.09427 18.4783 5.20338 18.598 5.336 18.687V30.459H3.478C3.21279 30.459 2.95843 30.5643 2.7709 30.7519C2.58336 30.9394 2.478 31.1938 2.478 31.459V36.722C2.478 36.9872 2.58336 37.2416 2.7709 37.4291C2.95843 37.6166 3.21279 37.722 3.478 37.722H36.612C36.8772 37.722 37.1316 37.6166 37.3191 37.4291C37.5066 37.2416 37.612 36.9872 37.612 36.722V31.459C37.612 31.1938 37.5066 30.9394 37.3191 30.7519C37.1316 30.5643 36.8772 30.459 36.612 30.459H34.664V18.744C34.8365 18.6514 34.978 18.5102 35.071 18.338ZM5.138 14.291H12.3C12.5652 14.291 12.8196 14.1856 13.0071 13.9981C13.1946 13.8106 13.3 13.5562 13.3 13.291C13.3 13.0258 13.1946 12.7714 13.0071 12.5839C12.8196 12.3963 12.5652 12.291 12.3 12.291H9.24L20.058 3.38398L30.875 12.289H27.723C27.4578 12.289 27.2034 12.3943 27.0159 12.5819C26.8284 12.7694 26.723 13.0238 26.723 13.289C26.723 13.5542 26.8284 13.8086 27.0159 13.9961C27.2034 14.1836 27.4578 14.289 27.723 14.289H34.951L33.585 16.868H6.5L5.138 14.291ZM28.4 30.459H23.132V18.87H28.4V30.459ZM11.6 18.87H16.867V30.459H11.6V18.87ZM18.867 18.87H21.131V30.459H18.868L18.867 18.87ZM7.335 18.87H9.6V30.459H7.336L7.335 18.87ZM35.612 32.459V35.722H4.478V32.459H35.612ZM30.399 30.459V18.87H32.664V30.459H30.399Z\" fill=\"currentColor\"></path></svg></div><div class=\"space-y-4 mt-4\"><p><a class=\"card-link line-clamp-2 w-[80%] md:w-90\" href=\"/cameroon/bandjoun/attractions/bandjoun-station/a/poi-sig/1556899/1341707\"><span class=\"heading-05 font-semibold\">Bandjoun Station</span></a></p><p class=\"text-sm font-semibold uppercase !mt-2\">Cameroon</p><p class=\"relative flex flex-wrap justify-start items-start gap-x-4 gap-y-2 max-w-full label-sm uppercase hidden\"></p><p class=\"relative line-clamp-3\">Dramatically decorated with mosaics, this arts centre and workshop boldly announces itself. The centre supports the work of local contemporary artists.</p></div></article></div></li>,\n",
       " <li class=\"col-span-1 md:col-span-3 lg:col-span-3\"><div class=\"relative\"><article class=\"relative rounded\"><div class=\"relative flex max-w-full items-center justify-center overflow-hidden rounded relative aspect-square\"><img alt=\"\" class=\"max-w-full w-full h-full object-cover rounded relative aspect-square\" data-nimg=\"1\" decoding=\"async\" height=\"400\" loading=\"lazy\" src=\"https://lonelyplanetstatic.imgix.net/marketing/placeholders/placeholder-attractions.jpg?fit=crop&amp;ar=1%3A1&amp;w=1200&amp;auto=format&amp;q=75\" srcset=\"https://lonelyplanetstatic.imgix.net/marketing/placeholders/placeholder-attractions.jpg?fit=crop&amp;ar=1%3A1&amp;w=640&amp;auto=format&amp;q=75 1x, https://lonelyplanetstatic.imgix.net/marketing/placeholders/placeholder-attractions.jpg?fit=crop&amp;ar=1%3A1&amp;w=1200&amp;auto=format&amp;q=75 2x\" style=\"color:transparent\" width=\"600\"/><svg aria-hidden=\"true\" class=\"absolute top-[50%] left-0 right-0 w-24 max-w-[30%] h-auto mx-auto text-white aspect-square transform translate-y-[-50%]\" fill=\"currentColor\" height=\"1em\" viewbox=\"0 0 40 40\" width=\"1em\" xmlns=\"http://www.w3.org/2000/svg\"><path d=\"M20.716 7.34598C20.5338 7.18675 20.3 7.099 20.058 7.099C19.816 7.099 19.5822 7.18675 19.4 7.34598L16.367 9.99499C16.2596 10.0888 16.1735 10.2046 16.1145 10.3345C16.0555 10.4644 16.025 10.6053 16.025 10.748C16.025 10.8906 16.0555 11.0316 16.1145 11.1615C16.1735 11.2914 16.2596 11.4071 16.367 11.501L19.4 14.151C19.5822 14.3102 19.816 14.398 20.058 14.398C20.3 14.398 20.5338 14.3102 20.716 14.151L23.749 11.501C23.8564 11.4071 23.9425 11.2914 24.0015 11.1615C24.0605 11.0316 24.091 10.8906 24.091 10.748C24.091 10.6053 24.0605 10.4644 24.0015 10.3345C23.9425 10.2046 23.8564 10.0888 23.749 9.99499L20.716 7.34598Z\" fill=\"currentColor\"></path><path d=\"M35.071 18.338L37.5 13.759C37.5807 13.6066 37.6206 13.4359 37.6159 13.2635C37.6111 13.0911 37.5619 12.9229 37.4729 12.7751C37.384 12.6274 37.2583 12.5052 37.1082 12.4203C36.958 12.3355 36.7885 12.2909 36.616 12.291H34.023L20.693 1.31798C20.514 1.17064 20.2893 1.09008 20.0575 1.09008C19.8257 1.09008 19.601 1.17064 19.422 1.31798L6.093 12.291H3.477C3.30454 12.2909 3.135 12.3355 2.98485 12.4203C2.83469 12.5052 2.70903 12.6274 2.62006 12.7751C2.5311 12.9229 2.48185 13.0911 2.47711 13.2635C2.47237 13.4359 2.51229 13.6066 2.593 13.759L5.018 18.338C5.09427 18.4783 5.20338 18.598 5.336 18.687V30.459H3.478C3.21279 30.459 2.95843 30.5643 2.7709 30.7519C2.58336 30.9394 2.478 31.1938 2.478 31.459V36.722C2.478 36.9872 2.58336 37.2416 2.7709 37.4291C2.95843 37.6166 3.21279 37.722 3.478 37.722H36.612C36.8772 37.722 37.1316 37.6166 37.3191 37.4291C37.5066 37.2416 37.612 36.9872 37.612 36.722V31.459C37.612 31.1938 37.5066 30.9394 37.3191 30.7519C37.1316 30.5643 36.8772 30.459 36.612 30.459H34.664V18.744C34.8365 18.6514 34.978 18.5102 35.071 18.338ZM5.138 14.291H12.3C12.5652 14.291 12.8196 14.1856 13.0071 13.9981C13.1946 13.8106 13.3 13.5562 13.3 13.291C13.3 13.0258 13.1946 12.7714 13.0071 12.5839C12.8196 12.3963 12.5652 12.291 12.3 12.291H9.24L20.058 3.38398L30.875 12.289H27.723C27.4578 12.289 27.2034 12.3943 27.0159 12.5819C26.8284 12.7694 26.723 13.0238 26.723 13.289C26.723 13.5542 26.8284 13.8086 27.0159 13.9961C27.2034 14.1836 27.4578 14.289 27.723 14.289H34.951L33.585 16.868H6.5L5.138 14.291ZM28.4 30.459H23.132V18.87H28.4V30.459ZM11.6 18.87H16.867V30.459H11.6V18.87ZM18.867 18.87H21.131V30.459H18.868L18.867 18.87ZM7.335 18.87H9.6V30.459H7.336L7.335 18.87ZM35.612 32.459V35.722H4.478V32.459H35.612ZM30.399 30.459V18.87H32.664V30.459H30.399Z\" fill=\"currentColor\"></path></svg></div><div class=\"space-y-4 mt-4\"><p><a class=\"card-link line-clamp-2 w-[80%] md:w-90\" href=\"/cameroon/western-cameroon/foumban/attractions/grande-mosquee/a/poi-sig/1560104/355114\"><span class=\"heading-05 font-semibold\">Grande Mosquée</span></a></p><p class=\"text-sm font-semibold uppercase !mt-2\">Cameroon</p><p class=\"relative flex flex-wrap justify-start items-start gap-x-4 gap-y-2 max-w-full label-sm uppercase hidden\"></p><p class=\"relative line-clamp-3\">The octagonal tower and green domes of the mosque are a landmark at the centre of Foumban.</p></div></article></div></li>,\n",
       " <li class=\"col-span-1 md:col-span-3 lg:col-span-3\"><div class=\"relative\"><article class=\"relative rounded\"><div class=\"relative flex max-w-full items-center justify-center overflow-hidden rounded relative aspect-square\"><img alt=\"\" class=\"max-w-full w-full h-full object-cover rounded relative aspect-square\" data-nimg=\"1\" decoding=\"async\" height=\"400\" loading=\"lazy\" src=\"https://lonelyplanetstatic.imgix.net/marketing/placeholders/placeholder-attractions.jpg?fit=crop&amp;ar=1%3A1&amp;w=1200&amp;auto=format&amp;q=75\" srcset=\"https://lonelyplanetstatic.imgix.net/marketing/placeholders/placeholder-attractions.jpg?fit=crop&amp;ar=1%3A1&amp;w=640&amp;auto=format&amp;q=75 1x, https://lonelyplanetstatic.imgix.net/marketing/placeholders/placeholder-attractions.jpg?fit=crop&amp;ar=1%3A1&amp;w=1200&amp;auto=format&amp;q=75 2x\" style=\"color:transparent\" width=\"600\"/><svg aria-hidden=\"true\" class=\"absolute top-[50%] left-0 right-0 w-24 max-w-[30%] h-auto mx-auto text-white aspect-square transform translate-y-[-50%]\" fill=\"currentColor\" height=\"1em\" viewbox=\"0 0 40 40\" width=\"1em\" xmlns=\"http://www.w3.org/2000/svg\"><path d=\"M20.716 7.34598C20.5338 7.18675 20.3 7.099 20.058 7.099C19.816 7.099 19.5822 7.18675 19.4 7.34598L16.367 9.99499C16.2596 10.0888 16.1735 10.2046 16.1145 10.3345C16.0555 10.4644 16.025 10.6053 16.025 10.748C16.025 10.8906 16.0555 11.0316 16.1145 11.1615C16.1735 11.2914 16.2596 11.4071 16.367 11.501L19.4 14.151C19.5822 14.3102 19.816 14.398 20.058 14.398C20.3 14.398 20.5338 14.3102 20.716 14.151L23.749 11.501C23.8564 11.4071 23.9425 11.2914 24.0015 11.1615C24.0605 11.0316 24.091 10.8906 24.091 10.748C24.091 10.6053 24.0605 10.4644 24.0015 10.3345C23.9425 10.2046 23.8564 10.0888 23.749 9.99499L20.716 7.34598Z\" fill=\"currentColor\"></path><path d=\"M35.071 18.338L37.5 13.759C37.5807 13.6066 37.6206 13.4359 37.6159 13.2635C37.6111 13.0911 37.5619 12.9229 37.4729 12.7751C37.384 12.6274 37.2583 12.5052 37.1082 12.4203C36.958 12.3355 36.7885 12.2909 36.616 12.291H34.023L20.693 1.31798C20.514 1.17064 20.2893 1.09008 20.0575 1.09008C19.8257 1.09008 19.601 1.17064 19.422 1.31798L6.093 12.291H3.477C3.30454 12.2909 3.135 12.3355 2.98485 12.4203C2.83469 12.5052 2.70903 12.6274 2.62006 12.7751C2.5311 12.9229 2.48185 13.0911 2.47711 13.2635C2.47237 13.4359 2.51229 13.6066 2.593 13.759L5.018 18.338C5.09427 18.4783 5.20338 18.598 5.336 18.687V30.459H3.478C3.21279 30.459 2.95843 30.5643 2.7709 30.7519C2.58336 30.9394 2.478 31.1938 2.478 31.459V36.722C2.478 36.9872 2.58336 37.2416 2.7709 37.4291C2.95843 37.6166 3.21279 37.722 3.478 37.722H36.612C36.8772 37.722 37.1316 37.6166 37.3191 37.4291C37.5066 37.2416 37.612 36.9872 37.612 36.722V31.459C37.612 31.1938 37.5066 30.9394 37.3191 30.7519C37.1316 30.5643 36.8772 30.459 36.612 30.459H34.664V18.744C34.8365 18.6514 34.978 18.5102 35.071 18.338ZM5.138 14.291H12.3C12.5652 14.291 12.8196 14.1856 13.0071 13.9981C13.1946 13.8106 13.3 13.5562 13.3 13.291C13.3 13.0258 13.1946 12.7714 13.0071 12.5839C12.8196 12.3963 12.5652 12.291 12.3 12.291H9.24L20.058 3.38398L30.875 12.289H27.723C27.4578 12.289 27.2034 12.3943 27.0159 12.5819C26.8284 12.7694 26.723 13.0238 26.723 13.289C26.723 13.5542 26.8284 13.8086 27.0159 13.9961C27.2034 14.1836 27.4578 14.289 27.723 14.289H34.951L33.585 16.868H6.5L5.138 14.291ZM28.4 30.459H23.132V18.87H28.4V30.459ZM11.6 18.87H16.867V30.459H11.6V18.87ZM18.867 18.87H21.131V30.459H18.868L18.867 18.87ZM7.335 18.87H9.6V30.459H7.336L7.335 18.87ZM35.612 32.459V35.722H4.478V32.459H35.612ZM30.399 30.459V18.87H32.664V30.459H30.399Z\" fill=\"currentColor\"></path></svg></div><div class=\"space-y-4 mt-4\"><p><a class=\"card-link line-clamp-2 w-[80%] md:w-90\" href=\"/cameroon/western-cameroon/douala/attractions/cathedral/a/poi-sig/1322777/355113\"><span class=\"heading-05 font-semibold\">Cathedral</span></a></p><p class=\"text-sm font-semibold uppercase !mt-2\">Cameroon</p><p class=\"relative flex flex-wrap justify-start items-start gap-x-4 gap-y-2 max-w-full label-sm uppercase hidden\"></p><p class=\"relative line-clamp-3\">Built in 1936, Douala's cathedral is impressively large, though plain inside and out.</p></div></article></div></li>,\n",
       " <li class=\"col-span-1 md:col-span-3 lg:col-span-3\"><div class=\"relative\"><article class=\"relative rounded\"><div class=\"relative flex max-w-full items-center justify-center overflow-hidden rounded relative aspect-square\"><img alt=\"\" class=\"max-w-full w-full h-full object-cover rounded relative aspect-square\" data-nimg=\"1\" decoding=\"async\" height=\"400\" loading=\"lazy\" src=\"https://lonelyplanetstatic.imgix.net/marketing/placeholders/placeholder-attractions.jpg?fit=crop&amp;ar=1%3A1&amp;w=1200&amp;auto=format&amp;q=75\" srcset=\"https://lonelyplanetstatic.imgix.net/marketing/placeholders/placeholder-attractions.jpg?fit=crop&amp;ar=1%3A1&amp;w=640&amp;auto=format&amp;q=75 1x, https://lonelyplanetstatic.imgix.net/marketing/placeholders/placeholder-attractions.jpg?fit=crop&amp;ar=1%3A1&amp;w=1200&amp;auto=format&amp;q=75 2x\" style=\"color:transparent\" width=\"600\"/><svg aria-hidden=\"true\" class=\"absolute top-[50%] left-0 right-0 w-24 max-w-[30%] h-auto mx-auto text-white aspect-square transform translate-y-[-50%]\" fill=\"currentColor\" height=\"1em\" viewbox=\"0 0 40 40\" width=\"1em\" xmlns=\"http://www.w3.org/2000/svg\"><path d=\"M20.716 7.34598C20.5338 7.18675 20.3 7.099 20.058 7.099C19.816 7.099 19.5822 7.18675 19.4 7.34598L16.367 9.99499C16.2596 10.0888 16.1735 10.2046 16.1145 10.3345C16.0555 10.4644 16.025 10.6053 16.025 10.748C16.025 10.8906 16.0555 11.0316 16.1145 11.1615C16.1735 11.2914 16.2596 11.4071 16.367 11.501L19.4 14.151C19.5822 14.3102 19.816 14.398 20.058 14.398C20.3 14.398 20.5338 14.3102 20.716 14.151L23.749 11.501C23.8564 11.4071 23.9425 11.2914 24.0015 11.1615C24.0605 11.0316 24.091 10.8906 24.091 10.748C24.091 10.6053 24.0605 10.4644 24.0015 10.3345C23.9425 10.2046 23.8564 10.0888 23.749 9.99499L20.716 7.34598Z\" fill=\"currentColor\"></path><path d=\"M35.071 18.338L37.5 13.759C37.5807 13.6066 37.6206 13.4359 37.6159 13.2635C37.6111 13.0911 37.5619 12.9229 37.4729 12.7751C37.384 12.6274 37.2583 12.5052 37.1082 12.4203C36.958 12.3355 36.7885 12.2909 36.616 12.291H34.023L20.693 1.31798C20.514 1.17064 20.2893 1.09008 20.0575 1.09008C19.8257 1.09008 19.601 1.17064 19.422 1.31798L6.093 12.291H3.477C3.30454 12.2909 3.135 12.3355 2.98485 12.4203C2.83469 12.5052 2.70903 12.6274 2.62006 12.7751C2.5311 12.9229 2.48185 13.0911 2.47711 13.2635C2.47237 13.4359 2.51229 13.6066 2.593 13.759L5.018 18.338C5.09427 18.4783 5.20338 18.598 5.336 18.687V30.459H3.478C3.21279 30.459 2.95843 30.5643 2.7709 30.7519C2.58336 30.9394 2.478 31.1938 2.478 31.459V36.722C2.478 36.9872 2.58336 37.2416 2.7709 37.4291C2.95843 37.6166 3.21279 37.722 3.478 37.722H36.612C36.8772 37.722 37.1316 37.6166 37.3191 37.4291C37.5066 37.2416 37.612 36.9872 37.612 36.722V31.459C37.612 31.1938 37.5066 30.9394 37.3191 30.7519C37.1316 30.5643 36.8772 30.459 36.612 30.459H34.664V18.744C34.8365 18.6514 34.978 18.5102 35.071 18.338ZM5.138 14.291H12.3C12.5652 14.291 12.8196 14.1856 13.0071 13.9981C13.1946 13.8106 13.3 13.5562 13.3 13.291C13.3 13.0258 13.1946 12.7714 13.0071 12.5839C12.8196 12.3963 12.5652 12.291 12.3 12.291H9.24L20.058 3.38398L30.875 12.289H27.723C27.4578 12.289 27.2034 12.3943 27.0159 12.5819C26.8284 12.7694 26.723 13.0238 26.723 13.289C26.723 13.5542 26.8284 13.8086 27.0159 13.9961C27.2034 14.1836 27.4578 14.289 27.723 14.289H34.951L33.585 16.868H6.5L5.138 14.291ZM28.4 30.459H23.132V18.87H28.4V30.459ZM11.6 18.87H16.867V30.459H11.6V18.87ZM18.867 18.87H21.131V30.459H18.868L18.867 18.87ZM7.335 18.87H9.6V30.459H7.336L7.335 18.87ZM35.612 32.459V35.722H4.478V32.459H35.612ZM30.399 30.459V18.87H32.664V30.459H30.399Z\" fill=\"currentColor\"></path></svg></div><div class=\"space-y-4 mt-4\"><p><a class=\"card-link line-clamp-2 w-[80%] md:w-90\" href=\"/cameroon/western-cameroon/limbe/attractions/old-church/a/poi-sig/1322870/355115\"><span class=\"heading-05 font-semibold\">Old Church</span></a></p><p class=\"text-sm font-semibold uppercase !mt-2\">Cameroon</p><p class=\"relative flex flex-wrap justify-start items-start gap-x-4 gap-y-2 max-w-full label-sm uppercase hidden\"></p><p class=\"relative line-clamp-3\">Historic church facing Down Beach.</p></div></article></div></li>,\n",
       " <li class=\"col-span-1 md:col-span-3 lg:col-span-3\"><div class=\"relative\"><article class=\"relative rounded\"><div class=\"relative flex max-w-full items-center justify-center overflow-hidden rounded relative aspect-square\"><img alt=\"\" class=\"max-w-full w-full h-full object-cover rounded relative aspect-square\" data-nimg=\"1\" decoding=\"async\" height=\"400\" loading=\"lazy\" src=\"https://lonelyplanetstatic.imgix.net/marketing/placeholders/placeholder-attractions.jpg?fit=crop&amp;ar=1%3A1&amp;w=1200&amp;auto=format&amp;q=75\" srcset=\"https://lonelyplanetstatic.imgix.net/marketing/placeholders/placeholder-attractions.jpg?fit=crop&amp;ar=1%3A1&amp;w=640&amp;auto=format&amp;q=75 1x, https://lonelyplanetstatic.imgix.net/marketing/placeholders/placeholder-attractions.jpg?fit=crop&amp;ar=1%3A1&amp;w=1200&amp;auto=format&amp;q=75 2x\" style=\"color:transparent\" width=\"600\"/><svg aria-hidden=\"true\" class=\"absolute top-[50%] left-0 right-0 w-24 max-w-[30%] h-auto mx-auto text-white aspect-square transform translate-y-[-50%]\" fill=\"currentColor\" height=\"1em\" viewbox=\"0 0 40 40\" width=\"1em\" xmlns=\"http://www.w3.org/2000/svg\"><path d=\"M20.716 7.34598C20.5338 7.18675 20.3 7.099 20.058 7.099C19.816 7.099 19.5822 7.18675 19.4 7.34598L16.367 9.99499C16.2596 10.0888 16.1735 10.2046 16.1145 10.3345C16.0555 10.4644 16.025 10.6053 16.025 10.748C16.025 10.8906 16.0555 11.0316 16.1145 11.1615C16.1735 11.2914 16.2596 11.4071 16.367 11.501L19.4 14.151C19.5822 14.3102 19.816 14.398 20.058 14.398C20.3 14.398 20.5338 14.3102 20.716 14.151L23.749 11.501C23.8564 11.4071 23.9425 11.2914 24.0015 11.1615C24.0605 11.0316 24.091 10.8906 24.091 10.748C24.091 10.6053 24.0605 10.4644 24.0015 10.3345C23.9425 10.2046 23.8564 10.0888 23.749 9.99499L20.716 7.34598Z\" fill=\"currentColor\"></path><path d=\"M35.071 18.338L37.5 13.759C37.5807 13.6066 37.6206 13.4359 37.6159 13.2635C37.6111 13.0911 37.5619 12.9229 37.4729 12.7751C37.384 12.6274 37.2583 12.5052 37.1082 12.4203C36.958 12.3355 36.7885 12.2909 36.616 12.291H34.023L20.693 1.31798C20.514 1.17064 20.2893 1.09008 20.0575 1.09008C19.8257 1.09008 19.601 1.17064 19.422 1.31798L6.093 12.291H3.477C3.30454 12.2909 3.135 12.3355 2.98485 12.4203C2.83469 12.5052 2.70903 12.6274 2.62006 12.7751C2.5311 12.9229 2.48185 13.0911 2.47711 13.2635C2.47237 13.4359 2.51229 13.6066 2.593 13.759L5.018 18.338C5.09427 18.4783 5.20338 18.598 5.336 18.687V30.459H3.478C3.21279 30.459 2.95843 30.5643 2.7709 30.7519C2.58336 30.9394 2.478 31.1938 2.478 31.459V36.722C2.478 36.9872 2.58336 37.2416 2.7709 37.4291C2.95843 37.6166 3.21279 37.722 3.478 37.722H36.612C36.8772 37.722 37.1316 37.6166 37.3191 37.4291C37.5066 37.2416 37.612 36.9872 37.612 36.722V31.459C37.612 31.1938 37.5066 30.9394 37.3191 30.7519C37.1316 30.5643 36.8772 30.459 36.612 30.459H34.664V18.744C34.8365 18.6514 34.978 18.5102 35.071 18.338ZM5.138 14.291H12.3C12.5652 14.291 12.8196 14.1856 13.0071 13.9981C13.1946 13.8106 13.3 13.5562 13.3 13.291C13.3 13.0258 13.1946 12.7714 13.0071 12.5839C12.8196 12.3963 12.5652 12.291 12.3 12.291H9.24L20.058 3.38398L30.875 12.289H27.723C27.4578 12.289 27.2034 12.3943 27.0159 12.5819C26.8284 12.7694 26.723 13.0238 26.723 13.289C26.723 13.5542 26.8284 13.8086 27.0159 13.9961C27.2034 14.1836 27.4578 14.289 27.723 14.289H34.951L33.585 16.868H6.5L5.138 14.291ZM28.4 30.459H23.132V18.87H28.4V30.459ZM11.6 18.87H16.867V30.459H11.6V18.87ZM18.867 18.87H21.131V30.459H18.868L18.867 18.87ZM7.335 18.87H9.6V30.459H7.336L7.335 18.87ZM35.612 32.459V35.722H4.478V32.459H35.612ZM30.399 30.459V18.87H32.664V30.459H30.399Z\" fill=\"currentColor\"></path></svg></div><div class=\"space-y-4 mt-4\"><p><a class=\"card-link line-clamp-2 w-[80%] md:w-90\" href=\"/cameroon/northern-cameroon/ngaoundere/attractions/palais-du-lamido/a/poi-sig/1300468/355108\"><span class=\"heading-05 font-semibold\">Palais du Lamido</span></a></p><p class=\"text-sm font-semibold uppercase !mt-2\">Cameroon</p><p class=\"relative flex flex-wrap justify-start items-start gap-x-4 gap-y-2 max-w-full label-sm uppercase hidden\"></p><p class=\"relative line-clamp-3\">To enter the Palais du Lamido, the palace of the local Muslim ruler, you pass between three pillars stuffed with the remains of individuals who were…</p></div></article></div></li>,\n",
       " <li class=\"col-span-1 md:col-span-3 lg:col-span-3\"><div class=\"relative\"><article class=\"relative rounded\"><div class=\"relative flex max-w-full items-center justify-center overflow-hidden rounded relative aspect-square\"><img alt=\"\" class=\"max-w-full w-full h-full object-cover rounded relative aspect-square\" data-nimg=\"1\" decoding=\"async\" height=\"400\" loading=\"lazy\" src=\"https://lonelyplanetstatic.imgix.net/marketing/placeholders/placeholder-attractions.jpg?fit=crop&amp;ar=1%3A1&amp;w=1200&amp;auto=format&amp;q=75\" srcset=\"https://lonelyplanetstatic.imgix.net/marketing/placeholders/placeholder-attractions.jpg?fit=crop&amp;ar=1%3A1&amp;w=640&amp;auto=format&amp;q=75 1x, https://lonelyplanetstatic.imgix.net/marketing/placeholders/placeholder-attractions.jpg?fit=crop&amp;ar=1%3A1&amp;w=1200&amp;auto=format&amp;q=75 2x\" style=\"color:transparent\" width=\"600\"/><svg aria-hidden=\"true\" class=\"absolute top-[50%] left-0 right-0 w-24 max-w-[30%] h-auto mx-auto text-white aspect-square transform translate-y-[-50%]\" fill=\"currentColor\" height=\"1em\" viewbox=\"0 0 40 40\" width=\"1em\" xmlns=\"http://www.w3.org/2000/svg\"><path d=\"M20.716 7.34598C20.5338 7.18675 20.3 7.099 20.058 7.099C19.816 7.099 19.5822 7.18675 19.4 7.34598L16.367 9.99499C16.2596 10.0888 16.1735 10.2046 16.1145 10.3345C16.0555 10.4644 16.025 10.6053 16.025 10.748C16.025 10.8906 16.0555 11.0316 16.1145 11.1615C16.1735 11.2914 16.2596 11.4071 16.367 11.501L19.4 14.151C19.5822 14.3102 19.816 14.398 20.058 14.398C20.3 14.398 20.5338 14.3102 20.716 14.151L23.749 11.501C23.8564 11.4071 23.9425 11.2914 24.0015 11.1615C24.0605 11.0316 24.091 10.8906 24.091 10.748C24.091 10.6053 24.0605 10.4644 24.0015 10.3345C23.9425 10.2046 23.8564 10.0888 23.749 9.99499L20.716 7.34598Z\" fill=\"currentColor\"></path><path d=\"M35.071 18.338L37.5 13.759C37.5807 13.6066 37.6206 13.4359 37.6159 13.2635C37.6111 13.0911 37.5619 12.9229 37.4729 12.7751C37.384 12.6274 37.2583 12.5052 37.1082 12.4203C36.958 12.3355 36.7885 12.2909 36.616 12.291H34.023L20.693 1.31798C20.514 1.17064 20.2893 1.09008 20.0575 1.09008C19.8257 1.09008 19.601 1.17064 19.422 1.31798L6.093 12.291H3.477C3.30454 12.2909 3.135 12.3355 2.98485 12.4203C2.83469 12.5052 2.70903 12.6274 2.62006 12.7751C2.5311 12.9229 2.48185 13.0911 2.47711 13.2635C2.47237 13.4359 2.51229 13.6066 2.593 13.759L5.018 18.338C5.09427 18.4783 5.20338 18.598 5.336 18.687V30.459H3.478C3.21279 30.459 2.95843 30.5643 2.7709 30.7519C2.58336 30.9394 2.478 31.1938 2.478 31.459V36.722C2.478 36.9872 2.58336 37.2416 2.7709 37.4291C2.95843 37.6166 3.21279 37.722 3.478 37.722H36.612C36.8772 37.722 37.1316 37.6166 37.3191 37.4291C37.5066 37.2416 37.612 36.9872 37.612 36.722V31.459C37.612 31.1938 37.5066 30.9394 37.3191 30.7519C37.1316 30.5643 36.8772 30.459 36.612 30.459H34.664V18.744C34.8365 18.6514 34.978 18.5102 35.071 18.338ZM5.138 14.291H12.3C12.5652 14.291 12.8196 14.1856 13.0071 13.9981C13.1946 13.8106 13.3 13.5562 13.3 13.291C13.3 13.0258 13.1946 12.7714 13.0071 12.5839C12.8196 12.3963 12.5652 12.291 12.3 12.291H9.24L20.058 3.38398L30.875 12.289H27.723C27.4578 12.289 27.2034 12.3943 27.0159 12.5819C26.8284 12.7694 26.723 13.0238 26.723 13.289C26.723 13.5542 26.8284 13.8086 27.0159 13.9961C27.2034 14.1836 27.4578 14.289 27.723 14.289H34.951L33.585 16.868H6.5L5.138 14.291ZM28.4 30.459H23.132V18.87H28.4V30.459ZM11.6 18.87H16.867V30.459H11.6V18.87ZM18.867 18.87H21.131V30.459H18.868L18.867 18.87ZM7.335 18.87H9.6V30.459H7.336L7.335 18.87ZM35.612 32.459V35.722H4.478V32.459H35.612ZM30.399 30.459V18.87H32.664V30.459H30.399Z\" fill=\"currentColor\"></path></svg></div><div class=\"space-y-4 mt-4\"><p><a class=\"card-link line-clamp-2 w-[80%] md:w-90\" href=\"/cameroon/northern-cameroon/attractions/parc-national-du-waza/a/poi-sig/1300504/1327480\"><span class=\"heading-05 font-semibold\">Parc National du Waza</span></a></p><p class=\"text-sm font-semibold uppercase !mt-2\">Cameroon</p><p class=\"relative flex flex-wrap justify-start items-start gap-x-4 gap-y-2 max-w-full label-sm uppercase hidden\"></p><p class=\"relative line-clamp-3\">Waza National Park is Cameroon's most accessible and rewarding wildlife-viewing experience. Visitors can reasonably expect to see large numbers of…</p></div></article></div></li>]"
      ]
     },
     "execution_count": 731,
     "metadata": {},
     "output_type": "execute_result"
    }
   ],
   "source": [
    "# Find H2 elements within the container\n",
    "attractions = container.find_all('li', class_ = \"col-span-1 md:col-span-3 lg:col-span-3\")\n",
    "attractions"
   ]
  },
  {
   "cell_type": "code",
   "execution_count": 732,
   "metadata": {},
   "outputs": [
    {
     "name": "stdout",
     "output_type": "stream",
     "text": [
      "Palais Royal\n"
     ]
    }
   ],
   "source": [
    "# Grab the attraction title from this span element\n",
    "if attractions:\n",
    "    span = attractions[0].find('span', class_= 'heading-05 font-semibold')\n",
    "    if span:\n",
    "        print(span.text)"
   ]
  },
  {
   "cell_type": "code",
   "execution_count": 733,
   "metadata": {},
   "outputs": [
    {
     "data": {
      "text/plain": [
       "<a class=\"card-link line-clamp-2 w-[80%] md:w-90\" href=\"/cameroon/northern-cameroon/attractions/parc-national-du-waza/a/poi-sig/1300504/1327480\"><span class=\"heading-05 font-semibold\">Parc National du Waza</span></a>"
      ]
     },
     "execution_count": 733,
     "metadata": {},
     "output_type": "execute_result"
    }
   ],
   "source": [
    "att = attraction.find('a')\n",
    "att"
   ]
  },
  {
   "cell_type": "code",
   "execution_count": 734,
   "metadata": {
    "scrolled": true
   },
   "outputs": [
    {
     "data": {
      "text/plain": [
       "['Palais Royal',\n",
       " 'Chefferie',\n",
       " \"Fon's Palace\",\n",
       " 'Limbe Wildlife Centre',\n",
       " 'Botanical Gardens',\n",
       " \"Parc National de Campo-Ma'an\",\n",
       " 'Chutes de la Lobé',\n",
       " \"Espace Doual'art\",\n",
       " 'Musée des Arts et Traditions Bamoun',\n",
       " 'Bandjoun Station',\n",
       " 'Grande Mosquée',\n",
       " 'Cathedral',\n",
       " 'Old Church',\n",
       " 'Palais du Lamido',\n",
       " 'Parc National du Waza']"
      ]
     },
     "execution_count": 734,
     "metadata": {},
     "output_type": "execute_result"
    }
   ],
   "source": [
    "# Grab all titles with a for loop and store in a list\n",
    "\n",
    "final_attractions = []\n",
    "\n",
    "for attraction in attractions:\n",
    "    att = attraction.find('a')\n",
    "    span = att.find('span', class_= 'heading-05 font-semibold')\n",
    "    if span:\n",
    "        final_attractions.append(span.text)\n",
    "\n",
    "final_attractions"
   ]
  },
  {
   "cell_type": "code",
   "execution_count": 735,
   "metadata": {},
   "outputs": [
    {
     "data": {
      "text/plain": [
       "[\"The must-see attraction is the sultan's palace, home to the 19th sultan of the Bamoun dynasty. It has a fascinating, well-organised museum providing great…\",\n",
       " 'Approached via a ceremonial gate, the compound is centred on a hugely impressive bamboo building, its conical thatched roof supported by wooden pillars…',\n",
       " \"Just north of Bamenda is the large Tikar community of Bafut, traditionally the most powerful of the Grassfields kingdoms. The fon's (local chief's) palace…\",\n",
       " 'Many zoos in Africa are depressing places, but the Limbe Wildlife Centre is a shining exception. It houses rescued chimpanzees, gorillas, drills and other…',\n",
       " \"Limbe's Botanical Gardens, the second oldest in Africa, are the home of, among others, cinnamon, nutmeg, mango, ancient cycads and an unnamed tree that…\",\n",
       " \"Campo-Ma'an comprises 7700 sq km of protected biodiverse rainforest, sheltering many wonderful plants and animals, including buffaloes, forest elephants,…\",\n",
       " \"The Chutes de la Lobé are an impressive set of waterfalls that empty directly into the sea – it's a beautiful sight. Take a moto-taxi (CFA500), or make a…\",\n",
       " \"Well worth dropping into if you're nearby in Douala, this contemporary art space hosts changing displays of work from all over Cameroon and the rest of…\",\n",
       " 'Located in the Village des Artisans, this small museum houses a private collection of art and historical artefacts.',\n",
       " 'Dramatically decorated with mosaics, this arts centre and workshop boldly announces itself. The centre supports the work of local contemporary artists.',\n",
       " 'The octagonal tower and green domes of the mosque are a landmark at the centre of Foumban.',\n",
       " \"Built in 1936, Douala's cathedral is impressively large, though plain inside and out.\",\n",
       " 'Historic church facing Down Beach.',\n",
       " 'To enter the Palais du Lamido, the palace of the local Muslim ruler, you pass between three pillars stuffed with the remains of individuals who were…',\n",
       " \"Waza National Park is Cameroon's most accessible and rewarding wildlife-viewing experience. Visitors can reasonably expect to see large numbers of…\"]"
      ]
     },
     "execution_count": 735,
     "metadata": {},
     "output_type": "execute_result"
    }
   ],
   "source": [
    "# A for loop to grab all descriptions\n",
    "final_descriptions = []\n",
    "\n",
    "for attraction in attractions:\n",
    "    p_tag = attraction.find('p', class_= 'relative line-clamp-3')\n",
    "    if p_tag:\n",
    "        final_descriptions.append(p_tag.text)\n",
    "\n",
    "final_descriptions"
   ]
  },
  {
   "cell_type": "markdown",
   "metadata": {},
   "source": [
    "### Function for pages with only one result per page like Cameroon and Paraguay\n",
    "There is a slight different in the class information for places with only one page result and those with more than one result. Therefore, the functions used will be different"
   ]
  },
  {
   "cell_type": "code",
   "execution_count": 736,
   "metadata": {},
   "outputs": [],
   "source": [
    "# Function for pages with only one result per page\n",
    "def get_attractions_one_page(html_path):\n",
    "    \"\"\"\n",
    "    input html path from TripAdvisor as a string\n",
    "    returns list of attraction names from that page\n",
    "    \"\"\"\n",
    "\n",
    "    html = requests.get(html_path)\n",
    "    content = html.content\n",
    "    soup = BeautifulSoup(content, 'html.parser')\n",
    "    soup = BeautifulSoup(html.content, 'html.parser')\n",
    "    \n",
    "    container = soup.find('ul', class_=\"md:grid space-y-14 md:space-y-0 gap-x-6 gap-y-14 md:grid-cols-12 mb-12\")\n",
    "    attractions = container.find_all('li', class_ = \"col-span-1 md:col-span-3 lg:col-span-3\")\n",
    "    \n",
    "    final_attractions = []\n",
    "    for attraction in attractions:\n",
    "        att = attraction.find('a')\n",
    "        span = att.find('span', class_= 'heading-05 font-semibold')\n",
    "        if span:\n",
    "            final_attractions.append(span.text)\n",
    "    return final_attractions\n"
   ]
  },
  {
   "cell_type": "markdown",
   "metadata": {},
   "source": [
    "### 1. Cameroon"
   ]
  },
  {
   "cell_type": "code",
   "execution_count": 737,
   "metadata": {},
   "outputs": [],
   "source": [
    "cameroon_html = 'https://www.lonelyplanet.com/cameroon/attractions'"
   ]
  },
  {
   "cell_type": "code",
   "execution_count": 738,
   "metadata": {},
   "outputs": [
    {
     "name": "stdout",
     "output_type": "stream",
     "text": [
      "15\n",
      "['Palais Royal', 'Chefferie', \"Fon's Palace\", 'Limbe Wildlife Centre', 'Botanical Gardens']\n"
     ]
    }
   ],
   "source": [
    "all_attractions_cameroon = get_attractions_one_page(cameroon_html)\n",
    "print(len(all_attractions_cameroon))\n",
    "print(all_attractions_cameroon[:5])"
   ]
  },
  {
   "cell_type": "code",
   "execution_count": 739,
   "metadata": {},
   "outputs": [],
   "source": [
    "def get_all_descriptions_one_page(html_path):\n",
    "    \"\"\"\n",
    "    input html path from TripAdvisor as a string\n",
    "    returns list of attraction names from that page\n",
    "    \"\"\"\n",
    "\n",
    "    html = requests.get(html_path)\n",
    "    content = html.content\n",
    "    soup = BeautifulSoup(content, 'html.parser')\n",
    "    soup = BeautifulSoup(html.content, 'html.parser')\n",
    "    \n",
    "    container = soup.find('ul', class_=\"md:grid space-y-14 md:space-y-0 gap-x-6 gap-y-14 md:grid-cols-12 mb-12\")\n",
    "    attractions = container.find_all('li', class_ = \"col-span-1 md:col-span-3 lg:col-span-3\")\n",
    "\n",
    "\n",
    "    final_descriptions = []\n",
    "    for attraction in attractions:\n",
    "        p_tag = attraction.find('p', class_= 'relative line-clamp-3')\n",
    "        if p_tag:\n",
    "            final_descriptions.append(p_tag.text)\n",
    "    return final_descriptions"
   ]
  },
  {
   "cell_type": "code",
   "execution_count": 740,
   "metadata": {},
   "outputs": [
    {
     "name": "stdout",
     "output_type": "stream",
     "text": [
      "15\n",
      "[\"The must-see attraction is the sultan's palace, home to the 19th sultan of the Bamoun dynasty. It has a fascinating, well-organised museum providing great…\", 'Approached via a ceremonial gate, the compound is centred on a hugely impressive bamboo building, its conical thatched roof supported by wooden pillars…', \"Just north of Bamenda is the large Tikar community of Bafut, traditionally the most powerful of the Grassfields kingdoms. The fon's (local chief's) palace…\", 'Many zoos in Africa are depressing places, but the Limbe Wildlife Centre is a shining exception. It houses rescued chimpanzees, gorillas, drills and other…', \"Limbe's Botanical Gardens, the second oldest in Africa, are the home of, among others, cinnamon, nutmeg, mango, ancient cycads and an unnamed tree that…\"]\n"
     ]
    }
   ],
   "source": [
    "all_descriptions_cameroon = get_all_descriptions_one_page(cameroon_html)\n",
    "print(len(all_descriptions_cameroon))\n",
    "print(all_descriptions_cameroon[:5])"
   ]
  },
  {
   "cell_type": "code",
   "execution_count": 741,
   "metadata": {},
   "outputs": [
    {
     "data": {
      "text/html": [
       "<div>\n",
       "<style scoped>\n",
       "    .dataframe tbody tr th:only-of-type {\n",
       "        vertical-align: middle;\n",
       "    }\n",
       "\n",
       "    .dataframe tbody tr th {\n",
       "        vertical-align: top;\n",
       "    }\n",
       "\n",
       "    .dataframe thead th {\n",
       "        text-align: right;\n",
       "    }\n",
       "</style>\n",
       "<table border=\"1\" class=\"dataframe\">\n",
       "  <thead>\n",
       "    <tr style=\"text-align: right;\">\n",
       "      <th></th>\n",
       "      <th>Attraction</th>\n",
       "      <th>Description</th>\n",
       "      <th>Country</th>\n",
       "      <th>Continent</th>\n",
       "    </tr>\n",
       "  </thead>\n",
       "  <tbody>\n",
       "    <tr>\n",
       "      <th>0</th>\n",
       "      <td>Palais Royal</td>\n",
       "      <td>The must-see attraction is the sultan's palace...</td>\n",
       "      <td>Cameroon</td>\n",
       "      <td>Africa</td>\n",
       "    </tr>\n",
       "    <tr>\n",
       "      <th>1</th>\n",
       "      <td>Chefferie</td>\n",
       "      <td>Approached via a ceremonial gate, the compound...</td>\n",
       "      <td>Cameroon</td>\n",
       "      <td>Africa</td>\n",
       "    </tr>\n",
       "    <tr>\n",
       "      <th>2</th>\n",
       "      <td>Fon's Palace</td>\n",
       "      <td>Just north of Bamenda is the large Tikar commu...</td>\n",
       "      <td>Cameroon</td>\n",
       "      <td>Africa</td>\n",
       "    </tr>\n",
       "    <tr>\n",
       "      <th>3</th>\n",
       "      <td>Limbe Wildlife Centre</td>\n",
       "      <td>Many zoos in Africa are depressing places, but...</td>\n",
       "      <td>Cameroon</td>\n",
       "      <td>Africa</td>\n",
       "    </tr>\n",
       "    <tr>\n",
       "      <th>4</th>\n",
       "      <td>Botanical Gardens</td>\n",
       "      <td>Limbe's Botanical Gardens, the second oldest i...</td>\n",
       "      <td>Cameroon</td>\n",
       "      <td>Africa</td>\n",
       "    </tr>\n",
       "  </tbody>\n",
       "</table>\n",
       "</div>"
      ],
      "text/plain": [
       "              Attraction                                        Description  \\\n",
       "0           Palais Royal  The must-see attraction is the sultan's palace...   \n",
       "1              Chefferie  Approached via a ceremonial gate, the compound...   \n",
       "2           Fon's Palace  Just north of Bamenda is the large Tikar commu...   \n",
       "3  Limbe Wildlife Centre  Many zoos in Africa are depressing places, but...   \n",
       "4      Botanical Gardens  Limbe's Botanical Gardens, the second oldest i...   \n",
       "\n",
       "    Country Continent  \n",
       "0  Cameroon    Africa  \n",
       "1  Cameroon    Africa  \n",
       "2  Cameroon    Africa  \n",
       "3  Cameroon    Africa  \n",
       "4  Cameroon    Africa  "
      ]
     },
     "execution_count": 741,
     "metadata": {},
     "output_type": "execute_result"
    }
   ],
   "source": [
    "cameroon_df = pd.DataFrame(all_attractions_cameroon, columns=['Attraction'])\n",
    "cameroon_df['Description'] = all_descriptions_cameroon\n",
    "cameroon_df['Country'] = 'Cameroon'\n",
    "cameroon_df['Continent'] = 'Africa'\n",
    "cameroon_df.head()"
   ]
  },
  {
   "cell_type": "code",
   "execution_count": 742,
   "metadata": {},
   "outputs": [],
   "source": [
    "cameroon_df.to_csv('/Users/rosew/Desktop/Moringa/phase_5/individual_attractions/cameroon_df.csv')"
   ]
  },
  {
   "cell_type": "markdown",
   "metadata": {},
   "source": [
    "### 2. Lithuania"
   ]
  },
  {
   "cell_type": "markdown",
   "metadata": {},
   "source": [
    "### Make a function to grab attraction titles for any destination for places with more than one result per page\n",
    "There is a slight different in the class information for places with only one page result and those with more than one result. Therefore, the functions used will be different"
   ]
  },
  {
   "cell_type": "code",
   "execution_count": 743,
   "metadata": {},
   "outputs": [],
   "source": [
    "def get_attractions(html_path):\n",
    "    \"\"\"\n",
    "    input html path from TripAdvisor as a string\n",
    "    returns list of attraction names from that page\n",
    "    \"\"\"\n",
    "\n",
    "\n",
    "    html = requests.get(html_path)\n",
    "    content = html.content\n",
    "    soup = BeautifulSoup(content, 'html.parser')\n",
    "    soup = BeautifulSoup(html.content, 'html.parser')\n",
    "    \n",
    "    container = soup.find('ul', class_=\"md:grid space-y-14 md:space-y-0 gap-x-6 gap-y-14 md:grid-cols-12\")\n",
    "    attractions = container.find_all('li', class_ = \"col-span-1 md:col-span-3 lg:col-span-3\")\n",
    "    final_attractions = []\n",
    "    for attraction in attractions:\n",
    "        att = attraction.find('a')\n",
    "        span = att.find('span', class_= 'heading-05 font-semibold')\n",
    "        if span:\n",
    "            final_attractions.append(span.text)\n",
    "    return final_attractions"
   ]
  },
  {
   "cell_type": "code",
   "execution_count": 744,
   "metadata": {
    "scrolled": true
   },
   "outputs": [
    {
     "data": {
      "text/plain": [
       "['Hill of Crosses',\n",
       " 'Palace of the Grand Dukes of Lithuania',\n",
       " 'Vilnius Cathedral',\n",
       " 'Grūtas Park',\n",
       " 'Vilnius University',\n",
       " 'Cold War Museum',\n",
       " 'Museum of Genocide Victims',\n",
       " 'Ninth Fort',\n",
       " 'Cathedral Bell Tower',\n",
       " 'Nemunas Delta Regional Park',\n",
       " 'Trakai Castle',\n",
       " 'Europos Parkas Sculpture Park',\n",
       " 'Cathedral Square',\n",
       " 'Amber Museum',\n",
       " 'Lithuanian Ethnocosmology Museum',\n",
       " 'Tolerance Centre',\n",
       " \"Sts Johns' Church\",\n",
       " 'Užupis Art Incubator',\n",
       " 'MK Čiurlionis National Museum of Art',\n",
       " 'Rinkuškiai Brewery',\n",
       " 'Plateliai Manor',\n",
       " 'MO Museum',\n",
       " 'Orvydas Garden',\n",
       " 'Narrow-Gauge Railway Museum',\n",
       " 'Sugihara House',\n",
       " 'Museum of Devils',\n",
       " 'Kiemo Galerija',\n",
       " 'Choral Synagogue',\n",
       " 'Mindaugas',\n",
       " 'Antakalnis Cemetery',\n",
       " 'Gediminas Castle & Museum',\n",
       " 'Gates of Dawn',\n",
       " \"St Casimir's Church\",\n",
       " 'Pažaislis Monastery',\n",
       " 'Trakai Historical National Park',\n",
       " \"St Anne's Church\",\n",
       " 'Holocaust Exhibition',\n",
       " 'Kenessa',\n",
       " 'National Museum of Lithuania',\n",
       " 'Presidential Palace']"
      ]
     },
     "execution_count": 744,
     "metadata": {},
     "output_type": "execute_result"
    }
   ],
   "source": [
    "lithuania_attractions = get_attractions('https://www.lonelyplanet.com/lithuania/attractions')\n",
    "\n",
    "lithuania_attractions"
   ]
  },
  {
   "cell_type": "markdown",
   "metadata": {},
   "source": [
    "### Get all attractions from all 5 pages"
   ]
  },
  {
   "cell_type": "code",
   "execution_count": 745,
   "metadata": {},
   "outputs": [],
   "source": [
    "# Figure out the pattern with page numbers\n",
    "page_1 = \"https://www.lonelyplanet.com/lithuania/attractions\"\n",
    "page_2 = \"https://www.lonelyplanet.com/lithuania/attractions?page=2\"\n"
   ]
  },
  {
   "cell_type": "code",
   "execution_count": 746,
   "metadata": {},
   "outputs": [
    {
     "data": {
      "text/plain": [
       "'https://www.lonelyplanet.com/lithuania/attractions?page=2'"
      ]
     },
     "execution_count": 746,
     "metadata": {},
     "output_type": "execute_result"
    }
   ],
   "source": [
    "# Test pattern (30 attractions per page)\n",
    "base = 'https://www.lonelyplanet.com/lithuania/attractions'\n",
    "page = '?page'\n",
    "end = \"=\" + str(2)\n",
    "\n",
    "page_2 = base + page + end\n",
    "page_2"
   ]
  },
  {
   "cell_type": "code",
   "execution_count": 747,
   "metadata": {},
   "outputs": [
    {
     "name": "stdout",
     "output_type": "stream",
     "text": [
      "['https://www.lonelyplanet.com/lithuania/attractions', 'https://www.lonelyplanet.com/lithuania/attractions?page=2', 'https://www.lonelyplanet.com/lithuania/attractions?page=3', 'https://www.lonelyplanet.com/lithuania/attractions?page=4', 'https://www.lonelyplanet.com/lithuania/attractions?page=5']\n"
     ]
    }
   ],
   "source": [
    "# Create list of all htmls for London\n",
    "lithuania_htmls = ['https://www.lonelyplanet.com/lithuania/attractions'\n",
    "]\n",
    "for i in range(2, 6):\n",
    "    base = 'https://www.lonelyplanet.com/lithuania/attractions'\n",
    "    page = '?page'\n",
    "    end = \"=\" + str(i)\n",
    "    html = base + page + end\n",
    "    lithuania_htmls.append(str(html))\n",
    "    \n",
    "print(lithuania_htmls)"
   ]
  },
  {
   "cell_type": "code",
   "execution_count": 748,
   "metadata": {},
   "outputs": [],
   "source": [
    "# Build another function that loops through the list of urls and grabs titles\n",
    "def get_all_attractions(html_list):\n",
    "    \"\"\"\n",
    "    input list of strings of html paths from TripAdvisor\n",
    "    returns list of attraction names from all pages\n",
    "    \"\"\"\n",
    "    final_attractions = []\n",
    "    for html in html_list:\n",
    "        html_= requests.get(html)\n",
    "        # content = html.content\n",
    "        soup = BeautifulSoup(html_.content, 'html.parser')\n",
    "\n",
    "        container = soup.find('ul', class_=\"md:grid space-y-14 md:space-y-0 gap-x-6 gap-y-14 md:grid-cols-12\")\n",
    "        attractions = container.find_all('li', class_ = \"col-span-1 md:col-span-3 lg:col-span-3\")\n",
    "        new_attractions = []\n",
    "        for attraction in attractions:\n",
    "            att = attraction.find('a')\n",
    "            span = att.find('span', class_= 'heading-05 font-semibold')\n",
    "            if span:\n",
    "                new_attractions.append(span.text)\n",
    "        final_attractions.extend(new_attractions)\n",
    "    return final_attractions\n"
   ]
  },
  {
   "cell_type": "code",
   "execution_count": 749,
   "metadata": {},
   "outputs": [],
   "source": [
    "# Warning! Takes a few mins to run\n",
    "all_lithuania_attractions = get_all_attractions(lithuania_htmls)"
   ]
  },
  {
   "cell_type": "code",
   "execution_count": 750,
   "metadata": {},
   "outputs": [
    {
     "data": {
      "text/plain": [
       "200"
      ]
     },
     "execution_count": 750,
     "metadata": {},
     "output_type": "execute_result"
    }
   ],
   "source": [
    "len(all_lithuania_attractions)"
   ]
  },
  {
   "cell_type": "code",
   "execution_count": 751,
   "metadata": {},
   "outputs": [
    {
     "data": {
      "text/plain": [
       "['Hill of Crosses',\n",
       " 'Palace of the Grand Dukes of Lithuania',\n",
       " 'Vilnius Cathedral',\n",
       " 'Grūtas Park',\n",
       " 'Vilnius University']"
      ]
     },
     "execution_count": 751,
     "metadata": {},
     "output_type": "execute_result"
    }
   ],
   "source": [
    "all_lithuania_attractions[:5]"
   ]
  },
  {
   "cell_type": "markdown",
   "metadata": {},
   "source": [
    "### Function for descriptions for attractions with more than one page results"
   ]
  },
  {
   "cell_type": "code",
   "execution_count": 752,
   "metadata": {},
   "outputs": [],
   "source": [
    "def get_all_descriptions(html_list):\n",
    "    \"\"\"\n",
    "    input html path from TripAdvisor as a string\n",
    "    returns list of attraction names from that page\n",
    "    \"\"\"\n",
    "    final_descriptions = []\n",
    "    for html in html_list:\n",
    "        html_= requests.get(html)\n",
    "        # content = html.content\n",
    "        soup = BeautifulSoup(html_.content, 'html.parser')\n",
    "\n",
    "        container = soup.find('ul', class_=\"md:grid space-y-14 md:space-y-0 gap-x-6 gap-y-14 md:grid-cols-12\")\n",
    "        attractions = container.find_all('li', class_ = \"col-span-1 md:col-span-3 lg:col-span-3\")\n",
    "\n",
    "        new_descriptions = []\n",
    "        \n",
    "        for attraction in attractions:\n",
    "            p_tag = attraction.find('p', class_= 'relative line-clamp-3')\n",
    "            if p_tag:\n",
    "                new_descriptions.append(p_tag.text)\n",
    "        final_descriptions.extend(new_descriptions)\n",
    "    return final_descriptions\n"
   ]
  },
  {
   "cell_type": "code",
   "execution_count": 753,
   "metadata": {},
   "outputs": [
    {
     "name": "stdout",
     "output_type": "stream",
     "text": [
      "200\n",
      "[\"Lithuania's fabled Hill of Crosses is a symbol of defiance as much as a pilgrimage site. More than 100,000 crosses have been planted on this low hill,…\", 'If you only see one museum in Vilnius, make it this one. On a site that has been settled since the 4th century AD stands the latest in a procession of…', \"Stately Vilnius Cathedral, divorced from its freestanding belfry, is a national symbol and the city's most instantly recognisable building. Known in full…\", 'With Soviet-era statues of Lenin, Stalin and prominent Lithuanian members of the Communist Party that once dominated Lithuanian towns lining the forest…', 'Founded in 1579 during the Catholic Counter Reformation, Vilnius University was run by Jesuits for two centuries. During the 19th century it became one of…']\n"
     ]
    }
   ],
   "source": [
    "all_descriptions_lithuania = get_all_descriptions(lithuania_htmls)\n",
    "print(len(all_descriptions_lithuania))\n",
    "print(all_descriptions_lithuania[:5])"
   ]
  },
  {
   "cell_type": "code",
   "execution_count": 754,
   "metadata": {},
   "outputs": [
    {
     "data": {
      "text/html": [
       "<div>\n",
       "<style scoped>\n",
       "    .dataframe tbody tr th:only-of-type {\n",
       "        vertical-align: middle;\n",
       "    }\n",
       "\n",
       "    .dataframe tbody tr th {\n",
       "        vertical-align: top;\n",
       "    }\n",
       "\n",
       "    .dataframe thead th {\n",
       "        text-align: right;\n",
       "    }\n",
       "</style>\n",
       "<table border=\"1\" class=\"dataframe\">\n",
       "  <thead>\n",
       "    <tr style=\"text-align: right;\">\n",
       "      <th></th>\n",
       "      <th>Attraction</th>\n",
       "      <th>Description</th>\n",
       "      <th>Country</th>\n",
       "      <th>Continent</th>\n",
       "    </tr>\n",
       "  </thead>\n",
       "  <tbody>\n",
       "    <tr>\n",
       "      <th>0</th>\n",
       "      <td>Hill of Crosses</td>\n",
       "      <td>Lithuania's fabled Hill of Crosses is a symbol...</td>\n",
       "      <td>Lithuania</td>\n",
       "      <td>Europe</td>\n",
       "    </tr>\n",
       "    <tr>\n",
       "      <th>1</th>\n",
       "      <td>Palace of the Grand Dukes of Lithuania</td>\n",
       "      <td>If you only see one museum in Vilnius, make it...</td>\n",
       "      <td>Lithuania</td>\n",
       "      <td>Europe</td>\n",
       "    </tr>\n",
       "    <tr>\n",
       "      <th>2</th>\n",
       "      <td>Vilnius Cathedral</td>\n",
       "      <td>Stately Vilnius Cathedral, divorced from its f...</td>\n",
       "      <td>Lithuania</td>\n",
       "      <td>Europe</td>\n",
       "    </tr>\n",
       "    <tr>\n",
       "      <th>3</th>\n",
       "      <td>Grūtas Park</td>\n",
       "      <td>With Soviet-era statues of Lenin, Stalin and p...</td>\n",
       "      <td>Lithuania</td>\n",
       "      <td>Europe</td>\n",
       "    </tr>\n",
       "    <tr>\n",
       "      <th>4</th>\n",
       "      <td>Vilnius University</td>\n",
       "      <td>Founded in 1579 during the Catholic Counter Re...</td>\n",
       "      <td>Lithuania</td>\n",
       "      <td>Europe</td>\n",
       "    </tr>\n",
       "  </tbody>\n",
       "</table>\n",
       "</div>"
      ],
      "text/plain": [
       "                               Attraction  \\\n",
       "0                         Hill of Crosses   \n",
       "1  Palace of the Grand Dukes of Lithuania   \n",
       "2                       Vilnius Cathedral   \n",
       "3                             Grūtas Park   \n",
       "4                      Vilnius University   \n",
       "\n",
       "                                         Description    Country Continent  \n",
       "0  Lithuania's fabled Hill of Crosses is a symbol...  Lithuania    Europe  \n",
       "1  If you only see one museum in Vilnius, make it...  Lithuania    Europe  \n",
       "2  Stately Vilnius Cathedral, divorced from its f...  Lithuania    Europe  \n",
       "3  With Soviet-era statues of Lenin, Stalin and p...  Lithuania    Europe  \n",
       "4  Founded in 1579 during the Catholic Counter Re...  Lithuania    Europe  "
      ]
     },
     "execution_count": 754,
     "metadata": {},
     "output_type": "execute_result"
    }
   ],
   "source": [
    "# Make into a DataFrame\n",
    "lithuania_df = pd.DataFrame(all_lithuania_attractions, columns=['Attraction'])\n",
    "lithuania_df['Description'] = all_descriptions_lithuania\n",
    "lithuania_df['Country'] = 'Lithuania'\n",
    "lithuania_df['Continent'] = 'Europe'\n",
    "lithuania_df.head()\n"
   ]
  },
  {
   "cell_type": "code",
   "execution_count": 755,
   "metadata": {},
   "outputs": [],
   "source": [
    "# Save DF to local comp\n",
    "lithuania_df.to_csv('/Users/rosew/Desktop/Moringa/phase_5/individual_attractions/lithuania_df.csv')"
   ]
  },
  {
   "cell_type": "markdown",
   "metadata": {},
   "source": [
    "## Repeat for all top Destinations"
   ]
  },
  {
   "cell_type": "markdown",
   "metadata": {},
   "source": [
    "### 3. Fiji"
   ]
  },
  {
   "cell_type": "code",
   "execution_count": 756,
   "metadata": {},
   "outputs": [],
   "source": [
    "fiji_html = 'https://www.lonelyplanet.com/fiji/attractions'"
   ]
  },
  {
   "cell_type": "code",
   "execution_count": 757,
   "metadata": {},
   "outputs": [
    {
     "name": "stdout",
     "output_type": "stream",
     "text": [
      "['https://www.lonelyplanet.com/fiji/attractions', 'https://www.lonelyplanet.com/fiji/attractions?page=2']\n"
     ]
    }
   ],
   "source": [
    "# Create list of all htmls for Paris\n",
    "fiji_htmls = [fiji_html]\n",
    "for i in range(2, 3):\n",
    "    base = 'https://www.lonelyplanet.com/fiji/attractions'\n",
    "    page = '?page'\n",
    "    end = \"=\" + str(i)\n",
    "    html = base + page + end\n",
    "    fiji_htmls.append(str(html))\n",
    "print(fiji_htmls)"
   ]
  },
  {
   "cell_type": "code",
   "execution_count": 758,
   "metadata": {},
   "outputs": [
    {
     "name": "stdout",
     "output_type": "stream",
     "text": [
      "80\n",
      "['Colo-i-Suva Forest Park', 'Fiji Museum', 'Suva Municipal Market', 'Sri Siva Subramaniya Swami Temple', 'Mariamma Temple']\n"
     ]
    }
   ],
   "source": [
    "all_attractions_fiji = get_all_attractions(fiji_htmls)\n",
    "print(len(all_attractions_fiji))\n",
    "print(all_attractions_fiji[:5])"
   ]
  },
  {
   "cell_type": "code",
   "execution_count": 759,
   "metadata": {},
   "outputs": [
    {
     "name": "stdout",
     "output_type": "stream",
     "text": [
      "80\n",
      "['Colo-i-Suva (pronounced tholo-ee-soo-va) is a 2.5-sq-km oasis of lush rainforest teeming with tropical plants and vivid and melodic bird life. The 6.5km…', 'This museum offers a great journey into Fiji’s historical and cultural and evolution. To enjoy the exhibits in chronological order, start with the…', 'It’s the beating heart of Suva and a great place to spend an hour or so poking around with a camera. The boys with barrows own the lanes and they aren’t…', 'This riotously bright Hindu temple is one of the few places outside India where you can see traditional Dravidian architecture; the wooden carvings of…', \"The South Indian fire-walking festival is held here during July or August. Of all Fiji's cultural rituals, the extraordinary art of fire walking is…\"]\n"
     ]
    }
   ],
   "source": [
    "all_descriptions_fiji = get_all_descriptions(fiji_htmls)\n",
    "print(len(all_descriptions_fiji))\n",
    "print(all_descriptions_fiji[:5])"
   ]
  },
  {
   "cell_type": "code",
   "execution_count": 760,
   "metadata": {},
   "outputs": [
    {
     "data": {
      "text/html": [
       "<div>\n",
       "<style scoped>\n",
       "    .dataframe tbody tr th:only-of-type {\n",
       "        vertical-align: middle;\n",
       "    }\n",
       "\n",
       "    .dataframe tbody tr th {\n",
       "        vertical-align: top;\n",
       "    }\n",
       "\n",
       "    .dataframe thead th {\n",
       "        text-align: right;\n",
       "    }\n",
       "</style>\n",
       "<table border=\"1\" class=\"dataframe\">\n",
       "  <thead>\n",
       "    <tr style=\"text-align: right;\">\n",
       "      <th></th>\n",
       "      <th>Attraction</th>\n",
       "      <th>Description</th>\n",
       "      <th>Country</th>\n",
       "      <th>Continent</th>\n",
       "    </tr>\n",
       "  </thead>\n",
       "  <tbody>\n",
       "    <tr>\n",
       "      <th>0</th>\n",
       "      <td>Colo-i-Suva Forest Park</td>\n",
       "      <td>Colo-i-Suva (pronounced tholo-ee-soo-va) is a ...</td>\n",
       "      <td>Fiji</td>\n",
       "      <td>Asia</td>\n",
       "    </tr>\n",
       "    <tr>\n",
       "      <th>1</th>\n",
       "      <td>Fiji Museum</td>\n",
       "      <td>This museum offers a great journey into Fiji’s...</td>\n",
       "      <td>Fiji</td>\n",
       "      <td>Asia</td>\n",
       "    </tr>\n",
       "    <tr>\n",
       "      <th>2</th>\n",
       "      <td>Suva Municipal Market</td>\n",
       "      <td>It’s the beating heart of Suva and a great pla...</td>\n",
       "      <td>Fiji</td>\n",
       "      <td>Asia</td>\n",
       "    </tr>\n",
       "    <tr>\n",
       "      <th>3</th>\n",
       "      <td>Sri Siva Subramaniya Swami Temple</td>\n",
       "      <td>This riotously bright Hindu temple is one of t...</td>\n",
       "      <td>Fiji</td>\n",
       "      <td>Asia</td>\n",
       "    </tr>\n",
       "    <tr>\n",
       "      <th>4</th>\n",
       "      <td>Mariamma Temple</td>\n",
       "      <td>The South Indian fire-walking festival is held...</td>\n",
       "      <td>Fiji</td>\n",
       "      <td>Asia</td>\n",
       "    </tr>\n",
       "  </tbody>\n",
       "</table>\n",
       "</div>"
      ],
      "text/plain": [
       "                          Attraction  \\\n",
       "0            Colo-i-Suva Forest Park   \n",
       "1                        Fiji Museum   \n",
       "2              Suva Municipal Market   \n",
       "3  Sri Siva Subramaniya Swami Temple   \n",
       "4                    Mariamma Temple   \n",
       "\n",
       "                                         Description Country Continent  \n",
       "0  Colo-i-Suva (pronounced tholo-ee-soo-va) is a ...    Fiji      Asia  \n",
       "1  This museum offers a great journey into Fiji’s...    Fiji      Asia  \n",
       "2  It’s the beating heart of Suva and a great pla...    Fiji      Asia  \n",
       "3  This riotously bright Hindu temple is one of t...    Fiji      Asia  \n",
       "4  The South Indian fire-walking festival is held...    Fiji      Asia  "
      ]
     },
     "execution_count": 760,
     "metadata": {},
     "output_type": "execute_result"
    }
   ],
   "source": [
    "fiji_df = pd.DataFrame(all_attractions_fiji, columns=['Attraction'])\n",
    "fiji_df['Description'] = all_descriptions_fiji\n",
    "fiji_df['Country'] = 'Fiji'\n",
    "fiji_df['Continent'] = 'Asia'\n",
    "fiji_df.head()"
   ]
  },
  {
   "cell_type": "code",
   "execution_count": 761,
   "metadata": {},
   "outputs": [],
   "source": [
    "fiji_df.to_csv('/Users/rosew/Desktop/Moringa/phase_5/individual_attractions/fiji_df.csv')"
   ]
  },
  {
   "cell_type": "markdown",
   "metadata": {},
   "source": [
    "### 4. Laos"
   ]
  },
  {
   "cell_type": "code",
   "execution_count": 762,
   "metadata": {},
   "outputs": [],
   "source": [
    "laos_html = 'https://www.lonelyplanet.com/laos/attractions'"
   ]
  },
  {
   "cell_type": "code",
   "execution_count": 763,
   "metadata": {},
   "outputs": [
    {
     "name": "stdout",
     "output_type": "stream",
     "text": [
      "['https://www.lonelyplanet.com/laos/attractions', 'https://www.lonelyplanet.com/laos/attractions?page=2', 'https://www.lonelyplanet.com/laos/attractions?page=3']\n"
     ]
    }
   ],
   "source": [
    "# Create list of all htmls for Paris\n",
    "laos_htmls = [laos_html]\n",
    "for i in range(2, 4):\n",
    "    base = 'https://www.lonelyplanet.com/laos/attractions'\n",
    "    page = '?page'\n",
    "    end = \"=\" + str(i)\n",
    "    html = base + page + end\n",
    "    laos_htmls.append(str(html))\n",
    "print(laos_htmls)"
   ]
  },
  {
   "cell_type": "code",
   "execution_count": 764,
   "metadata": {},
   "outputs": [
    {
     "name": "stdout",
     "output_type": "stream",
     "text": [
      "120\n",
      "['Wat Xieng Thong', 'Vieng Xai Caves', 'Wat Phu Champasak', 'Phu Si', 'Tat Kuang Si']\n"
     ]
    }
   ],
   "source": [
    "all_attractions_laos = get_all_attractions(laos_htmls)\n",
    "print(len(all_attractions_laos))\n",
    "print(all_attractions_laos[:5])"
   ]
  },
  {
   "cell_type": "code",
   "execution_count": 765,
   "metadata": {},
   "outputs": [
    {
     "name": "stdout",
     "output_type": "stream",
     "text": [
      "120\n",
      "[\"Luang Prabang's best-known monastery is centred on a 1560 sǐm (ordination hall). Its roofs sweep low to the ground and there's a stunning 'tree of life'…\", \"Joining a truly fascinating 18-point tour is the only way to see Vieng Xai's seven most important war-shelter cave complexes, set in beautiful gardens…\", 'Bucolic Wat Phu sits in graceful decrepitude, and while it lacks the arresting enormity of Angkor in Cambodia, given its few visitors and more dramatic…', 'Dominating the old city centre and a favourite with sunset junkies, the 100m-tall Phu Si (prepare your legs for a steep 329-step ascent) is crowned by a…', 'Thirty kilometres southwest of Luang Prabang, Tat Kuang Si is a many-tiered waterfall tumbling over limestone formations into a series of cool, swimmable…']\n"
     ]
    }
   ],
   "source": [
    "all_descriptions_laos = get_all_descriptions(laos_htmls)\n",
    "print(len(all_descriptions_laos))\n",
    "print(all_descriptions_laos[:5])"
   ]
  },
  {
   "cell_type": "code",
   "execution_count": 766,
   "metadata": {},
   "outputs": [
    {
     "data": {
      "text/html": [
       "<div>\n",
       "<style scoped>\n",
       "    .dataframe tbody tr th:only-of-type {\n",
       "        vertical-align: middle;\n",
       "    }\n",
       "\n",
       "    .dataframe tbody tr th {\n",
       "        vertical-align: top;\n",
       "    }\n",
       "\n",
       "    .dataframe thead th {\n",
       "        text-align: right;\n",
       "    }\n",
       "</style>\n",
       "<table border=\"1\" class=\"dataframe\">\n",
       "  <thead>\n",
       "    <tr style=\"text-align: right;\">\n",
       "      <th></th>\n",
       "      <th>Attraction</th>\n",
       "      <th>Description</th>\n",
       "      <th>Country</th>\n",
       "      <th>Continent</th>\n",
       "    </tr>\n",
       "  </thead>\n",
       "  <tbody>\n",
       "    <tr>\n",
       "      <th>0</th>\n",
       "      <td>Wat Xieng Thong</td>\n",
       "      <td>Luang Prabang's best-known monastery is centre...</td>\n",
       "      <td>Laos</td>\n",
       "      <td>Asia</td>\n",
       "    </tr>\n",
       "    <tr>\n",
       "      <th>1</th>\n",
       "      <td>Vieng Xai Caves</td>\n",
       "      <td>Joining a truly fascinating 18-point tour is t...</td>\n",
       "      <td>Laos</td>\n",
       "      <td>Asia</td>\n",
       "    </tr>\n",
       "    <tr>\n",
       "      <th>2</th>\n",
       "      <td>Wat Phu Champasak</td>\n",
       "      <td>Bucolic Wat Phu sits in graceful decrepitude, ...</td>\n",
       "      <td>Laos</td>\n",
       "      <td>Asia</td>\n",
       "    </tr>\n",
       "    <tr>\n",
       "      <th>3</th>\n",
       "      <td>Phu Si</td>\n",
       "      <td>Dominating the old city centre and a favourite...</td>\n",
       "      <td>Laos</td>\n",
       "      <td>Asia</td>\n",
       "    </tr>\n",
       "    <tr>\n",
       "      <th>4</th>\n",
       "      <td>Tat Kuang Si</td>\n",
       "      <td>Thirty kilometres southwest of Luang Prabang, ...</td>\n",
       "      <td>Laos</td>\n",
       "      <td>Asia</td>\n",
       "    </tr>\n",
       "  </tbody>\n",
       "</table>\n",
       "</div>"
      ],
      "text/plain": [
       "          Attraction                                        Description  \\\n",
       "0    Wat Xieng Thong  Luang Prabang's best-known monastery is centre...   \n",
       "1    Vieng Xai Caves  Joining a truly fascinating 18-point tour is t...   \n",
       "2  Wat Phu Champasak  Bucolic Wat Phu sits in graceful decrepitude, ...   \n",
       "3             Phu Si  Dominating the old city centre and a favourite...   \n",
       "4       Tat Kuang Si  Thirty kilometres southwest of Luang Prabang, ...   \n",
       "\n",
       "  Country Continent  \n",
       "0    Laos      Asia  \n",
       "1    Laos      Asia  \n",
       "2    Laos      Asia  \n",
       "3    Laos      Asia  \n",
       "4    Laos      Asia  "
      ]
     },
     "execution_count": 766,
     "metadata": {},
     "output_type": "execute_result"
    }
   ],
   "source": [
    "laos_df = pd.DataFrame(all_attractions_laos, columns=['Attraction'])\n",
    "laos_df['Description'] = all_descriptions_laos\n",
    "laos_df['Country'] = 'Laos'\n",
    "laos_df['Continent'] = 'Asia'\n",
    "laos_df.head()"
   ]
  },
  {
   "cell_type": "code",
   "execution_count": 767,
   "metadata": {},
   "outputs": [],
   "source": [
    "laos_df.to_csv('/Users/rosew/Desktop/Moringa/phase_5/individual_attractions/laos_df.csv')"
   ]
  },
  {
   "cell_type": "markdown",
   "metadata": {},
   "source": [
    "### 5. Kazakhstan"
   ]
  },
  {
   "cell_type": "code",
   "execution_count": 768,
   "metadata": {},
   "outputs": [],
   "source": [
    "kazakhstan_html = 'https://www.lonelyplanet.com/kazakhstan/attractions'"
   ]
  },
  {
   "cell_type": "code",
   "execution_count": 769,
   "metadata": {},
   "outputs": [
    {
     "name": "stdout",
     "output_type": "stream",
     "text": [
      "['https://www.lonelyplanet.com/kazakhstan/attractions', 'https://www.lonelyplanet.com/kazakhstan/attractions?page=2', 'https://www.lonelyplanet.com/kazakhstan/attractions?page=3']\n"
     ]
    }
   ],
   "source": [
    "# Create list of all htmls for Paris\n",
    "kazakhstan_htmls = [kazakhstan_html]\n",
    "for i in range(2, 4):\n",
    "    base = 'https://www.lonelyplanet.com/kazakhstan/attractions'\n",
    "    page = '?page'\n",
    "    end = \"=\" + str(i)\n",
    "    html = base + page + end\n",
    "    kazakhstan_htmls.append(str(html))\n",
    "print(kazakhstan_htmls)"
   ]
  },
  {
   "cell_type": "code",
   "execution_count": 770,
   "metadata": {},
   "outputs": [
    {
     "name": "stdout",
     "output_type": "stream",
     "text": [
      "120\n",
      "['Beket-Ata', 'National Museum of the Republic of Kazakhstan', 'Charyn Canyon', 'KarLag Museum', 'Khan Shatyr']\n"
     ]
    }
   ],
   "source": [
    "all_attractions_kazakhstan = get_all_attractions(kazakhstan_htmls)\n",
    "print(len(all_attractions_kazakhstan))\n",
    "print(all_attractions_kazakhstan[:5])"
   ]
  },
  {
   "cell_type": "code",
   "execution_count": 771,
   "metadata": {},
   "outputs": [
    {
     "name": "stdout",
     "output_type": "stream",
     "text": [
      "120\n",
      "['Some 285km east of Aktau, Beket-Ata is an important and extremely popular place of pilgrimage for those wishing to visit the underground mosque and final…', 'This huge blue-glass-and-white-marble museum covers the history and culture of Kazakhstan from ancient to modern times. Themed halls comprise interactive…', 'Over millions of years, the swift Charyn (Sharyn) River has carved a truly spectacular 150m- to 300m-deep canyon into the otherwise flat steppe some 200km…', \"Housed in the old KarLag headquarters building, this poignant museum walks you through KarLag's role in the Soviet Gulag Archipelago. The repression of…\", \"Nur-Sultan's most extraordinary building (so far), the Khan Shatyr is a 150m-high, translucent, tentlike structure made of ethylene tetrafluoroethylene …\"]\n"
     ]
    }
   ],
   "source": [
    "all_descriptions_kazakstan = get_all_descriptions(kazakhstan_htmls)\n",
    "print(len(all_descriptions_kazakstan))\n",
    "print(all_descriptions_kazakstan[:5])"
   ]
  },
  {
   "cell_type": "code",
   "execution_count": 772,
   "metadata": {},
   "outputs": [
    {
     "data": {
      "text/html": [
       "<div>\n",
       "<style scoped>\n",
       "    .dataframe tbody tr th:only-of-type {\n",
       "        vertical-align: middle;\n",
       "    }\n",
       "\n",
       "    .dataframe tbody tr th {\n",
       "        vertical-align: top;\n",
       "    }\n",
       "\n",
       "    .dataframe thead th {\n",
       "        text-align: right;\n",
       "    }\n",
       "</style>\n",
       "<table border=\"1\" class=\"dataframe\">\n",
       "  <thead>\n",
       "    <tr style=\"text-align: right;\">\n",
       "      <th></th>\n",
       "      <th>Attraction</th>\n",
       "      <th>Description</th>\n",
       "      <th>Country</th>\n",
       "      <th>Continent</th>\n",
       "    </tr>\n",
       "  </thead>\n",
       "  <tbody>\n",
       "    <tr>\n",
       "      <th>0</th>\n",
       "      <td>Beket-Ata</td>\n",
       "      <td>Some 285km east of Aktau, Beket-Ata is an impo...</td>\n",
       "      <td>Kazakhstan</td>\n",
       "      <td>Asia</td>\n",
       "    </tr>\n",
       "    <tr>\n",
       "      <th>1</th>\n",
       "      <td>National Museum of the Republic of Kazakhstan</td>\n",
       "      <td>This huge blue-glass-and-white-marble museum c...</td>\n",
       "      <td>Kazakhstan</td>\n",
       "      <td>Asia</td>\n",
       "    </tr>\n",
       "    <tr>\n",
       "      <th>2</th>\n",
       "      <td>Charyn Canyon</td>\n",
       "      <td>Over millions of years, the swift Charyn (Shar...</td>\n",
       "      <td>Kazakhstan</td>\n",
       "      <td>Asia</td>\n",
       "    </tr>\n",
       "    <tr>\n",
       "      <th>3</th>\n",
       "      <td>KarLag Museum</td>\n",
       "      <td>Housed in the old KarLag headquarters building...</td>\n",
       "      <td>Kazakhstan</td>\n",
       "      <td>Asia</td>\n",
       "    </tr>\n",
       "    <tr>\n",
       "      <th>4</th>\n",
       "      <td>Khan Shatyr</td>\n",
       "      <td>Nur-Sultan's most extraordinary building (so f...</td>\n",
       "      <td>Kazakhstan</td>\n",
       "      <td>Asia</td>\n",
       "    </tr>\n",
       "  </tbody>\n",
       "</table>\n",
       "</div>"
      ],
      "text/plain": [
       "                                      Attraction  \\\n",
       "0                                      Beket-Ata   \n",
       "1  National Museum of the Republic of Kazakhstan   \n",
       "2                                  Charyn Canyon   \n",
       "3                                  KarLag Museum   \n",
       "4                                    Khan Shatyr   \n",
       "\n",
       "                                         Description     Country Continent  \n",
       "0  Some 285km east of Aktau, Beket-Ata is an impo...  Kazakhstan      Asia  \n",
       "1  This huge blue-glass-and-white-marble museum c...  Kazakhstan      Asia  \n",
       "2  Over millions of years, the swift Charyn (Shar...  Kazakhstan      Asia  \n",
       "3  Housed in the old KarLag headquarters building...  Kazakhstan      Asia  \n",
       "4  Nur-Sultan's most extraordinary building (so f...  Kazakhstan      Asia  "
      ]
     },
     "execution_count": 772,
     "metadata": {},
     "output_type": "execute_result"
    }
   ],
   "source": [
    "kazakhstan_df = pd.DataFrame(all_attractions_kazakhstan, columns=['Attraction'])\n",
    "kazakhstan_df['Description'] = all_descriptions_kazakstan\n",
    "kazakhstan_df['Country'] = 'Kazakhstan'\n",
    "kazakhstan_df['Continent'] = 'Asia'\n",
    "kazakhstan_df.head()"
   ]
  },
  {
   "cell_type": "code",
   "execution_count": 773,
   "metadata": {},
   "outputs": [],
   "source": [
    "kazakhstan_df.to_csv('/Users/rosew/Desktop/Moringa/phase_5/individual_attractions/kazakhstan_df.csv')"
   ]
  },
  {
   "cell_type": "markdown",
   "metadata": {},
   "source": [
    "### 6. Paraguay"
   ]
  },
  {
   "cell_type": "code",
   "execution_count": 774,
   "metadata": {},
   "outputs": [],
   "source": [
    "paraguay_html = 'https://www.lonelyplanet.com/paraguay/attractions'"
   ]
  },
  {
   "cell_type": "code",
   "execution_count": 775,
   "metadata": {},
   "outputs": [
    {
     "name": "stdout",
     "output_type": "stream",
     "text": [
      "37\n",
      "['Yaguarón Church', 'Trinidad', 'Museo Jesuítica de Santa Fe', 'Panteón de los Héroes', 'Casa de la Independencia']\n"
     ]
    }
   ],
   "source": [
    "all_attractions_paraguay = get_attractions_one_page(paraguay_html)\n",
    "print(len(all_attractions_paraguay))\n",
    "print(all_attractions_paraguay[:5])"
   ]
  },
  {
   "cell_type": "code",
   "execution_count": 776,
   "metadata": {},
   "outputs": [
    {
     "name": "stdout",
     "output_type": "stream",
     "text": [
      "37\n",
      "['This 18th-century Franciscan church is a landmark of colonial architecture that is not to be missed. The simple design of the exterior, with its separate…', 'A visually striking red-sandstone structure with an ornate style incorporating Roman arches, and strongly featuring the passion-flower motif, signature of…', 'A must-see for those interested in Jesuit history, housing fine examples of religious carving. The indigenous carvers were taught their trade by a Jesuit…', \"Asunción's most instantly recognizable building, the imposing Panteón de los Héroes protects the remains of Mariscal Francisco Solano López and other key…\", 'The Casa de la Independencia dates from 1772 and is where Paraguay became the first country on the continent to declare its independence in 1811. Rooms…']\n"
     ]
    }
   ],
   "source": [
    "all_descriptions_paraguay = get_all_descriptions_one_page(paraguay_html)\n",
    "print(len(all_descriptions_paraguay))\n",
    "print(all_descriptions_paraguay[:5])"
   ]
  },
  {
   "cell_type": "code",
   "execution_count": 777,
   "metadata": {},
   "outputs": [
    {
     "data": {
      "text/html": [
       "<div>\n",
       "<style scoped>\n",
       "    .dataframe tbody tr th:only-of-type {\n",
       "        vertical-align: middle;\n",
       "    }\n",
       "\n",
       "    .dataframe tbody tr th {\n",
       "        vertical-align: top;\n",
       "    }\n",
       "\n",
       "    .dataframe thead th {\n",
       "        text-align: right;\n",
       "    }\n",
       "</style>\n",
       "<table border=\"1\" class=\"dataframe\">\n",
       "  <thead>\n",
       "    <tr style=\"text-align: right;\">\n",
       "      <th></th>\n",
       "      <th>Attraction</th>\n",
       "      <th>Description</th>\n",
       "      <th>Country</th>\n",
       "      <th>Continent</th>\n",
       "    </tr>\n",
       "  </thead>\n",
       "  <tbody>\n",
       "    <tr>\n",
       "      <th>0</th>\n",
       "      <td>Yaguarón Church</td>\n",
       "      <td>This 18th-century Franciscan church is a landm...</td>\n",
       "      <td>Paraguay</td>\n",
       "      <td>South America</td>\n",
       "    </tr>\n",
       "    <tr>\n",
       "      <th>1</th>\n",
       "      <td>Trinidad</td>\n",
       "      <td>A visually striking red-sandstone structure wi...</td>\n",
       "      <td>Paraguay</td>\n",
       "      <td>South America</td>\n",
       "    </tr>\n",
       "    <tr>\n",
       "      <th>2</th>\n",
       "      <td>Museo Jesuítica de Santa Fe</td>\n",
       "      <td>A must-see for those interested in Jesuit hist...</td>\n",
       "      <td>Paraguay</td>\n",
       "      <td>South America</td>\n",
       "    </tr>\n",
       "    <tr>\n",
       "      <th>3</th>\n",
       "      <td>Panteón de los Héroes</td>\n",
       "      <td>Asunción's most instantly recognizable buildin...</td>\n",
       "      <td>Paraguay</td>\n",
       "      <td>South America</td>\n",
       "    </tr>\n",
       "    <tr>\n",
       "      <th>4</th>\n",
       "      <td>Casa de la Independencia</td>\n",
       "      <td>The Casa de la Independencia dates from 1772 a...</td>\n",
       "      <td>Paraguay</td>\n",
       "      <td>South America</td>\n",
       "    </tr>\n",
       "  </tbody>\n",
       "</table>\n",
       "</div>"
      ],
      "text/plain": [
       "                    Attraction  \\\n",
       "0              Yaguarón Church   \n",
       "1                     Trinidad   \n",
       "2  Museo Jesuítica de Santa Fe   \n",
       "3        Panteón de los Héroes   \n",
       "4     Casa de la Independencia   \n",
       "\n",
       "                                         Description   Country      Continent  \n",
       "0  This 18th-century Franciscan church is a landm...  Paraguay  South America  \n",
       "1  A visually striking red-sandstone structure wi...  Paraguay  South America  \n",
       "2  A must-see for those interested in Jesuit hist...  Paraguay  South America  \n",
       "3  Asunción's most instantly recognizable buildin...  Paraguay  South America  \n",
       "4  The Casa de la Independencia dates from 1772 a...  Paraguay  South America  "
      ]
     },
     "execution_count": 777,
     "metadata": {},
     "output_type": "execute_result"
    }
   ],
   "source": [
    "paraguay_df = pd.DataFrame(all_attractions_paraguay, columns=['Attraction'])\n",
    "paraguay_df['Description'] = all_descriptions_paraguay\n",
    "paraguay_df['Country'] = 'Paraguay'\n",
    "paraguay_df['Continent'] = 'South America'\n",
    "paraguay_df.head()"
   ]
  },
  {
   "cell_type": "code",
   "execution_count": 778,
   "metadata": {},
   "outputs": [],
   "source": [
    "paraguay_df.to_csv('/Users/rosew/Desktop/Moringa/phase_5/individual_attractions/paraguay_df.csv')"
   ]
  },
  {
   "cell_type": "markdown",
   "metadata": {},
   "source": [
    "### 7. Trinidad & Tobago"
   ]
  },
  {
   "cell_type": "code",
   "execution_count": 779,
   "metadata": {},
   "outputs": [],
   "source": [
    "trin_n_tob_html = 'https://www.lonelyplanet.com/trinidad-and-tobago/attractions'"
   ]
  },
  {
   "cell_type": "code",
   "execution_count": 780,
   "metadata": {},
   "outputs": [
    {
     "name": "stdout",
     "output_type": "stream",
     "text": [
      "40\n",
      "['Asa Wright Nature Centre', 'Pitch Lake', 'Pirate’s Bay', 'Corbin Local Wildlife Park', 'Queen’s Park Savannah']\n"
     ]
    }
   ],
   "source": [
    "all_attractions_trin_n_tob = get_attractions_one_page(trin_n_tob_html)\n",
    "print(len(all_attractions_trin_n_tob))\n",
    "print(all_attractions_trin_n_tob[:5])"
   ]
  },
  {
   "cell_type": "code",
   "execution_count": 781,
   "metadata": {},
   "outputs": [
    {
     "name": "stdout",
     "output_type": "stream",
     "text": [
      "40\n",
      "['A former cocoa and coffee plantation transformed into an 600-hectare nature reserve, this place blows the minds of birdwatchers. Even if you can’t tell a…', \"About 25km southwest of San Fernando, and just south of the small town of La Brea, this slowly bubbling black 'lake' is perhaps Trinidad’s greatest oddity…\", \"Past Charlotteville's pier, a dirt track winds up and around the cliff to concrete steps that descend to Pirate’s Bay, which offers excellent snorkeling…\", \"Established by hunter turned conservationist Roy Corbin in Tobago's forest-covered interior, just inland of the windward coast's Hope Bay, this nonprofit…\", 'Once part of a sugar plantation, formerly home to a racecourse and now the epicenter of the annual Carnival, this public park is encircled by a 3.7km…']\n"
     ]
    }
   ],
   "source": [
    "all_descriptions_trin = get_all_descriptions_one_page(trin_n_tob_html)\n",
    "print(len(all_descriptions_trin))\n",
    "print(all_descriptions_trin[:5])"
   ]
  },
  {
   "cell_type": "code",
   "execution_count": 782,
   "metadata": {},
   "outputs": [
    {
     "data": {
      "text/html": [
       "<div>\n",
       "<style scoped>\n",
       "    .dataframe tbody tr th:only-of-type {\n",
       "        vertical-align: middle;\n",
       "    }\n",
       "\n",
       "    .dataframe tbody tr th {\n",
       "        vertical-align: top;\n",
       "    }\n",
       "\n",
       "    .dataframe thead th {\n",
       "        text-align: right;\n",
       "    }\n",
       "</style>\n",
       "<table border=\"1\" class=\"dataframe\">\n",
       "  <thead>\n",
       "    <tr style=\"text-align: right;\">\n",
       "      <th></th>\n",
       "      <th>Attraction</th>\n",
       "      <th>Description</th>\n",
       "      <th>Country</th>\n",
       "      <th>Continent</th>\n",
       "    </tr>\n",
       "  </thead>\n",
       "  <tbody>\n",
       "    <tr>\n",
       "      <th>0</th>\n",
       "      <td>Asa Wright Nature Centre</td>\n",
       "      <td>A former cocoa and coffee plantation transform...</td>\n",
       "      <td>Trinidad &amp; Tobago</td>\n",
       "      <td>South America</td>\n",
       "    </tr>\n",
       "    <tr>\n",
       "      <th>1</th>\n",
       "      <td>Pitch Lake</td>\n",
       "      <td>About 25km southwest of San Fernando, and just...</td>\n",
       "      <td>Trinidad &amp; Tobago</td>\n",
       "      <td>South America</td>\n",
       "    </tr>\n",
       "    <tr>\n",
       "      <th>2</th>\n",
       "      <td>Pirate’s Bay</td>\n",
       "      <td>Past Charlotteville's pier, a dirt track winds...</td>\n",
       "      <td>Trinidad &amp; Tobago</td>\n",
       "      <td>South America</td>\n",
       "    </tr>\n",
       "    <tr>\n",
       "      <th>3</th>\n",
       "      <td>Corbin Local Wildlife Park</td>\n",
       "      <td>Established by hunter turned conservationist R...</td>\n",
       "      <td>Trinidad &amp; Tobago</td>\n",
       "      <td>South America</td>\n",
       "    </tr>\n",
       "    <tr>\n",
       "      <th>4</th>\n",
       "      <td>Queen’s Park Savannah</td>\n",
       "      <td>Once part of a sugar plantation, formerly home...</td>\n",
       "      <td>Trinidad &amp; Tobago</td>\n",
       "      <td>South America</td>\n",
       "    </tr>\n",
       "  </tbody>\n",
       "</table>\n",
       "</div>"
      ],
      "text/plain": [
       "                   Attraction  \\\n",
       "0    Asa Wright Nature Centre   \n",
       "1                  Pitch Lake   \n",
       "2                Pirate’s Bay   \n",
       "3  Corbin Local Wildlife Park   \n",
       "4       Queen’s Park Savannah   \n",
       "\n",
       "                                         Description            Country  \\\n",
       "0  A former cocoa and coffee plantation transform...  Trinidad & Tobago   \n",
       "1  About 25km southwest of San Fernando, and just...  Trinidad & Tobago   \n",
       "2  Past Charlotteville's pier, a dirt track winds...  Trinidad & Tobago   \n",
       "3  Established by hunter turned conservationist R...  Trinidad & Tobago   \n",
       "4  Once part of a sugar plantation, formerly home...  Trinidad & Tobago   \n",
       "\n",
       "       Continent  \n",
       "0  South America  \n",
       "1  South America  \n",
       "2  South America  \n",
       "3  South America  \n",
       "4  South America  "
      ]
     },
     "execution_count": 782,
     "metadata": {},
     "output_type": "execute_result"
    }
   ],
   "source": [
    "trin_n_tob_df = pd.DataFrame(all_attractions_trin_n_tob, columns=['Attraction'])\n",
    "trin_n_tob_df['Description'] = all_descriptions_trin\n",
    "trin_n_tob_df['Country'] = 'Trinidad & Tobago'\n",
    "trin_n_tob_df['Continent'] = 'South America'\n",
    "trin_n_tob_df.head()"
   ]
  },
  {
   "cell_type": "code",
   "execution_count": 783,
   "metadata": {},
   "outputs": [],
   "source": [
    "trin_n_tob_df.to_csv('/Users/rosew/Desktop/Moringa/phase_5/individual_attractions/trin_n_tob_df.csv')"
   ]
  },
  {
   "cell_type": "markdown",
   "metadata": {},
   "source": [
    "### 8. Vanuatu"
   ]
  },
  {
   "cell_type": "code",
   "execution_count": 784,
   "metadata": {},
   "outputs": [],
   "source": [
    "vanuatu_html = 'https://www.lonelyplanet.com/vanuatu/attractions'"
   ]
  },
  {
   "cell_type": "code",
   "execution_count": 785,
   "metadata": {},
   "outputs": [
    {
     "name": "stdout",
     "output_type": "stream",
     "text": [
      "31\n",
      "['Mele Cascades', 'National Museum of Vanuatu', 'Port Olry', 'Iririki Island', 'Hideaway Island']\n"
     ]
    }
   ],
   "source": [
    "all_attractions_vanuatu = get_attractions_one_page(vanuatu_html)\n",
    "print(len(all_attractions_vanuatu))\n",
    "print(all_attractions_vanuatu[:5])"
   ]
  },
  {
   "cell_type": "code",
   "execution_count": 786,
   "metadata": {},
   "outputs": [
    {
     "name": "stdout",
     "output_type": "stream",
     "text": [
      "31\n",
      "['This popular and photogenic swimming spot is 10km from Port Vila. A series of clear aquamarine pools terrace up the hillside, culminating in an impressive…', 'This excellent museum, in a soaring traditional building opposite the parliament, has a well-displayed collection of traditional artefacts such as tamtam …', 'At the end of the sealed road you come to Port Olry, a small francophone fishing village with a stunning curve of white-sand beach and eye-watering…', 'Iririki is the green, bungalow-laden island right across from Port Vila’s waterfront; it was closed following Cyclone Pam in 2015 but is expected to…', \"Just 100m or so offshore from Mele Beach, Hideaway Island isn't all that hidden but it's one of Vila's favourite spots for snorkelling, diving or just…\"]\n"
     ]
    }
   ],
   "source": [
    "all_descriptions_vanuatu = get_all_descriptions_one_page(vanuatu_html)\n",
    "print(len(all_descriptions_vanuatu))\n",
    "print(all_descriptions_vanuatu[:5])"
   ]
  },
  {
   "cell_type": "code",
   "execution_count": 787,
   "metadata": {},
   "outputs": [
    {
     "data": {
      "text/html": [
       "<div>\n",
       "<style scoped>\n",
       "    .dataframe tbody tr th:only-of-type {\n",
       "        vertical-align: middle;\n",
       "    }\n",
       "\n",
       "    .dataframe tbody tr th {\n",
       "        vertical-align: top;\n",
       "    }\n",
       "\n",
       "    .dataframe thead th {\n",
       "        text-align: right;\n",
       "    }\n",
       "</style>\n",
       "<table border=\"1\" class=\"dataframe\">\n",
       "  <thead>\n",
       "    <tr style=\"text-align: right;\">\n",
       "      <th></th>\n",
       "      <th>Attraction</th>\n",
       "      <th>Description</th>\n",
       "      <th>Country</th>\n",
       "      <th>Continent</th>\n",
       "    </tr>\n",
       "  </thead>\n",
       "  <tbody>\n",
       "    <tr>\n",
       "      <th>0</th>\n",
       "      <td>Mele Cascades</td>\n",
       "      <td>This popular and photogenic swimming spot is 1...</td>\n",
       "      <td>Vanuatu</td>\n",
       "      <td>Oceania</td>\n",
       "    </tr>\n",
       "    <tr>\n",
       "      <th>1</th>\n",
       "      <td>National Museum of Vanuatu</td>\n",
       "      <td>This excellent museum, in a soaring traditiona...</td>\n",
       "      <td>Vanuatu</td>\n",
       "      <td>Oceania</td>\n",
       "    </tr>\n",
       "    <tr>\n",
       "      <th>2</th>\n",
       "      <td>Port Olry</td>\n",
       "      <td>At the end of the sealed road you come to Port...</td>\n",
       "      <td>Vanuatu</td>\n",
       "      <td>Oceania</td>\n",
       "    </tr>\n",
       "    <tr>\n",
       "      <th>3</th>\n",
       "      <td>Iririki Island</td>\n",
       "      <td>Iririki is the green, bungalow-laden island ri...</td>\n",
       "      <td>Vanuatu</td>\n",
       "      <td>Oceania</td>\n",
       "    </tr>\n",
       "    <tr>\n",
       "      <th>4</th>\n",
       "      <td>Hideaway Island</td>\n",
       "      <td>Just 100m or so offshore from Mele Beach, Hide...</td>\n",
       "      <td>Vanuatu</td>\n",
       "      <td>Oceania</td>\n",
       "    </tr>\n",
       "  </tbody>\n",
       "</table>\n",
       "</div>"
      ],
      "text/plain": [
       "                   Attraction  \\\n",
       "0               Mele Cascades   \n",
       "1  National Museum of Vanuatu   \n",
       "2                   Port Olry   \n",
       "3              Iririki Island   \n",
       "4             Hideaway Island   \n",
       "\n",
       "                                         Description  Country Continent  \n",
       "0  This popular and photogenic swimming spot is 1...  Vanuatu   Oceania  \n",
       "1  This excellent museum, in a soaring traditiona...  Vanuatu   Oceania  \n",
       "2  At the end of the sealed road you come to Port...  Vanuatu   Oceania  \n",
       "3  Iririki is the green, bungalow-laden island ri...  Vanuatu   Oceania  \n",
       "4  Just 100m or so offshore from Mele Beach, Hide...  Vanuatu   Oceania  "
      ]
     },
     "execution_count": 787,
     "metadata": {},
     "output_type": "execute_result"
    }
   ],
   "source": [
    "vanuatu_df = pd.DataFrame(all_attractions_vanuatu, columns=['Attraction'])\n",
    "vanuatu_df['Description'] = all_descriptions_vanuatu\n",
    "vanuatu_df['Country'] = 'Vanuatu'\n",
    "vanuatu_df['Continent'] = 'Oceania'\n",
    "vanuatu_df.head()"
   ]
  },
  {
   "cell_type": "code",
   "execution_count": 788,
   "metadata": {},
   "outputs": [],
   "source": [
    "vanuatu_df.to_csv('/Users/rosew/Desktop/Moringa/phase_5/individual_attractions/vanuatu_df.csv')"
   ]
  },
  {
   "cell_type": "markdown",
   "metadata": {},
   "source": [
    "### 9. Slovakia"
   ]
  },
  {
   "cell_type": "code",
   "execution_count": 789,
   "metadata": {},
   "outputs": [],
   "source": [
    "slovakia_html = 'https://www.lonelyplanet.com/slovakia/attractions'"
   ]
  },
  {
   "cell_type": "code",
   "execution_count": 790,
   "metadata": {},
   "outputs": [
    {
     "name": "stdout",
     "output_type": "stream",
     "text": [
      "['https://www.lonelyplanet.com/slovakia/attractions', 'https://www.lonelyplanet.com/slovakia/attractions?page=2']\n"
     ]
    }
   ],
   "source": [
    "# Create list of all htmls for Paris\n",
    "slovakia_htmls = [slovakia_html]\n",
    "for i in range(2, 3):\n",
    "    base = 'https://www.lonelyplanet.com/slovakia/attractions'\n",
    "    page = '?page'\n",
    "    end = \"=\" + str(i)\n",
    "    html = base + page + end\n",
    "    slovakia_htmls.append(str(html))\n",
    "print(slovakia_htmls)"
   ]
  },
  {
   "cell_type": "code",
   "execution_count": 791,
   "metadata": {},
   "outputs": [
    {
     "name": "stdout",
     "output_type": "stream",
     "text": [
      "80\n",
      "['Spiš Castle', 'Danubiana Meulensteen Art Museum', 'Orava Castle', 'Slovenský Raj National Park', 'Hlavné Námestie']\n"
     ]
    }
   ],
   "source": [
    "all_attractions_slovakia = get_all_attractions(slovakia_htmls)\n",
    "print(len(all_attractions_slovakia))\n",
    "print(all_attractions_slovakia[:5])"
   ]
  },
  {
   "cell_type": "code",
   "execution_count": 792,
   "metadata": {},
   "outputs": [
    {
     "name": "stdout",
     "output_type": "stream",
     "text": [
      "80\n",
      "[\"Crowning a travertine hill above Spišské Podhradie village, this vast, Unesco-listed fortification is one of Central Europe's biggest castle complexes…\", 'The windswept location of this world-class art gallery is as invigorating as the works on display. On a promontory jutting into the Danube, the…', 'The sight of Orava Castle, roosting on a forest-cloaked hilltop, sends a chill down the spine. Vampire aficionados may recognise its stern silhouette from…', \"Slovenský Raj's rocky plateaus, primeval forests and interlacing streams form some of Slovakia's most picturesque hiking terrain. Treks often involve…\", \"The nucleus for Bratislava's history, festivals and chic cafe culture is Hlavné nám (Main Sq). There's architectural finery in almost every direction,…\"]\n"
     ]
    }
   ],
   "source": [
    "all_descriptions_slovakia = get_all_descriptions(slovakia_htmls)\n",
    "print(len(all_descriptions_slovakia))\n",
    "print(all_descriptions_slovakia[:5])"
   ]
  },
  {
   "cell_type": "code",
   "execution_count": 793,
   "metadata": {},
   "outputs": [
    {
     "data": {
      "text/html": [
       "<div>\n",
       "<style scoped>\n",
       "    .dataframe tbody tr th:only-of-type {\n",
       "        vertical-align: middle;\n",
       "    }\n",
       "\n",
       "    .dataframe tbody tr th {\n",
       "        vertical-align: top;\n",
       "    }\n",
       "\n",
       "    .dataframe thead th {\n",
       "        text-align: right;\n",
       "    }\n",
       "</style>\n",
       "<table border=\"1\" class=\"dataframe\">\n",
       "  <thead>\n",
       "    <tr style=\"text-align: right;\">\n",
       "      <th></th>\n",
       "      <th>Attraction</th>\n",
       "      <th>Description</th>\n",
       "      <th>Country</th>\n",
       "      <th>Continent</th>\n",
       "    </tr>\n",
       "  </thead>\n",
       "  <tbody>\n",
       "    <tr>\n",
       "      <th>0</th>\n",
       "      <td>Spiš Castle</td>\n",
       "      <td>Crowning a travertine hill above Spišské Podhr...</td>\n",
       "      <td>Slovakia</td>\n",
       "      <td>Europe</td>\n",
       "    </tr>\n",
       "    <tr>\n",
       "      <th>1</th>\n",
       "      <td>Danubiana Meulensteen Art Museum</td>\n",
       "      <td>The windswept location of this world-class art...</td>\n",
       "      <td>Slovakia</td>\n",
       "      <td>Europe</td>\n",
       "    </tr>\n",
       "    <tr>\n",
       "      <th>2</th>\n",
       "      <td>Orava Castle</td>\n",
       "      <td>The sight of Orava Castle, roosting on a fores...</td>\n",
       "      <td>Slovakia</td>\n",
       "      <td>Europe</td>\n",
       "    </tr>\n",
       "    <tr>\n",
       "      <th>3</th>\n",
       "      <td>Slovenský Raj National Park</td>\n",
       "      <td>Slovenský Raj's rocky plateaus, primeval fores...</td>\n",
       "      <td>Slovakia</td>\n",
       "      <td>Europe</td>\n",
       "    </tr>\n",
       "    <tr>\n",
       "      <th>4</th>\n",
       "      <td>Hlavné Námestie</td>\n",
       "      <td>The nucleus for Bratislava's history, festival...</td>\n",
       "      <td>Slovakia</td>\n",
       "      <td>Europe</td>\n",
       "    </tr>\n",
       "  </tbody>\n",
       "</table>\n",
       "</div>"
      ],
      "text/plain": [
       "                         Attraction  \\\n",
       "0                       Spiš Castle   \n",
       "1  Danubiana Meulensteen Art Museum   \n",
       "2                      Orava Castle   \n",
       "3       Slovenský Raj National Park   \n",
       "4                   Hlavné Námestie   \n",
       "\n",
       "                                         Description   Country Continent  \n",
       "0  Crowning a travertine hill above Spišské Podhr...  Slovakia    Europe  \n",
       "1  The windswept location of this world-class art...  Slovakia    Europe  \n",
       "2  The sight of Orava Castle, roosting on a fores...  Slovakia    Europe  \n",
       "3  Slovenský Raj's rocky plateaus, primeval fores...  Slovakia    Europe  \n",
       "4  The nucleus for Bratislava's history, festival...  Slovakia    Europe  "
      ]
     },
     "execution_count": 793,
     "metadata": {},
     "output_type": "execute_result"
    }
   ],
   "source": [
    "slovakia_df = pd.DataFrame(all_attractions_slovakia, columns=['Attraction'])\n",
    "slovakia_df['Description'] = all_descriptions_slovakia\n",
    "slovakia_df['Country'] = 'Slovakia'\n",
    "slovakia_df['Continent'] = 'Europe'\n",
    "slovakia_df.head()"
   ]
  },
  {
   "cell_type": "code",
   "execution_count": 794,
   "metadata": {},
   "outputs": [],
   "source": [
    "slovakia_df.to_csv('/Users/rosew/Desktop/Moringa/phase_5/individual_attractions/slovakia_df.csv')"
   ]
  },
  {
   "cell_type": "markdown",
   "metadata": {},
   "source": [
    "### 10. Armenia"
   ]
  },
  {
   "cell_type": "code",
   "execution_count": 795,
   "metadata": {},
   "outputs": [],
   "source": [
    "armenia_html = 'https://www.lonelyplanet.com/armenia/attractions'"
   ]
  },
  {
   "cell_type": "code",
   "execution_count": 796,
   "metadata": {},
   "outputs": [
    {
     "name": "stdout",
     "output_type": "stream",
     "text": [
      "['https://www.lonelyplanet.com/armenia/attractions', 'https://www.lonelyplanet.com/armenia/attractions?page=2']\n"
     ]
    }
   ],
   "source": [
    "# Create list of all htmls for Paris\n",
    "armenia_htmls = [armenia_html]\n",
    "for i in range(2, 3):\n",
    "    base = 'https://www.lonelyplanet.com/armenia/attractions'\n",
    "    page = '?page'\n",
    "    end = \"=\" + str(i)\n",
    "    html = base + page + end\n",
    "    armenia_htmls.append(str(html))\n",
    "print(armenia_htmls)"
   ]
  },
  {
   "cell_type": "code",
   "execution_count": 797,
   "metadata": {},
   "outputs": [
    {
     "name": "stdout",
     "output_type": "stream",
     "text": [
      "80\n",
      "['Armenian Genocide Memorial & Museum', 'History Museum of Armenia', 'Noravank', 'Old Khndzoresk', 'Cafesjian Center for the Arts']\n"
     ]
    }
   ],
   "source": [
    "all_attractions_armenia = get_all_attractions(armenia_htmls)\n",
    "print(len(all_attractions_armenia))\n",
    "print(all_attractions_armenia[:5])"
   ]
  },
  {
   "cell_type": "code",
   "execution_count": 798,
   "metadata": {},
   "outputs": [
    {
     "name": "stdout",
     "output_type": "stream",
     "text": [
      "80\n",
      "['Commemorating the massacre of Armenians in the Ottoman Empire from 1915 to 1922, this institution uses photographs, documents, reports and films to…', \"Its simply extraordinary collection of Bronze Age artefacts make this museum Armenia's pre-eminent cultural institution and an essential stop on every…\", 'Founded by Bishop Hovhannes in 1205 and sensitively renovated in the 1990s, Noravank (New Monastery) is one of the most spectacular sites in Armenia and…', 'Dug into volcanic sandstone on the slopes of Khor Dzor (Deep Gorge), the village of Old Khndzoresk was inhabited as far back as the 13th century. By the…', \"Housed in a vast flight of stone steps known as the Cascade, this arts centre is one of the city's major cultural attractions. Originally conceived in the…\"]\n"
     ]
    }
   ],
   "source": [
    "all_descriptions_armenia = get_all_descriptions(armenia_htmls)\n",
    "print(len(all_descriptions_armenia))\n",
    "print(all_descriptions_armenia[:5])"
   ]
  },
  {
   "cell_type": "code",
   "execution_count": 799,
   "metadata": {},
   "outputs": [
    {
     "data": {
      "text/html": [
       "<div>\n",
       "<style scoped>\n",
       "    .dataframe tbody tr th:only-of-type {\n",
       "        vertical-align: middle;\n",
       "    }\n",
       "\n",
       "    .dataframe tbody tr th {\n",
       "        vertical-align: top;\n",
       "    }\n",
       "\n",
       "    .dataframe thead th {\n",
       "        text-align: right;\n",
       "    }\n",
       "</style>\n",
       "<table border=\"1\" class=\"dataframe\">\n",
       "  <thead>\n",
       "    <tr style=\"text-align: right;\">\n",
       "      <th></th>\n",
       "      <th>Attraction</th>\n",
       "      <th>Description</th>\n",
       "      <th>Country</th>\n",
       "      <th>Continent</th>\n",
       "    </tr>\n",
       "  </thead>\n",
       "  <tbody>\n",
       "    <tr>\n",
       "      <th>0</th>\n",
       "      <td>Armenian Genocide Memorial &amp; Museum</td>\n",
       "      <td>Commemorating the massacre of Armenians in the...</td>\n",
       "      <td>Armenia</td>\n",
       "      <td>Europe</td>\n",
       "    </tr>\n",
       "    <tr>\n",
       "      <th>1</th>\n",
       "      <td>History Museum of Armenia</td>\n",
       "      <td>Its simply extraordinary collection of Bronze ...</td>\n",
       "      <td>Armenia</td>\n",
       "      <td>Europe</td>\n",
       "    </tr>\n",
       "    <tr>\n",
       "      <th>2</th>\n",
       "      <td>Noravank</td>\n",
       "      <td>Founded by Bishop Hovhannes in 1205 and sensit...</td>\n",
       "      <td>Armenia</td>\n",
       "      <td>Europe</td>\n",
       "    </tr>\n",
       "    <tr>\n",
       "      <th>3</th>\n",
       "      <td>Old Khndzoresk</td>\n",
       "      <td>Dug into volcanic sandstone on the slopes of K...</td>\n",
       "      <td>Armenia</td>\n",
       "      <td>Europe</td>\n",
       "    </tr>\n",
       "    <tr>\n",
       "      <th>4</th>\n",
       "      <td>Cafesjian Center for the Arts</td>\n",
       "      <td>Housed in a vast flight of stone steps known a...</td>\n",
       "      <td>Armenia</td>\n",
       "      <td>Europe</td>\n",
       "    </tr>\n",
       "  </tbody>\n",
       "</table>\n",
       "</div>"
      ],
      "text/plain": [
       "                            Attraction  \\\n",
       "0  Armenian Genocide Memorial & Museum   \n",
       "1            History Museum of Armenia   \n",
       "2                             Noravank   \n",
       "3                       Old Khndzoresk   \n",
       "4        Cafesjian Center for the Arts   \n",
       "\n",
       "                                         Description  Country Continent  \n",
       "0  Commemorating the massacre of Armenians in the...  Armenia    Europe  \n",
       "1  Its simply extraordinary collection of Bronze ...  Armenia    Europe  \n",
       "2  Founded by Bishop Hovhannes in 1205 and sensit...  Armenia    Europe  \n",
       "3  Dug into volcanic sandstone on the slopes of K...  Armenia    Europe  \n",
       "4  Housed in a vast flight of stone steps known a...  Armenia    Europe  "
      ]
     },
     "execution_count": 799,
     "metadata": {},
     "output_type": "execute_result"
    }
   ],
   "source": [
    "armenia_df = pd.DataFrame(all_attractions_armenia, columns=['Attraction'])\n",
    "armenia_df['Description'] = all_descriptions_armenia\n",
    "armenia_df['Country'] = 'Armenia'\n",
    "armenia_df['Continent'] = 'Europe'\n",
    "armenia_df.head()"
   ]
  },
  {
   "cell_type": "code",
   "execution_count": 800,
   "metadata": {},
   "outputs": [],
   "source": [
    "armenia_df.to_csv('/Users/rosew/Desktop/Moringa/phase_5/individual_attractions/armenia_df.csv')"
   ]
  },
  {
   "cell_type": "markdown",
   "metadata": {},
   "source": [
    "### 11. South Carolina"
   ]
  },
  {
   "cell_type": "code",
   "execution_count": 801,
   "metadata": {},
   "outputs": [],
   "source": [
    "sc_html = 'https://www.lonelyplanet.com/usa/the-south/south-carolina/attractions'"
   ]
  },
  {
   "cell_type": "code",
   "execution_count": 802,
   "metadata": {},
   "outputs": [
    {
     "name": "stdout",
     "output_type": "stream",
     "text": [
      "40\n",
      "['Aiken-Rhett House', 'Guardians of Charleston Harbor', 'Old Slave Mart Museum', 'Brookgreen Gardens', 'Heyward-Washington House']\n"
     ]
    }
   ],
   "source": [
    "all_attractions_sc = get_attractions_one_page(sc_html)\n",
    "print(len(all_attractions_sc))\n",
    "print(all_attractions_sc[:5])"
   ]
  },
  {
   "cell_type": "code",
   "execution_count": 803,
   "metadata": {},
   "outputs": [
    {
     "name": "stdout",
     "output_type": "stream",
     "text": [
      "40\n",
      "['The only surviving urban town-house complex, this 1820 abode gives a fascinating glimpse into antebellum life on a 45-minute self-guided audio tour. The…', 'The first shots of the Civil War rang out at Fort Sumter, on a pentagon-shaped island in the harbor. A Confederate stronghold, this fort was shelled to…', \"Formerly called Ryan's Mart, this building once housed an open-air market that auctioned African American men, women and children in the mid-1800s, the…\", 'These magical gardens, 16 miles south of Myrtle Beach on Hwy 17S, are home to the largest collection of American sculpture in the country, set amid more…', 'As the name hints, this 1772 Georgian-style town house is kind of a big deal because George Washington rented it for a week, and visitors can stand in…']\n"
     ]
    }
   ],
   "source": [
    "all_descriptions_sc = get_all_descriptions_one_page(sc_html)\n",
    "print(len(all_descriptions_sc))\n",
    "print(all_descriptions_sc[:5])"
   ]
  },
  {
   "cell_type": "code",
   "execution_count": 804,
   "metadata": {},
   "outputs": [
    {
     "data": {
      "text/html": [
       "<div>\n",
       "<style scoped>\n",
       "    .dataframe tbody tr th:only-of-type {\n",
       "        vertical-align: middle;\n",
       "    }\n",
       "\n",
       "    .dataframe tbody tr th {\n",
       "        vertical-align: top;\n",
       "    }\n",
       "\n",
       "    .dataframe thead th {\n",
       "        text-align: right;\n",
       "    }\n",
       "</style>\n",
       "<table border=\"1\" class=\"dataframe\">\n",
       "  <thead>\n",
       "    <tr style=\"text-align: right;\">\n",
       "      <th></th>\n",
       "      <th>Attraction</th>\n",
       "      <th>Description</th>\n",
       "      <th>Country</th>\n",
       "      <th>Continent</th>\n",
       "    </tr>\n",
       "  </thead>\n",
       "  <tbody>\n",
       "    <tr>\n",
       "      <th>0</th>\n",
       "      <td>Aiken-Rhett House</td>\n",
       "      <td>The only surviving urban town-house complex, t...</td>\n",
       "      <td>U.S.</td>\n",
       "      <td>North America</td>\n",
       "    </tr>\n",
       "    <tr>\n",
       "      <th>1</th>\n",
       "      <td>Guardians of Charleston Harbor</td>\n",
       "      <td>The first shots of the Civil War rang out at F...</td>\n",
       "      <td>U.S.</td>\n",
       "      <td>North America</td>\n",
       "    </tr>\n",
       "    <tr>\n",
       "      <th>2</th>\n",
       "      <td>Old Slave Mart Museum</td>\n",
       "      <td>Formerly called Ryan's Mart, this building onc...</td>\n",
       "      <td>U.S.</td>\n",
       "      <td>North America</td>\n",
       "    </tr>\n",
       "    <tr>\n",
       "      <th>3</th>\n",
       "      <td>Brookgreen Gardens</td>\n",
       "      <td>These magical gardens, 16 miles south of Myrtl...</td>\n",
       "      <td>U.S.</td>\n",
       "      <td>North America</td>\n",
       "    </tr>\n",
       "    <tr>\n",
       "      <th>4</th>\n",
       "      <td>Heyward-Washington House</td>\n",
       "      <td>As the name hints, this 1772 Georgian-style to...</td>\n",
       "      <td>U.S.</td>\n",
       "      <td>North America</td>\n",
       "    </tr>\n",
       "  </tbody>\n",
       "</table>\n",
       "</div>"
      ],
      "text/plain": [
       "                       Attraction  \\\n",
       "0               Aiken-Rhett House   \n",
       "1  Guardians of Charleston Harbor   \n",
       "2           Old Slave Mart Museum   \n",
       "3              Brookgreen Gardens   \n",
       "4        Heyward-Washington House   \n",
       "\n",
       "                                         Description Country      Continent  \n",
       "0  The only surviving urban town-house complex, t...    U.S.  North America  \n",
       "1  The first shots of the Civil War rang out at F...    U.S.  North America  \n",
       "2  Formerly called Ryan's Mart, this building onc...    U.S.  North America  \n",
       "3  These magical gardens, 16 miles south of Myrtl...    U.S.  North America  \n",
       "4  As the name hints, this 1772 Georgian-style to...    U.S.  North America  "
      ]
     },
     "execution_count": 804,
     "metadata": {},
     "output_type": "execute_result"
    }
   ],
   "source": [
    "sc_df = pd.DataFrame(all_attractions_sc, columns=['Attraction'])\n",
    "sc_df['Description'] = all_descriptions_sc\n",
    "sc_df['Country'] = 'U.S.'\n",
    "sc_df['Continent'] = 'North America'\n",
    "sc_df.head()"
   ]
  },
  {
   "cell_type": "code",
   "execution_count": 805,
   "metadata": {},
   "outputs": [],
   "source": [
    "sc_df.to_csv('/Users/rosew/Desktop/Moringa/phase_5/individual_attractions/sc_df.csv')"
   ]
  },
  {
   "cell_type": "markdown",
   "metadata": {},
   "source": [
    "### 12. The Terai, Nepal"
   ]
  },
  {
   "cell_type": "code",
   "execution_count": 806,
   "metadata": {},
   "outputs": [],
   "source": [
    "terai_html = 'https://www.lonelyplanet.com/nepal/the-terai-and-mahabharat-range/attractions'"
   ]
  },
  {
   "cell_type": "code",
   "execution_count": 807,
   "metadata": {},
   "outputs": [
    {
     "name": "stdout",
     "output_type": "stream",
     "text": [
      "22\n",
      "['Janaki Mandir', 'Shashwat Dham', 'Daman Mountain Resort View Tower', 'Amar Narayan Mandir', 'Crocodile Breeding Project']\n"
     ]
    }
   ],
   "source": [
    "all_attractions_terai = get_attractions_one_page(terai_html)\n",
    "print(len(all_attractions_terai))\n",
    "print(all_attractions_terai[:5])"
   ]
  },
  {
   "cell_type": "code",
   "execution_count": 808,
   "metadata": {},
   "outputs": [
    {
     "name": "stdout",
     "output_type": "stream",
     "text": [
      "22\n",
      "[\"At the heart of Janakpur lies the marble Janaki Mandir, one of the grander pieces of architecture in Nepal, and the city's must-see sight. Built in…\", \"Burned out on ancient sites? Here's a contemporary take on the temple compound, and it's very impressive. The centrepiece is a Shiva temple that resembles…\", 'Some of the best views of the Himalaya in Nepal can be had from the concrete viewing tower inside the Daman Mountain Resort. Unfortunately, the resort has…', 'At the bottom of Asan Tole (the steep road running east from Sitalpati), the Amar Narayan Mandir is a classic three-tiered, pagoda-style wooden temple…', 'A few hundred metres past the park headquarters in Kasara is a crocodile breeding project, where you can see both gharials and marsh muggers up close. The…']\n"
     ]
    }
   ],
   "source": [
    "all_descriptions_terai = get_all_descriptions_one_page(terai_html)\n",
    "print(len(all_descriptions_terai))\n",
    "print(all_descriptions_terai[:5])"
   ]
  },
  {
   "cell_type": "code",
   "execution_count": 809,
   "metadata": {},
   "outputs": [
    {
     "data": {
      "text/html": [
       "<div>\n",
       "<style scoped>\n",
       "    .dataframe tbody tr th:only-of-type {\n",
       "        vertical-align: middle;\n",
       "    }\n",
       "\n",
       "    .dataframe tbody tr th {\n",
       "        vertical-align: top;\n",
       "    }\n",
       "\n",
       "    .dataframe thead th {\n",
       "        text-align: right;\n",
       "    }\n",
       "</style>\n",
       "<table border=\"1\" class=\"dataframe\">\n",
       "  <thead>\n",
       "    <tr style=\"text-align: right;\">\n",
       "      <th></th>\n",
       "      <th>Attraction</th>\n",
       "      <th>Description</th>\n",
       "      <th>Country</th>\n",
       "      <th>Continent</th>\n",
       "    </tr>\n",
       "  </thead>\n",
       "  <tbody>\n",
       "    <tr>\n",
       "      <th>0</th>\n",
       "      <td>Janaki Mandir</td>\n",
       "      <td>At the heart of Janakpur lies the marble Janak...</td>\n",
       "      <td>Nepal</td>\n",
       "      <td>Asia</td>\n",
       "    </tr>\n",
       "    <tr>\n",
       "      <th>1</th>\n",
       "      <td>Shashwat Dham</td>\n",
       "      <td>Burned out on ancient sites? Here's a contempo...</td>\n",
       "      <td>Nepal</td>\n",
       "      <td>Asia</td>\n",
       "    </tr>\n",
       "    <tr>\n",
       "      <th>2</th>\n",
       "      <td>Daman Mountain Resort View Tower</td>\n",
       "      <td>Some of the best views of the Himalaya in Nepa...</td>\n",
       "      <td>Nepal</td>\n",
       "      <td>Asia</td>\n",
       "    </tr>\n",
       "    <tr>\n",
       "      <th>3</th>\n",
       "      <td>Amar Narayan Mandir</td>\n",
       "      <td>At the bottom of Asan Tole (the steep road run...</td>\n",
       "      <td>Nepal</td>\n",
       "      <td>Asia</td>\n",
       "    </tr>\n",
       "    <tr>\n",
       "      <th>4</th>\n",
       "      <td>Crocodile Breeding Project</td>\n",
       "      <td>A few hundred metres past the park headquarter...</td>\n",
       "      <td>Nepal</td>\n",
       "      <td>Asia</td>\n",
       "    </tr>\n",
       "  </tbody>\n",
       "</table>\n",
       "</div>"
      ],
      "text/plain": [
       "                         Attraction  \\\n",
       "0                     Janaki Mandir   \n",
       "1                     Shashwat Dham   \n",
       "2  Daman Mountain Resort View Tower   \n",
       "3               Amar Narayan Mandir   \n",
       "4        Crocodile Breeding Project   \n",
       "\n",
       "                                         Description Country Continent  \n",
       "0  At the heart of Janakpur lies the marble Janak...   Nepal      Asia  \n",
       "1  Burned out on ancient sites? Here's a contempo...   Nepal      Asia  \n",
       "2  Some of the best views of the Himalaya in Nepa...   Nepal      Asia  \n",
       "3  At the bottom of Asan Tole (the steep road run...   Nepal      Asia  \n",
       "4  A few hundred metres past the park headquarter...   Nepal      Asia  "
      ]
     },
     "execution_count": 809,
     "metadata": {},
     "output_type": "execute_result"
    }
   ],
   "source": [
    "terai_df = pd.DataFrame(all_attractions_terai, columns=['Attraction'])\n",
    "terai_df['Description'] = all_descriptions_terai\n",
    "terai_df['Country'] = 'Nepal'\n",
    "terai_df['Continent']= 'Asia'\n",
    "terai_df.head()"
   ]
  },
  {
   "cell_type": "code",
   "execution_count": 810,
   "metadata": {},
   "outputs": [],
   "source": [
    "terai_df.to_csv('/Users/rosew/Desktop/Moringa/phase_5/individual_attractions/terai_df.csv')"
   ]
  },
  {
   "cell_type": "markdown",
   "metadata": {},
   "source": [
    "### 13. Launceston and the Tamar Valley"
   ]
  },
  {
   "cell_type": "code",
   "execution_count": 811,
   "metadata": {},
   "outputs": [],
   "source": [
    "launceston_html = 'https://www.lonelyplanet.com/australia/tasmania/launceston/attractions'"
   ]
  },
  {
   "cell_type": "code",
   "execution_count": 812,
   "metadata": {},
   "outputs": [
    {
     "name": "stdout",
     "output_type": "stream",
     "text": [
      "22\n",
      "['Cataract Gorge', 'Queen Victoria Museum', 'Queen Victoria Art Gallery', 'Franklin House', 'Boag’s Brewery']\n"
     ]
    }
   ],
   "source": [
    "all_attractions_launceston = get_attractions_one_page(launceston_html)\n",
    "print(len(all_attractions_launceston))\n",
    "print(all_attractions_launceston[:5])"
   ]
  },
  {
   "cell_type": "code",
   "execution_count": 813,
   "metadata": {},
   "outputs": [
    {
     "name": "stdout",
     "output_type": "stream",
     "text": [
      "22\n",
      "[\"At magnificent Cataract Gorge, right at the city centre's edge, the bushland, cliffs and ice-cold South Esk River feel a million miles from town. At First…\", 'Inside the restored and reinvented Inveresk railway yards, QVMAG has the usual assembly of dinosaurs and stuffed animals, but they sit alongside historic…', 'Colonial paintings, including works by John Glover, are the pride of the collection at this art gallery in a meticulously restored 19th-century building…', 'A relatively short drive south of the city, Franklin House is one of Launceston’s most fetching Georgian-era homes. Built in 1838 by former convict and…', 'James Boag’s beer has been brewed on William St since 1881. See the amber alchemy in action on 90-minute guided tours, which include a beer and cheese…']\n"
     ]
    }
   ],
   "source": [
    "all_descriptions_launceston = get_all_descriptions_one_page(launceston_html)\n",
    "print(len(all_descriptions_launceston))\n",
    "print(all_descriptions_launceston[:5])"
   ]
  },
  {
   "cell_type": "code",
   "execution_count": 814,
   "metadata": {},
   "outputs": [
    {
     "data": {
      "text/html": [
       "<div>\n",
       "<style scoped>\n",
       "    .dataframe tbody tr th:only-of-type {\n",
       "        vertical-align: middle;\n",
       "    }\n",
       "\n",
       "    .dataframe tbody tr th {\n",
       "        vertical-align: top;\n",
       "    }\n",
       "\n",
       "    .dataframe thead th {\n",
       "        text-align: right;\n",
       "    }\n",
       "</style>\n",
       "<table border=\"1\" class=\"dataframe\">\n",
       "  <thead>\n",
       "    <tr style=\"text-align: right;\">\n",
       "      <th></th>\n",
       "      <th>Attraction</th>\n",
       "      <th>Description</th>\n",
       "      <th>Country</th>\n",
       "      <th>Continent</th>\n",
       "    </tr>\n",
       "  </thead>\n",
       "  <tbody>\n",
       "    <tr>\n",
       "      <th>0</th>\n",
       "      <td>Cataract Gorge</td>\n",
       "      <td>At magnificent Cataract Gorge, right at the ci...</td>\n",
       "      <td>Launceston</td>\n",
       "      <td>Australia</td>\n",
       "    </tr>\n",
       "    <tr>\n",
       "      <th>1</th>\n",
       "      <td>Queen Victoria Museum</td>\n",
       "      <td>Inside the restored and reinvented Inveresk ra...</td>\n",
       "      <td>Launceston</td>\n",
       "      <td>Australia</td>\n",
       "    </tr>\n",
       "    <tr>\n",
       "      <th>2</th>\n",
       "      <td>Queen Victoria Art Gallery</td>\n",
       "      <td>Colonial paintings, including works by John Gl...</td>\n",
       "      <td>Launceston</td>\n",
       "      <td>Australia</td>\n",
       "    </tr>\n",
       "    <tr>\n",
       "      <th>3</th>\n",
       "      <td>Franklin House</td>\n",
       "      <td>A relatively short drive south of the city, Fr...</td>\n",
       "      <td>Launceston</td>\n",
       "      <td>Australia</td>\n",
       "    </tr>\n",
       "    <tr>\n",
       "      <th>4</th>\n",
       "      <td>Boag’s Brewery</td>\n",
       "      <td>James Boag’s beer has been brewed on William S...</td>\n",
       "      <td>Launceston</td>\n",
       "      <td>Australia</td>\n",
       "    </tr>\n",
       "  </tbody>\n",
       "</table>\n",
       "</div>"
      ],
      "text/plain": [
       "                   Attraction  \\\n",
       "0              Cataract Gorge   \n",
       "1       Queen Victoria Museum   \n",
       "2  Queen Victoria Art Gallery   \n",
       "3              Franklin House   \n",
       "4              Boag’s Brewery   \n",
       "\n",
       "                                         Description     Country  Continent  \n",
       "0  At magnificent Cataract Gorge, right at the ci...  Launceston  Australia  \n",
       "1  Inside the restored and reinvented Inveresk ra...  Launceston  Australia  \n",
       "2  Colonial paintings, including works by John Gl...  Launceston  Australia  \n",
       "3  A relatively short drive south of the city, Fr...  Launceston  Australia  \n",
       "4  James Boag’s beer has been brewed on William S...  Launceston  Australia  "
      ]
     },
     "execution_count": 814,
     "metadata": {},
     "output_type": "execute_result"
    }
   ],
   "source": [
    "launceston_df = pd.DataFrame(all_attractions_launceston, columns=['Attraction'])\n",
    "\n",
    "launceston_df['Description'] = all_descriptions_launceston\n",
    "launceston_df['Country'] = 'Launceston'\n",
    "launceston_df['Continent']= 'Australia'\n",
    "launceston_df.head()"
   ]
  },
  {
   "cell_type": "code",
   "execution_count": 815,
   "metadata": {},
   "outputs": [],
   "source": [
    "launceston_df.to_csv('/Users/rosew/Desktop/Moringa/phase_5/individual_attractions/launceston_df.csv')"
   ]
  },
  {
   "cell_type": "markdown",
   "metadata": {},
   "source": [
    "### 14. Bavaria, Germany"
   ]
  },
  {
   "cell_type": "code",
   "execution_count": 816,
   "metadata": {},
   "outputs": [],
   "source": [
    "bavaria_html = 'https://www.lonelyplanet.com/germany/bavaria/attractions'"
   ]
  },
  {
   "cell_type": "code",
   "execution_count": 817,
   "metadata": {},
   "outputs": [
    {
     "name": "stdout",
     "output_type": "stream",
     "text": [
      "['https://www.lonelyplanet.com/germany/bavaria/attractions', 'https://www.lonelyplanet.com/germany/bavaria/attractions?page=2', 'https://www.lonelyplanet.com/germany/bavaria/attractions?page=3', 'https://www.lonelyplanet.com/germany/bavaria/attractions?page=4', 'https://www.lonelyplanet.com/germany/bavaria/attractions?page=5', 'https://www.lonelyplanet.com/germany/bavaria/attractions?page=6']\n"
     ]
    }
   ],
   "source": [
    "# Create list of all htmls for Paris\n",
    "bavaria_htmls = [bavaria_html]\n",
    "for i in range(2, 7):\n",
    "    base = 'https://www.lonelyplanet.com/germany/bavaria/attractions'\n",
    "    page = '?page'\n",
    "    end = \"=\" + str(i)\n",
    "    html = base + page + end\n",
    "    bavaria_htmls.append(str(html))\n",
    "print(bavaria_htmls)"
   ]
  },
  {
   "cell_type": "code",
   "execution_count": 818,
   "metadata": {},
   "outputs": [
    {
     "name": "stdout",
     "output_type": "stream",
     "text": [
      "240\n",
      "['Schloss Linderhof', 'Schloss Neuschwanstein', 'Schloss Hohenschwangau', 'Zugspitze', 'KZ-Gedenkstätte Dachau']\n"
     ]
    }
   ],
   "source": [
    "all_attractions_bavaria = get_all_attractions(bavaria_htmls)\n",
    "print(len(all_attractions_bavaria))\n",
    "print(all_attractions_bavaria[:5])"
   ]
  },
  {
   "cell_type": "code",
   "execution_count": 819,
   "metadata": {},
   "outputs": [
    {
     "name": "stdout",
     "output_type": "stream",
     "text": [
      "240\n",
      "['A pocket-sized trove of weird treasures, Schloss Linderhof was Ludwig II’s smallest but most sumptuous palace, and the only one he lived to see fully…', 'Appearing through the mountaintops like a mirage, Schloss Neuschwanstein was the model for Disney’s Sleeping Beauty castle. King Ludwig II planned this…', 'King Ludwig II grew up at the sun-yellow Schloss Hohenschwangau and later enjoyed summers here until his death in 1886. His father, Maximilian II, built…', 'On good days, views from Germany’s rooftop extend into four countries. The return trip starts in Garmisch aboard a cogwheel train (Zahnradbahn) that chugs…', 'Officially called the KZ-Gedenkstätte Dachau, this was the Nazis’ first concentration camp, built by Heinrich Himmler in March 1933 to house political…']\n"
     ]
    }
   ],
   "source": [
    "all_descriptions_bavaria = get_all_descriptions(bavaria_htmls)\n",
    "print(len(all_descriptions_bavaria))\n",
    "print(all_descriptions_bavaria[:5])"
   ]
  },
  {
   "cell_type": "code",
   "execution_count": 820,
   "metadata": {},
   "outputs": [
    {
     "data": {
      "text/html": [
       "<div>\n",
       "<style scoped>\n",
       "    .dataframe tbody tr th:only-of-type {\n",
       "        vertical-align: middle;\n",
       "    }\n",
       "\n",
       "    .dataframe tbody tr th {\n",
       "        vertical-align: top;\n",
       "    }\n",
       "\n",
       "    .dataframe thead th {\n",
       "        text-align: right;\n",
       "    }\n",
       "</style>\n",
       "<table border=\"1\" class=\"dataframe\">\n",
       "  <thead>\n",
       "    <tr style=\"text-align: right;\">\n",
       "      <th></th>\n",
       "      <th>Attraction</th>\n",
       "      <th>Description</th>\n",
       "      <th>Country</th>\n",
       "      <th>Continent</th>\n",
       "    </tr>\n",
       "  </thead>\n",
       "  <tbody>\n",
       "    <tr>\n",
       "      <th>0</th>\n",
       "      <td>Schloss Linderhof</td>\n",
       "      <td>A pocket-sized trove of weird treasures, Schlo...</td>\n",
       "      <td>Germany</td>\n",
       "      <td>Europe</td>\n",
       "    </tr>\n",
       "    <tr>\n",
       "      <th>1</th>\n",
       "      <td>Schloss Neuschwanstein</td>\n",
       "      <td>Appearing through the mountaintops like a mira...</td>\n",
       "      <td>Germany</td>\n",
       "      <td>Europe</td>\n",
       "    </tr>\n",
       "    <tr>\n",
       "      <th>2</th>\n",
       "      <td>Schloss Hohenschwangau</td>\n",
       "      <td>King Ludwig II grew up at the sun-yellow Schlo...</td>\n",
       "      <td>Germany</td>\n",
       "      <td>Europe</td>\n",
       "    </tr>\n",
       "    <tr>\n",
       "      <th>3</th>\n",
       "      <td>Zugspitze</td>\n",
       "      <td>On good days, views from Germany’s rooftop ext...</td>\n",
       "      <td>Germany</td>\n",
       "      <td>Europe</td>\n",
       "    </tr>\n",
       "    <tr>\n",
       "      <th>4</th>\n",
       "      <td>KZ-Gedenkstätte Dachau</td>\n",
       "      <td>Officially called the KZ-Gedenkstätte Dachau, ...</td>\n",
       "      <td>Germany</td>\n",
       "      <td>Europe</td>\n",
       "    </tr>\n",
       "  </tbody>\n",
       "</table>\n",
       "</div>"
      ],
      "text/plain": [
       "               Attraction                                        Description  \\\n",
       "0       Schloss Linderhof  A pocket-sized trove of weird treasures, Schlo...   \n",
       "1  Schloss Neuschwanstein  Appearing through the mountaintops like a mira...   \n",
       "2  Schloss Hohenschwangau  King Ludwig II grew up at the sun-yellow Schlo...   \n",
       "3               Zugspitze  On good days, views from Germany’s rooftop ext...   \n",
       "4  KZ-Gedenkstätte Dachau  Officially called the KZ-Gedenkstätte Dachau, ...   \n",
       "\n",
       "   Country Continent  \n",
       "0  Germany    Europe  \n",
       "1  Germany    Europe  \n",
       "2  Germany    Europe  \n",
       "3  Germany    Europe  \n",
       "4  Germany    Europe  "
      ]
     },
     "execution_count": 820,
     "metadata": {},
     "output_type": "execute_result"
    }
   ],
   "source": [
    "bavaria_df = pd.DataFrame(all_attractions_bavaria, columns=['Attraction'])\n",
    "\n",
    "bavaria_df['Description'] = all_descriptions_bavaria\n",
    "bavaria_df['Country'] = 'Germany'\n",
    "bavaria_df['Continent'] = 'Europe'\n",
    "bavaria_df.head()"
   ]
  },
  {
   "cell_type": "code",
   "execution_count": 821,
   "metadata": {},
   "outputs": [],
   "source": [
    "bavaria_df.to_csv('/Users/rosew/Desktop/Moringa/phase_5/individual_attractions/bavaria_df.csv')"
   ]
  },
  {
   "cell_type": "markdown",
   "metadata": {},
   "source": [
    "### 15. England"
   ]
  },
  {
   "cell_type": "code",
   "execution_count": 822,
   "metadata": {},
   "outputs": [],
   "source": [
    "england_html = 'https://www.lonelyplanet.com/england/attractions'"
   ]
  },
  {
   "cell_type": "code",
   "execution_count": 823,
   "metadata": {},
   "outputs": [
    {
     "name": "stdout",
     "output_type": "stream",
     "text": [
      "['https://www.lonelyplanet.com/england/attractions', 'https://www.lonelyplanet.com/england/attractions?page=2', 'https://www.lonelyplanet.com/england/attractions?page=3', 'https://www.lonelyplanet.com/england/attractions?page=4', 'https://www.lonelyplanet.com/england/attractions?page=5', 'https://www.lonelyplanet.com/england/attractions?page=6', 'https://www.lonelyplanet.com/england/attractions?page=7', 'https://www.lonelyplanet.com/england/attractions?page=8', 'https://www.lonelyplanet.com/england/attractions?page=9', 'https://www.lonelyplanet.com/england/attractions?page=10', 'https://www.lonelyplanet.com/england/attractions?page=11', 'https://www.lonelyplanet.com/england/attractions?page=12', 'https://www.lonelyplanet.com/england/attractions?page=13', 'https://www.lonelyplanet.com/england/attractions?page=14', 'https://www.lonelyplanet.com/england/attractions?page=15', 'https://www.lonelyplanet.com/england/attractions?page=16', 'https://www.lonelyplanet.com/england/attractions?page=17', 'https://www.lonelyplanet.com/england/attractions?page=18', 'https://www.lonelyplanet.com/england/attractions?page=19', 'https://www.lonelyplanet.com/england/attractions?page=20', 'https://www.lonelyplanet.com/england/attractions?page=21', 'https://www.lonelyplanet.com/england/attractions?page=22', 'https://www.lonelyplanet.com/england/attractions?page=23', 'https://www.lonelyplanet.com/england/attractions?page=24', 'https://www.lonelyplanet.com/england/attractions?page=25', 'https://www.lonelyplanet.com/england/attractions?page=26', 'https://www.lonelyplanet.com/england/attractions?page=27', 'https://www.lonelyplanet.com/england/attractions?page=28', 'https://www.lonelyplanet.com/england/attractions?page=29']\n"
     ]
    }
   ],
   "source": [
    "# Create list of all htmls for Paris\n",
    "england_htmls = [england_html]\n",
    "for i in range(2, 30):\n",
    "    base = 'https://www.lonelyplanet.com/england/attractions'\n",
    "    page = '?page'\n",
    "    end = \"=\" + str(i)\n",
    "    html = base + page + end\n",
    "    england_htmls.append(str(html))\n",
    "print(england_htmls)"
   ]
  },
  {
   "cell_type": "code",
   "execution_count": 824,
   "metadata": {},
   "outputs": [
    {
     "name": "stdout",
     "output_type": "stream",
     "text": [
      "1160\n",
      "['Windsor Castle', 'Westminster Abbey', 'Roman Baths', 'Canterbury Cathedral', 'Natural History Museum']\n"
     ]
    }
   ],
   "source": [
    "# Warning! Takes a bit long to load \n",
    "all_attractions_england = get_all_attractions(england_htmls)\n",
    "print(len(all_attractions_england))\n",
    "print(all_attractions_england[:5])"
   ]
  },
  {
   "cell_type": "code",
   "execution_count": 825,
   "metadata": {},
   "outputs": [
    {
     "name": "stdout",
     "output_type": "stream",
     "text": [
      "1160\n",
      "['The world’s largest and oldest continuously occupied fortress, Windsor Castle is a majestic vision of battlements and towers. Used for state occasions, it…', \"A splendid mixture of architectural styles, Westminster Abbey is considered the finest example of Early English Gothic. It's not merely a beautiful place…\", \"Welcome to one of Northern Europe's most significant Roman sites. Today more than a million visitors a year come to see its historic finds, atmospheric…\", 'A rich repository of more than 1400 years of Christian history, Canterbury Cathedral is the Church of England’s mother ship, and a truly extraordinary…', 'With its thunderous, animatronic dinosaur, riveting displays about planet earth, outstanding Darwin Centre and architecture straight from a Gothic fairy…']\n"
     ]
    }
   ],
   "source": [
    "all_descriptions_england = get_all_descriptions(england_htmls)\n",
    "print(len(all_descriptions_england))\n",
    "print(all_descriptions_england[:5])"
   ]
  },
  {
   "cell_type": "code",
   "execution_count": 826,
   "metadata": {},
   "outputs": [
    {
     "data": {
      "text/html": [
       "<div>\n",
       "<style scoped>\n",
       "    .dataframe tbody tr th:only-of-type {\n",
       "        vertical-align: middle;\n",
       "    }\n",
       "\n",
       "    .dataframe tbody tr th {\n",
       "        vertical-align: top;\n",
       "    }\n",
       "\n",
       "    .dataframe thead th {\n",
       "        text-align: right;\n",
       "    }\n",
       "</style>\n",
       "<table border=\"1\" class=\"dataframe\">\n",
       "  <thead>\n",
       "    <tr style=\"text-align: right;\">\n",
       "      <th></th>\n",
       "      <th>Attraction</th>\n",
       "      <th>Description</th>\n",
       "      <th>Country</th>\n",
       "      <th>Continent</th>\n",
       "    </tr>\n",
       "  </thead>\n",
       "  <tbody>\n",
       "    <tr>\n",
       "      <th>0</th>\n",
       "      <td>Windsor Castle</td>\n",
       "      <td>The world’s largest and oldest continuously oc...</td>\n",
       "      <td>England</td>\n",
       "      <td>Europe</td>\n",
       "    </tr>\n",
       "    <tr>\n",
       "      <th>1</th>\n",
       "      <td>Westminster Abbey</td>\n",
       "      <td>A splendid mixture of architectural styles, We...</td>\n",
       "      <td>England</td>\n",
       "      <td>Europe</td>\n",
       "    </tr>\n",
       "    <tr>\n",
       "      <th>2</th>\n",
       "      <td>Roman Baths</td>\n",
       "      <td>Welcome to one of Northern Europe's most signi...</td>\n",
       "      <td>England</td>\n",
       "      <td>Europe</td>\n",
       "    </tr>\n",
       "    <tr>\n",
       "      <th>3</th>\n",
       "      <td>Canterbury Cathedral</td>\n",
       "      <td>A rich repository of more than 1400 years of C...</td>\n",
       "      <td>England</td>\n",
       "      <td>Europe</td>\n",
       "    </tr>\n",
       "    <tr>\n",
       "      <th>4</th>\n",
       "      <td>Natural History Museum</td>\n",
       "      <td>With its thunderous, animatronic dinosaur, riv...</td>\n",
       "      <td>England</td>\n",
       "      <td>Europe</td>\n",
       "    </tr>\n",
       "  </tbody>\n",
       "</table>\n",
       "</div>"
      ],
      "text/plain": [
       "               Attraction                                        Description  \\\n",
       "0          Windsor Castle  The world’s largest and oldest continuously oc...   \n",
       "1       Westminster Abbey  A splendid mixture of architectural styles, We...   \n",
       "2             Roman Baths  Welcome to one of Northern Europe's most signi...   \n",
       "3    Canterbury Cathedral  A rich repository of more than 1400 years of C...   \n",
       "4  Natural History Museum  With its thunderous, animatronic dinosaur, riv...   \n",
       "\n",
       "   Country Continent  \n",
       "0  England    Europe  \n",
       "1  England    Europe  \n",
       "2  England    Europe  \n",
       "3  England    Europe  \n",
       "4  England    Europe  "
      ]
     },
     "execution_count": 826,
     "metadata": {},
     "output_type": "execute_result"
    }
   ],
   "source": [
    "england_df = pd.DataFrame(all_attractions_england, columns=['Attraction'])\n",
    "england_df['Description'] = all_descriptions_england\n",
    "england_df['Country'] = 'England'\n",
    "england_df['Continent'] = 'Europe'\n",
    "england_df.head()"
   ]
  },
  {
   "cell_type": "code",
   "execution_count": 827,
   "metadata": {},
   "outputs": [],
   "source": [
    "england_df.to_csv('/Users/rosew/Desktop/Moringa/phase_5/individual_attractions/england_df.csv')"
   ]
  },
  {
   "cell_type": "markdown",
   "metadata": {},
   "source": [
    "### 16. Jordan"
   ]
  },
  {
   "cell_type": "code",
   "execution_count": 828,
   "metadata": {},
   "outputs": [],
   "source": [
    "jordan_html = 'https://www.lonelyplanet.com/jordan/attractions'"
   ]
  },
  {
   "cell_type": "code",
   "execution_count": 829,
   "metadata": {},
   "outputs": [
    {
     "name": "stdout",
     "output_type": "stream",
     "text": [
      "['https://www.lonelyplanet.com/jordan/attractions', 'https://www.lonelyplanet.com/jordan/attractions?page=2', 'https://www.lonelyplanet.com/jordan/attractions?page=3', 'https://www.lonelyplanet.com/jordan/attractions?page=4']\n"
     ]
    }
   ],
   "source": [
    "# Create list of all htmls for Jordan\n",
    "jordan_htmls = [jordan_html]\n",
    "for i in range(2, 5):\n",
    "    base = 'https://www.lonelyplanet.com/jordan/attractions'\n",
    "    page = '?page'\n",
    "    end = \"=\" + str(i)\n",
    "    html = base + page + end\n",
    "    jordan_htmls.append(str(html))\n",
    "print(jordan_htmls)"
   ]
  },
  {
   "cell_type": "code",
   "execution_count": 830,
   "metadata": {},
   "outputs": [
    {
     "name": "stdout",
     "output_type": "stream",
     "text": [
      "160\n",
      "['Petra', 'Citadel', 'Shaumari Wildlife Reserve', 'Darat Al Funun', 'Royal Automobile Museum']\n"
     ]
    }
   ],
   "source": [
    "all_attractions_jordan = get_all_attractions(jordan_htmls)\n",
    "print(len(all_attractions_jordan))\n",
    "print(all_attractions_jordan[:5])"
   ]
  },
  {
   "cell_type": "code",
   "execution_count": 831,
   "metadata": {},
   "outputs": [
    {
     "name": "stdout",
     "output_type": "stream",
     "text": [
      "160\n",
      "['The spectacular sandstone city of Petra was built in the 3rd century BC by the Nabataeans, who carved palaces, temples, tombs, storerooms and stables from…', 'The area known as the Citadel sits on the highest hill in Amman, Jebel Al Qala’a (about 850m above sea level), and is the site of ancient Rabbath-Ammon…', 'Established in 1975 by the Royal Society for the Conservation of Nature (RSCN), this 22 sq km reserve was created with the aim of reintroducing wildlife…', 'On the hillside to the north of the downtown area, this cultural haven is dedicated to contemporary art. The main building features an excellent art…', \"You really don't have to be a car enthusiast to enjoy this museum, which displays more than 70 classic cars and motorbikes from the personal collection of…\"]\n"
     ]
    }
   ],
   "source": [
    "all_descriptions_jordan = get_all_descriptions(jordan_htmls)\n",
    "print(len(all_descriptions_jordan))\n",
    "print(all_descriptions_jordan[:5])"
   ]
  },
  {
   "cell_type": "code",
   "execution_count": 832,
   "metadata": {},
   "outputs": [
    {
     "data": {
      "text/html": [
       "<div>\n",
       "<style scoped>\n",
       "    .dataframe tbody tr th:only-of-type {\n",
       "        vertical-align: middle;\n",
       "    }\n",
       "\n",
       "    .dataframe tbody tr th {\n",
       "        vertical-align: top;\n",
       "    }\n",
       "\n",
       "    .dataframe thead th {\n",
       "        text-align: right;\n",
       "    }\n",
       "</style>\n",
       "<table border=\"1\" class=\"dataframe\">\n",
       "  <thead>\n",
       "    <tr style=\"text-align: right;\">\n",
       "      <th></th>\n",
       "      <th>Attraction</th>\n",
       "      <th>Description</th>\n",
       "      <th>Country</th>\n",
       "      <th>Continent</th>\n",
       "    </tr>\n",
       "  </thead>\n",
       "  <tbody>\n",
       "    <tr>\n",
       "      <th>0</th>\n",
       "      <td>Petra</td>\n",
       "      <td>The spectacular sandstone city of Petra was bu...</td>\n",
       "      <td>Jordan</td>\n",
       "      <td>Asia</td>\n",
       "    </tr>\n",
       "    <tr>\n",
       "      <th>1</th>\n",
       "      <td>Citadel</td>\n",
       "      <td>The area known as the Citadel sits on the high...</td>\n",
       "      <td>Jordan</td>\n",
       "      <td>Asia</td>\n",
       "    </tr>\n",
       "    <tr>\n",
       "      <th>2</th>\n",
       "      <td>Shaumari Wildlife Reserve</td>\n",
       "      <td>Established in 1975 by the Royal Society for t...</td>\n",
       "      <td>Jordan</td>\n",
       "      <td>Asia</td>\n",
       "    </tr>\n",
       "    <tr>\n",
       "      <th>3</th>\n",
       "      <td>Darat Al Funun</td>\n",
       "      <td>On the hillside to the north of the downtown a...</td>\n",
       "      <td>Jordan</td>\n",
       "      <td>Asia</td>\n",
       "    </tr>\n",
       "    <tr>\n",
       "      <th>4</th>\n",
       "      <td>Royal Automobile Museum</td>\n",
       "      <td>You really don't have to be a car enthusiast t...</td>\n",
       "      <td>Jordan</td>\n",
       "      <td>Asia</td>\n",
       "    </tr>\n",
       "  </tbody>\n",
       "</table>\n",
       "</div>"
      ],
      "text/plain": [
       "                  Attraction  \\\n",
       "0                      Petra   \n",
       "1                    Citadel   \n",
       "2  Shaumari Wildlife Reserve   \n",
       "3             Darat Al Funun   \n",
       "4    Royal Automobile Museum   \n",
       "\n",
       "                                         Description Country Continent  \n",
       "0  The spectacular sandstone city of Petra was bu...  Jordan      Asia  \n",
       "1  The area known as the Citadel sits on the high...  Jordan      Asia  \n",
       "2  Established in 1975 by the Royal Society for t...  Jordan      Asia  \n",
       "3  On the hillside to the north of the downtown a...  Jordan      Asia  \n",
       "4  You really don't have to be a car enthusiast t...  Jordan      Asia  "
      ]
     },
     "execution_count": 832,
     "metadata": {},
     "output_type": "execute_result"
    }
   ],
   "source": [
    "jordan_df = pd.DataFrame(all_attractions_jordan, columns=['Attraction'])\n",
    "\n",
    "jordan_df['Description'] = all_descriptions_jordan\n",
    "jordan_df['Country'] = 'Jordan'\n",
    "jordan_df['Continent'] = 'Asia'\n",
    "jordan_df.head()"
   ]
  },
  {
   "cell_type": "code",
   "execution_count": 833,
   "metadata": {},
   "outputs": [],
   "source": [
    "jordan_df.to_csv('/Users/rosew/Desktop/Moringa/phase_5/individual_attractions/jordan_df.csv')"
   ]
  },
  {
   "cell_type": "markdown",
   "metadata": {},
   "source": [
    "### 17. Toulouse, France"
   ]
  },
  {
   "cell_type": "code",
   "execution_count": 834,
   "metadata": {},
   "outputs": [],
   "source": [
    "toulouse_html = 'https://www.lonelyplanet.com/france/toulouse-gers-vallee-du-tarn/attractions'"
   ]
  },
  {
   "cell_type": "code",
   "execution_count": 835,
   "metadata": {},
   "outputs": [
    {
     "name": "stdout",
     "output_type": "stream",
     "text": [
      "32\n",
      "['Cité de l’Espace', 'Couvent des Jacobins', 'Place du Capitole', 'Lectoure', 'Musée et Jardin du Canal du Midi']\n"
     ]
    }
   ],
   "source": [
    "all_attractions_toulouse= get_attractions_one_page(toulouse_html)\n",
    "print(len(all_attractions_toulouse))\n",
    "print(all_attractions_toulouse[:5])"
   ]
  },
  {
   "cell_type": "code",
   "execution_count": 836,
   "metadata": {},
   "outputs": [
    {
     "name": "stdout",
     "output_type": "stream",
     "text": [
      "32\n",
      "[\"The fantastic space museum on the city's eastern outskirts brings Toulouse's illustrious aeronautical history to life through hands-on exhibits, including…\", 'With its palm tree vaulted ceiling, the Couvent des Jacobins is one of Toulouse’s oldest and most recognizable buildings', 'Toulouse’s grandiose main square is the focal point in the heart of France’s \"Pink City\"', \"It's something of a surprise to come across a place of such historical wealth in such a remote part of the Gers département, well away from any major…\", 'Understand France’s mightiest man-made waterway, the Unesco World Heritage Canal du Midi, through illuminating exhibitions and short films at this museum…']\n"
     ]
    }
   ],
   "source": [
    "all_descriptions_toulouse = get_all_descriptions_one_page(toulouse_html)\n",
    "print(len(all_descriptions_toulouse))\n",
    "print(all_descriptions_toulouse[:5])"
   ]
  },
  {
   "cell_type": "code",
   "execution_count": 837,
   "metadata": {},
   "outputs": [
    {
     "data": {
      "text/html": [
       "<div>\n",
       "<style scoped>\n",
       "    .dataframe tbody tr th:only-of-type {\n",
       "        vertical-align: middle;\n",
       "    }\n",
       "\n",
       "    .dataframe tbody tr th {\n",
       "        vertical-align: top;\n",
       "    }\n",
       "\n",
       "    .dataframe thead th {\n",
       "        text-align: right;\n",
       "    }\n",
       "</style>\n",
       "<table border=\"1\" class=\"dataframe\">\n",
       "  <thead>\n",
       "    <tr style=\"text-align: right;\">\n",
       "      <th></th>\n",
       "      <th>Attraction</th>\n",
       "      <th>Description</th>\n",
       "      <th>Country</th>\n",
       "      <th>Continent</th>\n",
       "    </tr>\n",
       "  </thead>\n",
       "  <tbody>\n",
       "    <tr>\n",
       "      <th>0</th>\n",
       "      <td>Cité de l’Espace</td>\n",
       "      <td>The fantastic space museum on the city's easte...</td>\n",
       "      <td>France</td>\n",
       "      <td>Europe</td>\n",
       "    </tr>\n",
       "    <tr>\n",
       "      <th>1</th>\n",
       "      <td>Couvent des Jacobins</td>\n",
       "      <td>With its palm tree vaulted ceiling, the Couven...</td>\n",
       "      <td>France</td>\n",
       "      <td>Europe</td>\n",
       "    </tr>\n",
       "    <tr>\n",
       "      <th>2</th>\n",
       "      <td>Place du Capitole</td>\n",
       "      <td>Toulouse’s grandiose main square is the focal ...</td>\n",
       "      <td>France</td>\n",
       "      <td>Europe</td>\n",
       "    </tr>\n",
       "    <tr>\n",
       "      <th>3</th>\n",
       "      <td>Lectoure</td>\n",
       "      <td>It's something of a surprise to come across a ...</td>\n",
       "      <td>France</td>\n",
       "      <td>Europe</td>\n",
       "    </tr>\n",
       "    <tr>\n",
       "      <th>4</th>\n",
       "      <td>Musée et Jardin du Canal du Midi</td>\n",
       "      <td>Understand France’s mightiest man-made waterwa...</td>\n",
       "      <td>France</td>\n",
       "      <td>Europe</td>\n",
       "    </tr>\n",
       "  </tbody>\n",
       "</table>\n",
       "</div>"
      ],
      "text/plain": [
       "                         Attraction  \\\n",
       "0                  Cité de l’Espace   \n",
       "1              Couvent des Jacobins   \n",
       "2                 Place du Capitole   \n",
       "3                          Lectoure   \n",
       "4  Musée et Jardin du Canal du Midi   \n",
       "\n",
       "                                         Description Country Continent  \n",
       "0  The fantastic space museum on the city's easte...  France    Europe  \n",
       "1  With its palm tree vaulted ceiling, the Couven...  France    Europe  \n",
       "2  Toulouse’s grandiose main square is the focal ...  France    Europe  \n",
       "3  It's something of a surprise to come across a ...  France    Europe  \n",
       "4  Understand France’s mightiest man-made waterwa...  France    Europe  "
      ]
     },
     "execution_count": 837,
     "metadata": {},
     "output_type": "execute_result"
    }
   ],
   "source": [
    "toulouse_df = pd.DataFrame(all_attractions_toulouse, columns=['Attraction'])\n",
    "\n",
    "toulouse_df['Description'] = all_descriptions_toulouse\n",
    "toulouse_df['Country'] = 'France'\n",
    "toulouse_df['Continent'] = 'Europe'\n",
    "toulouse_df.head()"
   ]
  },
  {
   "cell_type": "code",
   "execution_count": 838,
   "metadata": {},
   "outputs": [],
   "source": [
    "toulouse_df.to_csv('/Users/rosew/Desktop/Moringa/phase_5/individual_attractions/toulouse_df.csv')"
   ]
  },
  {
   "cell_type": "markdown",
   "metadata": {},
   "source": [
    "### 18. Puducherry (Pondicherry), India"
   ]
  },
  {
   "cell_type": "code",
   "execution_count": 839,
   "metadata": {},
   "outputs": [],
   "source": [
    "india_html = 'https://www.lonelyplanet.com/india/tamil-nadu/puducherry-pondicherry/attractions'"
   ]
  },
  {
   "cell_type": "code",
   "execution_count": 840,
   "metadata": {},
   "outputs": [
    {
     "name": "stdout",
     "output_type": "stream",
     "text": [
      "13\n",
      "['Seafront', 'Sri Aurobindo Ashram', 'Puducherry Museum', 'Institut Français de Pondichéry', 'Sri Manakula Vinayagar Temple']\n"
     ]
    }
   ],
   "source": [
    "all_attractions_india= get_attractions_one_page(india_html)\n",
    "print(len(all_attractions_india))\n",
    "print(all_attractions_india[:5])"
   ]
  },
  {
   "cell_type": "code",
   "execution_count": 841,
   "metadata": {},
   "outputs": [
    {
     "name": "stdout",
     "output_type": "stream",
     "text": [
      "13\n",
      "['Pondy is a seaside town, but that doesn’t make it a beach destination; the city’s sand is a thin strip of dirty brown that slurps into a seawall of jagged…', 'Founded in 1926 by Sri Aurobindo and a French-born woman, ‘the Mother’, this famous spiritual community has about 2000 members in its many departments…', 'Goodness knows how this converted late-18th-century villa keeps its artefacts from disintegrating, considering there’s a whole floor of French-era…', 'This grand 19th-century neoclassical building is also a flourishing research institution devoted to Indian culture, history and ecology. Visitors can…', 'Pondy may have more churches than most Indian towns, but the Hindu faith still reigns supreme. Pilgrims, tourists and the curious get a head pat from the…']\n"
     ]
    }
   ],
   "source": [
    "all_descriptions_india = get_all_descriptions_one_page(india_html)\n",
    "print(len(all_descriptions_india))\n",
    "print(all_descriptions_india[:5])"
   ]
  },
  {
   "cell_type": "code",
   "execution_count": 842,
   "metadata": {},
   "outputs": [
    {
     "data": {
      "text/html": [
       "<div>\n",
       "<style scoped>\n",
       "    .dataframe tbody tr th:only-of-type {\n",
       "        vertical-align: middle;\n",
       "    }\n",
       "\n",
       "    .dataframe tbody tr th {\n",
       "        vertical-align: top;\n",
       "    }\n",
       "\n",
       "    .dataframe thead th {\n",
       "        text-align: right;\n",
       "    }\n",
       "</style>\n",
       "<table border=\"1\" class=\"dataframe\">\n",
       "  <thead>\n",
       "    <tr style=\"text-align: right;\">\n",
       "      <th></th>\n",
       "      <th>Attraction</th>\n",
       "      <th>Description</th>\n",
       "      <th>Country</th>\n",
       "      <th>Continent</th>\n",
       "    </tr>\n",
       "  </thead>\n",
       "  <tbody>\n",
       "    <tr>\n",
       "      <th>0</th>\n",
       "      <td>Seafront</td>\n",
       "      <td>Pondy is a seaside town, but that doesn’t make...</td>\n",
       "      <td>India</td>\n",
       "      <td>Asia</td>\n",
       "    </tr>\n",
       "    <tr>\n",
       "      <th>1</th>\n",
       "      <td>Sri Aurobindo Ashram</td>\n",
       "      <td>Founded in 1926 by Sri Aurobindo and a French-...</td>\n",
       "      <td>India</td>\n",
       "      <td>Asia</td>\n",
       "    </tr>\n",
       "    <tr>\n",
       "      <th>2</th>\n",
       "      <td>Puducherry Museum</td>\n",
       "      <td>Goodness knows how this converted late-18th-ce...</td>\n",
       "      <td>India</td>\n",
       "      <td>Asia</td>\n",
       "    </tr>\n",
       "    <tr>\n",
       "      <th>3</th>\n",
       "      <td>Institut Français de Pondichéry</td>\n",
       "      <td>This grand 19th-century neoclassical building ...</td>\n",
       "      <td>India</td>\n",
       "      <td>Asia</td>\n",
       "    </tr>\n",
       "    <tr>\n",
       "      <th>4</th>\n",
       "      <td>Sri Manakula Vinayagar Temple</td>\n",
       "      <td>Pondy may have more churches than most Indian ...</td>\n",
       "      <td>India</td>\n",
       "      <td>Asia</td>\n",
       "    </tr>\n",
       "  </tbody>\n",
       "</table>\n",
       "</div>"
      ],
      "text/plain": [
       "                        Attraction  \\\n",
       "0                         Seafront   \n",
       "1             Sri Aurobindo Ashram   \n",
       "2                Puducherry Museum   \n",
       "3  Institut Français de Pondichéry   \n",
       "4    Sri Manakula Vinayagar Temple   \n",
       "\n",
       "                                         Description Country Continent  \n",
       "0  Pondy is a seaside town, but that doesn’t make...   India      Asia  \n",
       "1  Founded in 1926 by Sri Aurobindo and a French-...   India      Asia  \n",
       "2  Goodness knows how this converted late-18th-ce...   India      Asia  \n",
       "3  This grand 19th-century neoclassical building ...   India      Asia  \n",
       "4  Pondy may have more churches than most Indian ...   India      Asia  "
      ]
     },
     "execution_count": 842,
     "metadata": {},
     "output_type": "execute_result"
    }
   ],
   "source": [
    "india_df = pd.DataFrame(all_attractions_india, columns=['Attraction'])\n",
    "\n",
    "india_df['Description'] = all_descriptions_india\n",
    "india_df['Country'] = 'India'\n",
    "india_df['Continent'] = 'Asia'\n",
    "india_df.head()"
   ]
  },
  {
   "cell_type": "code",
   "execution_count": 843,
   "metadata": {},
   "outputs": [],
   "source": [
    "india_df.to_csv('/Users/rosew/Desktop/Moringa/phase_5/individual_attractions/india_df.csv')"
   ]
  },
  {
   "cell_type": "markdown",
   "metadata": {},
   "source": [
    "### 19. Chiang Mai, Thailand"
   ]
  },
  {
   "cell_type": "code",
   "execution_count": 844,
   "metadata": {},
   "outputs": [],
   "source": [
    "thailand_html = 'https://www.lonelyplanet.com/thailand/chiang-mai-province/chiang-mai/attractions'"
   ]
  },
  {
   "cell_type": "code",
   "execution_count": 845,
   "metadata": {},
   "outputs": [
    {
     "name": "stdout",
     "output_type": "stream",
     "text": [
      "40\n",
      "['Wat Phra That Doi Suthep', 'Wat Chedi Luang', 'Wat Phra Singh', 'Talat Warorot', 'Wat Phan Tao']\n"
     ]
    }
   ],
   "source": [
    "all_attractions_thailand= get_attractions_one_page(thailand_html)\n",
    "print(len(all_attractions_thailand))\n",
    "print(all_attractions_thailand[:5])"
   ]
  },
  {
   "cell_type": "code",
   "execution_count": 846,
   "metadata": {},
   "outputs": [
    {
     "name": "stdout",
     "output_type": "stream",
     "text": [
      "40\n",
      "[\"Overlooking the city from its mountain throne, Wat Phra That Doi Suthep is one of northern Thailand's most sacred temples, and its founding legend is…\", \"Wat Chedi Luang isn't as grand as Wat Phra Singh, but its towering, ruined Lanna-style chedi (built in 1441) is much taller and the sprawling compound…\", \"Chiang Mai's most revered temple, Wat Phra Singh is dominated by an enormous, mosaic-inlaid wí·hăhn (sanctuary). Its prosperity is plain to see from the…\", \"Chiang Mai's oldest public market, Warorot (also spelt Waroros) is a great place to connect with the city's Thai soul. Alongside souvenir vendors you'll…\", 'Without doubt the most atmospheric wát in the old city, this teak marvel sits in the shadow of Wat Chedi Luang. Set in a compound full of fluttering…']\n"
     ]
    }
   ],
   "source": [
    "all_descriptions_thailand = get_all_descriptions_one_page(thailand_html)\n",
    "print(len(all_descriptions_thailand))\n",
    "print(all_descriptions_thailand[:5])"
   ]
  },
  {
   "cell_type": "code",
   "execution_count": 847,
   "metadata": {},
   "outputs": [
    {
     "data": {
      "text/html": [
       "<div>\n",
       "<style scoped>\n",
       "    .dataframe tbody tr th:only-of-type {\n",
       "        vertical-align: middle;\n",
       "    }\n",
       "\n",
       "    .dataframe tbody tr th {\n",
       "        vertical-align: top;\n",
       "    }\n",
       "\n",
       "    .dataframe thead th {\n",
       "        text-align: right;\n",
       "    }\n",
       "</style>\n",
       "<table border=\"1\" class=\"dataframe\">\n",
       "  <thead>\n",
       "    <tr style=\"text-align: right;\">\n",
       "      <th></th>\n",
       "      <th>Attraction</th>\n",
       "      <th>Description</th>\n",
       "      <th>Country</th>\n",
       "      <th>Continent</th>\n",
       "    </tr>\n",
       "  </thead>\n",
       "  <tbody>\n",
       "    <tr>\n",
       "      <th>0</th>\n",
       "      <td>Wat Phra That Doi Suthep</td>\n",
       "      <td>Overlooking the city from its mountain throne,...</td>\n",
       "      <td>Thailand</td>\n",
       "      <td>Asia</td>\n",
       "    </tr>\n",
       "    <tr>\n",
       "      <th>1</th>\n",
       "      <td>Wat Chedi Luang</td>\n",
       "      <td>Wat Chedi Luang isn't as grand as Wat Phra Sin...</td>\n",
       "      <td>Thailand</td>\n",
       "      <td>Asia</td>\n",
       "    </tr>\n",
       "    <tr>\n",
       "      <th>2</th>\n",
       "      <td>Wat Phra Singh</td>\n",
       "      <td>Chiang Mai's most revered temple, Wat Phra Sin...</td>\n",
       "      <td>Thailand</td>\n",
       "      <td>Asia</td>\n",
       "    </tr>\n",
       "    <tr>\n",
       "      <th>3</th>\n",
       "      <td>Talat Warorot</td>\n",
       "      <td>Chiang Mai's oldest public market, Warorot (al...</td>\n",
       "      <td>Thailand</td>\n",
       "      <td>Asia</td>\n",
       "    </tr>\n",
       "    <tr>\n",
       "      <th>4</th>\n",
       "      <td>Wat Phan Tao</td>\n",
       "      <td>Without doubt the most atmospheric wát in the ...</td>\n",
       "      <td>Thailand</td>\n",
       "      <td>Asia</td>\n",
       "    </tr>\n",
       "  </tbody>\n",
       "</table>\n",
       "</div>"
      ],
      "text/plain": [
       "                 Attraction  \\\n",
       "0  Wat Phra That Doi Suthep   \n",
       "1           Wat Chedi Luang   \n",
       "2            Wat Phra Singh   \n",
       "3             Talat Warorot   \n",
       "4              Wat Phan Tao   \n",
       "\n",
       "                                         Description   Country Continent  \n",
       "0  Overlooking the city from its mountain throne,...  Thailand      Asia  \n",
       "1  Wat Chedi Luang isn't as grand as Wat Phra Sin...  Thailand      Asia  \n",
       "2  Chiang Mai's most revered temple, Wat Phra Sin...  Thailand      Asia  \n",
       "3  Chiang Mai's oldest public market, Warorot (al...  Thailand      Asia  \n",
       "4  Without doubt the most atmospheric wát in the ...  Thailand      Asia  "
      ]
     },
     "execution_count": 847,
     "metadata": {},
     "output_type": "execute_result"
    }
   ],
   "source": [
    "thailand_df = pd.DataFrame(all_attractions_thailand, columns=['Attraction'])\n",
    "\n",
    "thailand_df['Description'] = all_descriptions_thailand\n",
    "thailand_df['Country'] = 'Thailand'\n",
    "thailand_df['Continent'] = 'Asia'\n",
    "thailand_df.head()"
   ]
  },
  {
   "cell_type": "code",
   "execution_count": 848,
   "metadata": {},
   "outputs": [],
   "source": [
    "india_df.to_csv('/Users/rosew/Desktop/Moringa/phase_5/individual_attractions/india_df.csv')"
   ]
  },
  {
   "cell_type": "markdown",
   "metadata": {},
   "source": [
    "### 20. Genoa, Italy"
   ]
  },
  {
   "cell_type": "code",
   "execution_count": 849,
   "metadata": {},
   "outputs": [],
   "source": [
    "genoa_html = 'https://www.lonelyplanet.com/italy/liguria-piedmont-and-valle-daosta/genoa/attractions'"
   ]
  },
  {
   "cell_type": "code",
   "execution_count": 850,
   "metadata": {},
   "outputs": [
    {
     "name": "stdout",
     "output_type": "stream",
     "text": [
      "28\n",
      "['Musei di Strada Nuova', 'Palazzo Reale', 'Old City', 'Boccadasse', 'Palazzo Bianco']\n"
     ]
    }
   ],
   "source": [
    "all_attractions_genoa= get_attractions_one_page(genoa_html)\n",
    "print(len(all_attractions_genoa))\n",
    "print(all_attractions_genoa[:5])"
   ]
  },
  {
   "cell_type": "code",
   "execution_count": 851,
   "metadata": {},
   "outputs": [
    {
     "name": "stdout",
     "output_type": "stream",
     "text": [
      "28\n",
      "['Skirting the northern edge of the old city limits, pedestrianised Via Garibaldi (formerly Strada Nuova) was planned by Galeazzo Alessi in the 16th century…', \"If you only get the chance to visit one of the Palazzi dei Rolli (group of palaces belonging to the city's most eminent families), make it this one. A…\", 'The heart of medieval Genoa – bounded by ancient city gates Porta dei Vacca and Porta Soprana, and the streets of Via Cairoli, Via Garibaldi and Via XXV…', 'When the sun is shining, do as the Genovese do and decamp for a passeggiata (late afternoon stroll) along the oceanside promenade, Corso Italia, which…', 'Flemish, Spanish and Italian artists feature at Palazzo Bianco, the second of the triumvirate of palazzi that are together known as the Musei di Strada…']\n"
     ]
    }
   ],
   "source": [
    "all_descriptions_genoa = get_all_descriptions_one_page(genoa_html)\n",
    "print(len(all_descriptions_genoa))\n",
    "print(all_descriptions_genoa[:5])\n"
   ]
  },
  {
   "cell_type": "code",
   "execution_count": 852,
   "metadata": {},
   "outputs": [
    {
     "data": {
      "text/html": [
       "<div>\n",
       "<style scoped>\n",
       "    .dataframe tbody tr th:only-of-type {\n",
       "        vertical-align: middle;\n",
       "    }\n",
       "\n",
       "    .dataframe tbody tr th {\n",
       "        vertical-align: top;\n",
       "    }\n",
       "\n",
       "    .dataframe thead th {\n",
       "        text-align: right;\n",
       "    }\n",
       "</style>\n",
       "<table border=\"1\" class=\"dataframe\">\n",
       "  <thead>\n",
       "    <tr style=\"text-align: right;\">\n",
       "      <th></th>\n",
       "      <th>Attraction</th>\n",
       "      <th>Description</th>\n",
       "      <th>Country</th>\n",
       "      <th>Continent</th>\n",
       "    </tr>\n",
       "  </thead>\n",
       "  <tbody>\n",
       "    <tr>\n",
       "      <th>0</th>\n",
       "      <td>Musei di Strada Nuova</td>\n",
       "      <td>Skirting the northern edge of the old city lim...</td>\n",
       "      <td>Italy</td>\n",
       "      <td>Europe</td>\n",
       "    </tr>\n",
       "    <tr>\n",
       "      <th>1</th>\n",
       "      <td>Palazzo Reale</td>\n",
       "      <td>If you only get the chance to visit one of the...</td>\n",
       "      <td>Italy</td>\n",
       "      <td>Europe</td>\n",
       "    </tr>\n",
       "    <tr>\n",
       "      <th>2</th>\n",
       "      <td>Old City</td>\n",
       "      <td>The heart of medieval Genoa – bounded by ancie...</td>\n",
       "      <td>Italy</td>\n",
       "      <td>Europe</td>\n",
       "    </tr>\n",
       "    <tr>\n",
       "      <th>3</th>\n",
       "      <td>Boccadasse</td>\n",
       "      <td>When the sun is shining, do as the Genovese do...</td>\n",
       "      <td>Italy</td>\n",
       "      <td>Europe</td>\n",
       "    </tr>\n",
       "    <tr>\n",
       "      <th>4</th>\n",
       "      <td>Palazzo Bianco</td>\n",
       "      <td>Flemish, Spanish and Italian artists feature a...</td>\n",
       "      <td>Italy</td>\n",
       "      <td>Europe</td>\n",
       "    </tr>\n",
       "  </tbody>\n",
       "</table>\n",
       "</div>"
      ],
      "text/plain": [
       "              Attraction                                        Description  \\\n",
       "0  Musei di Strada Nuova  Skirting the northern edge of the old city lim...   \n",
       "1          Palazzo Reale  If you only get the chance to visit one of the...   \n",
       "2               Old City  The heart of medieval Genoa – bounded by ancie...   \n",
       "3             Boccadasse  When the sun is shining, do as the Genovese do...   \n",
       "4         Palazzo Bianco  Flemish, Spanish and Italian artists feature a...   \n",
       "\n",
       "  Country Continent  \n",
       "0   Italy    Europe  \n",
       "1   Italy    Europe  \n",
       "2   Italy    Europe  \n",
       "3   Italy    Europe  \n",
       "4   Italy    Europe  "
      ]
     },
     "execution_count": 852,
     "metadata": {},
     "output_type": "execute_result"
    }
   ],
   "source": [
    "genoa_df = pd.DataFrame(all_attractions_genoa, columns=['Attraction'])\n",
    "\n",
    "genoa_df['Description'] = all_descriptions_genoa\n",
    "genoa_df['Country'] = 'Italy'\n",
    "genoa_df['Continent'] = 'Europe'\n",
    "genoa_df.head()"
   ]
  },
  {
   "cell_type": "code",
   "execution_count": 853,
   "metadata": {},
   "outputs": [],
   "source": [
    "genoa_df.to_csv('/Users/rosew/Desktop/Moringa/phase_5/individual_attractions/genoa_df.csv')"
   ]
  },
  {
   "cell_type": "markdown",
   "metadata": {},
   "source": [
    "### 21. Osaka, Japan"
   ]
  },
  {
   "cell_type": "code",
   "execution_count": 854,
   "metadata": {},
   "outputs": [],
   "source": [
    "osaka_html = 'https://www.lonelyplanet.com/japan/kansai/osaka/attractions'"
   ]
  },
  {
   "cell_type": "code",
   "execution_count": 855,
   "metadata": {},
   "outputs": [
    {
     "name": "stdout",
     "output_type": "stream",
     "text": [
      "40\n",
      "['Abeno Harukas', 'Osaka-jō', 'Dōtombori', 'Amerika-Mura', 'National Museum of Ethnology']\n"
     ]
    }
   ],
   "source": [
    "all_attractions_osaka= get_attractions_one_page(osaka_html)\n",
    "print(len(all_attractions_osaka))\n",
    "print(all_attractions_osaka[:5])"
   ]
  },
  {
   "cell_type": "code",
   "execution_count": 856,
   "metadata": {},
   "outputs": [
    {
     "name": "stdout",
     "output_type": "stream",
     "text": [
      "40\n",
      "[\"This César Pelli–designed tower, which opened in March 2014, is Japan's tallest building (300m, 60 storeys). The observatory on the 16th floor is free,…\", \"After unifying Japan in the late 16th century, General Toyotomi Hideyoshi built this castle (1583) as a display of power, using, it's said, the labour of…\", \"Highly photogenic Dōtombori is the city's liveliest night spot and the centre of the southern part of town. Its name comes from the 400-year-old canal,…\", 'West of Midō-suji, Amerika-Mura is a compact enclave of hip, youth-focused and offbeat shops, plus cafes, bars, tattoo and piercing parlours, nightclubs,…', \"This ambitious museum showcases the world's cultures, presenting them as the continuous (and tangled) strings that they are. There are plenty of…\"]\n"
     ]
    }
   ],
   "source": [
    "all_descriptions_osaka = get_all_descriptions_one_page(osaka_html)\n",
    "print(len(all_descriptions_osaka))\n",
    "print(all_descriptions_osaka[:5])"
   ]
  },
  {
   "cell_type": "code",
   "execution_count": 857,
   "metadata": {},
   "outputs": [
    {
     "data": {
      "text/html": [
       "<div>\n",
       "<style scoped>\n",
       "    .dataframe tbody tr th:only-of-type {\n",
       "        vertical-align: middle;\n",
       "    }\n",
       "\n",
       "    .dataframe tbody tr th {\n",
       "        vertical-align: top;\n",
       "    }\n",
       "\n",
       "    .dataframe thead th {\n",
       "        text-align: right;\n",
       "    }\n",
       "</style>\n",
       "<table border=\"1\" class=\"dataframe\">\n",
       "  <thead>\n",
       "    <tr style=\"text-align: right;\">\n",
       "      <th></th>\n",
       "      <th>Attraction</th>\n",
       "      <th>Description</th>\n",
       "      <th>Country</th>\n",
       "      <th>Continent</th>\n",
       "    </tr>\n",
       "  </thead>\n",
       "  <tbody>\n",
       "    <tr>\n",
       "      <th>0</th>\n",
       "      <td>Abeno Harukas</td>\n",
       "      <td>This César Pelli–designed tower, which opened ...</td>\n",
       "      <td>Japan</td>\n",
       "      <td>Asia</td>\n",
       "    </tr>\n",
       "    <tr>\n",
       "      <th>1</th>\n",
       "      <td>Osaka-jō</td>\n",
       "      <td>After unifying Japan in the late 16th century,...</td>\n",
       "      <td>Japan</td>\n",
       "      <td>Asia</td>\n",
       "    </tr>\n",
       "    <tr>\n",
       "      <th>2</th>\n",
       "      <td>Dōtombori</td>\n",
       "      <td>Highly photogenic Dōtombori is the city's live...</td>\n",
       "      <td>Japan</td>\n",
       "      <td>Asia</td>\n",
       "    </tr>\n",
       "    <tr>\n",
       "      <th>3</th>\n",
       "      <td>Amerika-Mura</td>\n",
       "      <td>West of Midō-suji, Amerika-Mura is a compact e...</td>\n",
       "      <td>Japan</td>\n",
       "      <td>Asia</td>\n",
       "    </tr>\n",
       "    <tr>\n",
       "      <th>4</th>\n",
       "      <td>National Museum of Ethnology</td>\n",
       "      <td>This ambitious museum showcases the world's cu...</td>\n",
       "      <td>Japan</td>\n",
       "      <td>Asia</td>\n",
       "    </tr>\n",
       "  </tbody>\n",
       "</table>\n",
       "</div>"
      ],
      "text/plain": [
       "                     Attraction  \\\n",
       "0                 Abeno Harukas   \n",
       "1                      Osaka-jō   \n",
       "2                     Dōtombori   \n",
       "3                  Amerika-Mura   \n",
       "4  National Museum of Ethnology   \n",
       "\n",
       "                                         Description Country Continent  \n",
       "0  This César Pelli–designed tower, which opened ...   Japan      Asia  \n",
       "1  After unifying Japan in the late 16th century,...   Japan      Asia  \n",
       "2  Highly photogenic Dōtombori is the city's live...   Japan      Asia  \n",
       "3  West of Midō-suji, Amerika-Mura is a compact e...   Japan      Asia  \n",
       "4  This ambitious museum showcases the world's cu...   Japan      Asia  "
      ]
     },
     "execution_count": 857,
     "metadata": {},
     "output_type": "execute_result"
    }
   ],
   "source": [
    "osaka_df = pd.DataFrame(all_attractions_osaka, columns=['Attraction'])\n",
    "\n",
    "osaka_df['Description'] = all_descriptions_osaka\n",
    "osaka_df['Country'] = 'Japan'\n",
    "osaka_df['Continent'] = 'Asia'\n",
    "\n",
    "osaka_df.head()"
   ]
  },
  {
   "cell_type": "code",
   "execution_count": 858,
   "metadata": {},
   "outputs": [],
   "source": [
    "osaka_df.to_csv('/Users/rosew/Desktop/Moringa/phase_5/individual_attractions/osaka_df.csv')"
   ]
  },
  {
   "cell_type": "markdown",
   "metadata": {},
   "source": [
    "## Concatenate all the DFs"
   ]
  },
  {
   "cell_type": "code",
   "execution_count": 859,
   "metadata": {},
   "outputs": [
    {
     "data": {
      "text/html": [
       "<div>\n",
       "<style scoped>\n",
       "    .dataframe tbody tr th:only-of-type {\n",
       "        vertical-align: middle;\n",
       "    }\n",
       "\n",
       "    .dataframe tbody tr th {\n",
       "        vertical-align: top;\n",
       "    }\n",
       "\n",
       "    .dataframe thead th {\n",
       "        text-align: right;\n",
       "    }\n",
       "</style>\n",
       "<table border=\"1\" class=\"dataframe\">\n",
       "  <thead>\n",
       "    <tr style=\"text-align: right;\">\n",
       "      <th></th>\n",
       "      <th>Attraction</th>\n",
       "      <th>Description</th>\n",
       "      <th>Country</th>\n",
       "      <th>Continent</th>\n",
       "    </tr>\n",
       "  </thead>\n",
       "  <tbody>\n",
       "    <tr>\n",
       "      <th>0</th>\n",
       "      <td>Palais Royal</td>\n",
       "      <td>The must-see attraction is the sultan's palace...</td>\n",
       "      <td>Cameroon</td>\n",
       "      <td>Africa</td>\n",
       "    </tr>\n",
       "    <tr>\n",
       "      <th>1</th>\n",
       "      <td>Chefferie</td>\n",
       "      <td>Approached via a ceremonial gate, the compound...</td>\n",
       "      <td>Cameroon</td>\n",
       "      <td>Africa</td>\n",
       "    </tr>\n",
       "    <tr>\n",
       "      <th>2</th>\n",
       "      <td>Fon's Palace</td>\n",
       "      <td>Just north of Bamenda is the large Tikar commu...</td>\n",
       "      <td>Cameroon</td>\n",
       "      <td>Africa</td>\n",
       "    </tr>\n",
       "    <tr>\n",
       "      <th>3</th>\n",
       "      <td>Limbe Wildlife Centre</td>\n",
       "      <td>Many zoos in Africa are depressing places, but...</td>\n",
       "      <td>Cameroon</td>\n",
       "      <td>Africa</td>\n",
       "    </tr>\n",
       "    <tr>\n",
       "      <th>4</th>\n",
       "      <td>Botanical Gardens</td>\n",
       "      <td>Limbe's Botanical Gardens, the second oldest i...</td>\n",
       "      <td>Cameroon</td>\n",
       "      <td>Africa</td>\n",
       "    </tr>\n",
       "  </tbody>\n",
       "</table>\n",
       "</div>"
      ],
      "text/plain": [
       "              Attraction                                        Description  \\\n",
       "0           Palais Royal  The must-see attraction is the sultan's palace...   \n",
       "1              Chefferie  Approached via a ceremonial gate, the compound...   \n",
       "2           Fon's Palace  Just north of Bamenda is the large Tikar commu...   \n",
       "3  Limbe Wildlife Centre  Many zoos in Africa are depressing places, but...   \n",
       "4      Botanical Gardens  Limbe's Botanical Gardens, the second oldest i...   \n",
       "\n",
       "    Country Continent  \n",
       "0  Cameroon    Africa  \n",
       "1  Cameroon    Africa  \n",
       "2  Cameroon    Africa  \n",
       "3  Cameroon    Africa  \n",
       "4  Cameroon    Africa  "
      ]
     },
     "execution_count": 859,
     "metadata": {},
     "output_type": "execute_result"
    }
   ],
   "source": [
    "countries_list = [cameroon_df, lithuania_df, fiji_df, laos_df, kazakhstan_df, paraguay_df, trin_n_tob_df, vanuatu_df, slovakia_df, armenia_df,\n",
    "                  sc_df, terai_df, launceston_df, bavaria_df, england_df, jordan_df, toulouse_df, india_df, thailand_df, genoa_df, osaka_df ]\n",
    "countries_df = pd.concat(countries_list)\n",
    "countries_df.head()\n"
   ]
  },
  {
   "cell_type": "code",
   "execution_count": 860,
   "metadata": {},
   "outputs": [
    {
     "data": {
      "text/plain": [
       "array(['Cameroon', 'Lithuania', 'Fiji', 'Laos', 'Kazakhstan', 'Paraguay',\n",
       "       'Trinidad & Tobago', 'Vanuatu', 'Slovakia', 'Armenia', 'U.S.',\n",
       "       'Nepal', 'Launceston', 'Germany', 'England', 'Jordan', 'France',\n",
       "       'India', 'Thailand', 'Italy', 'Japan'], dtype=object)"
      ]
     },
     "execution_count": 860,
     "metadata": {},
     "output_type": "execute_result"
    }
   ],
   "source": [
    "# See all 21 countries in the DF\n",
    "countries_df['Country'].unique()"
   ]
  },
  {
   "cell_type": "code",
   "execution_count": 861,
   "metadata": {},
   "outputs": [
    {
     "data": {
      "text/plain": [
       "array(['Africa', 'Europe', 'Asia', 'South America', 'Oceania',\n",
       "       'North America', 'Australia'], dtype=object)"
      ]
     },
     "execution_count": 861,
     "metadata": {},
     "output_type": "execute_result"
    }
   ],
   "source": [
    "# See all continents in the DF\n",
    "countries_df['Continent'].unique()"
   ]
  },
  {
   "cell_type": "code",
   "execution_count": 862,
   "metadata": {},
   "outputs": [
    {
     "name": "stdout",
     "output_type": "stream",
     "text": [
      "<class 'pandas.core.frame.DataFrame'>\n",
      "Int64Index: 2600 entries, 0 to 39\n",
      "Data columns (total 4 columns):\n",
      " #   Column       Non-Null Count  Dtype \n",
      "---  ------       --------------  ----- \n",
      " 0   Attraction   2600 non-null   object\n",
      " 1   Description  2600 non-null   object\n",
      " 2   Country      2600 non-null   object\n",
      " 3   Continent    2600 non-null   object\n",
      "dtypes: object(4)\n",
      "memory usage: 101.6+ KB\n"
     ]
    }
   ],
   "source": [
    "countries_df.info()"
   ]
  },
  {
   "cell_type": "code",
   "execution_count": 863,
   "metadata": {},
   "outputs": [],
   "source": [
    "# Save to CSV\n",
    "countries_df.to_csv('/Users/rosew/Desktop/Moringa/phase_5/individual_attractions/best_travel_destinations_for_2025_df.csv')"
   ]
  },
  {
   "cell_type": "markdown",
   "metadata": {},
   "source": [
    "## Analysis to be continued in [EDA and Modeling Notebooks]()"
   ]
  }
 ],
 "metadata": {
  "kernelspec": {
   "display_name": "learn-env",
   "language": "python",
   "name": "python3"
  },
  "language_info": {
   "codemirror_mode": {
    "name": "ipython",
    "version": 3
   },
   "file_extension": ".py",
   "mimetype": "text/x-python",
   "name": "python",
   "nbconvert_exporter": "python",
   "pygments_lexer": "ipython3",
   "version": "3.8.12"
  },
  "toc": {
   "base_numbering": 1,
   "nav_menu": {},
   "number_sections": true,
   "sideBar": true,
   "skip_h1_title": false,
   "title_cell": "Table of Contents",
   "title_sidebar": "Contents",
   "toc_cell": true,
   "toc_position": {},
   "toc_section_display": true,
   "toc_window_display": false
  }
 },
 "nbformat": 4,
 "nbformat_minor": 4
}
