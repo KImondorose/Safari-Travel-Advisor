{
 "cells": [
  {
   "cell_type": "markdown",
   "metadata": {},
   "source": [
    "# INTRODUCTION, PROBLEM STATEMENT, and BUSINESS UNDERSTANDING"
   ]
  },
  {
   "cell_type": "code",
   "execution_count": 3,
   "metadata": {},
   "outputs": [],
   "source": [
    "# import necessary libraries\n",
    "import pandas as pd\n",
    "import numpy as np\n",
    "\n",
    "import requests\n",
    "from bs4 import BeautifulSoup\n",
    "\n",
    "\n",
    "import matplotlib.pyplot as plt\n",
    "import seaborn as sns\n",
    "import plotly.express as px\n",
    "\n",
    "import string\n",
    "import regex as re\n",
    "\n",
    "\n",
    "from nltk.corpus import stopwords\n",
    "# nltk.download('stopwords')\n",
    "# nltk.download('punkt')\n",
    "from nltk import word_tokenize\n",
    "from nltk import FreqDist\n",
    "\n",
    "import warnings\n",
    "warnings.filterwarnings('ignore')\n",
    "\n",
    "from sklearn.feature_extraction.text import CountVectorizer, TfidfVectorizer\n",
    "from sklearn.model_selection import train_test_split, GridSearchCV\n",
    "from sklearn.naive_bayes import MultinomialNB, GaussianNB\n",
    "from sklearn.ensemble import RandomForestClassifier\n",
    "from sklearn.metrics import recall_score, accuracy_score, f1_score, confusion_matrix, classification_report\n",
    "from sklearn.utils import class_weight\n",
    "from sklearn.pipeline import Pipeline\n",
    "from sklearn.base import TransformerMixin\n",
    "from sklearn import set_config\n",
    "\n",
    "from PIL import Image\n",
    "from wordcloud import WordCloud\n",
    "from textwrap import wrap\n",
    "\n",
    "import joblib"
   ]
  },
  {
   "cell_type": "code",
   "execution_count": 13,
   "metadata": {},
   "outputs": [
    {
     "data": {
      "text/html": [
       "<div>\n",
       "<style scoped>\n",
       "    .dataframe tbody tr th:only-of-type {\n",
       "        vertical-align: middle;\n",
       "    }\n",
       "\n",
       "    .dataframe tbody tr th {\n",
       "        vertical-align: top;\n",
       "    }\n",
       "\n",
       "    .dataframe thead th {\n",
       "        text-align: right;\n",
       "    }\n",
       "</style>\n",
       "<table border=\"1\" class=\"dataframe\">\n",
       "  <thead>\n",
       "    <tr style=\"text-align: right;\">\n",
       "      <th></th>\n",
       "      <th>Attraction</th>\n",
       "      <th>Description</th>\n",
       "      <th>Country</th>\n",
       "      <th>Continent</th>\n",
       "    </tr>\n",
       "  </thead>\n",
       "  <tbody>\n",
       "    <tr>\n",
       "      <th>0</th>\n",
       "      <td>Amboseli National Park</td>\n",
       "      <td>Amboseli belongs in the elite of Kenyaâs nat...</td>\n",
       "      <td>Kenya</td>\n",
       "      <td>Africa</td>\n",
       "    </tr>\n",
       "    <tr>\n",
       "      <th>1</th>\n",
       "      <td>Fort Jesus</td>\n",
       "      <td>This 16th-century fort and Unesco World Herita...</td>\n",
       "      <td>Kenya</td>\n",
       "      <td>Africa</td>\n",
       "    </tr>\n",
       "    <tr>\n",
       "      <th>2</th>\n",
       "      <td>David Sheldrick Wildlife Trust</td>\n",
       "      <td>Occupying a plot within Nairobi National Park,...</td>\n",
       "      <td>Kenya</td>\n",
       "      <td>Africa</td>\n",
       "    </tr>\n",
       "    <tr>\n",
       "      <th>3</th>\n",
       "      <td>Nairobi National Park</td>\n",
       "      <td>Welcome to Kenyaâs most accessible yet incon...</td>\n",
       "      <td>Kenya</td>\n",
       "      <td>Africa</td>\n",
       "    </tr>\n",
       "    <tr>\n",
       "      <th>4</th>\n",
       "      <td>National Museum</td>\n",
       "      <td>Kenyaâs wonderful National Museum, housed in...</td>\n",
       "      <td>Kenya</td>\n",
       "      <td>Africa</td>\n",
       "    </tr>\n",
       "    <tr>\n",
       "      <th>...</th>\n",
       "      <td>...</td>\n",
       "      <td>...</td>\n",
       "      <td>...</td>\n",
       "      <td>...</td>\n",
       "    </tr>\n",
       "    <tr>\n",
       "      <th>18035</th>\n",
       "      <td>Byzantine Basilica</td>\n",
       "      <td>Near the Citadel's archaeological museum is th...</td>\n",
       "      <td>Jordan</td>\n",
       "      <td>Middle East</td>\n",
       "    </tr>\n",
       "    <tr>\n",
       "      <th>18036</th>\n",
       "      <td>Sharif Al Hussein Bin Ali Mosque</td>\n",
       "      <td>This grand and beautiful gleaming white mosque...</td>\n",
       "      <td>Jordan</td>\n",
       "      <td>Middle East</td>\n",
       "    </tr>\n",
       "    <tr>\n",
       "      <th>18037</th>\n",
       "      <td>North Theatre</td>\n",
       "      <td>The North Theatre is overgrown and missing muc...</td>\n",
       "      <td>Jordan</td>\n",
       "      <td>Middle East</td>\n",
       "    </tr>\n",
       "    <tr>\n",
       "      <th>18038</th>\n",
       "      <td>Shops</td>\n",
       "      <td>The shells of a row of shops remain in the wes...</td>\n",
       "      <td>Jordan</td>\n",
       "      <td>Middle East</td>\n",
       "    </tr>\n",
       "    <tr>\n",
       "      <th>18039</th>\n",
       "      <td>Rakhabat Canyon</td>\n",
       "      <td>Close to Rum village, the labyrinthine siqs of...</td>\n",
       "      <td>Jordan</td>\n",
       "      <td>Middle East</td>\n",
       "    </tr>\n",
       "  </tbody>\n",
       "</table>\n",
       "<p>18040 rows × 4 columns</p>\n",
       "</div>"
      ],
      "text/plain": [
       "                             Attraction  \\\n",
       "0                Amboseli National Park   \n",
       "1                            Fort Jesus   \n",
       "2        David Sheldrick Wildlife Trust   \n",
       "3                 Nairobi National Park   \n",
       "4                       National Museum   \n",
       "...                                 ...   \n",
       "18035                Byzantine Basilica   \n",
       "18036  Sharif Al Hussein Bin Ali Mosque   \n",
       "18037                     North Theatre   \n",
       "18038                             Shops   \n",
       "18039                   Rakhabat Canyon   \n",
       "\n",
       "                                             Description Country    Continent  \n",
       "0      Amboseli belongs in the elite of Kenyaâs nat...   Kenya       Africa  \n",
       "1      This 16th-century fort and Unesco World Herita...   Kenya       Africa  \n",
       "2      Occupying a plot within Nairobi National Park,...   Kenya       Africa  \n",
       "3      Welcome to Kenyaâs most accessible yet incon...   Kenya       Africa  \n",
       "4      Kenyaâs wonderful National Museum, housed in...   Kenya       Africa  \n",
       "...                                                  ...     ...          ...  \n",
       "18035  Near the Citadel's archaeological museum is th...  Jordan  Middle East  \n",
       "18036  This grand and beautiful gleaming white mosque...  Jordan  Middle East  \n",
       "18037  The North Theatre is overgrown and missing muc...  Jordan  Middle East  \n",
       "18038  The shells of a row of shops remain in the wes...  Jordan  Middle East  \n",
       "18039  Close to Rum village, the labyrinthine siqs of...  Jordan  Middle East  \n",
       "\n",
       "[18040 rows x 4 columns]"
      ]
     },
     "execution_count": 13,
     "metadata": {},
     "output_type": "execute_result"
    }
   ],
   "source": [
    "df = pd.read_csv(r'..\\\\data\\\\best_travel_destinations_for_2025.csv', encoding='latin1')\n",
    "df"
   ]
  },
  {
   "cell_type": "markdown",
   "metadata": {},
   "source": [
    "### Data exploration & cleaning"
   ]
  },
  {
   "cell_type": "code",
   "execution_count": 14,
   "metadata": {},
   "outputs": [
    {
     "name": "stdout",
     "output_type": "stream",
     "text": [
      "<class 'pandas.core.frame.DataFrame'>\n",
      "RangeIndex: 18040 entries, 0 to 18039\n",
      "Data columns (total 4 columns):\n",
      " #   Column       Non-Null Count  Dtype \n",
      "---  ------       --------------  ----- \n",
      " 0   Attraction   18040 non-null  object\n",
      " 1   Description  18040 non-null  object\n",
      " 2   Country      18040 non-null  object\n",
      " 3   Continent    18040 non-null  object\n",
      "dtypes: object(4)\n",
      "memory usage: 563.9+ KB\n"
     ]
    }
   ],
   "source": [
    "df. info()"
   ]
  },
  {
   "cell_type": "code",
   "execution_count": 15,
   "metadata": {},
   "outputs": [
    {
     "data": {
      "text/html": [
       "<div>\n",
       "<style scoped>\n",
       "    .dataframe tbody tr th:only-of-type {\n",
       "        vertical-align: middle;\n",
       "    }\n",
       "\n",
       "    .dataframe tbody tr th {\n",
       "        vertical-align: top;\n",
       "    }\n",
       "\n",
       "    .dataframe thead th {\n",
       "        text-align: right;\n",
       "    }\n",
       "</style>\n",
       "<table border=\"1\" class=\"dataframe\">\n",
       "  <thead>\n",
       "    <tr style=\"text-align: right;\">\n",
       "      <th></th>\n",
       "      <th>Attraction</th>\n",
       "      <th>Description</th>\n",
       "      <th>Country</th>\n",
       "      <th>Continent</th>\n",
       "    </tr>\n",
       "  </thead>\n",
       "  <tbody>\n",
       "    <tr>\n",
       "      <th>count</th>\n",
       "      <td>18040</td>\n",
       "      <td>18040</td>\n",
       "      <td>18040</td>\n",
       "      <td>18040</td>\n",
       "    </tr>\n",
       "    <tr>\n",
       "      <th>unique</th>\n",
       "      <td>17185</td>\n",
       "      <td>18024</td>\n",
       "      <td>25</td>\n",
       "      <td>7</td>\n",
       "    </tr>\n",
       "    <tr>\n",
       "      <th>top</th>\n",
       "      <td>Cathedral</td>\n",
       "      <td>Buddhist ruins in Si Satchanalai-Chaliang Hist...</td>\n",
       "      <td>China</td>\n",
       "      <td>Asia</td>\n",
       "    </tr>\n",
       "    <tr>\n",
       "      <th>freq</th>\n",
       "      <td>19</td>\n",
       "      <td>4</td>\n",
       "      <td>1200</td>\n",
       "      <td>4480</td>\n",
       "    </tr>\n",
       "  </tbody>\n",
       "</table>\n",
       "</div>"
      ],
      "text/plain": [
       "       Attraction                                        Description Country  \\\n",
       "count       18040                                              18040   18040   \n",
       "unique      17185                                              18024      25   \n",
       "top     Cathedral  Buddhist ruins in Si Satchanalai-Chaliang Hist...   China   \n",
       "freq           19                                                  4    1200   \n",
       "\n",
       "       Continent  \n",
       "count      18040  \n",
       "unique         7  \n",
       "top         Asia  \n",
       "freq        4480  "
      ]
     },
     "execution_count": 15,
     "metadata": {},
     "output_type": "execute_result"
    }
   ],
   "source": [
    "df.describe()"
   ]
  },
  {
   "cell_type": "code",
   "execution_count": 16,
   "metadata": {},
   "outputs": [
    {
     "data": {
      "text/plain": [
       "(18040, 4)"
      ]
     },
     "execution_count": 16,
     "metadata": {},
     "output_type": "execute_result"
    }
   ],
   "source": [
    "df. shape"
   ]
  },
  {
   "cell_type": "code",
   "execution_count": 8,
   "metadata": {},
   "outputs": [
    {
     "data": {
      "text/plain": [
       "Attraction     0\n",
       "Description    0\n",
       "Country        0\n",
       "Continent      0\n",
       "dtype: int64"
      ]
     },
     "execution_count": 8,
     "metadata": {},
     "output_type": "execute_result"
    }
   ],
   "source": [
    "# check for null values\n",
    "# No null values because we scraped the data ourselves\n",
    "df.isna().sum()"
   ]
  },
  {
   "cell_type": "markdown",
   "metadata": {},
   "source": [
    "### Handle duplicates"
   ]
  },
  {
   "cell_type": "code",
   "execution_count": 17,
   "metadata": {},
   "outputs": [
    {
     "name": "stdout",
     "output_type": "stream",
     "text": [
      "9\n"
     ]
    }
   ],
   "source": [
    "# Check for duplicate rows\n",
    "print(df.duplicated().sum())"
   ]
  },
  {
   "cell_type": "code",
   "execution_count": 18,
   "metadata": {},
   "outputs": [
    {
     "name": "stdout",
     "output_type": "stream",
     "text": [
      "                                   Attraction  \\\n",
      "3439                              Yuexiu Park   \n",
      "3440                              Yuexiu Park   \n",
      "3479   Palace of Moon & Water Kwun Yum Temple   \n",
      "3480   Palace of Moon & Water Kwun Yum Temple   \n",
      "3639                       Rakadrak Hermitage   \n",
      "3640                       Rakadrak Hermitage   \n",
      "3679                          Huilan Pavilion   \n",
      "3680                          Huilan Pavilion   \n",
      "4999                         Pithoragarh Fort   \n",
      "5000                         Pithoragarh Fort   \n",
      "5157                    Himadri Hans Handloom   \n",
      "5160                    Himadri Hans Handloom   \n",
      "11559                             Kids Market   \n",
      "11560                             Kids Market   \n",
      "11637        Africville Heritage Trust Museum   \n",
      "11641        Africville Heritage Trust Museum   \n",
      "14359                       Cementerios 1 & 2   \n",
      "14360                       Cementerios 1 & 2   \n",
      "\n",
      "                                             Description Country  \\\n",
      "3439   A crenellated roadway between attractions in t...   China   \n",
      "3440   A crenellated roadway between attractions in t...   China   \n",
      "3479   Not to be confused with Kwun Yum Temple nearby...   China   \n",
      "3480   Not to be confused with Kwun Yum Temple nearby...   China   \n",
      "3639   This hermitage high above Lhasa has three simp...   China   \n",
      "3640   This hermitage high above Lhasa has three simp...   China   \n",
      "3679   Lit up at night, this graceful pavilion decora...   China   \n",
      "3680   Lit up at night, this graceful pavilion decora...   China   \n",
      "4999   This renovated historic fort was built by Gurk...   India   \n",
      "5000   This renovated historic fort was built by Gurk...   India   \n",
      "5157   Just north of town on the road to Binsar is th...   India   \n",
      "5160   Just north of town on the road to Binsar is th...   India   \n",
      "11559  A kaleidoscopic mini shopping mall for under-1...  Canada   \n",
      "11560  A kaleidoscopic mini shopping mall for under-1...  Canada   \n",
      "11637  Learn the story of Africville, Halifax's predo...  Canada   \n",
      "11641  Learn the story of Africville, Halifax's predo...  Canada   \n",
      "14359  The city's most illustrious, influential and i...   Chile   \n",
      "14360  The city's most illustrious, influential and i...   Chile   \n",
      "\n",
      "           Continent  \n",
      "3439            Asia  \n",
      "3440            Asia  \n",
      "3479            Asia  \n",
      "3480            Asia  \n",
      "3639            Asia  \n",
      "3640            Asia  \n",
      "3679            Asia  \n",
      "3680            Asia  \n",
      "4999            Asia  \n",
      "5000            Asia  \n",
      "5157            Asia  \n",
      "5160            Asia  \n",
      "11559  North America  \n",
      "11560  North America  \n",
      "11637  North America  \n",
      "11641  North America  \n",
      "14359  South America  \n",
      "14360  South America  \n"
     ]
    }
   ],
   "source": [
    "all_duplicates = df[df.duplicated(keep=False)]\n",
    "print(all_duplicates)"
   ]
  },
  {
   "cell_type": "code",
   "execution_count": 19,
   "metadata": {},
   "outputs": [],
   "source": [
    "# Remove duplicates\n",
    "df = df.drop_duplicates()"
   ]
  },
  {
   "cell_type": "code",
   "execution_count": 20,
   "metadata": {},
   "outputs": [
    {
     "name": "stdout",
     "output_type": "stream",
     "text": [
      "0\n"
     ]
    }
   ],
   "source": [
    "# Verify that duplicates are removed\n",
    "print(df.duplicated().sum())"
   ]
  },
  {
   "cell_type": "markdown",
   "metadata": {},
   "source": [
    "### Class imbalance"
   ]
  },
  {
   "cell_type": "code",
   "execution_count": 23,
   "metadata": {},
   "outputs": [
    {
     "data": {
      "text/plain": [
       "array(['Kenya', 'South Africa', 'Egypt', 'Morocco', 'Japan', 'China',\n",
       "       'India', 'Thailand', 'France', 'Italy', 'Germany', 'United States',\n",
       "       'Canada', 'Mexico', 'Brazil', 'Argentina', 'Chile', 'Peru',\n",
       "       'Australia', 'New Zealand', 'Fiji', 'United Arab Emirates',\n",
       "       'Turkey', 'Israel', 'Jordan'], dtype=object)"
      ]
     },
     "metadata": {},
     "output_type": "display_data"
    },
    {
     "name": "stdout",
     "output_type": "stream",
     "text": [
      "Total Unique Countries: 25\n"
     ]
    }
   ],
   "source": [
    "display(df.Country.unique())\n",
    "print('Total Unique Countries:', len(df.Country.unique()))"
   ]
  },
  {
   "cell_type": "code",
   "execution_count": 25,
   "metadata": {},
   "outputs": [
    {
     "data": {
      "text/plain": [
       "Japan                   0.066552\n",
       "United States           0.066552\n",
       "France                  0.066552\n",
       "Italy                   0.066552\n",
       "Germany                 0.066552\n",
       "Australia               0.066552\n",
       "India                   0.066441\n",
       "Canada                  0.066441\n",
       "China                   0.066330\n",
       "Mexico                  0.059897\n",
       "Turkey                  0.057678\n",
       "Thailand                0.048805\n",
       "South Africa            0.035494\n",
       "Brazil                  0.033276\n",
       "Egypt                   0.028839\n",
       "New Zealand             0.022184\n",
       "Morocco                 0.019966\n",
       "Argentina               0.019966\n",
       "Peru                    0.019966\n",
       "Chile                   0.017692\n",
       "Jordan                  0.008874\n",
       "Kenya                   0.008874\n",
       "Israel                  0.008874\n",
       "United Arab Emirates    0.006655\n",
       "Fiji                    0.004437\n",
       "Name: Country, dtype: float64"
      ]
     },
     "execution_count": 25,
     "metadata": {},
     "output_type": "execute_result"
    }
   ],
   "source": [
    "df.Country.value_counts(normalize=True)"
   ]
  },
  {
   "cell_type": "code",
   "execution_count": 26,
   "metadata": {},
   "outputs": [],
   "source": [
    "countries = df.groupby('Country').count()"
   ]
  },
  {
   "cell_type": "code",
   "execution_count": 27,
   "metadata": {},
   "outputs": [],
   "source": [
    "countries.reset_index(inplace=True)"
   ]
  },
  {
   "cell_type": "code",
   "execution_count": 28,
   "metadata": {},
   "outputs": [
    {
     "data": {
      "text/html": [
       "<div>\n",
       "<style scoped>\n",
       "    .dataframe tbody tr th:only-of-type {\n",
       "        vertical-align: middle;\n",
       "    }\n",
       "\n",
       "    .dataframe tbody tr th {\n",
       "        vertical-align: top;\n",
       "    }\n",
       "\n",
       "    .dataframe thead th {\n",
       "        text-align: right;\n",
       "    }\n",
       "</style>\n",
       "<table border=\"1\" class=\"dataframe\">\n",
       "  <thead>\n",
       "    <tr style=\"text-align: right;\">\n",
       "      <th></th>\n",
       "      <th>Country</th>\n",
       "      <th>Attraction</th>\n",
       "      <th>Description</th>\n",
       "      <th>Continent</th>\n",
       "    </tr>\n",
       "  </thead>\n",
       "  <tbody>\n",
       "    <tr>\n",
       "      <th>12</th>\n",
       "      <td>Italy</td>\n",
       "      <td>1200</td>\n",
       "      <td>1200</td>\n",
       "      <td>1200</td>\n",
       "    </tr>\n",
       "    <tr>\n",
       "      <th>8</th>\n",
       "      <td>France</td>\n",
       "      <td>1200</td>\n",
       "      <td>1200</td>\n",
       "      <td>1200</td>\n",
       "    </tr>\n",
       "    <tr>\n",
       "      <th>13</th>\n",
       "      <td>Japan</td>\n",
       "      <td>1200</td>\n",
       "      <td>1200</td>\n",
       "      <td>1200</td>\n",
       "    </tr>\n",
       "    <tr>\n",
       "      <th>1</th>\n",
       "      <td>Australia</td>\n",
       "      <td>1200</td>\n",
       "      <td>1200</td>\n",
       "      <td>1200</td>\n",
       "    </tr>\n",
       "    <tr>\n",
       "      <th>9</th>\n",
       "      <td>Germany</td>\n",
       "      <td>1200</td>\n",
       "      <td>1200</td>\n",
       "      <td>1200</td>\n",
       "    </tr>\n",
       "    <tr>\n",
       "      <th>24</th>\n",
       "      <td>United States</td>\n",
       "      <td>1200</td>\n",
       "      <td>1200</td>\n",
       "      <td>1200</td>\n",
       "    </tr>\n",
       "    <tr>\n",
       "      <th>10</th>\n",
       "      <td>India</td>\n",
       "      <td>1198</td>\n",
       "      <td>1198</td>\n",
       "      <td>1198</td>\n",
       "    </tr>\n",
       "    <tr>\n",
       "      <th>3</th>\n",
       "      <td>Canada</td>\n",
       "      <td>1198</td>\n",
       "      <td>1198</td>\n",
       "      <td>1198</td>\n",
       "    </tr>\n",
       "    <tr>\n",
       "      <th>5</th>\n",
       "      <td>China</td>\n",
       "      <td>1196</td>\n",
       "      <td>1196</td>\n",
       "      <td>1196</td>\n",
       "    </tr>\n",
       "    <tr>\n",
       "      <th>16</th>\n",
       "      <td>Mexico</td>\n",
       "      <td>1080</td>\n",
       "      <td>1080</td>\n",
       "      <td>1080</td>\n",
       "    </tr>\n",
       "    <tr>\n",
       "      <th>22</th>\n",
       "      <td>Turkey</td>\n",
       "      <td>1040</td>\n",
       "      <td>1040</td>\n",
       "      <td>1040</td>\n",
       "    </tr>\n",
       "    <tr>\n",
       "      <th>21</th>\n",
       "      <td>Thailand</td>\n",
       "      <td>880</td>\n",
       "      <td>880</td>\n",
       "      <td>880</td>\n",
       "    </tr>\n",
       "    <tr>\n",
       "      <th>20</th>\n",
       "      <td>South Africa</td>\n",
       "      <td>640</td>\n",
       "      <td>640</td>\n",
       "      <td>640</td>\n",
       "    </tr>\n",
       "    <tr>\n",
       "      <th>2</th>\n",
       "      <td>Brazil</td>\n",
       "      <td>600</td>\n",
       "      <td>600</td>\n",
       "      <td>600</td>\n",
       "    </tr>\n",
       "    <tr>\n",
       "      <th>6</th>\n",
       "      <td>Egypt</td>\n",
       "      <td>520</td>\n",
       "      <td>520</td>\n",
       "      <td>520</td>\n",
       "    </tr>\n",
       "    <tr>\n",
       "      <th>18</th>\n",
       "      <td>New Zealand</td>\n",
       "      <td>400</td>\n",
       "      <td>400</td>\n",
       "      <td>400</td>\n",
       "    </tr>\n",
       "    <tr>\n",
       "      <th>19</th>\n",
       "      <td>Peru</td>\n",
       "      <td>360</td>\n",
       "      <td>360</td>\n",
       "      <td>360</td>\n",
       "    </tr>\n",
       "    <tr>\n",
       "      <th>0</th>\n",
       "      <td>Argentina</td>\n",
       "      <td>360</td>\n",
       "      <td>360</td>\n",
       "      <td>360</td>\n",
       "    </tr>\n",
       "    <tr>\n",
       "      <th>17</th>\n",
       "      <td>Morocco</td>\n",
       "      <td>360</td>\n",
       "      <td>360</td>\n",
       "      <td>360</td>\n",
       "    </tr>\n",
       "    <tr>\n",
       "      <th>4</th>\n",
       "      <td>Chile</td>\n",
       "      <td>319</td>\n",
       "      <td>319</td>\n",
       "      <td>319</td>\n",
       "    </tr>\n",
       "    <tr>\n",
       "      <th>14</th>\n",
       "      <td>Jordan</td>\n",
       "      <td>160</td>\n",
       "      <td>160</td>\n",
       "      <td>160</td>\n",
       "    </tr>\n",
       "    <tr>\n",
       "      <th>11</th>\n",
       "      <td>Israel</td>\n",
       "      <td>160</td>\n",
       "      <td>160</td>\n",
       "      <td>160</td>\n",
       "    </tr>\n",
       "    <tr>\n",
       "      <th>15</th>\n",
       "      <td>Kenya</td>\n",
       "      <td>160</td>\n",
       "      <td>160</td>\n",
       "      <td>160</td>\n",
       "    </tr>\n",
       "    <tr>\n",
       "      <th>23</th>\n",
       "      <td>United Arab Emirates</td>\n",
       "      <td>120</td>\n",
       "      <td>120</td>\n",
       "      <td>120</td>\n",
       "    </tr>\n",
       "    <tr>\n",
       "      <th>7</th>\n",
       "      <td>Fiji</td>\n",
       "      <td>80</td>\n",
       "      <td>80</td>\n",
       "      <td>80</td>\n",
       "    </tr>\n",
       "  </tbody>\n",
       "</table>\n",
       "</div>"
      ],
      "text/plain": [
       "                 Country  Attraction  Description  Continent\n",
       "12                 Italy        1200         1200       1200\n",
       "8                 France        1200         1200       1200\n",
       "13                 Japan        1200         1200       1200\n",
       "1              Australia        1200         1200       1200\n",
       "9                Germany        1200         1200       1200\n",
       "24         United States        1200         1200       1200\n",
       "10                 India        1198         1198       1198\n",
       "3                 Canada        1198         1198       1198\n",
       "5                  China        1196         1196       1196\n",
       "16                Mexico        1080         1080       1080\n",
       "22                Turkey        1040         1040       1040\n",
       "21              Thailand         880          880        880\n",
       "20          South Africa         640          640        640\n",
       "2                 Brazil         600          600        600\n",
       "6                  Egypt         520          520        520\n",
       "18           New Zealand         400          400        400\n",
       "19                  Peru         360          360        360\n",
       "0              Argentina         360          360        360\n",
       "17               Morocco         360          360        360\n",
       "4                  Chile         319          319        319\n",
       "14                Jordan         160          160        160\n",
       "11                Israel         160          160        160\n",
       "15                 Kenya         160          160        160\n",
       "23  United Arab Emirates         120          120        120\n",
       "7                   Fiji          80           80         80"
      ]
     },
     "execution_count": 28,
     "metadata": {},
     "output_type": "execute_result"
    }
   ],
   "source": [
    "sorted_countries = countries.sort_values(by='Attraction', ascending=False)\n",
    "sorted_countries"
   ]
  },
  {
   "cell_type": "code",
   "execution_count": 30,
   "metadata": {},
   "outputs": [
    {
     "data": {
      "image/png": "[encoded data removed]",
      "text/plain": [
       "<Figure size 720x576 with 1 Axes>"
      ]
     },
     "metadata": {
      "needs_background": "light"
     },
     "output_type": "display_data"
    }
   ],
   "source": [
    "# Plot the class imbalance\n",
    "plt.figure(figsize=(10,8))\n",
    "sns.barplot(x='Attraction', y='Country', data=sorted_countries, palette='icefire')\n",
    "plt.title('Attractions Per Country')\n",
    "plt.xticks(rotation=90)\n",
    "plt.show()"
   ]
  }
 ],
 "metadata": {
  "kernelspec": {
   "display_name": "learn-env",
   "language": "python",
   "name": "python3"
  },
  "language_info": {
   "codemirror_mode": {
    "name": "ipython",
    "version": 3
   },
   "file_extension": ".py",
   "mimetype": "text/x-python",
   "name": "python",
   "nbconvert_exporter": "python",
   "pygments_lexer": "ipython3",
   "version": "3.8.5"
  }
 },
 "nbformat": 4,
 "nbformat_minor": 2
}
