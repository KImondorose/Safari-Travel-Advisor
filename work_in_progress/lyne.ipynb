{
 "cells": [
  {
   "cell_type": "markdown",
   "metadata": {},
   "source": [
    "Data Cleaning"
   ]
  },
  {
   "cell_type": "code",
   "execution_count": 2,
   "metadata": {},
   "outputs": [],
   "source": [
    "import pandas as pd"
   ]
  },
  {
   "cell_type": "code",
   "execution_count": 6,
   "metadata": {},
   "outputs": [
    {
     "data": {
      "text/html": [
       "<div>\n",
       "<style scoped>\n",
       "    .dataframe tbody tr th:only-of-type {\n",
       "        vertical-align: middle;\n",
       "    }\n",
       "\n",
       "    .dataframe tbody tr th {\n",
       "        vertical-align: top;\n",
       "    }\n",
       "\n",
       "    .dataframe thead th {\n",
       "        text-align: right;\n",
       "    }\n",
       "</style>\n",
       "<table border=\"1\" class=\"dataframe\">\n",
       "  <thead>\n",
       "    <tr style=\"text-align: right;\">\n",
       "      <th></th>\n",
       "      <th>Unnamed: 0</th>\n",
       "      <th>Attraction</th>\n",
       "      <th>Description</th>\n",
       "      <th>Country</th>\n",
       "      <th>Continent</th>\n",
       "    </tr>\n",
       "  </thead>\n",
       "  <tbody>\n",
       "    <tr>\n",
       "      <th>0</th>\n",
       "      <td>0</td>\n",
       "      <td>Palais Royal</td>\n",
       "      <td>The must-see attraction is the sultan's palace...</td>\n",
       "      <td>Cameroon</td>\n",
       "      <td>Africa</td>\n",
       "    </tr>\n",
       "    <tr>\n",
       "      <th>1</th>\n",
       "      <td>1</td>\n",
       "      <td>Chefferie</td>\n",
       "      <td>Approached via a ceremonial gate, the compound...</td>\n",
       "      <td>Cameroon</td>\n",
       "      <td>Africa</td>\n",
       "    </tr>\n",
       "    <tr>\n",
       "      <th>2</th>\n",
       "      <td>2</td>\n",
       "      <td>Fon's Palace</td>\n",
       "      <td>Just north of Bamenda is the large Tikar commu...</td>\n",
       "      <td>Cameroon</td>\n",
       "      <td>Africa</td>\n",
       "    </tr>\n",
       "    <tr>\n",
       "      <th>3</th>\n",
       "      <td>3</td>\n",
       "      <td>Limbe Wildlife Centre</td>\n",
       "      <td>Many zoos in Africa are depressing places, but...</td>\n",
       "      <td>Cameroon</td>\n",
       "      <td>Africa</td>\n",
       "    </tr>\n",
       "    <tr>\n",
       "      <th>4</th>\n",
       "      <td>4</td>\n",
       "      <td>Botanical Gardens</td>\n",
       "      <td>Limbe's Botanical Gardens, the second oldest i...</td>\n",
       "      <td>Cameroon</td>\n",
       "      <td>Africa</td>\n",
       "    </tr>\n",
       "  </tbody>\n",
       "</table>\n",
       "</div>"
      ],
      "text/plain": [
       "   Unnamed: 0             Attraction  \\\n",
       "0           0           Palais Royal   \n",
       "1           1              Chefferie   \n",
       "2           2           Fon's Palace   \n",
       "3           3  Limbe Wildlife Centre   \n",
       "4           4      Botanical Gardens   \n",
       "\n",
       "                                         Description   Country Continent  \n",
       "0  The must-see attraction is the sultan's palace...  Cameroon    Africa  \n",
       "1  Approached via a ceremonial gate, the compound...  Cameroon    Africa  \n",
       "2  Just north of Bamenda is the large Tikar commu...  Cameroon    Africa  \n",
       "3  Many zoos in Africa are depressing places, but...  Cameroon    Africa  \n",
       "4  Limbe's Botanical Gardens, the second oldest i...  Cameroon    Africa  "
      ]
     },
     "execution_count": 6,
     "metadata": {},
     "output_type": "execute_result"
    }
   ],
   "source": [
    "df = pd.read_csv(r'..\\\\data\\\\best_travel_destinations_for_2025_df.csv', encoding='latin1')\n",
    "df.head()"
   ]
  },
  {
   "cell_type": "code",
   "execution_count": 7,
   "metadata": {},
   "outputs": [
    {
     "data": {
      "text/html": [
       "<div>\n",
       "<style scoped>\n",
       "    .dataframe tbody tr th:only-of-type {\n",
       "        vertical-align: middle;\n",
       "    }\n",
       "\n",
       "    .dataframe tbody tr th {\n",
       "        vertical-align: top;\n",
       "    }\n",
       "\n",
       "    .dataframe thead th {\n",
       "        text-align: right;\n",
       "    }\n",
       "</style>\n",
       "<table border=\"1\" class=\"dataframe\">\n",
       "  <thead>\n",
       "    <tr style=\"text-align: right;\">\n",
       "      <th></th>\n",
       "      <th>Unnamed: 0</th>\n",
       "      <th>Attraction</th>\n",
       "      <th>Description</th>\n",
       "      <th>Country</th>\n",
       "      <th>Continent</th>\n",
       "    </tr>\n",
       "  </thead>\n",
       "  <tbody>\n",
       "    <tr>\n",
       "      <th>2595</th>\n",
       "      <td>35</td>\n",
       "      <td>Naka-no-shima-kÅen</td>\n",
       "      <td>Osaka's first public park, created in 1891 at ...</td>\n",
       "      <td>Japan</td>\n",
       "      <td>Asia</td>\n",
       "    </tr>\n",
       "    <tr>\n",
       "      <th>2596</th>\n",
       "      <td>36</td>\n",
       "      <td>HÅzen-ji YokochÅ</td>\n",
       "      <td>An atmospheric alley dotted with traditional r...</td>\n",
       "      <td>Japan</td>\n",
       "      <td>Asia</td>\n",
       "    </tr>\n",
       "    <tr>\n",
       "      <th>2597</th>\n",
       "      <td>37</td>\n",
       "      <td>Karahori ShÅtengai</td>\n",
       "      <td>This classic shopping arcade wends along the p...</td>\n",
       "      <td>Japan</td>\n",
       "      <td>Asia</td>\n",
       "    </tr>\n",
       "    <tr>\n",
       "      <th>2598</th>\n",
       "      <td>38</td>\n",
       "      <td>Osaka Central Public Hall</td>\n",
       "      <td>Built in 1911, this dramatic, red-brick neo-Re...</td>\n",
       "      <td>Japan</td>\n",
       "      <td>Asia</td>\n",
       "    </tr>\n",
       "    <tr>\n",
       "      <th>2599</th>\n",
       "      <td>39</td>\n",
       "      <td>Osaka City Hall</td>\n",
       "      <td>A mid-1980s building incorporating some elemen...</td>\n",
       "      <td>Japan</td>\n",
       "      <td>Asia</td>\n",
       "    </tr>\n",
       "  </tbody>\n",
       "</table>\n",
       "</div>"
      ],
      "text/plain": [
       "      Unnamed: 0                 Attraction  \\\n",
       "2595          35        Naka-no-shima-kÅen   \n",
       "2596          36         HÅzen-ji YokochÅ   \n",
       "2597          37        Karahori ShÅtengai   \n",
       "2598          38  Osaka Central Public Hall   \n",
       "2599          39            Osaka City Hall   \n",
       "\n",
       "                                            Description Country Continent  \n",
       "2595  Osaka's first public park, created in 1891 at ...   Japan      Asia  \n",
       "2596  An atmospheric alley dotted with traditional r...   Japan      Asia  \n",
       "2597  This classic shopping arcade wends along the p...   Japan      Asia  \n",
       "2598  Built in 1911, this dramatic, red-brick neo-Re...   Japan      Asia  \n",
       "2599  A mid-1980s building incorporating some elemen...   Japan      Asia  "
      ]
     },
     "execution_count": 7,
     "metadata": {},
     "output_type": "execute_result"
    }
   ],
   "source": [
    "# Previewing the bottom of our dataset\n",
    "df.tail()"
   ]
  },
  {
   "cell_type": "code",
   "execution_count": 8,
   "metadata": {},
   "outputs": [
    {
     "data": {
      "text/plain": [
       "array(['Palais Royal', 'Chefferie', \"Fon's Palace\", ...,\n",
       "       'Karahori ShÅ\\x8dtengai', 'Osaka Central Public Hall',\n",
       "       'Osaka City Hall'], dtype=object)"
      ]
     },
     "execution_count": 8,
     "metadata": {},
     "output_type": "execute_result"
    }
   ],
   "source": [
    "\n",
    "df['Attraction'].unique()"
   ]
  },
  {
   "cell_type": "code",
   "execution_count": 9,
   "metadata": {},
   "outputs": [
    {
     "data": {
      "text/plain": [
       "array([\"The must-see attraction is the sultan's palace, home to the 19th sultan of the Bamoun dynasty. It has a fascinating, well-organised museum providing greatâ\\x80¦\",\n",
       "       'Approached via a ceremonial gate, the compound is centred on a hugely impressive bamboo building, its conical thatched roof supported by wooden pillarsâ\\x80¦',\n",
       "       \"Just north of Bamenda is the large Tikar community of Bafut, traditionally the most powerful of the Grassfields kingdoms. The fon's (local chief's) palaceâ\\x80¦\",\n",
       "       ...,\n",
       "       'This classic shopping arcade wends along the path of an old moat (from an earlier, larger incarnation of Osaka-jÅ\\x8d), long since filled in. The arcadeâ\\x80¦',\n",
       "       'Built in 1911, this dramatic, red-brick neo-Renaissance building is an important cultural property.',\n",
       "       'A mid-1980s building incorporating some elements from the 1921 City Hall.'],\n",
       "      dtype=object)"
      ]
     },
     "execution_count": 9,
     "metadata": {},
     "output_type": "execute_result"
    }
   ],
   "source": [
    "df['Description'].unique()"
   ]
  },
  {
   "cell_type": "markdown",
   "metadata": {},
   "source": [
    "Addressing Missing and Placeholder Values"
   ]
  },
  {
   "cell_type": "code",
   "execution_count": 10,
   "metadata": {},
   "outputs": [
    {
     "name": "stdout",
     "output_type": "stream",
     "text": [
      "<class 'pandas.core.frame.DataFrame'>\n",
      "RangeIndex: 2600 entries, 0 to 2599\n",
      "Data columns (total 5 columns):\n",
      " #   Column       Non-Null Count  Dtype \n",
      "---  ------       --------------  ----- \n",
      " 0   Unnamed: 0   2600 non-null   int64 \n",
      " 1   Attraction   2600 non-null   object\n",
      " 2   Description  2600 non-null   object\n",
      " 3   Country      2600 non-null   object\n",
      " 4   Continent    2600 non-null   object\n",
      "dtypes: int64(1), object(4)\n",
      "memory usage: 101.7+ KB\n"
     ]
    }
   ],
   "source": [
    "df.info()"
   ]
  },
  {
   "cell_type": "markdown",
   "metadata": {},
   "source": [
    "Duplicates and Null values\n",
    "\n"
   ]
  },
  {
   "cell_type": "code",
   "execution_count": 12,
   "metadata": {},
   "outputs": [
    {
     "name": "stdout",
     "output_type": "stream",
     "text": [
      "<class 'pandas.core.frame.DataFrame'>\n",
      "RangeIndex: 2600 entries, 0 to 2599\n",
      "Data columns (total 5 columns):\n",
      " #   Column       Non-Null Count  Dtype \n",
      "---  ------       --------------  ----- \n",
      " 0   Unnamed: 0   2600 non-null   int64 \n",
      " 1   Attraction   2600 non-null   object\n",
      " 2   Description  2600 non-null   object\n",
      " 3   Country      2600 non-null   object\n",
      " 4   Continent    2600 non-null   object\n",
      "dtypes: int64(1), object(4)\n",
      "memory usage: 101.7+ KB\n",
      "None\n",
      "--------------------\n",
      "Total duplicated rows\n",
      "0\n",
      "--------------------\n",
      "Total null values\n",
      "Unnamed: 0     0\n",
      "Attraction     0\n",
      "Description    0\n",
      "Country        0\n",
      "Continent      0\n",
      "dtype: int64\n"
     ]
    }
   ],
   "source": [
    "#looking at data, duplicates and null values\n",
    "print(df.info())\n",
    "print((\"-\"*20))\n",
    "\n",
    "# Check for duplicated rows\n",
    "print('Total duplicated rows')\n",
    "print(df.duplicated().sum())\n",
    "print((\"-\"*20))\n",
    "\n",
    "# Check for null values\n",
    "print('Total null values')\n",
    "print(df.isna().sum())"
   ]
  },
  {
   "cell_type": "markdown",
   "metadata": {},
   "source": [
    "The DataFrame contains 0 duplicate rows."
   ]
  },
  {
   "cell_type": "code",
   "execution_count": 13,
   "metadata": {},
   "outputs": [
    {
     "data": {
      "text/html": [
       "<div>\n",
       "<style scoped>\n",
       "    .dataframe tbody tr th:only-of-type {\n",
       "        vertical-align: middle;\n",
       "    }\n",
       "\n",
       "    .dataframe tbody tr th {\n",
       "        vertical-align: top;\n",
       "    }\n",
       "\n",
       "    .dataframe thead th {\n",
       "        text-align: right;\n",
       "    }\n",
       "</style>\n",
       "<table border=\"1\" class=\"dataframe\">\n",
       "  <thead>\n",
       "    <tr style=\"text-align: right;\">\n",
       "      <th></th>\n",
       "      <th>Unnamed: 0</th>\n",
       "      <th>Attraction</th>\n",
       "      <th>Description</th>\n",
       "      <th>Country</th>\n",
       "      <th>Continent</th>\n",
       "    </tr>\n",
       "  </thead>\n",
       "  <tbody>\n",
       "    <tr>\n",
       "      <th>0</th>\n",
       "      <td>0</td>\n",
       "      <td>Palais Royal</td>\n",
       "      <td>The must-see attraction is the sultan's palace...</td>\n",
       "      <td>Cameroon</td>\n",
       "      <td>Africa</td>\n",
       "    </tr>\n",
       "    <tr>\n",
       "      <th>1</th>\n",
       "      <td>1</td>\n",
       "      <td>Chefferie</td>\n",
       "      <td>Approached via a ceremonial gate, the compound...</td>\n",
       "      <td>Cameroon</td>\n",
       "      <td>Africa</td>\n",
       "    </tr>\n",
       "    <tr>\n",
       "      <th>2</th>\n",
       "      <td>2</td>\n",
       "      <td>Fon's Palace</td>\n",
       "      <td>Just north of Bamenda is the large Tikar commu...</td>\n",
       "      <td>Cameroon</td>\n",
       "      <td>Africa</td>\n",
       "    </tr>\n",
       "    <tr>\n",
       "      <th>3</th>\n",
       "      <td>3</td>\n",
       "      <td>Limbe Wildlife Centre</td>\n",
       "      <td>Many zoos in Africa are depressing places, but...</td>\n",
       "      <td>Cameroon</td>\n",
       "      <td>Africa</td>\n",
       "    </tr>\n",
       "    <tr>\n",
       "      <th>4</th>\n",
       "      <td>4</td>\n",
       "      <td>Botanical Gardens</td>\n",
       "      <td>Limbe's Botanical Gardens, the second oldest i...</td>\n",
       "      <td>Cameroon</td>\n",
       "      <td>Africa</td>\n",
       "    </tr>\n",
       "    <tr>\n",
       "      <th>...</th>\n",
       "      <td>...</td>\n",
       "      <td>...</td>\n",
       "      <td>...</td>\n",
       "      <td>...</td>\n",
       "      <td>...</td>\n",
       "    </tr>\n",
       "    <tr>\n",
       "      <th>2595</th>\n",
       "      <td>35</td>\n",
       "      <td>Naka-no-shima-kÅen</td>\n",
       "      <td>Osaka's first public park, created in 1891 at ...</td>\n",
       "      <td>Japan</td>\n",
       "      <td>Asia</td>\n",
       "    </tr>\n",
       "    <tr>\n",
       "      <th>2596</th>\n",
       "      <td>36</td>\n",
       "      <td>HÅzen-ji YokochÅ</td>\n",
       "      <td>An atmospheric alley dotted with traditional r...</td>\n",
       "      <td>Japan</td>\n",
       "      <td>Asia</td>\n",
       "    </tr>\n",
       "    <tr>\n",
       "      <th>2597</th>\n",
       "      <td>37</td>\n",
       "      <td>Karahori ShÅtengai</td>\n",
       "      <td>This classic shopping arcade wends along the p...</td>\n",
       "      <td>Japan</td>\n",
       "      <td>Asia</td>\n",
       "    </tr>\n",
       "    <tr>\n",
       "      <th>2598</th>\n",
       "      <td>38</td>\n",
       "      <td>Osaka Central Public Hall</td>\n",
       "      <td>Built in 1911, this dramatic, red-brick neo-Re...</td>\n",
       "      <td>Japan</td>\n",
       "      <td>Asia</td>\n",
       "    </tr>\n",
       "    <tr>\n",
       "      <th>2599</th>\n",
       "      <td>39</td>\n",
       "      <td>Osaka City Hall</td>\n",
       "      <td>A mid-1980s building incorporating some elemen...</td>\n",
       "      <td>Japan</td>\n",
       "      <td>Asia</td>\n",
       "    </tr>\n",
       "  </tbody>\n",
       "</table>\n",
       "<p>2600 rows × 5 columns</p>\n",
       "</div>"
      ],
      "text/plain": [
       "      Unnamed: 0                 Attraction  \\\n",
       "0              0               Palais Royal   \n",
       "1              1                  Chefferie   \n",
       "2              2               Fon's Palace   \n",
       "3              3      Limbe Wildlife Centre   \n",
       "4              4          Botanical Gardens   \n",
       "...          ...                        ...   \n",
       "2595          35        Naka-no-shima-kÅen   \n",
       "2596          36         HÅzen-ji YokochÅ   \n",
       "2597          37        Karahori ShÅtengai   \n",
       "2598          38  Osaka Central Public Hall   \n",
       "2599          39            Osaka City Hall   \n",
       "\n",
       "                                            Description   Country Continent  \n",
       "0     The must-see attraction is the sultan's palace...  Cameroon    Africa  \n",
       "1     Approached via a ceremonial gate, the compound...  Cameroon    Africa  \n",
       "2     Just north of Bamenda is the large Tikar commu...  Cameroon    Africa  \n",
       "3     Many zoos in Africa are depressing places, but...  Cameroon    Africa  \n",
       "4     Limbe's Botanical Gardens, the second oldest i...  Cameroon    Africa  \n",
       "...                                                 ...       ...       ...  \n",
       "2595  Osaka's first public park, created in 1891 at ...     Japan      Asia  \n",
       "2596  An atmospheric alley dotted with traditional r...     Japan      Asia  \n",
       "2597  This classic shopping arcade wends along the p...     Japan      Asia  \n",
       "2598  Built in 1911, this dramatic, red-brick neo-Re...     Japan      Asia  \n",
       "2599  A mid-1980s building incorporating some elemen...     Japan      Asia  \n",
       "\n",
       "[2600 rows x 5 columns]"
      ]
     },
     "execution_count": 13,
     "metadata": {},
     "output_type": "execute_result"
    }
   ],
   "source": [
    "#drop any NaN in the Tweet column\n",
    "df['Description'].dropna(inplace=True)\n",
    "df"
   ]
  },
  {
   "cell_type": "code",
   "execution_count": 14,
   "metadata": {},
   "outputs": [
    {
     "name": "stdout",
     "output_type": "stream",
     "text": [
      "      Unnamed: 0                 Attraction  \\\n",
      "0              0               Palais Royal   \n",
      "1              1                  Chefferie   \n",
      "2              2               Fon's Palace   \n",
      "3              3      Limbe Wildlife Centre   \n",
      "4              4          Botanical Gardens   \n",
      "...          ...                        ...   \n",
      "2595          35        Naka-no-shima-kÅen   \n",
      "2596          36         HÅzen-ji YokochÅ   \n",
      "2597          37        Karahori ShÅtengai   \n",
      "2598          38  Osaka Central Public Hall   \n",
      "2599          39            Osaka City Hall   \n",
      "\n",
      "                                            Description   Country Continent  \n",
      "0     The must-see attraction is the sultan's palace...  Cameroon    Africa  \n",
      "1     Approached via a ceremonial gate, the compound...  Cameroon    Africa  \n",
      "2     Just north of Bamenda is the large Tikar commu...  Cameroon    Africa  \n",
      "3     Many zoos in Africa are depressing places, but...  Cameroon    Africa  \n",
      "4     Limbe's Botanical Gardens, the second oldest i...  Cameroon    Africa  \n",
      "...                                                 ...       ...       ...  \n",
      "2595  Osaka's first public park, created in 1891 at ...     Japan      Asia  \n",
      "2596  An atmospheric alley dotted with traditional r...     Japan      Asia  \n",
      "2597  This classic shopping arcade wends along the p...     Japan      Asia  \n",
      "2598  Built in 1911, this dramatic, red-brick neo-Re...     Japan      Asia  \n",
      "2599  A mid-1980s building incorporating some elemen...     Japan      Asia  \n",
      "\n",
      "[2600 rows x 5 columns]\n"
     ]
    }
   ],
   "source": [
    "df['Attraction'].fillna('Unknown', inplace=True)\n",
    "print(df)"
   ]
  },
  {
   "cell_type": "code",
   "execution_count": null,
   "metadata": {},
   "outputs": [],
   "source": []
  }
 ],
 "metadata": {
  "kernelspec": {
   "display_name": "learn-env",
   "language": "python",
   "name": "python3"
  },
  "language_info": {
   "codemirror_mode": {
    "name": "ipython",
    "version": 3
   },
   "file_extension": ".py",
   "mimetype": "text/x-python",
   "name": "python",
   "nbconvert_exporter": "python",
   "pygments_lexer": "ipython3",
   "version": "3.8.5"
  }
 },
 "nbformat": 4,
 "nbformat_minor": 2
}
