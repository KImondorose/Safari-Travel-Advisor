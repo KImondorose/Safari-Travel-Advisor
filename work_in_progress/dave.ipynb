{
 "cells": [
  {
   "cell_type": "markdown",
   "metadata": {},
   "source": [
    "## Creating the Scraper"
   ]
  },
  {
   "cell_type": "code",
   "execution_count": 23,
   "metadata": {},
   "outputs": [],
   "source": [
    "import requests\n",
    "from bs4 import BeautifulSoup\n",
    "import pandas as pd"
   ]
  },
  {
   "cell_type": "code",
   "execution_count": 24,
   "metadata": {},
   "outputs": [],
   "source": [
    "# url = 'https://www.lonelyplanet.com/kenya/attractions'\n",
    "# response = requests.get(url)\n",
    "# soup = BeautifulSoup(response.text, 'html.parser')"
   ]
  },
  {
   "cell_type": "code",
   "execution_count": 25,
   "metadata": {},
   "outputs": [],
   "source": [
    "# print(soup.prettify())"
   ]
  },
  {
   "cell_type": "code",
   "execution_count": 26,
   "metadata": {},
   "outputs": [],
   "source": [
    "# attaractions = soup.find_all('span', class_ ='heading-05 font-semibold')\n",
    "# for attraction in attaractions:\n",
    "#     title = attraction.get_text(strip=True)\n",
    "#     print(title)"
   ]
  },
  {
   "cell_type": "code",
   "execution_count": 27,
   "metadata": {},
   "outputs": [],
   "source": [
    "# base_url = 'https://www.lonelyplanet.com/kenya/attractions'\n",
    "\n",
    "# # pages\n",
    "# num_pages = 5 \n",
    "\n",
    "# # Loop through each page\n",
    "# for page in range(1, num_pages + 1):\n",
    "#     # Constructing the URL for each page\n",
    "#     url = f'{base_url}?page={page}'\n",
    "#     response = requests.get(url)\n",
    "#     soup = BeautifulSoup(response.text, 'html.parser')\n",
    "    \n",
    "#     # Find all span elements with the class 'heading-05 font-semibold'\n",
    "#     attractions = soup.find_all('span', class_='heading-05 font-semibold')\n",
    "    \n",
    "#     # Print each attraction title\n",
    "#     for attraction in attractions:\n",
    "#         title = attraction.get_text(strip=True)\n",
    "#         print(title)"
   ]
  },
  {
   "cell_type": "code",
   "execution_count": 28,
   "metadata": {},
   "outputs": [],
   "source": [
    "# import requests\n",
    "# from bs4 import BeautifulSoup\n",
    "# import pandas as pd\n",
    "\n",
    "# # Function to scrape a single country's attractions\n",
    "# def scrape_country_attractions(country, continent, base_url, num_pages=5):\n",
    "#     data = []  # List to store all attraction data for the country\n",
    "\n",
    "#     for page in range(1, num_pages + 1):\n",
    "#         url = f'{base_url}?page={page}'\n",
    "#         response = requests.get(url)\n",
    "#         soup = BeautifulSoup(response.text, 'html.parser')\n",
    "\n",
    "#         # Extract attraction titles and descriptions\n",
    "#         titles = soup.find_all('span', class_='heading-05 font-semibold')\n",
    "#         descriptions = soup.find_all('p', class_='relative line-clamp-3')\n",
    "\n",
    "#         # Pair up each title with its corresponding description and add country/continent info\n",
    "#         for title, description in zip(titles, descriptions):\n",
    "#             data.append({\n",
    "#                 'Attraction': title.get_text(strip=True),\n",
    "#                 'Description': description.get_text(strip=True),\n",
    "#                 'Country': country,\n",
    "#                 'Continent': continent\n",
    "#             })\n",
    "\n",
    "#     return data\n",
    "\n",
    "# # Define the countries, continents, and base URLs you want to scrape\n",
    "# countries_to_scrape = [\n",
    "#     {'country': 'Kenya', 'continent': 'Africa', 'url': 'https://www.lonelyplanet.com/kenya/attractions'},\n",
    "    \n",
    "# ]\n",
    "\n",
    "# # Collect data for all countries\n",
    "# all_data = []\n",
    "# for entry in countries_to_scrape:\n",
    "#     country_data = scrape_country_attractions(entry['country'], entry['continent'], entry['url'])\n",
    "#     all_data.extend(country_data)\n",
    "\n",
    "# # Convert to DataFrame and save to CSV\n",
    "# df = pd.DataFrame(all_data, columns=['Attraction', 'Description', 'Country', 'Continent'])\n",
    "# df.to_csv('attractions_data.csv', index=False)\n",
    "# print(\"Data saved to attractions_data.csv\")\n"
   ]
  },
  {
   "cell_type": "code",
   "execution_count": 29,
   "metadata": {},
   "outputs": [],
   "source": [
    "# countries_to_scrape = [\n",
    "#     # Africa\n",
    "#     {'country': 'Kenya', 'continent': 'Africa', 'url': 'https://www.lonelyplanet.com/kenya/attractions'},\n",
    "#     {'country': 'South Africa', 'continent': 'Africa', 'url': 'https://www.lonelyplanet.com/south-africa/attractions'},\n",
    "#     {'country': 'Egypt', 'continent': 'Africa', 'url': 'https://www.lonelyplanet.com/egypt/attractions'},\n",
    "#     {'country': 'Morocco', 'continent': 'Africa', 'url': 'https://www.lonelyplanet.com/morocco/attractions'},\n",
    "\n",
    "#     # Asia\n",
    "#     {'country': 'Japan', 'continent': 'Asia', 'url': 'https://www.lonelyplanet.com/japan/attractions'},\n",
    "#     {'country': 'China', 'continent': 'Asia', 'url': 'https://www.lonelyplanet.com/china/attractions'},\n",
    "#     {'country': 'India', 'continent': 'Asia', 'url': 'https://www.lonelyplanet.com/india/attractions'},\n",
    "#     {'country': 'Thailand', 'continent': 'Asia', 'url': 'https://www.lonelyplanet.com/thailand/attractions'},\n",
    "\n",
    "#     # Europe\n",
    "#     {'country': 'France', 'continent': 'Europe', 'url': 'https://www.lonelyplanet.com/france/attractions'},\n",
    "#     {'country': 'Italy', 'continent': 'Europe', 'url': 'https://www.lonelyplanet.com/italy/attractions'},\n",
    "#     {'country': 'Germany', 'continent': 'Europe', 'url': 'https://www.lonelyplanet.com/germany/attractions'},\n",
    "#     {'country': 'United Kingdom', 'continent': 'Europe', 'url': 'https://www.lonelyplanet.com/united-kingdom/attractions'},\n",
    "\n",
    "#     # North America\n",
    "#     {'country': 'United States', 'continent': 'North America', 'url': 'https://www.lonelyplanet.com/usa/attractions'},\n",
    "#     {'country': 'Canada', 'continent': 'North America', 'url': 'https://www.lonelyplanet.com/canada/attractions'},\n",
    "#     {'country': 'Mexico', 'continent': 'North America', 'url': 'https://www.lonelyplanet.com/mexico/attractions'},\n",
    "\n",
    "#     # South America\n",
    "#     {'country': 'Brazil', 'continent': 'South America', 'url': 'https://www.lonelyplanet.com/brazil/attractions'},\n",
    "#     {'country': 'Argentina', 'continent': 'South America', 'url': 'https://www.lonelyplanet.com/argentina/attractions'},\n",
    "#     {'country': 'Chile', 'continent': 'South America', 'url': 'https://www.lonelyplanet.com/chile/attractions'},\n",
    "#     {'country': 'Peru', 'continent': 'South America', 'url': 'https://www.lonelyplanet.com/peru/attractions'},\n",
    "\n",
    "#     # Oceania\n",
    "#     {'country': 'Australia', 'continent': 'Oceania', 'url': 'https://www.lonelyplanet.com/australia/attractions'},\n",
    "#     {'country': 'New Zealand', 'continent': 'Oceania', 'url': 'https://www.lonelyplanet.com/new-zealand/attractions'},\n",
    "#     {'country': 'Fiji', 'continent': 'Oceania', 'url': 'https://www.lonelyplanet.com/fiji/attractions'},\n",
    "\n",
    "#     # Middle East\n",
    "#     {'country': 'United Arab Emirates', 'continent': 'Middle East', 'url': 'https://www.lonelyplanet.com/united-arab-emirates/attractions'},\n",
    "#     {'country': 'Turkey', 'continent': 'Middle East', 'url': 'https://www.lonelyplanet.com/turkey/attractions'},\n",
    "#     {'country': 'Israel', 'continent': 'Middle East', 'url': 'https://www.lonelyplanet.com/israel/attractions'},\n",
    "#     {'country': 'Jordan', 'continent': 'Middle East', 'url': 'https://www.lonelyplanet.com/jordan/attractions'},\n",
    "\n",
    "#     # Antarctica (if applicable)\n",
    "#     {'country': 'Antarctica', 'continent': 'Antarctica', 'url': 'https://www.lonelyplanet.com/antarctica/attractions'}\n",
    "# ]\n"
   ]
  },
  {
   "cell_type": "code",
   "execution_count": 30,
   "metadata": {},
   "outputs": [],
   "source": [
    "# import requests\n",
    "# from bs4 import BeautifulSoup\n",
    "# import pandas as pd\n",
    "\n",
    "# def scrape_country_attractions(country, continent, base_url, num_pages=5):\n",
    "#     data = []\n",
    "#     for page in range(1, num_pages + 1):\n",
    "#         url = f'{base_url}?page={page}'\n",
    "#         response = requests.get(url)\n",
    "#         soup = BeautifulSoup(response.text, 'html.parser')\n",
    "\n",
    "#         titles = soup.find_all('span', class_='heading-05 font-semibold')\n",
    "#         descriptions = soup.find_all('p', class_='relative line-clamp-3')\n",
    "\n",
    "#         for title, description in zip(titles, descriptions):\n",
    "#             data.append({\n",
    "#                 'Attraction': title.get_text(strip=True),\n",
    "#                 'Description': description.get_text(strip=True),\n",
    "#                 'Country': country,\n",
    "#                 'Continent': continent\n",
    "#             })\n",
    "#     return data\n",
    "\n",
    "# all_data = []\n",
    "# for entry in countries_to_scrape:\n",
    "#     country_data = scrape_country_attractions(entry['country'], entry['continent'], entry['url'])\n",
    "#     all_data.extend(country_data)\n",
    "\n",
    "# df = pd.DataFrame(all_data, columns=['Attraction', 'Description', 'Country', 'Continent'])\n",
    "# df.to_csv('attractions_data.csv', index=False)\n",
    "# print(\"Data saved to attractions_data.csv\")\n"
   ]
  },
  {
   "cell_type": "code",
   "execution_count": null,
   "metadata": {},
   "outputs": [],
   "source": []
  },
  {
   "cell_type": "markdown",
   "metadata": {},
   "source": [
    "## Data Cleaning"
   ]
  },
  {
   "cell_type": "code",
   "execution_count": 31,
   "metadata": {},
   "outputs": [],
   "source": [
    "df = pd.read_csv('../Data/best_travel_destinations_for_2025.csv')"
   ]
  },
  {
   "cell_type": "code",
   "execution_count": 32,
   "metadata": {},
   "outputs": [
    {
     "data": {
      "text/html": [
       "<div>\n",
       "<style scoped>\n",
       "    .dataframe tbody tr th:only-of-type {\n",
       "        vertical-align: middle;\n",
       "    }\n",
       "\n",
       "    .dataframe tbody tr th {\n",
       "        vertical-align: top;\n",
       "    }\n",
       "\n",
       "    .dataframe thead th {\n",
       "        text-align: right;\n",
       "    }\n",
       "</style>\n",
       "<table border=\"1\" class=\"dataframe\">\n",
       "  <thead>\n",
       "    <tr style=\"text-align: right;\">\n",
       "      <th></th>\n",
       "      <th>Attraction</th>\n",
       "      <th>Description</th>\n",
       "      <th>Country</th>\n",
       "      <th>Continent</th>\n",
       "    </tr>\n",
       "  </thead>\n",
       "  <tbody>\n",
       "    <tr>\n",
       "      <th>0</th>\n",
       "      <td>Amboseli National Park</td>\n",
       "      <td>Amboseli belongs in the elite of Kenya’s natio...</td>\n",
       "      <td>Kenya</td>\n",
       "      <td>Africa</td>\n",
       "    </tr>\n",
       "    <tr>\n",
       "      <th>1</th>\n",
       "      <td>Fort Jesus</td>\n",
       "      <td>This 16th-century fort and Unesco World Herita...</td>\n",
       "      <td>Kenya</td>\n",
       "      <td>Africa</td>\n",
       "    </tr>\n",
       "    <tr>\n",
       "      <th>2</th>\n",
       "      <td>David Sheldrick Wildlife Trust</td>\n",
       "      <td>Occupying a plot within Nairobi National Park,...</td>\n",
       "      <td>Kenya</td>\n",
       "      <td>Africa</td>\n",
       "    </tr>\n",
       "    <tr>\n",
       "      <th>3</th>\n",
       "      <td>Nairobi National Park</td>\n",
       "      <td>Welcome to Kenya’s most accessible yet incongr...</td>\n",
       "      <td>Kenya</td>\n",
       "      <td>Africa</td>\n",
       "    </tr>\n",
       "    <tr>\n",
       "      <th>4</th>\n",
       "      <td>National Museum</td>\n",
       "      <td>Kenya’s wonderful National Museum, housed in a...</td>\n",
       "      <td>Kenya</td>\n",
       "      <td>Africa</td>\n",
       "    </tr>\n",
       "  </tbody>\n",
       "</table>\n",
       "</div>"
      ],
      "text/plain": [
       "                       Attraction  \\\n",
       "0          Amboseli National Park   \n",
       "1                      Fort Jesus   \n",
       "2  David Sheldrick Wildlife Trust   \n",
       "3           Nairobi National Park   \n",
       "4                 National Museum   \n",
       "\n",
       "                                         Description Country Continent  \n",
       "0  Amboseli belongs in the elite of Kenya’s natio...   Kenya    Africa  \n",
       "1  This 16th-century fort and Unesco World Herita...   Kenya    Africa  \n",
       "2  Occupying a plot within Nairobi National Park,...   Kenya    Africa  \n",
       "3  Welcome to Kenya’s most accessible yet incongr...   Kenya    Africa  \n",
       "4  Kenya’s wonderful National Museum, housed in a...   Kenya    Africa  "
      ]
     },
     "execution_count": 32,
     "metadata": {},
     "output_type": "execute_result"
    }
   ],
   "source": [
    "df.head()"
   ]
  },
  {
   "cell_type": "markdown",
   "metadata": {},
   "source": [
    "The dataset includes columns for:\n",
    "\n",
    "- Attraction: The name of the travel destination. \n",
    "- Description: A brief description of the attraction.   \n",
    "- Country: The country where the attraction is located. \n",
    "- Continent: The continent where the attraction is located."
   ]
  },
  {
   "cell_type": "code",
   "execution_count": 33,
   "metadata": {},
   "outputs": [
    {
     "name": "stdout",
     "output_type": "stream",
     "text": [
      "<class 'pandas.core.frame.DataFrame'>\n",
      "RangeIndex: 18040 entries, 0 to 18039\n",
      "Data columns (total 4 columns):\n",
      " #   Column       Non-Null Count  Dtype \n",
      "---  ------       --------------  ----- \n",
      " 0   Attraction   18040 non-null  object\n",
      " 1   Description  18040 non-null  object\n",
      " 2   Country      18040 non-null  object\n",
      " 3   Continent    18040 non-null  object\n",
      "dtypes: object(4)\n",
      "memory usage: 563.9+ KB\n"
     ]
    }
   ],
   "source": [
    "# checking the overall structure\n",
    "df.info()"
   ]
  },
  {
   "cell_type": "markdown",
   "metadata": {},
   "source": [
    "There are no missing values in the dataset"
   ]
  },
  {
   "cell_type": "code",
   "execution_count": 34,
   "metadata": {},
   "outputs": [
    {
     "data": {
      "text/plain": [
       "9"
      ]
     },
     "execution_count": 34,
     "metadata": {},
     "output_type": "execute_result"
    }
   ],
   "source": [
    "# checking for duuplicates\n",
    "\n",
    "df.duplicated().sum()"
   ]
  },
  {
   "cell_type": "code",
   "execution_count": 35,
   "metadata": {},
   "outputs": [
    {
     "data": {
      "text/html": [
       "<div>\n",
       "<style scoped>\n",
       "    .dataframe tbody tr th:only-of-type {\n",
       "        vertical-align: middle;\n",
       "    }\n",
       "\n",
       "    .dataframe tbody tr th {\n",
       "        vertical-align: top;\n",
       "    }\n",
       "\n",
       "    .dataframe thead th {\n",
       "        text-align: right;\n",
       "    }\n",
       "</style>\n",
       "<table border=\"1\" class=\"dataframe\">\n",
       "  <thead>\n",
       "    <tr style=\"text-align: right;\">\n",
       "      <th></th>\n",
       "      <th>Attraction</th>\n",
       "      <th>Description</th>\n",
       "      <th>Country</th>\n",
       "      <th>Continent</th>\n",
       "    </tr>\n",
       "  </thead>\n",
       "  <tbody>\n",
       "    <tr>\n",
       "      <th>3440</th>\n",
       "      <td>Yuexiu Park</td>\n",
       "      <td>A crenellated roadway between attractions in t...</td>\n",
       "      <td>China</td>\n",
       "      <td>Asia</td>\n",
       "    </tr>\n",
       "    <tr>\n",
       "      <th>3480</th>\n",
       "      <td>Palace of Moon &amp; Water Kwun Yum Temple</td>\n",
       "      <td>Not to be confused with Kwun Yum Temple nearby...</td>\n",
       "      <td>China</td>\n",
       "      <td>Asia</td>\n",
       "    </tr>\n",
       "    <tr>\n",
       "      <th>3640</th>\n",
       "      <td>Rakadrak Hermitage</td>\n",
       "      <td>This hermitage high above Lhasa has three simp...</td>\n",
       "      <td>China</td>\n",
       "      <td>Asia</td>\n",
       "    </tr>\n",
       "    <tr>\n",
       "      <th>3680</th>\n",
       "      <td>Huilan Pavilion</td>\n",
       "      <td>Lit up at night, this graceful pavilion decora...</td>\n",
       "      <td>China</td>\n",
       "      <td>Asia</td>\n",
       "    </tr>\n",
       "    <tr>\n",
       "      <th>5000</th>\n",
       "      <td>Pithoragarh Fort</td>\n",
       "      <td>This renovated historic fort was built by Gurk...</td>\n",
       "      <td>India</td>\n",
       "      <td>Asia</td>\n",
       "    </tr>\n",
       "    <tr>\n",
       "      <th>5160</th>\n",
       "      <td>Himadri Hans Handloom</td>\n",
       "      <td>Just north of town on the road to Binsar is th...</td>\n",
       "      <td>India</td>\n",
       "      <td>Asia</td>\n",
       "    </tr>\n",
       "    <tr>\n",
       "      <th>11560</th>\n",
       "      <td>Kids Market</td>\n",
       "      <td>A kaleidoscopic mini shopping mall for under-1...</td>\n",
       "      <td>Canada</td>\n",
       "      <td>North America</td>\n",
       "    </tr>\n",
       "    <tr>\n",
       "      <th>11641</th>\n",
       "      <td>Africville Heritage Trust Museum</td>\n",
       "      <td>Learn the story of Africville, Halifax's predo...</td>\n",
       "      <td>Canada</td>\n",
       "      <td>North America</td>\n",
       "    </tr>\n",
       "    <tr>\n",
       "      <th>14360</th>\n",
       "      <td>Cementerios 1 &amp; 2</td>\n",
       "      <td>The city's most illustrious, influential and i...</td>\n",
       "      <td>Chile</td>\n",
       "      <td>South America</td>\n",
       "    </tr>\n",
       "  </tbody>\n",
       "</table>\n",
       "</div>"
      ],
      "text/plain": [
       "                                   Attraction  \\\n",
       "3440                              Yuexiu Park   \n",
       "3480   Palace of Moon & Water Kwun Yum Temple   \n",
       "3640                       Rakadrak Hermitage   \n",
       "3680                          Huilan Pavilion   \n",
       "5000                         Pithoragarh Fort   \n",
       "5160                    Himadri Hans Handloom   \n",
       "11560                             Kids Market   \n",
       "11641        Africville Heritage Trust Museum   \n",
       "14360                       Cementerios 1 & 2   \n",
       "\n",
       "                                             Description Country  \\\n",
       "3440   A crenellated roadway between attractions in t...   China   \n",
       "3480   Not to be confused with Kwun Yum Temple nearby...   China   \n",
       "3640   This hermitage high above Lhasa has three simp...   China   \n",
       "3680   Lit up at night, this graceful pavilion decora...   China   \n",
       "5000   This renovated historic fort was built by Gurk...   India   \n",
       "5160   Just north of town on the road to Binsar is th...   India   \n",
       "11560  A kaleidoscopic mini shopping mall for under-1...  Canada   \n",
       "11641  Learn the story of Africville, Halifax's predo...  Canada   \n",
       "14360  The city's most illustrious, influential and i...   Chile   \n",
       "\n",
       "           Continent  \n",
       "3440            Asia  \n",
       "3480            Asia  \n",
       "3640            Asia  \n",
       "3680            Asia  \n",
       "5000            Asia  \n",
       "5160            Asia  \n",
       "11560  North America  \n",
       "11641  North America  \n",
       "14360  South America  "
      ]
     },
     "execution_count": 35,
     "metadata": {},
     "output_type": "execute_result"
    }
   ],
   "source": [
    "df[df.duplicated()]"
   ]
  },
  {
   "cell_type": "code",
   "execution_count": 36,
   "metadata": {},
   "outputs": [],
   "source": [
    "# Dropping the duplicates\n",
    "df.drop_duplicates(inplace=True)\n",
    "\n",
    "df.reset_index(drop=True, inplace=True)"
   ]
  },
  {
   "cell_type": "code",
   "execution_count": 37,
   "metadata": {},
   "outputs": [
    {
     "data": {
      "text/plain": [
       "0"
      ]
     },
     "execution_count": 37,
     "metadata": {},
     "output_type": "execute_result"
    }
   ],
   "source": [
    "# checking again for duuplicates\n",
    "\n",
    "df.duplicated().sum()"
   ]
  },
  {
   "cell_type": "code",
   "execution_count": 38,
   "metadata": {},
   "outputs": [],
   "source": [
    "countries = df.groupby('Country').count()"
   ]
  },
  {
   "cell_type": "code",
   "execution_count": 39,
   "metadata": {},
   "outputs": [],
   "source": [
    "countries.reset_index(inplace=True)"
   ]
  },
  {
   "cell_type": "code",
   "execution_count": 40,
   "metadata": {},
   "outputs": [
    {
     "name": "stdout",
     "output_type": "stream",
     "text": [
      "                 Country  Attraction  Description  Continent\n",
      "0              Argentina         360          360        360\n",
      "1              Australia        1200         1200       1200\n",
      "2                 Brazil         600          600        600\n",
      "3                 Canada        1198         1198       1198\n",
      "4                  Chile         319          319        319\n",
      "5                  China        1196         1196       1196\n",
      "6                  Egypt         520          520        520\n",
      "7                   Fiji          80           80         80\n",
      "8                 France        1200         1200       1200\n",
      "9                Germany        1200         1200       1200\n",
      "10                 India        1198         1198       1198\n",
      "11                Israel         160          160        160\n",
      "12                 Italy        1200         1200       1200\n",
      "13                 Japan        1200         1200       1200\n",
      "14                Jordan         160          160        160\n",
      "15                 Kenya         160          160        160\n",
      "16                Mexico        1080         1080       1080\n",
      "17               Morocco         360          360        360\n",
      "18           New Zealand         400          400        400\n",
      "19                  Peru         360          360        360\n",
      "20          South Africa         640          640        640\n",
      "21              Thailand         880          880        880\n",
      "22                Turkey        1040         1040       1040\n",
      "23  United Arab Emirates         120          120        120\n",
      "24         United States        1200         1200       1200\n"
     ]
    }
   ],
   "source": [
    "print(countries)"
   ]
  },
  {
   "cell_type": "code",
   "execution_count": 41,
   "metadata": {},
   "outputs": [
    {
     "data": {
      "text/html": [
       "<div>\n",
       "<style scoped>\n",
       "    .dataframe tbody tr th:only-of-type {\n",
       "        vertical-align: middle;\n",
       "    }\n",
       "\n",
       "    .dataframe tbody tr th {\n",
       "        vertical-align: top;\n",
       "    }\n",
       "\n",
       "    .dataframe thead th {\n",
       "        text-align: right;\n",
       "    }\n",
       "</style>\n",
       "<table border=\"1\" class=\"dataframe\">\n",
       "  <thead>\n",
       "    <tr style=\"text-align: right;\">\n",
       "      <th></th>\n",
       "      <th>Country</th>\n",
       "      <th>Attraction</th>\n",
       "      <th>Description</th>\n",
       "      <th>Continent</th>\n",
       "    </tr>\n",
       "  </thead>\n",
       "  <tbody>\n",
       "    <tr>\n",
       "      <th>12</th>\n",
       "      <td>Italy</td>\n",
       "      <td>1200</td>\n",
       "      <td>1200</td>\n",
       "      <td>1200</td>\n",
       "    </tr>\n",
       "    <tr>\n",
       "      <th>8</th>\n",
       "      <td>France</td>\n",
       "      <td>1200</td>\n",
       "      <td>1200</td>\n",
       "      <td>1200</td>\n",
       "    </tr>\n",
       "    <tr>\n",
       "      <th>13</th>\n",
       "      <td>Japan</td>\n",
       "      <td>1200</td>\n",
       "      <td>1200</td>\n",
       "      <td>1200</td>\n",
       "    </tr>\n",
       "    <tr>\n",
       "      <th>1</th>\n",
       "      <td>Australia</td>\n",
       "      <td>1200</td>\n",
       "      <td>1200</td>\n",
       "      <td>1200</td>\n",
       "    </tr>\n",
       "    <tr>\n",
       "      <th>9</th>\n",
       "      <td>Germany</td>\n",
       "      <td>1200</td>\n",
       "      <td>1200</td>\n",
       "      <td>1200</td>\n",
       "    </tr>\n",
       "    <tr>\n",
       "      <th>24</th>\n",
       "      <td>United States</td>\n",
       "      <td>1200</td>\n",
       "      <td>1200</td>\n",
       "      <td>1200</td>\n",
       "    </tr>\n",
       "    <tr>\n",
       "      <th>10</th>\n",
       "      <td>India</td>\n",
       "      <td>1198</td>\n",
       "      <td>1198</td>\n",
       "      <td>1198</td>\n",
       "    </tr>\n",
       "    <tr>\n",
       "      <th>3</th>\n",
       "      <td>Canada</td>\n",
       "      <td>1198</td>\n",
       "      <td>1198</td>\n",
       "      <td>1198</td>\n",
       "    </tr>\n",
       "    <tr>\n",
       "      <th>5</th>\n",
       "      <td>China</td>\n",
       "      <td>1196</td>\n",
       "      <td>1196</td>\n",
       "      <td>1196</td>\n",
       "    </tr>\n",
       "    <tr>\n",
       "      <th>16</th>\n",
       "      <td>Mexico</td>\n",
       "      <td>1080</td>\n",
       "      <td>1080</td>\n",
       "      <td>1080</td>\n",
       "    </tr>\n",
       "    <tr>\n",
       "      <th>22</th>\n",
       "      <td>Turkey</td>\n",
       "      <td>1040</td>\n",
       "      <td>1040</td>\n",
       "      <td>1040</td>\n",
       "    </tr>\n",
       "    <tr>\n",
       "      <th>21</th>\n",
       "      <td>Thailand</td>\n",
       "      <td>880</td>\n",
       "      <td>880</td>\n",
       "      <td>880</td>\n",
       "    </tr>\n",
       "    <tr>\n",
       "      <th>20</th>\n",
       "      <td>South Africa</td>\n",
       "      <td>640</td>\n",
       "      <td>640</td>\n",
       "      <td>640</td>\n",
       "    </tr>\n",
       "    <tr>\n",
       "      <th>2</th>\n",
       "      <td>Brazil</td>\n",
       "      <td>600</td>\n",
       "      <td>600</td>\n",
       "      <td>600</td>\n",
       "    </tr>\n",
       "    <tr>\n",
       "      <th>6</th>\n",
       "      <td>Egypt</td>\n",
       "      <td>520</td>\n",
       "      <td>520</td>\n",
       "      <td>520</td>\n",
       "    </tr>\n",
       "    <tr>\n",
       "      <th>18</th>\n",
       "      <td>New Zealand</td>\n",
       "      <td>400</td>\n",
       "      <td>400</td>\n",
       "      <td>400</td>\n",
       "    </tr>\n",
       "    <tr>\n",
       "      <th>19</th>\n",
       "      <td>Peru</td>\n",
       "      <td>360</td>\n",
       "      <td>360</td>\n",
       "      <td>360</td>\n",
       "    </tr>\n",
       "    <tr>\n",
       "      <th>0</th>\n",
       "      <td>Argentina</td>\n",
       "      <td>360</td>\n",
       "      <td>360</td>\n",
       "      <td>360</td>\n",
       "    </tr>\n",
       "    <tr>\n",
       "      <th>17</th>\n",
       "      <td>Morocco</td>\n",
       "      <td>360</td>\n",
       "      <td>360</td>\n",
       "      <td>360</td>\n",
       "    </tr>\n",
       "    <tr>\n",
       "      <th>4</th>\n",
       "      <td>Chile</td>\n",
       "      <td>319</td>\n",
       "      <td>319</td>\n",
       "      <td>319</td>\n",
       "    </tr>\n",
       "    <tr>\n",
       "      <th>14</th>\n",
       "      <td>Jordan</td>\n",
       "      <td>160</td>\n",
       "      <td>160</td>\n",
       "      <td>160</td>\n",
       "    </tr>\n",
       "    <tr>\n",
       "      <th>11</th>\n",
       "      <td>Israel</td>\n",
       "      <td>160</td>\n",
       "      <td>160</td>\n",
       "      <td>160</td>\n",
       "    </tr>\n",
       "    <tr>\n",
       "      <th>15</th>\n",
       "      <td>Kenya</td>\n",
       "      <td>160</td>\n",
       "      <td>160</td>\n",
       "      <td>160</td>\n",
       "    </tr>\n",
       "    <tr>\n",
       "      <th>23</th>\n",
       "      <td>United Arab Emirates</td>\n",
       "      <td>120</td>\n",
       "      <td>120</td>\n",
       "      <td>120</td>\n",
       "    </tr>\n",
       "    <tr>\n",
       "      <th>7</th>\n",
       "      <td>Fiji</td>\n",
       "      <td>80</td>\n",
       "      <td>80</td>\n",
       "      <td>80</td>\n",
       "    </tr>\n",
       "  </tbody>\n",
       "</table>\n",
       "</div>"
      ],
      "text/plain": [
       "                 Country  Attraction  Description  Continent\n",
       "12                 Italy        1200         1200       1200\n",
       "8                 France        1200         1200       1200\n",
       "13                 Japan        1200         1200       1200\n",
       "1              Australia        1200         1200       1200\n",
       "9                Germany        1200         1200       1200\n",
       "24         United States        1200         1200       1200\n",
       "10                 India        1198         1198       1198\n",
       "3                 Canada        1198         1198       1198\n",
       "5                  China        1196         1196       1196\n",
       "16                Mexico        1080         1080       1080\n",
       "22                Turkey        1040         1040       1040\n",
       "21              Thailand         880          880        880\n",
       "20          South Africa         640          640        640\n",
       "2                 Brazil         600          600        600\n",
       "6                  Egypt         520          520        520\n",
       "18           New Zealand         400          400        400\n",
       "19                  Peru         360          360        360\n",
       "0              Argentina         360          360        360\n",
       "17               Morocco         360          360        360\n",
       "4                  Chile         319          319        319\n",
       "14                Jordan         160          160        160\n",
       "11                Israel         160          160        160\n",
       "15                 Kenya         160          160        160\n",
       "23  United Arab Emirates         120          120        120\n",
       "7                   Fiji          80           80         80"
      ]
     },
     "execution_count": 41,
     "metadata": {},
     "output_type": "execute_result"
    }
   ],
   "source": [
    "sorted_countries = countries.sort_values(by='Attraction', ascending=False)\n",
    "sorted_countries"
   ]
  },
  {
   "cell_type": "code",
   "execution_count": 42,
   "metadata": {},
   "outputs": [
    {
     "data": {
      "image/png": "[encoded data removed]",
      "text/plain": [
       "<Figure size 720x432 with 1 Axes>"
      ]
     },
     "metadata": {
      "needs_background": "light"
     },
     "output_type": "display_data"
    }
   ],
   "source": [
    "import matplotlib.pyplot as plt\n",
    "import seaborn as sns\n",
    "\n",
    "plt.figure(figsize=(10, 6))\n",
    "sns.barplot(data=sorted_countries, x='Attraction', y='Country')\n",
    "plt.title(\"Attraction by Country\")\n",
    "plt.show()"
   ]
  },
  {
   "cell_type": "markdown",
   "metadata": {},
   "source": [
    "## Exploratory Data Analysis (EDA)"
   ]
  },
  {
   "cell_type": "markdown",
   "metadata": {},
   "source": [
    "### Examine the count of unique attractions, countries, and continents."
   ]
  },
  {
   "cell_type": "code",
   "execution_count": 45,
   "metadata": {},
   "outputs": [
    {
     "name": "stdout",
     "output_type": "stream",
     "text": [
      "Unique Attractions: 17185\n",
      "Unique Countries: 25\n",
      "Unique Continents: 7\n"
     ]
    }
   ],
   "source": [
    "# Calculate the unique counts for Attraction, Country, and Continent columns\n",
    "unique_attractions = df['Attraction'].nunique()\n",
    "unique_countries = df['Country'].nunique()\n",
    "unique_continents = df['Continent'].nunique()\n",
    "\n",
    "unique_counts = {\n",
    "    'Unique Attractions': unique_attractions,\n",
    "    'Unique Countries': unique_countries,\n",
    "    'Unique Continents': unique_continents\n",
    "}\n",
    "\n",
    "\n",
    "for key, value in unique_counts.items():\n",
    "    print(f\"{key}: {value}\")\n"
   ]
  },
  {
   "cell_type": "markdown",
   "metadata": {},
   "source": [
    "### Text Length Analysis: Analyze the length of descriptions to understand their variability."
   ]
  },
  {
   "cell_type": "code",
   "execution_count": null,
   "metadata": {},
   "outputs": [
    {
     "data": {
      "text/plain": [
       "count    18031.000000\n",
       "mean       149.357495\n",
       "std         13.139639\n",
       "min         16.000000\n",
       "25%        150.000000\n",
       "50%        152.000000\n",
       "75%        154.000000\n",
       "max        160.000000\n",
       "Name: Description_Length, dtype: float64"
      ]
     },
     "execution_count": 48,
     "metadata": {},
     "output_type": "execute_result"
    }
   ],
   "source": [
    "# Calculating the length of each description\n",
    "df['Description_Length'] = df['Description'].apply(len)\n",
    "\n",
    "# Summary statistics for the description lengths\n",
    "description_length_stats = df['Description_Length'].describe()\n",
    "\n",
    "description_length_stats"
   ]
  },
  {
   "cell_type": "markdown",
   "metadata": {},
   "source": [
    "This shows that most descriptions are quite uniform in length, clustered around 150 characters."
   ]
  },
  {
   "cell_type": "markdown",
   "metadata": {},
   "source": [
    "### Country and Continent Distribution: Count attractions per country and continent to see geographic trends."
   ]
  },
  {
   "cell_type": "code",
   "execution_count": null,
   "metadata": {},
   "outputs": [],
   "source": [
    "# Count attractions per country and continent\n",
    "country_distribution = df['Country'].value_counts()\n",
    "continent_distribution = df['Continent'].value_counts()\n"
   ]
  },
  {
   "cell_type": "code",
   "execution_count": 53,
   "metadata": {},
   "outputs": [
    {
     "data": {
      "image/png": "[encoded data removed]",
      "text/plain": [
       "<Figure size 1080x720 with 2 Axes>"
      ]
     },
     "metadata": {},
     "output_type": "display_data"
    }
   ],
   "source": [
    "import matplotlib.pyplot as plt\n",
    "import seaborn as sns\n",
    "\n",
    "\n",
    "# Calculate percentages\n",
    "country_pct = (country_distribution / country_distribution.sum() * 100)\n",
    "continent_pct = (continent_distribution / continent_distribution.sum() * 100)\n",
    "\n",
    "# Create figure and subplots\n",
    "fig, (ax1, ax2) = plt.subplots(2, 1, figsize=(15, 10))\n",
    "\n",
    "# Plot country distribution\n",
    "sns.barplot(\n",
    "    x=country_pct.values,\n",
    "    y=country_pct.index,\n",
    "    ax=ax1,\n",
    "    color='#3b82f6'\n",
    ")\n",
    "ax1.set_title('Percentage of Attractions by Country', pad=15)\n",
    "ax1.set_xlabel('Percentage of Attractions')\n",
    "ax1.set_ylabel('Country')\n",
    "\n",
    "# Add percentage labels on country bars\n",
    "for i in ax1.patches:\n",
    "    width = i.get_width()\n",
    "    ax1.text(width, i.get_y() + i.get_height()/2,\n",
    "            f'{width:.1f}%',\n",
    "            ha='left', va='center')\n",
    "\n",
    "# Plot continent distribution\n",
    "sns.barplot(\n",
    "    x=continent_pct.values,\n",
    "    y=continent_pct.index,\n",
    "    ax=ax2,\n",
    "    color='#8b5cf6'\n",
    ")\n",
    "ax2.set_title('Percentage of Attractions by Continent', pad=15)\n",
    "ax2.set_xlabel('Percentage of Attractions')\n",
    "ax2.set_ylabel('Continent')\n",
    "\n",
    "# Add percentage labels on continent bars\n",
    "for i in ax2.patches:\n",
    "    width = i.get_width()\n",
    "    ax2.text(width, i.get_y() + i.get_height()/2,\n",
    "            f'{width:.1f}%',\n",
    "            ha='left', va='center')\n",
    "\n",
    "# Adjust layout\n",
    "plt.tight_layout()\n",
    "plt.show()"
   ]
  },
  {
   "cell_type": "code",
   "execution_count": null,
   "metadata": {},
   "outputs": [],
   "source": []
  }
 ],
 "metadata": {
  "kernelspec": {
   "display_name": "learn-env",
   "language": "python",
   "name": "python3"
  },
  "language_info": {
   "codemirror_mode": {
    "name": "ipython",
    "version": 3
   },
   "file_extension": ".py",
   "mimetype": "text/x-python",
   "name": "python",
   "nbconvert_exporter": "python",
   "pygments_lexer": "ipython3",
   "version": "3.8.5"
  }
 },
 "nbformat": 4,
 "nbformat_minor": 2
}
