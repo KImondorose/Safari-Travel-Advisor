{
 "cells": [
  {
   "cell_type": "markdown",
   "metadata": {},
   "source": [
    "# Introduction, Business Statement, and Business Understanding"
   ]
  },
  {
   "cell_type": "markdown",
   "metadata": {},
   "source": [
    "## Introduction and Problem Statement"
   ]
  },
  {
   "cell_type": "markdown",
   "metadata": {},
   "source": [
    "Traveling is one of the most cherished experiences globally, but finding the perfect destination that aligns with individual preferences, interests, or vacation goals remains a significant challenge for many. Travelers often spend hours researching potential destinations, sifting through reviews, or consulting friends and family to decide where to go. However, this process can be overwhelming due to the abundance of information available online, coupled with the difficulty of aligning their unique interests with the offerings of different destinations.\n",
    "\n",
    "This project aims to solve this problem by leveraging machine learning to suggest and predict personalized travel destinations based on users' interests or the activities they wish to engage in during their vacations. By analyzing destination characteristics, the model can provide tailored suggestions, saving users time and effort while increasing their satisfaction with travel planning.\n",
    "\n",
    "### Stakeholders:\n",
    "\n",
    "- Travel Enthusiasts: Individuals seeking new destinations that align with their personal interests (e.g., art lovers wanting to visit galleries, nature enthusiasts looking for scenic hikes).\n",
    "- Travel Agencies and Platforms: Businesses like Expedia, Booking.com, or TripAdvisor, which can integrate this  system to enhance their customer experience and increase user engagement.\n",
    "- Destination Marketers: Local tourism boards or global travel organizations that can use the model to promote destinations based on specific target audience preferences.\n",
    "\n",
    "These stakeholders would use the model to simplify decision-making, enhance customer experiences, and drive engagement or revenue growth by promoting destinations aligned with user interests."
   ]
  },
  {
   "cell_type": "markdown",
   "metadata": {},
   "source": [
    "## Business Understanding"
   ]
  },
  {
   "cell_type": "markdown",
   "metadata": {},
   "source": [
    "Travel planning involves a complex interplay of preferences, budgets, and activities, often leaving individuals overwhelmed by choices or dissatisfied with their final decisions. For example, someone interested in art galleries might unknowingly miss an underrated artistic hub. Similarly, adventure seekers might struggle to identify destinations with off-the-beaten-path hiking opportunities due to limited information."
   ]
  },
  {
   "cell_type": "markdown",
   "metadata": {},
   "source": [
    "# Objectives"
   ]
  },
  {
   "cell_type": "markdown",
   "metadata": {},
   "source": [
    "The primary objective of this project is:\n",
    "\n",
    "- To create a machine learning model that can interpret user preferences and predict suitable country destinations using text classification techniques.\n",
    "\n",
    "The secondary objectives are:\n",
    "- To analyze the common descriptors used for top destinations on travel websites, using Lonely Planet's sample data as a benchmark.\n",
    "- To compare attraction distribution across countries to identify imbalances, using Lonely Planet's sample data as a benchmark.\n",
    "- To determine which countries are overrepresented on travel websites.\n",
    "- To analyze international travel websites' marketing of Kenyan destinations and identify popular attractions and descriptive language used."
   ]
  },
  {
   "cell_type": "markdown",
   "metadata": {},
   "source": [
    "# Data Understanding"
   ]
  },
  {
   "cell_type": "markdown",
   "metadata": {},
   "source": [
    "The dataset consists of attraction descriptions and names of places from around the world. For each attraction, we have the following features:\n",
    "\n",
    "Attraction Name: The name of the attraction.\n",
    "\n",
    "Attraction Description: A short description of the attraction.\n",
    "\n",
    "Country: The country where the attraction is located (though this is not used directly in the classification task).\n",
    "\n",
    "Region (Label): The geographical region (continent) to which the attraction belongs (e.g., Africa, Asia, Europe).\n",
    "\n",
    "The goal is to predict the Region of each attraction based on its name and description."
   ]
  },
  {
   "cell_type": "markdown",
   "metadata": {},
   "source": [
    "## Data Limitations"
   ]
  },
  {
   "cell_type": "markdown",
   "metadata": {},
   "source": [
    "While the dataset provides a solid foundation for a destination prediction system, several limitations could impact the model's performance and generalizability:\n",
    "\n",
    "- Imbalanced Dataset: Some countries have significantly more attractions than others, potentially biasing the model toward over-represented countries. To address this, techniques like oversampling (e.g., SMOTE) or undersampling will be applied, and evaluation metrics like F1-score will ensure fair assessment across classes.\n",
    "\n",
    "- Non-English Text: Some descriptions contain non-English words, which may introduce noise as the primary target language is English. This will be handled by translating non-English text where feasible or filtering it out during preprocessing.\n",
    "\n",
    "- Text Cleaning: Raw text often includes irrelevant characters, stopwords, or inconsistencies. Cleaning will involve removing punctuation, stopwords, and applying lemmatization to standardize and refine the input data.\n",
    "\n",
    "- Limited Geographic Scope: The dataset covers only 25 countries, limiting global applicability. Future iterations can incorporate additional data from other platforms or regions to expand coverage, with potential use of transfer learning to adapt the model to new data.\n",
    "\n",
    "- By addressing these challenges through targeted preprocessing and robust modeling strategies, the project aims to ensure accurate and scalable predictions while laying the groundwork for future enhancements."
   ]
  },
  {
   "cell_type": "markdown",
   "metadata": {},
   "source": [
    "Importing relevant libraries"
   ]
  },
  {
   "cell_type": "code",
   "execution_count": 18,
   "metadata": {},
   "outputs": [],
   "source": [
    "# Import Statements\n",
    "\n",
    "import pandas as pd\n",
    "import numpy as np\n",
    "\n",
    "import requests\n",
    "from bs4 import BeautifulSoup\n",
    "\n",
    "\n",
    "import matplotlib.pyplot as plt\n",
    "import seaborn as sns\n",
    "import plotly.express as px\n",
    "\n",
    "import string\n",
    "import regex as re\n",
    "\n",
    "\n",
    "from nltk.corpus import stopwords\n",
    "# nltk.download('stopwords')\n",
    "# nltk.download('punkt')\n",
    "from nltk import word_tokenize\n",
    "from nltk import FreqDist\n",
    "\n",
    "import warnings\n",
    "warnings.filterwarnings('ignore')\n",
    "\n",
    "from sklearn.feature_extraction.text import CountVectorizer, TfidfVectorizer\n",
    "from sklearn.model_selection import train_test_split, GridSearchCV\n",
    "from sklearn.naive_bayes import MultinomialNB, GaussianNB\n",
    "from sklearn.ensemble import RandomForestClassifier\n",
    "from sklearn.metrics import recall_score, accuracy_score, f1_score, confusion_matrix, classification_report\n",
    "from sklearn.utils import class_weight\n",
    "from sklearn.pipeline import Pipeline\n",
    "from sklearn.base import TransformerMixin\n",
    "from sklearn import set_config\n",
    "\n",
    "from PIL import Image\n",
    "#from wordcloud import WordCloud\n",
    "#from textwrap import wrap\n",
    "\n",
    "import joblib"
   ]
  },
  {
   "cell_type": "markdown",
   "metadata": {},
   "source": [
    "Data Loading"
   ]
  },
  {
   "cell_type": "code",
   "execution_count": 19,
   "metadata": {},
   "outputs": [
    {
     "data": {
      "text/html": [
       "<div>\n",
       "<style scoped>\n",
       "    .dataframe tbody tr th:only-of-type {\n",
       "        vertical-align: middle;\n",
       "    }\n",
       "\n",
       "    .dataframe tbody tr th {\n",
       "        vertical-align: top;\n",
       "    }\n",
       "\n",
       "    .dataframe thead th {\n",
       "        text-align: right;\n",
       "    }\n",
       "</style>\n",
       "<table border=\"1\" class=\"dataframe\">\n",
       "  <thead>\n",
       "    <tr style=\"text-align: right;\">\n",
       "      <th></th>\n",
       "      <th>Attraction</th>\n",
       "      <th>Description</th>\n",
       "      <th>Country</th>\n",
       "      <th>Continent</th>\n",
       "    </tr>\n",
       "  </thead>\n",
       "  <tbody>\n",
       "    <tr>\n",
       "      <th>0</th>\n",
       "      <td>Amboseli National Park</td>\n",
       "      <td>Amboseli belongs in the elite of Kenyaâs nat...</td>\n",
       "      <td>Kenya</td>\n",
       "      <td>Africa</td>\n",
       "    </tr>\n",
       "    <tr>\n",
       "      <th>1</th>\n",
       "      <td>Fort Jesus</td>\n",
       "      <td>This 16th-century fort and Unesco World Herita...</td>\n",
       "      <td>Kenya</td>\n",
       "      <td>Africa</td>\n",
       "    </tr>\n",
       "    <tr>\n",
       "      <th>2</th>\n",
       "      <td>David Sheldrick Wildlife Trust</td>\n",
       "      <td>Occupying a plot within Nairobi National Park,...</td>\n",
       "      <td>Kenya</td>\n",
       "      <td>Africa</td>\n",
       "    </tr>\n",
       "    <tr>\n",
       "      <th>3</th>\n",
       "      <td>Nairobi National Park</td>\n",
       "      <td>Welcome to Kenyaâs most accessible yet incon...</td>\n",
       "      <td>Kenya</td>\n",
       "      <td>Africa</td>\n",
       "    </tr>\n",
       "    <tr>\n",
       "      <th>4</th>\n",
       "      <td>National Museum</td>\n",
       "      <td>Kenyaâs wonderful National Museum, housed in...</td>\n",
       "      <td>Kenya</td>\n",
       "      <td>Africa</td>\n",
       "    </tr>\n",
       "  </tbody>\n",
       "</table>\n",
       "</div>"
      ],
      "text/plain": [
       "                       Attraction  \\\n",
       "0          Amboseli National Park   \n",
       "1                      Fort Jesus   \n",
       "2  David Sheldrick Wildlife Trust   \n",
       "3           Nairobi National Park   \n",
       "4                 National Museum   \n",
       "\n",
       "                                         Description Country Continent  \n",
       "0  Amboseli belongs in the elite of Kenyaâs nat...   Kenya    Africa  \n",
       "1  This 16th-century fort and Unesco World Herita...   Kenya    Africa  \n",
       "2  Occupying a plot within Nairobi National Park,...   Kenya    Africa  \n",
       "3  Welcome to Kenyaâs most accessible yet incon...   Kenya    Africa  \n",
       "4  Kenyaâs wonderful National Museum, housed in...   Kenya    Africa  "
      ]
     },
     "execution_count": 19,
     "metadata": {},
     "output_type": "execute_result"
    }
   ],
   "source": [
    "df = pd.read_csv(r'C:\\Users\\ADMIN\\Desktop\\Capstone Project\\Travel-WordFinder\\Data\\best_travel_destinations_for_2025.csv', encoding='latin1')\n",
    "df.head()"
   ]
  },
  {
   "cell_type": "markdown",
   "metadata": {},
   "source": [
    "Handle missing data"
   ]
  },
  {
   "cell_type": "code",
   "execution_count": 20,
   "metadata": {},
   "outputs": [
    {
     "name": "stdout",
     "output_type": "stream",
     "text": [
      "                       Attraction  \\\n",
      "0          Amboseli National Park   \n",
      "1                      Fort Jesus   \n",
      "2  David Sheldrick Wildlife Trust   \n",
      "3           Nairobi National Park   \n",
      "4                 National Museum   \n",
      "\n",
      "                                         Description Country Continent  \n",
      "0  Amboseli belongs in the elite of Kenyaâs nat...   Kenya    Africa  \n",
      "1  This 16th-century fort and Unesco World Herita...   Kenya    Africa  \n",
      "2  Occupying a plot within Nairobi National Park,...   Kenya    Africa  \n",
      "3  Welcome to Kenyaâs most accessible yet incon...   Kenya    Africa  \n",
      "4  Kenyaâs wonderful National Museum, housed in...   Kenya    Africa  \n",
      "<class 'pandas.core.frame.DataFrame'>\n",
      "RangeIndex: 18040 entries, 0 to 18039\n",
      "Data columns (total 4 columns):\n",
      " #   Column       Non-Null Count  Dtype \n",
      "---  ------       --------------  ----- \n",
      " 0   Attraction   18040 non-null  object\n",
      " 1   Description  18040 non-null  object\n",
      " 2   Country      18040 non-null  object\n",
      " 3   Continent    18040 non-null  object\n",
      "dtypes: object(4)\n",
      "memory usage: 563.9+ KB\n",
      "None\n"
     ]
    }
   ],
   "source": [
    "# Check the first few rows to inspect the data\n",
    "print(df.head())\n",
    "\n",
    "# Check data types and for any missing values\n",
    "print(df.info())"
   ]
  },
  {
   "cell_type": "code",
   "execution_count": 21,
   "metadata": {},
   "outputs": [
    {
     "data": {
      "text/html": [
       "<div>\n",
       "<style scoped>\n",
       "    .dataframe tbody tr th:only-of-type {\n",
       "        vertical-align: middle;\n",
       "    }\n",
       "\n",
       "    .dataframe tbody tr th {\n",
       "        vertical-align: top;\n",
       "    }\n",
       "\n",
       "    .dataframe thead th {\n",
       "        text-align: right;\n",
       "    }\n",
       "</style>\n",
       "<table border=\"1\" class=\"dataframe\">\n",
       "  <thead>\n",
       "    <tr style=\"text-align: right;\">\n",
       "      <th></th>\n",
       "      <th>Attraction</th>\n",
       "      <th>Description</th>\n",
       "      <th>Country</th>\n",
       "      <th>Continent</th>\n",
       "    </tr>\n",
       "  </thead>\n",
       "  <tbody>\n",
       "    <tr>\n",
       "      <th>18035</th>\n",
       "      <td>Byzantine Basilica</td>\n",
       "      <td>Near the Citadel's archaeological museum is th...</td>\n",
       "      <td>Jordan</td>\n",
       "      <td>Middle East</td>\n",
       "    </tr>\n",
       "    <tr>\n",
       "      <th>18036</th>\n",
       "      <td>Sharif Al Hussein Bin Ali Mosque</td>\n",
       "      <td>This grand and beautiful gleaming white mosque...</td>\n",
       "      <td>Jordan</td>\n",
       "      <td>Middle East</td>\n",
       "    </tr>\n",
       "    <tr>\n",
       "      <th>18037</th>\n",
       "      <td>North Theatre</td>\n",
       "      <td>The North Theatre is overgrown and missing muc...</td>\n",
       "      <td>Jordan</td>\n",
       "      <td>Middle East</td>\n",
       "    </tr>\n",
       "    <tr>\n",
       "      <th>18038</th>\n",
       "      <td>Shops</td>\n",
       "      <td>The shells of a row of shops remain in the wes...</td>\n",
       "      <td>Jordan</td>\n",
       "      <td>Middle East</td>\n",
       "    </tr>\n",
       "    <tr>\n",
       "      <th>18039</th>\n",
       "      <td>Rakhabat Canyon</td>\n",
       "      <td>Close to Rum village, the labyrinthine siqs of...</td>\n",
       "      <td>Jordan</td>\n",
       "      <td>Middle East</td>\n",
       "    </tr>\n",
       "  </tbody>\n",
       "</table>\n",
       "</div>"
      ],
      "text/plain": [
       "                             Attraction  \\\n",
       "18035                Byzantine Basilica   \n",
       "18036  Sharif Al Hussein Bin Ali Mosque   \n",
       "18037                     North Theatre   \n",
       "18038                             Shops   \n",
       "18039                   Rakhabat Canyon   \n",
       "\n",
       "                                             Description Country    Continent  \n",
       "18035  Near the Citadel's archaeological museum is th...  Jordan  Middle East  \n",
       "18036  This grand and beautiful gleaming white mosque...  Jordan  Middle East  \n",
       "18037  The North Theatre is overgrown and missing muc...  Jordan  Middle East  \n",
       "18038  The shells of a row of shops remain in the wes...  Jordan  Middle East  \n",
       "18039  Close to Rum village, the labyrinthine siqs of...  Jordan  Middle East  "
      ]
     },
     "execution_count": 21,
     "metadata": {},
     "output_type": "execute_result"
    }
   ],
   "source": [
    "# Checking the bottom of our dataset\n",
    "df.tail()"
   ]
  },
  {
   "cell_type": "markdown",
   "metadata": {},
   "source": [
    "Removing Duplicates"
   ]
  },
  {
   "cell_type": "code",
   "execution_count": 22,
   "metadata": {},
   "outputs": [
    {
     "name": "stdout",
     "output_type": "stream",
     "text": [
      "9\n",
      "0\n"
     ]
    }
   ],
   "source": [
    "# Check for duplicate rows\n",
    "print(df.duplicated().sum())\n",
    "\n",
    "# Remove duplicates\n",
    "df = df.drop_duplicates()\n",
    "\n",
    "# Verify that duplicates are removed\n",
    "print(df.duplicated().sum())"
   ]
  },
  {
   "cell_type": "code",
   "execution_count": 23,
   "metadata": {},
   "outputs": [
    {
     "data": {
      "text/plain": [
       "(18031, 4)"
      ]
     },
     "execution_count": 23,
     "metadata": {},
     "output_type": "execute_result"
    }
   ],
   "source": [
    "df.shape"
   ]
  },
  {
   "cell_type": "markdown",
   "metadata": {},
   "source": [
    "Removing unneccesary white spaces"
   ]
  },
  {
   "cell_type": "code",
   "execution_count": 24,
   "metadata": {},
   "outputs": [
    {
     "name": "stdout",
     "output_type": "stream",
     "text": [
      "                       Attraction  \\\n",
      "0          Amboseli National Park   \n",
      "1                      Fort Jesus   \n",
      "2  David Sheldrick Wildlife Trust   \n",
      "3           Nairobi National Park   \n",
      "4                 National Museum   \n",
      "\n",
      "                                         Description  \n",
      "0  Amboseli belongs in the elite of Kenyaâs nat...  \n",
      "1  This 16th-century fort and Unesco World Herita...  \n",
      "2  Occupying a plot within Nairobi National Park,...  \n",
      "3  Welcome to Kenyaâs most accessible yet incon...  \n",
      "4  Kenyaâs wonderful National Museum, housed in...  \n"
     ]
    }
   ],
   "source": [
    "# Strip leading/trailing spaces from the text columns\n",
    "df['Attraction'] = df['Attraction'].str.strip()\n",
    "df['Description'] = df['Description'].str.strip()\n",
    "\n",
    "# Verify that the text is cleaned\n",
    "print(df[['Attraction', 'Description']].head())"
   ]
  },
  {
   "cell_type": "markdown",
   "metadata": {},
   "source": [
    "Text Normalization"
   ]
  },
  {
   "cell_type": "code",
   "execution_count": 25,
   "metadata": {},
   "outputs": [
    {
     "name": "stdout",
     "output_type": "stream",
     "text": [
      "                       Attraction  \\\n",
      "0          amboseli national park   \n",
      "1                      fort jesus   \n",
      "2  david sheldrick wildlife trust   \n",
      "3           nairobi national park   \n",
      "4                 national museum   \n",
      "\n",
      "                                         Description  \n",
      "0  amboseli belongs in the elite of kenyaâs nat...  \n",
      "1  this 16th-century fort and unesco world herita...  \n",
      "2  occupying a plot within nairobi national park,...  \n",
      "3  welcome to kenyaâs most accessible yet incon...  \n",
      "4  kenyaâs wonderful national museum, housed in...  \n"
     ]
    }
   ],
   "source": [
    "# Convert the 'Attraction' and 'Description' columns to lowercase\n",
    "df['Attraction'] = df['Attraction'].str.lower()\n",
    "df['Description'] = df['Description'].str.lower()\n",
    "\n",
    "# Verify the changes\n",
    "print(df[['Attraction', 'Description']].head())"
   ]
  },
  {
   "cell_type": "markdown",
   "metadata": {},
   "source": [
    "Removing special characters"
   ]
  },
  {
   "cell_type": "code",
   "execution_count": 26,
   "metadata": {},
   "outputs": [
    {
     "name": "stdout",
     "output_type": "stream",
     "text": [
      "                       Attraction  \\\n",
      "0          amboseli national park   \n",
      "1                      fort jesus   \n",
      "2  david sheldrick wildlife trust   \n",
      "3           nairobi national park   \n",
      "4                 national museum   \n",
      "\n",
      "                                         Description  \n",
      "0  amboseli belongs in the elite of kenyas nation...  \n",
      "1  this thcentury fort and unesco world heritage ...  \n",
      "2  occupying a plot within nairobi national park ...  \n",
      "3  welcome to kenyas most accessible yet incongru...  \n",
      "4  kenyas wonderful national museum housed in an ...  \n"
     ]
    }
   ],
   "source": [
    "\n",
    "# Function to remove non-alphanumeric characters\n",
    "def remove_special_characters(text):\n",
    "    return re.sub(r'[^a-zA-Z\\s]', '', text)\n",
    "\n",
    "# Apply this function to the 'Attraction' and 'Description' columns\n",
    "df['Attraction'] = df['Attraction'].apply(remove_special_characters)\n",
    "df['Description'] = df['Description'].apply(remove_special_characters)\n",
    "\n",
    "# Verify the changes\n",
    "print(df[['Attraction', 'Description']].head())"
   ]
  },
  {
   "cell_type": "markdown",
   "metadata": {},
   "source": [
    "Removing stop words\n"
   ]
  },
  {
   "cell_type": "code",
   "execution_count": 27,
   "metadata": {},
   "outputs": [
    {
     "name": "stdout",
     "output_type": "stream",
     "text": [
      "                       Attraction  \\\n",
      "0          amboseli national park   \n",
      "1                      fort jesus   \n",
      "2  david sheldrick wildlife trust   \n",
      "3           nairobi national park   \n",
      "4                 national museum   \n",
      "\n",
      "                                         Description  \n",
      "0  amboseli belongs elite kenyas national parks e...  \n",
      "1  thcentury fort unesco world heritage treasure ...  \n",
      "2  occupying plot within nairobi national park no...  \n",
      "3  welcome kenyas accessible yet incongruous safa...  \n",
      "4  kenyas wonderful national museum housed imposi...  \n"
     ]
    }
   ],
   "source": [
    "import nltk\n",
    "from nltk.corpus import stopwords\n",
    "\n",
    "# List of stopwords in English\n",
    "stop_words = set(stopwords.words('english'))\n",
    "\n",
    "# Function to remove stopwords\n",
    "def remove_stopwords(text):\n",
    "    tokens = text.split()\n",
    "    filtered_tokens = [word for word in tokens if word not in stop_words]\n",
    "    return ' '.join(filtered_tokens)\n",
    "\n",
    "# Apply the function to both columns\n",
    "df['Attraction'] = df['Attraction'].apply(remove_stopwords)\n",
    "df['Description'] = df['Description'].apply(remove_stopwords)\n",
    "\n",
    "# Verify the changes\n",
    "print(df[['Attraction', 'Description']].head())\n"
   ]
  },
  {
   "cell_type": "markdown",
   "metadata": {},
   "source": [
    "Handling Outliers"
   ]
  },
  {
   "cell_type": "code",
   "execution_count": 28,
   "metadata": {},
   "outputs": [
    {
     "name": "stdout",
     "output_type": "stream",
     "text": [
      "                       Attraction  \\\n",
      "0          amboseli national park   \n",
      "1                      fort jesus   \n",
      "2  david sheldrick wildlife trust   \n",
      "3           nairobi national park   \n",
      "4                 national museum   \n",
      "\n",
      "                                         Description Country Continent  \n",
      "0  amboseli belongs elite kenyas national parks e...   Kenya    Africa  \n",
      "1  thcentury fort unesco world heritage treasure ...   Kenya    Africa  \n",
      "2  occupying plot within nairobi national park no...   Kenya    Africa  \n",
      "3  welcome kenyas accessible yet incongruous safa...   Kenya    Africa  \n",
      "4  kenyas wonderful national museum housed imposi...   Kenya    Africa  \n"
     ]
    }
   ],
   "source": [
    "# Remove rows with short descriptions \n",
    "df = df[df['Description'].apply(lambda x: len(x.split()) > 5)]\n",
    "\n",
    "# Check the first few rows again\n",
    "print(df.head())"
   ]
  },
  {
   "cell_type": "markdown",
   "metadata": {},
   "source": [
    "Review and Save Cleaned data"
   ]
  },
  {
   "cell_type": "code",
   "execution_count": 29,
   "metadata": {},
   "outputs": [
    {
     "name": "stdout",
     "output_type": "stream",
     "text": [
      "<class 'pandas.core.frame.DataFrame'>\n",
      "Int64Index: 17959 entries, 0 to 18039\n",
      "Data columns (total 4 columns):\n",
      " #   Column       Non-Null Count  Dtype \n",
      "---  ------       --------------  ----- \n",
      " 0   Attraction   17959 non-null  object\n",
      " 1   Description  17959 non-null  object\n",
      " 2   Country      17959 non-null  object\n",
      " 3   Continent    17959 non-null  object\n",
      "dtypes: object(4)\n",
      "memory usage: 701.5+ KB\n",
      "None\n",
      "                       Attraction  \\\n",
      "0          amboseli national park   \n",
      "1                      fort jesus   \n",
      "2  david sheldrick wildlife trust   \n",
      "3           nairobi national park   \n",
      "4                 national museum   \n",
      "\n",
      "                                         Description Country Continent  \n",
      "0  amboseli belongs elite kenyas national parks e...   Kenya    Africa  \n",
      "1  thcentury fort unesco world heritage treasure ...   Kenya    Africa  \n",
      "2  occupying plot within nairobi national park no...   Kenya    Africa  \n",
      "3  welcome kenyas accessible yet incongruous safa...   Kenya    Africa  \n",
      "4  kenyas wonderful national museum housed imposi...   Kenya    Africa  \n",
      "Cleaned data saved to 'cleaned_attractions_data.csv'\n"
     ]
    }
   ],
   "source": [
    "# Final review of the cleaned data\n",
    "print(df.info())\n",
    "print(df.head())\n",
    "\n",
    "# Save the cleaned data to a new CSV file\n",
    "df.to_csv('cleaned_attractions_data.csv', index=False)\n",
    "print(\"Cleaned data saved to 'cleaned_attractions_data.csv'\")"
   ]
  },
  {
   "cell_type": "markdown",
   "metadata": {},
   "source": [
    "Handling class imbalance"
   ]
  },
  {
   "cell_type": "markdown",
   "metadata": {},
   "source": [
    "First, we should check if there is any class imbalance in the target column (Continent).\n",
    "This will show  the distribution of each continent in our dataset. If there is a significant imbalance (e.g., some continents having many more attractions than others), we'll need to take steps to address it."
   ]
  },
  {
   "cell_type": "code",
   "execution_count": 30,
   "metadata": {},
   "outputs": [
    {
     "name": "stdout",
     "output_type": "stream",
     "text": [
      "Asia             4447\n",
      "Europe           3598\n",
      "North America    3463\n",
      "Africa           1673\n",
      "Oceania          1672\n",
      "South America    1635\n",
      "Middle East      1471\n",
      "Name: Continent, dtype: int64\n"
     ]
    },
    {
     "data": {
      "image/png": "[encoded data removed]",
      "text/plain": [
       "<Figure size 720x432 with 1 Axes>"
      ]
     },
     "metadata": {
      "needs_background": "light"
     },
     "output_type": "display_data"
    }
   ],
   "source": [
    "# Check the distribution of the 'Continent' column\n",
    "continent_counts = df['Continent'].value_counts()\n",
    "print(continent_counts)\n",
    "\n",
    "# Plot the distribution of the 'Continent' column\n",
    "plt.figure(figsize=(10, 6))\n",
    "sns.countplot(x='Continent', data=df, palette='Set2')\n",
    "plt.title('Distribution of Continents in the Dataset')\n",
    "plt.xticks(rotation=45)\n",
    "plt.show()"
   ]
  },
  {
   "cell_type": "markdown",
   "metadata": {},
   "source": [
    "Yes, there is class imbalance, particularly between the Asia/Europe/North America group (which has much more data) and the Africa/Oceania/South America/Middle East group (which has fewer data points). we need to adress the imbalance"
   ]
  },
  {
   "cell_type": "code",
   "execution_count": 31,
   "metadata": {},
   "outputs": [
    {
     "name": "stdout",
     "output_type": "stream",
     "text": [
      "                       Attraction  \\\n",
      "0          amboseli national park   \n",
      "1                      fort jesus   \n",
      "2  david sheldrick wildlife trust   \n",
      "3           nairobi national park   \n",
      "4                 national museum   \n",
      "\n",
      "                                         Description Country Continent  \n",
      "0  amboseli belongs elite kenyas national parks e...   Kenya    Africa  \n",
      "1  thcentury fort unesco world heritage treasure ...   Kenya    Africa  \n",
      "2  occupying plot within nairobi national park no...   Kenya    Africa  \n",
      "3  welcome kenyas accessible yet incongruous safa...   Kenya    Africa  \n",
      "4  kenyas wonderful national museum housed imposi...   Kenya    Africa  \n",
      "Index(['Attraction', 'Description', 'Country', 'Continent'], dtype='object')\n"
     ]
    }
   ],
   "source": [
    "# Check the first few rows of the original DataFrame to verify column names\n",
    "print(df.head())\n",
    "\n",
    "# Check column names\n",
    "print(df.columns)"
   ]
  },
  {
   "cell_type": "markdown",
   "metadata": {},
   "source": [
    "### Feature Engineering:"
   ]
  }
 ],
 "metadata": {
  "kernelspec": {
   "display_name": "learn-env",
   "language": "python",
   "name": "python3"
  },
  "language_info": {
   "codemirror_mode": {
    "name": "ipython",
    "version": 3
   },
   "file_extension": ".py",
   "mimetype": "text/x-python",
   "name": "python",
   "nbconvert_exporter": "python",
   "pygments_lexer": "ipython3",
   "version": "3.8.5"
  }
 },
 "nbformat": 4,
 "nbformat_minor": 2
}
